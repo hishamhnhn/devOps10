{
 "cells": [
  {
   "cell_type": "code",
   "execution_count": 1,
   "id": "7592d814",
   "metadata": {},
   "outputs": [],
   "source": [
    "import cv2, numpy as np, os"
   ]
  },
  {
   "cell_type": "code",
   "execution_count": 2,
   "id": "efae44a9",
   "metadata": {},
   "outputs": [],
   "source": [
    "#working_dir = '/home/stephen/Desktop/shapes/data/'\n",
    "working_dir = 'E:\\data science\\data-set\\shapes/'\n",
    "os.chdir(working_dir)\n",
    "img_size = 60 #size of image fed into model\n",
    "\n",
    "def flatten(dimData, images):\n",
    "    images = np.array(images)\n",
    "    images = images.reshape(len(images), dimData)\n",
    "    images = images.astype('float32')\n",
    "    images /=255\n",
    "    return images"
   ]
  },
  {
   "cell_type": "code",
   "execution_count": 3,
   "id": "fe0810e0",
   "metadata": {},
   "outputs": [
    {
     "name": "stdout",
     "output_type": "stream",
     "text": [
      "triangle\n",
      "star\n",
      "square\n",
      "circle\n"
     ]
    }
   ],
   "source": [
    "#get data\n",
    "folders, labels, images = ['triangle', 'star', 'square', 'circle'], [], []\n",
    "for folder in folders:\n",
    "    print(folder)\n",
    "    for path in os.listdir(os.getcwd()+'/'+folder):\n",
    "        img = cv2.imread(folder+'/'+path,0)\n",
    "        #cv2.imshow('img', img)\n",
    "        #cv2.waitKey(1)\n",
    "        images.append(cv2.resize(img, (img_size, img_size)))\n",
    "        labels.append(folders.index(folder))\n"
   ]
  },
  {
   "cell_type": "code",
   "execution_count": 4,
   "id": "ff1078c3",
   "metadata": {},
   "outputs": [],
   "source": [
    "#break data into training and test sets\n",
    "to_train= 0\n",
    "train_images, test_images, train_labels, test_labels = [],[],[],[]\n",
    "for image, label in zip(images, labels):\n",
    "    if to_train<5:\n",
    "        train_images.append(image)\n",
    "        train_labels.append(label)\n",
    "        to_train+=1\n",
    "    else:\n",
    "        test_images.append(image)\n",
    "        test_labels.append(label)\n",
    "        to_train = 0"
   ]
  },
  {
   "cell_type": "code",
   "execution_count": 5,
   "id": "71e1b22b",
   "metadata": {},
   "outputs": [],
   "source": [
    "#-----------------keras time --> make the model\n",
    "from tensorflow.keras.utils import to_categorical\n",
    "\n",
    "#flatten data\n",
    "dataDim = np.prod(images[0].shape)\n",
    "train_data  = flatten(dataDim, train_images)\n",
    "test_data = flatten(dataDim, test_images)"
   ]
  },
  {
   "cell_type": "code",
   "execution_count": 6,
   "id": "eb455908",
   "metadata": {},
   "outputs": [],
   "source": [
    "#change labels to categorical\n",
    "train_labels = np.array(train_labels)\n",
    "test_labels = np.array(test_labels)\n",
    "train_labels_one_hot = to_categorical(train_labels)\n",
    "test_labels_one_hot = to_categorical(test_labels)"
   ]
  },
  {
   "cell_type": "code",
   "execution_count": 7,
   "id": "9f8af67c",
   "metadata": {},
   "outputs": [],
   "source": [
    "#determine the number of classes\n",
    "classes = np.unique(train_labels)\n",
    "nClasses  = len(classes)\n",
    "from keras.models import Sequential\n",
    "from keras.layers import Dense\n",
    "from keras.layers import Dropout"
   ]
  },
  {
   "cell_type": "code",
   "execution_count": 8,
   "id": "a11bea84",
   "metadata": {},
   "outputs": [
    {
     "name": "stdout",
     "output_type": "stream",
     "text": [
      "Epoch 1/50\n",
      "49/49 [==============================] - 6s 79ms/step - loss: 1.4812 - accuracy: 0.2493 - val_loss: 1.3919 - val_accuracy: 0.2485\n",
      "Epoch 2/50\n",
      "49/49 [==============================] - 4s 73ms/step - loss: 1.3966 - accuracy: 0.2551 - val_loss: 1.3853 - val_accuracy: 0.2513\n",
      "Epoch 3/50\n",
      "49/49 [==============================] - 4s 72ms/step - loss: 1.3765 - accuracy: 0.2726 - val_loss: 1.4998 - val_accuracy: 0.2485\n",
      "Epoch 4/50\n",
      "49/49 [==============================] - 3s 71ms/step - loss: 0.9286 - accuracy: 0.4735 - val_loss: 0.6751 - val_accuracy: 0.5679\n",
      "Epoch 5/50\n",
      "49/49 [==============================] - 3s 71ms/step - loss: 0.7409 - accuracy: 0.5857 - val_loss: 0.6039 - val_accuracy: 0.6545\n",
      "Epoch 6/50\n",
      "49/49 [==============================] - 3s 52ms/step - loss: 0.6654 - accuracy: 0.6637 - val_loss: 0.5448 - val_accuracy: 0.6934\n",
      "Epoch 7/50\n",
      "49/49 [==============================] - 2s 42ms/step - loss: 0.5083 - accuracy: 0.7843 - val_loss: 0.2137 - val_accuracy: 0.9655\n",
      "Epoch 8/50\n",
      "49/49 [==============================] - 2s 41ms/step - loss: 0.4373 - accuracy: 0.8535 - val_loss: 0.2703 - val_accuracy: 0.8982\n",
      "Epoch 9/50\n",
      "49/49 [==============================] - 2s 41ms/step - loss: 0.3239 - accuracy: 0.9032 - val_loss: 0.0478 - val_accuracy: 0.9880\n",
      "Epoch 10/50\n",
      "49/49 [==============================] - 2s 41ms/step - loss: 0.3148 - accuracy: 0.9189 - val_loss: 0.3253 - val_accuracy: 0.8693\n",
      "Epoch 11/50\n",
      "49/49 [==============================] - 2s 40ms/step - loss: 0.2032 - accuracy: 0.9544 - val_loss: 0.4540 - val_accuracy: 0.8749\n",
      "Epoch 12/50\n",
      "49/49 [==============================] - 2s 35ms/step - loss: 0.2752 - accuracy: 0.9379 - val_loss: 0.0319 - val_accuracy: 0.9944\n",
      "Epoch 13/50\n",
      "49/49 [==============================] - 2s 33ms/step - loss: 0.2112 - accuracy: 0.9516 - val_loss: 0.0368 - val_accuracy: 0.9928\n",
      "Epoch 14/50\n",
      "49/49 [==============================] - 2s 33ms/step - loss: 0.2071 - accuracy: 0.9431 - val_loss: 0.2275 - val_accuracy: 0.8609\n",
      "Epoch 15/50\n",
      "49/49 [==============================] - 2s 34ms/step - loss: 0.1380 - accuracy: 0.9602 - val_loss: 0.1485 - val_accuracy: 0.9587\n",
      "Epoch 16/50\n",
      "49/49 [==============================] - 2s 33ms/step - loss: 0.1480 - accuracy: 0.9620 - val_loss: 0.0477 - val_accuracy: 0.9872\n",
      "Epoch 17/50\n",
      "49/49 [==============================] - 2s 33ms/step - loss: 0.1361 - accuracy: 0.9652 - val_loss: 0.0301 - val_accuracy: 0.9936\n",
      "Epoch 18/50\n",
      "49/49 [==============================] - 2s 34ms/step - loss: 0.1459 - accuracy: 0.9672 - val_loss: 0.0262 - val_accuracy: 0.9928\n",
      "Epoch 19/50\n",
      "49/49 [==============================] - 2s 34ms/step - loss: 0.1826 - accuracy: 0.9594 - val_loss: 0.0322 - val_accuracy: 0.9896\n",
      "Epoch 20/50\n",
      "49/49 [==============================] - 2s 34ms/step - loss: 0.1384 - accuracy: 0.9725 - val_loss: 0.0454 - val_accuracy: 0.9868\n",
      "Epoch 21/50\n",
      "49/49 [==============================] - 2s 33ms/step - loss: 0.1229 - accuracy: 0.9649 - val_loss: 0.0265 - val_accuracy: 0.9936\n",
      "Epoch 22/50\n",
      "49/49 [==============================] - 2s 34ms/step - loss: 0.0976 - accuracy: 0.9840 - val_loss: 0.0228 - val_accuracy: 0.9944\n",
      "Epoch 23/50\n",
      "49/49 [==============================] - 2s 34ms/step - loss: 0.1243 - accuracy: 0.9727 - val_loss: 0.2954 - val_accuracy: 0.8613\n",
      "Epoch 24/50\n",
      "49/49 [==============================] - 2s 34ms/step - loss: 0.1489 - accuracy: 0.9659 - val_loss: 0.0204 - val_accuracy: 0.9956\n",
      "Epoch 25/50\n",
      "49/49 [==============================] - 2s 34ms/step - loss: 0.0662 - accuracy: 0.9840 - val_loss: 0.0221 - val_accuracy: 0.9952\n",
      "Epoch 26/50\n",
      "49/49 [==============================] - 2s 34ms/step - loss: 0.0891 - accuracy: 0.9799 - val_loss: 0.7618 - val_accuracy: 0.8681\n",
      "Epoch 27/50\n",
      "49/49 [==============================] - 2s 34ms/step - loss: 0.1183 - accuracy: 0.9747 - val_loss: 0.0229 - val_accuracy: 0.9944\n",
      "Epoch 28/50\n",
      "49/49 [==============================] - 2s 34ms/step - loss: 0.1068 - accuracy: 0.9757 - val_loss: 0.0348 - val_accuracy: 0.9916\n",
      "Epoch 29/50\n",
      "49/49 [==============================] - 2s 34ms/step - loss: 0.0975 - accuracy: 0.9759 - val_loss: 0.0188 - val_accuracy: 0.9948\n",
      "Epoch 30/50\n",
      "49/49 [==============================] - 2s 34ms/step - loss: 0.0839 - accuracy: 0.9795 - val_loss: 0.0162 - val_accuracy: 0.9964\n",
      "Epoch 31/50\n",
      "49/49 [==============================] - 2s 34ms/step - loss: 0.0600 - accuracy: 0.9822 - val_loss: 0.0183 - val_accuracy: 0.9960\n",
      "Epoch 32/50\n",
      "49/49 [==============================] - 2s 34ms/step - loss: 0.0810 - accuracy: 0.9835 - val_loss: 0.0609 - val_accuracy: 0.9904\n",
      "Epoch 33/50\n",
      "49/49 [==============================] - 2s 34ms/step - loss: 0.1183 - accuracy: 0.9764 - val_loss: 0.0173 - val_accuracy: 0.9964\n",
      "Epoch 34/50\n",
      "49/49 [==============================] - 2s 34ms/step - loss: 0.0386 - accuracy: 0.9905 - val_loss: 0.0124 - val_accuracy: 0.9968\n",
      "Epoch 35/50\n",
      "49/49 [==============================] - 2s 34ms/step - loss: 0.0767 - accuracy: 0.9821 - val_loss: 0.0152 - val_accuracy: 0.9968\n",
      "Epoch 36/50\n",
      "49/49 [==============================] - 2s 34ms/step - loss: 0.0710 - accuracy: 0.9831 - val_loss: 0.0126 - val_accuracy: 0.9972\n",
      "Epoch 37/50\n",
      "49/49 [==============================] - 2s 34ms/step - loss: 0.0481 - accuracy: 0.9861 - val_loss: 0.0163 - val_accuracy: 0.9968\n",
      "Epoch 38/50\n",
      "49/49 [==============================] - 2s 34ms/step - loss: 0.0801 - accuracy: 0.9818 - val_loss: 0.0137 - val_accuracy: 0.9968\n",
      "Epoch 39/50\n",
      "49/49 [==============================] - 2s 34ms/step - loss: 0.0620 - accuracy: 0.9846 - val_loss: 0.0133 - val_accuracy: 0.9964\n",
      "Epoch 40/50\n",
      "49/49 [==============================] - 2s 34ms/step - loss: 0.0451 - accuracy: 0.9887 - val_loss: 0.0101 - val_accuracy: 0.9980\n",
      "Epoch 41/50\n",
      "49/49 [==============================] - 2s 34ms/step - loss: 0.0939 - accuracy: 0.9848 - val_loss: 0.0235 - val_accuracy: 0.9940\n",
      "Epoch 42/50\n",
      "49/49 [==============================] - 2s 34ms/step - loss: 0.0321 - accuracy: 0.9910 - val_loss: 0.0550 - val_accuracy: 0.9904\n",
      "Epoch 43/50\n",
      "49/49 [==============================] - 2s 34ms/step - loss: 0.0618 - accuracy: 0.9845 - val_loss: 0.0936 - val_accuracy: 0.9743\n",
      "Epoch 44/50\n",
      "49/49 [==============================] - 2s 34ms/step - loss: 0.0701 - accuracy: 0.9833 - val_loss: 0.0126 - val_accuracy: 0.9976\n",
      "Epoch 45/50\n",
      "49/49 [==============================] - 2s 35ms/step - loss: 0.0228 - accuracy: 0.9948 - val_loss: 0.0111 - val_accuracy: 0.9980\n",
      "Epoch 46/50\n",
      "49/49 [==============================] - 2s 34ms/step - loss: 0.1055 - accuracy: 0.9852 - val_loss: 0.0131 - val_accuracy: 0.9964\n",
      "Epoch 47/50\n",
      "49/49 [==============================] - 2s 37ms/step - loss: 0.0291 - accuracy: 0.9924 - val_loss: 0.0110 - val_accuracy: 0.9980\n",
      "Epoch 48/50\n",
      "49/49 [==============================] - 2s 36ms/step - loss: 0.0717 - accuracy: 0.9844 - val_loss: 0.0129 - val_accuracy: 0.9976\n",
      "Epoch 49/50\n",
      "49/49 [==============================] - 2s 38ms/step - loss: 0.0950 - accuracy: 0.9809 - val_loss: 0.0121 - val_accuracy: 0.9980\n",
      "Epoch 50/50\n",
      "49/49 [==============================] - 2s 34ms/step - loss: 0.0517 - accuracy: 0.9861 - val_loss: 0.0095 - val_accuracy: 0.9984\n"
     ]
    }
   ],
   "source": [
    "#three layers\n",
    "#activation function: both\n",
    "#neurons: 256\n",
    "model = Sequential()\n",
    "model.add(Dense(256, activation = 'tanh', input_shape = (dataDim,)))\n",
    "model.add(Dropout(0.2))\n",
    "model.add(Dense(256, activation='tanh'))\n",
    "model.add(Dropout(0.2))\n",
    "model.add(Dense(256, activation='relu'))\n",
    "model.add(Dropout(0.2))\n",
    "model.add(Dense(nClasses, activation='softmax'))\n",
    "\n",
    "\n",
    "model.compile(optimizer='rmsprop', loss='categorical_crossentropy', metrics=['accuracy'])\n",
    "history = model.fit(train_data, train_labels_one_hot, batch_size = 256, epochs=50, verbose=1,\n",
    "                    validation_data=(test_data, test_labels_one_hot))"
   ]
  },
  {
   "cell_type": "code",
   "execution_count": 9,
   "id": "5df5a62a",
   "metadata": {},
   "outputs": [
    {
     "name": "stdout",
     "output_type": "stream",
     "text": [
      "78/78 [==============================] - 0s 3ms/step - loss: 0.0095 - accuracy: 0.9984\n",
      "Evaluation result on Test Data : Loss = 0.009507499635219574, accuracy = 0.9983968138694763\n",
      "INFO:tensorflow:Assets written to: E:\\data science\\data-set/assets\n"
     ]
    }
   ],
   "source": [
    "#test model\n",
    "[test_loss, test_acc] = model.evaluate(test_data, test_labels_one_hot)\n",
    "print(\"Evaluation result on Test Data : Loss = {}, accuracy = {}\".format(test_loss, test_acc))\n",
    "#save model\n",
    "model.save('E:\\data science\\data-set/')"
   ]
  },
  {
   "cell_type": "code",
   "execution_count": 10,
   "id": "c959bee5",
   "metadata": {},
   "outputs": [
    {
     "name": "stdout",
     "output_type": "stream",
     "text": [
      "dict_keys(['loss', 'accuracy', 'val_loss', 'val_accuracy'])\n"
     ]
    }
   ],
   "source": [
    "# list all data in history\n",
    "print(history.history.keys())"
   ]
  },
  {
   "cell_type": "code",
   "execution_count": 11,
   "id": "0543699c",
   "metadata": {},
   "outputs": [],
   "source": [
    "import csv\n",
    "data = ['loss']\n",
    "file = open('g4g.csv', 'w+', newline ='')\n",
    "\n",
    "with file:    \n",
    "    write = csv.writer(file)\n",
    "    write.writerows(data)"
   ]
  },
  {
   "cell_type": "code",
   "execution_count": 12,
   "id": "353b5d73",
   "metadata": {},
   "outputs": [
    {
     "data": {
      "image/png": "[encoded data removed]",
      "text/plain": [
       "<Figure size 432x288 with 1 Axes>"
      ]
     },
     "metadata": {
      "needs_background": "light"
     },
     "output_type": "display_data"
    }
   ],
   "source": [
    "import matplotlib.pyplot as plt\n",
    "\n",
    "# summarize history for loss\n",
    "plt.plot(history.history['loss'])\n",
    "plt.plot(history.history['val_loss'])\n",
    "plt.title('model loss')\n",
    "plt.ylabel('loss')\n",
    "plt.xlabel('epoch')\n",
    "plt.legend(['train', 'test'], loc='upper left')\n",
    "plt.show()"
   ]
  },
  {
   "cell_type": "code",
   "execution_count": 13,
   "id": "6020298b",
   "metadata": {},
   "outputs": [
    {
     "data": {
      "image/png": "[encoded data removed]",
      "text/plain": [
       "<Figure size 432x288 with 1 Axes>"
      ]
     },
     "metadata": {
      "needs_background": "light"
     },
     "output_type": "display_data"
    }
   ],
   "source": [
    "# summarize history for accuracy\n",
    "plt.plot(history.history['accuracy'])\n",
    "plt.plot(history.history['val_accuracy'])\n",
    "plt.title('model accuracy')\n",
    "plt.ylabel('accuracy')\n",
    "plt.xlabel('epoch')\n",
    "plt.legend(['train', 'test'], loc='upper left')\n",
    "plt.show()"
   ]
  },
  {
   "cell_type": "code",
   "execution_count": 21,
   "id": "df1478e9",
   "metadata": {},
   "outputs": [
    {
     "data": {
      "text/plain": [
       "[<matplotlib.lines.Line2D at 0xb556c43ca0>]"
      ]
     },
     "execution_count": 21,
     "metadata": {},
     "output_type": "execute_result"
    },
    {
     "data": {
      "image/png": "[encoded data removed]",
      "text/plain": [
       "<Figure size 432x288 with 1 Axes>"
      ]
     },
     "metadata": {
      "needs_background": "light"
     },
     "output_type": "display_data"
    }
   ],
   "source": [
    "plt.plot(history.history['loss'])"
   ]
  },
  {
   "cell_type": "code",
   "execution_count": 22,
   "id": "39e70a74",
   "metadata": {},
   "outputs": [
    {
     "data": {
      "text/plain": [
       "[1.4811526536941528,\n",
       " 1.3965702056884766,\n",
       " 1.376549243927002,\n",
       " 0.9285573363304138,\n",
       " 0.740899384021759,\n",
       " 0.6654332280158997,\n",
       " 0.5082789063453674,\n",
       " 0.4373454749584198,\n",
       " 0.32390064001083374,\n",
       " 0.31483104825019836,\n",
       " 0.20321904122829437,\n",
       " 0.27523162961006165,\n",
       " 0.21122369170188904,\n",
       " 0.2070963829755783,\n",
       " 0.13797752559185028,\n",
       " 0.14796897768974304,\n",
       " 0.1360522359609604,\n",
       " 0.1458558589220047,\n",
       " 0.1826394945383072,\n",
       " 0.13840873539447784,\n",
       " 0.12288317084312439,\n",
       " 0.09763073921203613,\n",
       " 0.12433077394962311,\n",
       " 0.14886493980884552,\n",
       " 0.0661550760269165,\n",
       " 0.08907774835824966,\n",
       " 0.1183287650346756,\n",
       " 0.1067938581109047,\n",
       " 0.09751137346029282,\n",
       " 0.08385995775461197,\n",
       " 0.06004335731267929,\n",
       " 0.08096872270107269,\n",
       " 0.11828707903623581,\n",
       " 0.038620688021183014,\n",
       " 0.07672128081321716,\n",
       " 0.07104015350341797,\n",
       " 0.048139505088329315,\n",
       " 0.08010322600603104,\n",
       " 0.061963360756635666,\n",
       " 0.04513431712985039,\n",
       " 0.09386732429265976,\n",
       " 0.032129719853401184,\n",
       " 0.061810724437236786,\n",
       " 0.0701361671090126,\n",
       " 0.022821053862571716,\n",
       " 0.105544313788414,\n",
       " 0.029085766524076462,\n",
       " 0.0717443972826004,\n",
       " 0.09495918452739716,\n",
       " 0.05170771852135658]"
      ]
     },
     "execution_count": 22,
     "metadata": {},
     "output_type": "execute_result"
    }
   ],
   "source": [
    "history.history['loss']"
   ]
  },
  {
   "cell_type": "code",
   "execution_count": 23,
   "id": "426d7d89",
   "metadata": {},
   "outputs": [
    {
     "data": {
      "text/plain": [
       "[1.3919403553009033,\n",
       " 1.3853185176849365,\n",
       " 1.4997597932815552,\n",
       " 0.6751251220703125,\n",
       " 0.6039291024208069,\n",
       " 0.544779896736145,\n",
       " 0.21368691325187683,\n",
       " 0.2703346014022827,\n",
       " 0.04777594283223152,\n",
       " 0.3253052532672882,\n",
       " 0.45398902893066406,\n",
       " 0.03188550844788551,\n",
       " 0.03675457835197449,\n",
       " 0.22753186523914337,\n",
       " 0.14846429228782654,\n",
       " 0.04772185534238815,\n",
       " 0.03013451211154461,\n",
       " 0.026246393099427223,\n",
       " 0.03217441588640213,\n",
       " 0.04544912651181221,\n",
       " 0.026454728096723557,\n",
       " 0.02284574881196022,\n",
       " 0.29538455605506897,\n",
       " 0.020395081490278244,\n",
       " 0.022085225209593773,\n",
       " 0.7618387937545776,\n",
       " 0.02288689836859703,\n",
       " 0.03483683988451958,\n",
       " 0.018810447305440903,\n",
       " 0.016217898577451706,\n",
       " 0.018307700753211975,\n",
       " 0.06087391451001167,\n",
       " 0.01727190986275673,\n",
       " 0.012406464666128159,\n",
       " 0.015221192501485348,\n",
       " 0.012585380114614964,\n",
       " 0.016332203522324562,\n",
       " 0.013651477172970772,\n",
       " 0.01326380018144846,\n",
       " 0.010067932307720184,\n",
       " 0.02354498952627182,\n",
       " 0.05495726689696312,\n",
       " 0.09364093095064163,\n",
       " 0.012553808279335499,\n",
       " 0.011063364334404469,\n",
       " 0.013075524009764194,\n",
       " 0.011021396145224571,\n",
       " 0.012864719144999981,\n",
       " 0.012055725790560246,\n",
       " 0.009507497772574425]"
      ]
     },
     "execution_count": 23,
     "metadata": {},
     "output_type": "execute_result"
    }
   ],
   "source": [
    "history.history['val_loss']"
   ]
  },
  {
   "cell_type": "code",
   "execution_count": 19,
   "id": "0ed2df5c",
   "metadata": {},
   "outputs": [],
   "source": [
    "# Importing library\n",
    "import csv\n",
    "  \n",
    "# data to be written row-wise in csv fil\n",
    "data = [history.history['accuracy']]\n",
    "  \n",
    "# opening the csv file in 'w+' mode\n",
    "file = open('uav-ML.csv', 'w+', newline ='')\n",
    "  \n",
    "# writing the data into the file\n",
    "with file:    \n",
    "    write = csv.writer(file)\n",
    "    write.writerows(data)"
   ]
  },
  {
   "cell_type": "code",
   "execution_count": null,
   "id": "c5ef8498",
   "metadata": {},
   "outputs": [],
   "source": []
  }
 ],
 "metadata": {
  "kernelspec": {
   "display_name": "Python 3",
   "language": "python",
   "name": "python3"
  },
  "language_info": {
   "codemirror_mode": {
    "name": "ipython",
    "version": 3
   },
   "file_extension": ".py",
   "mimetype": "text/x-python",
   "name": "python",
   "nbconvert_exporter": "python",
   "pygments_lexer": "ipython3",
   "version": "3.8.8"
  }
 },
 "nbformat": 4,
 "nbformat_minor": 5
}
