{
 "cells": [
  {
   "cell_type": "code",
   "execution_count": 2,
   "id": "9e87d37b",
   "metadata": {},
   "outputs": [],
   "source": [
    "a = 2\n",
    "b = 1"
   ]
  },
  {
   "cell_type": "code",
   "execution_count": 3,
   "id": "5199359c",
   "metadata": {},
   "outputs": [],
   "source": [
    "c = a+b"
   ]
  },
  {
   "cell_type": "code",
   "execution_count": 4,
   "id": "bdcb8164",
   "metadata": {},
   "outputs": [
    {
     "data": {
      "text/plain": [
       "3"
      ]
     },
     "execution_count": 4,
     "metadata": {},
     "output_type": "execute_result"
    }
   ],
   "source": [
    "c"
   ]
  },
  {
   "cell_type": "code",
   "execution_count": 5,
   "id": "4e1d9d3d",
   "metadata": {},
   "outputs": [
    {
     "name": "stdout",
     "output_type": "stream",
     "text": [
      "welcome to ML workshop\n"
     ]
    }
   ],
   "source": [
    "print('welcome to ML workshop')"
   ]
  },
  {
   "cell_type": "code",
   "execution_count": 6,
   "id": "f5ddd100",
   "metadata": {},
   "outputs": [
    {
     "data": {
      "text/plain": [
       "True"
      ]
     },
     "execution_count": 6,
     "metadata": {},
     "output_type": "execute_result"
    }
   ],
   "source": [
    "a>b"
   ]
  },
  {
   "cell_type": "code",
   "execution_count": 7,
   "id": "7371d4c3",
   "metadata": {},
   "outputs": [
    {
     "data": {
      "text/plain": [
       "False"
      ]
     },
     "execution_count": 7,
     "metadata": {},
     "output_type": "execute_result"
    }
   ],
   "source": [
    "a<b"
   ]
  },
  {
   "cell_type": "code",
   "execution_count": 10,
   "id": "c90378db",
   "metadata": {},
   "outputs": [
    {
     "data": {
      "text/plain": [
       "8"
      ]
     },
     "execution_count": 10,
     "metadata": {},
     "output_type": "execute_result"
    }
   ],
   "source": [
    "2**3"
   ]
  },
  {
   "cell_type": "code",
   "execution_count": 11,
   "id": "18457653",
   "metadata": {},
   "outputs": [
    {
     "data": {
      "text/plain": [
       "2.75"
      ]
     },
     "execution_count": 11,
     "metadata": {},
     "output_type": "execute_result"
    }
   ],
   "source": [
    "22/8"
   ]
  },
  {
   "cell_type": "code",
   "execution_count": 16,
   "id": "0718e811",
   "metadata": {},
   "outputs": [],
   "source": [
    "A = 'hello world'"
   ]
  },
  {
   "cell_type": "code",
   "execution_count": null,
   "id": "56c3271a",
   "metadata": {},
   "outputs": [],
   "source": [
    "name "
   ]
  },
  {
   "cell_type": "code",
   "execution_count": 22,
   "id": "2319019c",
   "metadata": {},
   "outputs": [
    {
     "name": "stdout",
     "output_type": "stream",
     "text": [
      "this is true\n"
     ]
    }
   ],
   "source": [
    "if 5>1:\n",
    "    print('this is true')"
   ]
  },
  {
   "cell_type": "code",
   "execution_count": 24,
   "id": "499b507c",
   "metadata": {},
   "outputs": [
    {
     "name": "stdout",
     "output_type": "stream",
     "text": [
      "above twenty\n",
      "and also above 30\n"
     ]
    }
   ],
   "source": [
    "x = 32 \n",
    "if x>20:\n",
    "    print('above twenty')\n",
    "    if x>30:\n",
    "        print('and also above 30')"
   ]
  },
  {
   "cell_type": "code",
   "execution_count": 28,
   "id": "a6855ef3",
   "metadata": {},
   "outputs": [
    {
     "data": {
      "text/plain": [
       "False"
      ]
     },
     "execution_count": 28,
     "metadata": {},
     "output_type": "execute_result"
    }
   ],
   "source": [
    "3!=3"
   ]
  },
  {
   "cell_type": "code",
   "execution_count": 34,
   "id": "1efc2fb2",
   "metadata": {},
   "outputs": [
    {
     "name": "stdout",
     "output_type": "stream",
     "text": [
      "a is less then b\n"
     ]
    }
   ],
   "source": [
    "a = 45 # input for a \n",
    "b = 44 # input for b \n",
    "if b>a:\n",
    "    print('b is greater then a ')\n",
    "elif b<a:\n",
    "    print('a is less then b')\n",
    "else: print('a and b are equal')\n"
   ]
  },
  {
   "cell_type": "code",
   "execution_count": 61,
   "id": "e4d09f0f",
   "metadata": {},
   "outputs": [
    {
     "name": "stdout",
     "output_type": "stream",
     "text": [
      "enter voltage =22\n",
      "enter current =1\n",
      "enter type power\n",
      "power is  13.675419301954616\n"
     ]
    }
   ],
   "source": [
    "import math as m\n",
    "V = int(input('enter voltage ='))\n",
    "I = int(input('enter current ='))\n",
    "cho = input('enter type ')\n",
    "\n",
    "if cho == \"power\":\n",
    "    P = V*I*(m.cos(0.9))\n",
    "    print(\"power is \",P)\n"
   ]
  },
  {
   "cell_type": "code",
   "execution_count": null,
   "id": "c54e384a",
   "metadata": {},
   "outputs": [],
   "source": []
  }
 ],
 "metadata": {
  "kernelspec": {
   "display_name": "Python 3",
   "language": "python",
   "name": "python3"
  },
  "language_info": {
   "codemirror_mode": {
    "name": "ipython",
    "version": 3
   },
   "file_extension": ".py",
   "mimetype": "text/x-python",
   "name": "python",
   "nbconvert_exporter": "python",
   "pygments_lexer": "ipython3",
   "version": "3.8.8"
  }
 },
 "nbformat": 4,
 "nbformat_minor": 5
}
