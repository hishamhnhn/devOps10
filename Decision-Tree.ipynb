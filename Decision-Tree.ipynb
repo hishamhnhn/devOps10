{
 "cells": [
  {
   "cell_type": "code",
   "execution_count": 2,
   "id": "c091d7b3",
   "metadata": {},
   "outputs": [
    {
     "data": {
      "text/html": [
       "<div>\n",
       "<style scoped>\n",
       "    .dataframe tbody tr th:only-of-type {\n",
       "        vertical-align: middle;\n",
       "    }\n",
       "\n",
       "    .dataframe tbody tr th {\n",
       "        vertical-align: top;\n",
       "    }\n",
       "\n",
       "    .dataframe thead th {\n",
       "        text-align: right;\n",
       "    }\n",
       "</style>\n",
       "<table border=\"1\" class=\"dataframe\">\n",
       "  <thead>\n",
       "    <tr style=\"text-align: right;\">\n",
       "      <th></th>\n",
       "      <th>age</th>\n",
       "      <th>height</th>\n",
       "      <th>weight</th>\n",
       "      <th>gender</th>\n",
       "      <th>likeness</th>\n",
       "    </tr>\n",
       "  </thead>\n",
       "  <tbody>\n",
       "    <tr>\n",
       "      <th>1</th>\n",
       "      <td>41</td>\n",
       "      <td>165.000</td>\n",
       "      <td>70.00</td>\n",
       "      <td>Male</td>\n",
       "      <td>Biryani</td>\n",
       "    </tr>\n",
       "    <tr>\n",
       "      <th>2</th>\n",
       "      <td>29</td>\n",
       "      <td>171.000</td>\n",
       "      <td>80.00</td>\n",
       "      <td>Male</td>\n",
       "      <td>Biryani</td>\n",
       "    </tr>\n",
       "    <tr>\n",
       "      <th>3</th>\n",
       "      <td>27</td>\n",
       "      <td>173.000</td>\n",
       "      <td>102.00</td>\n",
       "      <td>Male</td>\n",
       "      <td>Biryani</td>\n",
       "    </tr>\n",
       "    <tr>\n",
       "      <th>4</th>\n",
       "      <td>29</td>\n",
       "      <td>164.000</td>\n",
       "      <td>67.00</td>\n",
       "      <td>Male</td>\n",
       "      <td>Biryani</td>\n",
       "    </tr>\n",
       "    <tr>\n",
       "      <th>5</th>\n",
       "      <td>28</td>\n",
       "      <td>174.000</td>\n",
       "      <td>46.00</td>\n",
       "      <td>Female</td>\n",
       "      <td>Biryani</td>\n",
       "    </tr>\n",
       "    <tr>\n",
       "      <th>6</th>\n",
       "      <td>27</td>\n",
       "      <td>151.000</td>\n",
       "      <td>64.30</td>\n",
       "      <td>Female</td>\n",
       "      <td>Biryani</td>\n",
       "    </tr>\n",
       "    <tr>\n",
       "      <th>7</th>\n",
       "      <td>34</td>\n",
       "      <td>176.500</td>\n",
       "      <td>98.00</td>\n",
       "      <td>Male</td>\n",
       "      <td>Biryani</td>\n",
       "    </tr>\n",
       "    <tr>\n",
       "      <th>8</th>\n",
       "      <td>32</td>\n",
       "      <td>181.000</td>\n",
       "      <td>87.50</td>\n",
       "      <td>Male</td>\n",
       "      <td>Biryani</td>\n",
       "    </tr>\n",
       "    <tr>\n",
       "      <th>9</th>\n",
       "      <td>22</td>\n",
       "      <td>184.500</td>\n",
       "      <td>80.00</td>\n",
       "      <td>Male</td>\n",
       "      <td>Biryani</td>\n",
       "    </tr>\n",
       "    <tr>\n",
       "      <th>10</th>\n",
       "      <td>29</td>\n",
       "      <td>163.500</td>\n",
       "      <td>65.00</td>\n",
       "      <td>Male</td>\n",
       "      <td>Pakora</td>\n",
       "    </tr>\n",
       "    <tr>\n",
       "      <th>11</th>\n",
       "      <td>29</td>\n",
       "      <td>176.000</td>\n",
       "      <td>78.00</td>\n",
       "      <td>Male</td>\n",
       "      <td>Samosa</td>\n",
       "    </tr>\n",
       "    <tr>\n",
       "      <th>12</th>\n",
       "      <td>23</td>\n",
       "      <td>178.000</td>\n",
       "      <td>62.00</td>\n",
       "      <td>Male</td>\n",
       "      <td>Samosa</td>\n",
       "    </tr>\n",
       "    <tr>\n",
       "      <th>13</th>\n",
       "      <td>28</td>\n",
       "      <td>168.000</td>\n",
       "      <td>74.00</td>\n",
       "      <td>Male</td>\n",
       "      <td>Biryani</td>\n",
       "    </tr>\n",
       "    <tr>\n",
       "      <th>14</th>\n",
       "      <td>25</td>\n",
       "      <td>165.000</td>\n",
       "      <td>102.00</td>\n",
       "      <td>Male</td>\n",
       "      <td>Biryani</td>\n",
       "    </tr>\n",
       "    <tr>\n",
       "      <th>15</th>\n",
       "      <td>27</td>\n",
       "      <td>174.000</td>\n",
       "      <td>78.00</td>\n",
       "      <td>Male</td>\n",
       "      <td>Samosa</td>\n",
       "    </tr>\n",
       "    <tr>\n",
       "      <th>16</th>\n",
       "      <td>33</td>\n",
       "      <td>162.000</td>\n",
       "      <td>93.00</td>\n",
       "      <td>Male</td>\n",
       "      <td>Biryani</td>\n",
       "    </tr>\n",
       "    <tr>\n",
       "      <th>17</th>\n",
       "      <td>28</td>\n",
       "      <td>176.500</td>\n",
       "      <td>68.00</td>\n",
       "      <td>Male</td>\n",
       "      <td>Samosa</td>\n",
       "    </tr>\n",
       "    <tr>\n",
       "      <th>18</th>\n",
       "      <td>21</td>\n",
       "      <td>5.600</td>\n",
       "      <td>71.50</td>\n",
       "      <td>Male</td>\n",
       "      <td>Biryani</td>\n",
       "    </tr>\n",
       "    <tr>\n",
       "      <th>19</th>\n",
       "      <td>25</td>\n",
       "      <td>185.900</td>\n",
       "      <td>135.00</td>\n",
       "      <td>Male</td>\n",
       "      <td>Biryani</td>\n",
       "    </tr>\n",
       "    <tr>\n",
       "      <th>20</th>\n",
       "      <td>24</td>\n",
       "      <td>183.000</td>\n",
       "      <td>82.00</td>\n",
       "      <td>Male</td>\n",
       "      <td>Samosa</td>\n",
       "    </tr>\n",
       "    <tr>\n",
       "      <th>21</th>\n",
       "      <td>30</td>\n",
       "      <td>165.000</td>\n",
       "      <td>70.00</td>\n",
       "      <td>Female</td>\n",
       "      <td>Biryani</td>\n",
       "    </tr>\n",
       "    <tr>\n",
       "      <th>22</th>\n",
       "      <td>30</td>\n",
       "      <td>169.000</td>\n",
       "      <td>60.00</td>\n",
       "      <td>Male</td>\n",
       "      <td>Pakora</td>\n",
       "    </tr>\n",
       "    <tr>\n",
       "      <th>23</th>\n",
       "      <td>32</td>\n",
       "      <td>171.000</td>\n",
       "      <td>84.50</td>\n",
       "      <td>Male</td>\n",
       "      <td>Biryani</td>\n",
       "    </tr>\n",
       "    <tr>\n",
       "      <th>24</th>\n",
       "      <td>30</td>\n",
       "      <td>154.500</td>\n",
       "      <td>65.00</td>\n",
       "      <td>Female</td>\n",
       "      <td>Biryani</td>\n",
       "    </tr>\n",
       "    <tr>\n",
       "      <th>25</th>\n",
       "      <td>25</td>\n",
       "      <td>178.000</td>\n",
       "      <td>70.00</td>\n",
       "      <td>Male</td>\n",
       "      <td>Biryani</td>\n",
       "    </tr>\n",
       "    <tr>\n",
       "      <th>26</th>\n",
       "      <td>34</td>\n",
       "      <td>171.000</td>\n",
       "      <td>59.00</td>\n",
       "      <td>Male</td>\n",
       "      <td>Pakora</td>\n",
       "    </tr>\n",
       "    <tr>\n",
       "      <th>27</th>\n",
       "      <td>32</td>\n",
       "      <td>165.000</td>\n",
       "      <td>78.00</td>\n",
       "      <td>Male</td>\n",
       "      <td>Biryani</td>\n",
       "    </tr>\n",
       "    <tr>\n",
       "      <th>28</th>\n",
       "      <td>24</td>\n",
       "      <td>173.000</td>\n",
       "      <td>68.00</td>\n",
       "      <td>Male</td>\n",
       "      <td>Biryani</td>\n",
       "    </tr>\n",
       "    <tr>\n",
       "      <th>29</th>\n",
       "      <td>30</td>\n",
       "      <td>161.544</td>\n",
       "      <td>62.00</td>\n",
       "      <td>Female</td>\n",
       "      <td>Biryani</td>\n",
       "    </tr>\n",
       "    <tr>\n",
       "      <th>30</th>\n",
       "      <td>21</td>\n",
       "      <td>155.000</td>\n",
       "      <td>58.00</td>\n",
       "      <td>Female</td>\n",
       "      <td>Samosa</td>\n",
       "    </tr>\n",
       "    <tr>\n",
       "      <th>31</th>\n",
       "      <td>31</td>\n",
       "      <td>173.700</td>\n",
       "      <td>102.30</td>\n",
       "      <td>Male</td>\n",
       "      <td>Biryani</td>\n",
       "    </tr>\n",
       "    <tr>\n",
       "      <th>32</th>\n",
       "      <td>22</td>\n",
       "      <td>162.500</td>\n",
       "      <td>64.00</td>\n",
       "      <td>Male</td>\n",
       "      <td>Samosa</td>\n",
       "    </tr>\n",
       "    <tr>\n",
       "      <th>33</th>\n",
       "      <td>19</td>\n",
       "      <td>164.000</td>\n",
       "      <td>50.00</td>\n",
       "      <td>Male</td>\n",
       "      <td>Samosa</td>\n",
       "    </tr>\n",
       "    <tr>\n",
       "      <th>34</th>\n",
       "      <td>30</td>\n",
       "      <td>164.000</td>\n",
       "      <td>75.00</td>\n",
       "      <td>Male</td>\n",
       "      <td>Samosa</td>\n",
       "    </tr>\n",
       "    <tr>\n",
       "      <th>35</th>\n",
       "      <td>27</td>\n",
       "      <td>170.000</td>\n",
       "      <td>77.00</td>\n",
       "      <td>Male</td>\n",
       "      <td>Biryani</td>\n",
       "    </tr>\n",
       "    <tr>\n",
       "      <th>36</th>\n",
       "      <td>34</td>\n",
       "      <td>177.800</td>\n",
       "      <td>82.72</td>\n",
       "      <td>Male</td>\n",
       "      <td>Samosa</td>\n",
       "    </tr>\n",
       "    <tr>\n",
       "      <th>37</th>\n",
       "      <td>24</td>\n",
       "      <td>177.000</td>\n",
       "      <td>93.00</td>\n",
       "      <td>Male</td>\n",
       "      <td>Biryani</td>\n",
       "    </tr>\n",
       "    <tr>\n",
       "      <th>38</th>\n",
       "      <td>26</td>\n",
       "      <td>164.500</td>\n",
       "      <td>55.00</td>\n",
       "      <td>Male</td>\n",
       "      <td>Samosa</td>\n",
       "    </tr>\n",
       "    <tr>\n",
       "      <th>39</th>\n",
       "      <td>22</td>\n",
       "      <td>155.000</td>\n",
       "      <td>50.00</td>\n",
       "      <td>Male</td>\n",
       "      <td>Biryani</td>\n",
       "    </tr>\n",
       "  </tbody>\n",
       "</table>\n",
       "</div>"
      ],
      "text/plain": [
       "    age   height  weight  gender likeness\n",
       "1    41  165.000   70.00    Male  Biryani\n",
       "2    29  171.000   80.00    Male  Biryani\n",
       "3    27  173.000  102.00    Male  Biryani\n",
       "4    29  164.000   67.00    Male  Biryani\n",
       "5    28  174.000   46.00  Female  Biryani\n",
       "6    27  151.000   64.30  Female  Biryani\n",
       "7    34  176.500   98.00    Male  Biryani\n",
       "8    32  181.000   87.50    Male  Biryani\n",
       "9    22  184.500   80.00    Male  Biryani\n",
       "10   29  163.500   65.00    Male   Pakora\n",
       "11   29  176.000   78.00    Male   Samosa\n",
       "12   23  178.000   62.00    Male   Samosa\n",
       "13   28  168.000   74.00    Male  Biryani\n",
       "14   25  165.000  102.00    Male  Biryani\n",
       "15   27  174.000   78.00    Male   Samosa\n",
       "16   33  162.000   93.00    Male  Biryani\n",
       "17   28  176.500   68.00    Male   Samosa\n",
       "18   21    5.600   71.50    Male  Biryani\n",
       "19   25  185.900  135.00    Male  Biryani\n",
       "20   24  183.000   82.00    Male   Samosa\n",
       "21   30  165.000   70.00  Female  Biryani\n",
       "22   30  169.000   60.00    Male   Pakora\n",
       "23   32  171.000   84.50    Male  Biryani\n",
       "24   30  154.500   65.00  Female  Biryani\n",
       "25   25  178.000   70.00    Male  Biryani\n",
       "26   34  171.000   59.00    Male   Pakora\n",
       "27   32  165.000   78.00    Male  Biryani\n",
       "28   24  173.000   68.00    Male  Biryani\n",
       "29   30  161.544   62.00  Female  Biryani\n",
       "30   21  155.000   58.00  Female   Samosa\n",
       "31   31  173.700  102.30    Male  Biryani\n",
       "32   22  162.500   64.00    Male   Samosa\n",
       "33   19  164.000   50.00    Male   Samosa\n",
       "34   30  164.000   75.00    Male   Samosa\n",
       "35   27  170.000   77.00    Male  Biryani\n",
       "36   34  177.800   82.72    Male   Samosa\n",
       "37   24  177.000   93.00    Male  Biryani\n",
       "38   26  164.500   55.00    Male   Samosa\n",
       "39   22  155.000   50.00    Male  Biryani"
      ]
     },
     "execution_count": 2,
     "metadata": {},
     "output_type": "execute_result"
    }
   ],
   "source": [
    "import pandas as pd\n",
    "df = pd.read_csv('ML-chat-reg.csv')\n",
    "df[1:40]"
   ]
  },
  {
   "cell_type": "code",
   "execution_count": 3,
   "id": "d4d3b8cb",
   "metadata": {},
   "outputs": [
    {
     "data": {
      "text/plain": [
       "(245, 5)"
      ]
     },
     "execution_count": 3,
     "metadata": {},
     "output_type": "execute_result"
    }
   ],
   "source": [
    "df.shape"
   ]
  },
  {
   "cell_type": "markdown",
   "id": "69098818",
   "metadata": {},
   "source": [
    "### transform male in to integer (male to 1 and female to 0)"
   ]
  },
  {
   "cell_type": "code",
   "execution_count": 4,
   "id": "25757f75",
   "metadata": {},
   "outputs": [],
   "source": [
    "df['gender'] = df['gender'].replace('Male',1)\n",
    "df['gender'] = df['gender'].replace('Female',0)"
   ]
  },
  {
   "cell_type": "code",
   "execution_count": 5,
   "id": "53e849b8",
   "metadata": {},
   "outputs": [
    {
     "data": {
      "text/plain": [
       "(     age  height  weight  gender likeness\n",
       " 240   31   160.0    60.0       1   Pakora\n",
       " 241   26   172.0    70.0       1  Biryani\n",
       " 242   40   178.0    80.0       1  Biryani\n",
       " 243   25     5.7    65.0       1  Biryani\n",
       " 244   33   157.0    56.0       0   Samosa,\n",
       "    age   height  weight  gender likeness\n",
       " 0   27  170.688    76.0       1  Biryani\n",
       " 1   41  165.000    70.0       1  Biryani\n",
       " 2   29  171.000    80.0       1  Biryani\n",
       " 3   27  173.000   102.0       1  Biryani\n",
       " 4   29  164.000    67.0       1  Biryani)"
      ]
     },
     "execution_count": 5,
     "metadata": {},
     "output_type": "execute_result"
    }
   ],
   "source": [
    "df.tail(),df.head()"
   ]
  },
  {
   "cell_type": "code",
   "execution_count": 6,
   "id": "f4da0af7",
   "metadata": {},
   "outputs": [],
   "source": [
    "# selection of input and output variable\n",
    "x = df[['weight','gender']] # its 2d array so need to two [[]]\n",
    "y = df['likeness']"
   ]
  },
  {
   "cell_type": "code",
   "execution_count": 7,
   "id": "93511b95",
   "metadata": {},
   "outputs": [
    {
     "data": {
      "text/plain": [
       "0    Biryani\n",
       "1    Biryani\n",
       "2    Biryani\n",
       "3    Biryani\n",
       "4    Biryani\n",
       "Name: likeness, dtype: object"
      ]
     },
     "execution_count": 7,
     "metadata": {},
     "output_type": "execute_result"
    }
   ],
   "source": [
    "y.head()"
   ]
  },
  {
   "cell_type": "markdown",
   "id": "27dea4ad",
   "metadata": {},
   "source": [
    "### apply machine learning "
   ]
  },
  {
   "cell_type": "code",
   "execution_count": 8,
   "id": "3d344066",
   "metadata": {},
   "outputs": [
    {
     "name": "stderr",
     "output_type": "stream",
     "text": [
      "C:\\Users\\Hisham Khalil\\anaconda3\\lib\\site-packages\\sklearn\\base.py:450: UserWarning: X does not have valid feature names, but DecisionTreeClassifier was fitted with feature names\n",
      "  warnings.warn(\n"
     ]
    },
    {
     "data": {
      "text/plain": [
       "array(['Biryani'], dtype=object)"
      ]
     },
     "execution_count": 8,
     "metadata": {},
     "output_type": "execute_result"
    }
   ],
   "source": [
    "from sklearn.tree import DecisionTreeClassifier\n",
    "# create and fit the model (decision tree classifier)\n",
    "model = DecisionTreeClassifier().fit(x,y)\n",
    "\n",
    "#prediction\n",
    "\n",
    "model.predict([[23,0]])"
   ]
  },
  {
   "cell_type": "markdown",
   "id": "1c3128e7",
   "metadata": {},
   "source": [
    "### to check the accuracy of the model "
   ]
  },
  {
   "cell_type": "code",
   "execution_count": 9,
   "id": "7dc76727",
   "metadata": {},
   "outputs": [
    {
     "data": {
      "text/plain": [
       "array(['Biryani', 'Biryani', 'Pakora', 'Biryani', 'Samosa', 'Biryani',\n",
       "       'Pakora', 'Biryani', 'Biryani', 'Biryani', 'Samosa', 'Samosa',\n",
       "       'Samosa', 'Pakora', 'Biryani', 'Biryani', 'Biryani', 'Biryani',\n",
       "       'Biryani', 'Pakora', 'Biryani', 'Biryani', 'Biryani', 'Biryani',\n",
       "       'Biryani', 'Biryani', 'Biryani', 'Samosa', 'Biryani', 'Samosa',\n",
       "       'Biryani', 'Biryani', 'Biryani', 'Biryani', 'Biryani', 'Biryani',\n",
       "       'Biryani', 'Biryani', 'Samosa', 'Biryani', 'Biryani', 'Biryani',\n",
       "       'Biryani', 'Biryani', 'Biryani', 'Biryani', 'Biryani', 'Biryani',\n",
       "       'Biryani'], dtype=object)"
      ]
     },
     "execution_count": 9,
     "metadata": {},
     "output_type": "execute_result"
    }
   ],
   "source": [
    "# to do split test data and train data \n",
    "from sklearn.model_selection import train_test_split\n",
    "\n",
    "from sklearn.metrics import accuracy_score # import metrix from sk learn \n",
    "\n",
    "# splitting data set into the test and training \n",
    "x_train,x_test,y_train,y_test = train_test_split(x,y,test_size=0.2,random_state=0) # random_state = 0 or 1 or remove this which will give the change the accuracy every time \n",
    "\n",
    "#create model\n",
    "\n",
    "model = DecisionTreeClassifier()\n",
    "\n",
    "#fitting the model \n",
    "\n",
    "model.fit(x_train,y_train) # for the fitting the we have given the train data in term of x_train and output can be check in term of y_training \n",
    " \n",
    "# now for the prediction we are giving the test data which has been splitting before \n",
    "\n",
    "predicted_values = model.predict(x_test)\n",
    "\n",
    "predicted_values\n",
    "\n"
   ]
  },
  {
   "cell_type": "code",
   "execution_count": 10,
   "id": "4059a726",
   "metadata": {
    "scrolled": true
   },
   "outputs": [
    {
     "data": {
      "text/plain": [
       "0.6122448979591837"
      ]
     },
     "execution_count": 10,
     "metadata": {},
     "output_type": "execute_result"
    }
   ],
   "source": [
    "# check accuracy score \n",
    "\n",
    "score = accuracy_score(y_test,predicted_values)\n",
    "\n",
    "score  # find the score for data y_test"
   ]
  },
  {
   "cell_type": "markdown",
   "id": "f2725936",
   "metadata": {},
   "source": [
    "### how to train and save your model"
   ]
  },
  {
   "cell_type": "code",
   "execution_count": 11,
   "id": "17db2bb5",
   "metadata": {},
   "outputs": [
    {
     "data": {
      "text/plain": [
       "['food.joblib']"
      ]
     },
     "execution_count": 11,
     "metadata": {},
     "output_type": "execute_result"
    }
   ],
   "source": [
    "import pandas as pd\n",
    "from sklearn.tree import DecisionTreeClassifier\n",
    "from sklearn import tree\n",
    "import joblib \n",
    "\n",
    "model = DecisionTreeClassifier().fit(x,y) # take the whole data set for saving the trained model \n",
    "\n",
    "joblib.dump(model,\"food.joblib\") # save or store a model "
   ]
  },
  {
   "cell_type": "markdown",
   "id": "7fa954d7",
   "metadata": {},
   "source": [
    "### how to run the stored or saved model on a dataset (import and run)"
   ]
  },
  {
   "cell_type": "code",
   "execution_count": 18,
   "id": "4650d95b",
   "metadata": {},
   "outputs": [],
   "source": [
    "#graph \n",
    "\n",
    "model = DecisionTreeClassifier().fit(x,y)\n",
    "\n",
    "\n",
    "# graphic evaluation/ look into what happpend \n",
    "import graphviz\n",
    "\n",
    "\n",
    "dot_data=tree.export_graphviz(model,\n",
    "                    out_file='food1.dot',\n",
    "                    feature_names=['age','gender'],\n",
    "                    class_names=sorted(y.unique()), \n",
    "                    label='all',\n",
    "                    rounded=True,\n",
    "                    filled=True)\n"
   ]
  },
  {
   "cell_type": "code",
   "execution_count": 16,
   "id": "9a7113cc",
   "metadata": {},
   "outputs": [
    {
     "data": {
      "image/png": "[encoded data removed]",
      "text/plain": [
       "<Figure size 432x288 with 1 Axes>"
      ]
     },
     "metadata": {
      "needs_background": "light"
     },
     "output_type": "display_data"
    }
   ],
   "source": [
    "from sklearn.tree import plot_tree \n",
    "import matplotlib.pyplot as plt\n",
    "plt.figure()\n",
    "model = DecisionTreeClassifier().fit(x,y)\n",
    "plot_tree(model,filled=True)\n",
    "plt.title(\"decision tree\")\n",
    "plt.show()"
   ]
  },
  {
   "cell_type": "code",
   "execution_count": null,
   "id": "22e860f5",
   "metadata": {},
   "outputs": [],
   "source": []
  }
 ],
 "metadata": {
  "kernelspec": {
   "display_name": "Python 3",
   "language": "python",
   "name": "python3"
  },
  "language_info": {
   "codemirror_mode": {
    "name": "ipython",
    "version": 3
   },
   "file_extension": ".py",
   "mimetype": "text/x-python",
   "name": "python",
   "nbconvert_exporter": "python",
   "pygments_lexer": "ipython3",
   "version": "3.8.8"
  }
 },
 "nbformat": 4,
 "nbformat_minor": 5
}
