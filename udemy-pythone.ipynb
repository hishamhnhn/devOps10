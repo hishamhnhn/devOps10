{
 "cells": [
  {
   "cell_type": "code",
   "execution_count": 7,
   "id": "87e11864",
   "metadata": {},
   "outputs": [],
   "source": [
    "name = \"hisham khalil\""
   ]
  },
  {
   "cell_type": "code",
   "execution_count": 8,
   "id": "8be95e5a",
   "metadata": {},
   "outputs": [
    {
     "name": "stdout",
     "output_type": "stream",
     "text": [
      "hisham khalil\n"
     ]
    }
   ],
   "source": [
    "print(name)"
   ]
  },
  {
   "cell_type": "code",
   "execution_count": 11,
   "id": "a26008c2",
   "metadata": {},
   "outputs": [
    {
     "data": {
      "text/plain": [
       "'hsa hll'"
      ]
     },
     "execution_count": 11,
     "metadata": {},
     "output_type": "execute_result"
    }
   ],
   "source": [
    "name[::2]"
   ]
  },
  {
   "cell_type": "code",
   "execution_count": 21,
   "id": "3356ec71",
   "metadata": {},
   "outputs": [
    {
     "name": "stdout",
     "output_type": "stream",
     "text": [
      "the university Lahore of\n"
     ]
    }
   ],
   "source": [
    "print('the university {1} {0}'.format('of','Lahore') )"
   ]
  },
  {
   "cell_type": "code",
   "execution_count": 22,
   "id": "a37ca24f",
   "metadata": {},
   "outputs": [],
   "source": [
    "result = 5000/888888\n"
   ]
  },
  {
   "cell_type": "code",
   "execution_count": 23,
   "id": "567f6e53",
   "metadata": {},
   "outputs": [
    {
     "data": {
      "text/plain": [
       "0.005625005625005625"
      ]
     },
     "execution_count": 23,
     "metadata": {},
     "output_type": "execute_result"
    }
   ],
   "source": [
    "result"
   ]
  },
  {
   "cell_type": "code",
   "execution_count": 27,
   "id": "a279b488",
   "metadata": {},
   "outputs": [
    {
     "name": "stdout",
     "output_type": "stream",
     "text": [
      "this is value 0.0056\n"
     ]
    }
   ],
   "source": [
    "print('this is value {:1.4f}'.format(result))"
   ]
  },
  {
   "cell_type": "code",
   "execution_count": 29,
   "id": "e109aa1c",
   "metadata": {},
   "outputs": [],
   "source": [
    "name = \"UOL\""
   ]
  },
  {
   "cell_type": "code",
   "execution_count": 31,
   "id": "57a1434a",
   "metadata": {},
   "outputs": [
    {
     "name": "stdout",
     "output_type": "stream",
     "text": [
      "university name UOL\n"
     ]
    }
   ],
   "source": [
    "print(f'university name {name}')"
   ]
  },
  {
   "cell_type": "code",
   "execution_count": 43,
   "id": "0c76bc99",
   "metadata": {},
   "outputs": [],
   "source": [
    "price = {'cars':[2,3,5,8,9],'house': 500000}"
   ]
  },
  {
   "cell_type": "code",
   "execution_count": 44,
   "id": "ee85f0cf",
   "metadata": {},
   "outputs": [
    {
     "data": {
      "text/plain": [
       "[2, 3, 5, 8, 9]"
      ]
     },
     "execution_count": 44,
     "metadata": {},
     "output_type": "execute_result"
    }
   ],
   "source": [
    "price['cars']"
   ]
  },
  {
   "cell_type": "code",
   "execution_count": 45,
   "id": "ff13c061",
   "metadata": {},
   "outputs": [
    {
     "data": {
      "text/plain": [
       "5"
      ]
     },
     "execution_count": 45,
     "metadata": {},
     "output_type": "execute_result"
    }
   ],
   "source": [
    "price['cars'][2]"
   ]
  },
  {
   "cell_type": "code",
   "execution_count": 57,
   "id": "96981a18",
   "metadata": {},
   "outputs": [
    {
     "name": "stdout",
     "output_type": "stream",
     "text": [
      "Writing myfile.csv\n"
     ]
    }
   ],
   "source": [
    "%%writefile myfile.csv\n",
    "hello\n",
    "my \n",
    "working"
   ]
  },
  {
   "cell_type": "code",
   "execution_count": 58,
   "id": "e47f9218",
   "metadata": {},
   "outputs": [],
   "source": [
    "myfile = open('myfile.docx')"
   ]
  },
  {
   "cell_type": "code",
   "execution_count": 59,
   "id": "2cac164b",
   "metadata": {},
   "outputs": [
    {
     "data": {
      "text/plain": [
       "'C:\\\\Users\\\\Hisham Khalil'"
      ]
     },
     "execution_count": 59,
     "metadata": {},
     "output_type": "execute_result"
    }
   ],
   "source": [
    "pwd"
   ]
  },
  {
   "cell_type": "code",
   "execution_count": 66,
   "id": "5dbf65c0",
   "metadata": {},
   "outputs": [
    {
     "ename": "FileNotFoundError",
     "evalue": "[Errno 2] No such file or directory: 'contact.csv'",
     "output_type": "error",
     "traceback": [
      "\u001b[1;31m---------------------------------------------------------------------------\u001b[0m",
      "\u001b[1;31mFileNotFoundError\u001b[0m                         Traceback (most recent call last)",
      "\u001b[1;32m<ipython-input-66-e8ac19eaa896>\u001b[0m in \u001b[0;36m<module>\u001b[1;34m\u001b[0m\n\u001b[1;32m----> 1\u001b[1;33m \u001b[0mmyfile\u001b[0m \u001b[1;33m=\u001b[0m \u001b[0mopen\u001b[0m\u001b[1;33m(\u001b[0m\u001b[1;34m'contact.csv'\u001b[0m\u001b[1;33m)\u001b[0m\u001b[1;33m\u001b[0m\u001b[1;33m\u001b[0m\u001b[0m\n\u001b[0m",
      "\u001b[1;31mFileNotFoundError\u001b[0m: [Errno 2] No such file or directory: 'contact.csv'"
     ]
    }
   ],
   "source": [
    "myfile = open('contact.csv')"
   ]
  },
  {
   "cell_type": "code",
   "execution_count": 64,
   "id": "44581a3d",
   "metadata": {},
   "outputs": [
    {
     "data": {
      "text/plain": [
       "'\\n'"
      ]
     },
     "execution_count": 64,
     "metadata": {},
     "output_type": "execute_result"
    }
   ],
   "source": [
    "myfile.readline()"
   ]
  },
  {
   "cell_type": "code",
   "execution_count": 65,
   "id": "018041b6",
   "metadata": {},
   "outputs": [
    {
     "data": {
      "text/plain": [
       "'C:\\\\Users\\\\Hisham Khalil'"
      ]
     },
     "execution_count": 65,
     "metadata": {},
     "output_type": "execute_result"
    }
   ],
   "source": [
    "pwd"
   ]
  },
  {
   "cell_type": "code",
   "execution_count": null,
   "id": "9a1f5511",
   "metadata": {},
   "outputs": [],
   "source": []
  }
 ],
 "metadata": {
  "kernelspec": {
   "display_name": "Python 3",
   "language": "python",
   "name": "python3"
  },
  "language_info": {
   "codemirror_mode": {
    "name": "ipython",
    "version": 3
   },
   "file_extension": ".py",
   "mimetype": "text/x-python",
   "name": "python",
   "nbconvert_exporter": "python",
   "pygments_lexer": "ipython3",
   "version": "3.8.8"
  }
 },
 "nbformat": 4,
 "nbformat_minor": 5
}
