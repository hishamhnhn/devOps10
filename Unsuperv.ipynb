{
 "cells": [
  {
   "cell_type": "markdown",
   "id": "50f14355",
   "metadata": {},
   "source": [
    "### Machine learning workshop (4 Hrs) \n",
    "[vedio](https://www.youtube.com/watch?v=qBebmrWJn9g)\n",
    "![pic](ML-Types.png \"basic detail\") \n",
    "\n",
    "### Supervised learning \n",
    " Learinig like class with teacher and students \n",
    " \n",
    "### Unsupervised learning \n",
    " example reading news paper \n",
    "### Renforcement learning \n",
    " Punish and reward system\n",
    " and reward for kids as similar with that \n",
    " "
   ]
  },
  {
   "cell_type": "code",
   "execution_count": null,
   "id": "99424404",
   "metadata": {},
   "outputs": [],
   "source": []
  }
 ],
 "metadata": {
  "kernelspec": {
   "display_name": "Python 3",
   "language": "python",
   "name": "python3"
  },
  "language_info": {
   "codemirror_mode": {
    "name": "ipython",
    "version": 3
   },
   "file_extension": ".py",
   "mimetype": "text/x-python",
   "name": "python",
   "nbconvert_exporter": "python",
   "pygments_lexer": "ipython3",
   "version": "3.8.8"
  }
 },
 "nbformat": 4,
 "nbformat_minor": 5
}
