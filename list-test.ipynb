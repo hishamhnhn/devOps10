{
 "cells": [
  {
   "cell_type": "code",
   "execution_count": 2,
   "id": "c554beb8",
   "metadata": {},
   "outputs": [],
   "source": [
    "exp = [1,2,5,8,9,10,88,33,77]\n"
   ]
  },
  {
   "cell_type": "code",
   "execution_count": 3,
   "id": "202e1be7",
   "metadata": {},
   "outputs": [],
   "source": [
    "from random import shuffle "
   ]
  },
  {
   "cell_type": "code",
   "execution_count": 4,
   "id": "73c3d3f2",
   "metadata": {},
   "outputs": [],
   "source": [
    "shuffle(exp)"
   ]
  },
  {
   "cell_type": "code",
   "execution_count": 5,
   "id": "d4625639",
   "metadata": {},
   "outputs": [
    {
     "data": {
      "text/plain": [
       "[88, 1, 8, 33, 77, 9, 5, 10, 2]"
      ]
     },
     "execution_count": 5,
     "metadata": {},
     "output_type": "execute_result"
    }
   ],
   "source": [
    "exp"
   ]
  },
  {
   "cell_type": "code",
   "execution_count": 42,
   "id": "9271d7fa",
   "metadata": {},
   "outputs": [],
   "source": [
    "list = [1,5,8,9,7,1]"
   ]
  },
  {
   "cell_type": "code",
   "execution_count": 43,
   "id": "c5c82843",
   "metadata": {},
   "outputs": [
    {
     "data": {
      "text/plain": [
       "[1, 5, 8, 9, 7, 1]"
      ]
     },
     "execution_count": 43,
     "metadata": {},
     "output_type": "execute_result"
    }
   ],
   "source": [
    "list"
   ]
  },
  {
   "cell_type": "code",
   "execution_count": 45,
   "id": "2c6f01df",
   "metadata": {},
   "outputs": [
    {
     "name": "stdout",
     "output_type": "stream",
     "text": [
      "1\n",
      "5\n",
      "8\n",
      "9\n",
      "7\n",
      "1\n"
     ]
    }
   ],
   "source": [
    "for item in list:\n",
    "    print(item)"
   ]
  },
  {
   "cell_type": "code",
   "execution_count": 9,
   "id": "44204002",
   "metadata": {},
   "outputs": [
    {
     "data": {
      "text/plain": [
       "[1, 5, 8, 9, 7, 1]"
      ]
     },
     "execution_count": 9,
     "metadata": {},
     "output_type": "execute_result"
    }
   ],
   "source": [
    "list"
   ]
  },
  {
   "cell_type": "code",
   "execution_count": 10,
   "id": "22488424",
   "metadata": {},
   "outputs": [
    {
     "data": {
      "text/plain": [
       "[1, 7, 9, 8, 5, 1]"
      ]
     },
     "execution_count": 10,
     "metadata": {},
     "output_type": "execute_result"
    }
   ],
   "source": [
    "rlist = list[::-1]\n",
    "rlist"
   ]
  },
  {
   "cell_type": "markdown",
   "id": "da3b0316",
   "metadata": {},
   "source": [
    "level two problem remember to calling functions "
   ]
  },
  {
   "cell_type": "code",
   "execution_count": 52,
   "id": "a6e31872",
   "metadata": {},
   "outputs": [],
   "source": [
    "no = [1,6,6,6,6]"
   ]
  },
  {
   "cell_type": "code",
   "execution_count": 56,
   "id": "5beb2236",
   "metadata": {},
   "outputs": [
    {
     "data": {
      "text/plain": [
       "4"
      ]
     },
     "execution_count": 56,
     "metadata": {},
     "output_type": "execute_result"
    }
   ],
   "source": [
    "len(no)-1"
   ]
  },
  {
   "cell_type": "code",
   "execution_count": 53,
   "id": "a3c10896",
   "metadata": {},
   "outputs": [],
   "source": [
    "def check_func(no):\n",
    "    \n",
    "    for x in range(0,len(no)-1):\n",
    "        if no[x] == 1 and no[x+1] == 6:\n",
    "            return True  \n",
    "    return False \n"
   ]
  },
  {
   "cell_type": "code",
   "execution_count": 60,
   "id": "d0e4b64c",
   "metadata": {},
   "outputs": [
    {
     "data": {
      "text/plain": [
       "True"
      ]
     },
     "execution_count": 60,
     "metadata": {},
     "output_type": "execute_result"
    }
   ],
   "source": [
    "check_func([1,6,2])"
   ]
  },
  {
   "cell_type": "markdown",
   "id": "234b4d22",
   "metadata": {},
   "source": [
    "paper doll problem "
   ]
  },
  {
   "cell_type": "code",
   "execution_count": 14,
   "id": "4bdd6fec",
   "metadata": {},
   "outputs": [],
   "source": [
    "def name(text):\n",
    "    result = ''\n",
    "    for char in text:\n",
    "        result += char*5\n",
    "    return result "
   ]
  },
  {
   "cell_type": "code",
   "execution_count": 15,
   "id": "6c3029d2",
   "metadata": {},
   "outputs": [
    {
     "data": {
      "text/plain": [
       "'hhhhhiiiiissssshhhhhaaaaammmmm'"
      ]
     },
     "execution_count": 15,
     "metadata": {},
     "output_type": "execute_result"
    }
   ],
   "source": [
    "name('hisham')"
   ]
  },
  {
   "cell_type": "markdown",
   "id": "de1e3389",
   "metadata": {},
   "source": [
    "nested loop problems "
   ]
  },
  {
   "cell_type": "code",
   "execution_count": 16,
   "id": "8140c980",
   "metadata": {},
   "outputs": [],
   "source": [
    "def summ(no):\n",
    "    \n",
    "    total = 0\n",
    "    add = True\n",
    "    \n",
    "    for x in no:\n",
    "        while add:\n",
    "            if x!= 6:\n",
    "                total += x\n",
    "                break\n",
    "            else:    \n",
    "                add = False \n",
    "        while not add:\n",
    "            if x != 9:\n",
    "                break\n",
    "            else:   \n",
    "                add = True   \n",
    "                break   \n",
    "    return total\n"
   ]
  },
  {
   "cell_type": "code",
   "execution_count": 17,
   "id": "10319379",
   "metadata": {},
   "outputs": [
    {
     "data": {
      "text/plain": [
       "9"
      ]
     },
     "execution_count": 17,
     "metadata": {},
     "output_type": "execute_result"
    }
   ],
   "source": [
    "summ([1, 3, 5])"
   ]
  },
  {
   "cell_type": "code",
   "execution_count": 18,
   "id": "469529bb",
   "metadata": {},
   "outputs": [],
   "source": [
    "def sq(no):\n",
    "    return no**2"
   ]
  },
  {
   "cell_type": "code",
   "execution_count": 19,
   "id": "a498470b",
   "metadata": {},
   "outputs": [
    {
     "data": {
      "text/plain": [
       "4"
      ]
     },
     "execution_count": 19,
     "metadata": {},
     "output_type": "execute_result"
    }
   ],
   "source": [
    "sq(2)"
   ]
  },
  {
   "cell_type": "code",
   "execution_count": 20,
   "id": "28612cbb",
   "metadata": {},
   "outputs": [],
   "source": [
    "my_no = [1,2,3,4]"
   ]
  },
  {
   "cell_type": "code",
   "execution_count": 21,
   "id": "4ef40738",
   "metadata": {},
   "outputs": [
    {
     "name": "stdout",
     "output_type": "stream",
     "text": [
      "1\n",
      "4\n",
      "9\n",
      "16\n"
     ]
    }
   ],
   "source": [
    "for item in map(sq,my_no):\n",
    "    print(item)"
   ]
  },
  {
   "cell_type": "code",
   "execution_count": 22,
   "id": "9a1fde1c",
   "metadata": {},
   "outputs": [
    {
     "data": {
      "text/plain": [
       "[1, 5, 8, 9, 7, 1]"
      ]
     },
     "execution_count": 22,
     "metadata": {},
     "output_type": "execute_result"
    }
   ],
   "source": [
    "list"
   ]
  },
  {
   "cell_type": "code",
   "execution_count": 23,
   "id": "32ca0da3",
   "metadata": {},
   "outputs": [],
   "source": [
    "def splicer(mystring):\n",
    "    if len(mystring)%2 == 2:\n",
    "        return 'even'\n",
    "    else:\n",
    "        return mystring[0]"
   ]
  },
  {
   "cell_type": "code",
   "execution_count": 24,
   "id": "200279ca",
   "metadata": {},
   "outputs": [],
   "source": [
    "name = ['hisham','nigar','manaal']"
   ]
  },
  {
   "cell_type": "code",
   "execution_count": 25,
   "id": "4df2f0b0",
   "metadata": {},
   "outputs": [
    {
     "data": {
      "text/plain": [
       "<map at 0x6db1533490>"
      ]
     },
     "execution_count": 25,
     "metadata": {},
     "output_type": "execute_result"
    }
   ],
   "source": [
    "map(splicer,name)"
   ]
  },
  {
   "cell_type": "code",
   "execution_count": 26,
   "id": "4a1cbe57",
   "metadata": {},
   "outputs": [
    {
     "ename": "TypeError",
     "evalue": "'list' object is not callable",
     "output_type": "error",
     "traceback": [
      "\u001b[1;31m---------------------------------------------------------------------------\u001b[0m",
      "\u001b[1;31mTypeError\u001b[0m                                 Traceback (most recent call last)",
      "\u001b[1;32m<ipython-input-26-2093aaf22831>\u001b[0m in \u001b[0;36m<module>\u001b[1;34m\u001b[0m\n\u001b[1;32m----> 1\u001b[1;33m \u001b[0mlist\u001b[0m\u001b[1;33m(\u001b[0m\u001b[0mmap\u001b[0m\u001b[1;33m(\u001b[0m\u001b[0msplicer\u001b[0m\u001b[1;33m,\u001b[0m\u001b[0mname\u001b[0m\u001b[1;33m)\u001b[0m\u001b[1;33m)\u001b[0m\u001b[1;33m\u001b[0m\u001b[1;33m\u001b[0m\u001b[0m\n\u001b[0m",
      "\u001b[1;31mTypeError\u001b[0m: 'list' object is not callable"
     ]
    }
   ],
   "source": [
    "list(map(splicer,name))"
   ]
  },
  {
   "cell_type": "code",
   "execution_count": 27,
   "id": "1d5299cf",
   "metadata": {},
   "outputs": [],
   "source": [
    "num = [1,2,3,4,5,6]"
   ]
  },
  {
   "cell_type": "code",
   "execution_count": 28,
   "id": "e0680af9",
   "metadata": {},
   "outputs": [],
   "source": [
    "def check(num):\n",
    "    return num %2 == 0"
   ]
  },
  {
   "cell_type": "code",
   "execution_count": 29,
   "id": "b996d85f",
   "metadata": {},
   "outputs": [],
   "source": [
    "ch = filter(check,num)"
   ]
  },
  {
   "cell_type": "code",
   "execution_count": 30,
   "id": "111e8f1a",
   "metadata": {},
   "outputs": [
    {
     "ename": "TypeError",
     "evalue": "'list' object is not callable",
     "output_type": "error",
     "traceback": [
      "\u001b[1;31m---------------------------------------------------------------------------\u001b[0m",
      "\u001b[1;31mTypeError\u001b[0m                                 Traceback (most recent call last)",
      "\u001b[1;32m<ipython-input-30-9040b021d8cc>\u001b[0m in \u001b[0;36m<module>\u001b[1;34m\u001b[0m\n\u001b[1;32m----> 1\u001b[1;33m \u001b[0mf_ch\u001b[0m \u001b[1;33m=\u001b[0m \u001b[0mlist\u001b[0m\u001b[1;33m(\u001b[0m\u001b[0mch\u001b[0m\u001b[1;33m)\u001b[0m\u001b[1;33m\u001b[0m\u001b[1;33m\u001b[0m\u001b[0m\n\u001b[0m",
      "\u001b[1;31mTypeError\u001b[0m: 'list' object is not callable"
     ]
    }
   ],
   "source": [
    "f_ch = list(ch)"
   ]
  },
  {
   "cell_type": "code",
   "execution_count": 31,
   "id": "a64bd545",
   "metadata": {},
   "outputs": [
    {
     "ename": "TypeError",
     "evalue": "'list' object is not callable",
     "output_type": "error",
     "traceback": [
      "\u001b[1;31m---------------------------------------------------------------------------\u001b[0m",
      "\u001b[1;31mTypeError\u001b[0m                                 Traceback (most recent call last)",
      "\u001b[1;32m<ipython-input-31-a2a9db41cde7>\u001b[0m in \u001b[0;36m<module>\u001b[1;34m\u001b[0m\n\u001b[0;32m      7\u001b[0m \u001b[1;33m\u001b[0m\u001b[0m\n\u001b[0;32m      8\u001b[0m \u001b[1;33m\u001b[0m\u001b[0m\n\u001b[1;32m----> 9\u001b[1;33m \u001b[0mfiltered_numbers\u001b[0m \u001b[1;33m=\u001b[0m \u001b[0mlist\u001b[0m\u001b[1;33m(\u001b[0m\u001b[0man_iterator\u001b[0m\u001b[1;33m)\u001b[0m\u001b[1;33m\u001b[0m\u001b[1;33m\u001b[0m\u001b[0m\n\u001b[0m\u001b[0;32m     10\u001b[0m \u001b[1;33m\u001b[0m\u001b[0m\n\u001b[0;32m     11\u001b[0m \u001b[0mprint\u001b[0m\u001b[1;33m(\u001b[0m\u001b[0mfiltered_numbers\u001b[0m\u001b[1;33m)\u001b[0m\u001b[1;33m\u001b[0m\u001b[1;33m\u001b[0m\u001b[0m\n",
      "\u001b[1;31mTypeError\u001b[0m: 'list' object is not callable"
     ]
    }
   ],
   "source": [
    "numbers = [1, 2, 3, 4]\n",
    "\n",
    "def less_than_three(number):\n",
    "    return number < 3\n",
    "\n",
    "an_iterator = filter(less_than_three, numbers)\n",
    "\n",
    "\n",
    "filtered_numbers = list(an_iterator)\n",
    "\n",
    "print(filtered_numbers)"
   ]
  },
  {
   "cell_type": "code",
   "execution_count": 32,
   "id": "2e72ba5e",
   "metadata": {},
   "outputs": [
    {
     "data": {
      "text/plain": [
       "[1, 5, 8, 9, 7, 1]"
      ]
     },
     "execution_count": 32,
     "metadata": {},
     "output_type": "execute_result"
    }
   ],
   "source": [
    "list"
   ]
  },
  {
   "cell_type": "code",
   "execution_count": 33,
   "id": "957c1fdf",
   "metadata": {},
   "outputs": [
    {
     "data": {
      "text/plain": [
       "<function __main__.<lambda>(sq=[1, 2, 3, 4, 5, 6])>"
      ]
     },
     "execution_count": 33,
     "metadata": {},
     "output_type": "execute_result"
    }
   ],
   "source": [
    "lambda sq = num: mum** 2 "
   ]
  },
  {
   "cell_type": "code",
   "execution_count": 34,
   "id": "a170fa59",
   "metadata": {},
   "outputs": [
    {
     "data": {
      "text/plain": [
       "25"
      ]
     },
     "execution_count": 34,
     "metadata": {},
     "output_type": "execute_result"
    }
   ],
   "source": [
    "sq(5)"
   ]
  },
  {
   "cell_type": "code",
   "execution_count": 35,
   "id": "6c2dcdcc",
   "metadata": {},
   "outputs": [],
   "source": [
    "mynum = [1,2,3,4,5]"
   ]
  },
  {
   "cell_type": "code",
   "execution_count": 36,
   "id": "2b183aae",
   "metadata": {},
   "outputs": [
    {
     "ename": "TypeError",
     "evalue": "'list' object is not callable",
     "output_type": "error",
     "traceback": [
      "\u001b[1;31m---------------------------------------------------------------------------\u001b[0m",
      "\u001b[1;31mTypeError\u001b[0m                                 Traceback (most recent call last)",
      "\u001b[1;32m<ipython-input-36-3b557c39d126>\u001b[0m in \u001b[0;36m<module>\u001b[1;34m\u001b[0m\n\u001b[1;32m----> 1\u001b[1;33m \u001b[0mlist\u001b[0m\u001b[1;33m(\u001b[0m\u001b[0mmap\u001b[0m\u001b[1;33m(\u001b[0m\u001b[1;32mlambda\u001b[0m \u001b[0mnum\u001b[0m\u001b[1;33m:\u001b[0m \u001b[0mnum\u001b[0m\u001b[1;33m**\u001b[0m\u001b[1;36m2\u001b[0m\u001b[1;33m,\u001b[0m\u001b[0mmynum\u001b[0m\u001b[1;33m)\u001b[0m\u001b[1;33m)\u001b[0m\u001b[1;33m\u001b[0m\u001b[1;33m\u001b[0m\u001b[0m\n\u001b[0m",
      "\u001b[1;31mTypeError\u001b[0m: 'list' object is not callable"
     ]
    }
   ],
   "source": [
    "list(map(lambda num: num**2,mynum))"
   ]
  },
  {
   "cell_type": "markdown",
   "id": "9f0bfe35",
   "metadata": {},
   "source": [
    "LEGB Rule: \n",
    "local \n",
    "\n",
    "local variable call first "
   ]
  },
  {
   "cell_type": "code",
   "execution_count": 20,
   "id": "a125be95",
   "metadata": {},
   "outputs": [],
   "source": [
    "# globle \n",
    "name = 'google'\n",
    "\n",
    "def web():\n",
    "    # enclosing\n",
    "    name = 'gmail'\n",
    "    def opening():\n",
    "        #local variable \n",
    "        print('open '+name)\n",
    "        \n",
    "    opening()\n",
    "    "
   ]
  },
  {
   "cell_type": "code",
   "execution_count": 21,
   "id": "3be582ed",
   "metadata": {},
   "outputs": [
    {
     "name": "stdout",
     "output_type": "stream",
     "text": [
      "open gmail\n"
     ]
    }
   ],
   "source": [
    "web()"
   ]
  },
  {
   "cell_type": "code",
   "execution_count": 39,
   "id": "a4c5dfed",
   "metadata": {},
   "outputs": [],
   "source": [
    "def multiply(n):\n",
    "    pass"
   ]
  },
  {
   "cell_type": "code",
   "execution_count": 40,
   "id": "c29f408f",
   "metadata": {},
   "outputs": [],
   "source": [
    "n = [1,2,2]"
   ]
  },
  {
   "cell_type": "code",
   "execution_count": 41,
   "id": "c113636a",
   "metadata": {},
   "outputs": [],
   "source": [
    "multiply(n)"
   ]
  },
  {
   "cell_type": "code",
   "execution_count": 42,
   "id": "9b8221a9",
   "metadata": {},
   "outputs": [
    {
     "data": {
      "text/plain": [
       "True"
      ]
     },
     "execution_count": 42,
     "metadata": {},
     "output_type": "execute_result"
    }
   ],
   "source": [
    "2 in range(0,5)"
   ]
  },
  {
   "cell_type": "markdown",
   "id": "57eda30e",
   "metadata": {},
   "source": [
    "range checker "
   ]
  },
  {
   "cell_type": "code",
   "execution_count": 43,
   "id": "49a50d40",
   "metadata": {},
   "outputs": [],
   "source": [
    "def ran(num,low,high):\n",
    "    if num in range(low,high+1):\n",
    "            print(f\"{num}' is in {low} and {high}\")\n",
    "    else:\n",
    "        print('not in range')"
   ]
  },
  {
   "cell_type": "code",
   "execution_count": 44,
   "id": "2f3c1785",
   "metadata": {},
   "outputs": [
    {
     "name": "stdout",
     "output_type": "stream",
     "text": [
      "5' is in 0 and 7\n"
     ]
    }
   ],
   "source": [
    "ran(5,0,7)"
   ]
  },
  {
   "cell_type": "markdown",
   "id": "57cbc3b4",
   "metadata": {},
   "source": [
    "determin upper case letter and lower case letters "
   ]
  },
  {
   "cell_type": "code",
   "execution_count": 45,
   "id": "04186b95",
   "metadata": {},
   "outputs": [],
   "source": [
    "def up_low(s):\n",
    "    d = {'upper':0, 'lower':0} # for dictionary method\n",
    "    #lowercase = 0 \n",
    "    #uppercase = 0\n",
    "    \n",
    "    for char in s:\n",
    "        if char.isupper():\n",
    "            d['upper'] += 1\n",
    "        elif char.islower():\n",
    "            d['lower'] += 1\n",
    "        else:\n",
    "            pass\n",
    "    print(f\"original string: {s}\")\n",
    "    print(f\"lower case string: {d['upper']}\")\n",
    "    print(f\"upper case string: {d['lower']}\")"
   ]
  },
  {
   "cell_type": "code",
   "execution_count": 46,
   "id": "735f1f64",
   "metadata": {},
   "outputs": [
    {
     "name": "stdout",
     "output_type": "stream",
     "text": [
      "original string: i am Dr Hisham\n",
      "lower case string: 2\n",
      "upper case string: 9\n"
     ]
    }
   ],
   "source": [
    "up_low(\"i am Dr Hisham\")"
   ]
  },
  {
   "cell_type": "markdown",
   "id": "48db7664",
   "metadata": {},
   "source": [
    "finding unique number is the list "
   ]
  },
  {
   "cell_type": "code",
   "execution_count": 47,
   "id": "c365b108",
   "metadata": {},
   "outputs": [],
   "source": [
    "def uni_list(lst):\n",
    "    seen = [] # its empty list \n",
    "    for item in lst: # for loop for indexing \n",
    "        if item not in seen: # finding the number with is which are already in the list \n",
    "            seen.append(item)\n",
    "    return seen # its retrning the list which is given "
   ]
  },
  {
   "cell_type": "code",
   "execution_count": 48,
   "id": "dbeab13e",
   "metadata": {},
   "outputs": [
    {
     "data": {
      "text/plain": [
       "[1, 2, 3, 4, 5]"
      ]
     },
     "execution_count": 48,
     "metadata": {},
     "output_type": "execute_result"
    }
   ],
   "source": [
    "uni_list([1,1,1,2,2,2,3,3,3,4,4,4,4,5,5,5])"
   ]
  },
  {
   "cell_type": "markdown",
   "id": "970ab043",
   "metadata": {},
   "source": [
    "list elements multiplication "
   ]
  },
  {
   "cell_type": "code",
   "execution_count": 18,
   "id": "6c8e2f3a",
   "metadata": {},
   "outputs": [],
   "source": [
    "def mult(num):\n",
    "    total = 1\n",
    "    for x in num:\n",
    "        total = total * x\n",
    "    return total "
   ]
  },
  {
   "cell_type": "code",
   "execution_count": 19,
   "id": "433a359a",
   "metadata": {},
   "outputs": [
    {
     "data": {
      "text/plain": [
       "80"
      ]
     },
     "execution_count": 19,
     "metadata": {},
     "output_type": "execute_result"
    }
   ],
   "source": [
    "mult([1,2,8,5])"
   ]
  },
  {
   "cell_type": "code",
   "execution_count": 51,
   "id": "04cc9bfe",
   "metadata": {},
   "outputs": [],
   "source": [
    "import string\n",
    "\n",
    "def inpangrm(str1, alphabet = string.ascii_lowercase):\n",
    "    #create a set of alphabet\n",
    "    alphaset = set(alphabet)\n",
    "    print(alphaset)\n",
    "    #removing space\n",
    "    str1 =str1.replace(' ','')\n",
    "    print(str1)\n",
    "    str1 = str1.lower()\n",
    "    print(str1)\n",
    "    str1 = set(str1)\n",
    "    print(str1)\n",
    "    return str1 == alphaset"
   ]
  },
  {
   "cell_type": "code",
   "execution_count": 52,
   "id": "1b5b023d",
   "metadata": {},
   "outputs": [
    {
     "name": "stdout",
     "output_type": "stream",
     "text": [
      "{'h', 'v', 'a', 's', 'x', 'y', 'm', 'l', 'j', 't', 'o', 'g', 'c', 'd', 'z', 'i', 'r', 'b', 'p', 'q', 'u', 'e', 'f', 'k', 'n', 'w'}\n",
      "Thequickbrownfoxjumpsoverthelazydog\n",
      "thequickbrownfoxjumpsoverthelazydog\n",
      "{'h', 'v', 'a', 's', 'x', 'y', 'm', 'j', 'l', 't', 'o', 'g', 'c', 'z', 'd', 'i', 'r', 'b', 'u', 'q', 'p', 'e', 'f', 'k', 'n', 'w'}\n"
     ]
    },
    {
     "data": {
      "text/plain": [
       "True"
      ]
     },
     "execution_count": 52,
     "metadata": {},
     "output_type": "execute_result"
    }
   ],
   "source": [
    "inpangrm(\"The quick brown fox jumps over the lazy dog\")"
   ]
  },
  {
   "cell_type": "markdown",
   "id": "18281159",
   "metadata": {},
   "source": [
    "game making using python \n",
    "cross and ticks "
   ]
  },
  {
   "cell_type": "code",
   "execution_count": null,
   "id": "ef94589f",
   "metadata": {},
   "outputs": [],
   "source": []
  },
  {
   "cell_type": "code",
   "execution_count": 68,
   "id": "1c443df8",
   "metadata": {},
   "outputs": [],
   "source": [
    "  acceptable_range = range(0,10)"
   ]
  },
  {
   "cell_type": "code",
   "execution_count": 73,
   "id": "c267e0a5",
   "metadata": {},
   "outputs": [],
   "source": [
    "def user_choice():\n",
    "    \n",
    "    choice = 'wrong'\n",
    "    \n",
    "    acceptable_range = range(0,10)\n",
    "    within_range = False\n",
    "    \n",
    "    while choice.isdigit() == False or within_range == False:\n",
    "        \n",
    "        #Digit check\n",
    "        choice = input(\"enter number\")\n",
    "        if choice.isdigit() == False:\n",
    "            print(\"Enter again\")\n",
    "        #range check\n",
    "        if choice.isdigit() == True: \n",
    "            if choice is acceptable_range:\n",
    "                within_range = True\n",
    "            else:\n",
    "                print(\"soory... bad input  \")\n",
    "                within_range = False \n",
    "    return int(choice)"
   ]
  },
  {
   "cell_type": "code",
   "execution_count": null,
   "id": "fa8504ce",
   "metadata": {},
   "outputs": [
    {
     "name": "stdout",
     "output_type": "stream",
     "text": [
      "enter numberll\n",
      "Enter again\n",
      "enter number1\n",
      "soory... bad input  \n",
      "enter number1\n",
      "soory... bad input  \n",
      "enter number2\n",
      "soory... bad input  \n"
     ]
    }
   ],
   "source": [
    "user_choice()"
   ]
  },
  {
   "cell_type": "markdown",
   "id": "8b161ef6",
   "metadata": {},
   "source": [
    "Object origented programing "
   ]
  },
  {
   "cell_type": "code",
   "execution_count": 5,
   "id": "71818f96",
   "metadata": {},
   "outputs": [
    {
     "name": "stdout",
     "output_type": "stream",
     "text": [
      "a\n",
      "p\n",
      "p\n",
      "l\n",
      "e\n"
     ]
    }
   ],
   "source": [
    "for x in 'apple':\n",
    "\n",
    "    print(x)"
   ]
  },
  {
   "cell_type": "code",
   "execution_count": 16,
   "id": "23b675ec",
   "metadata": {},
   "outputs": [
    {
     "name": "stdout",
     "output_type": "stream",
     "text": [
      "0\n",
      "1\n",
      "2\n",
      "3\n",
      "4\n",
      "5\n",
      "6\n",
      "7\n",
      "8\n",
      "9\n"
     ]
    }
   ],
   "source": [
    "x = 'machine learning'\n",
    "\n",
    "i = 0 \n",
    "while i<10:\n",
    "    print(i)\n",
    "#    i += 1\n",
    "    if i == 15:\n",
    "        break\n",
    "    i +=1 "
   ]
  },
  {
   "cell_type": "code",
   "execution_count": null,
   "id": "157f635f",
   "metadata": {},
   "outputs": [],
   "source": []
  }
 ],
 "metadata": {
  "kernelspec": {
   "display_name": "Python 3",
   "language": "python",
   "name": "python3"
  },
  "language_info": {
   "codemirror_mode": {
    "name": "ipython",
    "version": 3
   },
   "file_extension": ".py",
   "mimetype": "text/x-python",
   "name": "python",
   "nbconvert_exporter": "python",
   "pygments_lexer": "ipython3",
   "version": "3.8.8"
  }
 },
 "nbformat": 4,
 "nbformat_minor": 5
}
