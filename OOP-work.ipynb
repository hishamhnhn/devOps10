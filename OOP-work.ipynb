{
 "cells": [
  {
   "cell_type": "code",
   "execution_count": 101,
   "id": "db22dc14",
   "metadata": {},
   "outputs": [],
   "source": [
    "class dog():\n",
    "    \n",
    "    #class object atributes \n",
    "    #same for any instance of class \n",
    "    \n",
    "    speci = 'mamal'\n",
    "    \n",
    "    def __init__(self,breed,name):\n",
    "        self.breed = breed \n",
    "        self.name = name \n",
    "                \n",
    "    # operation or actions\n",
    "    # method is a function which works inside the class \n",
    "    \n",
    "    def bark(self,number):\n",
    "        print('woof my name is {} and the number is {}'.format(self.name,number))\n",
    "    "
   ]
  },
  {
   "cell_type": "code",
   "execution_count": null,
   "id": "ac38c095",
   "metadata": {},
   "outputs": [],
   "source": []
  },
  {
   "cell_type": "code",
   "execution_count": 102,
   "id": "e6eb1235",
   "metadata": {},
   "outputs": [
    {
     "data": {
      "text/plain": [
       "<__main__.dog at 0xfabcc0b760>"
      ]
     },
     "execution_count": 102,
     "metadata": {},
     "output_type": "execute_result"
    }
   ],
   "source": [
    "dog('lab','bul')"
   ]
  },
  {
   "cell_type": "code",
   "execution_count": 103,
   "id": "960cbe7f",
   "metadata": {},
   "outputs": [],
   "source": [
    "my_dog = dog('lab','bul')"
   ]
  },
  {
   "cell_type": "code",
   "execution_count": 104,
   "id": "2da2c24b",
   "metadata": {},
   "outputs": [
    {
     "data": {
      "text/plain": [
       "'lab'"
      ]
     },
     "execution_count": 104,
     "metadata": {},
     "output_type": "execute_result"
    }
   ],
   "source": [
    "my_dog.breed"
   ]
  },
  {
   "cell_type": "code",
   "execution_count": 105,
   "id": "2231a36a",
   "metadata": {},
   "outputs": [
    {
     "data": {
      "text/plain": [
       "'bul'"
      ]
     },
     "execution_count": 105,
     "metadata": {},
     "output_type": "execute_result"
    }
   ],
   "source": [
    "my_dog.name"
   ]
  },
  {
   "cell_type": "code",
   "execution_count": 106,
   "id": "083c906b",
   "metadata": {},
   "outputs": [
    {
     "data": {
      "text/plain": [
       "__main__.dog"
      ]
     },
     "execution_count": 106,
     "metadata": {},
     "output_type": "execute_result"
    }
   ],
   "source": [
    "type(my_dog)"
   ]
  },
  {
   "cell_type": "code",
   "execution_count": 107,
   "id": "281687fc",
   "metadata": {},
   "outputs": [
    {
     "name": "stdout",
     "output_type": "stream",
     "text": [
      "woof my name is bul and the number is 5\n"
     ]
    }
   ],
   "source": [
    "my_dog.bark(5)"
   ]
  },
  {
   "cell_type": "code",
   "execution_count": 108,
   "id": "3cf9685f",
   "metadata": {},
   "outputs": [
    {
     "data": {
      "text/plain": [
       "'mamal'"
      ]
     },
     "execution_count": 108,
     "metadata": {},
     "output_type": "execute_result"
    }
   ],
   "source": [
    "my_dog.speci"
   ]
  },
  {
   "cell_type": "markdown",
   "id": "f1932bcd",
   "metadata": {},
   "source": []
  },
  {
   "cell_type": "code",
   "execution_count": 131,
   "id": "862a951d",
   "metadata": {},
   "outputs": [],
   "source": [
    "class circle():\n",
    "    #class atributes \n",
    "    \n",
    "    pi = 3.1415\n",
    "    \n",
    "    def __init__(self,rad):\n",
    "        \n",
    "        self.rad = rad\n",
    "        self.area = rad*rad*circle.pi\n",
    "        \n",
    "     #methode\n",
    "    def get_circ(self):\n",
    "        return self.rad * self.pi * 2\n",
    "    "
   ]
  },
  {
   "cell_type": "code",
   "execution_count": 132,
   "id": "a3e9d29f",
   "metadata": {},
   "outputs": [],
   "source": [
    "my_circ = circle(220)"
   ]
  },
  {
   "cell_type": "code",
   "execution_count": 133,
   "id": "a6ae1dba",
   "metadata": {},
   "outputs": [
    {
     "data": {
      "text/plain": [
       "3.1415"
      ]
     },
     "execution_count": 133,
     "metadata": {},
     "output_type": "execute_result"
    }
   ],
   "source": [
    "my_circ.pi"
   ]
  },
  {
   "cell_type": "code",
   "execution_count": 134,
   "id": "4474e69f",
   "metadata": {},
   "outputs": [
    {
     "data": {
      "text/plain": [
       "220"
      ]
     },
     "execution_count": 134,
     "metadata": {},
     "output_type": "execute_result"
    }
   ],
   "source": [
    "my_circ.rad"
   ]
  },
  {
   "cell_type": "code",
   "execution_count": 135,
   "id": "56f6a743",
   "metadata": {},
   "outputs": [
    {
     "data": {
      "text/plain": [
       "1382.26"
      ]
     },
     "execution_count": 135,
     "metadata": {},
     "output_type": "execute_result"
    }
   ],
   "source": [
    "my_circ.get_circ()"
   ]
  },
  {
   "cell_type": "code",
   "execution_count": 136,
   "id": "5a005022",
   "metadata": {},
   "outputs": [
    {
     "data": {
      "text/plain": [
       "152048.6"
      ]
     },
     "execution_count": 136,
     "metadata": {},
     "output_type": "execute_result"
    }
   ],
   "source": [
    "my_circ.area"
   ]
  },
  {
   "cell_type": "markdown",
   "id": "8866665f",
   "metadata": {},
   "source": [
    "futher class formations "
   ]
  },
  {
   "cell_type": "code",
   "execution_count": 153,
   "id": "835674c6",
   "metadata": {},
   "outputs": [],
   "source": [
    "class animal():\n",
    "    \n",
    "    def __init__(self):\n",
    "        print('Animal class')\n",
    "       \n",
    "   # two different methodes \n",
    "\n",
    "    def who_am_i(self):\n",
    "        print('i am an animal')\n",
    "    \n",
    "    def eat(self):\n",
    "        print(\"i am eating\")"
   ]
  },
  {
   "cell_type": "code",
   "execution_count": 163,
   "id": "97923051",
   "metadata": {},
   "outputs": [],
   "source": [
    "class dog(animal): # drived class\n",
    "        \n",
    "        \n",
    "        def __init__(self):\n",
    "            animal.__init__(self)    #intended block \n",
    "            print(\"dog generated\")\n",
    "            \n",
    "        def bark(self):\n",
    "            print(\"wohhh\")\n",
    "            \n",
    "        def who_am_i(self):\n",
    "            print(\"i am a dog\")"
   ]
  },
  {
   "cell_type": "code",
   "execution_count": 164,
   "id": "d4a93554",
   "metadata": {},
   "outputs": [
    {
     "name": "stdout",
     "output_type": "stream",
     "text": [
      "Animal class\n",
      "dog generated\n"
     ]
    }
   ],
   "source": [
    "mydog = dog()"
   ]
  },
  {
   "cell_type": "code",
   "execution_count": 165,
   "id": "bc2cc1d9",
   "metadata": {},
   "outputs": [
    {
     "name": "stdout",
     "output_type": "stream",
     "text": [
      "i am a dog\n"
     ]
    }
   ],
   "source": [
    "mydog.who_am_i()"
   ]
  },
  {
   "cell_type": "code",
   "execution_count": 166,
   "id": "6649da60",
   "metadata": {},
   "outputs": [
    {
     "name": "stdout",
     "output_type": "stream",
     "text": [
      "i am eating\n"
     ]
    }
   ],
   "source": [
    "mydog.eat()"
   ]
  },
  {
   "cell_type": "code",
   "execution_count": 167,
   "id": "d924bfcb",
   "metadata": {},
   "outputs": [
    {
     "name": "stdout",
     "output_type": "stream",
     "text": [
      "wohhh\n"
     ]
    }
   ],
   "source": [
    "mydog.bark()"
   ]
  },
  {
   "cell_type": "markdown",
   "id": "9d9f8fb5",
   "metadata": {},
   "source": [
    "polymorphsim \n",
    " is the process in which different object class can share same method name"
   ]
  },
  {
   "cell_type": "code",
   "execution_count": 194,
   "id": "51d07cce",
   "metadata": {},
   "outputs": [],
   "source": [
    "class Dog():\n",
    "    \n",
    "    def __init__(self,name):\n",
    "        self.name = name \n",
    "        \n",
    "    def speak(self):\n",
    "        return self.name + ' says woof'"
   ]
  },
  {
   "cell_type": "code",
   "execution_count": 195,
   "id": "26be5ea3",
   "metadata": {},
   "outputs": [],
   "source": [
    "class cat():\n",
    "    \n",
    "    def __init__(self,name):\n",
    "        self.name = name \n",
    "        \n",
    "    def speak(self):\n",
    "        return self.name + ' says meoon'"
   ]
  },
  {
   "cell_type": "code",
   "execution_count": 196,
   "id": "9d706248",
   "metadata": {},
   "outputs": [],
   "source": [
    "niko = Dog(\"niko\")\n",
    "mic = cat(\"mic\")"
   ]
  },
  {
   "cell_type": "code",
   "execution_count": 197,
   "id": "9d5bfff1",
   "metadata": {},
   "outputs": [
    {
     "name": "stdout",
     "output_type": "stream",
     "text": [
      "niko  says woof\n"
     ]
    }
   ],
   "source": [
    "print(niko.speak())"
   ]
  },
  {
   "cell_type": "code",
   "execution_count": 198,
   "id": "614ba456",
   "metadata": {},
   "outputs": [
    {
     "name": "stdout",
     "output_type": "stream",
     "text": [
      "mic says meoon\n"
     ]
    }
   ],
   "source": [
    "print(mic.speak())"
   ]
  },
  {
   "cell_type": "code",
   "execution_count": 199,
   "id": "b5fefcd6",
   "metadata": {},
   "outputs": [
    {
     "name": "stdout",
     "output_type": "stream",
     "text": [
      "<class '__main__.Dog'>\n",
      "niko  says woof\n",
      "<class '__main__.cat'>\n",
      "mic says meoon\n"
     ]
    }
   ],
   "source": [
    "for pet in [niko,mic]: # apply the for loop on pet class \n",
    "    print(type(pet))\n",
    "    print(pet.speak())"
   ]
  },
  {
   "cell_type": "code",
   "execution_count": 201,
   "id": "9e7374c4",
   "metadata": {},
   "outputs": [],
   "source": [
    "def pet_speak(pet):\n",
    "    print(pet.speak())"
   ]
  },
  {
   "cell_type": "code",
   "execution_count": 202,
   "id": "cd8d7808",
   "metadata": {},
   "outputs": [
    {
     "name": "stdout",
     "output_type": "stream",
     "text": [
      "niko  says woof\n"
     ]
    }
   ],
   "source": [
    "pet_speak(niko)"
   ]
  },
  {
   "cell_type": "code",
   "execution_count": 203,
   "id": "374bf431",
   "metadata": {},
   "outputs": [
    {
     "name": "stdout",
     "output_type": "stream",
     "text": [
      "mic says meoon\n"
     ]
    }
   ],
   "source": [
    "pet_speak(mic)"
   ]
  },
  {
   "cell_type": "code",
   "execution_count": 214,
   "id": "eae157be",
   "metadata": {},
   "outputs": [],
   "source": [
    "class animal():\n",
    "    def __init__(self,name):\n",
    "        self.name = name\n",
    "        \n",
    "    def speak(self):\n",
    "        raise notimplemenetederror(\"subclass\")"
   ]
  },
  {
   "cell_type": "code",
   "execution_count": 210,
   "id": "b392f711",
   "metadata": {},
   "outputs": [],
   "source": [
    "class dog(animal):\n",
    "    def __init__(self,name):\n",
    "        return self.name + \"say woof\""
   ]
  },
  {
   "cell_type": "code",
   "execution_count": 215,
   "id": "73f737dc",
   "metadata": {},
   "outputs": [],
   "source": [
    "class cat(animal):\n",
    "    def __init__(self,name):\n",
    "        return self.name + \"say meow\""
   ]
  },
  {
   "cell_type": "code",
   "execution_count": 216,
   "id": "2faaa968",
   "metadata": {},
   "outputs": [
    {
     "data": {
      "text/plain": [
       "<__main__.animal at 0xfabcbf3d60>"
      ]
     },
     "execution_count": 216,
     "metadata": {},
     "output_type": "execute_result"
    }
   ],
   "source": [
    "animal(dog)"
   ]
  },
  {
   "cell_type": "code",
   "execution_count": 217,
   "id": "0a2e514a",
   "metadata": {},
   "outputs": [
    {
     "ename": "AttributeError",
     "evalue": "'dog' object has no attribute 'name'",
     "output_type": "error",
     "traceback": [
      "\u001b[1;31m---------------------------------------------------------------------------\u001b[0m",
      "\u001b[1;31mAttributeError\u001b[0m                            Traceback (most recent call last)",
      "\u001b[1;32m<ipython-input-217-96fcae3c755c>\u001b[0m in \u001b[0;36m<module>\u001b[1;34m\u001b[0m\n\u001b[1;32m----> 1\u001b[1;33m \u001b[0mfedo\u001b[0m \u001b[1;33m=\u001b[0m \u001b[0mdog\u001b[0m\u001b[1;33m(\u001b[0m\u001b[1;34m\"fedo\"\u001b[0m\u001b[1;33m)\u001b[0m\u001b[1;33m\u001b[0m\u001b[1;33m\u001b[0m\u001b[0m\n\u001b[0m",
      "\u001b[1;32m<ipython-input-210-e1e3dc25deae>\u001b[0m in \u001b[0;36m__init__\u001b[1;34m(self, name)\u001b[0m\n\u001b[0;32m      1\u001b[0m \u001b[1;32mclass\u001b[0m \u001b[0mdog\u001b[0m\u001b[1;33m(\u001b[0m\u001b[1;33m)\u001b[0m\u001b[1;33m:\u001b[0m\u001b[1;33m\u001b[0m\u001b[1;33m\u001b[0m\u001b[0m\n\u001b[0;32m      2\u001b[0m     \u001b[1;32mdef\u001b[0m \u001b[0m__init__\u001b[0m\u001b[1;33m(\u001b[0m\u001b[0mself\u001b[0m\u001b[1;33m,\u001b[0m\u001b[0mname\u001b[0m\u001b[1;33m)\u001b[0m\u001b[1;33m:\u001b[0m\u001b[1;33m\u001b[0m\u001b[1;33m\u001b[0m\u001b[0m\n\u001b[1;32m----> 3\u001b[1;33m         \u001b[1;32mreturn\u001b[0m \u001b[0mself\u001b[0m\u001b[1;33m.\u001b[0m\u001b[0mname\u001b[0m \u001b[1;33m+\u001b[0m \u001b[1;34m\"say woof\"\u001b[0m\u001b[1;33m\u001b[0m\u001b[1;33m\u001b[0m\u001b[0m\n\u001b[0m",
      "\u001b[1;31mAttributeError\u001b[0m: 'dog' object has no attribute 'name'"
     ]
    }
   ],
   "source": [
    "fedo = dog(\"fedo\")"
   ]
  },
  {
   "cell_type": "code",
   "execution_count": null,
   "id": "1663a025",
   "metadata": {},
   "outputs": [],
   "source": []
  },
  {
   "cell_type": "code",
   "execution_count": null,
   "id": "b7cd3f14",
   "metadata": {},
   "outputs": [],
   "source": []
  },
  {
   "cell_type": "code",
   "execution_count": null,
   "id": "d9f5f04f",
   "metadata": {},
   "outputs": [],
   "source": []
  },
  {
   "cell_type": "code",
   "execution_count": 249,
   "id": "0eb207c8",
   "metadata": {},
   "outputs": [],
   "source": [
    "class book ():\n",
    "    \n",
    "    def __init__(self,title,author,page):\n",
    "        self.title = title \n",
    "        self.author = author\n",
    "        self.page = page\n",
    "        \n",
    "        \n",
    "    def __srt__(self):\n",
    "        return f\"{self.title}by (self.author)\"\n",
    "    def __len__(self):\n",
    "        return self.page\n",
    "    def __del__(self):\n",
    "        print(\" the book has been deleted\")"
   ]
  },
  {
   "cell_type": "code",
   "execution_count": 250,
   "id": "a27f70d5",
   "metadata": {},
   "outputs": [],
   "source": [
    "b = book('python basic','Hisham',150)"
   ]
  },
  {
   "cell_type": "code",
   "execution_count": 251,
   "id": "4c12449f",
   "metadata": {},
   "outputs": [
    {
     "name": "stdout",
     "output_type": "stream",
     "text": [
      "<__main__.book object at 0x000000FABCBE6940>\n"
     ]
    }
   ],
   "source": [
    "print(b)"
   ]
  },
  {
   "cell_type": "code",
   "execution_count": 252,
   "id": "00dd1e9d",
   "metadata": {},
   "outputs": [
    {
     "data": {
      "text/plain": [
       "'<__main__.book object at 0x000000FABCBE6940>'"
      ]
     },
     "execution_count": 252,
     "metadata": {},
     "output_type": "execute_result"
    }
   ],
   "source": [
    "str(b)"
   ]
  },
  {
   "cell_type": "code",
   "execution_count": 253,
   "id": "1cc98ab5",
   "metadata": {},
   "outputs": [
    {
     "data": {
      "text/plain": [
       "150"
      ]
     },
     "execution_count": 253,
     "metadata": {},
     "output_type": "execute_result"
    }
   ],
   "source": [
    "len(b)"
   ]
  },
  {
   "cell_type": "code",
   "execution_count": 254,
   "id": "4e7cf234",
   "metadata": {},
   "outputs": [
    {
     "name": "stdout",
     "output_type": "stream",
     "text": [
      " the book has been deleted\n"
     ]
    }
   ],
   "source": [
    "del b"
   ]
  },
  {
   "cell_type": "code",
   "execution_count": 248,
   "id": "f0b4ea70",
   "metadata": {},
   "outputs": [
    {
     "ename": "NameError",
     "evalue": "name 'b' is not defined",
     "output_type": "error",
     "traceback": [
      "\u001b[1;31m---------------------------------------------------------------------------\u001b[0m",
      "\u001b[1;31mNameError\u001b[0m                                 Traceback (most recent call last)",
      "\u001b[1;32m<ipython-input-248-67e500defa1b>\u001b[0m in \u001b[0;36m<module>\u001b[1;34m\u001b[0m\n\u001b[1;32m----> 1\u001b[1;33m \u001b[0mprint\u001b[0m\u001b[1;33m(\u001b[0m\u001b[0mb\u001b[0m\u001b[1;33m)\u001b[0m\u001b[1;33m\u001b[0m\u001b[1;33m\u001b[0m\u001b[0m\n\u001b[0m",
      "\u001b[1;31mNameError\u001b[0m: name 'b' is not defined"
     ]
    }
   ],
   "source": [
    "print(b)"
   ]
  },
  {
   "cell_type": "code",
   "execution_count": null,
   "id": "dae9f29a",
   "metadata": {},
   "outputs": [],
   "source": []
  },
  {
   "cell_type": "code",
   "execution_count": null,
   "id": "5572d462",
   "metadata": {},
   "outputs": [],
   "source": []
  },
  {
   "cell_type": "code",
   "execution_count": null,
   "id": "84ef38c4",
   "metadata": {},
   "outputs": [],
   "source": []
  },
  {
   "cell_type": "markdown",
   "id": "9228dd29",
   "metadata": {},
   "source": [
    "challenge note book "
   ]
  },
  {
   "cell_type": "code",
   "execution_count": 392,
   "id": "43002239",
   "metadata": {},
   "outputs": [],
   "source": [
    " class account():\n",
    "        \n",
    "        def __init__(self,owner,balance=0):\n",
    "           \n",
    "            self.owner = owner\n",
    "            self.balance = balance \n",
    "            \n",
    "        def deposit(self,dep):  # call using function nema as deposit\n",
    "            self.balance = self.balance + dep\n",
    "            print(f\" added {dep} in your account\")\n",
    "        \n",
    "        def wdw(self,wd_amt):  #call using function name as wdw\n",
    "         \n",
    "            if self.balance >= wd_amt:  # if condition check for balance dont forget to use self.balance \n",
    "                                        # whereas \n",
    "                self.balance = self.balance - wd_amt\n",
    "                print(f\"withdraw {wd_amt} from your account\")\n",
    "            \n",
    "            else:\n",
    "                print(\"your balance is low\")\n",
    "            \n",
    "        def __str__(self):\n",
    "            \n",
    "            return f\"owner:{self.owner} \\nbalance:{self.balance}\"\n",
    "            \n",
    "        "
   ]
  },
  {
   "cell_type": "code",
   "execution_count": 393,
   "id": "c57eaede",
   "metadata": {},
   "outputs": [],
   "source": [
    "b = account(\"hisham\",700)"
   ]
  },
  {
   "cell_type": "code",
   "execution_count": 394,
   "id": "046c1c38",
   "metadata": {},
   "outputs": [
    {
     "data": {
      "text/plain": [
       "'hisham'"
      ]
     },
     "execution_count": 394,
     "metadata": {},
     "output_type": "execute_result"
    }
   ],
   "source": [
    "b.owner"
   ]
  },
  {
   "cell_type": "code",
   "execution_count": 395,
   "id": "a97394cc",
   "metadata": {},
   "outputs": [
    {
     "data": {
      "text/plain": [
       "700"
      ]
     },
     "execution_count": 395,
     "metadata": {},
     "output_type": "execute_result"
    }
   ],
   "source": [
    "b.balance "
   ]
  },
  {
   "cell_type": "code",
   "execution_count": 396,
   "id": "fdcd5025",
   "metadata": {},
   "outputs": [
    {
     "name": "stdout",
     "output_type": "stream",
     "text": [
      "owner:hisham \n",
      "balance:700\n"
     ]
    }
   ],
   "source": [
    "print(b)"
   ]
  },
  {
   "cell_type": "code",
   "execution_count": 397,
   "id": "a212e747",
   "metadata": {},
   "outputs": [
    {
     "name": "stdout",
     "output_type": "stream",
     "text": [
      " added 10 in your account\n"
     ]
    }
   ],
   "source": [
    "b.deposit(10)"
   ]
  },
  {
   "cell_type": "code",
   "execution_count": 398,
   "id": "7d95ba69",
   "metadata": {},
   "outputs": [
    {
     "name": "stdout",
     "output_type": "stream",
     "text": [
      "owner:hisham \n",
      "balance:710\n"
     ]
    }
   ],
   "source": [
    "print(b)"
   ]
  },
  {
   "cell_type": "code",
   "execution_count": 399,
   "id": "638c3db5",
   "metadata": {},
   "outputs": [
    {
     "name": "stdout",
     "output_type": "stream",
     "text": [
      "withdraw 10 from your account\n"
     ]
    }
   ],
   "source": [
    "b.wdw(10)"
   ]
  },
  {
   "cell_type": "code",
   "execution_count": 400,
   "id": "f377610f",
   "metadata": {},
   "outputs": [
    {
     "name": "stdout",
     "output_type": "stream",
     "text": [
      "owner:hisham \n",
      "balance:700\n"
     ]
    }
   ],
   "source": [
    "print(b) "
   ]
  },
  {
   "cell_type": "code",
   "execution_count": 402,
   "id": "c90035cc",
   "metadata": {},
   "outputs": [
    {
     "name": "stdout",
     "output_type": "stream",
     "text": [
      "withdraw 700 from your account\n"
     ]
    }
   ],
   "source": [
    "b.wdw(700)"
   ]
  },
  {
   "cell_type": "code",
   "execution_count": 403,
   "id": "f55ae19a",
   "metadata": {},
   "outputs": [
    {
     "data": {
      "text/plain": [
       "0"
      ]
     },
     "execution_count": 403,
     "metadata": {},
     "output_type": "execute_result"
    }
   ],
   "source": [
    "b.balance"
   ]
  },
  {
   "cell_type": "markdown",
   "id": "c31df8fd",
   "metadata": {},
   "source": [
    "error handling\n",
    "\n",
    "try axecpt \n",
    "\n",
    "finally \n",
    "\n"
   ]
  },
  {
   "cell_type": "code",
   "execution_count": 404,
   "id": "337a792b",
   "metadata": {},
   "outputs": [],
   "source": [
    " def add(n1,n2):\n",
    "        print(n1+n2)"
   ]
  },
  {
   "cell_type": "code",
   "execution_count": 405,
   "id": "6711dec8",
   "metadata": {},
   "outputs": [
    {
     "name": "stdout",
     "output_type": "stream",
     "text": [
      "20\n"
     ]
    }
   ],
   "source": [
    "add(10,10)"
   ]
  },
  {
   "cell_type": "code",
   "execution_count": 406,
   "id": "388b0f34",
   "metadata": {},
   "outputs": [],
   "source": [
    "number1 = 10 "
   ]
  },
  {
   "cell_type": "code",
   "execution_count": 407,
   "id": "f73ca55d",
   "metadata": {},
   "outputs": [
    {
     "name": "stdout",
     "output_type": "stream",
     "text": [
      "please provide a number:1\n"
     ]
    }
   ],
   "source": [
    "number2 = input(\"please provide a number:\")"
   ]
  },
  {
   "cell_type": "code",
   "execution_count": 5,
   "id": "3ea8b519",
   "metadata": {},
   "outputs": [],
   "source": [
    "def ask_for_int():\n",
    "    \n",
    "    while True:  \n",
    "    \n",
    "        try: \n",
    "            result = int(input(\"please provide a number\"))\n",
    "\n",
    "        except: \n",
    "            print(\" sorry is not a number\")\n",
    "            continue\n",
    "\n",
    "        else:\n",
    "            print(\" thanks for your coopperation\")\n",
    "\n",
    "            break\n",
    "\n",
    "        #finally: \n",
    "         #   print(\"I am going to ask again\")\n",
    "       \n"
   ]
  },
  {
   "cell_type": "code",
   "execution_count": 6,
   "id": "dfdbf185",
   "metadata": {},
   "outputs": [
    {
     "name": "stdout",
     "output_type": "stream",
     "text": [
      "please provide a number1\n",
      " thanks for your coopperation\n"
     ]
    }
   ],
   "source": [
    "ask_for_int()"
   ]
  },
  {
   "cell_type": "markdown",
   "id": "e6c2a66a",
   "metadata": {},
   "source": [
    "unit testing\n",
    "\n",
    "test and place \n",
    "\n",
    "pylint\n",
    "\n",
    "unittest lib.\n",
    "text eidtor "
   ]
  },
  {
   "cell_type": "code",
   "execution_count": 13,
   "id": "e4f66273",
   "metadata": {},
   "outputs": [],
   "source": [
    "class card():\n",
    "    \n",
    "    def __init__(self,suit,rank):\n",
    "        self.suit = suit\n",
    "        self.rank = rank \n",
    "        \n",
    "    def _str_(self):\n",
    "        return self.rank + \"of\" + self.suit"
   ]
  },
  {
   "cell_type": "code",
   "execution_count": 14,
   "id": "fffada8d",
   "metadata": {},
   "outputs": [],
   "source": [
    "two_hearts = card(\"Hearts\",\"two\")"
   ]
  },
  {
   "cell_type": "code",
   "execution_count": 15,
   "id": "3d00e1e8",
   "metadata": {},
   "outputs": [
    {
     "data": {
      "text/plain": [
       "<__main__.card at 0xe069db32b0>"
      ]
     },
     "execution_count": 15,
     "metadata": {},
     "output_type": "execute_result"
    }
   ],
   "source": [
    "two_hearts"
   ]
  },
  {
   "cell_type": "code",
   "execution_count": 16,
   "id": "5a531920",
   "metadata": {},
   "outputs": [
    {
     "name": "stdout",
     "output_type": "stream",
     "text": [
      "<__main__.card object at 0x000000E069DB32B0>\n"
     ]
    }
   ],
   "source": [
    "print(two_hearts)"
   ]
  },
  {
   "cell_type": "code",
   "execution_count": 1,
   "id": "c7eb6c2e",
   "metadata": {},
   "outputs": [],
   "source": [
    "def hello():\n",
    "    return \"hello\""
   ]
  },
  {
   "cell_type": "code",
   "execution_count": 2,
   "id": "2e1d8b4a",
   "metadata": {},
   "outputs": [
    {
     "data": {
      "text/plain": [
       "'hello'"
      ]
     },
     "execution_count": 2,
     "metadata": {},
     "output_type": "execute_result"
    }
   ],
   "source": [
    "hello()"
   ]
  },
  {
   "cell_type": "code",
   "execution_count": 3,
   "id": "c9d5d2ef",
   "metadata": {},
   "outputs": [],
   "source": [
    "great = hello "
   ]
  },
  {
   "cell_type": "code",
   "execution_count": 4,
   "id": "c721d6a4",
   "metadata": {},
   "outputs": [
    {
     "data": {
      "text/plain": [
       "'hello'"
      ]
     },
     "execution_count": 4,
     "metadata": {},
     "output_type": "execute_result"
    }
   ],
   "source": [
    "great()"
   ]
  },
  {
   "cell_type": "code",
   "execution_count": 5,
   "id": "8c38f2af",
   "metadata": {},
   "outputs": [],
   "source": [
    "del hello "
   ]
  },
  {
   "cell_type": "code",
   "execution_count": 6,
   "id": "571c0a72",
   "metadata": {},
   "outputs": [
    {
     "data": {
      "text/plain": [
       "'hello'"
      ]
     },
     "execution_count": 6,
     "metadata": {},
     "output_type": "execute_result"
    }
   ],
   "source": [
    "great()"
   ]
  },
  {
   "cell_type": "code",
   "execution_count": 7,
   "id": "a366e1c4",
   "metadata": {},
   "outputs": [
    {
     "ename": "NameError",
     "evalue": "name 'hello' is not defined",
     "output_type": "error",
     "traceback": [
      "\u001b[1;31m---------------------------------------------------------------------------\u001b[0m",
      "\u001b[1;31mNameError\u001b[0m                                 Traceback (most recent call last)",
      "\u001b[1;32m<ipython-input-7-a75d7781aaeb>\u001b[0m in \u001b[0;36m<module>\u001b[1;34m\u001b[0m\n\u001b[1;32m----> 1\u001b[1;33m \u001b[0mhello\u001b[0m\u001b[1;33m(\u001b[0m\u001b[1;33m)\u001b[0m\u001b[1;33m\u001b[0m\u001b[1;33m\u001b[0m\u001b[0m\n\u001b[0m",
      "\u001b[1;31mNameError\u001b[0m: name 'hello' is not defined"
     ]
    }
   ],
   "source": [
    "hello()"
   ]
  },
  {
   "cell_type": "code",
   "execution_count": null,
   "id": "26f87631",
   "metadata": {},
   "outputs": [],
   "source": []
  },
  {
   "cell_type": "code",
   "execution_count": null,
   "id": "ff21e73b",
   "metadata": {},
   "outputs": [],
   "source": []
  },
  {
   "cell_type": "code",
   "execution_count": null,
   "id": "6b469865",
   "metadata": {},
   "outputs": [],
   "source": []
  },
  {
   "cell_type": "code",
   "execution_count": null,
   "id": "975f368f",
   "metadata": {},
   "outputs": [],
   "source": []
  },
  {
   "cell_type": "code",
   "execution_count": null,
   "id": "745a9387",
   "metadata": {},
   "outputs": [],
   "source": []
  },
  {
   "cell_type": "code",
   "execution_count": 24,
   "id": "9e921076",
   "metadata": {},
   "outputs": [],
   "source": [
    "def hello(name ='hisham'):\n",
    "    print(\"the hello is printed \")\n",
    "    \n",
    "    def greet():\n",
    "        return \"\\t this is greeting\"\n",
    "    \n",
    "    def welcome():\n",
    "        return  \"\\t this is welcome inside this \"\n",
    "    if name == 'hisham':\n",
    "        return greet\n",
    "    else: \n",
    "        return welcome\n",
    "    \n",
    "    "
   ]
  },
  {
   "cell_type": "code",
   "execution_count": 25,
   "id": "5e6ca1de",
   "metadata": {},
   "outputs": [
    {
     "name": "stdout",
     "output_type": "stream",
     "text": [
      "the hello is printed \n"
     ]
    },
    {
     "data": {
      "text/plain": [
       "<function __main__.hello.<locals>.greet()>"
      ]
     },
     "execution_count": 25,
     "metadata": {},
     "output_type": "execute_result"
    }
   ],
   "source": [
    "hello()"
   ]
  },
  {
   "cell_type": "code",
   "execution_count": 22,
   "id": "3e5dda2f",
   "metadata": {},
   "outputs": [
    {
     "ename": "NameError",
     "evalue": "name 'welcome' is not defined",
     "output_type": "error",
     "traceback": [
      "\u001b[1;31m---------------------------------------------------------------------------\u001b[0m",
      "\u001b[1;31mNameError\u001b[0m                                 Traceback (most recent call last)",
      "\u001b[1;32m<ipython-input-22-a401d7101853>\u001b[0m in \u001b[0;36m<module>\u001b[1;34m\u001b[0m\n\u001b[1;32m----> 1\u001b[1;33m \u001b[0mwelcome\u001b[0m\u001b[1;33m(\u001b[0m\u001b[1;33m)\u001b[0m\u001b[1;33m\u001b[0m\u001b[1;33m\u001b[0m\u001b[0m\n\u001b[0m",
      "\u001b[1;31mNameError\u001b[0m: name 'welcome' is not defined"
     ]
    }
   ],
   "source": [
    "welcome()"
   ]
  },
  {
   "cell_type": "code",
   "execution_count": 29,
   "id": "98414180",
   "metadata": {},
   "outputs": [
    {
     "name": "stdout",
     "output_type": "stream",
     "text": [
      "the hello is printed \n"
     ]
    }
   ],
   "source": [
    "my_func = hello('hisham') "
   ]
  },
  {
   "cell_type": "code",
   "execution_count": 54,
   "id": "5feb144e",
   "metadata": {},
   "outputs": [],
   "source": [
    "def new_deco(origianl_func):\n",
    "    def warp_func():\n",
    "        print('some code before original function')\n",
    "        \n",
    "        original_func()\n",
    "        \n",
    "        print('some code after the origial function')\n",
    "        \n",
    "    return warp_func    "
   ]
  },
  {
   "cell_type": "code",
   "execution_count": 55,
   "id": "0f20d372",
   "metadata": {},
   "outputs": [],
   "source": [
    "def func_needs_dec():\n",
    "    print(\"i need to be decorate\")"
   ]
  },
  {
   "cell_type": "code",
   "execution_count": 56,
   "id": "a1f07581",
   "metadata": {},
   "outputs": [
    {
     "name": "stdout",
     "output_type": "stream",
     "text": [
      "i need to be decorate\n"
     ]
    }
   ],
   "source": [
    "func_needs_dec()"
   ]
  },
  {
   "cell_type": "code",
   "execution_count": 57,
   "id": "b8c387c0",
   "metadata": {},
   "outputs": [],
   "source": [
    "deco_func = new_deco(func_needs_dec)"
   ]
  },
  {
   "cell_type": "code",
   "execution_count": 58,
   "id": "41fd2c31",
   "metadata": {},
   "outputs": [
    {
     "name": "stdout",
     "output_type": "stream",
     "text": [
      "some code before original function\n"
     ]
    },
    {
     "ename": "NameError",
     "evalue": "name 'original_func' is not defined",
     "output_type": "error",
     "traceback": [
      "\u001b[1;31m---------------------------------------------------------------------------\u001b[0m",
      "\u001b[1;31mNameError\u001b[0m                                 Traceback (most recent call last)",
      "\u001b[1;32m<ipython-input-58-796f564382bd>\u001b[0m in \u001b[0;36m<module>\u001b[1;34m\u001b[0m\n\u001b[1;32m----> 1\u001b[1;33m \u001b[0mdeco_func\u001b[0m\u001b[1;33m(\u001b[0m\u001b[1;33m)\u001b[0m\u001b[1;33m\u001b[0m\u001b[1;33m\u001b[0m\u001b[0m\n\u001b[0m",
      "\u001b[1;32m<ipython-input-54-70193d198094>\u001b[0m in \u001b[0;36mwarp_func\u001b[1;34m()\u001b[0m\n\u001b[0;32m      3\u001b[0m         \u001b[0mprint\u001b[0m\u001b[1;33m(\u001b[0m\u001b[1;34m'some code before original function'\u001b[0m\u001b[1;33m)\u001b[0m\u001b[1;33m\u001b[0m\u001b[1;33m\u001b[0m\u001b[0m\n\u001b[0;32m      4\u001b[0m \u001b[1;33m\u001b[0m\u001b[0m\n\u001b[1;32m----> 5\u001b[1;33m         \u001b[0moriginal_func\u001b[0m\u001b[1;33m(\u001b[0m\u001b[1;33m)\u001b[0m\u001b[1;33m\u001b[0m\u001b[1;33m\u001b[0m\u001b[0m\n\u001b[0m\u001b[0;32m      6\u001b[0m \u001b[1;33m\u001b[0m\u001b[0m\n\u001b[0;32m      7\u001b[0m         \u001b[0mprint\u001b[0m\u001b[1;33m(\u001b[0m\u001b[1;34m'some code after the origial function'\u001b[0m\u001b[1;33m)\u001b[0m\u001b[1;33m\u001b[0m\u001b[1;33m\u001b[0m\u001b[0m\n",
      "\u001b[1;31mNameError\u001b[0m: name 'original_func' is not defined"
     ]
    }
   ],
   "source": [
    "deco_func()"
   ]
  },
  {
   "cell_type": "code",
   "execution_count": 65,
   "id": "626344a5",
   "metadata": {},
   "outputs": [],
   "source": [
    "import requests"
   ]
  },
  {
   "cell_type": "code",
   "execution_count": 89,
   "id": "7de38de2",
   "metadata": {},
   "outputs": [
    {
     "ename": "ConnectionError",
     "evalue": "HTTPConnectionPool(host='www.facebook.com', port=80): Max retries exceeded with url: / (Caused by NewConnectionError('<urllib3.connection.HTTPConnection object at 0x0000007067BA0880>: Failed to establish a new connection: [Errno 11001] getaddrinfo failed'))",
     "output_type": "error",
     "traceback": [
      "\u001b[1;31m---------------------------------------------------------------------------\u001b[0m",
      "\u001b[1;31mgaierror\u001b[0m                                  Traceback (most recent call last)",
      "\u001b[1;32mD:\\New folder\\lib\\site-packages\\urllib3\\connection.py\u001b[0m in \u001b[0;36m_new_conn\u001b[1;34m(self)\u001b[0m\n\u001b[0;32m    168\u001b[0m         \u001b[1;32mtry\u001b[0m\u001b[1;33m:\u001b[0m\u001b[1;33m\u001b[0m\u001b[1;33m\u001b[0m\u001b[0m\n\u001b[1;32m--> 169\u001b[1;33m             conn = connection.create_connection(\n\u001b[0m\u001b[0;32m    170\u001b[0m                 \u001b[1;33m(\u001b[0m\u001b[0mself\u001b[0m\u001b[1;33m.\u001b[0m\u001b[0m_dns_host\u001b[0m\u001b[1;33m,\u001b[0m \u001b[0mself\u001b[0m\u001b[1;33m.\u001b[0m\u001b[0mport\u001b[0m\u001b[1;33m)\u001b[0m\u001b[1;33m,\u001b[0m \u001b[0mself\u001b[0m\u001b[1;33m.\u001b[0m\u001b[0mtimeout\u001b[0m\u001b[1;33m,\u001b[0m \u001b[1;33m**\u001b[0m\u001b[0mextra_kw\u001b[0m\u001b[1;33m\u001b[0m\u001b[1;33m\u001b[0m\u001b[0m\n",
      "\u001b[1;32mD:\\New folder\\lib\\site-packages\\urllib3\\util\\connection.py\u001b[0m in \u001b[0;36mcreate_connection\u001b[1;34m(address, timeout, source_address, socket_options)\u001b[0m\n\u001b[0;32m     72\u001b[0m \u001b[1;33m\u001b[0m\u001b[0m\n\u001b[1;32m---> 73\u001b[1;33m     \u001b[1;32mfor\u001b[0m \u001b[0mres\u001b[0m \u001b[1;32min\u001b[0m \u001b[0msocket\u001b[0m\u001b[1;33m.\u001b[0m\u001b[0mgetaddrinfo\u001b[0m\u001b[1;33m(\u001b[0m\u001b[0mhost\u001b[0m\u001b[1;33m,\u001b[0m \u001b[0mport\u001b[0m\u001b[1;33m,\u001b[0m \u001b[0mfamily\u001b[0m\u001b[1;33m,\u001b[0m \u001b[0msocket\u001b[0m\u001b[1;33m.\u001b[0m\u001b[0mSOCK_STREAM\u001b[0m\u001b[1;33m)\u001b[0m\u001b[1;33m:\u001b[0m\u001b[1;33m\u001b[0m\u001b[1;33m\u001b[0m\u001b[0m\n\u001b[0m\u001b[0;32m     74\u001b[0m         \u001b[0maf\u001b[0m\u001b[1;33m,\u001b[0m \u001b[0msocktype\u001b[0m\u001b[1;33m,\u001b[0m \u001b[0mproto\u001b[0m\u001b[1;33m,\u001b[0m \u001b[0mcanonname\u001b[0m\u001b[1;33m,\u001b[0m \u001b[0msa\u001b[0m \u001b[1;33m=\u001b[0m \u001b[0mres\u001b[0m\u001b[1;33m\u001b[0m\u001b[1;33m\u001b[0m\u001b[0m\n",
      "\u001b[1;32mD:\\New folder\\lib\\socket.py\u001b[0m in \u001b[0;36mgetaddrinfo\u001b[1;34m(host, port, family, type, proto, flags)\u001b[0m\n\u001b[0;32m    917\u001b[0m     \u001b[0maddrlist\u001b[0m \u001b[1;33m=\u001b[0m \u001b[1;33m[\u001b[0m\u001b[1;33m]\u001b[0m\u001b[1;33m\u001b[0m\u001b[1;33m\u001b[0m\u001b[0m\n\u001b[1;32m--> 918\u001b[1;33m     \u001b[1;32mfor\u001b[0m \u001b[0mres\u001b[0m \u001b[1;32min\u001b[0m \u001b[0m_socket\u001b[0m\u001b[1;33m.\u001b[0m\u001b[0mgetaddrinfo\u001b[0m\u001b[1;33m(\u001b[0m\u001b[0mhost\u001b[0m\u001b[1;33m,\u001b[0m \u001b[0mport\u001b[0m\u001b[1;33m,\u001b[0m \u001b[0mfamily\u001b[0m\u001b[1;33m,\u001b[0m \u001b[0mtype\u001b[0m\u001b[1;33m,\u001b[0m \u001b[0mproto\u001b[0m\u001b[1;33m,\u001b[0m \u001b[0mflags\u001b[0m\u001b[1;33m)\u001b[0m\u001b[1;33m:\u001b[0m\u001b[1;33m\u001b[0m\u001b[1;33m\u001b[0m\u001b[0m\n\u001b[0m\u001b[0;32m    919\u001b[0m         \u001b[0maf\u001b[0m\u001b[1;33m,\u001b[0m \u001b[0msocktype\u001b[0m\u001b[1;33m,\u001b[0m \u001b[0mproto\u001b[0m\u001b[1;33m,\u001b[0m \u001b[0mcanonname\u001b[0m\u001b[1;33m,\u001b[0m \u001b[0msa\u001b[0m \u001b[1;33m=\u001b[0m \u001b[0mres\u001b[0m\u001b[1;33m\u001b[0m\u001b[1;33m\u001b[0m\u001b[0m\n",
      "\u001b[1;31mgaierror\u001b[0m: [Errno 11001] getaddrinfo failed",
      "\nDuring handling of the above exception, another exception occurred:\n",
      "\u001b[1;31mNewConnectionError\u001b[0m                        Traceback (most recent call last)",
      "\u001b[1;32mD:\\New folder\\lib\\site-packages\\urllib3\\connectionpool.py\u001b[0m in \u001b[0;36murlopen\u001b[1;34m(self, method, url, body, headers, retries, redirect, assert_same_host, timeout, pool_timeout, release_conn, chunked, body_pos, **response_kw)\u001b[0m\n\u001b[0;32m    698\u001b[0m             \u001b[1;31m# Make the request on the httplib connection object.\u001b[0m\u001b[1;33m\u001b[0m\u001b[1;33m\u001b[0m\u001b[1;33m\u001b[0m\u001b[0m\n\u001b[1;32m--> 699\u001b[1;33m             httplib_response = self._make_request(\n\u001b[0m\u001b[0;32m    700\u001b[0m                 \u001b[0mconn\u001b[0m\u001b[1;33m,\u001b[0m\u001b[1;33m\u001b[0m\u001b[1;33m\u001b[0m\u001b[0m\n",
      "\u001b[1;32mD:\\New folder\\lib\\site-packages\\urllib3\\connectionpool.py\u001b[0m in \u001b[0;36m_make_request\u001b[1;34m(self, conn, method, url, timeout, chunked, **httplib_request_kw)\u001b[0m\n\u001b[0;32m    393\u001b[0m             \u001b[1;32melse\u001b[0m\u001b[1;33m:\u001b[0m\u001b[1;33m\u001b[0m\u001b[1;33m\u001b[0m\u001b[0m\n\u001b[1;32m--> 394\u001b[1;33m                 \u001b[0mconn\u001b[0m\u001b[1;33m.\u001b[0m\u001b[0mrequest\u001b[0m\u001b[1;33m(\u001b[0m\u001b[0mmethod\u001b[0m\u001b[1;33m,\u001b[0m \u001b[0murl\u001b[0m\u001b[1;33m,\u001b[0m \u001b[1;33m**\u001b[0m\u001b[0mhttplib_request_kw\u001b[0m\u001b[1;33m)\u001b[0m\u001b[1;33m\u001b[0m\u001b[1;33m\u001b[0m\u001b[0m\n\u001b[0m\u001b[0;32m    395\u001b[0m \u001b[1;33m\u001b[0m\u001b[0m\n",
      "\u001b[1;32mD:\\New folder\\lib\\site-packages\\urllib3\\connection.py\u001b[0m in \u001b[0;36mrequest\u001b[1;34m(self, method, url, body, headers)\u001b[0m\n\u001b[0;32m    233\u001b[0m             \u001b[0mheaders\u001b[0m\u001b[1;33m[\u001b[0m\u001b[1;34m\"User-Agent\"\u001b[0m\u001b[1;33m]\u001b[0m \u001b[1;33m=\u001b[0m \u001b[0m_get_default_user_agent\u001b[0m\u001b[1;33m(\u001b[0m\u001b[1;33m)\u001b[0m\u001b[1;33m\u001b[0m\u001b[1;33m\u001b[0m\u001b[0m\n\u001b[1;32m--> 234\u001b[1;33m         \u001b[0msuper\u001b[0m\u001b[1;33m(\u001b[0m\u001b[0mHTTPConnection\u001b[0m\u001b[1;33m,\u001b[0m \u001b[0mself\u001b[0m\u001b[1;33m)\u001b[0m\u001b[1;33m.\u001b[0m\u001b[0mrequest\u001b[0m\u001b[1;33m(\u001b[0m\u001b[0mmethod\u001b[0m\u001b[1;33m,\u001b[0m \u001b[0murl\u001b[0m\u001b[1;33m,\u001b[0m \u001b[0mbody\u001b[0m\u001b[1;33m=\u001b[0m\u001b[0mbody\u001b[0m\u001b[1;33m,\u001b[0m \u001b[0mheaders\u001b[0m\u001b[1;33m=\u001b[0m\u001b[0mheaders\u001b[0m\u001b[1;33m)\u001b[0m\u001b[1;33m\u001b[0m\u001b[1;33m\u001b[0m\u001b[0m\n\u001b[0m\u001b[0;32m    235\u001b[0m \u001b[1;33m\u001b[0m\u001b[0m\n",
      "\u001b[1;32mD:\\New folder\\lib\\http\\client.py\u001b[0m in \u001b[0;36mrequest\u001b[1;34m(self, method, url, body, headers, encode_chunked)\u001b[0m\n\u001b[0;32m   1254\u001b[0m         \u001b[1;34m\"\"\"Send a complete request to the server.\"\"\"\u001b[0m\u001b[1;33m\u001b[0m\u001b[1;33m\u001b[0m\u001b[0m\n\u001b[1;32m-> 1255\u001b[1;33m         \u001b[0mself\u001b[0m\u001b[1;33m.\u001b[0m\u001b[0m_send_request\u001b[0m\u001b[1;33m(\u001b[0m\u001b[0mmethod\u001b[0m\u001b[1;33m,\u001b[0m \u001b[0murl\u001b[0m\u001b[1;33m,\u001b[0m \u001b[0mbody\u001b[0m\u001b[1;33m,\u001b[0m \u001b[0mheaders\u001b[0m\u001b[1;33m,\u001b[0m \u001b[0mencode_chunked\u001b[0m\u001b[1;33m)\u001b[0m\u001b[1;33m\u001b[0m\u001b[1;33m\u001b[0m\u001b[0m\n\u001b[0m\u001b[0;32m   1256\u001b[0m \u001b[1;33m\u001b[0m\u001b[0m\n",
      "\u001b[1;32mD:\\New folder\\lib\\http\\client.py\u001b[0m in \u001b[0;36m_send_request\u001b[1;34m(self, method, url, body, headers, encode_chunked)\u001b[0m\n\u001b[0;32m   1300\u001b[0m             \u001b[0mbody\u001b[0m \u001b[1;33m=\u001b[0m \u001b[0m_encode\u001b[0m\u001b[1;33m(\u001b[0m\u001b[0mbody\u001b[0m\u001b[1;33m,\u001b[0m \u001b[1;34m'body'\u001b[0m\u001b[1;33m)\u001b[0m\u001b[1;33m\u001b[0m\u001b[1;33m\u001b[0m\u001b[0m\n\u001b[1;32m-> 1301\u001b[1;33m         \u001b[0mself\u001b[0m\u001b[1;33m.\u001b[0m\u001b[0mendheaders\u001b[0m\u001b[1;33m(\u001b[0m\u001b[0mbody\u001b[0m\u001b[1;33m,\u001b[0m \u001b[0mencode_chunked\u001b[0m\u001b[1;33m=\u001b[0m\u001b[0mencode_chunked\u001b[0m\u001b[1;33m)\u001b[0m\u001b[1;33m\u001b[0m\u001b[1;33m\u001b[0m\u001b[0m\n\u001b[0m\u001b[0;32m   1302\u001b[0m \u001b[1;33m\u001b[0m\u001b[0m\n",
      "\u001b[1;32mD:\\New folder\\lib\\http\\client.py\u001b[0m in \u001b[0;36mendheaders\u001b[1;34m(self, message_body, encode_chunked)\u001b[0m\n\u001b[0;32m   1249\u001b[0m             \u001b[1;32mraise\u001b[0m \u001b[0mCannotSendHeader\u001b[0m\u001b[1;33m(\u001b[0m\u001b[1;33m)\u001b[0m\u001b[1;33m\u001b[0m\u001b[1;33m\u001b[0m\u001b[0m\n\u001b[1;32m-> 1250\u001b[1;33m         \u001b[0mself\u001b[0m\u001b[1;33m.\u001b[0m\u001b[0m_send_output\u001b[0m\u001b[1;33m(\u001b[0m\u001b[0mmessage_body\u001b[0m\u001b[1;33m,\u001b[0m \u001b[0mencode_chunked\u001b[0m\u001b[1;33m=\u001b[0m\u001b[0mencode_chunked\u001b[0m\u001b[1;33m)\u001b[0m\u001b[1;33m\u001b[0m\u001b[1;33m\u001b[0m\u001b[0m\n\u001b[0m\u001b[0;32m   1251\u001b[0m \u001b[1;33m\u001b[0m\u001b[0m\n",
      "\u001b[1;32mD:\\New folder\\lib\\http\\client.py\u001b[0m in \u001b[0;36m_send_output\u001b[1;34m(self, message_body, encode_chunked)\u001b[0m\n\u001b[0;32m   1009\u001b[0m         \u001b[1;32mdel\u001b[0m \u001b[0mself\u001b[0m\u001b[1;33m.\u001b[0m\u001b[0m_buffer\u001b[0m\u001b[1;33m[\u001b[0m\u001b[1;33m:\u001b[0m\u001b[1;33m]\u001b[0m\u001b[1;33m\u001b[0m\u001b[1;33m\u001b[0m\u001b[0m\n\u001b[1;32m-> 1010\u001b[1;33m         \u001b[0mself\u001b[0m\u001b[1;33m.\u001b[0m\u001b[0msend\u001b[0m\u001b[1;33m(\u001b[0m\u001b[0mmsg\u001b[0m\u001b[1;33m)\u001b[0m\u001b[1;33m\u001b[0m\u001b[1;33m\u001b[0m\u001b[0m\n\u001b[0m\u001b[0;32m   1011\u001b[0m \u001b[1;33m\u001b[0m\u001b[0m\n",
      "\u001b[1;32mD:\\New folder\\lib\\http\\client.py\u001b[0m in \u001b[0;36msend\u001b[1;34m(self, data)\u001b[0m\n\u001b[0;32m    949\u001b[0m             \u001b[1;32mif\u001b[0m \u001b[0mself\u001b[0m\u001b[1;33m.\u001b[0m\u001b[0mauto_open\u001b[0m\u001b[1;33m:\u001b[0m\u001b[1;33m\u001b[0m\u001b[1;33m\u001b[0m\u001b[0m\n\u001b[1;32m--> 950\u001b[1;33m                 \u001b[0mself\u001b[0m\u001b[1;33m.\u001b[0m\u001b[0mconnect\u001b[0m\u001b[1;33m(\u001b[0m\u001b[1;33m)\u001b[0m\u001b[1;33m\u001b[0m\u001b[1;33m\u001b[0m\u001b[0m\n\u001b[0m\u001b[0;32m    951\u001b[0m             \u001b[1;32melse\u001b[0m\u001b[1;33m:\u001b[0m\u001b[1;33m\u001b[0m\u001b[1;33m\u001b[0m\u001b[0m\n",
      "\u001b[1;32mD:\\New folder\\lib\\site-packages\\urllib3\\connection.py\u001b[0m in \u001b[0;36mconnect\u001b[1;34m(self)\u001b[0m\n\u001b[0;32m    199\u001b[0m     \u001b[1;32mdef\u001b[0m \u001b[0mconnect\u001b[0m\u001b[1;33m(\u001b[0m\u001b[0mself\u001b[0m\u001b[1;33m)\u001b[0m\u001b[1;33m:\u001b[0m\u001b[1;33m\u001b[0m\u001b[1;33m\u001b[0m\u001b[0m\n\u001b[1;32m--> 200\u001b[1;33m         \u001b[0mconn\u001b[0m \u001b[1;33m=\u001b[0m \u001b[0mself\u001b[0m\u001b[1;33m.\u001b[0m\u001b[0m_new_conn\u001b[0m\u001b[1;33m(\u001b[0m\u001b[1;33m)\u001b[0m\u001b[1;33m\u001b[0m\u001b[1;33m\u001b[0m\u001b[0m\n\u001b[0m\u001b[0;32m    201\u001b[0m         \u001b[0mself\u001b[0m\u001b[1;33m.\u001b[0m\u001b[0m_prepare_conn\u001b[0m\u001b[1;33m(\u001b[0m\u001b[0mconn\u001b[0m\u001b[1;33m)\u001b[0m\u001b[1;33m\u001b[0m\u001b[1;33m\u001b[0m\u001b[0m\n",
      "\u001b[1;32mD:\\New folder\\lib\\site-packages\\urllib3\\connection.py\u001b[0m in \u001b[0;36m_new_conn\u001b[1;34m(self)\u001b[0m\n\u001b[0;32m    180\u001b[0m         \u001b[1;32mexcept\u001b[0m \u001b[0mSocketError\u001b[0m \u001b[1;32mas\u001b[0m \u001b[0me\u001b[0m\u001b[1;33m:\u001b[0m\u001b[1;33m\u001b[0m\u001b[1;33m\u001b[0m\u001b[0m\n\u001b[1;32m--> 181\u001b[1;33m             raise NewConnectionError(\n\u001b[0m\u001b[0;32m    182\u001b[0m                 \u001b[0mself\u001b[0m\u001b[1;33m,\u001b[0m \u001b[1;34m\"Failed to establish a new connection: %s\"\u001b[0m \u001b[1;33m%\u001b[0m \u001b[0me\u001b[0m\u001b[1;33m\u001b[0m\u001b[1;33m\u001b[0m\u001b[0m\n",
      "\u001b[1;31mNewConnectionError\u001b[0m: <urllib3.connection.HTTPConnection object at 0x0000007067BA0880>: Failed to establish a new connection: [Errno 11001] getaddrinfo failed",
      "\nDuring handling of the above exception, another exception occurred:\n",
      "\u001b[1;31mMaxRetryError\u001b[0m                             Traceback (most recent call last)",
      "\u001b[1;32mD:\\New folder\\lib\\site-packages\\requests\\adapters.py\u001b[0m in \u001b[0;36msend\u001b[1;34m(self, request, stream, timeout, verify, cert, proxies)\u001b[0m\n\u001b[0;32m    438\u001b[0m             \u001b[1;32mif\u001b[0m \u001b[1;32mnot\u001b[0m \u001b[0mchunked\u001b[0m\u001b[1;33m:\u001b[0m\u001b[1;33m\u001b[0m\u001b[1;33m\u001b[0m\u001b[0m\n\u001b[1;32m--> 439\u001b[1;33m                 resp = conn.urlopen(\n\u001b[0m\u001b[0;32m    440\u001b[0m                     \u001b[0mmethod\u001b[0m\u001b[1;33m=\u001b[0m\u001b[0mrequest\u001b[0m\u001b[1;33m.\u001b[0m\u001b[0mmethod\u001b[0m\u001b[1;33m,\u001b[0m\u001b[1;33m\u001b[0m\u001b[1;33m\u001b[0m\u001b[0m\n",
      "\u001b[1;32mD:\\New folder\\lib\\site-packages\\urllib3\\connectionpool.py\u001b[0m in \u001b[0;36murlopen\u001b[1;34m(self, method, url, body, headers, retries, redirect, assert_same_host, timeout, pool_timeout, release_conn, chunked, body_pos, **response_kw)\u001b[0m\n\u001b[0;32m    754\u001b[0m \u001b[1;33m\u001b[0m\u001b[0m\n\u001b[1;32m--> 755\u001b[1;33m             retries = retries.increment(\n\u001b[0m\u001b[0;32m    756\u001b[0m                 \u001b[0mmethod\u001b[0m\u001b[1;33m,\u001b[0m \u001b[0murl\u001b[0m\u001b[1;33m,\u001b[0m \u001b[0merror\u001b[0m\u001b[1;33m=\u001b[0m\u001b[0me\u001b[0m\u001b[1;33m,\u001b[0m \u001b[0m_pool\u001b[0m\u001b[1;33m=\u001b[0m\u001b[0mself\u001b[0m\u001b[1;33m,\u001b[0m \u001b[0m_stacktrace\u001b[0m\u001b[1;33m=\u001b[0m\u001b[0msys\u001b[0m\u001b[1;33m.\u001b[0m\u001b[0mexc_info\u001b[0m\u001b[1;33m(\u001b[0m\u001b[1;33m)\u001b[0m\u001b[1;33m[\u001b[0m\u001b[1;36m2\u001b[0m\u001b[1;33m]\u001b[0m\u001b[1;33m\u001b[0m\u001b[1;33m\u001b[0m\u001b[0m\n",
      "\u001b[1;32mD:\\New folder\\lib\\site-packages\\urllib3\\util\\retry.py\u001b[0m in \u001b[0;36mincrement\u001b[1;34m(self, method, url, response, error, _pool, _stacktrace)\u001b[0m\n\u001b[0;32m    573\u001b[0m         \u001b[1;32mif\u001b[0m \u001b[0mnew_retry\u001b[0m\u001b[1;33m.\u001b[0m\u001b[0mis_exhausted\u001b[0m\u001b[1;33m(\u001b[0m\u001b[1;33m)\u001b[0m\u001b[1;33m:\u001b[0m\u001b[1;33m\u001b[0m\u001b[1;33m\u001b[0m\u001b[0m\n\u001b[1;32m--> 574\u001b[1;33m             \u001b[1;32mraise\u001b[0m \u001b[0mMaxRetryError\u001b[0m\u001b[1;33m(\u001b[0m\u001b[0m_pool\u001b[0m\u001b[1;33m,\u001b[0m \u001b[0murl\u001b[0m\u001b[1;33m,\u001b[0m \u001b[0merror\u001b[0m \u001b[1;32mor\u001b[0m \u001b[0mResponseError\u001b[0m\u001b[1;33m(\u001b[0m\u001b[0mcause\u001b[0m\u001b[1;33m)\u001b[0m\u001b[1;33m)\u001b[0m\u001b[1;33m\u001b[0m\u001b[1;33m\u001b[0m\u001b[0m\n\u001b[0m\u001b[0;32m    575\u001b[0m \u001b[1;33m\u001b[0m\u001b[0m\n",
      "\u001b[1;31mMaxRetryError\u001b[0m: HTTPConnectionPool(host='www.facebook.com', port=80): Max retries exceeded with url: / (Caused by NewConnectionError('<urllib3.connection.HTTPConnection object at 0x0000007067BA0880>: Failed to establish a new connection: [Errno 11001] getaddrinfo failed'))",
      "\nDuring handling of the above exception, another exception occurred:\n",
      "\u001b[1;31mConnectionError\u001b[0m                           Traceback (most recent call last)",
      "\u001b[1;32m<ipython-input-89-8894000122d6>\u001b[0m in \u001b[0;36m<module>\u001b[1;34m\u001b[0m\n\u001b[1;32m----> 1\u001b[1;33m \u001b[0mresult\u001b[0m \u001b[1;33m=\u001b[0m \u001b[0mrequests\u001b[0m\u001b[1;33m.\u001b[0m\u001b[0mget\u001b[0m\u001b[1;33m(\u001b[0m\u001b[1;34m\"http://www.facebook.com\"\u001b[0m\u001b[1;33m)\u001b[0m\u001b[1;33m\u001b[0m\u001b[1;33m\u001b[0m\u001b[0m\n\u001b[0m",
      "\u001b[1;32mD:\\New folder\\lib\\site-packages\\requests\\api.py\u001b[0m in \u001b[0;36mget\u001b[1;34m(url, params, **kwargs)\u001b[0m\n\u001b[0;32m     74\u001b[0m \u001b[1;33m\u001b[0m\u001b[0m\n\u001b[0;32m     75\u001b[0m     \u001b[0mkwargs\u001b[0m\u001b[1;33m.\u001b[0m\u001b[0msetdefault\u001b[0m\u001b[1;33m(\u001b[0m\u001b[1;34m'allow_redirects'\u001b[0m\u001b[1;33m,\u001b[0m \u001b[1;32mTrue\u001b[0m\u001b[1;33m)\u001b[0m\u001b[1;33m\u001b[0m\u001b[1;33m\u001b[0m\u001b[0m\n\u001b[1;32m---> 76\u001b[1;33m     \u001b[1;32mreturn\u001b[0m \u001b[0mrequest\u001b[0m\u001b[1;33m(\u001b[0m\u001b[1;34m'get'\u001b[0m\u001b[1;33m,\u001b[0m \u001b[0murl\u001b[0m\u001b[1;33m,\u001b[0m \u001b[0mparams\u001b[0m\u001b[1;33m=\u001b[0m\u001b[0mparams\u001b[0m\u001b[1;33m,\u001b[0m \u001b[1;33m**\u001b[0m\u001b[0mkwargs\u001b[0m\u001b[1;33m)\u001b[0m\u001b[1;33m\u001b[0m\u001b[1;33m\u001b[0m\u001b[0m\n\u001b[0m\u001b[0;32m     77\u001b[0m \u001b[1;33m\u001b[0m\u001b[0m\n\u001b[0;32m     78\u001b[0m \u001b[1;33m\u001b[0m\u001b[0m\n",
      "\u001b[1;32mD:\\New folder\\lib\\site-packages\\requests\\api.py\u001b[0m in \u001b[0;36mrequest\u001b[1;34m(method, url, **kwargs)\u001b[0m\n\u001b[0;32m     59\u001b[0m     \u001b[1;31m# cases, and look like a memory leak in others.\u001b[0m\u001b[1;33m\u001b[0m\u001b[1;33m\u001b[0m\u001b[1;33m\u001b[0m\u001b[0m\n\u001b[0;32m     60\u001b[0m     \u001b[1;32mwith\u001b[0m \u001b[0msessions\u001b[0m\u001b[1;33m.\u001b[0m\u001b[0mSession\u001b[0m\u001b[1;33m(\u001b[0m\u001b[1;33m)\u001b[0m \u001b[1;32mas\u001b[0m \u001b[0msession\u001b[0m\u001b[1;33m:\u001b[0m\u001b[1;33m\u001b[0m\u001b[1;33m\u001b[0m\u001b[0m\n\u001b[1;32m---> 61\u001b[1;33m         \u001b[1;32mreturn\u001b[0m \u001b[0msession\u001b[0m\u001b[1;33m.\u001b[0m\u001b[0mrequest\u001b[0m\u001b[1;33m(\u001b[0m\u001b[0mmethod\u001b[0m\u001b[1;33m=\u001b[0m\u001b[0mmethod\u001b[0m\u001b[1;33m,\u001b[0m \u001b[0murl\u001b[0m\u001b[1;33m=\u001b[0m\u001b[0murl\u001b[0m\u001b[1;33m,\u001b[0m \u001b[1;33m**\u001b[0m\u001b[0mkwargs\u001b[0m\u001b[1;33m)\u001b[0m\u001b[1;33m\u001b[0m\u001b[1;33m\u001b[0m\u001b[0m\n\u001b[0m\u001b[0;32m     62\u001b[0m \u001b[1;33m\u001b[0m\u001b[0m\n\u001b[0;32m     63\u001b[0m \u001b[1;33m\u001b[0m\u001b[0m\n",
      "\u001b[1;32mD:\\New folder\\lib\\site-packages\\requests\\sessions.py\u001b[0m in \u001b[0;36mrequest\u001b[1;34m(self, method, url, params, data, headers, cookies, files, auth, timeout, allow_redirects, proxies, hooks, stream, verify, cert, json)\u001b[0m\n\u001b[0;32m    540\u001b[0m         }\n\u001b[0;32m    541\u001b[0m         \u001b[0msend_kwargs\u001b[0m\u001b[1;33m.\u001b[0m\u001b[0mupdate\u001b[0m\u001b[1;33m(\u001b[0m\u001b[0msettings\u001b[0m\u001b[1;33m)\u001b[0m\u001b[1;33m\u001b[0m\u001b[1;33m\u001b[0m\u001b[0m\n\u001b[1;32m--> 542\u001b[1;33m         \u001b[0mresp\u001b[0m \u001b[1;33m=\u001b[0m \u001b[0mself\u001b[0m\u001b[1;33m.\u001b[0m\u001b[0msend\u001b[0m\u001b[1;33m(\u001b[0m\u001b[0mprep\u001b[0m\u001b[1;33m,\u001b[0m \u001b[1;33m**\u001b[0m\u001b[0msend_kwargs\u001b[0m\u001b[1;33m)\u001b[0m\u001b[1;33m\u001b[0m\u001b[1;33m\u001b[0m\u001b[0m\n\u001b[0m\u001b[0;32m    543\u001b[0m \u001b[1;33m\u001b[0m\u001b[0m\n\u001b[0;32m    544\u001b[0m         \u001b[1;32mreturn\u001b[0m \u001b[0mresp\u001b[0m\u001b[1;33m\u001b[0m\u001b[1;33m\u001b[0m\u001b[0m\n",
      "\u001b[1;32mD:\\New folder\\lib\\site-packages\\requests\\sessions.py\u001b[0m in \u001b[0;36msend\u001b[1;34m(self, request, **kwargs)\u001b[0m\n\u001b[0;32m    653\u001b[0m \u001b[1;33m\u001b[0m\u001b[0m\n\u001b[0;32m    654\u001b[0m         \u001b[1;31m# Send the request\u001b[0m\u001b[1;33m\u001b[0m\u001b[1;33m\u001b[0m\u001b[1;33m\u001b[0m\u001b[0m\n\u001b[1;32m--> 655\u001b[1;33m         \u001b[0mr\u001b[0m \u001b[1;33m=\u001b[0m \u001b[0madapter\u001b[0m\u001b[1;33m.\u001b[0m\u001b[0msend\u001b[0m\u001b[1;33m(\u001b[0m\u001b[0mrequest\u001b[0m\u001b[1;33m,\u001b[0m \u001b[1;33m**\u001b[0m\u001b[0mkwargs\u001b[0m\u001b[1;33m)\u001b[0m\u001b[1;33m\u001b[0m\u001b[1;33m\u001b[0m\u001b[0m\n\u001b[0m\u001b[0;32m    656\u001b[0m \u001b[1;33m\u001b[0m\u001b[0m\n\u001b[0;32m    657\u001b[0m         \u001b[1;31m# Total elapsed time of the request (approximately)\u001b[0m\u001b[1;33m\u001b[0m\u001b[1;33m\u001b[0m\u001b[1;33m\u001b[0m\u001b[0m\n",
      "\u001b[1;32mD:\\New folder\\lib\\site-packages\\requests\\adapters.py\u001b[0m in \u001b[0;36msend\u001b[1;34m(self, request, stream, timeout, verify, cert, proxies)\u001b[0m\n\u001b[0;32m    514\u001b[0m                 \u001b[1;32mraise\u001b[0m \u001b[0mSSLError\u001b[0m\u001b[1;33m(\u001b[0m\u001b[0me\u001b[0m\u001b[1;33m,\u001b[0m \u001b[0mrequest\u001b[0m\u001b[1;33m=\u001b[0m\u001b[0mrequest\u001b[0m\u001b[1;33m)\u001b[0m\u001b[1;33m\u001b[0m\u001b[1;33m\u001b[0m\u001b[0m\n\u001b[0;32m    515\u001b[0m \u001b[1;33m\u001b[0m\u001b[0m\n\u001b[1;32m--> 516\u001b[1;33m             \u001b[1;32mraise\u001b[0m \u001b[0mConnectionError\u001b[0m\u001b[1;33m(\u001b[0m\u001b[0me\u001b[0m\u001b[1;33m,\u001b[0m \u001b[0mrequest\u001b[0m\u001b[1;33m=\u001b[0m\u001b[0mrequest\u001b[0m\u001b[1;33m)\u001b[0m\u001b[1;33m\u001b[0m\u001b[1;33m\u001b[0m\u001b[0m\n\u001b[0m\u001b[0;32m    517\u001b[0m \u001b[1;33m\u001b[0m\u001b[0m\n\u001b[0;32m    518\u001b[0m         \u001b[1;32mexcept\u001b[0m \u001b[0mClosedPoolError\u001b[0m \u001b[1;32mas\u001b[0m \u001b[0me\u001b[0m\u001b[1;33m:\u001b[0m\u001b[1;33m\u001b[0m\u001b[1;33m\u001b[0m\u001b[0m\n",
      "\u001b[1;31mConnectionError\u001b[0m: HTTPConnectionPool(host='www.facebook.com', port=80): Max retries exceeded with url: / (Caused by NewConnectionError('<urllib3.connection.HTTPConnection object at 0x0000007067BA0880>: Failed to establish a new connection: [Errno 11001] getaddrinfo failed'))"
     ]
    }
   ],
   "source": [
    "result = requests.get(\"http://www.facebook.com\")"
   ]
  },
  {
   "cell_type": "code",
   "execution_count": 82,
   "id": "6f00f913",
   "metadata": {},
   "outputs": [
    {
     "data": {
      "text/plain": [
       "requests.models.Response"
      ]
     },
     "execution_count": 82,
     "metadata": {},
     "output_type": "execute_result"
    }
   ],
   "source": [
    "type(result)"
   ]
  },
  {
   "cell_type": "code",
   "execution_count": 83,
   "id": "b4cfad13",
   "metadata": {},
   "outputs": [
    {
     "data": {
      "text/plain": [
       "'    <!DOCTYPE html>\\n<html class=\"b-header--black--white b-pw-1280 b-reith-sans-font\">\\n\\n    <head>\\n        <meta http-equiv=\"Content-Type\" content=\"text/html; charset=UTF-8\">\\n        <meta name=\"description\" content=\"Breaking news, sport, TV, radio and a whole lot more.\\n        The BBC informs, educates and entertains - wherever you are, whatever your age.\">\\n        <meta name=\"keywords\" content=\"BBC, bbc.co.uk, bbc.com, Search, British Broadcasting Corporation, BBC iPlayer, BBCi\">\\n        <title>BBC - Homepage</title>\\n\\n        <script>\\n            window.orb_fig_blocking = true;\\n            window.bbcredirection = {geo: true};\\n        </script>\\n\\n        <!-- WWHPv: 20210621-1346-9144af9173f4d0c427a321d53978bb7d2ed2652e -->\\n        <!-- Webapp: WWHP international homepage -->\\n        <meta property=\"fb:page_id\" content=\"228735667216\" />\\n        <meta property=\"fb:admins\" content=\"297814326937641\" />\\n        <meta property=\"fb:app_id\" content=\"187214818032936\" />\\n        <meta property=\"og:title\" content=\"BBC - Homepage\" />\\n        <meta property=\"og:type\" content=\"website\" />\\n        <meta property=\"og:url\" content=\"https://www.bbc.com/\" />\\n        <meta name=\"msvalidate.01\" content=\"A09EF0BF1FC5CDBB37D921CBC3776943\" />\\n        <meta property=\"wwhp-edition\" content=\"asia\" />\\n        <meta name=\"viewport\" content=\"width=device-width, initial-scale=1.0\">\\n\\n        <!-- Start Facebook Instant Articles Ownership Verification -->\\n        <meta property=\"fb:pages\" content=\"228735667216\" />\\n        <!-- End Facebook Instant Articles Ownership Verification -->\\n\\n        \\n        <link rel=\"apple-touch-icon\" href=\"https://gn-web-assets.api.bbc.com/wwhp/20210621-1346-9144af9173f4d0c427a321d53978bb7d2ed2652e/responsive/img/apple-touch/apple-touch-180.jpg\">\\n\\n        <script src=\"https://static.files.bbci.co.uk/orbit/ebd948b6090504d3f9a74b26eaba3e9e//js/require.min.js\"></script>\\n\\n<link rel=\"stylesheet\" href=\"https://static.files.bbci.co.uk/orbit/ebd948b6090504d3f9a74b26eaba3e9e//css/orb-ltr.min.css\">\\n\\n<!-- Orbit: 3.0.0-1561.bbeb788c -->\\n<!-- Environment: live -->\\n<meta name=\"viewport\" content=\"width=device-width, initial-scale=1.0\">\\n\\n<script>\\n    // nav-orbit-pollyfills\\n    // Promise polyfill from https://github.com/bramstein/promis\\n    (function(){\\'use strict\\';var f,g=[];function l(a){g.push(a);1==g.length&&f()}function m(){for(;g.length;)g[0](),g.shift()}f=function(){setTimeout(m)};function n(a){this.a=p;this.b=void 0;this.f=[];var b=this;try{a(function(a){q(b,a)},function(a){r(b,a)})}catch(c){r(b,c)}}var p=2;function t(a){return new n(function(b,c){c(a)})}function u(a){return new n(function(b){b(a)})}function q(a,b){if(a.a==p){if(b==a)throw new TypeError;var c=!1;try{var d=b&&b.then;if(null!=b&&\"object\"==typeof b&&\"function\"==typeof d){d.call(b,function(b){c||q(a,b);c=!0},function(b){c||r(a,b);c=!0});return}}catch(e){c||r(a,e);return}a.a=0;a.b=b;v(a)}} function r(a,b){if(a.a==p){if(b==a)throw new TypeError;a.a=1;a.b=b;v(a)}}function v(a){l(function(){if(a.a!=p)for(;a.f.length;){var b=a.f.shift(),c=b[0],d=b[1],e=b[2],b=b[3];try{0==a.a?\"function\"==typeof c?e(c.call(void 0,a.b)):e(a.b):1==a.a&&(\"function\"==typeof d?e(d.call(void 0,a.b)):b(a.b))}catch(h){b(h)}}})}n.prototype.g=function(a){return this.c(void 0,a)};n.prototype.c=function(a,b){var c=this;return new n(function(d,e){c.f.push([a,b,d,e]);v(c)})}; function w(a){return new n(function(b,c){function d(c){return function(d){h[c]=d;e+=1;e==a.length&&b(h)}}var e=0,h=[];0==a.length&&b(h);for(var k=0;k<a.length;k+=1)u(a[k]).c(d(k),c)})}function x(a){return new n(function(b,c){for(var d=0;d<a.length;d+=1)u(a[d]).c(b,c)})};window.Promise||(window.Promise=n,window.Promise.resolve=u,window.Promise.reject=t,window.Promise.race=x,window.Promise.all=w,window.Promise.prototype.then=n.prototype.c,window.Promise.prototype[\"catch\"]=n.prototype.g);}());\\n\\n\\n    // Polyfill Event constructor for IE ref: ORBITEN-919\\n    // see: https://stackoverflow.com/questions/26596123\\n    (function () {\\n      if (typeof window.CustomEvent === \"function\") {\\n        return false;\\n      }\\n      function CustomEvent(event, params) {\\n        params = params || { bubbles: false, cancelable: false, detail: undefined };\\n        var evt = document.createEvent(\\'CustomEvent\\');\\n        evt.initCustomEvent(event, params.bubbles, params.cancelable, params.detail);\\n        return evt;\\n      }\\n      CustomEvent.prototype = window.Event.prototype;\\n      window.Event = CustomEvent;\\n    })();\\n\\n\\n    //Element.prototype.matches polyfill\\n    //from https://developer.mozilla.org/en-US/docs/Web/API/Element/matches#Polyfill\\n    if (!Element.prototype.matches) {\\n      Element.prototype.matches = Element.prototype.msMatchesSelector ||\\n                                  Element.prototype.webkitMatchesSelector;\\n    }\\n    //NodeList.forEach Polyfill\\n    //from https://developer.mozilla.org/en-US/docs/Web/API/NodeList/forEach#Polyfill\\n    if (window.NodeList && !NodeList.prototype.forEach) {\\n      NodeList.prototype.forEach = Array.prototype.forEach;\\n    }\\n\\n    // Object.assign polyfill from https://developer.mozilla.org/en-US/docs/Web/JavaScript/Reference/Global_Objects/Object/assign#Polyfill\\n    if (typeof Object.assign != \\'function\\') {\\n      // Must be writable: true, enumerable: false, configurable: true\\n      Object.defineProperty(Object, \"assign\", {\\n        value: function assign(target, varArgs) { // .length of function is 2\\n          \\'use strict\\';\\n          if (target == null) { // TypeError if undefined or null\\n            throw new TypeError(\\'Cannot convert undefined or null to object\\');\\n          }\\n\\n          var to = Object(target);\\n\\n          for (var index = 1; index < arguments.length; index++) {\\n            var nextSource = arguments[index];\\n\\n            if (nextSource != null) { // Skip over if undefined or null\\n              for (var nextKey in nextSource) {\\n                // Avoid bugs when hasOwnProperty is shadowed\\n                if (Object.prototype.hasOwnProperty.call(nextSource, nextKey)) {\\n                  to[nextKey] = nextSource[nextKey];\\n                }\\n              }\\n            }\\n          }\\n          return to;\\n        },\\n        writable: true,\\n        configurable: true\\n      });\\n    }\\n\\n    // window.fetch polyfill https://github.com/github/fetch/blob/v0.11.0/fetch.js - chosen for IE9 compatibility\\n    if(typeof window.fetch !== \\'function\\') {\\n      (function(self){\"use strict\";if(self.fetch){return}function normalizeName(name){if(typeof name!==\"string\"){name=String(name)}if(/[^a-z0-9\\\\-#$%&\\'*+.\\\\^_`|~]/i.test(name)){throw new TypeError(\"Invalid character in header field name\")}return name.toLowerCase()}function normalizeValue(value){if(typeof value!==\"string\"){value=String(value)}return value}function Headers(headers){this.map={};if(headers instanceof Headers){headers.forEach(function(value,name){this.append(name,value)},this)}else if(headers){Object.getOwnPropertyNames(headers).forEach(function(name){this.append(name,headers[name])},this)}}Headers.prototype.append=function(name,value){name=normalizeName(name);value=normalizeValue(value);var list=this.map[name];if(!list){list=[];this.map[name]=list}list.push(value)};Headers.prototype[\"delete\"]=function(name){delete this.map[normalizeName(name)]};Headers.prototype.get=function(name){var values=this.map[normalizeName(name)];return values?values[0]:null};Headers.prototype.getAll=function(name){return this.map[normalizeName(name)]||[]};Headers.prototype.has=function(name){return this.map.hasOwnProperty(normalizeName(name))};Headers.prototype.set=function(name,value){this.map[normalizeName(name)]=[normalizeValue(value)]};Headers.prototype.forEach=function(callback,thisArg){Object.getOwnPropertyNames(this.map).forEach(function(name){this.map[name].forEach(function(value){callback.call(thisArg,value,name,this)},this)},this)};function consumed(body){if(body.bodyUsed){return Promise.reject(new TypeError(\"Already read\"))}body.bodyUsed=true}function fileReaderReady(reader){return new Promise(function(resolve,reject){reader.onload=function(){resolve(reader.result)};reader.onerror=function(){reject(reader.error)}})}function readBlobAsArrayBuffer(blob){var reader=new FileReader;reader.readAsArrayBuffer(blob);return fileReaderReady(reader)}function readBlobAsText(blob){var reader=new FileReader;reader.readAsText(blob);return fileReaderReady(reader)}var support={blob:\"FileReader\"in self&&\"Blob\"in self&&function(){try{new Blob;return true}catch(e){return false}}(),formData:\"FormData\"in self,arrayBuffer:\"ArrayBuffer\"in self};function Body(){this.bodyUsed=false;this._initBody=function(body){this._bodyInit=body;if(typeof body===\"string\"){this._bodyText=body}else if(support.blob&&Blob.prototype.isPrototypeOf(body)){this._bodyBlob=body}else if(support.formData&&FormData.prototype.isPrototypeOf(body)){this._bodyFormData=body}else if(!body){this._bodyText=\"\"}else if(support.arrayBuffer&&ArrayBuffer.prototype.isPrototypeOf(body)){}else{throw new Error(\"unsupported BodyInit type\")}if(!this.headers.get(\"content-type\")){if(typeof body===\"string\"){this.headers.set(\"content-type\",\"text/plain;charset=UTF-8\")}else if(this._bodyBlob&&this._bodyBlob.type){this.headers.set(\"content-type\",this._bodyBlob.type)}}};if(support.blob){this.blob=function(){var rejected=consumed(this);if(rejected){return rejected}if(this._bodyBlob){return Promise.resolve(this._bodyBlob)}else if(this._bodyFormData){throw new Error(\"could not read FormData body as blob\")}else{return Promise.resolve(new Blob([this._bodyText]))}};this.arrayBuffer=function(){return this.blob().then(readBlobAsArrayBuffer)};this.text=function(){var rejected=consumed(this);if(rejected){return rejected}if(this._bodyBlob){return readBlobAsText(this._bodyBlob)}else if(this._bodyFormData){throw new Error(\"could not read FormData body as text\")}else{return Promise.resolve(this._bodyText)}}}else{this.text=function(){var rejected=consumed(this);return rejected?rejected:Promise.resolve(this._bodyText)}}if(support.formData){this.formData=function(){return this.text().then(decode)}}this.json=function(){return this.text().then(JSON.parse)};return this}var methods=[\"DELETE\",\"GET\",\"HEAD\",\"OPTIONS\",\"POST\",\"PUT\"];function normalizeMethod(method){var upcased=method.toUpperCase();return methods.indexOf(upcased)>-1?upcased:method}function Request(input,options){options=options||{};var body=options.body;if(Request.prototype.isPrototypeOf(input)){if(input.bodyUsed){throw new TypeError(\"Already read\")}this.url=input.url;this.credentials=input.credentials;if(!options.headers){this.headers=new Headers(input.headers)}this.method=input.method;this.mode=input.mode;if(!body){body=input._bodyInit;input.bodyUsed=true}}else{this.url=input}this.credentials=options.credentials||this.credentials||\"omit\";if(options.headers||!this.headers){this.headers=new Headers(options.headers)}this.method=normalizeMethod(options.method||this.method||\"GET\");this.mode=options.mode||this.mode||null;this.referrer=null;if((this.method===\"GET\"||this.method===\"HEAD\")&&body){throw new TypeError(\"Body not allowed for GET or HEAD requests\")}this._initBody(body)}Request.prototype.clone=function(){return new Request(this)};function decode(body){var form=new FormData;body.trim().split(\"&\").forEach(function(bytes){if(bytes){var split=bytes.split(\"=\");var name=split.shift().replace(/\\\\+/g,\" \");var value=split.join(\"=\").replace(/\\\\+/g,\" \");form.append(decodeURIComponent(name),decodeURIComponent(value))}});return form}function headers(xhr){var head=new Headers;var pairs=xhr.getAllResponseHeaders().trim().split(\"\\\\n\");pairs.forEach(function(header){var split=header.trim().split(\":\");var key=split.shift().trim();var value=split.join(\":\").trim();head.append(key,value)});return head}Body.call(Request.prototype);function Response(bodyInit,options){if(!options){options={}}this.type=\"default\";this.status=options.status;this.ok=this.status>=200&&this.status<300;this.statusText=options.statusText;this.headers=options.headers instanceof Headers?options.headers:new Headers(options.headers);this.url=options.url||\"\";this._initBody(bodyInit)}Body.call(Response.prototype);Response.prototype.clone=function(){return new Response(this._bodyInit,{status:this.status,statusText:this.statusText,headers:new Headers(this.headers),url:this.url})};Response.error=function(){var response=new Response(null,{status:0,statusText:\"\"});response.type=\"error\";return response};var redirectStatuses=[301,302,303,307,308];Response.redirect=function(url,status){if(redirectStatuses.indexOf(status)===-1){throw new RangeError(\"Invalid status code\")}return new Response(null,{status:status,headers:{location:url}})};self.Headers=Headers;self.Request=Request;self.Response=Response;self.fetch=function(input,init){return new Promise(function(resolve,reject){var request;if(Request.prototype.isPrototypeOf(input)&&!init){request=input}else{request=new Request(input,init)}var xhr=new XMLHttpRequest;function responseURL(){if(\"responseURL\"in xhr){return xhr.responseURL}if(/^X-Request-URL:/m.test(xhr.getAllResponseHeaders())){return xhr.getResponseHeader(\"X-Request-URL\")}return}xhr.onload=function(){var status=xhr.status===1223?204:xhr.status;if(status<100||status>599){reject(new TypeError(\"Network request failed\"));return}var options={status:status,statusText:xhr.statusText,headers:headers(xhr),url:responseURL()};var body=\"response\"in xhr?xhr.response:xhr.responseText;resolve(new Response(body,options))};xhr.onerror=function(){reject(new TypeError(\"Network request failed\"))};xhr.open(request.method,request.url,true);if(request.credentials===\"include\"){xhr.withCredentials=true}if(\"responseType\"in xhr&&support.blob){xhr.responseType=\"blob\"}request.headers.forEach(function(value,name){xhr.setRequestHeader(name,value)});xhr.send(typeof request._bodyInit===\"undefined\"?null:request._bodyInit)})};self.fetch.polyfill=true})(typeof self!==\"undefined\"?self:this);\\n    }\\n\\n    if (typeof window.CustomEvent !== \\'function\\') {\\n\\n      function CustomEvent(event, params) {\\n        params = params || { bubbles: false, cancelable: false, detail: null };\\n        var evt = document.createEvent(\\'CustomEvent\\');\\n        evt.initCustomEvent(event, params.bubbles, params.cancelable, params.detail);\\n        return evt;\\n      }\\n\\n      CustomEvent.prototype = window.Event.prototype;\\n\\n      window.CustomEvent = CustomEvent;\\n\\n    }\\n</script>\\n\\n<script>\\n    window.orbitData = {};\\n\\n    var additionalPageProperties = {};\\n        additionalPageProperties[\\'custom_var_1\\'] = \\'asia\\' || null;\\n        additionalPageProperties[\\'custom_var_9\\'] = \\'1\\' || null;\\n\\n    window.orbitData.partialCookieOvenUrl = \\'https://cookie-oven.api.bbc\\';\\n\\n    window.orbitData.userProfileUrl = \"https://www.bbc.co.uk/userprofile\";\\n\\n    window.page = {\\n        name: \\'home.page\\' || null,\\n        destination: \\'HOMEPAGE_GNL\\' || null,\\n        producer: \\'GNL_HOMEPAGE\\' || null,\\n        section: \\'\\' || null,\\n        site: \\'\\' || null,\\n        contentId: \\'\\' || null,\\n        contentType: \\'Index-home\\' || null,\\n        edition: \\'\\' || null,\\n        additionalProperties: additionalPageProperties\\n    };\\n    window.page.language = \\'en\\';\\n    window.page.language = \\'en\\';\\n\\n    window.page.modal = false;\\n\\n\\n       window.orb = {\\n         worldwideNavlinks: \\'<li class=\"orb-nav-homedotcom\"><a href=\"https://www.bbc.com/\">Home</a></li><li class=\"orb-nav-newsdotcom\"><a href=\"https://www.bbc.com/news\">News</a></li><li class=\"orb-nav-sport\"><a href=\"https://www.bbc.com/sport\">Sport</a></li><li class=\"orb-nav-reeldotcom\"><a href=\"https://www.bbc.com/reel\">Reel</a></li><li class=\"orb-nav-worklife\"><a href=\"https://www.bbc.com/worklife\">Worklife</a></li><li class=\"orb-nav-traveldotcom\"><a href=\"https://www.bbc.com/travel\">Travel</a></li><li class=\"orb-nav-future\"><a href=\"https://www.bbc.com/future\">Future</a></li><li class=\"orb-nav-culture\"><a href=\"https://www.bbc.com/culture\">Culture</a></li><li class=\"orb-nav-music\"><a href=\"https://www.bbc.com/culture/music\">Music</a></li><li class=\"orb-nav-tv\"><a href=\"https://www.bbc.co.uk/schedules/p00fzl9m\">TV</a></li><li class=\"orb-nav-weather\"><a href=\"https://www.bbc.com/weather\">Weather</a></li><li class=\"orb-nav-sounds\"><a href=\"https://www.bbc.co.uk/sounds\">Sounds</a></li>\\',\\n       }\\n\\n\\n!function(){var t={1391:function(t){function e(t,e){var r=Object.keys(t);if(Object.getOwnPropertySymbols){var n=Object.getOwnPropertySymbols(t);e&&(n=n.filter((function(e){return Object.getOwnPropertyDescriptor(t,e).enumerable}))),r.push.apply(r,n)}return r}function r(t){for(var r=1;r<arguments.length;r++){var o=null!=arguments[r]?arguments[r]:{};r%2?e(Object(o),!0).forEach((function(e){n(t,e,o[e])})):Object.getOwnPropertyDescriptors?Object.defineProperties(t,Object.getOwnPropertyDescriptors(o)):e(Object(o)).forEach((function(e){Object.defineProperty(t,e,Object.getOwnPropertyDescriptor(o,e))}))}return t}function n(t,e,r){return e in t?Object.defineProperty(t,e,{value:r,enumerable:!0,configurable:!0,writable:!0}):t[e]=r,t}var o=r({},window.page);document.addEventListener(\"bbc-page-reset\",(function(t){var e;t.detail&&t.detail.page&&(e=t.detail.page,o=Object.assign(o,e)),document.dispatchEvent(new Event(\"bbc-page-updated\"))}));var i={getName:function(){return Promise.resolve(o.name||function(){if(\"file:\"===window.location.protocol)return\"local.file\";var t=window.location.pathname.replace(/\\\\/$/,\"\").replace(/^\\\\//,\"\").replace(/\\\\//g,\".\");return\"\".concat(t,\".page\")}())},getLanguage:function(){return Promise.resolve(o.language)},getDestination:function(){return Promise.resolve(o.destination)},getProducer:function(){return Promise.resolve(o.producer)},getSection:function(){return Promise.resolve(o.section)},getContentType:function(){return Promise.resolve(o.contentType)},getContentId:function(){return Promise.resolve(o.contentId)},getReferrer:function(){return Promise.resolve(window.orb&&null!==window.orb.referrer&&void 0!==window.orb.referrer?window.orb.referrer:document.referrer)},getAdditionalProperties:function(){return Promise.resolve(r({},o.additionalProperties))},loadCSS:function(t){return new Promise((function(e,r){var n=document.createElement(\"link\");n.type=\"text/css\",n.rel=\"stylesheet\",n.onload=function(){e()},n.href=t,document.getElementsByTagName(\"head\")[0].appendChild(n)}))},isModal:function(){return Promise.resolve(o.modal)}};window.bbcpage=i,t.exports={bbcpage:i}},9135:function(t){function e(t){return(e=\"function\"==typeof Symbol&&\"symbol\"==typeof Symbol.iterator?function(t){return typeof t}:function(t){return t&&\"function\"==typeof Symbol&&t.constructor===Symbol&&t!==Symbol.prototype?\"symbol\":typeof t})(t)}function r(t,e){if(!(t instanceof e))throw new TypeError(\"Cannot call a class as a function\")}function n(t,r){return!r||\"object\"!==e(r)&&\"function\"!=typeof r?function(t){if(void 0===t)throw new ReferenceError(\"this hasn\\'t been initialised - super() hasn\\'t been called\");return t}(t):r}function o(t){var e=\"function\"==typeof Map?new Map:void 0;return(o=function(t){if(null===t||(r=t,-1===Function.toString.call(r).indexOf(\"[native code]\")))return t;var r;if(\"function\"!=typeof t)throw new TypeError(\"Super expression must either be null or a function\");if(void 0!==e){if(e.has(t))return e.get(t);e.set(t,n)}function n(){return i(t,arguments,c(this).constructor)}return n.prototype=Object.create(t.prototype,{constructor:{value:n,enumerable:!1,writable:!0,configurable:!0}}),u(n,t)})(t)}function i(t,e,r){return(i=a()?Reflect.construct:function(t,e,r){var n=[null];n.push.apply(n,e);var o=new(Function.bind.apply(t,n));return r&&u(o,r.prototype),o}).apply(null,arguments)}function a(){if(\"undefined\"==typeof Reflect||!Reflect.construct)return!1;if(Reflect.construct.sham)return!1;if(\"function\"==typeof Proxy)return!0;try{return Boolean.prototype.valueOf.call(Reflect.construct(Boolean,[],(function(){}))),!0}catch(t){return!1}}function u(t,e){return(u=Object.setPrototypeOf||function(t,e){return t.__proto__=e,t})(t,e)}function c(t){return(c=Object.setPrototypeOf?Object.getPrototypeOf:function(t){return t.__proto__||Object.getPrototypeOf(t)})(t)}var s=function(t){!function(t,e){if(\"function\"!=typeof e&&null!==e)throw new TypeError(\"Super expression must either be null or a function\");t.prototype=Object.create(e&&e.prototype,{constructor:{value:t,writable:!0,configurable:!0}}),e&&u(t,e)}(s,t);var e,o,i=(e=s,o=a(),function(){var t,r=c(e);if(o){var i=c(this).constructor;t=Reflect.construct(r,arguments,i)}else t=r.apply(this,arguments);return n(this,t)});function s(){return r(this,s),i.apply(this,arguments)}return s}(o(Error));function f(t){return new Promise((function(e,r){window.require(t,(function(){e.apply(this,arguments)}),(function(t){r(t)}))}))}var l,p=null;function h(){if(window.orbitData&&window.orbitData.user&&[\"X-Country\",\"X-Ip_is_advertise_combined\",\"X-Ip_is_uk_combined\"].every((function(t){return!!window.orbitData.user[t]})))return Promise.resolve(window.orbitData.user);if(!p){var t=window.location.hostname.endsWith(\".com\")?\"com\":\"co.uk\";p=fetch(\"https://www.bbc.\".concat(t,\"/userinfo\")).then((function(t){return t.json()}))}return p}function d(t){if(t.status>=200&&t.status<300)return t;var e=new Error(t.statusText);throw e.response=t,e}function v(t){return t.json()}function y(){if(window.orbitData.user&&window.orbitData.user.ageBand)return Promise.resolve(window.orbitData.user);if(!l){if(\"undefined\"==typeof XMLHttpRequest||!(\"withCredentials\"in new XMLHttpRequest))return Promise.resolve(window.orbitData.user);l=f([\"idcta-v2/idcta-1\"]).then((function(t){return t.initiateTokenRefresh().then((function(){return window.fetch(window.orbitData.userProfileUrl,{credentials:\"include\"}).then(d).then(v).then((function(t){return void 0===window.orbitData.user?window.orbitData.user=t:Object.assign(window.orbitData.user,t),window.orbitData.user}))}))}))}return l}var g={getHashedId:function(){return f([\"idcta-v2/idcta-1\"]).then((function(t){return t.getCookieInstance().getHidFromCookie()}))},isSignedIn:function(){return f([\"idcta-v2/idcta-1\"]).then((function(t){return t&&t.getCookieInstance().hasCookie()}))},getCountry:function(){return h().then((function(t){return t[\"X-Country\"]||\"gb\"}))},isUKCombined:function(){return h().then((function(t){if(!t[\"X-Ip_is_uk_combined\"])throw new s(\"missing isUKCombined from userinfo response\");return\"yes\"===t[\"X-Ip_is_uk_combined\"].toLowerCase()}))},canSeeAdverts:function(){return h().then((function(t){if(!t[\"X-Ip_is_advertise_combined\"])throw new s(\"missing canSeeAdverts from userinfo response\");return\"yes\"===t[\"X-Ip_is_advertise_combined\"].toLowerCase()}))},getAgeBand:function(){return h().then((function(t){return t[\"X-Age-Band\"]?Promise.resolve(t[\"X-Age-Band\"]):g.isSignedIn().then((function(e){if(e)return y().then((function(e){return t[\"X-Age-Band\"]=e[\"X-Age-Band\"],t[\"X-Age-Band\"]||void 0})).catch((function(){return t[\"X-Age-Band\"]||void 0}))}))}))},allowsPerformanceCookies:function(){return f([\"orb/cookies\"]).then((function(t){return!!t.cookiesEnabled()&&!!t.readPolicy(\"performance\")}))},allowsFunctionalCookies:function(){return f([\"orb/cookies\"]).then((function(t){return!!t.cookiesEnabled()&&!!t.readPolicy(\"personalisation\")}))},getCookieValue:function(t){return f([\"orb/cookies\"]).then((function(e){return e.get(t)}))}};window.bbcuser=g,t.exports={bbcuser:g,BBCUserError:s}},7633:function(t,e,r){r(9170),r(6992),r(1539),r(8674),r(7922),r(4668),r(7727),r(8783);var n=r(857);t.exports=n.Promise},1111:function(t,e,r){r(1539),r(4916),r(4953),r(8992),r(9841),r(7852),r(2023),r(4723),r(6373),r(6528),r(3112),r(2481),r(5306),r(8757),r(4765),r(3123),r(3157),r(3650),r(3210),r(5674),r(8702),r(8783),r(5218),r(4475),r(7929),r(915),r(9253),r(2125),r(8830),r(8734),r(9254),r(7268),r(7397),r(86),r(623);var n=r(857);t.exports=n.String},3099:function(t){t.exports=function(t){if(\"function\"!=typeof t)throw TypeError(String(t)+\" is not a function\");return t}},6077:function(t,e,r){var n=r(111);t.exports=function(t){if(!n(t)&&null!==t)throw TypeError(\"Can\\'t set \"+String(t)+\" as a prototype\");return t}},1223:function(t,e,r){var n=r(5112),o=r(30),i=r(3070),a=n(\"unscopables\"),u=Array.prototype;null==u[a]&&i.f(u,a,{configurable:!0,value:o(null)}),t.exports=function(t){u[a][t]=!0}},1530:function(t,e,r){\"use strict\";var n=r(8710).charAt;t.exports=function(t,e,r){return e+(r?n(t,e).length:1)}},5787:function(t){t.exports=function(t,e,r){if(!(t instanceof e))throw TypeError(\"Incorrect \"+(r?r+\" \":\"\")+\"invocation\");return t}},9670:function(t,e,r){var n=r(111);t.exports=function(t){if(!n(t))throw TypeError(String(t)+\" is not an object\");return t}},1318:function(t,e,r){var n=r(5656),o=r(7466),i=r(1400),a=function(t){return function(e,r,a){var u,c=n(e),s=o(c.length),f=i(a,s);if(t&&r!=r){for(;s>f;)if((u=c[f++])!=u)return!0}else for(;s>f;f++)if((t||f in c)&&c[f]===r)return t||f||0;return!t&&-1}};t.exports={includes:a(!0),indexOf:a(!1)}},7072:function(t,e,r){var n=r(5112)(\"iterator\"),o=!1;try{var i=0,a={next:function(){return{done:!!i++}},return:function(){o=!0}};a[n]=function(){return this},Array.from(a,(function(){throw 2}))}catch(t){}t.exports=function(t,e){if(!e&&!o)return!1;var r=!1;try{var i={};i[n]=function(){return{next:function(){return{done:r=!0}}}},t(i)}catch(t){}return r}},4326:function(t){var e={}.toString;t.exports=function(t){return e.call(t).slice(8,-1)}},648:function(t,e,r){var n=r(1694),o=r(4326),i=r(5112)(\"toStringTag\"),a=\"Arguments\"==o(function(){return arguments}());t.exports=n?o:function(t){var e,r,n;return void 0===t?\"Undefined\":null===t?\"Null\":\"string\"==typeof(r=function(t,e){try{return t[e]}catch(t){}}(e=Object(t),i))?r:a?o(e):\"Object\"==(n=o(e))&&\"function\"==typeof e.callee?\"Arguments\":n}},9920:function(t,e,r){var n=r(6656),o=r(3887),i=r(1236),a=r(3070);t.exports=function(t,e){for(var r=o(e),u=a.f,c=i.f,s=0;s<r.length;s++){var f=r[s];n(t,f)||u(t,f,c(e,f))}}},4964:function(t,e,r){var n=r(5112)(\"match\");t.exports=function(t){var e=/./;try{\"/./\"[t](e)}catch(r){try{return e[n]=!1,\"/./\"[t](e)}catch(t){}}return!1}},8544:function(t,e,r){var n=r(7293);t.exports=!n((function(){function t(){}return t.prototype.constructor=null,Object.getPrototypeOf(new t)!==t.prototype}))},4230:function(t,e,r){var n=r(4488),o=r(1340),i=/\"/g;t.exports=function(t,e,r,a){var u=o(n(t)),c=\"<\"+e;return\"\"!==r&&(c+=\" \"+r+\\'=\"\\'+o(a).replace(i,\"&quot;\")+\\'\"\\'),c+\">\"+u+\"</\"+e+\">\"}},4994:function(t,e,r){\"use strict\";var n=r(3383).IteratorPrototype,o=r(30),i=r(9114),a=r(8003),u=r(7497),c=function(){return this};t.exports=function(t,e,r){var s=e+\" Iterator\";return t.prototype=o(n,{next:i(1,r)}),a(t,s,!1,!0),u[s]=c,t}},8880:function(t,e,r){var n=r(9781),o=r(3070),i=r(9114);t.exports=n?function(t,e,r){return o.f(t,e,i(1,r))}:function(t,e,r){return t[e]=r,t}},9114:function(t){t.exports=function(t,e){return{enumerable:!(1&t),configurable:!(2&t),writable:!(4&t),value:e}}},654:function(t,e,r){\"use strict\";var n=r(2109),o=r(4994),i=r(9518),a=r(7674),u=r(8003),c=r(8880),s=r(1320),f=r(5112),l=r(1913),p=r(7497),h=r(3383),d=h.IteratorPrototype,v=h.BUGGY_SAFARI_ITERATORS,y=f(\"iterator\"),g=\"keys\",b=\"values\",m=\"entries\",x=function(){return this};t.exports=function(t,e,r,f,h,w,E){o(r,e,f);var S,O,j,P=function(t){if(t===h&&R)return R;if(!v&&t in A)return A[t];switch(t){case g:case b:case m:return function(){return new r(this,t)}}return function(){return new r(this)}},T=e+\" Iterator\",_=!1,A=t.prototype,I=A[y]||A[\"@@iterator\"]||h&&A[h],R=!v&&I||P(h),L=\"Array\"==e&&A.entries||I;if(L&&(S=i(L.call(new t)),d!==Object.prototype&&S.next&&(l||i(S)===d||(a?a(S,d):\"function\"!=typeof S[y]&&c(S,y,x)),u(S,T,!0,!0),l&&(p[T]=x))),h==b&&I&&I.name!==b&&(_=!0,R=function(){return I.call(this)}),l&&!E||A[y]===R||c(A,y,R),p[e]=R,h)if(O={values:P(b),keys:w?R:P(g),entries:P(m)},E)for(j in O)(v||_||!(j in A))&&s(A,j,O[j]);else n({target:e,proto:!0,forced:v||_},O);return O}},9781:function(t,e,r){var n=r(7293);t.exports=!n((function(){return 7!=Object.defineProperty({},1,{get:function(){return 7}})[1]}))},317:function(t,e,r){var n=r(7854),o=r(111),i=n.document,a=o(i)&&o(i.createElement);t.exports=function(t){return a?i.createElement(t):{}}},8324:function(t){t.exports={CSSRuleList:0,CSSStyleDeclaration:0,CSSValueList:0,ClientRectList:0,DOMRectList:0,DOMStringList:0,DOMTokenList:1,DataTransferItemList:0,FileList:0,HTMLAllCollection:0,HTMLCollection:0,HTMLFormElement:0,HTMLSelectElement:0,MediaList:0,MimeTypeArray:0,NamedNodeMap:0,NodeList:1,PaintRequestList:0,Plugin:0,PluginArray:0,SVGLengthList:0,SVGNumberList:0,SVGPathSegList:0,SVGPointList:0,SVGStringList:0,SVGTransformList:0,SourceBufferList:0,StyleSheetList:0,TextTrackCueList:0,TextTrackList:0,TouchList:0}},7871:function(t){t.exports=\"object\"==typeof window},1528:function(t,e,r){var n=r(8113),o=r(7854);t.exports=/iphone|ipod|ipad/i.test(n)&&void 0!==o.Pebble},6833:function(t,e,r){var n=r(8113);t.exports=/(?:iphone|ipod|ipad).*applewebkit/i.test(n)},5268:function(t,e,r){var n=r(4326),o=r(7854);t.exports=\"process\"==n(o.process)},1036:function(t,e,r){var n=r(8113);t.exports=/web0s(?!.*chrome)/i.test(n)},8113:function(t,e,r){var n=r(5005);t.exports=n(\"navigator\",\"userAgent\")||\"\"},7392:function(t,e,r){var n,o,i=r(7854),a=r(8113),u=i.process,c=i.Deno,s=u&&u.versions||c&&c.version,f=s&&s.v8;f?o=(n=f.split(\".\"))[0]<4?1:n[0]+n[1]:a&&(!(n=a.match(/Edge\\\\/(\\\\d+)/))||n[1]>=74)&&(n=a.match(/Chrome\\\\/(\\\\d+)/))&&(o=n[1]),t.exports=o&&+o},748:function(t){t.exports=[\"constructor\",\"hasOwnProperty\",\"isPrototypeOf\",\"propertyIsEnumerable\",\"toLocaleString\",\"toString\",\"valueOf\"]},2109:function(t,e,r){var n=r(7854),o=r(1236).f,i=r(8880),a=r(1320),u=r(3505),c=r(9920),s=r(4705);t.exports=function(t,e){var r,f,l,p,h,d=t.target,v=t.global,y=t.stat;if(r=v?n:y?n[d]||u(d,{}):(n[d]||{}).prototype)for(f in e){if(p=e[f],l=t.noTargetGet?(h=o(r,f))&&h.value:r[f],!s(v?f:d+(y?\".\":\"#\")+f,t.forced)&&void 0!==l){if(typeof p==typeof l)continue;c(p,l)}(t.sham||l&&l.sham)&&i(p,\"sham\",!0),a(r,f,p,t)}}},7293:function(t){t.exports=function(t){try{return!!t()}catch(t){return!0}}},7007:function(t,e,r){\"use strict\";r(4916);var n=r(1320),o=r(2261),i=r(7293),a=r(5112),u=r(8880),c=a(\"species\"),s=RegExp.prototype;t.exports=function(t,e,r,f){var l=a(t),p=!i((function(){var e={};return e[l]=function(){return 7},7!=\"\"[t](e)})),h=p&&!i((function(){var e=!1,r=/a/;return\"split\"===t&&((r={}).constructor={},r.constructor[c]=function(){return r},r.flags=\"\",r[l]=/./[l]),r.exec=function(){return e=!0,null},r[l](\"\"),!e}));if(!p||!h||r){var d=/./[l],v=e(l,\"\"[t],(function(t,e,r,n,i){var a=e.exec;return a===o||a===s.exec?p&&!i?{done:!0,value:d.call(e,r,n)}:{done:!0,value:t.call(r,e,n)}:{done:!1}}));n(String.prototype,t,v[0]),n(s,l,v[1])}f&&u(s[l],\"sham\",!0)}},9974:function(t,e,r){var n=r(3099);t.exports=function(t,e,r){if(n(t),void 0===e)return t;switch(r){case 0:return function(){return t.call(e)};case 1:return function(r){return t.call(e,r)};case 2:return function(r,n){return t.call(e,r,n)};case 3:return function(r,n,o){return t.call(e,r,n,o)}}return function(){return t.apply(e,arguments)}}},5005:function(t,e,r){var n=r(7854),o=function(t){return\"function\"==typeof t?t:void 0};t.exports=function(t,e){return arguments.length<2?o(n[t]):n[t]&&n[t][e]}},1246:function(t,e,r){var n=r(648),o=r(7497),i=r(5112)(\"iterator\");t.exports=function(t){if(null!=t)return t[i]||t[\"@@iterator\"]||o[n(t)]}},647:function(t,e,r){var n=r(7908),o=Math.floor,i=\"\".replace,a=/\\\\$([$&\\'`]|\\\\d{1,2}|<[^>]*>)/g,u=/\\\\$([$&\\'`]|\\\\d{1,2})/g;t.exports=function(t,e,r,c,s,f){var l=r+t.length,p=c.length,h=u;return void 0!==s&&(s=n(s),h=a),i.call(f,h,(function(n,i){var a;switch(i.charAt(0)){case\"$\":return\"$\";case\"&\":return t;case\"`\":return e.slice(0,r);case\"\\'\":return e.slice(l);case\"<\":a=s[i.slice(1,-1)];break;default:var u=+i;if(0===u)return n;if(u>p){var f=o(u/10);return 0===f?n:f<=p?void 0===c[f-1]?i.charAt(1):c[f-1]+i.charAt(1):n}a=c[u-1]}return void 0===a?\"\":a}))}},7854:function(t,e,r){var n=function(t){return t&&t.Math==Math&&t};t.exports=n(\"object\"==typeof globalThis&&globalThis)||n(\"object\"==typeof window&&window)||n(\"object\"==typeof self&&self)||n(\"object\"==typeof r.g&&r.g)||function(){return this}()||Function(\"return this\")()},6656:function(t,e,r){var n=r(7908),o={}.hasOwnProperty;t.exports=Object.hasOwn||function(t,e){return o.call(n(t),e)}},3501:function(t){t.exports={}},842:function(t,e,r){var n=r(7854);t.exports=function(t,e){var r=n.console;r&&r.error&&(1===arguments.length?r.error(t):r.error(t,e))}},490:function(t,e,r){var n=r(5005);t.exports=n(\"document\",\"documentElement\")},4664:function(t,e,r){var n=r(9781),o=r(7293),i=r(317);t.exports=!n&&!o((function(){return 7!=Object.defineProperty(i(\"div\"),\"a\",{get:function(){return 7}}).a}))},8361:function(t,e,r){var n=r(7293),o=r(4326),i=\"\".split;t.exports=n((function(){return!Object(\"z\").propertyIsEnumerable(0)}))?function(t){return\"String\"==o(t)?i.call(t,\"\"):Object(t)}:Object},2788:function(t,e,r){var n=r(5465),o=Function.toString;\"function\"!=typeof n.inspectSource&&(n.inspectSource=function(t){return o.call(t)}),t.exports=n.inspectSource},9909:function(t,e,r){var n,o,i,a=r(8536),u=r(7854),c=r(111),s=r(8880),f=r(6656),l=r(5465),p=r(6200),h=r(3501),d=\"Object already initialized\",v=u.WeakMap;if(a||l.state){var y=l.state||(l.state=new v),g=y.get,b=y.has,m=y.set;n=function(t,e){if(b.call(y,t))throw new TypeError(d);return e.facade=t,m.call(y,t,e),e},o=function(t){return g.call(y,t)||{}},i=function(t){return b.call(y,t)}}else{var x=p(\"state\");h[x]=!0,n=function(t,e){if(f(t,x))throw new TypeError(d);return e.facade=t,s(t,x,e),e},o=function(t){return f(t,x)?t[x]:{}},i=function(t){return f(t,x)}}t.exports={set:n,get:o,has:i,enforce:function(t){return i(t)?o(t):n(t,{})},getterFor:function(t){return function(e){var r;if(!c(e)||(r=o(e)).type!==t)throw TypeError(\"Incompatible receiver, \"+t+\" required\");return r}}}},7659:function(t,e,r){var n=r(5112),o=r(7497),i=n(\"iterator\"),a=Array.prototype;t.exports=function(t){return void 0!==t&&(o.Array===t||a[i]===t)}},4705:function(t,e,r){var n=r(7293),o=/#|\\\\.prototype\\\\./,i=function(t,e){var r=u[a(t)];return r==s||r!=c&&(\"function\"==typeof e?n(e):!!e)},a=i.normalize=function(t){return String(t).replace(o,\".\").toLowerCase()},u=i.data={},c=i.NATIVE=\"N\",s=i.POLYFILL=\"P\";t.exports=i},111:function(t){t.exports=function(t){return\"object\"==typeof t?null!==t:\"function\"==typeof t}},1913:function(t){t.exports=!1},7850:function(t,e,r){var n=r(111),o=r(4326),i=r(5112)(\"match\");t.exports=function(t){var e;return n(t)&&(void 0!==(e=t[i])?!!e:\"RegExp\"==o(t))}},2190:function(t,e,r){var n=r(5005),o=r(3307);t.exports=o?function(t){return\"symbol\"==typeof t}:function(t){var e=n(\"Symbol\");return\"function\"==typeof e&&Object(t)instanceof e}},408:function(t,e,r){var n=r(9670),o=r(7659),i=r(7466),a=r(9974),u=r(1246),c=r(9212),s=function(t,e){this.stopped=t,this.result=e};t.exports=function(t,e,r){var f,l,p,h,d,v,y,g=r&&r.that,b=!(!r||!r.AS_ENTRIES),m=!(!r||!r.IS_ITERATOR),x=!(!r||!r.INTERRUPTED),w=a(e,g,1+b+x),E=function(t){return f&&c(f),new s(!0,t)},S=function(t){return b?(n(t),x?w(t[0],t[1],E):w(t[0],t[1])):x?w(t,E):w(t)};if(m)f=t;else{if(\"function\"!=typeof(l=u(t)))throw TypeError(\"Target is not iterable\");if(o(l)){for(p=0,h=i(t.length);h>p;p++)if((d=S(t[p]))&&d instanceof s)return d;return new s(!1)}f=l.call(t)}for(v=f.next;!(y=v.call(f)).done;){try{d=S(y.value)}catch(t){throw c(f),t}if(\"object\"==typeof d&&d&&d instanceof s)return d}return new s(!1)}},9212:function(t,e,r){var n=r(9670);t.exports=function(t){var e=t.return;if(void 0!==e)return n(e.call(t)).value}},3383:function(t,e,r){\"use strict\";var n,o,i,a=r(7293),u=r(9518),c=r(8880),s=r(6656),f=r(5112),l=r(1913),p=f(\"iterator\"),h=!1;[].keys&&(\"next\"in(i=[].keys())?(o=u(u(i)))!==Object.prototype&&(n=o):h=!0);var d=null==n||a((function(){var t={};return n[p].call(t)!==t}));d&&(n={}),l&&!d||s(n,p)||c(n,p,(function(){return this})),t.exports={IteratorPrototype:n,BUGGY_SAFARI_ITERATORS:h}},7497:function(t){t.exports={}},5948:function(t,e,r){var n,o,i,a,u,c,s,f,l=r(7854),p=r(1236).f,h=r(261).set,d=r(6833),v=r(1528),y=r(1036),g=r(5268),b=l.MutationObserver||l.WebKitMutationObserver,m=l.document,x=l.process,w=l.Promise,E=p(l,\"queueMicrotask\"),S=E&&E.value;S||(n=function(){var t,e;for(g&&(t=x.domain)&&t.exit();o;){e=o.fn,o=o.next;try{e()}catch(t){throw o?a():i=void 0,t}}i=void 0,t&&t.enter()},d||g||y||!b||!m?!v&&w&&w.resolve?((s=w.resolve(void 0)).constructor=w,f=s.then,a=function(){f.call(s,n)}):a=g?function(){x.nextTick(n)}:function(){h.call(l,n)}:(u=!0,c=m.createTextNode(\"\"),new b(n).observe(c,{characterData:!0}),a=function(){c.data=u=!u})),t.exports=S||function(t){var e={fn:t,next:void 0};i&&(i.next=e),o||(o=e,a()),i=e}},3366:function(t,e,r){var n=r(7854);t.exports=n.Promise},133:function(t,e,r){var n=r(7392),o=r(7293);t.exports=!!Object.getOwnPropertySymbols&&!o((function(){var t=Symbol();return!String(t)||!(Object(t)instanceof Symbol)||!Symbol.sham&&n&&n<41}))},8536:function(t,e,r){var n=r(7854),o=r(2788),i=n.WeakMap;t.exports=\"function\"==typeof i&&/native code/.test(o(i))},8523:function(t,e,r){\"use strict\";var n=r(3099),o=function(t){var e,r;this.promise=new t((function(t,n){if(void 0!==e||void 0!==r)throw TypeError(\"Bad Promise constructor\");e=t,r=n})),this.resolve=n(e),this.reject=n(r)};t.exports.f=function(t){return new o(t)}},3929:function(t,e,r){var n=r(7850);t.exports=function(t){if(n(t))throw TypeError(\"The method doesn\\'t accept regular expressions\");return t}},30:function(t,e,r){var n,o=r(9670),i=r(6048),a=r(748),u=r(3501),c=r(490),s=r(317),f=r(6200),l=f(\"IE_PROTO\"),p=function(){},h=function(t){return\"<script>\"+t+\"</\"+\"script>\"},d=function(t){t.write(h(\"\")),t.close();var e=t.parentWindow.Object;return t=null,e},v=function(){try{n=new ActiveXObject(\"htmlfile\")}catch(t){}v=document.domain&&n?d(n):function(){var t,e=s(\"iframe\");if(e.style)return e.style.display=\"none\",c.appendChild(e),e.src=String(\"javascript:\"),(t=e.contentWindow.document).open(),t.write(h(\"document.F=Object\")),t.close(),t.F}()||d(n);for(var t=a.length;t--;)delete v.prototype[a[t]];return v()};u[l]=!0,t.exports=Object.create||function(t,e){var r;return null!==t?(p.prototype=o(t),r=new p,p.prototype=null,r[l]=t):r=v(),void 0===e?r:i(r,e)}},6048:function(t,e,r){var n=r(9781),o=r(3070),i=r(9670),a=r(1956);t.exports=n?Object.defineProperties:function(t,e){i(t);for(var r,n=a(e),u=n.length,c=0;u>c;)o.f(t,r=n[c++],e[r]);return t}},3070:function(t,e,r){var n=r(9781),o=r(4664),i=r(9670),a=r(4948),u=Object.defineProperty;e.f=n?u:function(t,e,r){if(i(t),e=a(e),i(r),o)try{return u(t,e,r)}catch(t){}if(\"get\"in r||\"set\"in r)throw TypeError(\"Accessors not supported\");return\"value\"in r&&(t[e]=r.value),t}},1236:function(t,e,r){var n=r(9781),o=r(5296),i=r(9114),a=r(5656),u=r(4948),c=r(6656),s=r(4664),f=Object.getOwnPropertyDescriptor;e.f=n?f:function(t,e){if(t=a(t),e=u(e),s)try{return f(t,e)}catch(t){}if(c(t,e))return i(!o.f.call(t,e),t[e])}},8006:function(t,e,r){var n=r(6324),o=r(748).concat(\"length\",\"prototype\");e.f=Object.getOwnPropertyNames||function(t){return n(t,o)}},5181:function(t,e){e.f=Object.getOwnPropertySymbols},9518:function(t,e,r){var n=r(6656),o=r(7908),i=r(6200),a=r(8544),u=i(\"IE_PROTO\"),c=Object.prototype;t.exports=a?Object.getPrototypeOf:function(t){return t=o(t),n(t,u)?t[u]:\"function\"==typeof t.constructor&&t instanceof t.constructor?t.constructor.prototype:t instanceof Object?c:null}},6324:function(t,e,r){var n=r(6656),o=r(5656),i=r(1318).indexOf,a=r(3501);t.exports=function(t,e){var r,u=o(t),c=0,s=[];for(r in u)!n(a,r)&&n(u,r)&&s.push(r);for(;e.length>c;)n(u,r=e[c++])&&(~i(s,r)||s.push(r));return s}},1956:function(t,e,r){var n=r(6324),o=r(748);t.exports=Object.keys||function(t){return n(t,o)}},5296:function(t,e){\"use strict\";var r={}.propertyIsEnumerable,n=Object.getOwnPropertyDescriptor,o=n&&!r.call({1:2},1);e.f=o?function(t){var e=n(this,t);return!!e&&e.enumerable}:r},7674:function(t,e,r){var n=r(9670),o=r(6077);t.exports=Object.setPrototypeOf||(\"__proto__\"in{}?function(){var t,e=!1,r={};try{(t=Object.getOwnPropertyDescriptor(Object.prototype,\"__proto__\").set).call(r,[]),e=r instanceof Array}catch(t){}return function(r,i){return n(r),o(i),e?t.call(r,i):r.__proto__=i,r}}():void 0)},288:function(t,e,r){\"use strict\";var n=r(1694),o=r(648);t.exports=n?{}.toString:function(){return\"[object \"+o(this)+\"]\"}},2140:function(t,e,r){var n=r(111);t.exports=function(t,e){var r,o;if(\"string\"===e&&\"function\"==typeof(r=t.toString)&&!n(o=r.call(t)))return o;if(\"function\"==typeof(r=t.valueOf)&&!n(o=r.call(t)))return o;if(\"string\"!==e&&\"function\"==typeof(r=t.toString)&&!n(o=r.call(t)))return o;throw TypeError(\"Can\\'t convert object to primitive value\")}},3887:function(t,e,r){var n=r(5005),o=r(8006),i=r(5181),a=r(9670);t.exports=n(\"Reflect\",\"ownKeys\")||function(t){var e=o.f(a(t)),r=i.f;return r?e.concat(r(t)):e}},857:function(t,e,r){var n=r(7854);t.exports=n},2534:function(t){t.exports=function(t){try{return{error:!1,value:t()}}catch(t){return{error:!0,value:t}}}},9478:function(t,e,r){var n=r(9670),o=r(111),i=r(8523);t.exports=function(t,e){if(n(t),o(e)&&e.constructor===t)return e;var r=i.f(t);return(0,r.resolve)(e),r.promise}},2248:function(t,e,r){var n=r(1320);t.exports=function(t,e,r){for(var o in e)n(t,o,e[o],r);return t}},1320:function(t,e,r){var n=r(7854),o=r(8880),i=r(6656),a=r(3505),u=r(2788),c=r(9909),s=c.get,f=c.enforce,l=String(String).split(\"String\");(t.exports=function(t,e,r,u){var c,s=!!u&&!!u.unsafe,p=!!u&&!!u.enumerable,h=!!u&&!!u.noTargetGet;\"function\"==typeof r&&(\"string\"!=typeof e||i(r,\"name\")||o(r,\"name\",e),(c=f(r)).source||(c.source=l.join(\"string\"==typeof e?e:\"\"))),t!==n?(s?!h&&t[e]&&(p=!0):delete t[e],p?t[e]=r:o(t,e,r)):p?t[e]=r:a(e,r)})(Function.prototype,\"toString\",(function(){return\"function\"==typeof this&&s(this).source||u(this)}))},7651:function(t,e,r){var n=r(4326),o=r(2261);t.exports=function(t,e){var r=t.exec;if(\"function\"==typeof r){var i=r.call(t,e);if(\"object\"!=typeof i)throw TypeError(\"RegExp exec method returned something other than an Object or null\");return i}if(\"RegExp\"!==n(t))throw TypeError(\"RegExp#exec called on incompatible receiver\");return o.call(t,e)}},2261:function(t,e,r){\"use strict\";var n,o,i=r(1340),a=r(7066),u=r(2999),c=r(2309),s=r(30),f=r(9909).get,l=r(9441),p=r(8173),h=RegExp.prototype.exec,d=c(\"native-string-replace\",String.prototype.replace),v=h,y=(n=/a/,o=/b*/g,h.call(n,\"a\"),h.call(o,\"a\"),0!==n.lastIndex||0!==o.lastIndex),g=u.UNSUPPORTED_Y||u.BROKEN_CARET,b=void 0!==/()??/.exec(\"\")[1];(y||b||g||l||p)&&(v=function(t){var e,r,n,o,u,c,l,p=this,m=f(p),x=i(t),w=m.raw;if(w)return w.lastIndex=p.lastIndex,e=v.call(w,x),p.lastIndex=w.lastIndex,e;var E=m.groups,S=g&&p.sticky,O=a.call(p),j=p.source,P=0,T=x;if(S&&(-1===(O=O.replace(\"y\",\"\")).indexOf(\"g\")&&(O+=\"g\"),T=x.slice(p.lastIndex),p.lastIndex>0&&(!p.multiline||p.multiline&&\"\\\\n\"!==x.charAt(p.lastIndex-1))&&(j=\"(?: \"+j+\")\",T=\" \"+T,P++),r=new RegExp(\"^(?:\"+j+\")\",O)),b&&(r=new RegExp(\"^\"+j+\"$(?!\\\\\\\\s)\",O)),y&&(n=p.lastIndex),o=h.call(S?r:p,T),S?o?(o.input=o.input.slice(P),o[0]=o[0].slice(P),o.index=p.lastIndex,p.lastIndex+=o[0].length):p.lastIndex=0:y&&o&&(p.lastIndex=p.global?o.index+o[0].length:n),b&&o&&o.length>1&&d.call(o[0],r,(function(){for(u=1;u<arguments.length-2;u++)void 0===arguments[u]&&(o[u]=void 0)})),o&&E)for(o.groups=c=s(null),u=0;u<E.length;u++)c[(l=E[u])[0]]=o[l[1]];return o}),t.exports=v},7066:function(t,e,r){\"use strict\";var n=r(9670);t.exports=function(){var t=n(this),e=\"\";return t.global&&(e+=\"g\"),t.ignoreCase&&(e+=\"i\"),t.multiline&&(e+=\"m\"),t.dotAll&&(e+=\"s\"),t.unicode&&(e+=\"u\"),t.sticky&&(e+=\"y\"),e}},2999:function(t,e,r){var n=r(7293),o=function(t,e){return RegExp(t,e)};e.UNSUPPORTED_Y=n((function(){var t=o(\"a\",\"y\");return t.lastIndex=2,null!=t.exec(\"abcd\")})),e.BROKEN_CARET=n((function(){var t=o(\"^r\",\"gy\");return t.lastIndex=2,null!=t.exec(\"str\")}))},9441:function(t,e,r){var n=r(7293);t.exports=n((function(){var t=RegExp(\".\",\"string\".charAt(0));return!(t.dotAll&&t.exec(\"\\\\n\")&&\"s\"===t.flags)}))},8173:function(t,e,r){var n=r(7293);t.exports=n((function(){var t=RegExp(\"(?<a>b)\",\"string\".charAt(5));return\"b\"!==t.exec(\"b\").groups.a||\"bc\"!==\"b\".replace(t,\"$<a>c\")}))},4488:function(t){t.exports=function(t){if(null==t)throw TypeError(\"Can\\'t call method on \"+t);return t}},6029:function(t){t.exports=Object.is||function(t,e){return t===e?0!==t||1/t==1/e:t!=t&&e!=e}},3505:function(t,e,r){var n=r(7854);t.exports=function(t,e){try{Object.defineProperty(n,t,{value:e,configurable:!0,writable:!0})}catch(r){n[t]=e}return e}},6340:function(t,e,r){\"use strict\";var n=r(5005),o=r(3070),i=r(5112),a=r(9781),u=i(\"species\");t.exports=function(t){var e=n(t),r=o.f;a&&e&&!e[u]&&r(e,u,{configurable:!0,get:function(){return this}})}},8003:function(t,e,r){var n=r(3070).f,o=r(6656),i=r(5112)(\"toStringTag\");t.exports=function(t,e,r){t&&!o(t=r?t:t.prototype,i)&&n(t,i,{configurable:!0,value:e})}},6200:function(t,e,r){var n=r(2309),o=r(9711),i=n(\"keys\");t.exports=function(t){return i[t]||(i[t]=o(t))}},5465:function(t,e,r){var n=r(7854),o=r(3505),i=\"__core-js_shared__\",a=n[i]||o(i,{});t.exports=a},2309:function(t,e,r){var n=r(1913),o=r(5465);(t.exports=function(t,e){return o[t]||(o[t]=void 0!==e?e:{})})(\"versions\",[]).push({version:\"3.16.1\",mode:n?\"pure\":\"global\",copyright:\"© 2021 Denis Pushkarev (zloirock.ru)\"})},6707:function(t,e,r){var n=r(9670),o=r(3099),i=r(5112)(\"species\");t.exports=function(t,e){var r,a=n(t).constructor;return void 0===a||null==(r=n(a)[i])?e:o(r)}},3429:function(t,e,r){var n=r(7293);t.exports=function(t){return n((function(){var e=\"\"[t](\\'\"\\');return e!==e.toLowerCase()||e.split(\\'\"\\').length>3}))}},8710:function(t,e,r){var n=r(9958),o=r(1340),i=r(4488),a=function(t){return function(e,r){var a,u,c=o(i(e)),s=n(r),f=c.length;return s<0||s>=f?t?\"\":void 0:(a=c.charCodeAt(s))<55296||a>56319||s+1===f||(u=c.charCodeAt(s+1))<56320||u>57343?t?c.charAt(s):a:t?c.slice(s,s+2):u-56320+(a-55296<<10)+65536}};t.exports={codeAt:a(!1),charAt:a(!0)}},4986:function(t,e,r){var n=r(8113);t.exports=/Version\\\\/10(?:\\\\.\\\\d+){1,2}(?: [\\\\w./]+)?(?: Mobile\\\\/\\\\w+)? Safari\\\\//.test(n)},6650:function(t,e,r){var n=r(7466),o=r(1340),i=r(8415),a=r(4488),u=Math.ceil,c=function(t){return function(e,r,c){var s,f,l=o(a(e)),p=l.length,h=void 0===c?\" \":o(c),d=n(r);return d<=p||\"\"==h?l:(s=d-p,(f=i.call(h,u(s/h.length))).length>s&&(f=f.slice(0,s)),t?l+f:f+l)}};t.exports={start:c(!1),end:c(!0)}},8415:function(t,e,r){\"use strict\";var n=r(9958),o=r(1340),i=r(4488);t.exports=function(t){var e=o(i(this)),r=\"\",a=n(t);if(a<0||a==1/0)throw RangeError(\"Wrong number of repetitions\");for(;a>0;(a>>>=1)&&(e+=e))1&a&&(r+=e);return r}},6091:function(t,e,r){var n=r(7293),o=r(1361);t.exports=function(t){return n((function(){return!!o[t]()||\"\\u200b\\x85\\u180e\"!=\"\\u200b\\x85\\u180e\"[t]()||o[t].name!==t}))}},3111:function(t,e,r){var n=r(4488),o=r(1340),i=\"[\"+r(1361)+\"]\",a=RegExp(\"^\"+i+i+\"*\"),u=RegExp(i+i+\"*$\"),c=function(t){return function(e){var r=o(n(e));return 1&t&&(r=r.replace(a,\"\")),2&t&&(r=r.replace(u,\"\")),r}};t.exports={start:c(1),end:c(2),trim:c(3)}},261:function(t,e,r){var n,o,i,a,u=r(7854),c=r(7293),s=r(9974),f=r(490),l=r(317),p=r(6833),h=r(5268),d=u.setImmediate,v=u.clearImmediate,y=u.process,g=u.MessageChannel,b=u.Dispatch,m=0,x={},w=\"onreadystatechange\";try{n=u.location}catch(t){}var E=function(t){if(x.hasOwnProperty(t)){var e=x[t];delete x[t],e()}},S=function(t){return function(){E(t)}},O=function(t){E(t.data)},j=function(t){u.postMessage(String(t),n.protocol+\"//\"+n.host)};d&&v||(d=function(t){for(var e=[],r=arguments.length,n=1;r>n;)e.push(arguments[n++]);return x[++m]=function(){(\"function\"==typeof t?t:Function(t)).apply(void 0,e)},o(m),m},v=function(t){delete x[t]},h?o=function(t){y.nextTick(S(t))}:b&&b.now?o=function(t){b.now(S(t))}:g&&!p?(a=(i=new g).port2,i.port1.onmessage=O,o=s(a.postMessage,a,1)):u.addEventListener&&\"function\"==typeof postMessage&&!u.importScripts&&n&&\"file:\"!==n.protocol&&!c(j)?(o=j,u.addEventListener(\"message\",O,!1)):o=w in l(\"script\")?function(t){f.appendChild(l(\"script\")).onreadystatechange=function(){f.removeChild(this),E(t)}}:function(t){setTimeout(S(t),0)}),t.exports={set:d,clear:v}},1400:function(t,e,r){var n=r(9958),o=Math.max,i=Math.min;t.exports=function(t,e){var r=n(t);return r<0?o(r+e,0):i(r,e)}},5656:function(t,e,r){var n=r(8361),o=r(4488);t.exports=function(t){return n(o(t))}},9958:function(t){var e=Math.ceil,r=Math.floor;t.exports=function(t){return isNaN(t=+t)?0:(t>0?r:e)(t)}},7466:function(t,e,r){var n=r(9958),o=Math.min;t.exports=function(t){return t>0?o(n(t),9007199254740991):0}},7908:function(t,e,r){var n=r(4488);t.exports=function(t){return Object(n(t))}},7593:function(t,e,r){var n=r(111),o=r(2190),i=r(2140),a=r(5112)(\"toPrimitive\");t.exports=function(t,e){if(!n(t)||o(t))return t;var r,u=t[a];if(void 0!==u){if(void 0===e&&(e=\"default\"),r=u.call(t,e),!n(r)||o(r))return r;throw TypeError(\"Can\\'t convert object to primitive value\")}return void 0===e&&(e=\"number\"),i(t,e)}},4948:function(t,e,r){var n=r(7593),o=r(2190);t.exports=function(t){var e=n(t,\"string\");return o(e)?e:String(e)}},1694:function(t,e,r){var n={};n[r(5112)(\"toStringTag\")]=\"z\",t.exports=\"[object z]\"===String(n)},1340:function(t,e,r){var n=r(2190);t.exports=function(t){if(n(t))throw TypeError(\"Cannot convert a Symbol value to a string\");return String(t)}},9711:function(t){var e=0,r=Math.random();t.exports=function(t){return\"Symbol(\"+String(void 0===t?\"\":t)+\")_\"+(++e+r).toString(36)}},3307:function(t,e,r){var n=r(133);t.exports=n&&!Symbol.sham&&\"symbol\"==typeof Symbol.iterator},5112:function(t,e,r){var n=r(7854),o=r(2309),i=r(6656),a=r(9711),u=r(133),c=r(3307),s=o(\"wks\"),f=n.Symbol,l=c?f:f&&f.withoutSetter||a;t.exports=function(t){return i(s,t)&&(u||\"string\"==typeof s[t])||(u&&i(f,t)?s[t]=f[t]:s[t]=l(\"Symbol.\"+t)),s[t]}},1361:function(t){t.exports=\"\\\\t\\\\n\\\\v\\\\f\\\\r \\xa0\\u1680\\u2000\\u2001\\u2002\\u2003\\u2004\\u2005\\u2006\\u2007\\u2008\\u2009\\u200a\\u202f\\u205f\\u3000\\\\u2028\\\\u2029\\\\ufeff\"},9170:function(t,e,r){\"use strict\";var n=r(2109),o=r(9518),i=r(7674),a=r(30),u=r(8880),c=r(9114),s=r(408),f=r(1340),l=function(t,e){var r=this;if(!(r instanceof l))return new l(t,e);i&&(r=i(new Error(void 0),o(r))),void 0!==e&&u(r,\"message\",f(e));var n=[];return s(t,n.push,{that:n}),u(r,\"errors\",n),r};l.prototype=a(Error.prototype,{constructor:c(5,l),message:c(5,\"\"),name:c(5,\"AggregateError\")}),n({global:!0},{AggregateError:l})},6992:function(t,e,r){\"use strict\";var n=r(5656),o=r(1223),i=r(7497),a=r(9909),u=r(654),c=\"Array Iterator\",s=a.set,f=a.getterFor(c);t.exports=u(Array,\"Array\",(function(t,e){s(this,{type:c,target:n(t),index:0,kind:e})}),(function(){var t=f(this),e=t.target,r=t.kind,n=t.index++;return!e||n>=e.length?(t.target=void 0,{value:void 0,done:!0}):\"keys\"==r?{value:n,done:!1}:\"values\"==r?{value:e[n],done:!1}:{value:[n,e[n]],done:!1}}),\"values\"),i.Arguments=i.Array,o(\"keys\"),o(\"values\"),o(\"entries\")},1539:function(t,e,r){var n=r(1694),o=r(1320),i=r(288);n||o(Object.prototype,\"toString\",i,{unsafe:!0})},7922:function(t,e,r){\"use strict\";var n=r(2109),o=r(3099),i=r(8523),a=r(2534),u=r(408);n({target:\"Promise\",stat:!0},{allSettled:function(t){var e=this,r=i.f(e),n=r.resolve,c=r.reject,s=a((function(){var r=o(e.resolve),i=[],a=0,c=1;u(t,(function(t){var o=a++,u=!1;i.push(void 0),c++,r.call(e,t).then((function(t){u||(u=!0,i[o]={status:\"fulfilled\",value:t},--c||n(i))}),(function(t){u||(u=!0,i[o]={status:\"rejected\",reason:t},--c||n(i))}))})),--c||n(i)}));return s.error&&c(s.value),r.promise}})},4668:function(t,e,r){\"use strict\";var n=r(2109),o=r(3099),i=r(5005),a=r(8523),u=r(2534),c=r(408),s=\"No one promise resolved\";n({target:\"Promise\",stat:!0},{any:function(t){var e=this,r=a.f(e),n=r.resolve,f=r.reject,l=u((function(){var r=o(e.resolve),a=[],u=0,l=1,p=!1;c(t,(function(t){var o=u++,c=!1;a.push(void 0),l++,r.call(e,t).then((function(t){c||p||(p=!0,n(t))}),(function(t){c||p||(c=!0,a[o]=t,--l||f(new(i(\"AggregateError\"))(a,s)))}))})),--l||f(new(i(\"AggregateError\"))(a,s))}));return l.error&&f(l.value),r.promise}})},7727:function(t,e,r){\"use strict\";var n=r(2109),o=r(1913),i=r(3366),a=r(7293),u=r(5005),c=r(6707),s=r(9478),f=r(1320);if(n({target:\"Promise\",proto:!0,real:!0,forced:!!i&&a((function(){i.prototype.finally.call({then:function(){}},(function(){}))}))},{finally:function(t){var e=c(this,u(\"Promise\")),r=\"function\"==typeof t;return this.then(r?function(r){return s(e,t()).then((function(){return r}))}:t,r?function(r){return s(e,t()).then((function(){throw r}))}:t)}}),!o&&\"function\"==typeof i){var l=u(\"Promise\").prototype.finally;i.prototype.finally!==l&&f(i.prototype,\"finally\",l,{unsafe:!0})}},8674:function(t,e,r){\"use strict\";var n,o,i,a,u=r(2109),c=r(1913),s=r(7854),f=r(5005),l=r(3366),p=r(1320),h=r(2248),d=r(7674),v=r(8003),y=r(6340),g=r(111),b=r(3099),m=r(5787),x=r(2788),w=r(408),E=r(7072),S=r(6707),O=r(261).set,j=r(5948),P=r(9478),T=r(842),_=r(8523),A=r(2534),I=r(9909),R=r(4705),L=r(5112),k=r(7871),C=r(5268),B=r(7392),D=L(\"species\"),M=\"Promise\",F=I.get,U=I.set,N=I.getterFor(M),G=l&&l.prototype,X=l,$=G,H=s.TypeError,q=s.document,W=s.process,V=_.f,z=V,Y=!!(q&&q.createEvent&&s.dispatchEvent),K=\"function\"==typeof PromiseRejectionEvent,J=\"unhandledrejection\",Q=!1,Z=R(M,(function(){var t=x(X),e=t!==String(X);if(!e&&66===B)return!0;if(c&&!$.finally)return!0;if(B>=51&&/native code/.test(t))return!1;var r=new X((function(t){t(1)})),n=function(t){t((function(){}),(function(){}))};return(r.constructor={})[D]=n,!(Q=r.then((function(){}))instanceof n)||!e&&k&&!K})),tt=Z||!E((function(t){X.all(t).catch((function(){}))})),et=function(t){var e;return!(!g(t)||\"function\"!=typeof(e=t.then))&&e},rt=function(t,e){if(!t.notified){t.notified=!0;var r=t.reactions;j((function(){for(var n=t.value,o=1==t.state,i=0;r.length>i;){var a,u,c,s=r[i++],f=o?s.ok:s.fail,l=s.resolve,p=s.reject,h=s.domain;try{f?(o||(2===t.rejection&&at(t),t.rejection=1),!0===f?a=n:(h&&h.enter(),a=f(n),h&&(h.exit(),c=!0)),a===s.promise?p(H(\"Promise-chain cycle\")):(u=et(a))?u.call(a,l,p):l(a)):p(n)}catch(t){h&&!c&&h.exit(),p(t)}}t.reactions=[],t.notified=!1,e&&!t.rejection&&ot(t)}))}},nt=function(t,e,r){var n,o;Y?((n=q.createEvent(\"Event\")).promise=e,n.reason=r,n.initEvent(t,!1,!0),s.dispatchEvent(n)):n={promise:e,reason:r},!K&&(o=s[\"on\"+t])?o(n):t===J&&T(\"Unhandled promise rejection\",r)},ot=function(t){O.call(s,(function(){var e,r=t.facade,n=t.value;if(it(t)&&(e=A((function(){C?W.emit(\"unhandledRejection\",n,r):nt(J,r,n)})),t.rejection=C||it(t)?2:1,e.error))throw e.value}))},it=function(t){return 1!==t.rejection&&!t.parent},at=function(t){O.call(s,(function(){var e=t.facade;C?W.emit(\"rejectionHandled\",e):nt(\"rejectionhandled\",e,t.value)}))},ut=function(t,e,r){return function(n){t(e,n,r)}},ct=function(t,e,r){t.done||(t.done=!0,r&&(t=r),t.value=e,t.state=2,rt(t,!0))},st=function(t,e,r){if(!t.done){t.done=!0,r&&(t=r);try{if(t.facade===e)throw H(\"Promise can\\'t be resolved itself\");var n=et(e);n?j((function(){var r={done:!1};try{n.call(e,ut(st,r,t),ut(ct,r,t))}catch(e){ct(r,e,t)}})):(t.value=e,t.state=1,rt(t,!1))}catch(e){ct({done:!1},e,t)}}};if(Z&&($=(X=function(t){m(this,X,M),b(t),n.call(this);var e=F(this);try{t(ut(st,e),ut(ct,e))}catch(t){ct(e,t)}}).prototype,(n=function(t){U(this,{type:M,done:!1,notified:!1,parent:!1,reactions:[],rejection:!1,state:0,value:void 0})}).prototype=h($,{then:function(t,e){var r=N(this),n=V(S(this,X));return n.ok=\"function\"!=typeof t||t,n.fail=\"function\"==typeof e&&e,n.domain=C?W.domain:void 0,r.parent=!0,r.reactions.push(n),0!=r.state&&rt(r,!1),n.promise},catch:function(t){return this.then(void 0,t)}}),o=function(){var t=new n,e=F(t);this.promise=t,this.resolve=ut(st,e),this.reject=ut(ct,e)},_.f=V=function(t){return t===X||t===i?new o(t):z(t)},!c&&\"function\"==typeof l&&G!==Object.prototype)){a=G.then,Q||(p(G,\"then\",(function(t,e){var r=this;return new X((function(t,e){a.call(r,t,e)})).then(t,e)}),{unsafe:!0}),p(G,\"catch\",$.catch,{unsafe:!0}));try{delete G.constructor}catch(t){}d&&d(G,$)}u({global:!0,wrap:!0,forced:Z},{Promise:X}),v(X,M,!1,!0),y(M),i=f(M),u({target:M,stat:!0,forced:Z},{reject:function(t){var e=V(this);return e.reject.call(void 0,t),e.promise}}),u({target:M,stat:!0,forced:c||Z},{resolve:function(t){return P(c&&this===i?X:this,t)}}),u({target:M,stat:!0,forced:tt},{all:function(t){var e=this,r=V(e),n=r.resolve,o=r.reject,i=A((function(){var r=b(e.resolve),i=[],a=0,u=1;w(t,(function(t){var c=a++,s=!1;i.push(void 0),u++,r.call(e,t).then((function(t){s||(s=!0,i[c]=t,--u||n(i))}),o)})),--u||n(i)}));return i.error&&o(i.value),r.promise},race:function(t){var e=this,r=V(e),n=r.reject,o=A((function(){var o=b(e.resolve);w(t,(function(t){o.call(e,t).then(r.resolve,n)}))}));return o.error&&n(o.value),r.promise}})},4916:function(t,e,r){\"use strict\";var n=r(2109),o=r(2261);n({target:\"RegExp\",proto:!0,forced:/./.exec!==o},{exec:o})},5218:function(t,e,r){\"use strict\";var n=r(2109),o=r(4230);n({target:\"String\",proto:!0,forced:r(3429)(\"anchor\")},{anchor:function(t){return o(this,\"a\",\"name\",t)}})},4475:function(t,e,r){\"use strict\";var n=r(2109),o=r(4230);n({target:\"String\",proto:!0,forced:r(3429)(\"big\")},{big:function(){return o(this,\"big\",\"\",\"\")}})},7929:function(t,e,r){\"use strict\";var n=r(2109),o=r(4230);n({target:\"String\",proto:!0,forced:r(3429)(\"blink\")},{blink:function(){return o(this,\"blink\",\"\",\"\")}})},915:function(t,e,r){\"use strict\";var n=r(2109),o=r(4230);n({target:\"String\",proto:!0,forced:r(3429)(\"bold\")},{bold:function(){return o(this,\"b\",\"\",\"\")}})},9841:function(t,e,r){\"use strict\";var n=r(2109),o=r(8710).codeAt;n({target:\"String\",proto:!0},{codePointAt:function(t){return o(this,t)}})},7852:function(t,e,r){\"use strict\";var n,o=r(2109),i=r(1236).f,a=r(7466),u=r(1340),c=r(3929),s=r(4488),f=r(4964),l=r(1913),p=\"\".endsWith,h=Math.min,d=f(\"endsWith\");o({target:\"String\",proto:!0,forced:!!(l||d||(n=i(String.prototype,\"endsWith\"),!n||n.writable))&&!d},{endsWith:function(t){var e=u(s(this));c(t);var r=arguments.length>1?arguments[1]:void 0,n=a(e.length),o=void 0===r?n:h(a(r),n),i=u(t);return p?p.call(e,i,o):e.slice(o-i.length,o)===i}})},9253:function(t,e,r){\"use strict\";var n=r(2109),o=r(4230);n({target:\"String\",proto:!0,forced:r(3429)(\"fixed\")},{fixed:function(){return o(this,\"tt\",\"\",\"\")}})},2125:function(t,e,r){\"use strict\";var n=r(2109),o=r(4230);n({target:\"String\",proto:!0,forced:r(3429)(\"fontcolor\")},{fontcolor:function(t){return o(this,\"font\",\"color\",t)}})},8830:function(t,e,r){\"use strict\";var n=r(2109),o=r(4230);n({target:\"String\",proto:!0,forced:r(3429)(\"fontsize\")},{fontsize:function(t){return o(this,\"font\",\"size\",t)}})},4953:function(t,e,r){var n=r(2109),o=r(1400),i=String.fromCharCode,a=String.fromCodePoint;n({target:\"String\",stat:!0,forced:!!a&&1!=a.length},{fromCodePoint:function(t){for(var e,r=[],n=arguments.length,a=0;n>a;){if(e=+arguments[a++],o(e,1114111)!==e)throw RangeError(e+\" is not a valid code point\");r.push(e<65536?i(e):i(55296+((e-=65536)>>10),e%1024+56320))}return r.join(\"\")}})},2023:function(t,e,r){\"use strict\";var n=r(2109),o=r(3929),i=r(4488),a=r(1340);n({target:\"String\",proto:!0,forced:!r(4964)(\"includes\")},{includes:function(t){return!!~a(i(this)).indexOf(a(o(t)),arguments.length>1?arguments[1]:void 0)}})},8734:function(t,e,r){\"use strict\";var n=r(2109),o=r(4230);n({target:\"String\",proto:!0,forced:r(3429)(\"italics\")},{italics:function(){return o(this,\"i\",\"\",\"\")}})},8783:function(t,e,r){\"use strict\";var n=r(8710).charAt,o=r(1340),i=r(9909),a=r(654),u=\"String Iterator\",c=i.set,s=i.getterFor(u);a(String,\"String\",(function(t){c(this,{type:u,string:o(t),index:0})}),(function(){var t,e=s(this),r=e.string,o=e.index;return o>=r.length?{value:void 0,done:!0}:(t=n(r,o),e.index+=t.length,{value:t,done:!1})}))},9254:function(t,e,r){\"use strict\";var n=r(2109),o=r(4230);n({target:\"String\",proto:!0,forced:r(3429)(\"link\")},{link:function(t){return o(this,\"a\",\"href\",t)}})},6373:function(t,e,r){\"use strict\";var n=r(2109),o=r(4994),i=r(4488),a=r(7466),u=r(1340),c=r(3099),s=r(9670),f=r(4326),l=r(7850),p=r(7066),h=r(8880),d=r(7293),v=r(5112),y=r(6707),g=r(1530),b=r(9909),m=r(1913),x=v(\"matchAll\"),w=\"RegExp String\",E=\"RegExp String Iterator\",S=b.set,O=b.getterFor(E),j=RegExp.prototype,P=j.exec,T=\"\".matchAll,_=!!T&&!d((function(){\"a\".matchAll(/./)})),A=o((function(t,e,r,n){S(this,{type:E,regexp:t,string:e,global:r,unicode:n,done:!1})}),w,(function(){var t=O(this);if(t.done)return{value:void 0,done:!0};var e=t.regexp,r=t.string,n=function(t,e){var r,n=t.exec;if(\"function\"==typeof n){if(\"object\"!=typeof(r=n.call(t,e)))throw TypeError(\"Incorrect exec result\");return r}return P.call(t,e)}(e,r);return null===n?{value:void 0,done:t.done=!0}:t.global?(\"\"===u(n[0])&&(e.lastIndex=g(r,a(e.lastIndex),t.unicode)),{value:n,done:!1}):(t.done=!0,{value:n,done:!1})})),I=function(t){var e,r,n,o,i,c,f=s(this),l=u(t);return e=y(f,RegExp),void 0===(r=f.flags)&&f instanceof RegExp&&!(\"flags\"in j)&&(r=p.call(f)),n=void 0===r?\"\":u(r),o=new e(e===RegExp?f.source:f,n),i=!!~n.indexOf(\"g\"),c=!!~n.indexOf(\"u\"),o.lastIndex=a(f.lastIndex),new A(o,l,i,c)};n({target:\"String\",proto:!0,forced:_},{matchAll:function(t){var e,r,n,o=i(this);if(null!=t){if(l(t)&&!~u(i(\"flags\"in j?t.flags:p.call(t))).indexOf(\"g\"))throw TypeError(\"`.matchAll` does not allow non-global regexes\");if(_)return T.apply(o,arguments);if(void 0===(r=t[x])&&m&&\"RegExp\"==f(t)&&(r=I),null!=r)return c(r).call(t,o)}else if(_)return T.apply(o,arguments);return e=u(o),n=new RegExp(t,\"g\"),m?I.call(n,e):n[x](e)}}),m||x in j||h(j,x,I)},4723:function(t,e,r){\"use strict\";var n=r(7007),o=r(9670),i=r(7466),a=r(1340),u=r(4488),c=r(1530),s=r(7651);n(\"match\",(function(t,e,r){return[function(e){var r=u(this),n=null==e?void 0:e[t];return void 0!==n?n.call(e,r):new RegExp(e)[t](a(r))},function(t){var n=o(this),u=a(t),f=r(e,n,u);if(f.done)return f.value;if(!n.global)return s(n,u);var l=n.unicode;n.lastIndex=0;for(var p,h=[],d=0;null!==(p=s(n,u));){var v=a(p[0]);h[d]=v,\"\"===v&&(n.lastIndex=c(u,i(n.lastIndex),l)),d++}return 0===d?null:h}]}))},6528:function(t,e,r){\"use strict\";var n=r(2109),o=r(6650).end;n({target:\"String\",proto:!0,forced:r(4986)},{padEnd:function(t){return o(this,t,arguments.length>1?arguments[1]:void 0)}})},3112:function(t,e,r){\"use strict\";var n=r(2109),o=r(6650).start;n({target:\"String\",proto:!0,forced:r(4986)},{padStart:function(t){return o(this,t,arguments.length>1?arguments[1]:void 0)}})},8992:function(t,e,r){var n=r(2109),o=r(5656),i=r(7466),a=r(1340);n({target:\"String\",stat:!0},{raw:function(t){for(var e=o(t.raw),r=i(e.length),n=arguments.length,u=[],c=0;r>c;)u.push(a(e[c++])),c<n&&u.push(a(arguments[c]));return u.join(\"\")}})},2481:function(t,e,r){r(2109)({target:\"String\",proto:!0},{repeat:r(8415)})},8757:function(t,e,r){\"use strict\";var n=r(2109),o=r(4488),i=r(7850),a=r(1340),u=r(7066),c=r(647),s=r(5112),f=r(1913),l=s(\"replace\"),p=RegExp.prototype,h=Math.max,d=function(t,e,r){return r>t.length?-1:\"\"===e?r:t.indexOf(e,r)};n({target:\"String\",proto:!0},{replaceAll:function(t,e){var r,n,s,v,y,g,b,m,x=o(this),w=0,E=0,S=\"\";if(null!=t){if((r=i(t))&&!~a(o(\"flags\"in p?t.flags:u.call(t))).indexOf(\"g\"))throw TypeError(\"`.replaceAll` does not allow non-global regexes\");if(void 0!==(n=t[l]))return n.call(t,x,e);if(f&&r)return a(x).replace(t,e)}for(s=a(x),v=a(t),(y=\"function\"==typeof e)||(e=a(e)),g=v.length,b=h(1,g),w=d(s,v,0);-1!==w;)m=y?a(e(v,w,s)):c(v,s,w,[],void 0,e),S+=s.slice(E,w)+m,E=w+g,w=d(s,v,w+b);return E<s.length&&(S+=s.slice(E)),S}})},5306:function(t,e,r){\"use strict\";var n=r(7007),o=r(7293),i=r(9670),a=r(9958),u=r(7466),c=r(1340),s=r(4488),f=r(1530),l=r(647),p=r(7651),h=r(5112)(\"replace\"),d=Math.max,v=Math.min,y=\"$0\"===\"a\".replace(/./,\"$0\"),g=!!/./[h]&&\"\"===/./[h](\"a\",\"$0\");n(\"replace\",(function(t,e,r){var n=g?\"$\":\"$0\";return[function(t,r){var n=s(this),o=null==t?void 0:t[h];return void 0!==o?o.call(t,n,r):e.call(c(n),t,r)},function(t,o){var s=i(this),h=c(t);if(\"string\"==typeof o&&-1===o.indexOf(n)&&-1===o.indexOf(\"$<\")){var y=r(e,s,h,o);if(y.done)return y.value}var g=\"function\"==typeof o;g||(o=c(o));var b=s.global;if(b){var m=s.unicode;s.lastIndex=0}for(var x=[];;){var w=p(s,h);if(null===w)break;if(x.push(w),!b)break;\"\"===c(w[0])&&(s.lastIndex=f(h,u(s.lastIndex),m))}for(var E,S=\"\",O=0,j=0;j<x.length;j++){w=x[j];for(var P=c(w[0]),T=d(v(a(w.index),h.length),0),_=[],A=1;A<w.length;A++)_.push(void 0===(E=w[A])?E:String(E));var I=w.groups;if(g){var R=[P].concat(_,T,h);void 0!==I&&R.push(I);var L=c(o.apply(void 0,R))}else L=l(P,h,T,_,I,o);T>=O&&(S+=h.slice(O,T)+L,O=T+P.length)}return S+h.slice(O)}]}),!!o((function(){var t=/./;return t.exec=function(){var t=[];return t.groups={a:\"7\"},t},\"7\"!==\"\".replace(t,\"$<a>\")}))||!y||g)},4765:function(t,e,r){\"use strict\";var n=r(7007),o=r(9670),i=r(4488),a=r(6029),u=r(1340),c=r(7651);n(\"search\",(function(t,e,r){return[function(e){var r=i(this),n=null==e?void 0:e[t];return void 0!==n?n.call(e,r):new RegExp(e)[t](u(r))},function(t){var n=o(this),i=u(t),s=r(e,n,i);if(s.done)return s.value;var f=n.lastIndex;a(f,0)||(n.lastIndex=0);var l=c(n,i);return a(n.lastIndex,f)||(n.lastIndex=f),null===l?-1:l.index}]}))},7268:function(t,e,r){\"use strict\";var n=r(2109),o=r(4230);n({target:\"String\",proto:!0,forced:r(3429)(\"small\")},{small:function(){return o(this,\"small\",\"\",\"\")}})},3123:function(t,e,r){\"use strict\";var n=r(7007),o=r(7850),i=r(9670),a=r(4488),u=r(6707),c=r(1530),s=r(7466),f=r(1340),l=r(7651),p=r(2261),h=r(2999),d=r(7293),v=h.UNSUPPORTED_Y,y=[].push,g=Math.min,b=4294967295;n(\"split\",(function(t,e,r){var n;return n=\"c\"==\"abbc\".split(/(b)*/)[1]||4!=\"test\".split(/(?:)/,-1).length||2!=\"ab\".split(/(?:ab)*/).length||4!=\".\".split(/(.?)(.?)/).length||\".\".split(/()()/).length>1||\"\".split(/.?/).length?function(t,r){var n=f(a(this)),i=void 0===r?b:r>>>0;if(0===i)return[];if(void 0===t)return[n];if(!o(t))return e.call(n,t,i);for(var u,c,s,l=[],h=(t.ignoreCase?\"i\":\"\")+(t.multiline?\"m\":\"\")+(t.unicode?\"u\":\"\")+(t.sticky?\"y\":\"\"),d=0,v=new RegExp(t.source,h+\"g\");(u=p.call(v,n))&&!((c=v.lastIndex)>d&&(l.push(n.slice(d,u.index)),u.length>1&&u.index<n.length&&y.apply(l,u.slice(1)),s=u[0].length,d=c,l.length>=i));)v.lastIndex===u.index&&v.lastIndex++;return d===n.length?!s&&v.test(\"\")||l.push(\"\"):l.push(n.slice(d)),l.length>i?l.slice(0,i):l}:\"0\".split(void 0,0).length?function(t,r){return void 0===t&&0===r?[]:e.call(this,t,r)}:e,[function(e,r){var o=a(this),i=null==e?void 0:e[t];return void 0!==i?i.call(e,o,r):n.call(f(o),e,r)},function(t,o){var a=i(this),p=f(t),h=r(n,a,p,o,n!==e);if(h.done)return h.value;var d=u(a,RegExp),y=a.unicode,m=(a.ignoreCase?\"i\":\"\")+(a.multiline?\"m\":\"\")+(a.unicode?\"u\":\"\")+(v?\"g\":\"y\"),x=new d(v?\"^(?:\"+a.source+\")\":a,m),w=void 0===o?b:o>>>0;if(0===w)return[];if(0===p.length)return null===l(x,p)?[p]:[];for(var E=0,S=0,O=[];S<p.length;){x.lastIndex=v?0:S;var j,P=l(x,v?p.slice(S):p);if(null===P||(j=g(s(x.lastIndex+(v?S:0)),p.length))===E)S=c(p,S,y);else{if(O.push(p.slice(E,S)),O.length===w)return O;for(var T=1;T<=P.length-1;T++)if(O.push(P[T]),O.length===w)return O;S=E=j}}return O.push(p.slice(E)),O}]}),!!d((function(){var t=/(?:)/,e=t.exec;t.exec=function(){return e.apply(this,arguments)};var r=\"ab\".split(t);return 2!==r.length||\"a\"!==r[0]||\"b\"!==r[1]})),v)},3157:function(t,e,r){\"use strict\";var n,o=r(2109),i=r(1236).f,a=r(7466),u=r(1340),c=r(3929),s=r(4488),f=r(4964),l=r(1913),p=\"\".startsWith,h=Math.min,d=f(\"startsWith\");o({target:\"String\",proto:!0,forced:!!(l||d||(n=i(String.prototype,\"startsWith\"),!n||n.writable))&&!d},{startsWith:function(t){var e=u(s(this));c(t);var r=a(h(arguments.length>1?arguments[1]:void 0,e.length)),n=u(t);return p?p.call(e,n,r):e.slice(r,r+n.length)===n}})},7397:function(t,e,r){\"use strict\";var n=r(2109),o=r(4230);n({target:\"String\",proto:!0,forced:r(3429)(\"strike\")},{strike:function(){return o(this,\"strike\",\"\",\"\")}})},86:function(t,e,r){\"use strict\";var n=r(2109),o=r(4230);n({target:\"String\",proto:!0,forced:r(3429)(\"sub\")},{sub:function(){return o(this,\"sub\",\"\",\"\")}})},3650:function(t,e,r){\"use strict\";var n=r(2109),o=r(4488),i=r(9958),a=r(1340),u=\"\".slice,c=Math.max,s=Math.min;n({target:\"String\",proto:!0},{substr:function(t,e){var r,n,f=a(o(this)),l=f.length,p=i(t);return p===1/0&&(p=0),p<0&&(p=c(l+p,0)),(r=void 0===e?l:i(e))<=0||r===1/0||p>=(n=s(p+r,l))?\"\":u.call(f,p,n)}})},623:function(t,e,r){\"use strict\";var n=r(2109),o=r(4230);n({target:\"String\",proto:!0,forced:r(3429)(\"sup\")},{sup:function(){return o(this,\"sup\",\"\",\"\")}})},8702:function(t,e,r){\"use strict\";var n=r(2109),o=r(3111).end,i=r(6091)(\"trimEnd\"),a=i?function(){return o(this)}:\"\".trimEnd;n({target:\"String\",proto:!0,forced:i},{trimEnd:a,trimRight:a})},5674:function(t,e,r){\"use strict\";var n=r(2109),o=r(3111).start,i=r(6091)(\"trimStart\"),a=i?function(){return o(this)}:\"\".trimStart;n({target:\"String\",proto:!0,forced:i},{trimStart:a,trimLeft:a})},3210:function(t,e,r){\"use strict\";var n=r(2109),o=r(3111).trim;n({target:\"String\",proto:!0,forced:r(6091)(\"trim\")},{trim:function(){return o(this)}})},3948:function(t,e,r){var n=r(7854),o=r(8324),i=r(6992),a=r(8880),u=r(5112),c=u(\"iterator\"),s=u(\"toStringTag\"),f=i.values;for(var l in o){var p=n[l],h=p&&p.prototype;if(h){if(h[c]!==f)try{a(h,c,f)}catch(t){h[c]=f}if(h[s]||a(h,s,l),o[l])for(var d in i)if(h[d]!==i[d])try{a(h,d,i[d])}catch(t){h[d]=i[d]}}}},1150:function(t,e,r){var n=r(7633);r(3948),t.exports=n},9712:function(t,e,r){var n=r(1111);t.exports=n},5666:function(t){var e=function(t){\"use strict\";var e,r=Object.prototype,n=r.hasOwnProperty,o=\"function\"==typeof Symbol?Symbol:{},i=o.iterator||\"@@iterator\",a=o.asyncIterator||\"@@asyncIterator\",u=o.toStringTag||\"@@toStringTag\";function c(t,e,r){return Object.defineProperty(t,e,{value:r,enumerable:!0,configurable:!0,writable:!0}),t[e]}try{c({},\"\")}catch(t){c=function(t,e,r){return t[e]=r}}function s(t,e,r,n){var o=e&&e.prototype instanceof y?e:y,i=Object.create(o.prototype),a=new _(n||[]);return i._invoke=function(t,e,r){var n=l;return function(o,i){if(n===h)throw new Error(\"Generator is already running\");if(n===d){if(\"throw\"===o)throw i;return I()}for(r.method=o,r.arg=i;;){var a=r.delegate;if(a){var u=j(a,r);if(u){if(u===v)continue;return u}}if(\"next\"===r.method)r.sent=r._sent=r.arg;else if(\"throw\"===r.method){if(n===l)throw n=d,r.arg;r.dispatchException(r.arg)}else\"return\"===r.method&&r.abrupt(\"return\",r.arg);n=h;var c=f(t,e,r);if(\"normal\"===c.type){if(n=r.done?d:p,c.arg===v)continue;return{value:c.arg,done:r.done}}\"throw\"===c.type&&(n=d,r.method=\"throw\",r.arg=c.arg)}}}(t,r,a),i}function f(t,e,r){try{return{type:\"normal\",arg:t.call(e,r)}}catch(t){return{type:\"throw\",arg:t}}}t.wrap=s;var l=\"suspendedStart\",p=\"suspendedYield\",h=\"executing\",d=\"completed\",v={};function y(){}function g(){}function b(){}var m={};m[i]=function(){return this};var x=Object.getPrototypeOf,w=x&&x(x(A([])));w&&w!==r&&n.call(w,i)&&(m=w);var E=b.prototype=y.prototype=Object.create(m);function S(t){[\"next\",\"throw\",\"return\"].forEach((function(e){c(t,e,(function(t){return this._invoke(e,t)}))}))}function O(t,e){function r(o,i,a,u){var c=f(t[o],t,i);if(\"throw\"!==c.type){var s=c.arg,l=s.value;return l&&\"object\"==typeof l&&n.call(l,\"__await\")?e.resolve(l.__await).then((function(t){r(\"next\",t,a,u)}),(function(t){r(\"throw\",t,a,u)})):e.resolve(l).then((function(t){s.value=t,a(s)}),(function(t){return r(\"throw\",t,a,u)}))}u(c.arg)}var o;this._invoke=function(t,n){function i(){return new e((function(e,o){r(t,n,e,o)}))}return o=o?o.then(i,i):i()}}function j(t,r){var n=t.iterator[r.method];if(n===e){if(r.delegate=null,\"throw\"===r.method){if(t.iterator.return&&(r.method=\"return\",r.arg=e,j(t,r),\"throw\"===r.method))return v;r.method=\"throw\",r.arg=new TypeError(\"The iterator does not provide a \\'throw\\' method\")}return v}var o=f(n,t.iterator,r.arg);if(\"throw\"===o.type)return r.method=\"throw\",r.arg=o.arg,r.delegate=null,v;var i=o.arg;return i?i.done?(r[t.resultName]=i.value,r.next=t.nextLoc,\"return\"!==r.method&&(r.method=\"next\",r.arg=e),r.delegate=null,v):i:(r.method=\"throw\",r.arg=new TypeError(\"iterator result is not an object\"),r.delegate=null,v)}function P(t){var e={tryLoc:t[0]};1 in t&&(e.catchLoc=t[1]),2 in t&&(e.finallyLoc=t[2],e.afterLoc=t[3]),this.tryEntries.push(e)}function T(t){var e=t.completion||{};e.type=\"normal\",delete e.arg,t.completion=e}function _(t){this.tryEntries=[{tryLoc:\"root\"}],t.forEach(P,this),this.reset(!0)}function A(t){if(t){var r=t[i];if(r)return r.call(t);if(\"function\"==typeof t.next)return t;if(!isNaN(t.length)){var o=-1,a=function r(){for(;++o<t.length;)if(n.call(t,o))return r.value=t[o],r.done=!1,r;return r.value=e,r.done=!0,r};return a.next=a}}return{next:I}}function I(){return{value:e,done:!0}}return g.prototype=E.constructor=b,b.constructor=g,g.displayName=c(b,u,\"GeneratorFunction\"),t.isGeneratorFunction=function(t){var e=\"function\"==typeof t&&t.constructor;return!!e&&(e===g||\"GeneratorFunction\"===(e.displayName||e.name))},t.mark=function(t){return Object.setPrototypeOf?Object.setPrototypeOf(t,b):(t.__proto__=b,c(t,u,\"GeneratorFunction\")),t.prototype=Object.create(E),t},t.awrap=function(t){return{__await:t}},S(O.prototype),O.prototype[a]=function(){return this},t.AsyncIterator=O,t.async=function(e,r,n,o,i){void 0===i&&(i=Promise);var a=new O(s(e,r,n,o),i);return t.isGeneratorFunction(r)?a:a.next().then((function(t){return t.done?t.value:a.next()}))},S(E),c(E,u,\"Generator\"),E[i]=function(){return this},E.toString=function(){return\"[object Generator]\"},t.keys=function(t){var e=[];for(var r in t)e.push(r);return e.reverse(),function r(){for(;e.length;){var n=e.pop();if(n in t)return r.value=n,r.done=!1,r}return r.done=!0,r}},t.values=A,_.prototype={constructor:_,reset:function(t){if(this.prev=0,this.next=0,this.sent=this._sent=e,this.done=!1,this.delegate=null,this.method=\"next\",this.arg=e,this.tryEntries.forEach(T),!t)for(var r in this)\"t\"===r.charAt(0)&&n.call(this,r)&&!isNaN(+r.slice(1))&&(this[r]=e)},stop:function(){this.done=!0;var t=this.tryEntries[0].completion;if(\"throw\"===t.type)throw t.arg;return this.rval},dispatchException:function(t){if(this.done)throw t;var r=this;function o(n,o){return u.type=\"throw\",u.arg=t,r.next=n,o&&(r.method=\"next\",r.arg=e),!!o}for(var i=this.tryEntries.length-1;i>=0;--i){var a=this.tryEntries[i],u=a.completion;if(\"root\"===a.tryLoc)return o(\"end\");if(a.tryLoc<=this.prev){var c=n.call(a,\"catchLoc\"),s=n.call(a,\"finallyLoc\");if(c&&s){if(this.prev<a.catchLoc)return o(a.catchLoc,!0);if(this.prev<a.finallyLoc)return o(a.finallyLoc)}else if(c){if(this.prev<a.catchLoc)return o(a.catchLoc,!0)}else{if(!s)throw new Error(\"try statement without catch or finally\");if(this.prev<a.finallyLoc)return o(a.finallyLoc)}}}},abrupt:function(t,e){for(var r=this.tryEntries.length-1;r>=0;--r){var o=this.tryEntries[r];if(o.tryLoc<=this.prev&&n.call(o,\"finallyLoc\")&&this.prev<o.finallyLoc){var i=o;break}}i&&(\"break\"===t||\"continue\"===t)&&i.tryLoc<=e&&e<=i.finallyLoc&&(i=null);var a=i?i.completion:{};return a.type=t,a.arg=e,i?(this.method=\"next\",this.next=i.finallyLoc,v):this.complete(a)},complete:function(t,e){if(\"throw\"===t.type)throw t.arg;return\"break\"===t.type||\"continue\"===t.type?this.next=t.arg:\"return\"===t.type?(this.rval=this.arg=t.arg,this.method=\"return\",this.next=\"end\"):\"normal\"===t.type&&e&&(this.next=e),v},finish:function(t){for(var e=this.tryEntries.length-1;e>=0;--e){var r=this.tryEntries[e];if(r.finallyLoc===t)return this.complete(r.completion,r.afterLoc),T(r),v}},catch:function(t){for(var e=this.tryEntries.length-1;e>=0;--e){var r=this.tryEntries[e];if(r.tryLoc===t){var n=r.completion;if(\"throw\"===n.type){var o=n.arg;T(r)}return o}}throw new Error(\"illegal catch attempt\")},delegateYield:function(t,r,n){return this.delegate={iterator:A(t),resultName:r,nextLoc:n},\"next\"===this.method&&(this.arg=e),v}},t}(t.exports);try{regeneratorRuntime=e}catch(t){Function(\"r\",\"regeneratorRuntime = r\")(e)}},7147:function(t,e,r){\"use strict\";var n=\"undefined\"!=typeof globalThis&&globalThis||\"undefined\"!=typeof self&&self||void 0!==n&&n,o=\"URLSearchParams\"in n,i=\"Symbol\"in n&&\"iterator\"in Symbol,a=\"FileReader\"in n&&\"Blob\"in n&&function(){try{return new Blob,!0}catch(t){return!1}}(),u=\"FormData\"in n,c=\"ArrayBuffer\"in n;if(c)var s=[\"[object Int8Array]\",\"[object Uint8Array]\",\"[object Uint8ClampedArray]\",\"[object Int16Array]\",\"[object Uint16Array]\",\"[object Int32Array]\",\"[object Uint32Array]\",\"[object Float32Array]\",\"[object Float64Array]\"],f=ArrayBuffer.isView||function(t){return t&&s.indexOf(Object.prototype.toString.call(t))>-1};function l(t){if(\"string\"!=typeof t&&(t=String(t)),/[^a-z0-9\\\\-#$%&\\'*+.^_`|~!]/i.test(t)||\"\"===t)throw new TypeError(\\'Invalid character in header field name: \"\\'+t+\\'\"\\');return t.toLowerCase()}function p(t){return\"string\"!=typeof t&&(t=String(t)),t}function h(t){var e={next:function(){var e=t.shift();return{done:void 0===e,value:e}}};return i&&(e[Symbol.iterator]=function(){return e}),e}function d(t){this.map={},t instanceof d?t.forEach((function(t,e){this.append(e,t)}),this):Array.isArray(t)?t.forEach((function(t){this.append(t[0],t[1])}),this):t&&Object.getOwnPropertyNames(t).forEach((function(e){this.append(e,t[e])}),this)}function v(t){if(t.bodyUsed)return Promise.reject(new TypeError(\"Already read\"));t.bodyUsed=!0}function y(t){return new Promise((function(e,r){t.onload=function(){e(t.result)},t.onerror=function(){r(t.error)}}))}function g(t){var e=new FileReader,r=y(e);return e.readAsArrayBuffer(t),r}function b(t){if(t.slice)return t.slice(0);var e=new Uint8Array(t.byteLength);return e.set(new Uint8Array(t)),e.buffer}function m(){return this.bodyUsed=!1,this._initBody=function(t){var e;this.bodyUsed=this.bodyUsed,this._bodyInit=t,t?\"string\"==typeof t?this._bodyText=t:a&&Blob.prototype.isPrototypeOf(t)?this._bodyBlob=t:u&&FormData.prototype.isPrototypeOf(t)?this._bodyFormData=t:o&&URLSearchParams.prototype.isPrototypeOf(t)?this._bodyText=t.toString():c&&a&&((e=t)&&DataView.prototype.isPrototypeOf(e))?(this._bodyArrayBuffer=b(t.buffer),this._bodyInit=new Blob([this._bodyArrayBuffer])):c&&(ArrayBuffer.prototype.isPrototypeOf(t)||f(t))?this._bodyArrayBuffer=b(t):this._bodyText=t=Object.prototype.toString.call(t):this._bodyText=\"\",this.headers.get(\"content-type\")||(\"string\"==typeof t?this.headers.set(\"content-type\",\"text/plain;charset=UTF-8\"):this._bodyBlob&&this._bodyBlob.type?this.headers.set(\"content-type\",this._bodyBlob.type):o&&URLSearchParams.prototype.isPrototypeOf(t)&&this.headers.set(\"content-type\",\"application/x-www-form-urlencoded;charset=UTF-8\"))},a&&(this.blob=function(){var t=v(this);if(t)return t;if(this._bodyBlob)return Promise.resolve(this._bodyBlob);if(this._bodyArrayBuffer)return Promise.resolve(new Blob([this._bodyArrayBuffer]));if(this._bodyFormData)throw new Error(\"could not read FormData body as blob\");return Promise.resolve(new Blob([this._bodyText]))},this.arrayBuffer=function(){if(this._bodyArrayBuffer){var t=v(this);return t||(ArrayBuffer.isView(this._bodyArrayBuffer)?Promise.resolve(this._bodyArrayBuffer.buffer.slice(this._bodyArrayBuffer.byteOffset,this._bodyArrayBuffer.byteOffset+this._bodyArrayBuffer.byteLength)):Promise.resolve(this._bodyArrayBuffer))}return this.blob().then(g)}),this.text=function(){var t,e,r,n=v(this);if(n)return n;if(this._bodyBlob)return t=this._bodyBlob,e=new FileReader,r=y(e),e.readAsText(t),r;if(this._bodyArrayBuffer)return Promise.resolve(function(t){for(var e=new Uint8Array(t),r=new Array(e.length),n=0;n<e.length;n++)r[n]=String.fromCharCode(e[n]);return r.join(\"\")}(this._bodyArrayBuffer));if(this._bodyFormData)throw new Error(\"could not read FormData body as text\");return Promise.resolve(this._bodyText)},u&&(this.formData=function(){return this.text().then(E)}),this.json=function(){return this.text().then(JSON.parse)},this}d.prototype.append=function(t,e){t=l(t),e=p(e);var r=this.map[t];this.map[t]=r?r+\", \"+e:e},d.prototype.delete=function(t){delete this.map[l(t)]},d.prototype.get=function(t){return t=l(t),this.has(t)?this.map[t]:null},d.prototype.has=function(t){return this.map.hasOwnProperty(l(t))},d.prototype.set=function(t,e){this.map[l(t)]=p(e)},d.prototype.forEach=function(t,e){for(var r in this.map)this.map.hasOwnProperty(r)&&t.call(e,this.map[r],r,this)},d.prototype.keys=function(){var t=[];return this.forEach((function(e,r){t.push(r)})),h(t)},d.prototype.values=function(){var t=[];return this.forEach((function(e){t.push(e)})),h(t)},d.prototype.entries=function(){var t=[];return this.forEach((function(e,r){t.push([r,e])})),h(t)},i&&(d.prototype[Symbol.iterator]=d.prototype.entries);var x=[\"DELETE\",\"GET\",\"HEAD\",\"OPTIONS\",\"POST\",\"PUT\"];function w(t,e){if(!(this instanceof w))throw new TypeError(\\'Please use the \"new\" operator, this DOM object constructor cannot be called as a function.\\');var r,n,o=(e=e||{}).body;if(t instanceof w){if(t.bodyUsed)throw new TypeError(\"Already read\");this.url=t.url,this.credentials=t.credentials,e.headers||(this.headers=new d(t.headers)),this.method=t.method,this.mode=t.mode,this.signal=t.signal,o||null==t._bodyInit||(o=t._bodyInit,t.bodyUsed=!0)}else this.url=String(t);if(this.credentials=e.credentials||this.credentials||\"same-origin\",!e.headers&&this.headers||(this.headers=new d(e.headers)),this.method=(r=e.method||this.method||\"GET\",n=r.toUpperCase(),x.indexOf(n)>-1?n:r),this.mode=e.mode||this.mode||null,this.signal=e.signal||this.signal,this.referrer=null,(\"GET\"===this.method||\"HEAD\"===this.method)&&o)throw new TypeError(\"Body not allowed for GET or HEAD requests\");if(this._initBody(o),!(\"GET\"!==this.method&&\"HEAD\"!==this.method||\"no-store\"!==e.cache&&\"no-cache\"!==e.cache)){var i=/([?&])_=[^&]*/;if(i.test(this.url))this.url=this.url.replace(i,\"$1_=\"+(new Date).getTime());else{this.url+=(/\\\\?/.test(this.url)?\"&\":\"?\")+\"_=\"+(new Date).getTime()}}}function E(t){var e=new FormData;return t.trim().split(\"&\").forEach((function(t){if(t){var r=t.split(\"=\"),n=r.shift().replace(/\\\\+/g,\" \"),o=r.join(\"=\").replace(/\\\\+/g,\" \");e.append(decodeURIComponent(n),decodeURIComponent(o))}})),e}function S(t,e){if(!(this instanceof S))throw new TypeError(\\'Please use the \"new\" operator, this DOM object constructor cannot be called as a function.\\');e||(e={}),this.type=\"default\",this.status=void 0===e.status?200:e.status,this.ok=this.status>=200&&this.status<300,this.statusText=void 0===e.statusText?\"\":\"\"+e.statusText,this.headers=new d(e.headers),this.url=e.url||\"\",this._initBody(t)}w.prototype.clone=function(){return new w(this,{body:this._bodyInit})},m.call(w.prototype),m.call(S.prototype),S.prototype.clone=function(){return new S(this._bodyInit,{status:this.status,statusText:this.statusText,headers:new d(this.headers),url:this.url})},S.error=function(){var t=new S(null,{status:0,statusText:\"\"});return t.type=\"error\",t};var O=[301,302,303,307,308];S.redirect=function(t,e){if(-1===O.indexOf(e))throw new RangeError(\"Invalid status code\");return new S(null,{status:e,headers:{location:t}})};var j=n.DOMException;try{new j}catch(t){(j=function(t,e){this.message=t,this.name=e;var r=Error(t);this.stack=r.stack}).prototype=Object.create(Error.prototype),j.prototype.constructor=j}function P(t,e){return new Promise((function(r,o){var i=new w(t,e);if(i.signal&&i.signal.aborted)return o(new j(\"Aborted\",\"AbortError\"));var u=new XMLHttpRequest;function s(){u.abort()}u.onload=function(){var t,e,n={status:u.status,statusText:u.statusText,headers:(t=u.getAllResponseHeaders()||\"\",e=new d,t.replace(/\\\\r?\\\\n[\\\\t ]+/g,\" \").split(\"\\\\r\").map((function(t){return 0===t.indexOf(\"\\\\n\")?t.substr(1,t.length):t})).forEach((function(t){var r=t.split(\":\"),n=r.shift().trim();if(n){var o=r.join(\":\").trim();e.append(n,o)}})),e)};n.url=\"responseURL\"in u?u.responseURL:n.headers.get(\"X-Request-URL\");var o=\"response\"in u?u.response:u.responseText;setTimeout((function(){r(new S(o,n))}),0)},u.onerror=function(){setTimeout((function(){o(new TypeError(\"Network request failed\"))}),0)},u.ontimeout=function(){setTimeout((function(){o(new TypeError(\"Network request failed\"))}),0)},u.onabort=function(){setTimeout((function(){o(new j(\"Aborted\",\"AbortError\"))}),0)},u.open(i.method,function(t){try{return\"\"===t&&n.location.href?n.location.href:t}catch(e){return t}}(i.url),!0),\"include\"===i.credentials?u.withCredentials=!0:\"omit\"===i.credentials&&(u.withCredentials=!1),\"responseType\"in u&&(a?u.responseType=\"blob\":c&&i.headers.get(\"Content-Type\")&&-1!==i.headers.get(\"Content-Type\").indexOf(\"application/octet-stream\")&&(u.responseType=\"arraybuffer\")),!e||\"object\"!=typeof e.headers||e.headers instanceof d?i.headers.forEach((function(t,e){u.setRequestHeader(e,t)})):Object.getOwnPropertyNames(e.headers).forEach((function(t){u.setRequestHeader(t,p(e.headers[t]))})),i.signal&&(i.signal.addEventListener(\"abort\",s),u.onreadystatechange=function(){4===u.readyState&&i.signal.removeEventListener(\"abort\",s)}),u.send(void 0===i._bodyInit?null:i._bodyInit)}))}P.polyfill=!0,n.fetch||(n.fetch=P,n.Headers=d,n.Request=w,n.Response=S)}},e={};function r(n){var o=e[n];if(void 0!==o)return o.exports;var i=e[n]={exports:{}};return t[n](i,i.exports,r),i.exports}r.d=function(t,e){for(var n in e)r.o(e,n)&&!r.o(t,n)&&Object.defineProperty(t,n,{enumerable:!0,get:e[n]})},r.g=function(){if(\"object\"==typeof globalThis)return globalThis;try{return this||new Function(\"return this\")()}catch(t){if(\"object\"==typeof window)return window}}(),r.o=function(t,e){return Object.prototype.hasOwnProperty.call(t,e)},r(5666),r(1150),r(9712),r(7147),r(1391);r(9135)}();\\n    window.page = undefined;\\n\\n</script>\\n\\n    <link rel=\"preload\" href=\"https://static.files.bbci.co.uk/fonts/reith/2.512/BBCReithSans_W_Rg.woff2\" as=\"font\" type=\"font/woff2\" crossorigin>\\n\\n<script src=\"https://static.files.bbci.co.uk/orbit/ebd948b6090504d3f9a74b26eaba3e9e//js/api-forge-free.min.js\"></script>\\n\\n    \\n    <!-- navid Web Module: 0.2.0-77.51ea108 -->\\n    \\n    \\n    <!-- searchbox Web Module: 3.0.0-323.7ad0027 -->\\n    \\n    \\n    <!-- navpromo Web Module: 3.0.0-256.4dc0bec -->\\n    \\n    \\n    <!-- cookies Web Module: 0.0.3-653.d0748f0 -->\\n    \\n    \\n    <!-- useractivityhelper Web Module: 1.0.0-188.16ba3fd -->\\n    \\n    \\n    <!-- reverb Web Module: 3.2.0 -->\\n    \\n    <!-- ads Web Module: 20210817-165412-f6d80c1fa-4.52.3 -->\\n\\n    \\n    <link rel=\"stylesheet\" href=\"https://static.files.bbci.co.uk/account/id-cta/1.54.4/style/id-cta.css\" /><!--[if IE 8]><link href=\"https://static.files.bbci.co.uk/account/id-cta/1.54.4/style/ie8.css\" rel=\"stylesheet\"/> <![endif]--><script type=\"text/javascript\">(function () {if (!window.require) {throw new Error(\\'idcta: could not find require module\\');}if (typeof (map) == \\'undefined\\') {var map = {};}if (!!document.createElementNS && !!document.createElementNS(\\'http://www.w3.org/2000/svg\\', \\'svg\\').createSVGRect) {document.documentElement.className += \\' id-svg\\';}var ptrt = new RegExp(\"[\\\\\\\\?&]ptrt=([^&]*)\").exec(document.location.href);var ENDPOINT_URL = \\'https://idcta.api.bbc.co.uk\\';var ENDPOINT_CONFIG = (\\'/idcta/config?callback=&ptrt=\\' + (ptrt ? ptrt[1] : encodeURIComponent(document.location.href))).replace(/\\\\&amp;/g, \\'&\\');var ENDPOINT_TRANSLATIONS = \\'/idcta/translations?callback=\\';function hasPromise() {var P = window.Promise;var promiseToString = null;if (P) {try {promiseToString = Object.prototype.toString.call(P.resolve());} catch (e) {/*silently ignored*/}}return (promiseToString === \\'[object Promise]\\' && !P.cast);}if (hasPromise()) {define(\\'idcta/es6-promise\\', function () {return window.Promise;});define(\\'idcta-v2/es6-promise\\', function () {return window.Promise;});}map[\\'idcta-v2\\'] = \\'https://static.files.bbci.co.uk/account/id-cta/1.54.4/modules/idcta-v2\\';map[\\'idcta-v2/config\\'] = ENDPOINT_URL + ENDPOINT_CONFIG;map[\\'idcta-v2/translations\\'] = ENDPOINT_URL + ENDPOINT_TRANSLATIONS;map[\\'idcta\\'] = \\'https://static.files.bbci.co.uk/account/id-cta/1.8.2/modules/idcta\\';map[\\'idcta-v2/idcta-1\\'] = \\'https://static.files.bbci.co.uk/account/id-cta/1.54.4/modules/idcta-v2/dist/idcta-1.min\\';map[\\'idcta-v2/experiment-snippet\\'] = \\'https://cdn.optimizely.com/public/4621041136/s/idcta_live\\';const idctaShim = {deps: [\\'idcta-v2/idcta-1\\'],};require({shim: {\\'idcta-v2/statusbar\\': idctaShim,\\'idcta-v2/id-config\\': idctaShim},map: {\\'*\\': {\\'idcta/idcta-1\\': \\'idcta-v2/idcta-1\\',\\'idcta\\': \\'idcta-v2\\',}},paths: map});window.idctaBaseUrl = ENDPOINT_URL;define(\\'idcta/config\\', [\\'idcta-v2/config\\'], function (data) { return data; });define(\\'idcta/translations\\', [\\'idcta-v2/translations\\'], function (data) { return data; });})();</script>\\n\\n    \\n    \\n<link rel=\"stylesheet\" href=\"https://nav.files.bbci.co.uk/searchbox/ef054f5549cdb02f4468fd830264e4c7/css/box.css\">\\n\\n    \\n    \\n    \\n    \\n    \\n         <script src=\"https://static.files.bbci.co.uk/cookies/5fd5880410e68d69e119dc73567d206e/cookie-banner/cookie-library.bundle.js\"></script><script type=\"text/javascript\">void 0!==window.define&&define(\"orb/cookies\",function(){return window.bbccookies})</script>  \\n    \\n    \\n    <script type=\\'text/javascript\\'>window.__detectview={clickManagementEnabled:false};</script>\\n    \\n    \\n    <script type=\"text/javascript\">\"use strict\";!function(){window.__reverbStaticLocation=\"https://mybbc-analytics.files.bbci.co.uk/reverb-client-js/\",window.__smarttagVersion=\"5.29.1\",window.__reverb={},window.__reverb.__reverbLoadedPromise=new Promise(function(e,i){window.__reverb.__resolveReverbLoaded=e,window.__reverb.__rejectReverbLoaded=i}),window.__reverb.__reverbTimeout=setTimeout(function(){window.__reverb.__rejectReverbLoaded()},5e3);var i=function(d,a){window.__reverb.__reverbLoadedPromise.then(function(e){if(d&&d.detail){var i=!!d.detail.item,n=d.detail.label,t=i?\"viewability\":d.detail.type,o=d.detail.elem,r=d.detail.originalEvent;d.detail.isClick&&(a=d.detail.isClick),e.userActionEvent(t,n,d.detail,o,r,a)}},function(){console.log(\"Reverb failed to load. Event not sent\")})},n=function(){window.__reverb.__reverbLoadedPromise.then(function(e){e.initialise().then(function(){return e.viewEvent()})},function(){console.log(\"Reverb failed to load. Event not sent\")})};document.addEventListener(\"bbc-user-event\",function(e){i(e,!1)}),document.addEventListener(\"bbc-user-click\",function(e){i(e,!0)}),document.addEventListener(\"bbc-page-updated\",n),window.addEventListener(\"pageshow\",function(e){e.persisted&&n()})}();</script><script type=\\'text/javascript\\' src=\\'https://mybbc-analytics.files.bbci.co.uk/reverb-client-js/reverb-3.2.0.js\\' async></script>\\n    \\n    <script type=\"text/javascript\">const adsDebug=/[?|&]ads-debug/.test(window.location.href);var bbcdotcomConfig={},bbcdotcomForgeAsync=!0,googletag=window.googletag||{};googletag.cmd=window.googletag.cmd||[],bbcdotcomScripts=[],tp=window.tp||[],_comscore=window._comscore||[];var bbcdotcom={test:/test/.test(window.location.hostname),adverts:{keyValues:{},breakpoints:{}},advert:{write:function(){},show:function(){},isActive:function(){return!1},layout:function(){return{reset:function(){}}}},config:{init:function(){},isAvailable:function(){return new Promise(function(o){bbcdotcom.resolves?bbcdotcom.resolves.isAvailable.push(o):o(!1)})},isAdsEnabledAsync:function(){return new Promise(function(o){bbcdotcom.resolves?bbcdotcom.resolves.adsEnabled.push(o):o(!1)})},isAnalyticsEnabledAsync:function(){return new Promise(function(o){bbcdotcom.resolves?bbcdotcom.resolves.analyticsEnabled.push(o):o(!1)})},setSections:function(){},setAdsEnabled:function(){},setAnalyticsEnabled:function(){},setAssetPrefix:function(){},setFlagpoles:function(){},setVersion:function(){},setJsPrefix:function(){},setSwfPrefix:function(){},setCssPrefix:function(){},setConfig:function(){},getAssetPrefix:function(){},getJsPrefix:function(){},getSwfPrefix:function(){},getCssPrefix:function(){},isOptimizelyEnabled:function(){},isThirdPartyDisabled:function(){},isThirdPartyDisabledEU:function(){},setEU:function(){}},survey:{init:function(){return!1}},data:{},init:function(){},objects:function(o){return!1},locale:{set:function(){},get:function(){}},setAdKeyValue:function(){},utils:{addEvent:function(){},addHtmlTagClass:function(){},log:function(){}},addLoadEvent:function(){},resolves:{isAvailable:[],adsEnabled:[],analyticsEnabled:[]},resolvePromises:function(){if(bbcdotcom.resolves){for(var o=0;o<bbcdotcom.resolves.isAvailable.length;o++)bbcdotcom.resolves.isAvailable[o](!1);delete bbcdotcom.resolves}},flag:{a:!1,s:!1},asyncCmd:[],isSportApp:function(){var o=window.location.pathname;return void 0!==o&&-1!==o.indexOf(\".app\")&&0===o.indexOf(\"/sport\")},init:function(o){bbcdotcom.asyncCmd.push(function(){bbcdotcom.init(o)})},slotAsync:function(o,n,t,c){bbcdotcom.asyncCmd.push(function(){bbcdotcom.slotAsync(o,n,t,c)})}};bbcdotcom.adverts.slotAsync=function(o,n,t){bbcdotcom.asyncCmd.push(function(){bbcdotcom.adverts.slotAsync(o,n,t)})},bbcdotcom.config.isAdsEnabled=function(){var o=window.location.pathname;return void 0===o||0!==o.indexOf(\"/sport\")||-1===o.indexOf(\".app\")},bbcdotcom.config.isActive=function(){var o=window.location.pathname;return void 0===o||0!==o.indexOf(\"/sport\")||-1===o.indexOf(\".app\")},bbcdotcom.config.isAnalyticsEnabled=function(){return!0},bbcdotcom.registerAd=function(o,n,t){bbcdotcom.asyncCmd.push(function(){bbcdotcom.registerAd(o,n,t)})},bbcdotcom.setAdUnit=function(o){bbcdotcom.asyncCmd.push(function(){bbcdotcom.setAdUnit(o)})},bbcdotcom.adverts.adUnit={},bbcdotcom.adverts.adUnit.setUid=function(o){bbcdotcom.asyncCmd.push(function(){bbcdotcom.adverts.adUnit.setUid(o)})},bbcdotcom.setConfig=function(o){bbcdotcom.asyncCmd.push(function(){bbcdotcom.setConfig(o)})},bbcdotcom.setAdKeyValue=function(o,n){bbcdotcom.asyncCmd.push(function(){bbcdotcom.setAdKeyValue(o,n)})},bbcdotcom.getFeature=function(){return{isEnabled:function(){return!0}}},bbcdotcom.disableAndCloseOpenAds=function(){bbcdotcom.asyncDisableAndCloseOpenAds=!0},bbcdotcom.setAdKeyValue=function(o,n){bbcdotcom.asyncCmd.push(function(){bbcdotcom.adverts.keyValues.set(o,n)})},bbcdotcom.adverts.keyValues.set=function(o,n){bbcdotcom.asyncCmd.push(function(){bbcdotcom.adverts.keyValues.set(o,n)})},bbcdotcom.adverts.keyValues.unset=function(o){bbcdotcom.asyncCmd.push(function(){bbcdotcom.adverts.keyValues.unset(o)})},bbcdotcom.pubsub={},bbcdotcom.pubsub.on=function(o,n){bbcdotcom.asyncCmd.push(function(){bbcdotcom.pubsub.on(o,n)})},bbcdotcom.pubsub.off=function(o,n){bbcdotcom.asyncCmd.push(function(){bbcdotcom.pubsub.off(o,n)})},bbcdotcom.analytics={},bbcdotcom.analytics.page=function(o){bbcdotcom.asyncCmd.push(function(){bbcdotcom.analytics.page(o)})},bbcdotcom.av={emp:{adverts:\"\"}},bbcdotcom.config.isContinuousPlayPage=function(){return!1},bbcdotcom.config.isSportApp=function(){var o=window.location.pathname;return void 0!==o&&-1!==o.indexOf(\".app\")&&0===o.indexOf(\"/sport\")},bbcdotcom.adverts.breakpoints.setGroupStart=function(o,n){bbcdotcom.asyncCmd.push(function(){bbcdotcom.adverts.breakpoints.setGroupStart(o,n)})},\"undefined\"!=typeof require&&require({paths:{bbcdotcom:\"https://gn-web-assets.api.bbc.com/bbcdotcom/assets/20210817-165412-f6d80c1fa-4.52.3/script\"}}),window.bbcdotcom&&bbcdotcom.isSportApp&&!bbcdotcom.isSportApp()&&window.bbcuser.isUKCombined().then(function(o){return o&&!adsDebug?(adsDebug&&console.log(\"UK location, not ads debug mode, don\\'t load flags, don\\'t load ads.\"),(o=window.bbcdotcom||{}).config.isAdsEnabled=function(){return!1},o.config.isActive=function(){return!1},o.config.isAnalyticsEnabled=function(){return!1},o.getFeature=function(){return{isEnabled:function(){return!1}}},void o.resolvePromises()):void window.bbcuser.canSeeAdverts().then(function(o){if(!o&&!adsDebug)return adsDebug&&console.log(\"canSeeAdverts false, not ads debug mode, don\\'t load ads.\"),(n=window.bbcdotcom||{}).config.isAdsEnabled=function(){return!1},n.config.isActive=function(){return!1},n.config.isAnalyticsEnabled=function(){return!1},n.getFeature=function(){return{isEnabled:function(){return!1}}},void n.resolvePromises();var n=/test/.test(window.location.hostname)?\"https://gn-flagpoles.test.api.bbci.co.uk/gnlops\":\"https://gn-flagpoles.api.bbci.co.uk/gnlops\",e=new XMLHttpRequest;e.open(\"GET\",n),e.onload=function(){var n,o,t=JSON.parse(e.responseText),c=window.bbcdotcom||{};c.flag.a=\"true\"===t.adverts?1:0,c.flag.s=\"true\"===t.analytics?1:0,c.flag.a||c.flag.s?(o=/test/.test(window.location.hostname)?\"https://gn-flagpoles.test.api.bbci.co.uk/bbcdotcom\":\"https://gn-flagpoles.api.bbci.co.uk/bbcdotcom\",(n=new XMLHttpRequest).open(\"GET\",o),n.onload=function(){var c=JSON.parse(n.responseText),e=window.bbcdotcom||{};[{tp:\"thirdPartyEEA\"},{d:\"adsense\"},{asa:\"adsportapp\"},{l:\"lotame\"},{p:\"platinum\"},{g:\"grapeshot\"},{sh:\"sherlock\"},{pe:\"permutive\"},{si:\"signin\"},{sis:\"signinSport\"},{sin:\"signinNews\"},{siw:\"signinWWHP\"},{piano:\"piano\"},{fundingchoices_cmp:\"fundingchoices_cmp\"},{storyworks_cmp:\"storyworks_cmp\"},{content_rec:\"content_rec\"},{ias_publisher:\"ias_publisher\"}].forEach(function(o,n){for(var t in o)e.flag[t]=\"true\"===c[o[t]]?1:0}),e.data={ads:e.flag.a,stats:e.flag.s,statsProvider:\"\",country:\"\"},function(){const o=document.createElement(\"link\");o.href=\"https://gn-web-assets.api.bbc.com/bbcdotcom/assets/20210817-165412-f6d80c1fa-4.52.3/style/bbcdotcom-async.css\",o.rel=\"stylesheet\",o.type=\"text/css\",document.head.appendChild(o)}();var o=document.createElement(\"script\"),t=document.head||document.getElementsByTagName(\"head\")[0];o.type=\"text/javascript\",o.async=!0,o.src=\"https://gn-web-assets.api.bbc.com/bbcdotcom/assets/20210817-165412-f6d80c1fa-4.52.3/script/bbcdotcom.js\",o.onload=function(){window.bbcuser.getCountry().then(function(o){e.data.country=o,e.assetPrefix=\"https://gn-web-assets.api.bbc.com/bbcdotcom/assets/20210817-165412-f6d80c1fa-4.52.3/\",bbcdotcomConfig={assetPrefix:\"https://gn-web-assets.api.bbc.com/bbcdotcom/assets/20210817-165412-f6d80c1fa-4.52.3/\",staticVersion:\"20210817-165412-f6d80c1fa-4.52.3\",staticPrefix:\"https://gn-web-assets.api.bbc.com/bbcdotcom/assets/20210817-165412-f6d80c1fa-4.52.3/\"},e.config.init(bbcdotcomConfig,e.data,window.location,window.document),e.config.setAssetPrefix(bbcdotcomConfig.assetPrefix),e.config.setVersion(bbcdotcomConfig.staticVersion),e.config.setFlagpoles(e.flag);o=!!o&&-1!==[\"AT\",\"BE\",\"BG\",\"HR\",\"CY\",\"CZ\",\"DK\",\"EE\",\"FI\",\"FR\",\"DE\",\"GR\",\"HU\",\"IE\",\"IT\",\"LV\",\"LT\",\"LU\",\"MT\",\"NL\",\"PL\",\"PT\",\"RO\",\"SK\",\"SI\",\"ES\",\"SE\",\"IS\",\"LI\",\"NO\",\"CH\"].indexOf(o.toUpperCase());e.config.setEU(o);var n,o=function(o){var n=document.createElement(\"link\"),t=document.head||document.getElementsByTagName(\"head\")[0];n.href=o,n.rel=\"dns-prefetch\",t.appendChild(n)};e.flag.s&&(o(\"//secure-us.imrworldwide.com/\"),o(\"//me-cdn.effectivemeasure.net/\")),e.flag.a&&(o(\"//www.googletagservices.com/\"),o(\"//bbc.gscontxt.net/\"),(n=document.createElement(\"meta\")).setAttribute(\"name\",\"google-site-verification\"),n.setAttribute(\"content\",\"auTeTTwSt_KBY_4iDoR00Lwb7-qzx1IgzJy6ztaWgEI\"),t.appendChild(n)),e.flag.a&&(e.config.isGrapeshotEnabled()&&!e.config.isWorldService()&&(n=window.location.href.split(\"?\")[0],bbcdotcomScripts.push({src:\"https://bbc.gscontxt.net/?url=\"+encodeURIComponent(n)})),bbcdotcomScripts.push({src:\"https://securepubads.g.doubleclick.net/tag/js/gpt.js\"}),e.config.isIASEnabled()&&(window.__iasPET=window.__iasPET||{},window.__iasPET.queue=window.__iasPET.queue||[],window.__iasPET.pubId=\"9708\",bbcdotcomScripts.push({src:\"https://cdn.adsafeprotected.com/iasPET.1.js\"}))),(e.flag.s||e.flag.a)&&(e.config.isPermutiveEnabled()&&!e.config.isWorldService()&&(function(t){if(!t){t=t||{},(window.permutive=t).q=[],t.config={consentRequired:!0},t.config.projectId=\"e488cdb0-e7cb-4d91-9648-60d437d8e491\",t.config.apiKey=\"1bb84885-9325-4fef-adda-a208032b2715\",t.config.environment=t.config.environment||\"production\";for(var o=[\"addon\",\"identify\",\"track\",\"trigger\",\"query\",\"segment\",\"segments\",\"ready\",\"on\",\"once\",\"user\",\"consent\"],n=0;n<o.length;n++){var c=o[n];t[c]=function(n){return function(){var o=Array.prototype.slice.call(arguments,0);t.q.push({functionName:n,arguments:o})}}(c)}}}((document,window.permutive)),bbcdotcomScripts.push({src:\"https://cdn.permutive.com/e488cdb0-e7cb-4d91-9648-60d437d8e491-web.js\"})),bbcdotcomScripts.forEach(function(o){var n=document.createElement(\"script\");n.async=!1,o.id&&(n.id=o.id),n.src=o.src,t.appendChild(n)}),window.bbcdotcom.config.isCmpEnabled()?(window.googlefc=window.googlefc||{},window.googlefc.callbackQueue=window.googlefc.callbackQueue||[],new Promise(function(t){window.googlefc.callbackQueue.push({CONSENT_DATA_READY:function(){window.__tcfapi(\"getTCData\",2,function(o,n){n&&o.gdprApplies&&(window.bbcdotcom.consent={},window.bbcdotcom.gdprApplies=!0,window.bbcdotcom.consent.comscore=o.vendor.consents[77],window.bbcdotcom.consent.permutive=o.vendor.consents[360]&&o.vendor.consents[361],window.bbcdotcom.consent.googleads=o.vendor.consents[755],window.bbcdotcom.consent.nielsen=o.vendor.consents[373]&&o.vendor.consents[812],t(!0)),t(!0)},[77,164,360,361,373,755,812])}})}).then(function(){for(window.bbcdotcom.consentChecked=!0,window.bbcdotcom.asyncDisableAndCloseOpenAds&&window.bbcdotcom.asyncCmd.unshift(function(){window.bbcdotcom.disableAndCloseOpenAds()});window.bbcdotcom.asyncCmd&&0<window.bbcdotcom.asyncCmd.length;)window.bbcdotcom.asyncCmd.shift()()}),function(){const o=document.createElement(\"script\");o.type=\"text/javascript\",o.async=!0,o.src=\"https://gn-web-assets.api.bbc.com/ngas/vendor/fundingchoices/cmp.js\",document.head.appendChild(o)}()):function(){for(;window.bbcdotcom.asyncCmd&&0<window.bbcdotcom.asyncCmd.length;)window.bbcdotcom.asyncCmd.shift()()}()),window.adsDebug&&adsDebug&&console.log(\"bbcdotcom up and running...\")})},t.appendChild(o)},n.onerror=function(){var o;(o=window.bbcdotcom||{}).config.isAdsEnabled=function(){return!1},o.config.isActive=function(){return!1},o.config.isAnalyticsEnabled=function(){return!1},o.getFeature=function(){return{isEnabled:function(){return!1}}},o.resolvePromises()},n.send()):((o=window.bbcdotcom||{}).config.isAdsEnabled=function(){return!1},o.config.isActive=function(){return!1},o.config.isAnalyticsEnabled=function(){return!1},o.getFeature=function(){return{isEnabled:function(){return!1}}},o.resolvePromises())},e.onerror=function(){var o;(o=window.bbcdotcom||{}).config.isAdsEnabled=function(){return!1},o.config.isActive=function(){return!1},o.config.isAnalyticsEnabled=function(){return!1},o.getFeature=function(){return{isEnabled:function(){return!1}}},o.resolvePromises()},e.send()})});</script>\\n\\n        <!--[if (gt IE 8) | (IEMobile)]><!-->\\r\\n<link href=\"https://gn-web-assets.api.bbc.com/wwhp/20210621-1346-9144af9173f4d0c427a321d53978bb7d2ed2652e/responsive/css/wwhp.min.css\" rel=\"stylesheet\" />\\r\\n<!--<![endif]-->\\r\\n<!--[if (lt IE 9) & (!IEMobile)]>\\r\\n<link href=\"https://gn-web-assets.api.bbc.com/wwhp/20210621-1346-9144af9173f4d0c427a321d53978bb7d2ed2652e/responsive/css/old-ie.min.css\" rel=\"stylesheet\" />\\r\\n<![endif]-->        <script src=\"https://gn-web-assets.api.bbc.com/wwhp/20210621-1346-9144af9173f4d0c427a321d53978bb7d2ed2652e/modules/vendor/bower/modernizr/modernizr.js\"></script>\\n        <script>\\n            (function () {\\n              require.config({\\n                    baseUrl: \\'https://gn-web-assets.api.bbc.com/wwhp/20210621-1346-9144af9173f4d0c427a321d53978bb7d2ed2652e/modules\\',\\n                    paths: {\\n                        \\'bump-3\\': \\'https://emp.bbci.co.uk/emp/bump-3/bump-3\\',\\n                        \\'domReady\\': \\'vendor/require/domReady\\',\\n                        \\'jquery-1.9\\': \\'vendor/jquery/jquery\\'\\n                    },\\n                    map: {\\n                        \\'*\\': {\\n                            jquery: \\'jquery-1.9\\'\\n                        }\\n                    },\\n                    shim: {\\n                        \\'vendor/bower/underscore/underscore\\': {\\n                            exports: \\'_\\'\\n                        },\\n                        \\'vendor/bower/js-breakpoints/breakpoints\\': {\\n                            exports: \\'Breakpoints\\'\\n                        },\\n                        \\'vendor/bower/cookie-monster/cookie-monster\\': {\\n                            exports: \\'monster\\'\\n                        }\\n                    }\\n                });\\n\\n                // FIXME: Should be in ads.js, however some devices return ads before ads is able to register to event.\\n                if (window.bbcdotcom && bbcdotcom.pubsub) {\\n                      var stickyOptions = {\\n                      \"leaderboard\": {\\n                          \"offset\": {\\n                              \"from\": [\\'.module--leaderboard\\'],\\n                              \"to\": [\\'.module--promo\\', \\'bottom\\']\\n                          },\\n                          \"applyTo\": \"parent\",\\n                          \"heightLimit\": 150,  //don\\'t add sticky if ad is taller than this number\\n                          \"offsetType\": \"include\",\\n                          \"parallax\": false\\n                        },\\n                      \"mpu\": {\\n                          \"offset\": {\\n                              \"from\": [\\'.content--block--modules section:first-child .module__content\\'],\\n                              \"to\": [\\'.content--block--modules section:last-child\\', \\'bottom\\']\\n                          },\\n                          \"offsetType\": \"include\",\\n                      },\\n                      /*\\n                      \"mpu_bottom\": {\\n                        \"offset\": {\\n                            \"from\": [\\'.module--editors-picks .runway--wrapper\\'],\\n                            \"to\": [\\'.module--editors-picks .runway--wrapper\\', \\'bottom\\']\\n                        },\\n                        \"offsetType\": \"include\"\\n                      }\\n                      */\\n                    };\\n\\n                    bbcdotcom.pubsub.on(\\'ad:done\\', function(id) {\\n                        if(stickyOptions[id]) {\\n                            bbcdotcom.stickyAdvert().add(id, document.getElementById(\\'bbccom_\\'+id), stickyOptions[id]);\\n                        }\\n                    });\\n                }\\n\\n                if (window.bbcdotcom) {\\n                    bbcdotcom.init({ adsToDisplay: [\"parallax\",\"leaderboard\",\"native\",\"mpu\",\"platinum\",\"infeed\",\"module_feature-1\",\"module_feature-2\",\"mpu_bottom\"] });\\n\\n                    require([\"domReady\",\"compiled\"], function (domReady) {\\n                        domReady(function () {\\n                            require([\\'app\\'], function (app) {\\n                                app.init(window, {\\n                                  staticPrefix: \\'https://gn-web-assets.api.bbc.com/wwhp/20210621-1346-9144af9173f4d0c427a321d53978bb7d2ed2652e/\\',\\n                                  continuousPlayEnabled: true,\\n                                  counterName: \\'home.page\\',\\n                                  producer: \\'GNL_HOMEPAGE\\',\\n                                  destination: \\'HOMEPAGE_GNL\\'\\n                                });\\n                            });\\n                        });\\n                    });\\n                }\\n\\n            }());\\n        </script>\\n\\n                    <script type=\"text/javascript\">\\n                var _sf_startpt = (new Date()).getTime();\\n                var wwhpEdition = \\'asia\\';\\n                var _sf_async_config = _sf_async_config || {};\\n                _sf_async_config.uid = 50924;\\n                _sf_async_config.domain = \"bbc.co.uk\";\\n                _sf_async_config.title = \"Homepage\"+(wwhpEdition !== \\'\\' ? \\' - \\'+wwhpEdition : \\'\\');\\n                _sf_async_config.sections = \"Homepage\"+(wwhpEdition !== \\'\\' ? \\', Homepage - \\'+wwhpEdition : \\'\\');\\n                _sf_async_config.region = wwhpEdition;\\n                _sf_async_config.path = \"/\"+(wwhpEdition !== \\'\\' ? \\'?\\'+wwhpEdition : \\'\\');\\n            </script>\\n        \\n                    <script type=\"text/javascript\">\\n                (function(){\\n                    /* set correct OptimizelyURL for prod or sandbox */\\n                    var optimizelyURL = \"https://cdn.optimizely.com/public/4621041136/s/bbccom_sandbox.js\";\\n                    if(window.location.hostname === \\'www.bbc.com\\') {\\n                        optimizelyURL = \"https://cdn.optimizely.com/public/4621041136/s/bbccom_prod.js\";\\n                    }\\n\\n                    /* Set cookie to 1 year */\\n                    window[\\'optimizely\\'] = window[\\'optimizely\\'] || [];\\n                    window[\\'optimizely\\'].push({\\n                        \"type\": \"cookieExpiration\",\\n                        \"cookieExpirationDays\": 365\\n                    });\\n\\n                    var script = document.createElement(\\'script\\');\\n                    script.async = false;\\n                    script.src = optimizelyURL;\\n                    document.head.appendChild(script);\\n                })();\\n            </script>\\n        \\n        <!-- WWVERTICAL-8597 bbc select only visible in US, use edition by default if bbcuser data not available -->\\n        <style>\\n            body.wwhp-edition-us .orb-nav-bbcselect {\\n                display: block;\\n            }\\n        </style>\\n    </head>\\n    <body class=\"wwhp-edition-asia\">\\n         <div id=\"cookiePrompt\"></div> <noscript><p style=\"position: absolute; top: -999em\"><img src=\"https://a1.api.bbc.co.uk/hit.xiti?&col=1&from=p&ptag=js&s=598253&p=home.page&x2=[responsive]&x3=[bbc_website]&x4=[en]&x7=[Index-home]&x8=[reverb-3.2.0-nojs]&x11=[HOMEPAGE_GNL]&x12=[GNL_HOMEPAGE]\" height=\"1\" width=\"1\" alt=\"\"></p></noscript><div id=\"bbccom_interstitial_ad\" class=\"bbccom_display_none\"></div><div id=\"bbccom_interstitial\" class=\"bbccom_display_none\"></div><div id=\"bbccom_wallpaper_ad\" class=\"bbccom_display_none\"></div><div id=\"bbccom_wallpaper\" class=\"bbccom_display_none\"></div>  <header id=\"orb-banner\" role=\"banner\" aria-label=\"BBC\"><div id=\"orb-header\" class=\"orb-nav-pri orb-nav-pri-white orb-nav-empty\" dir=\"ltr\"><div class=\"orb-nav-pri-container b-r b-g-p\"><div class=\"orb-nav-section orb-nav-blocks\"><a href=\"https://www.bbc.co.uk\">Homepage</a></div><section><div class=\"orb-skip-links\"><h2>Accessibility links</h2><ul><li><a href=\"#orb-modules\">Skip to content</a></li><li><a id=\"orb-accessibility-help\" href=\"https://www.bbc.co.uk/accessibility/\">Accessibility Help</a></li></ul></div></section><div id=\"mybbc-wrapper\" class=\"orb-nav-section orb-nav-id orb-nav-focus orb-nav-id-default\">  <div id=\"idcta-statusbar\" class=\"orb-nav-section orb-nav-focus\" data-bbc-container=\"id-cta\" data-bbc-event-type=\"click\" data-bbc-ignore-views=\"1\" data-bbc-metadata=\"{&quot;id-cta-type&quot;: &quot;statusbar-orb&quot;}\" data-bbc-source=\"responsive_web\" data-bbc-title=\"id-cta-sign-in\"><a id=\"idcta-link\" href=\"https://account.bbc.com/account\"><span id=\"idcta-username\">BBC Account</span></a></div><script type=\"text/javascript\">require([\\'idcta/statusbar\\'], function (statusbar) {new statusbar.Statusbar({id: \\'idcta-statusbar\\', publiclyCacheable: true});});</script><!-- Because we are now loading the notification bell CSS asynchronously, we need this inline style hack to ensure that the notification div \\n\\t\\t is hidden by default, and shown only if and when the bell code is loaded from notification-ui --><a id=\"notification-link\" class=\"js-notification-link animated three\" href=\"#\" style=\"display: none\"><span class=\"hidden-span\">Notifications</span><div class=\"notification-link--triangle\"></div><div class=\"notification-link--triangle\"></div><span id=\"not-num\"></span></a>   </div><nav role=\"navigation\" aria-label=\"BBC\" class=\"orb-nav\"><div class=\"orb-nav-section orb-nav-links orb-nav-focus\" id=\"orb-nav-links\"><ul><li class=\"orb-nav-home\"><a href=\"https://www.bbc.co.uk\">Home</a></li><li class=\"orb-nav-news\"><a href=\"https://www.bbc.co.uk/news\">News</a></li><li class=\"orb-nav-sport\"><a href=\"https://www.bbc.co.uk/sport\">Sport</a></li><li class=\"orb-nav-weather\"><a href=\"https://www.bbc.co.uk/weather\">Weather</a></li><li class=\"orb-nav-iplayer\"><a href=\"https://www.bbc.co.uk/iplayer\">iPlayer</a></li><li class=\"orb-nav-sounds\"><a href=\"https://www.bbc.co.uk/sounds\">Sounds</a></li><li class=\"orb-nav-cbbc\"><a href=\"https://www.bbc.co.uk/cbbc\">CBBC</a></li><li class=\"orb-nav-cbeebies\"><a href=\"https://www.bbc.co.uk/cbeebies\">CBeebies</a></li><li class=\"orb-nav-food\"><a href=\"https://www.bbc.co.uk/food\">Food</a></li><li class=\"orb-nav-bitesize\"><a href=\"https://www.bbc.co.uk/bitesize\">Bitesize</a></li><li class=\"orb-nav-arts\"><a href=\"https://www.bbc.co.uk/arts\">Arts</a></li><li class=\"orb-nav-taster\"><a href=\"https://www.bbc.co.uk/taster\">Taster</a></li><li class=\"orb-nav-local\"><a href=\"https://www.bbc.co.uk/news/localnews\">Local</a></li><li class=\"orb-nav-three\"><a href=\"https://www.bbc.co.uk/bbcthree\">Three</a></li><li id=\"orb-nav-more\" style=\"width: 88px\" aria-controls=\"orb-panel-more\"><a href=\"#orb-footer\" data-alt=\"More\" class=\"istats-notrack\">Menu<span class=\"orb-icon orb-icon-arrow\"></span></a></li></ul></div></nav><div class=\"orb-nav-section orb-nav-search\">  <a class=\"orb-search__button\" href=\"https://search.bbc.co.uk/search\" title=\"Search the BBC\">Search</a><form class=\"b-f\" id=\"orb-search-form\" role=\"search\" method=\"get\" action=\"https://search.bbc.co.uk/search\" accept-charset=\"utf-8\"><div><label for=\"orb-search-q\">Search the BBC</label><input id=\"orb-search-q\" type=\"text\" autocomplete=\"off\" autocorrect=\"off\" autocapitalize=\"off\" spellcheck=\"false\" maxlength=\"100\" name=\"q\" placeholder=\"Search\"><button id=\"orb-search-button\" class=\"orb-search__button\">Search the BBC</button><input type=\"hidden\" name=\"suggid\" id=\"orb-search-suggid\"></div></form> </div></div><div id=\"orb-panels\"></div></div></header>  <!-- Styling hook for shared modules only -->\\n<div id=\"orb-modules\">\\n\\n        <!--[if lt IE 9]>\\n        <div class=\"browser-notify\">\\n            <p class=\"browser-notify__message\">This site is optimised for modern web browsers, and does not fully support your version of Internet Explorer.</p>\\n        </div>\\n        <![endif]-->\\n\\n        <h1 id=\"page-title\">BBC Homepage</h1>\\n        <div id=\"page\" role=\"main\" class=\"content\" data-wwhp-module=\"images, media\">\\n                <section class=\"module module--leaderboard module--highlight\">\\n        <div class=\"advert advert--leaderboard\"><!-- BBCDOTCOM slot leaderboard --><div id=\"bbccom_leaderboard_1_2_3_4\" class=\"bbccom_slot\" aria-hidden=\"true\"><div class=\"bbccom_advert\"><script type=\"text/javascript\">/*<![CDATA[*/(function() {if (window.bbcdotcom && bbcdotcom.slotAsync) {bbcdotcom.slotAsync(\"leaderboard\", [1,2,3,4]);}})();/*]]>*/</script></div></div></div>    </section>\\n    \\n<section class=\"module module--header\" data-wwhp-module=\"header\">\\n    <h2 class=\"module__title\">&nbsp;</h2>\\n</section>      <section class=\"module module--promo\"> <div class=\"module__content\"> <ul class=\"media-list\">     \\n        <li class=\"media-list__item media-list__item--1\">\\n            <div\\n               class=\"media media--hero media--primary media--overlay block-link\"\\n               data-bbc-container=\"hero\"\\n               data-bbc-title=\"Kabul evacuations hit by \\'severe\\' threat of attack\"\\n               data-bbc-source=\"World\"\\n               data-bbc-metadata=\\'{\"CHD\": \"card::1\" }\\'\\n                              >\\n                <div class=\"media__image\">\\n                    <div class=\"responsive-image\"><div class=\"delayed-image-load\" data-src=\"https://ichef.bbc.co.uk/wwhp/{width}/cpsprodpb/1D65/production/_120252570_hi069823535.jpg\" data-alt=\"A mother and her children board a US air force C-17 plane at Kabul Airport\"><img src=\"https://ichef.bbc.co.uk/wwhp/144/cpsprodpb/1D65/production/_120252570_hi069823535.jpg\" alt=\"A mother and her children board a US air force C-17 plane at Kabul Airport\" /></div></div>                </div>\\n\\n                \\n                <div class=\"media__content\">\\n\\n                                            <h3 class=\"media__title\">\\n                            <a class=\"media__link\" href=\"/news/live/world-58279900\"\\n                                      rev=\"hero1|headline\" >\\n                                                                    Kabul evacuations hit by \\'severe\\' threat of attack                                                            </a>\\n                        </h3>\\n                    \\n                                            <p class=\"media__summary\">\\n                                                            Thousands outside Kabul airport asked to leave the area, with the UK describing the threat as &quot;severe&quot;,                                                    </p>\\n                    \\n                                            <a class=\"media__tag tag tag--news\" href=\"/news/world\"\\n                                  rev=\"hero1|source\" >World</a>\\n                    \\n                    \\n                </div>\\n\\n                <a class=\"block-link__overlay-link\"\\n                   href=\"/news/live/world-58279900\"\\n                          rev=\"hero1|overlay\"                    tabindex=\"-1\"\\n                   aria-hidden=\"true\"\\n                   >\\n                    Kabul evacuations hit by \\'severe\\' threat of attack                </a>\\n\\n            </div>\\n\\n        </li>\\n            \\n        <li class=\"media-list__item media-list__item--2\">\\n            <div\\n               class=\"media media--overlay block-link\"\\n               data-bbc-container=\"hero\"\\n               data-bbc-title=\"Europe\\'s 2020 heat reached \\'troubling\\' level\"\\n               data-bbc-source=\"Science &amp; Environment\"\\n               data-bbc-metadata=\\'{\"CHD\": \"card::2\" }\\'\\n                              >\\n                <div class=\"media__image\">\\n                    <div class=\"responsive-image\"><div class=\"delayed-image-load\" data-src=\"https://ichef.bbc.co.uk/wwhp/{width}/cpsprodpb/AF9A/production/_120245944_gettyimages-1227745414.jpg\" data-alt=\"Fire\"><img src=\"https://ichef.bbc.co.uk/wwhp/144/cpsprodpb/AF9A/production/_120245944_gettyimages-1227745414.jpg\" alt=\"Fire\" /></div></div>                </div>\\n\\n                \\n                <div class=\"media__content\">\\n\\n                                            <h3 class=\"media__title\">\\n                            <a class=\"media__link\" href=\"/news/science-environment-58333124\"\\n                                      rev=\"hero2|headline\" >\\n                                                                    Europe\\'s 2020 heat reached \\'troubling\\' level                                                            </a>\\n                        </h3>\\n                    \\n                    \\n                                            <a class=\"media__tag tag tag--europe-news\" href=\"/news/science_and_environment\"\\n                                  rev=\"hero2|source\" >Science &amp; Environment</a>\\n                    \\n                    \\n                </div>\\n\\n                <a class=\"block-link__overlay-link\"\\n                   href=\"/news/science-environment-58333124\"\\n                          rev=\"hero2|overlay\"                    tabindex=\"-1\"\\n                   aria-hidden=\"true\"\\n                   >\\n                    Europe\\'s 2020 heat reached \\'troubling\\' level                </a>\\n\\n            </div>\\n\\n        </li>\\n        \\n        <li class=\"media-list__item media-list__item--3\">\\n            <div\\n               class=\"media media--overlay block-link\"\\n               data-bbc-container=\"hero\"\\n               data-bbc-title=\"Waning immunity and rising cases - time to worry?\"\\n               data-bbc-source=\"Health\"\\n               data-bbc-metadata=\\'{\"CHD\": \"card::3\" }\\'\\n                              >\\n                <div class=\"media__image\">\\n                    <div class=\"responsive-image\"><div class=\"delayed-image-load\" data-src=\"https://ichef.bbc.co.uk/wwhp/{width}/cpsprodpb/7D05/production/_120250023_pint_pulling_getty_976.jpg\" data-alt=\"Barman serves beer while colleague stands next to him\"><img src=\"https://ichef.bbc.co.uk/wwhp/144/cpsprodpb/7D05/production/_120250023_pint_pulling_getty_976.jpg\" alt=\"Barman serves beer while colleague stands next to him\" /></div></div>                </div>\\n\\n                \\n                <div class=\"media__content\">\\n\\n                                            <h3 class=\"media__title\">\\n                            <a class=\"media__link\" href=\"https://www.bbc.com/news/health-58334835\"\\n                                      rev=\"hero3|headline\" >\\n                                                                    Waning immunity and rising cases - time to worry?                                                            </a>\\n                        </h3>\\n                    \\n                    \\n                                            <a class=\"media__tag tag tag--health\" href=\"/news/health\"\\n                                  rev=\"hero3|source\" >Health</a>\\n                    \\n                    \\n                </div>\\n\\n                <a class=\"block-link__overlay-link\"\\n                   href=\"https://www.bbc.com/news/health-58334835\"\\n                          rev=\"hero3|overlay\"                    tabindex=\"-1\"\\n                   aria-hidden=\"true\"\\n                   >\\n                    Waning immunity and rising cases - time to worry?                </a>\\n\\n            </div>\\n\\n        </li>\\n        \\n        <li class=\"media-list__item media-list__item--4\">\\n            <div\\n               class=\"media media--overlay block-link\"\\n               data-bbc-container=\"hero\"\\n               data-bbc-title=\"How to fight microplastics with magnets\"\\n               data-bbc-source=\"Future\"\\n               data-bbc-metadata=\\'{\"CHD\": \"card::4\" }\\'\\n                              >\\n                <div class=\"media__image\">\\n                    <div class=\"responsive-image\"><div class=\"delayed-image-load\" data-src=\"https://ichef.bbc.co.uk/wwhp/{width}/ibroadcast/images/live/p0/9t/5l/p09t5lb1.jpg\" data-alt=\"Undergraduate Fionn Ferreira holds up plastic bottles that washed up on a beach in south west Ireland\"><img src=\"https://ichef.bbc.co.uk/wwhp/144/ibroadcast/images/live/p0/9t/5l/p09t5lb1.jpg\" alt=\"Undergraduate Fionn Ferreira holds up plastic bottles that washed up on a beach in south west Ireland\" /></div></div>                </div>\\n\\n                \\n                <div class=\"media__content\">\\n\\n                                            <h3 class=\"media__title\">\\n                            <a class=\"media__link\" href=\"https://www.bbc.com/future/article/20210825-how-to-fight-microplastic-pollution-with-magnets\"\\n                                      rev=\"hero4|headline\" >\\n                                                                    How to fight microplastics with magnets                                                            </a>\\n                        </h3>\\n                    \\n                    \\n                                            <a class=\"media__tag tag tag--future\" href=\"http://www.bbc.com/future\"\\n                                  rev=\"hero4|source\" >Future</a>\\n                    \\n                    \\n                </div>\\n\\n                <a class=\"block-link__overlay-link\"\\n                   href=\"https://www.bbc.com/future/article/20210825-how-to-fight-microplastic-pollution-with-magnets\"\\n                          rev=\"hero4|overlay\"                    tabindex=\"-1\"\\n                   aria-hidden=\"true\"\\n                   >\\n                    How to fight microplastics with magnets                </a>\\n\\n            </div>\\n\\n        </li>\\n        \\n        <li class=\"media-list__item media-list__item--5\">\\n            <div\\n               class=\"media media--overlay block-link\"\\n               data-bbc-container=\"hero\"\\n               data-bbc-title=\"The best music for falling asleep\"\\n               data-bbc-source=\"Culture\"\\n               data-bbc-metadata=\\'{\"CHD\": \"card::5\" }\\'\\n                              >\\n                <div class=\"media__image\">\\n                    <div class=\"responsive-image\"><div class=\"delayed-image-load\" data-src=\"https://ichef.bbc.co.uk/wwhp/{width}/ibroadcast/images/live/p0/9t/59/p09t591q.jpg\" data-alt=\"People lying down in cots outdoors as they listen to a nighttime concert\"><img src=\"https://ichef.bbc.co.uk/wwhp/144/ibroadcast/images/live/p0/9t/59/p09t591q.jpg\" alt=\"People lying down in cots outdoors as they listen to a nighttime concert\" /></div></div>                </div>\\n\\n                \\n                <div class=\"media__content\">\\n\\n                                            <h3 class=\"media__title\">\\n                            <a class=\"media__link\" href=\"https://www.bbc.com/culture/article/20210825-nocturnes-and-max-richter-the-best-music-for-falling-asleep\"\\n                                      rev=\"hero5|headline\" >\\n                                                                    The best music for falling asleep                                                            </a>\\n                        </h3>\\n                    \\n                    \\n                                            <a class=\"media__tag tag tag--culture\" href=\"http://www.bbc.com/culture\"\\n                                  rev=\"hero5|source\" >Culture</a>\\n                    \\n                    \\n                </div>\\n\\n                <a class=\"block-link__overlay-link\"\\n                   href=\"https://www.bbc.com/culture/article/20210825-nocturnes-and-max-richter-the-best-music-for-falling-asleep\"\\n                          rev=\"hero5|overlay\"                    tabindex=\"-1\"\\n                   aria-hidden=\"true\"\\n                   >\\n                    The best music for falling asleep                </a>\\n\\n            </div>\\n\\n        </li>\\n     </ul> </div> </section>      <section class=\"module module--content-block\"> <div class=\"module__content\"> <div class=\"container module--compound\"> <div class=\"module--column module--mpu\"> <div class=\"runway--wrapper\"> <div class=\"runway--mpu\"> <div class=\"advert advert--mpu\"><!-- BBCDOTCOM slot mpu --><div id=\"bbccom_mpu_1_2_3_4\" class=\"bbccom_slot\" aria-hidden=\"true\"><div class=\"bbccom_advert\"><script type=\"text/javascript\">/*<![CDATA[*/(function() {if (window.bbcdotcom && bbcdotcom.slotAsync) {bbcdotcom.slotAsync(\"mpu\", [1,2,3,4]);}})();/*]]>*/</script></div></div></div> </div> </div> </div> <div class=\"module--column\"> <div class=\"content--block--modules\">  <section class=\"module module--news   module--collapse-images\">             <h2 class=\"module__title\">\\n                            <a class=\"module__title__link tag tag--news\" href=\"/news\"\\n                      rev=\"news|header\"                     >News</a>\\n                    </h2>\\n     <div class=\"module__content\"> <ul class=\"media-list media-list--fixed-height\">         \\n        <li class=\"media-list__item media-list__item--1\">\\n            <div\\n               class=\"media media--icon block-link\"\\n               data-bbc-container=\"news\"\\n               data-bbc-title=\"\\'I\\'m watching Afghanistan burn from afar\\'\"\\n               data-bbc-source=\"India\"\\n               data-bbc-metadata=\\'{\"CHD\": \"card::1\" }\\'\\n                              >\\n                <div class=\"media__image\">\\n                    <div class=\"responsive-image\"><div class=\"delayed-image-load\" data-src=\"https://ichef.bbc.co.uk/wwhp/{width}/cpsprodpb/4672/production/_120243081_p09t4l28.jpg\" data-alt=\"There are fears that the Taliban will curb women\\'s rights\"><img src=\"data:image/gif;base64,R0lGODlhEAAJAIAAAP///wAAACH5BAEAAAAALAAAAAAQAAkAAAIKhI+py+0Po5yUFQA7\" alt=\"There are fears that the Taliban will curb women\\'s rights\" /></div></div>                </div>\\n\\n                                    <span class=\"media__icon icon icon--video\" aria-hidden=\"true\"></span>\\n                \\n                <div class=\"media__content\">\\n\\n                                            <h3 class=\"media__title\">\\n                            <a class=\"media__link\" href=\"/news/world-asia-india-58326408\"\\n                                      rev=\"news|headline\" >\\n                                                                    \\'I\\'m watching Afghanistan burn from afar\\'                                                            </a>\\n                        </h3>\\n                    \\n                                            <p class=\"media__summary\">\\n                                                            Hundreds of Afghan have taken refuge in India but they are worried about their families back home.                                                    </p>\\n                    \\n                                            <a class=\"media__tag tag tag--news\" href=\"/news/world/asia/india\"\\n                                  rev=\"news|source\" >India</a>\\n                    \\n                    \\n                </div>\\n\\n                <a class=\"block-link__overlay-link\"\\n                   href=\"/news/world-asia-india-58326408\"\\n                          rev=\"news|overlay\"                    tabindex=\"-1\"\\n                   aria-hidden=\"true\"\\n                   >\\n                    \\'I\\'m watching Afghanistan burn from afar\\'                </a>\\n\\n            </div>\\n\\n        </li>\\n        \\n        <li class=\"media-list__item media-list__item--2\">\\n            <div\\n               class=\"media  block-link\"\\n               data-bbc-container=\"news\"\\n               data-bbc-title=\"Attack could strike Kabul within hours - minister\"\\n               data-bbc-source=\"UK\"\\n               data-bbc-metadata=\\'{\"CHD\": \"card::2\" }\\'\\n                              >\\n                <div class=\"media__image\">\\n                    <div class=\"responsive-image\"><div class=\"delayed-image-load\" data-src=\"https://ichef.bbc.co.uk/wwhp/{width}/cpsprodpb/16C28/production/_120242239_mediaitem120242234.jpg\" data-alt=\"People being evacuated from Afghanistan\"><img src=\"data:image/gif;base64,R0lGODlhEAAJAIAAAP///wAAACH5BAEAAAAALAAAAAAQAAkAAAIKhI+py+0Po5yUFQA7\" alt=\"People being evacuated from Afghanistan\" /></div></div>                </div>\\n\\n                \\n                <div class=\"media__content\">\\n\\n                                            <h3 class=\"media__title\">\\n                            <a class=\"media__link\" href=\"/news/uk-58337632\"\\n                                      rev=\"news|headline\" >\\n                                                                    Attack could strike Kabul within hours - minister                                                            </a>\\n                        </h3>\\n                    \\n                                            <p class=\"media__summary\">\\n                                                            There are &quot;very credible&quot; reports of an imminent threat in the Afghan capital, James Heappey says.                                                    </p>\\n                    \\n                                            <a class=\"media__tag tag tag--news\" href=\"/news/uk\"\\n                                  rev=\"news|source\" >UK</a>\\n                    \\n                    \\n                </div>\\n\\n                <a class=\"block-link__overlay-link\"\\n                   href=\"/news/uk-58337632\"\\n                          rev=\"news|overlay\"                    tabindex=\"-1\"\\n                   aria-hidden=\"true\"\\n                   >\\n                    Attack could strike Kabul within hours - minister                </a>\\n\\n            </div>\\n\\n        </li>\\n        \\n        <li class=\"media-list__item media-list__item--3\">\\n            <div\\n               class=\"media  block-link\"\\n               data-bbc-container=\"news\"\\n               data-bbc-title=\"Tokyo Paralympics: Pearson takes his 12th Paralympic title as GB win five golds on day two\"\\n               data-bbc-source=\"Disability Sport\"\\n               data-bbc-metadata=\\'{\"CHD\": \"card::3\" }\\'\\n                              >\\n                <div class=\"media__image\">\\n                    <div class=\"responsive-image\"><div class=\"delayed-image-load\" data-src=\"https://ichef.bbc.co.uk/wwhp/{width}/cpsprodpb/16143/production/_120253409_kearney_reuters_pearson_ois.png\" data-alt=\"Split-image of Tully Kearney smiling after setting a new world record to win the S5 100m freestyle gold medal at the Tokyo Paralympics, plus Lee Pearson competing in the Para-dressage Grade II individual test\"><img src=\"data:image/gif;base64,R0lGODlhEAAJAIAAAP///wAAACH5BAEAAAAALAAAAAAQAAkAAAIKhI+py+0Po5yUFQA7\" alt=\"Split-image of Tully Kearney smiling after setting a new world record to win the S5 100m freestyle gold medal at the Tokyo Paralympics, plus Lee Pearson competing in the Para-dressage Grade II individual test\" /></div></div>                </div>\\n\\n                \\n                <div class=\"media__content\">\\n\\n                                            <h3 class=\"media__title\">\\n                            <a class=\"media__link\" href=\"/sport/live/disability-sport/55509431\"\\n                                      rev=\"news|headline\" >\\n                                                                    Tokyo Paralympics: Pearson takes his 12th Paralympic title as GB win five golds on day two                                                            </a>\\n                        </h3>\\n                    \\n                                            <p class=\"media__summary\">\\n                                                            Live text commentary from the Paralympic Games, as Great Britain win five gold medals on day two in Tokyo.                                                    </p>\\n                    \\n                                            <a class=\"media__tag tag tag--news\" href=\"/sport/disability-sport\"\\n                                  rev=\"news|source\" >Disability Sport</a>\\n                    \\n                    \\n                </div>\\n\\n                <a class=\"block-link__overlay-link\"\\n                   href=\"/sport/live/disability-sport/55509431\"\\n                          rev=\"news|overlay\"                    tabindex=\"-1\"\\n                   aria-hidden=\"true\"\\n                   >\\n                    Tokyo Paralympics: Pearson takes his 12th Paralympic title as GB win five golds on day two                </a>\\n\\n            </div>\\n\\n        </li>\\n     </ul> </div> </section>  <section class=\"module module--sport   module--collapse-images\">             <h2 class=\"module__title\">\\n                            <a class=\"module__title__link tag tag--sport\" href=\"/sport\"\\n                      rev=\"sport|header\"                     >Sport</a>\\n                    </h2>\\n     <div class=\"module__content\"> <ul class=\"media-list media-list--fixed-height\">         \\n        <li class=\"media-list__item media-list__item--1\">\\n            <div\\n               class=\"media  block-link\"\\n               data-bbc-container=\"sport\"\\n               data-bbc-title=\"Hameed &amp; Burns extend England lead over India - clips, radio &amp; text\"\\n               data-bbc-source=\"Cricket\"\\n               data-bbc-metadata=\\'{\"CHD\": \"card::1\" }\\'\\n                              >\\n                <div class=\"media__image\">\\n                    <div class=\"responsive-image\"><div class=\"delayed-image-load\" data-src=\"https://ichef.bbc.co.uk/wwhp/{width}/cpsprodpb/13DCB/production/_120255318_haseeb_hameed_getty3.jpg\" data-alt=\"Haseeb Hameed\"><img src=\"data:image/gif;base64,R0lGODlhEAAJAIAAAP///wAAACH5BAEAAAAALAAAAAAQAAkAAAIKhI+py+0Po5yUFQA7\" alt=\"Haseeb Hameed\" /></div></div>                </div>\\n\\n                \\n                <div class=\"media__content\">\\n\\n                                            <h3 class=\"media__title\">\\n                            <a class=\"media__link\" href=\"/sport/live/cricket/55023802\"\\n                                      rev=\"sport|headline\" >\\n                                                                    Hameed &amp; Burns extend England lead over India - clips, radio &amp; text                                                            </a>\\n                        </h3>\\n                    \\n                                            <p class=\"media__summary\">\\n                                                            England attempt to build a sizeable first-innings lead over India on day two of the third Test at Emerald Headingley.                                                    </p>\\n                    \\n                                            <a class=\"media__tag tag tag--sport\" href=\"/sport/cricket\"\\n                                  rev=\"sport|source\" >Cricket</a>\\n                    \\n                    \\n                </div>\\n\\n                <a class=\"block-link__overlay-link\"\\n                   href=\"/sport/live/cricket/55023802\"\\n                          rev=\"sport|overlay\"                    tabindex=\"-1\"\\n                   aria-hidden=\"true\"\\n                   >\\n                    Hameed &amp; Burns extend England lead over India - clips, radio &amp; text                </a>\\n\\n            </div>\\n\\n        </li>\\n        \\n        <li class=\"media-list__item media-list__item--2\">\\n            <div\\n               class=\"media  block-link\"\\n               data-bbc-container=\"sport\"\\n               data-bbc-title=\"Transfer latest, Carabao Cup reaction and Premier League news conferences\"\\n               data-bbc-source=\"Football\"\\n               data-bbc-metadata=\\'{\"CHD\": \"card::2\" }\\'\\n                              >\\n                <div class=\"media__image\">\\n                    <div class=\"responsive-image\"><div class=\"delayed-image-load\" data-src=\"https://ichef.bbc.co.uk/wwhp/{width}/cpsprodpb/11639/production/_120252217_gettyimages-1336394467.jpg\" data-alt=\"Arsenal celebrating against West Brom\"><img src=\"data:image/gif;base64,R0lGODlhEAAJAIAAAP///wAAACH5BAEAAAAALAAAAAAQAAkAAAIKhI+py+0Po5yUFQA7\" alt=\"Arsenal celebrating against West Brom\" /></div></div>                </div>\\n\\n                \\n                <div class=\"media__content\">\\n\\n                                            <h3 class=\"media__title\">\\n                            <a class=\"media__link\" href=\"/sport/live/football/58330502\"\\n                                      rev=\"sport|headline\" >\\n                                                                    Transfer latest, Carabao Cup reaction and Premier League news conferences                                                            </a>\\n                        </h3>\\n                    \\n                                            <p class=\"media__summary\">\\n                                                            All the latest transfer news, reaction to Wednesday\\'s Carabao Cup action, Premier League news conferences and England squad announcement.                                                    </p>\\n                    \\n                                            <a class=\"media__tag tag tag--sport\" href=\"/sport/football\"\\n                                  rev=\"sport|source\" >Football</a>\\n                    \\n                    \\n                </div>\\n\\n                <a class=\"block-link__overlay-link\"\\n                   href=\"/sport/live/football/58330502\"\\n                          rev=\"sport|overlay\"                    tabindex=\"-1\"\\n                   aria-hidden=\"true\"\\n                   >\\n                    Transfer latest, Carabao Cup reaction and Premier League news conferences                </a>\\n\\n            </div>\\n\\n        </li>\\n        \\n        <li class=\"media-list__item media-list__item--3\">\\n            <div\\n               class=\"media  block-link\"\\n               data-bbc-container=\"sport\"\\n               data-bbc-title=\"\\'Ageless Anderson turns water into wine\\'\"\\n               data-bbc-source=\"Cricket\"\\n               data-bbc-metadata=\\'{\"CHD\": \"card::3\" }\\'\\n                              >\\n                <div class=\"media__image\">\\n                    <div class=\"responsive-image\"><div class=\"delayed-image-load\" data-src=\"https://ichef.bbc.co.uk/wwhp/{width}/cpsprodpb/69F4/production/_120242172_james_anderson_virat_kohli_pa.jpg\" data-alt=\"James Anderson and Virat Kohli\"><img src=\"data:image/gif;base64,R0lGODlhEAAJAIAAAP///wAAACH5BAEAAAAALAAAAAAQAAkAAAIKhI+py+0Po5yUFQA7\" alt=\"James Anderson and Virat Kohli\" /></div></div>                </div>\\n\\n                \\n                <div class=\"media__content\">\\n\\n                                            <h3 class=\"media__title\">\\n                            <a class=\"media__link\" href=\"/sport/cricket/58334559\"\\n                                      rev=\"sport|headline\" >\\n                                                                    \\'Ageless Anderson turns water into wine\\'                                                            </a>\\n                        </h3>\\n                    \\n                                            <p class=\"media__summary\">\\n                                                            Aged 39 years, England seamer James Anderson stands alongside the modern megastars drinking the elixir of eternal class, writes Stephan Shemilt.                                                    </p>\\n                    \\n                                            <a class=\"media__tag tag tag--sport\" href=\"/sport/cricket\"\\n                                  rev=\"sport|source\" >Cricket</a>\\n                    \\n                    \\n                </div>\\n\\n                <a class=\"block-link__overlay-link\"\\n                   href=\"/sport/cricket/58334559\"\\n                          rev=\"sport|overlay\"                    tabindex=\"-1\"\\n                   aria-hidden=\"true\"\\n                   >\\n                    \\'Ageless Anderson turns water into wine\\'                </a>\\n\\n            </div>\\n\\n        </li>\\n     </ul> </div> </section> <!-- Error: (FeaturesAndEvents) Module does not have enough items (1/3) -->\\r\\n  <section class=\"module module--weather\" data-wwhp-module=\"weather\"> <div class=\"weather--content\"> <div class=\"weather\"> <div class=\"weather--head\"> <div class=\"weather--location\"> <h2>Singapore Weather</h2> <a class=\"weather--edit\" role=\"link\" href=\"#\">Edit</a> </div> <form class=\"weather--form\" action=\"/wwhp\"> <div class=\"weather--form--search\"> <input class=\"weather--form--input\" placeholder=\"Enter city, town or region\" name=\"location_term\" autocomplete=\"off\"> <button class=\"weather--form--submit\" type=\"submit\" value=\"\"> <span class=\"icon icon--search\"></span> </button> </div> </form> <p class=\"weather--error\"></p> <ul class=\"weather--results\"></ul> </div> <div class=\"weather--forecasts\"> <ul class=\"weather--forecast--list\">  <li class=\"forecast--1 forecast\"> <a class=\"forecast--link\" href=\"/weather/1880251?day=0\"   rev=\"weather|link\" > <img class=\"forecast--image\" src=\"https://static.bbci.co.uk/weather/0.5.284/images/icons/individual_56_icons/en_on_light_bg/0.gif\" alt=\"Clear Sky\"> <h3 class=\"forecast--day\">Thu</h3>  <p class=\"forecast--low\">23&deg;C</p> </a> </li>  <li class=\"forecast--2 forecast\"> <a class=\"forecast--link\" href=\"/weather/1880251?day=1\"   rev=\"weather|link\" > <img class=\"forecast--image\" src=\"https://static.bbci.co.uk/weather/0.5.284/images/icons/individual_56_icons/en_on_light_bg/29.gif\" alt=\"Thundery Showers\"> <h3 class=\"forecast--day\">Fri</h3>  <p class=\"forecast--high\">30&deg;C</p>  <p class=\"forecast--low\">23&deg;C</p> </a> </li>  <li class=\"forecast--3 forecast\"> <a class=\"forecast--link\" href=\"/weather/1880251?day=2\"   rev=\"weather|link\" > <img class=\"forecast--image\" src=\"https://static.bbci.co.uk/weather/0.5.284/images/icons/individual_56_icons/en_on_light_bg/29.gif\" alt=\"Thundery Showers\"> <h3 class=\"forecast--day\">Sat</h3>  <p class=\"forecast--high\">31&deg;C</p>  <p class=\"forecast--low\">23&deg;C</p> </a> </li>  <li class=\"forecast--4 forecast\"> <a class=\"forecast--link\" href=\"/weather/1880251?day=3\"   rev=\"weather|link\" > <img class=\"forecast--image\" src=\"https://static.bbci.co.uk/weather/0.5.284/images/icons/individual_56_icons/en_on_light_bg/29.gif\" alt=\"Thundery Showers\"> <h3 class=\"forecast--day\">Sun</h3>  <p class=\"forecast--high\">30&deg;C</p>  <p class=\"forecast--low\">22&deg;C</p> </a> </li>  </ul> </div> </div> </div> </section>  </div> </div> </div> </div> </section>       <section class=\"module module--reel\"> <div class=\"module__content\"> <div> <a href=\"/reel\" class=\"reel--link\"> <div> <div class=\"reel--logos-container\"> <div class=\"reel--reellogo-container\"> <svg viewBox=\"0 0 52.7 15.8\" class=\"reel--reellogo\"> <path d=\"M2.8,9.7v6H0V0h5.4c2,0,3.6,0.4,4.7,1.3c1.1,0.8,1.6,2,1.6,3.6c0,1-0.3,1.9-0.8,2.7c-0.5,0.7-1.3,1.3-2.3,1.7 c0.7,1.1,1.4,2.1,2.1,3.2c0.7,1.1,1.3,2.2,2,3.3H9.5c-0.6-1-1.2-2-1.8-3c-0.6-1-1.2-2-1.8-3c-0.2,0-0.4,0-0.6,0H2.8z M2.8,2.2v5.3 h2.5c1.2,0,2.1-0.2,2.8-0.6c0.6-0.4,0.9-1.1,0.9-2c0-0.9-0.3-1.6-0.9-2C7.4,2.4,6.5,2.2,5.3,2.2H2.8z\" /> <path d=\"M14.9,0h10.6v2.4h-7.7v4.1h6.9v2.4h-6.9v4.6h8.2v2.4h-11V0z\" /> <path d=\"M28.5,0H39v2.4h-7.7v4.1h6.9v2.4h-6.9v4.6h8.2v2.4h-11V0z\" /> <path d=\"M42.1,0h2.8v13.4h7.8v2.4H42.1V0z\" /> </svg> </div> </div> <div class=\"reel--button-container\"> <div class=\"reel--button\"> <div class=\"reel--button-title\">Visit Reel</div> <div class=\"reel--button-icon\"> <svg width=\"24\" height=\"24\" viewBox=\"0 0 24 24\" fill=\"none\" stroke=\"#BBB\" stroke-width=\"2\" stroke-linecap=\"round\" stroke-linejoin=\"round\"> <line x1=\"4\" y1=\"12\" x2=\"20\" y2=\"12\"/> <polyline points=\"14 6 20 12 14 18\"/> </svg> </div> </div> </div> </div> </a> </div> <p>The most amazing videos from the BBC</p> <ul class=\"media-list media-list--fixed-height\">  <li class=\"media-list__item media-list__item--1\"> <div class=\"media block-link\" data-bbc-container=\"reel\" data-bbc-title=\"Drugs, dogs and uncensored teen talk in a city park\" data-bbc-source=\"reel\" data-bbc-metadata=\\'{\"CHD\": \"card::1\" }\\' > <a class=\"reel__link\" href=\"/reel/video/p09qppbm/a-provocative-look-at-youth-seen-through-the-eyes-of-dogs\"> <div class=\"media__image\"> <div class=\"responsive-image\"> <div class=\"delayed-image-load-reel\" data-src=\"https://ychef.files.bbci.co.uk/{width}/p09t3d29.jpg\" data-alt=\"Drugs, dogs and uncensored teen talk in a city park\"> <img src=\"data:image/gif;base64,R0lGODlhEAAJAIAAAP///wAAACH5BAEAAAAALAAAAAAQAAkAAAIKhI+py+0Po5yUFQA7\" alt=\"Drugs, dogs and uncensored teen talk in a city park\" /> </div> </div> </div> <div class=\"media__content\"> <h3>Drugs, dogs and uncensored teen talk in a city park</h3> </div> </a> </div> </li>  <li class=\"media-list__item media-list__item--2\"> <div class=\"media block-link\" data-bbc-container=\"reel\" data-bbc-title=\"The Caribbean island that embraces a deadly sin\" data-bbc-source=\"reel\" data-bbc-metadata=\\'{\"CHD\": \"card::2\" }\\' > <a class=\"reel__link\" href=\"/reel/video/p09ftqzh/the-paradise-island-with-a-lesson-about-pride\"> <div class=\"media__image\"> <div class=\"responsive-image\"> <div class=\"delayed-image-load-reel\" data-src=\"https://ychef.files.bbci.co.uk/{width}/p09g1f5t.jpg\" data-alt=\"The Caribbean island that embraces a deadly sin\"> <img src=\"data:image/gif;base64,R0lGODlhEAAJAIAAAP///wAAACH5BAEAAAAALAAAAAAQAAkAAAIKhI+py+0Po5yUFQA7\" alt=\"The Caribbean island that embraces a deadly sin\" /> </div> </div> </div> <div class=\"media__content\"> <h3>The Caribbean island that embraces a deadly sin</h3> </div> </a> </div> </li>  <li class=\"media-list__item media-list__item--3\"> <div class=\"media block-link\" data-bbc-container=\"reel\" data-bbc-title=\"The remote Indian village where giant vegetables grow\" data-bbc-source=\"reel\" data-bbc-metadata=\\'{\"CHD\": \"card::3\" }\\' > <a class=\"reel__link\" href=\"/reel/video/p09qlqxj/the-disappearing-village-where-huge-radishes-grow\"> <div class=\"media__image\"> <div class=\"responsive-image\"> <div class=\"delayed-image-load-reel\" data-src=\"https://ychef.files.bbci.co.uk/{width}/p09t21rr.jpg\" data-alt=\"The remote Indian village where giant vegetables grow\"> <img src=\"data:image/gif;base64,R0lGODlhEAAJAIAAAP///wAAACH5BAEAAAAALAAAAAAQAAkAAAIKhI+py+0Po5yUFQA7\" alt=\"The remote Indian village where giant vegetables grow\" /> </div> </div> </div> <div class=\"media__content\"> <h3>The remote Indian village where giant vegetables grow</h3> </div> </a> </div> </li>  </ul> </div> <div class=\"reel--background\"> <div class=\"delayed-image-load-reel \" data-src=\"https://ychef.files.bbci.co.uk/{width}/p08h02kk.jpg\"></div> </div> </section> <div class=\"advert advert--platinum\"><!-- BBCDOTCOM slot platinum --><div id=\"bbccom_platinum_1_2_3_4\" class=\"bbccom_slot\" aria-hidden=\"true\"><div class=\"bbccom_advert\"><script type=\"text/javascript\">/*<![CDATA[*/(function() {if (window.bbcdotcom && bbcdotcom.slotAsync) {bbcdotcom.slotAsync(\"platinum\", [1,2,3,4]);}})();/*]]>*/</script></div></div></div>      <section class=\"module module--regional-news   module--collapse-images\">             <h2 class=\"module__title\">\\n                            <a class=\"module__title__link tag tag--news\" href=\"/news/world/asia\"\\n                      rev=\"regional-news|header\"                     >Asia News</a>\\n                    </h2>\\n     <div class=\"module__content\"> <ul class=\"media-list media-list--fixed-height\">         \\n        <li class=\"media-list__item media-list__item--1\">\\n            <div\\n               class=\"media  block-link\"\\n               data-bbc-container=\"regional-news\"\\n               data-bbc-title=\"Terror attack warning issued for Kabul airport\"\\n               data-bbc-source=\"Asia\"\\n               data-bbc-metadata=\\'{\"CHD\": \"card::1\" }\\'\\n                              >\\n                <div class=\"media__image\">\\n                    <div class=\"responsive-image\"><div class=\"delayed-image-load\" data-src=\"https://ichef.bbc.co.uk/wwhp/{width}/cpsprodpb/12BA1/production/_120250767_8e2c7f02-4347-45e0-bf66-2ae58828e972.jpg\" data-alt=\"Passengers board a C-17 Globemaster at Kabul airport\"><img src=\"data:image/gif;base64,R0lGODlhEAAJAIAAAP///wAAACH5BAEAAAAALAAAAAAQAAkAAAIKhI+py+0Po5yUFQA7\" alt=\"Passengers board a C-17 Globemaster at Kabul airport\" /></div></div>                </div>\\n\\n                \\n                <div class=\"media__content\">\\n\\n                                            <h3 class=\"media__title\">\\n                            <a class=\"media__link\" href=\"/news/world-asia-58337380\"\\n                                      rev=\"regional-news|headline\" >\\n                                                                    Terror attack warning issued for Kabul airport                                                            </a>\\n                        </h3>\\n                    \\n                                            <p class=\"media__summary\">\\n                                                            The US, Australia and the UK have all told citizens and visa holders not to travel to the airport.                                                    </p>\\n                    \\n                                            <a class=\"media__tag tag tag--asian-news\" href=\"/news/world/asia\"\\n                                  rev=\"regional-news|source\" >Asia</a>\\n                    \\n                    \\n                </div>\\n\\n                <a class=\"block-link__overlay-link\"\\n                   href=\"/news/world-asia-58337380\"\\n                          rev=\"regional-news|overlay\"                    tabindex=\"-1\"\\n                   aria-hidden=\"true\"\\n                   >\\n                    Terror attack warning issued for Kabul airport                </a>\\n\\n            </div>\\n\\n        </li>\\n        \\n        <li class=\"media-list__item media-list__item--2\">\\n            <div\\n               class=\"media  block-link\"\\n               data-bbc-container=\"regional-news\"\\n               data-bbc-title=\"Japan halts Moderna jabs over contamination fears\"\\n               data-bbc-source=\"Asia\"\\n               data-bbc-metadata=\\'{\"CHD\": \"card::2\" }\\'\\n                              >\\n                <div class=\"media__image\">\\n                    <div class=\"responsive-image\"><div class=\"delayed-image-load\" data-src=\"https://ichef.bbc.co.uk/wwhp/{width}/cpsprodpb/145E1/production/_120252438_tv068141240.jpg\" data-alt=\"A staff of Japan&quot;s supermarket group Aeon receives a dose of the Moderna vaccine\"><img src=\"data:image/gif;base64,R0lGODlhEAAJAIAAAP///wAAACH5BAEAAAAALAAAAAAQAAkAAAIKhI+py+0Po5yUFQA7\" alt=\"A staff of Japan&quot;s supermarket group Aeon receives a dose of the Moderna vaccine\" /></div></div>                </div>\\n\\n                \\n                <div class=\"media__content\">\\n\\n                                            <h3 class=\"media__title\">\\n                            <a class=\"media__link\" href=\"/news/world-asia-58338281\"\\n                                      rev=\"regional-news|headline\" >\\n                                                                    Japan halts Moderna jabs over contamination fears                                                            </a>\\n                        </h3>\\n                    \\n                                            <p class=\"media__summary\">\\n                                                            About 1.63 million vials are withheld after \\'foreign objects\\' were detected in some doses.                                                    </p>\\n                    \\n                                            <a class=\"media__tag tag tag--asian-news\" href=\"/news/world/asia\"\\n                                  rev=\"regional-news|source\" >Asia</a>\\n                    \\n                    \\n                </div>\\n\\n                <a class=\"block-link__overlay-link\"\\n                   href=\"/news/world-asia-58338281\"\\n                          rev=\"regional-news|overlay\"                    tabindex=\"-1\"\\n                   aria-hidden=\"true\"\\n                   >\\n                    Japan halts Moderna jabs over contamination fears                </a>\\n\\n            </div>\\n\\n        </li>\\n        \\n        <li class=\"media-list__item media-list__item--3\">\\n            <div\\n               class=\"media  block-link\"\\n               data-bbc-container=\"regional-news\"\\n               data-bbc-title=\"Farmer draws heart with sheep in tribute to aunt\"\\n               data-bbc-source=\"Australia\"\\n               data-bbc-metadata=\\'{\"CHD\": \"card::3\" }\\'\\n                              >\\n                <div class=\"media__image\">\\n                    <div class=\"responsive-image\"><div class=\"delayed-image-load\" data-src=\"https://ichef.bbc.co.uk/wwhp/{width}/cpsprodpb/11B9D/production/_120250627_7fba72e2-56f1-496f-9ed2-dd0362f29424.jpg\" data-alt=\"A heart made up of live sheep as seen from above\"><img src=\"data:image/gif;base64,R0lGODlhEAAJAIAAAP///wAAACH5BAEAAAAALAAAAAAQAAkAAAIKhI+py+0Po5yUFQA7\" alt=\"A heart made up of live sheep as seen from above\" /></div></div>                </div>\\n\\n                \\n                <div class=\"media__content\">\\n\\n                                            <h3 class=\"media__title\">\\n                            <a class=\"media__link\" href=\"/news/world-australia-58338661\"\\n                                      rev=\"regional-news|headline\" >\\n                                                                    Farmer draws heart with sheep in tribute to aunt                                                            </a>\\n                        </h3>\\n                    \\n                                            <p class=\"media__summary\">\\n                                                            The Australian man was unable to attend his aunt\\'s funeral because of Covid travel restrictions.                                                    </p>\\n                    \\n                                            <a class=\"media__tag tag tag--asian-news\" href=\"/news/world/australia\"\\n                                  rev=\"regional-news|source\" >Australia</a>\\n                    \\n                    \\n                </div>\\n\\n                <a class=\"block-link__overlay-link\"\\n                   href=\"/news/world-australia-58338661\"\\n                          rev=\"regional-news|overlay\"                    tabindex=\"-1\"\\n                   aria-hidden=\"true\"\\n                   >\\n                    Farmer draws heart with sheep in tribute to aunt                </a>\\n\\n            </div>\\n\\n        </li>\\n        \\n        <li class=\"media-list__item media-list__item--4\">\\n            <div\\n               class=\"media  block-link\"\\n               data-bbc-container=\"regional-news\"\\n               data-bbc-title=\"\\'The plane hit the tower and all our lives changed\\'\"\\n               data-bbc-source=\"Asia\"\\n               data-bbc-metadata=\\'{\"CHD\": \"card::4\" }\\'\\n                              >\\n                <div class=\"media__image\">\\n                    <div class=\"responsive-image\"><div class=\"delayed-image-load\" data-src=\"https://ichef.bbc.co.uk/wwhp/{width}/cpsprodpb/C6C3/production/_120238805_sarwary_976.jpg\" data-alt=\"Bilal Sarwary\"><img src=\"data:image/gif;base64,R0lGODlhEAAJAIAAAP///wAAACH5BAEAAAAALAAAAAAQAAkAAAIKhI+py+0Po5yUFQA7\" alt=\"Bilal Sarwary\" /></div></div>                </div>\\n\\n                \\n                <div class=\"media__content\">\\n\\n                                            <h3 class=\"media__title\">\\n                            <a class=\"media__link\" href=\"/news/world-south-asia-58071592\"\\n                                      rev=\"regional-news|headline\" >\\n                                                                    \\'The plane hit the tower and all our lives changed\\'                                                            </a>\\n                        </h3>\\n                    \\n                                            <p class=\"media__summary\">\\n                                                            Afghan journalist Bilal Sarwary was selling carpets when 9/11 happened. From that day on, everything changed.                                                    </p>\\n                    \\n                                            <a class=\"media__tag tag tag--asian-news\" href=\"/news/world/asia\"\\n                                  rev=\"regional-news|source\" >Asia</a>\\n                    \\n                    \\n                </div>\\n\\n                <a class=\"block-link__overlay-link\"\\n                   href=\"/news/world-south-asia-58071592\"\\n                          rev=\"regional-news|overlay\"                    tabindex=\"-1\"\\n                   aria-hidden=\"true\"\\n                   >\\n                    \\'The plane hit the tower and all our lives changed\\'                </a>\\n\\n            </div>\\n\\n        </li>\\n     </ul> </div> </section>        <section class=\"module module--collapse-images module--collapse-images module--highlight module--editors-picks\">             <h2 class=\"module__title\">\\n                            <span class=\"module__title__link tag tag--feature\">Editor’s Picks</span>\\n                    </h2>\\n     <div class=\"module__content\"> <div class=\"container\"> <div class=\"editors-picks \"> <ul class=\"media-list media-list--fixed-height layout--featured\">         \\n        <li class=\"media-list__item media-list__item--1\">\\n            <div\\n               class=\"media media--padded media--primary block-link\"\\n               data-bbc-container=\"editors-picks\"\\n               data-bbc-title=\"The upside of office gossip\"\\n               data-bbc-source=\"Worklife\"\\n               data-bbc-metadata=\\'{\"CHD\": \"card::1\" }\\'\\n                              >\\n                <div class=\"media__image\">\\n                    <div class=\"responsive-image\"><div class=\"delayed-image-load\" data-src=\"https://ychef.files.bbci.co.uk/width/790/p09sl7qw.jpg\" data-alt=\"Gossip gets a bad rap – but there are reasons to embrace it\"><img src=\"data:image/gif;base64,R0lGODlhEAAJAIAAAP///wAAACH5BAEAAAAALAAAAAAQAAkAAAIKhI+py+0Po5yUFQA7\" alt=\"Gossip gets a bad rap – but there are reasons to embrace it\" /></div></div>                </div>\\n\\n                \\n                <div class=\"media__content\">\\n\\n                                            <h3 class=\"media__title\">\\n                            <a class=\"media__link\" href=\"https://www.bbc.com/worklife/article/20210818-why-gossiping-at-work-is-good-for-you\"\\n                                      rev=\"editors-picks|headline\" >\\n                                                                    The upside of office gossip                                                            </a>\\n                        </h3>\\n                    \\n                                            <p class=\"media__summary\">\\n                                                            Gossip gets a bad rap – but there are reasons to embrace it                                                    </p>\\n                    \\n                                            <a class=\"media__tag tag tag--worklife\" href=\"http://www.bbc.com/worklife\"\\n                                  rev=\"editors-picks|source\" >Worklife</a>\\n                    \\n                    \\n                </div>\\n\\n                <a class=\"block-link__overlay-link\"\\n                   href=\"https://www.bbc.com/worklife/article/20210818-why-gossiping-at-work-is-good-for-you\"\\n                          rev=\"editors-picks|overlay\"                    tabindex=\"-1\"\\n                   aria-hidden=\"true\"\\n                   >\\n                    The upside of office gossip                </a>\\n\\n            </div>\\n\\n        </li>\\n        \\n        <li class=\"media-list__item media-list__item--2\">\\n            <div\\n               class=\"media media--padded block-link\"\\n               data-bbc-container=\"editors-picks\"\\n               data-bbc-title=\"The women who discovered the world\"\\n               data-bbc-source=\"Travel\"\\n               data-bbc-metadata=\\'{\"CHD\": \"card::2\" }\\'\\n                              >\\n                <div class=\"media__image\">\\n                    <div class=\"responsive-image\"><div class=\"delayed-image-load\" data-src=\"https://ychef.files.bbci.co.uk/width/790/p09rwf3d.jpg\" data-alt=\"Their triumphs are in the spotlight thanks to the woman retracing their steps\"><img src=\"data:image/gif;base64,R0lGODlhEAAJAIAAAP///wAAACH5BAEAAAAALAAAAAAQAAkAAAIKhI+py+0Po5yUFQA7\" alt=\"Their triumphs are in the spotlight thanks to the woman retracing their steps\" /></div></div>                </div>\\n\\n                \\n                <div class=\"media__content\">\\n\\n                                            <h3 class=\"media__title\">\\n                            <a class=\"media__link\" href=\"https://www.bbc.com/travel/article/20210825-in-the-steps-of-historys-forgotten-female-explorers\"\\n                                      rev=\"editors-picks|headline\" >\\n                                                                    The women who discovered the world                                                            </a>\\n                        </h3>\\n                    \\n                                            <p class=\"media__summary\">\\n                                                            Their triumphs are in the spotlight thanks to the woman retracing their steps                                                    </p>\\n                    \\n                                            <a class=\"media__tag tag tag--travel\" href=\"https://www.bbc.com/travel\"\\n                                  rev=\"editors-picks|source\" >Travel</a>\\n                    \\n                    \\n                </div>\\n\\n                <a class=\"block-link__overlay-link\"\\n                   href=\"https://www.bbc.com/travel/article/20210825-in-the-steps-of-historys-forgotten-female-explorers\"\\n                          rev=\"editors-picks|overlay\"                    tabindex=\"-1\"\\n                   aria-hidden=\"true\"\\n                   >\\n                    The women who discovered the world                </a>\\n\\n            </div>\\n\\n        </li>\\n        \\n        <li class=\"media-list__item media-list__item--3\">\\n            <div\\n               class=\"media media--padded block-link\"\\n               data-bbc-container=\"editors-picks\"\\n               data-bbc-title=\"Can investors save the Amazon?\"\\n               data-bbc-source=\"Future Planet\"\\n               data-bbc-metadata=\\'{\"CHD\": \"card::3\" }\\'\\n                              >\\n                <div class=\"media__image\">\\n                    <div class=\"responsive-image\"><div class=\"delayed-image-load\" data-src=\"https://ichef.bbc.co.uk/wwhp/{width}/ibroadcast/images/live/p0/9t/4s/p09t4slp.jpg\" data-alt=\"Land cleared of forest in the Amazon\"><img src=\"data:image/gif;base64,R0lGODlhEAAJAIAAAP///wAAACH5BAEAAAAALAAAAAAQAAkAAAIKhI+py+0Po5yUFQA7\" alt=\"Land cleared of forest in the Amazon\" /></div></div>                </div>\\n\\n                \\n                <div class=\"media__content\">\\n\\n                                            <h3 class=\"media__title\">\\n                            <a class=\"media__link\" href=\"https://www.bbc.com/future/article/20210825-can-investors-save-the-amazon\"\\n                                      rev=\"editors-picks|headline\" >\\n                                                                    Can investors save the Amazon?                                                            </a>\\n                        </h3>\\n                    \\n                                            <p class=\"media__summary\">\\n                                                            Deforestation risk is rising up the agenda for many big players in finance                                                    </p>\\n                    \\n                                            <a class=\"media__tag tag tag--future-planet\" href=\"https://www.bbc.com/future/future-planet\"\\n                                  rev=\"editors-picks|source\" >Future Planet</a>\\n                    \\n                    \\n                </div>\\n\\n                <a class=\"block-link__overlay-link\"\\n                   href=\"https://www.bbc.com/future/article/20210825-can-investors-save-the-amazon\"\\n                          rev=\"editors-picks|overlay\"                    tabindex=\"-1\"\\n                   aria-hidden=\"true\"\\n                   >\\n                    Can investors save the Amazon?                </a>\\n\\n            </div>\\n\\n        </li>\\n        \\n        <li class=\"media-list__item media-list__item--4\">\\n            <div\\n               class=\"media media--padded block-link\"\\n               data-bbc-container=\"editors-picks\"\\n               data-bbc-title=\"How Indian TV embraced sex and violence\"\\n               data-bbc-source=\"Culture\"\\n               data-bbc-metadata=\\'{\"CHD\": \"card::4\" }\\'\\n                              >\\n                <div class=\"media__image\">\\n                    <div class=\"responsive-image\"><div class=\"delayed-image-load\" data-src=\"https://ychef.files.bbci.co.uk/width/790/p09t2n4j.jpg\" data-alt=\"The provocative shows challenging the country\\'s conservative values\"><img src=\"data:image/gif;base64,R0lGODlhEAAJAIAAAP///wAAACH5BAEAAAAALAAAAAAQAAkAAAIKhI+py+0Po5yUFQA7\" alt=\"The provocative shows challenging the country\\'s conservative values\" /></div></div>                </div>\\n\\n                \\n                <div class=\"media__content\">\\n\\n                                            <h3 class=\"media__title\">\\n                            <a class=\"media__link\" href=\"https://www.bbc.com/culture/article/20210824-the-new-wave-of-provocative-indian-tv\"\\n                                      rev=\"editors-picks|headline\" >\\n                                                                    How Indian TV embraced sex and violence                                                            </a>\\n                        </h3>\\n                    \\n                                            <p class=\"media__summary\">\\n                                                            The provocative shows challenging the country\\'s conservative values                                                    </p>\\n                    \\n                                            <a class=\"media__tag tag tag--culture\" href=\"http://www.bbc.com/culture\"\\n                                  rev=\"editors-picks|source\" >Culture</a>\\n                    \\n                    \\n                </div>\\n\\n                <a class=\"block-link__overlay-link\"\\n                   href=\"https://www.bbc.com/culture/article/20210824-the-new-wave-of-provocative-indian-tv\"\\n                          rev=\"editors-picks|overlay\"                    tabindex=\"-1\"\\n                   aria-hidden=\"true\"\\n                   >\\n                    How Indian TV embraced sex and violence                </a>\\n\\n            </div>\\n\\n        </li>\\n        \\n        <li class=\"media-list__item media-list__item--5\">\\n            <div\\n               class=\"media media--padded block-link\"\\n               data-bbc-container=\"editors-picks\"\\n               data-bbc-title=\"The search for India\\'s forgotten hedge\"\\n               data-bbc-source=\"Future\"\\n               data-bbc-metadata=\\'{\"CHD\": \"card::5\" }\\'\\n                              >\\n                <div class=\"media__image\">\\n                    <div class=\"responsive-image\"><div class=\"delayed-image-load\" data-src=\"https://ychef.files.bbci.co.uk/width/790/p09t3c6d.jpg\" data-alt=\"The natural living barrier was described as \\'utterly impassable to man or beast\\'\"><img src=\"data:image/gif;base64,R0lGODlhEAAJAIAAAP///wAAACH5BAEAAAAALAAAAAAQAAkAAAIKhI+py+0Po5yUFQA7\" alt=\"The natural living barrier was described as \\'utterly impassable to man or beast\\'\" /></div></div>                </div>\\n\\n                \\n                <div class=\"media__content\">\\n\\n                                            <h3 class=\"media__title\">\\n                            <a class=\"media__link\" href=\"https://www.bbc.com/future/article/20210824-how-the-worlds-longest-shrubbery-vanished-without-trace\"\\n                                      rev=\"editors-picks|headline\" >\\n                                                                    The search for India\\'s forgotten hedge                                                            </a>\\n                        </h3>\\n                    \\n                                            <p class=\"media__summary\">\\n                                                            The natural living barrier was described as \\'utterly impassable to man or beast\\'                                                    </p>\\n                    \\n                                            <a class=\"media__tag tag tag--future\" href=\"http://www.bbc.com/future\"\\n                                  rev=\"editors-picks|source\" >Future</a>\\n                    \\n                    \\n                </div>\\n\\n                <a class=\"block-link__overlay-link\"\\n                   href=\"https://www.bbc.com/future/article/20210824-how-the-worlds-longest-shrubbery-vanished-without-trace\"\\n                          rev=\"editors-picks|overlay\"                    tabindex=\"-1\"\\n                   aria-hidden=\"true\"\\n                   >\\n                    The search for India\\'s forgotten hedge                </a>\\n\\n            </div>\\n\\n        </li>\\n        \\n        <li class=\"media-list__item media-list__item--6\">\\n            <div\\n               class=\"media media--padded block-link\"\\n               data-bbc-container=\"editors-picks\"\\n               data-bbc-title=\"Which filmmaker is the next LongShots star?\"\\n               data-bbc-source=\"LongShots\"\\n               data-bbc-metadata=\\'{\"CHD\": \"card::6\" }\\'\\n                              >\\n                <div class=\"media__image\">\\n                    <div class=\"responsive-image\"><div class=\"delayed-image-load\" data-src=\"https://ichef.bbc.co.uk/wwhp/{width}/ibroadcast/images/live/p0/9s/b7/p09sb7hj.jpg\" data-alt=\"LongShots graphic\"><img src=\"data:image/gif;base64,R0lGODlhEAAJAIAAAP///wAAACH5BAEAAAAALAAAAAAQAAkAAAIKhI+py+0Po5yUFQA7\" alt=\"LongShots graphic\" /></div></div>                </div>\\n\\n                \\n                <div class=\"media__content\">\\n\\n                                            <h3 class=\"media__title\">\\n                            <a class=\"media__link\" href=\"https://www.bbc.com/culture/article/20210816-longshots-2021-the-directors-behind-the-shortlisted-films\"\\n                                      rev=\"editors-picks|headline\" >\\n                                                                    Which filmmaker is the next LongShots star?                                                            </a>\\n                        </h3>\\n                    \\n                                            <p class=\"media__summary\">\\n                                                            Meet the 16 documentary filmmakers behind the shortlisted films                                                    </p>\\n                    \\n                                            <a class=\"media__tag tag tag--longshots\" href=\"https://www.bbc.com/reel/longshots\"\\n                                  rev=\"editors-picks|source\" >LongShots</a>\\n                    \\n                    \\n                </div>\\n\\n                <a class=\"block-link__overlay-link\"\\n                   href=\"https://www.bbc.com/culture/article/20210816-longshots-2021-the-directors-behind-the-shortlisted-films\"\\n                          rev=\"editors-picks|overlay\"                    tabindex=\"-1\"\\n                   aria-hidden=\"true\"\\n                   >\\n                    Which filmmaker is the next LongShots star?                </a>\\n\\n            </div>\\n\\n        </li>\\n        \\n        <li class=\"media-list__item media-list__item--7\">\\n            <div\\n               class=\"media media--padded block-link\"\\n               data-bbc-container=\"editors-picks\"\\n               data-bbc-title=\"\\'My husband refused a divorce for nine years\\'\"\\n               data-bbc-source=\"UK\"\\n               data-bbc-metadata=\\'{\"CHD\": \"card::7\" }\\'\\n                              >\\n                <div class=\"media__image\">\\n                    <div class=\"responsive-image\"><div class=\"delayed-image-load\" data-src=\"https://ichef.bbc.co.uk/wwhp/{width}/cpsprodpb/13866/production/_120247997_rifka.jpg\" data-alt=\"Rifka Meyer\"><img src=\"data:image/gif;base64,R0lGODlhEAAJAIAAAP///wAAACH5BAEAAAAALAAAAAAQAAkAAAIKhI+py+0Po5yUFQA7\" alt=\"Rifka Meyer\" /></div></div>                </div>\\n\\n                \\n                <div class=\"media__content\">\\n\\n                                            <h3 class=\"media__title\">\\n                            <a class=\"media__link\" href=\"https://www.bbc.com/news/uk-58334745\"\\n                                      rev=\"editors-picks|headline\" >\\n                                                                    \\'My husband refused a divorce for nine years\\'                                                            </a>\\n                        </h3>\\n                    \\n                                            <p class=\"media__summary\">\\n                                                            Under orthodox Jewish law, a husband must give his wife a document to allow the marriage to end                                                    </p>\\n                    \\n                                            <a class=\"media__tag tag tag--uk\" href=\"/news/uk\"\\n                                  rev=\"editors-picks|source\" >UK</a>\\n                    \\n                    \\n                </div>\\n\\n                <a class=\"block-link__overlay-link\"\\n                   href=\"https://www.bbc.com/news/uk-58334745\"\\n                          rev=\"editors-picks|overlay\"                    tabindex=\"-1\"\\n                   aria-hidden=\"true\"\\n                   >\\n                    \\'My husband refused a divorce for nine years\\'                </a>\\n\\n            </div>\\n\\n        </li>\\n     </ul> </div>   <div class=\"most-popular\"> <div class=\"top-list\"> <h2 class=\"top-list__heading\">Latest Business News</h2> <ul class=\"top-list__list\">  <li class=\"top-list-item top-list-item__1 top-list-item--ranked top-list-item--odd\" data-bbc-container=\"most-popular\" data-bbc-title=\"South Korea raises rates in pandemic era first\" data-bbc-source=\"Latest Business News\" data-bbc-metadata=\\'{\"CHD\": \"card::1\" }\\' > <a class=\"top-list-item__link\" href=\"/news/business-58338261\"   rev=\"most-popular|link\" > <span class=\"top-list-item__bullet\">1</span> <h3 class=\"top-list-item__headline\">South Korea raises rates in pandemic era first</h3> </a> </li>  <li class=\"top-list-item top-list-item__2 top-list-item--ranked top-list-item--even\" data-bbc-container=\"most-popular\" data-bbc-title=\"Qantas says Covid to cost billions in lost revenue\" data-bbc-source=\"Latest Business News\" data-bbc-metadata=\\'{\"CHD\": \"card::2\" }\\' > <a class=\"top-list-item__link\" href=\"/news/business-58338262\"   rev=\"most-popular|link\" > <span class=\"top-list-item__bullet\">2</span> <h3 class=\"top-list-item__headline\">Qantas says Covid to cost billions in lost revenue</h3> </a> </li>  <li class=\"top-list-item top-list-item__3 top-list-item--ranked top-list-item--odd\" data-bbc-container=\"most-popular\" data-bbc-title=\"NHS stops some blood tests due to vial shortages\" data-bbc-source=\"Latest Business News\" data-bbc-metadata=\\'{\"CHD\": \"card::3\" }\\' > <a class=\"top-list-item__link\" href=\"/news/business-58324108\"   rev=\"most-popular|link\" > <span class=\"top-list-item__bullet\">3</span> <h3 class=\"top-list-item__headline\">NHS stops some blood tests due to vial shortages</h3> </a> </li>  <li class=\"top-list-item top-list-item__4 top-list-item--ranked top-list-item--even\" data-bbc-container=\"most-popular\" data-bbc-title=\"OnlyFans suspends policy change after backlash\" data-bbc-source=\"Latest Business News\" data-bbc-metadata=\\'{\"CHD\": \"card::4\" }\\' > <a class=\"top-list-item__link\" href=\"/news/technology-58331722\"   rev=\"most-popular|link\" > <span class=\"top-list-item__bullet\">4</span> <h3 class=\"top-list-item__headline\">OnlyFans suspends policy change after backlash</h3> </a> </li>  </ul> </div> </div>  <div class=\"advert advert--native\"><!-- BBCDOTCOM slot native --><div id=\"bbccom_native_1_2_3_4\" class=\"bbccom_slot\" aria-hidden=\"true\"><div class=\"bbccom_advert\"><script type=\"text/javascript\">/*<![CDATA[*/(function() {if (window.bbcdotcom && bbcdotcom.slotAsync) {bbcdotcom.slotAsync(\"native\", [1,2,3,4]);}})();/*]]>*/</script></div></div></div> </div> </div> </section>       <section class=\"module module--reel module--planet\"> <div class=\"module__content\"> <div> <a href=\"/future/future-planet\" class=\"reel--link\"> <div> <div class=\"reel--logos-container\"> <span class=\"planet--title\">Future Planet</span> </div> <div class=\"reel--button-container planet--button-container\"> <div class=\"reel--button planet--button\"> <div class=\"reel--button-title planet--button-title\"></div> <div class=\"reel--button-icon planet--button-icon\"> <svg width=\"24\" height=\"24\" viewBox=\"0 0 24 24\" fill=\"none\" stroke=\"#BBB\" stroke-width=\"2\" stroke-linecap=\"round\" stroke-linejoin=\"round\"> <line x1=\"4\" y1=\"12\" x2=\"20\" y2=\"12\"/> <polyline points=\"14 6 20 12 14 18\"/> </svg> </div> </div> </div> </div> </a> </div> <p>Solutions for a sustainable world</p> <ul class=\"media-list media-list--fixed-height\">  <li class=\"media-list__item media-list__item--1\"> <div class=\"media block-link\" data-bbc-container=\"future-planet\" data-bbc-title=\"The controversial plan to rewild death\" data-bbc-source=\"future\" data-bbc-metadata=\\'{\"CHD\": \"card::1\" }\\' > <a class=\"reel__link\" href=\"/future/article/20210817-rewilding-death-germanys-plan-to-restore-the-necrobiome\"> <div class=\"media__image\"> <div class=\"responsive-image\"> <div class=\"delayed-image-load-planet\" data-src=\"https://ychef.files.bbci.co.uk/{width}/p09sghx7.jpg\" data-alt=\"The controversial plan to rewild death\"> <img src=\"data:image/gif;base64,R0lGODlhEAAJAIAAAP///wAAACH5BAEAAAAALAAAAAAQAAkAAAIKhI+py+0Po5yUFQA7\" alt=\"The controversial plan to rewild death\" /> </div> </div> </div> <div class=\"media__content\"> <h3>The controversial plan to rewild death</h3> </div> </a> </div> </li>  <li class=\"media-list__item media-list__item--2\"> <div class=\"media block-link\" data-bbc-container=\"future-planet\" data-bbc-title=\"The ancient Persian way to keep cool\" data-bbc-source=\"future\" data-bbc-metadata=\\'{\"CHD\": \"card::2\" }\\' > <a class=\"reel__link\" href=\"/future/article/20210810-the-ancient-persian-way-to-keep-cool\"> <div class=\"media__image\"> <div class=\"responsive-image\"> <div class=\"delayed-image-load-planet\" data-src=\"https://ychef.files.bbci.co.uk/{width}/p09rtttz.jpg\" data-alt=\"The ancient Persian way to keep cool\"> <img src=\"data:image/gif;base64,R0lGODlhEAAJAIAAAP///wAAACH5BAEAAAAALAAAAAAQAAkAAAIKhI+py+0Po5yUFQA7\" alt=\"The ancient Persian way to keep cool\" /> </div> </div> </div> <div class=\"media__content\"> <h3>The ancient Persian way to keep cool</h3> </div> </a> </div> </li>  <li class=\"media-list__item media-list__item--3\"> <div class=\"media block-link\" data-bbc-container=\"future-planet\" data-bbc-title=\"The vast methane leaks seen from space\" data-bbc-source=\"future\" data-bbc-metadata=\\'{\"CHD\": \"card::3\" }\\' > <a class=\"reel__link\" href=\"/future/article/20210805-the-search-for-the-worlds-largest-methane-sources\"> <div class=\"media__image\"> <div class=\"responsive-image\"> <div class=\"delayed-image-load-planet\" data-src=\"https://ychef.files.bbci.co.uk/{width}/p09rfnv9.jpg\" data-alt=\"The vast methane leaks seen from space\"> <img src=\"data:image/gif;base64,R0lGODlhEAAJAIAAAP///wAAACH5BAEAAAAALAAAAAAQAAkAAAIKhI+py+0Po5yUFQA7\" alt=\"The vast methane leaks seen from space\" /> </div> </div> </div> <div class=\"media__content\"> <h3>The vast methane leaks seen from space</h3> </div> </a> </div> </li>  </ul> </div> <div class=\"reel--background\"> <div class=\"delayed-image-load-planet\" data-src=\"https://ychef.files.bbci.co.uk/976x549/p0836dcl.jpg\"></div> </div> </section>      <section class=\"module module--collapse-images module--special-features module--primary-special-features\"> <div class=\"module__content\"> <ul class=\"features\">   <li class=\"feature feature--1\"> <div class=\"feature__wrapper\"> <h2 class=\"feature__title\"> <a class=\"feature__link\" href=\"https://www.bbc.com/travel/50-reasons-to-love-the-world\"   rev=\"primary-special-features|header\" > 50 Reasons to Love the World </a> </h2> <div class=\"feature__content\">     \\n        \\n            <div\\n               class=\"media media--primary block-link\"\\n               data-bbc-container=\"primary-special-features\"\\n               data-bbc-title=\"The endangered colours of Mexico\"\\n               data-bbc-source=\"Travel\"\\n               data-bbc-metadata=\\'{\"CHD\": \"card::1\" }\\'\\n                              >\\n                <div class=\"media__image\">\\n                    <div class=\"responsive-image\"><div class=\"delayed-image-load\" data-src=\"https://ichef.bbc.co.uk/wwhp/{width}/ibroadcast/images/live/p0/9s/lf/p09slfqk.jpg\" data-alt=\"Bales of wool dyed in a plethora of dyes from natural sources\"><img src=\"data:image/gif;base64,R0lGODlhEAAJAIAAAP///wAAACH5BAEAAAAALAAAAAAQAAkAAAIKhI+py+0Po5yUFQA7\" alt=\"Bales of wool dyed in a plethora of dyes from natural sources\" /></div></div>                </div>\\n\\n                \\n                <div class=\"media__content\">\\n\\n                    \\n                    \\n                                            <a class=\"media__tag tag tag--travel\" href=\"https://www.bbc.com/travel\"\\n                                  rev=\"primary-special-features|source\" >Travel</a>\\n                    \\n                                            <h3 class=\"media__title\">\\n                            <a class=\"media__link\" href=\"https://www.bbc.com/travel/article/20210823-the-man-preserving-endangered-colours\"\\n                                      rev=\"primary-special-features|headline\" >\\n                                                                    The endangered colours of Mexico                                                            </a>\\n                        </h3>\\n                    \\n                </div>\\n\\n                <a class=\"block-link__overlay-link\"\\n                   href=\"https://www.bbc.com/travel/article/20210823-the-man-preserving-endangered-colours\"\\n                          rev=\"primary-special-features|overlay\"                    tabindex=\"-1\"\\n                   aria-hidden=\"true\"\\n                   >\\n                    The endangered colours of Mexico                </a>\\n\\n            </div>\\n\\n        \\n     </div>  <div class=\"feature__ad\"> <div class=\"advert advert--module_feature-1 advert--sponsor\"><!-- BBCDOTCOM slot module_feature-1 --><div id=\"bbccom_module_feature-1_1_2_3_4\" class=\"bbccom_slot\" aria-hidden=\"true\"><div class=\"bbccom_advert\"><script type=\"text/javascript\">/*<![CDATA[*/(function() {if (window.bbcdotcom && bbcdotcom.slotAsync) {bbcdotcom.slotAsync(\"module_feature-1\", [1,2,3,4]);}})();/*]]>*/</script></div></div></div> </div>  </div> </li>  <li class=\"feature-ad\">  <div class=\"feature__wrapper\"> <h2 class=\"feature__title\">  ADVERTISEMENT  </h2> <div class=\"advert advert--infeed\"><!-- BBCDOTCOM slot infeed --><div id=\"bbccom_infeed_1_2_3_4\" class=\"bbccom_slot\" aria-hidden=\"true\"><div class=\"bbccom_advert\"><script type=\"text/javascript\">/*<![CDATA[*/(function() {if (window.bbcdotcom && bbcdotcom.slotAsync) {bbcdotcom.slotAsync(\"infeed\", [1,2,3,4]);}})();/*]]>*/</script></div></div></div> </div>  </li>   <li class=\"feature feature--2\"> <div class=\"feature__wrapper\"> <h2 class=\"feature__title\"> <a class=\"feature__link\" href=\"https://www.bbc.com/news/business-33712313\"   rev=\"primary-special-features|header\" > CEO Secrets </a> </h2> <div class=\"feature__content\">     \\n        \\n            <div\\n               class=\"media media--primary media--icon block-link\"\\n               data-bbc-container=\"primary-special-features\"\\n               data-bbc-title=\"Beer boss: \\'Tear up the business plan\\'\"\\n               data-bbc-source=\"Business\"\\n               data-bbc-metadata=\\'{\"CHD\": \"card::2\" }\\'\\n                              >\\n                <div class=\"media__image\">\\n                    <div class=\"responsive-image\"><div class=\"delayed-image-load\" data-src=\"https://ichef.bbc.co.uk/wwhp/{width}/cpsprodpb/5584/production/_120229812_p09t1f14.jpg\" data-alt=\"Eric Ottaway\"><img src=\"data:image/gif;base64,R0lGODlhEAAJAIAAAP///wAAACH5BAEAAAAALAAAAAAQAAkAAAIKhI+py+0Po5yUFQA7\" alt=\"Eric Ottaway\" /></div></div>                </div>\\n\\n                                    <span class=\"media__icon icon icon--video\" aria-hidden=\"true\"></span>\\n                \\n                <div class=\"media__content\">\\n\\n                    \\n                    \\n                                            <a class=\"media__tag tag tag--business\" href=\"/news/business\"\\n                                  rev=\"primary-special-features|source\" >Business</a>\\n                    \\n                                            <h3 class=\"media__title\">\\n                            <a class=\"media__link\" href=\"https://www.bbc.com/news/av/business-58316843\"\\n                                      rev=\"primary-special-features|headline\" >\\n                                                                    Beer boss: \\'Tear up the business plan\\'                                                            </a>\\n                        </h3>\\n                    \\n                </div>\\n\\n                <a class=\"block-link__overlay-link\"\\n                   href=\"https://www.bbc.com/news/av/business-58316843\"\\n                          rev=\"primary-special-features|overlay\"                    tabindex=\"-1\"\\n                   aria-hidden=\"true\"\\n                   >\\n                    Beer boss: \\'Tear up the business plan\\'                </a>\\n\\n            </div>\\n\\n        \\n     </div>  <div class=\"feature__ad\"> <div class=\"advert advert--module_feature-2 advert--sponsor\"><!-- BBCDOTCOM slot module_feature-2 --><div id=\"bbccom_module_feature-2_1_2_3_4\" class=\"bbccom_slot\" aria-hidden=\"true\"><div class=\"bbccom_advert\"><script type=\"text/javascript\">/*<![CDATA[*/(function() {if (window.bbcdotcom && bbcdotcom.slotAsync) {bbcdotcom.slotAsync(\"module_feature-2\", [1,2,3,4]);}})();/*]]>*/</script></div></div></div> </div>  </div> </li>  </ul> </div> </section>       <section class=\"module module--collapse-images module--video module--highlight\">             <h2 class=\"module__title\">\\n                            <span class=\"module__title__link tag tag--default\">Featured video</span>\\n                    </h2>\\n     <div class=\"module__content\"> <div class=\"video video--noslick\" id=\"video\" data-wwhp-module=\"video\"> <div class=\"video__player\"> <div id=\"player\" class=\"video__smp\"></div>     \\n        \\n            <div\\n               class=\"media media--primary media--overlay block-link--no-filter media--icon block-link\"\\n               data-bbc-container=\"video\"\\n               data-bbc-title=\"Moment giant tortoise kills bird caught on camera\"\\n               data-bbc-source=\"Science &amp; Environment\"\\n               data-bbc-metadata=\\'{\"CHD\": \"card::1\" }\\'\\n               data-bbc-client-routed               >\\n                <div class=\"media__image\">\\n                    <div class=\"responsive-image\"><div class=\"delayed-image-load\" data-src=\"https://ichef.bbc.co.uk/wwhp/{width}/cpsprodpb/F6E5/production/_120250236_p09t74r0.jpg\" data-alt=\"Tortoise and bird\"><img src=\"data:image/gif;base64,R0lGODlhEAAJAIAAAP///wAAACH5BAEAAAAALAAAAAAQAAkAAAIKhI+py+0Po5yUFQA7\" alt=\"Tortoise and bird\" /></div></div>                </div>\\n\\n                                    <span class=\"media__icon icon icon--video\" aria-hidden=\"true\"></span>\\n                \\n                <div class=\"media__content\">\\n\\n                                            <h3 class=\"media__title\">\\n                            <a class=\"media__link\" href=\"/news/science-environment-58337369\"\\n                                      rev=\"video|headline\" >\\n                                                                    Moment giant tortoise kills bird caught on camera                                                            </a>\\n                        </h3>\\n                    \\n                                            <p class=\"media__summary\">\\n                                                            It is believed to be the first time this behaviour of giant tortoises has been documented.                                                    </p>\\n                    \\n                                            <a class=\"media__tag tag tag--videos\" href=\"/news/science_and_environment\"\\n                                  rev=\"video|source\" >Science &amp; Environment</a>\\n                    \\n                    \\n                </div>\\n\\n                <a class=\"block-link__overlay-link\"\\n                   href=\"/news/science-environment-58337369\"\\n                          rev=\"video|overlay\"                    tabindex=\"-1\"\\n                   aria-hidden=\"true\"\\n                   >\\n                    Moment giant tortoise kills bird caught on camera                </a>\\n\\n            </div>\\n\\n        \\n     </div> <div class=\"video__content\"> <ul class=\"video__tabs\">  <li class=\"video__tab\"> <a class=\"video__tab__link\" role=\"link\" data-category=\"recommended\" href=\"#\"> Recommended </a> </li>  <li class=\"video__tab\"> <a class=\"video__tab__link\" role=\"link\" data-category=\"most-watched\" href=\"#\"> Most Watched </a> </li>  <li class=\"video__tab\"> <a class=\"video__tab__link\" role=\"link\" data-category=\"latest\" href=\"#\"> Latest </a> </li>  </ul> <div class=\"video__viewport\"> <ul class=\"video__items\">  <li class=\"video__item video__item video__item--0 video__item--recommended\" data-category=\"recommended\" data-index=\"0\" data-category-index=\"0\" data-video=\"{&quot;contenttype&quot;:&quot;video&quot;,&quot;num&quot;:&quot;10&quot;,&quot;type&quot;:&quot;MAP&quot;,&quot;title&quot;:&quot;Moment giant tortoise kills bird caught on camera&quot;,&quot;url&quot;:&quot;\\\\/news\\\\/science-environment-58337369&quot;,&quot;summary&quot;:&quot;It is believed to be the first time this behaviour of giant tortoises has been documented.&quot;,&quot;img&quot;:&quot;https:\\\\/\\\\/ichef.bbc.co.uk\\\\/wwhp\\\\/800\\\\/cpsprodpb\\\\/F6E5\\\\/production\\\\/_120250236_p09t74r0.jpg&quot;,&quot;imgalttext&quot;:&quot;Tortoise and bird&quot;,&quot;pid&quot;:&quot;p09t73l2&quot;,&quot;pidtype&quot;:&quot;Version&quot;,&quot;sourcename&quot;:&quot;Science &amp;amp; Environment&quot;,&quot;sourceurl&quot;:&quot;\\\\/news\\\\/science_and_environment&quot;,&quot;created&quot;:&quot;2021-08-25T23:01:52+00:00&quot;,&quot;updated&quot;:&quot;2021-08-25T23:01:52+00:00&quot;,&quot;origincode&quot;:&quot;cpsprodpb&quot;,&quot;gelicon&quot;:&quot;video&quot;,&quot;sourceid&quot;:&quot;videos&quot;,&quot;itemtype&quot;:&quot;feed&quot;,&quot;allowadvertising&quot;:true,&quot;clippid&quot;:&quot;p09t73l0&quot;,&quot;duration&quot;:&quot;PT1M33S&quot;}\">     \\n        \\n            <div\\n               class=\"media media--video media--horizontal media--primary media--icon block-link\"\\n               data-bbc-container=\"video\"\\n               data-bbc-title=\"Moment giant tortoise kills bird caught on camera\"\\n               data-bbc-source=\"Science &amp; Environment\"\\n               data-bbc-metadata=\\'{\"CHD\": \"card::1\" }\\'\\n               data-bbc-client-routed               >\\n                <div class=\"media__image\">\\n                    <div class=\"responsive-image\"><div class=\"delayed-image-load\" data-src=\"https://ichef.bbc.co.uk/wwhp/{width}/cpsprodpb/F6E5/production/_120250236_p09t74r0.jpg\" data-alt=\"Tortoise and bird\"><img src=\"data:image/gif;base64,R0lGODlhEAAJAIAAAP///wAAACH5BAEAAAAALAAAAAAQAAkAAAIKhI+py+0Po5yUFQA7\" alt=\"Tortoise and bird\" /></div></div>                </div>\\n\\n                                    <span class=\"media__icon icon icon--video\" aria-hidden=\"true\"></span>\\n                \\n                <div class=\"media__content\">\\n\\n                                            <h3 class=\"media__title\">\\n                            <a class=\"media__link\" href=\"/news/science-environment-58337369\"\\n                                      rev=\"video|headline\" >\\n                                                                    Moment giant tortoise kills bird caught on...                                                            </a>\\n                        </h3>\\n                    \\n                    \\n                                            <a class=\"media__tag tag tag--videos\" href=\"/news/science_and_environment\"\\n                                  rev=\"video|source\" >Science &amp; Environment</a>\\n                    \\n                    \\n                </div>\\n\\n                <a class=\"block-link__overlay-link\"\\n                   href=\"/news/science-environment-58337369\"\\n                          rev=\"video|overlay\"                    tabindex=\"-1\"\\n                   aria-hidden=\"true\"\\n                   >\\n                    Moment giant tortoise kills bird caught on camera                </a>\\n\\n            </div>\\n\\n        \\n     </li>  <li class=\"video__item video__item video__item--1 video__item--recommended\" data-category=\"recommended\" data-index=\"1\" data-category-index=\"1\" data-video=\"{&quot;contenttype&quot;:&quot;video&quot;,&quot;num&quot;:&quot;10&quot;,&quot;type&quot;:&quot;MAP&quot;,&quot;title&quot;:&quot;From broken hip to my first Paralympics&quot;,&quot;url&quot;:&quot;\\\\/news\\\\/uk-england-leicestershire-58273615&quot;,&quot;summary&quot;:&quot;Paralympic wheelchair basketball player Lucy Robinson wants to inspire others.&quot;,&quot;img&quot;:&quot;https:\\\\/\\\\/ichef.bbc.co.uk\\\\/wwhp\\\\/800\\\\/cpsprodpb\\\\/DC67\\\\/production\\\\/_120032465_p09sp5d1.jpg&quot;,&quot;imgalttext&quot;:&quot;Lucy Robinson&quot;,&quot;pid&quot;:&quot;p09sp6g9&quot;,&quot;pidtype&quot;:&quot;Version&quot;,&quot;sourcename&quot;:&quot;Leicester&quot;,&quot;sourceurl&quot;:&quot;\\\\/news\\\\/england\\\\/leicester&quot;,&quot;created&quot;:&quot;2021-08-22T23:03:14+00:00&quot;,&quot;updated&quot;:&quot;2021-08-22T23:03:14+00:00&quot;,&quot;origincode&quot;:&quot;cpsprodpb&quot;,&quot;gelicon&quot;:&quot;video&quot;,&quot;sourceid&quot;:&quot;videos-must-see&quot;,&quot;itemtype&quot;:&quot;feed&quot;,&quot;allowadvertising&quot;:true,&quot;clippid&quot;:&quot;p09snzvr&quot;,&quot;duration&quot;:&quot;PT2M12S&quot;}\">     \\n        \\n            <div\\n               class=\"media media--video media--horizontal media--icon block-link\"\\n               data-bbc-container=\"video\"\\n               data-bbc-title=\"From broken hip to my first Paralympics\"\\n               data-bbc-source=\"Leicester\"\\n               data-bbc-metadata=\\'{\"CHD\": \"card::2\" }\\'\\n               data-bbc-client-routed               >\\n                <div class=\"media__image\">\\n                    <div class=\"responsive-image\"><div class=\"delayed-image-load\" data-src=\"https://ichef.bbc.co.uk/wwhp/{width}/cpsprodpb/DC67/production/_120032465_p09sp5d1.jpg\" data-alt=\"Lucy Robinson\"><img src=\"data:image/gif;base64,R0lGODlhEAAJAIAAAP///wAAACH5BAEAAAAALAAAAAAQAAkAAAIKhI+py+0Po5yUFQA7\" alt=\"Lucy Robinson\" /></div></div>                </div>\\n\\n                                    <span class=\"media__icon icon icon--video\" aria-hidden=\"true\"></span>\\n                \\n                <div class=\"media__content\">\\n\\n                                            <h3 class=\"media__title\">\\n                            <a class=\"media__link\" href=\"/news/uk-england-leicestershire-58273615\"\\n                                      rev=\"video|headline\" >\\n                                                                    From broken hip to my first Paralympics                                                            </a>\\n                        </h3>\\n                    \\n                    \\n                                            <a class=\"media__tag tag tag--videos-must-see\" href=\"/news/england/leicester\"\\n                                  rev=\"video|source\" >Leicester</a>\\n                    \\n                    \\n                </div>\\n\\n                <a class=\"block-link__overlay-link\"\\n                   href=\"/news/uk-england-leicestershire-58273615\"\\n                          rev=\"video|overlay\"                    tabindex=\"-1\"\\n                   aria-hidden=\"true\"\\n                   >\\n                    From broken hip to my first Paralympics                </a>\\n\\n            </div>\\n\\n        \\n     </li>  <li class=\"video__item video__item video__item--2 video__item--recommended\" data-category=\"recommended\" data-index=\"2\" data-category-index=\"2\" data-video=\"{&quot;contenttype&quot;:&quot;video&quot;,&quot;num&quot;:&quot;10&quot;,&quot;type&quot;:&quot;MAP&quot;,&quot;title&quot;:&quot;\\'This is the worst Snowdon queuing I can remember\\'&quot;,&quot;url&quot;:&quot;\\\\/news\\\\/uk-wales-58284171&quot;,&quot;summary&quot;:&quot;A group maintaining the mountain warns of the pressures large numbers of visitors bring.&quot;,&quot;img&quot;:&quot;https:\\\\/\\\\/ichef.bbc.co.uk\\\\/wwhp\\\\/800\\\\/cpsprodpb\\\\/1674C\\\\/production\\\\/_120208919_snowdon.jpg&quot;,&quot;imgalttext&quot;:&quot;The summit and queue&quot;,&quot;pid&quot;:&quot;p09t3z50&quot;,&quot;pidtype&quot;:&quot;Version&quot;,&quot;sourcename&quot;:&quot;Wales&quot;,&quot;sourceurl&quot;:&quot;\\\\/news\\\\/wales&quot;,&quot;created&quot;:&quot;2021-08-22T20:59:38+00:00&quot;,&quot;updated&quot;:&quot;2021-08-23T05:07:04+00:00&quot;,&quot;origincode&quot;:&quot;cpsprodpb&quot;,&quot;gelicon&quot;:&quot;video&quot;,&quot;sourceid&quot;:&quot;videos-must-see&quot;,&quot;itemtype&quot;:&quot;feed&quot;,&quot;allowadvertising&quot;:true,&quot;clippid&quot;:&quot;p09sswty&quot;,&quot;duration&quot;:&quot;PT2M26S&quot;}\">     \\n        \\n            <div\\n               class=\"media media--video media--horizontal media--icon block-link\"\\n               data-bbc-container=\"video\"\\n               data-bbc-title=\"\\'This is the worst Snowdon queuing I can remember\\'\"\\n               data-bbc-source=\"Wales\"\\n               data-bbc-metadata=\\'{\"CHD\": \"card::3\" }\\'\\n               data-bbc-client-routed               >\\n                <div class=\"media__image\">\\n                    <div class=\"responsive-image\"><div class=\"delayed-image-load\" data-src=\"https://ichef.bbc.co.uk/wwhp/{width}/cpsprodpb/1674C/production/_120208919_snowdon.jpg\" data-alt=\"The summit and queue\"><img src=\"data:image/gif;base64,R0lGODlhEAAJAIAAAP///wAAACH5BAEAAAAALAAAAAAQAAkAAAIKhI+py+0Po5yUFQA7\" alt=\"The summit and queue\" /></div></div>                </div>\\n\\n                                    <span class=\"media__icon icon icon--video\" aria-hidden=\"true\"></span>\\n                \\n                <div class=\"media__content\">\\n\\n                                            <h3 class=\"media__title\">\\n                            <a class=\"media__link\" href=\"/news/uk-wales-58284171\"\\n                                      rev=\"video|headline\" >\\n                                                                    \\'This is the worst Snowdon queuing I can...                                                            </a>\\n                        </h3>\\n                    \\n                    \\n                                            <a class=\"media__tag tag tag--videos-must-see\" href=\"/news/wales\"\\n                                  rev=\"video|source\" >Wales</a>\\n                    \\n                    \\n                </div>\\n\\n                <a class=\"block-link__overlay-link\"\\n                   href=\"/news/uk-wales-58284171\"\\n                          rev=\"video|overlay\"                    tabindex=\"-1\"\\n                   aria-hidden=\"true\"\\n                   >\\n                    \\'This is the worst Snowdon queuing I can remember\\'                </a>\\n\\n            </div>\\n\\n        \\n     </li>  <li class=\"video__item video__item video__item--3 video__item--recommended\" data-category=\"recommended\" data-index=\"3\" data-category-index=\"3\" data-video=\"{&quot;contenttype&quot;:&quot;video&quot;,&quot;num&quot;:&quot;10&quot;,&quot;type&quot;:&quot;MAP&quot;,&quot;title&quot;:&quot;South Africa\\'s Paralympic pioneer&quot;,&quot;url&quot;:&quot;\\\\/sport\\\\/av\\\\/africa\\\\/58333522&quot;,&quot;summary&quot;:&quot;South Africa\\'s wheelchair tennis star Kgothatso Montjane is aiming for a medal at the Tokyo Paralympics.&quot;,&quot;img&quot;:&quot;https:\\\\/\\\\/ichef.bbc.co.uk\\\\/wwhp\\\\/800\\\\/cpsprodpb\\\\/128C6\\\\/production\\\\/_120247957_p09t5qxv.jpg&quot;,&quot;imgalttext&quot;:&quot;Kgothatso Montjane&quot;,&quot;pid&quot;:&quot;p09t5md0&quot;,&quot;pidtype&quot;:&quot;Version&quot;,&quot;sourcename&quot;:&quot;Sport Africa&quot;,&quot;sourceurl&quot;:&quot;\\\\/sport\\\\/africa&quot;,&quot;created&quot;:&quot;2021-08-25T23:01:47+00:00&quot;,&quot;updated&quot;:&quot;2021-08-25T23:01:47+00:00&quot;,&quot;origincode&quot;:&quot;cpsprodpb&quot;,&quot;gelicon&quot;:&quot;video&quot;,&quot;sourceid&quot;:&quot;videos&quot;,&quot;itemtype&quot;:&quot;feed&quot;,&quot;allowadvertising&quot;:true,&quot;clippid&quot;:&quot;p09t5mct&quot;,&quot;duration&quot;:&quot;PT1M50S&quot;}\">     \\n        \\n            <div\\n               class=\"media media--video media--horizontal media--icon block-link\"\\n               data-bbc-container=\"video\"\\n               data-bbc-title=\"South Africa\\'s Paralympic pioneer\"\\n               data-bbc-source=\"Sport Africa\"\\n               data-bbc-metadata=\\'{\"CHD\": \"card::4\" }\\'\\n               data-bbc-client-routed               >\\n                <div class=\"media__image\">\\n                    <div class=\"responsive-image\"><div class=\"delayed-image-load\" data-src=\"https://ichef.bbc.co.uk/wwhp/{width}/cpsprodpb/128C6/production/_120247957_p09t5qxv.jpg\" data-alt=\"Kgothatso Montjane\"><img src=\"data:image/gif;base64,R0lGODlhEAAJAIAAAP///wAAACH5BAEAAAAALAAAAAAQAAkAAAIKhI+py+0Po5yUFQA7\" alt=\"Kgothatso Montjane\" /></div></div>                </div>\\n\\n                                    <span class=\"media__icon icon icon--video\" aria-hidden=\"true\"></span>\\n                \\n                <div class=\"media__content\">\\n\\n                                            <h3 class=\"media__title\">\\n                            <a class=\"media__link\" href=\"/sport/av/africa/58333522\"\\n                                      rev=\"video|headline\" >\\n                                                                    South Africa\\'s Paralympic pioneer                                                            </a>\\n                        </h3>\\n                    \\n                    \\n                                            <a class=\"media__tag tag tag--videos\" href=\"/sport/africa\"\\n                                  rev=\"video|source\" >Sport Africa</a>\\n                    \\n                    \\n                </div>\\n\\n                <a class=\"block-link__overlay-link\"\\n                   href=\"/sport/av/africa/58333522\"\\n                          rev=\"video|overlay\"                    tabindex=\"-1\"\\n                   aria-hidden=\"true\"\\n                   >\\n                    South Africa\\'s Paralympic pioneer                </a>\\n\\n            </div>\\n\\n        \\n     </li>  <li class=\"video__item video__item video__item--4 video__item--recommended\" data-category=\"recommended\" data-index=\"4\" data-category-index=\"4\" data-video=\"{&quot;contenttype&quot;:&quot;video&quot;,&quot;num&quot;:&quot;10&quot;,&quot;type&quot;:&quot;MAP&quot;,&quot;title&quot;:&quot;Third brawl in two days in Armenian parliament&quot;,&quot;url&quot;:&quot;\\\\/news\\\\/world-europe-58340042&quot;,&quot;summary&quot;:&quot;Security personnel were called in to remove several members after violence erupted on the parliament floor.&quot;,&quot;img&quot;:&quot;https:\\\\/\\\\/ichef.bbc.co.uk\\\\/wwhp\\\\/800\\\\/cpsprodpb\\\\/FF37\\\\/production\\\\/_120253356_p09t87st.jpg&quot;,&quot;imgalttext&quot;:&quot;Armenia parliament brawl&quot;,&quot;pid&quot;:&quot;p09t84hc&quot;,&quot;pidtype&quot;:&quot;Version&quot;,&quot;sourcename&quot;:&quot;Europe&quot;,&quot;sourceurl&quot;:&quot;\\\\/news\\\\/world\\\\/europe&quot;,&quot;created&quot;:&quot;2021-08-26T10:31:52+00:00&quot;,&quot;updated&quot;:&quot;2021-08-26T10:31:52+00:00&quot;,&quot;origincode&quot;:&quot;cpsprodpb&quot;,&quot;gelicon&quot;:&quot;video&quot;,&quot;sourceid&quot;:&quot;videos&quot;,&quot;itemtype&quot;:&quot;feed&quot;,&quot;allowadvertising&quot;:true,&quot;clippid&quot;:&quot;p09t84h9&quot;,&quot;duration&quot;:&quot;PT35S&quot;}\">     \\n        \\n            <div\\n               class=\"media media--video media--horizontal media--icon block-link\"\\n               data-bbc-container=\"video\"\\n               data-bbc-title=\"Third brawl in two days in Armenian parliament\"\\n               data-bbc-source=\"Europe\"\\n               data-bbc-metadata=\\'{\"CHD\": \"card::5\" }\\'\\n               data-bbc-client-routed               >\\n                <div class=\"media__image\">\\n                    <div class=\"responsive-image\"><div class=\"delayed-image-load\" data-src=\"https://ichef.bbc.co.uk/wwhp/{width}/cpsprodpb/FF37/production/_120253356_p09t87st.jpg\" data-alt=\"Armenia parliament brawl\"><img src=\"data:image/gif;base64,R0lGODlhEAAJAIAAAP///wAAACH5BAEAAAAALAAAAAAQAAkAAAIKhI+py+0Po5yUFQA7\" alt=\"Armenia parliament brawl\" /></div></div>                </div>\\n\\n                                    <span class=\"media__icon icon icon--video\" aria-hidden=\"true\"></span>\\n                \\n                <div class=\"media__content\">\\n\\n                                            <h3 class=\"media__title\">\\n                            <a class=\"media__link\" href=\"/news/world-europe-58340042\"\\n                                      rev=\"video|headline\" >\\n                                                                    Third brawl in two days in Armenian...                                                            </a>\\n                        </h3>\\n                    \\n                    \\n                                            <a class=\"media__tag tag tag--videos\" href=\"/news/world/europe\"\\n                                  rev=\"video|source\" >Europe</a>\\n                    \\n                    \\n                </div>\\n\\n                <a class=\"block-link__overlay-link\"\\n                   href=\"/news/world-europe-58340042\"\\n                          rev=\"video|overlay\"                    tabindex=\"-1\"\\n                   aria-hidden=\"true\"\\n                   >\\n                    Third brawl in two days in Armenian parliament                </a>\\n\\n            </div>\\n\\n        \\n     </li>  <li class=\"video__item video__item video__item--5 video__item--most-watched\" data-category=\"most-watched\" data-index=\"5\" data-category-index=\"0\" data-video=\"{&quot;contenttype&quot;:&quot;video&quot;,&quot;num&quot;:&quot;10&quot;,&quot;title&quot;:&quot;Boris Johnson struggles in interview&quot;,&quot;url&quot;:&quot;\\\\/news\\\\/uk-40358825&quot;,&quot;img&quot;:&quot;https:\\\\/\\\\/ichef.bbc.co.uk\\\\/wwhp\\\\/800\\\\/cpsprodpb\\\\/13914\\\\/production\\\\/_96584108_p056l3xn.jpg&quot;,&quot;pid&quot;:&quot;p05q0xdr&quot;,&quot;pidtype&quot;:&quot;Version&quot;,&quot;sourcename&quot;:&quot;UK&quot;,&quot;sourceurl&quot;:&quot;\\\\/news\\\\/uk&quot;,&quot;summary&quot;:&quot;The foreign secretary struggled to explain how the PM would tackle \\\\&quot;burning injustices\\\\&quot;.&quot;,&quot;imgalttext&quot;:&quot;The foreign secretary struggled to explain the PM would tackle \\\\&quot;burning injustices\\\\&quot; in the criminal justice system and in education.&quot;,&quot;origincode&quot;:&quot;cpsprodpb&quot;,&quot;allowadvertising&quot;:true,&quot;clippid&quot;:&quot;p056l396&quot;,&quot;duration&quot;:&quot;PT9M38S&quot;}\">     \\n        \\n            <div\\n               class=\"media media--video media--horizontal media--icon block-link\"\\n               data-bbc-container=\"video\"\\n               data-bbc-title=\"Boris Johnson struggles in interview\"\\n               data-bbc-source=\"UK\"\\n               data-bbc-metadata=\\'{\"CHD\": \"card::6\" }\\'\\n               data-bbc-client-routed               >\\n                <div class=\"media__image\">\\n                    <div class=\"responsive-image\"><div class=\"delayed-image-load\" data-src=\"https://ichef.bbc.co.uk/wwhp/{width}/cpsprodpb/13914/production/_96584108_p056l3xn.jpg\" data-alt=\"The foreign secretary struggled to explain the PM would tackle &quot;burning injustices&quot; in the criminal justice system and in education.\"><img src=\"data:image/gif;base64,R0lGODlhEAAJAIAAAP///wAAACH5BAEAAAAALAAAAAAQAAkAAAIKhI+py+0Po5yUFQA7\" alt=\"The foreign secretary struggled to explain the PM would tackle &quot;burning injustices&quot; in the criminal justice system and in education.\" /></div></div>                </div>\\n\\n                                    <span class=\"media__icon icon icon--video\" aria-hidden=\"true\"></span>\\n                \\n                <div class=\"media__content\">\\n\\n                                            <h3 class=\"media__title\">\\n                            <a class=\"media__link\" href=\"/news/uk-40358825\"\\n                                      rev=\"video|headline\" >\\n                                                                    Boris Johnson struggles in interview                                                            </a>\\n                        </h3>\\n                    \\n                    \\n                                            <a class=\"media__tag tag tag--\" href=\"/news/uk\"\\n                                  rev=\"video|source\" >UK</a>\\n                    \\n                    \\n                </div>\\n\\n                <a class=\"block-link__overlay-link\"\\n                   href=\"/news/uk-40358825\"\\n                          rev=\"video|overlay\"                    tabindex=\"-1\"\\n                   aria-hidden=\"true\"\\n                   >\\n                    Boris Johnson struggles in interview                </a>\\n\\n            </div>\\n\\n        \\n     </li>  <li class=\"video__item video__item video__item--6 video__item--most-watched\" data-category=\"most-watched\" data-index=\"6\" data-category-index=\"1\" data-video=\"{&quot;contenttype&quot;:&quot;video&quot;,&quot;num&quot;:&quot;10&quot;,&quot;title&quot;:&quot;Ready for the total solar eclipse?&quot;,&quot;url&quot;:&quot;\\\\/news\\\\/world-us-canada-40362067&quot;,&quot;img&quot;:&quot;https:\\\\/\\\\/ichef.bbc.co.uk\\\\/wwhp\\\\/800\\\\/cpsprodpb\\\\/5EBA\\\\/production\\\\/_96505242_p056l5st.jpg&quot;,&quot;pid&quot;:&quot;p056l52f&quot;,&quot;pidtype&quot;:&quot;Version&quot;,&quot;sourcename&quot;:&quot;US &amp;amp; Canada&quot;,&quot;sourceurl&quot;:&quot;\\\\/news\\\\/world\\\\/us_and_canada&quot;,&quot;summary&quot;:&quot;Nasa scientists are very excited about the eclipse happening in the United States later this summer.&quot;,&quot;imgalttext&quot;:&quot;Solar eclipse to cross North America&quot;,&quot;origincode&quot;:&quot;cpsprodpb&quot;,&quot;allowadvertising&quot;:true,&quot;clippid&quot;:&quot;p056l52c&quot;,&quot;duration&quot;:&quot;PT1M5S&quot;}\">     \\n        \\n            <div\\n               class=\"media media--video media--horizontal media--icon block-link\"\\n               data-bbc-container=\"video\"\\n               data-bbc-title=\"Ready for the total solar eclipse?\"\\n               data-bbc-source=\"US &amp; Canada\"\\n               data-bbc-metadata=\\'{\"CHD\": \"card::7\" }\\'\\n               data-bbc-client-routed               >\\n                <div class=\"media__image\">\\n                    <div class=\"responsive-image\"><div class=\"delayed-image-load\" data-src=\"https://ichef.bbc.co.uk/wwhp/{width}/cpsprodpb/5EBA/production/_96505242_p056l5st.jpg\" data-alt=\"Solar eclipse to cross North America\"><img src=\"data:image/gif;base64,R0lGODlhEAAJAIAAAP///wAAACH5BAEAAAAALAAAAAAQAAkAAAIKhI+py+0Po5yUFQA7\" alt=\"Solar eclipse to cross North America\" /></div></div>                </div>\\n\\n                                    <span class=\"media__icon icon icon--video\" aria-hidden=\"true\"></span>\\n                \\n                <div class=\"media__content\">\\n\\n                                            <h3 class=\"media__title\">\\n                            <a class=\"media__link\" href=\"/news/world-us-canada-40362067\"\\n                                      rev=\"video|headline\" >\\n                                                                    Ready for the total solar eclipse?                                                            </a>\\n                        </h3>\\n                    \\n                    \\n                                            <a class=\"media__tag tag tag--\" href=\"/news/world/us_and_canada\"\\n                                  rev=\"video|source\" >US &amp; Canada</a>\\n                    \\n                    \\n                </div>\\n\\n                <a class=\"block-link__overlay-link\"\\n                   href=\"/news/world-us-canada-40362067\"\\n                          rev=\"video|overlay\"                    tabindex=\"-1\"\\n                   aria-hidden=\"true\"\\n                   >\\n                    Ready for the total solar eclipse?                </a>\\n\\n            </div>\\n\\n        \\n     </li>  <li class=\"video__item video__item video__item--7 video__item--most-watched\" data-category=\"most-watched\" data-index=\"7\" data-category-index=\"2\" data-video=\"{&quot;contenttype&quot;:&quot;video&quot;,&quot;num&quot;:&quot;10&quot;,&quot;title&quot;:&quot;Koalas \\'face extinction\\' in parts of Australia&quot;,&quot;url&quot;:&quot;\\\\/news\\\\/world-australia-40365981&quot;,&quot;img&quot;:&quot;https:\\\\/\\\\/ichef.bbc.co.uk\\\\/wwhp\\\\/800\\\\/cpsprodpb\\\\/11A11\\\\/production\\\\/_96590227_p056m0y4.jpg&quot;,&quot;pid&quot;:&quot;p056lx4x&quot;,&quot;pidtype&quot;:&quot;Version&quot;,&quot;sourcename&quot;:&quot;Australia&quot;,&quot;sourceurl&quot;:&quot;\\\\/news\\\\/world\\\\/australia&quot;,&quot;summary&quot;:&quot;The conservation group WWF is warning that koalas could be wiped out in some Australian states amid deforestation and increasing attacks by livestock.&quot;,&quot;imgalttext&quot;:&quot;Koala&quot;,&quot;origincode&quot;:&quot;cpsprodpb&quot;,&quot;allowadvertising&quot;:true,&quot;clippid&quot;:&quot;p056lx4s&quot;,&quot;duration&quot;:&quot;PT1M29S&quot;}\">     \\n        \\n            <div\\n               class=\"media media--video media--horizontal media--icon block-link\"\\n               data-bbc-container=\"video\"\\n               data-bbc-title=\"Koalas \\'face extinction\\' in parts of Australia\"\\n               data-bbc-source=\"Australia\"\\n               data-bbc-metadata=\\'{\"CHD\": \"card::8\" }\\'\\n               data-bbc-client-routed               >\\n                <div class=\"media__image\">\\n                    <div class=\"responsive-image\"><div class=\"delayed-image-load\" data-src=\"https://ichef.bbc.co.uk/wwhp/{width}/cpsprodpb/11A11/production/_96590227_p056m0y4.jpg\" data-alt=\"Koala\"><img src=\"data:image/gif;base64,R0lGODlhEAAJAIAAAP///wAAACH5BAEAAAAALAAAAAAQAAkAAAIKhI+py+0Po5yUFQA7\" alt=\"Koala\" /></div></div>                </div>\\n\\n                                    <span class=\"media__icon icon icon--video\" aria-hidden=\"true\"></span>\\n                \\n                <div class=\"media__content\">\\n\\n                                            <h3 class=\"media__title\">\\n                            <a class=\"media__link\" href=\"/news/world-australia-40365981\"\\n                                      rev=\"video|headline\" >\\n                                                                    Koalas \\'face extinction\\' in parts of...                                                            </a>\\n                        </h3>\\n                    \\n                    \\n                                            <a class=\"media__tag tag tag--\" href=\"/news/world/australia\"\\n                                  rev=\"video|source\" >Australia</a>\\n                    \\n                    \\n                </div>\\n\\n                <a class=\"block-link__overlay-link\"\\n                   href=\"/news/world-australia-40365981\"\\n                          rev=\"video|overlay\"                    tabindex=\"-1\"\\n                   aria-hidden=\"true\"\\n                   >\\n                    Koalas \\'face extinction\\' in parts of Australia                </a>\\n\\n            </div>\\n\\n        \\n     </li>  <li class=\"video__item video__item video__item--8 video__item--most-watched\" data-category=\"most-watched\" data-index=\"8\" data-category-index=\"3\" data-video=\"{&quot;contenttype&quot;:&quot;video&quot;,&quot;num&quot;:&quot;10&quot;,&quot;title&quot;:&quot;Video \\'shows Mosul mosque\\'s destruction\\'&quot;,&quot;url&quot;:&quot;\\\\/news\\\\/world-middle-east-40366136&quot;,&quot;img&quot;:&quot;https:\\\\/\\\\/ichef.bbc.co.uk\\\\/wwhp\\\\/800\\\\/cpsprodpb\\\\/4C2A\\\\/production\\\\/_96589491_p056m4gs.jpg&quot;,&quot;pid&quot;:&quot;p056lwqx&quot;,&quot;pidtype&quot;:&quot;Version&quot;,&quot;sourcename&quot;:&quot;Middle East&quot;,&quot;sourceurl&quot;:&quot;\\\\/news\\\\/world\\\\/middle_east&quot;,&quot;summary&quot;:&quot;A video purportedly shows the destruction of Mosul\\'s Great Mosque of al-Nuri and its minaret.&quot;,&quot;imgalttext&quot;:&quot;File image of Mosul\\'s Great Mosque of al-Nuri and video purportedly showing it being blown up on 21 June 2017&quot;,&quot;origincode&quot;:&quot;cpsprodpb&quot;,&quot;allowadvertising&quot;:true,&quot;clippid&quot;:&quot;p056lwqv&quot;,&quot;duration&quot;:&quot;PT7S&quot;}\">     \\n        \\n            <div\\n               class=\"media media--video media--horizontal media--icon block-link\"\\n               data-bbc-container=\"video\"\\n               data-bbc-title=\"Video \\'shows Mosul mosque\\'s destruction\\'\"\\n               data-bbc-source=\"Middle East\"\\n               data-bbc-metadata=\\'{\"CHD\": \"card::9\" }\\'\\n               data-bbc-client-routed               >\\n                <div class=\"media__image\">\\n                    <div class=\"responsive-image\"><div class=\"delayed-image-load\" data-src=\"https://ichef.bbc.co.uk/wwhp/{width}/cpsprodpb/4C2A/production/_96589491_p056m4gs.jpg\" data-alt=\"File image of Mosul\\'s Great Mosque of al-Nuri and video purportedly showing it being blown up on 21 June 2017\"><img src=\"data:image/gif;base64,R0lGODlhEAAJAIAAAP///wAAACH5BAEAAAAALAAAAAAQAAkAAAIKhI+py+0Po5yUFQA7\" alt=\"File image of Mosul\\'s Great Mosque of al-Nuri and video purportedly showing it being blown up on 21 June 2017\" /></div></div>                </div>\\n\\n                                    <span class=\"media__icon icon icon--video\" aria-hidden=\"true\"></span>\\n                \\n                <div class=\"media__content\">\\n\\n                                            <h3 class=\"media__title\">\\n                            <a class=\"media__link\" href=\"/news/world-middle-east-40366136\"\\n                                      rev=\"video|headline\" >\\n                                                                    Video \\'shows Mosul mosque\\'s destruction\\'                                                            </a>\\n                        </h3>\\n                    \\n                    \\n                                            <a class=\"media__tag tag tag--\" href=\"/news/world/middle_east\"\\n                                  rev=\"video|source\" >Middle East</a>\\n                    \\n                    \\n                </div>\\n\\n                <a class=\"block-link__overlay-link\"\\n                   href=\"/news/world-middle-east-40366136\"\\n                          rev=\"video|overlay\"                    tabindex=\"-1\"\\n                   aria-hidden=\"true\"\\n                   >\\n                    Video \\'shows Mosul mosque\\'s destruction\\'                </a>\\n\\n            </div>\\n\\n        \\n     </li>  <li class=\"video__item video__item video__item--9 video__item--most-watched\" data-category=\"most-watched\" data-index=\"9\" data-category-index=\"4\" data-video=\"{&quot;contenttype&quot;:&quot;video&quot;,&quot;num&quot;:&quot;10&quot;,&quot;title&quot;:&quot;Indonesia\\'s female \\'devil wheel\\' riders&quot;,&quot;url&quot;:&quot;\\\\/news\\\\/world-asia-40360168&quot;,&quot;img&quot;:&quot;https:\\\\/\\\\/ichef.bbc.co.uk\\\\/wwhp\\\\/800\\\\/cpsprodpb\\\\/A5C6\\\\/production\\\\/_96583424_p056kgt9.jpg&quot;,&quot;pid&quot;:&quot;p056k1w7&quot;,&quot;pidtype&quot;:&quot;Version&quot;,&quot;sourcename&quot;:&quot;Asia&quot;,&quot;sourceurl&quot;:&quot;\\\\/news\\\\/world\\\\/asia&quot;,&quot;summary&quot;:&quot;How a girl from Sumatra came to be riding motorbikes around a vertical wall in a travelling show.&quot;,&quot;imgalttext&quot;:&quot;Karmila Purba&quot;,&quot;origincode&quot;:&quot;cpsprodpb&quot;,&quot;allowadvertising&quot;:true,&quot;clippid&quot;:&quot;p056k1vv&quot;,&quot;duration&quot;:&quot;PT3M9S&quot;}\">     \\n        \\n            <div\\n               class=\"media media--video media--horizontal media--icon block-link\"\\n               data-bbc-container=\"video\"\\n               data-bbc-title=\"Indonesia\\'s female \\'devil wheel\\' riders\"\\n               data-bbc-source=\"Asia\"\\n               data-bbc-metadata=\\'{\"CHD\": \"card::10\" }\\'\\n               data-bbc-client-routed               >\\n                <div class=\"media__image\">\\n                    <div class=\"responsive-image\"><div class=\"delayed-image-load\" data-src=\"https://ichef.bbc.co.uk/wwhp/{width}/cpsprodpb/A5C6/production/_96583424_p056kgt9.jpg\" data-alt=\"Karmila Purba\"><img src=\"data:image/gif;base64,R0lGODlhEAAJAIAAAP///wAAACH5BAEAAAAALAAAAAAQAAkAAAIKhI+py+0Po5yUFQA7\" alt=\"Karmila Purba\" /></div></div>                </div>\\n\\n                                    <span class=\"media__icon icon icon--video\" aria-hidden=\"true\"></span>\\n                \\n                <div class=\"media__content\">\\n\\n                                            <h3 class=\"media__title\">\\n                            <a class=\"media__link\" href=\"/news/world-asia-40360168\"\\n                                      rev=\"video|headline\" >\\n                                                                    Indonesia\\'s female \\'devil wheel\\' riders                                                            </a>\\n                        </h3>\\n                    \\n                    \\n                                            <a class=\"media__tag tag tag--\" href=\"/news/world/asia\"\\n                                  rev=\"video|source\" >Asia</a>\\n                    \\n                    \\n                </div>\\n\\n                <a class=\"block-link__overlay-link\"\\n                   href=\"/news/world-asia-40360168\"\\n                          rev=\"video|overlay\"                    tabindex=\"-1\"\\n                   aria-hidden=\"true\"\\n                   >\\n                    Indonesia\\'s female \\'devil wheel\\' riders                </a>\\n\\n            </div>\\n\\n        \\n     </li>  <li class=\"video__item video__item video__item--10 video__item--latest\" data-category=\"latest\" data-index=\"10\" data-category-index=\"0\" data-video=\"{&quot;contenttype&quot;:&quot;video&quot;,&quot;num&quot;:&quot;10&quot;,&quot;type&quot;:&quot;MAP&quot;,&quot;title&quot;:&quot;Nile Rodgers offers career tips to young musicians&quot;,&quot;url&quot;:&quot;\\\\/news\\\\/uk-england-london-58320495&quot;,&quot;summary&quot;:&quot;After months of staying at home, the music legend taught young Londoners the benefit of collaboration.&quot;,&quot;img&quot;:&quot;https:\\\\/\\\\/ichef.bbc.co.uk\\\\/wwhp\\\\/800\\\\/cpsprodpb\\\\/10241\\\\/production\\\\/_120231166_p09t2bzx.jpg&quot;,&quot;imgalttext&quot;:&quot;Nile Rodgers jamming with young musicians&quot;,&quot;pid&quot;:&quot;p09t57k1&quot;,&quot;pidtype&quot;:&quot;Version&quot;,&quot;sourcename&quot;:&quot;London&quot;,&quot;sourceurl&quot;:&quot;\\\\/news\\\\/england\\\\/london&quot;,&quot;created&quot;:&quot;2021-08-25T23:01:42+00:00&quot;,&quot;updated&quot;:&quot;2021-08-25T23:01:42+00:00&quot;,&quot;origincode&quot;:&quot;cpsprodpb&quot;,&quot;gelicon&quot;:&quot;video&quot;,&quot;allowadvertising&quot;:true,&quot;clippid&quot;:&quot;p09t2507&quot;,&quot;duration&quot;:&quot;PT2M34S&quot;}\">     \\n        \\n            <div\\n               class=\"media media--video media--horizontal media--icon block-link\"\\n               data-bbc-container=\"video\"\\n               data-bbc-title=\"Nile Rodgers offers career tips to young musicians\"\\n               data-bbc-source=\"London\"\\n               data-bbc-metadata=\\'{\"CHD\": \"card::11\" }\\'\\n               data-bbc-client-routed               >\\n                <div class=\"media__image\">\\n                    <div class=\"responsive-image\"><div class=\"delayed-image-load\" data-src=\"https://ichef.bbc.co.uk/wwhp/{width}/cpsprodpb/10241/production/_120231166_p09t2bzx.jpg\" data-alt=\"Nile Rodgers jamming with young musicians\"><img src=\"data:image/gif;base64,R0lGODlhEAAJAIAAAP///wAAACH5BAEAAAAALAAAAAAQAAkAAAIKhI+py+0Po5yUFQA7\" alt=\"Nile Rodgers jamming with young musicians\" /></div></div>                </div>\\n\\n                                    <span class=\"media__icon icon icon--video\" aria-hidden=\"true\"></span>\\n                \\n                <div class=\"media__content\">\\n\\n                                            <h3 class=\"media__title\">\\n                            <a class=\"media__link\" href=\"/news/uk-england-london-58320495\"\\n                                      rev=\"video|headline\" >\\n                                                                    Nile Rodgers offers career tips to young...                                                            </a>\\n                        </h3>\\n                    \\n                    \\n                                            <a class=\"media__tag tag tag--\" href=\"/news/england/london\"\\n                                  rev=\"video|source\" >London</a>\\n                    \\n                    \\n                </div>\\n\\n                <a class=\"block-link__overlay-link\"\\n                   href=\"/news/uk-england-london-58320495\"\\n                          rev=\"video|overlay\"                    tabindex=\"-1\"\\n                   aria-hidden=\"true\"\\n                   >\\n                    Nile Rodgers offers career tips to young musicians                </a>\\n\\n            </div>\\n\\n        \\n     </li>  <li class=\"video__item video__item video__item--11 video__item--latest\" data-category=\"latest\" data-index=\"11\" data-category-index=\"1\" data-video=\"{&quot;contenttype&quot;:&quot;video&quot;,&quot;num&quot;:&quot;10&quot;,&quot;type&quot;:&quot;MAP&quot;,&quot;title&quot;:&quot;One-minute World News&quot;,&quot;url&quot;:&quot;\\\\/news\\\\/10462520&quot;,&quot;summary&quot;:&quot;Watch the latest news summary from BBC World News. International news updated 24 hours a day.&quot;,&quot;img&quot;:&quot;https:\\\\/\\\\/ichef.bbc.co.uk\\\\/wwhp\\\\/800\\\\/cpsprodpb\\\\/15C7E\\\\/production\\\\/_90041298_p01tlf61.jpg&quot;,&quot;imgalttext&quot;:&quot;BBC News&quot;,&quot;pid&quot;:&quot;p09t7zbr&quot;,&quot;duration&quot;:&quot;PT58S&quot;,&quot;pidtype&quot;:&quot;Version&quot;,&quot;sourcename&quot;:&quot;Video&quot;,&quot;sourceurl&quot;:&quot;\\\\/news\\\\/video_and_audio&quot;,&quot;created&quot;:&quot;2010-07-09T07:56:06+00:00&quot;,&quot;updated&quot;:&quot;2021-08-26T08:51:56+00:00&quot;,&quot;origincode&quot;:&quot;cpsprodpb&quot;,&quot;gelicon&quot;:&quot;video&quot;,&quot;allowadvertising&quot;:true}\">     \\n        \\n            <div\\n               class=\"media media--video media--horizontal media--icon block-link\"\\n               data-bbc-container=\"video\"\\n               data-bbc-title=\"One-minute World News\"\\n               data-bbc-source=\"Video\"\\n               data-bbc-metadata=\\'{\"CHD\": \"card::12\" }\\'\\n               data-bbc-client-routed               >\\n                <div class=\"media__image\">\\n                    <div class=\"responsive-image\"><div class=\"delayed-image-load\" data-src=\"https://ichef.bbc.co.uk/wwhp/{width}/cpsprodpb/15C7E/production/_90041298_p01tlf61.jpg\" data-alt=\"BBC News\"><img src=\"data:image/gif;base64,R0lGODlhEAAJAIAAAP///wAAACH5BAEAAAAALAAAAAAQAAkAAAIKhI+py+0Po5yUFQA7\" alt=\"BBC News\" /></div></div>                </div>\\n\\n                                    <span class=\"media__icon icon icon--video\" aria-hidden=\"true\"></span>\\n                \\n                <div class=\"media__content\">\\n\\n                                            <h3 class=\"media__title\">\\n                            <a class=\"media__link\" href=\"/news/10462520\"\\n                                      rev=\"video|headline\" >\\n                                                                    One-minute World News                                                            </a>\\n                        </h3>\\n                    \\n                    \\n                                            <a class=\"media__tag tag tag--\" href=\"/news/video_and_audio\"\\n                                  rev=\"video|source\" >Video</a>\\n                    \\n                    \\n                </div>\\n\\n                <a class=\"block-link__overlay-link\"\\n                   href=\"/news/10462520\"\\n                          rev=\"video|overlay\"                    tabindex=\"-1\"\\n                   aria-hidden=\"true\"\\n                   >\\n                    One-minute World News                </a>\\n\\n            </div>\\n\\n        \\n     </li>  <li class=\"video__item video__item video__item--12 video__item--latest\" data-category=\"latest\" data-index=\"12\" data-category-index=\"2\" data-video=\"{&quot;contenttype&quot;:&quot;video&quot;,&quot;num&quot;:&quot;10&quot;,&quot;type&quot;:&quot;MAP&quot;,&quot;title&quot;:&quot;Fearing for my family: \\'They will all be killed\\'&quot;,&quot;url&quot;:&quot;\\\\/news\\\\/uk-58327953&quot;,&quot;summary&quot;:&quot;The stories of Britons stuck in Kabul, families in limbo and Afghans starting new lives in the UK.&quot;,&quot;img&quot;:&quot;https:\\\\/\\\\/ichef.bbc.co.uk\\\\/wwhp\\\\/800\\\\/cpsprodpb\\\\/377C\\\\/production\\\\/_120240241_p09t412h.jpg&quot;,&quot;imgalttext&quot;:&quot;Nahida Abasi&quot;,&quot;pid&quot;:&quot;p09t43w2&quot;,&quot;pidtype&quot;:&quot;Version&quot;,&quot;sourcename&quot;:&quot;UK&quot;,&quot;sourceurl&quot;:&quot;\\\\/news\\\\/uk&quot;,&quot;created&quot;:&quot;2021-08-25T07:57:02+00:00&quot;,&quot;updated&quot;:&quot;2021-08-25T07:57:02+00:00&quot;,&quot;origincode&quot;:&quot;cpsprodpb&quot;,&quot;gelicon&quot;:&quot;video&quot;,&quot;allowadvertising&quot;:true,&quot;clippid&quot;:&quot;p09t40kz&quot;,&quot;duration&quot;:&quot;PT3M5S&quot;}\">     \\n        \\n            <div\\n               class=\"media media--video media--horizontal media--icon block-link\"\\n               data-bbc-container=\"video\"\\n               data-bbc-title=\"Fearing for my family: \\'They will all be killed\\'\"\\n               data-bbc-source=\"UK\"\\n               data-bbc-metadata=\\'{\"CHD\": \"card::13\" }\\'\\n               data-bbc-client-routed               >\\n                <div class=\"media__image\">\\n                    <div class=\"responsive-image\"><div class=\"delayed-image-load\" data-src=\"https://ichef.bbc.co.uk/wwhp/{width}/cpsprodpb/377C/production/_120240241_p09t412h.jpg\" data-alt=\"Nahida Abasi\"><img src=\"data:image/gif;base64,R0lGODlhEAAJAIAAAP///wAAACH5BAEAAAAALAAAAAAQAAkAAAIKhI+py+0Po5yUFQA7\" alt=\"Nahida Abasi\" /></div></div>                </div>\\n\\n                                    <span class=\"media__icon icon icon--video\" aria-hidden=\"true\"></span>\\n                \\n                <div class=\"media__content\">\\n\\n                                            <h3 class=\"media__title\">\\n                            <a class=\"media__link\" href=\"/news/uk-58327953\"\\n                                      rev=\"video|headline\" >\\n                                                                    Fearing for my family: \\'They will all be...                                                            </a>\\n                        </h3>\\n                    \\n                    \\n                                            <a class=\"media__tag tag tag--\" href=\"/news/uk\"\\n                                  rev=\"video|source\" >UK</a>\\n                    \\n                    \\n                </div>\\n\\n                <a class=\"block-link__overlay-link\"\\n                   href=\"/news/uk-58327953\"\\n                          rev=\"video|overlay\"                    tabindex=\"-1\"\\n                   aria-hidden=\"true\"\\n                   >\\n                    Fearing for my family: \\'They will all be killed\\'                </a>\\n\\n            </div>\\n\\n        \\n     </li>  <li class=\"video__item video__item video__item--13 video__item--latest\" data-category=\"latest\" data-index=\"13\" data-category-index=\"3\" data-video=\"{&quot;contenttype&quot;:&quot;video&quot;,&quot;num&quot;:&quot;10&quot;,&quot;type&quot;:&quot;MAP&quot;,&quot;title&quot;:&quot;Haiti earthquake: My baby died during her christening&quot;,&quot;url&quot;:&quot;\\\\/news\\\\/world-us-canada-58320708&quot;,&quot;summary&quot;:&quot;Locals say 22 people died when a church collapsed during a mass christening.&quot;,&quot;img&quot;:&quot;https:\\\\/\\\\/ichef.bbc.co.uk\\\\/wwhp\\\\/800\\\\/cpsprodpb\\\\/A64D\\\\/production\\\\/_120237524_p09t3nmc.jpg&quot;,&quot;imgalttext&quot;:&quot;Woman lying on bed&quot;,&quot;pid&quot;:&quot;p09t57zg&quot;,&quot;pidtype&quot;:&quot;Version&quot;,&quot;sourcename&quot;:&quot;US &amp;amp; Canada&quot;,&quot;sourceurl&quot;:&quot;\\\\/news\\\\/world\\\\/us_and_canada&quot;,&quot;created&quot;:&quot;2021-08-25T01:07:48+00:00&quot;,&quot;updated&quot;:&quot;2021-08-25T01:07:48+00:00&quot;,&quot;origincode&quot;:&quot;cpsprodpb&quot;,&quot;gelicon&quot;:&quot;video&quot;,&quot;allowadvertising&quot;:true,&quot;clippid&quot;:&quot;p09t3n2n&quot;,&quot;duration&quot;:&quot;PT2M19S&quot;}\">     \\n        \\n            <div\\n               class=\"media media--video media--horizontal media--icon block-link\"\\n               data-bbc-container=\"video\"\\n               data-bbc-title=\"Haiti earthquake: My baby died during her christening\"\\n               data-bbc-source=\"US &amp; Canada\"\\n               data-bbc-metadata=\\'{\"CHD\": \"card::14\" }\\'\\n               data-bbc-client-routed               >\\n                <div class=\"media__image\">\\n                    <div class=\"responsive-image\"><div class=\"delayed-image-load\" data-src=\"https://ichef.bbc.co.uk/wwhp/{width}/cpsprodpb/A64D/production/_120237524_p09t3nmc.jpg\" data-alt=\"Woman lying on bed\"><img src=\"data:image/gif;base64,R0lGODlhEAAJAIAAAP///wAAACH5BAEAAAAALAAAAAAQAAkAAAIKhI+py+0Po5yUFQA7\" alt=\"Woman lying on bed\" /></div></div>                </div>\\n\\n                                    <span class=\"media__icon icon icon--video\" aria-hidden=\"true\"></span>\\n                \\n                <div class=\"media__content\">\\n\\n                                            <h3 class=\"media__title\">\\n                            <a class=\"media__link\" href=\"/news/world-us-canada-58320708\"\\n                                      rev=\"video|headline\" >\\n                                                                    Haiti earthquake: My baby died during her...                                                            </a>\\n                        </h3>\\n                    \\n                    \\n                                            <a class=\"media__tag tag tag--\" href=\"/news/world/us_and_canada\"\\n                                  rev=\"video|source\" >US &amp; Canada</a>\\n                    \\n                    \\n                </div>\\n\\n                <a class=\"block-link__overlay-link\"\\n                   href=\"/news/world-us-canada-58320708\"\\n                          rev=\"video|overlay\"                    tabindex=\"-1\"\\n                   aria-hidden=\"true\"\\n                   >\\n                    Haiti earthquake: My baby died during her christening                </a>\\n\\n            </div>\\n\\n        \\n     </li>  <li class=\"video__item video__item video__item--14 video__item--latest\" data-category=\"latest\" data-index=\"14\" data-category-index=\"4\" data-video=\"{&quot;contenttype&quot;:&quot;video&quot;,&quot;num&quot;:&quot;10&quot;,&quot;type&quot;:&quot;MAP&quot;,&quot;title&quot;:&quot;Taliban to US: Don\\'t encourage Afghans to leave&quot;,&quot;url&quot;:&quot;\\\\/news\\\\/uk-politics-58320221&quot;,&quot;summary&quot;:&quot;Foreign countries should stop encouraging Afghans to leave their country, a Taliban spokesman says.&quot;,&quot;img&quot;:&quot;https:\\\\/\\\\/ichef.bbc.co.uk\\\\/wwhp\\\\/800\\\\/cpsprodpb\\\\/1510A\\\\/production\\\\/_120228268_p09t2dhk.jpg&quot;,&quot;imgalttext&quot;:&quot;Zabihullah Mujahid, Taliban spokesman&quot;,&quot;pid&quot;:&quot;p09t2ckq&quot;,&quot;pidtype&quot;:&quot;Version&quot;,&quot;sourcename&quot;:&quot;Asia&quot;,&quot;sourceurl&quot;:&quot;\\\\/news\\\\/world\\\\/asia&quot;,&quot;created&quot;:&quot;2021-08-24T13:50:40+00:00&quot;,&quot;updated&quot;:&quot;2021-08-24T13:50:40+00:00&quot;,&quot;origincode&quot;:&quot;cpsprodpb&quot;,&quot;gelicon&quot;:&quot;video&quot;,&quot;allowadvertising&quot;:true,&quot;clippid&quot;:&quot;p09t2ckj&quot;,&quot;duration&quot;:&quot;PT2M49S&quot;}\">     \\n        \\n            <div\\n               class=\"media media--video media--horizontal media--icon block-link\"\\n               data-bbc-container=\"video\"\\n               data-bbc-title=\"Taliban to US: Don\\'t encourage Afghans to leave\"\\n               data-bbc-source=\"Asia\"\\n               data-bbc-metadata=\\'{\"CHD\": \"card::15\" }\\'\\n               data-bbc-client-routed               >\\n                <div class=\"media__image\">\\n                    <div class=\"responsive-image\"><div class=\"delayed-image-load\" data-src=\"https://ichef.bbc.co.uk/wwhp/{width}/cpsprodpb/1510A/production/_120228268_p09t2dhk.jpg\" data-alt=\"Zabihullah Mujahid, Taliban spokesman\"><img src=\"data:image/gif;base64,R0lGODlhEAAJAIAAAP///wAAACH5BAEAAAAALAAAAAAQAAkAAAIKhI+py+0Po5yUFQA7\" alt=\"Zabihullah Mujahid, Taliban spokesman\" /></div></div>                </div>\\n\\n                                    <span class=\"media__icon icon icon--video\" aria-hidden=\"true\"></span>\\n                \\n                <div class=\"media__content\">\\n\\n                                            <h3 class=\"media__title\">\\n                            <a class=\"media__link\" href=\"/news/uk-politics-58320221\"\\n                                      rev=\"video|headline\" >\\n                                                                    Taliban to US: Don\\'t encourage Afghans to...                                                            </a>\\n                        </h3>\\n                    \\n                    \\n                                            <a class=\"media__tag tag tag--\" href=\"/news/world/asia\"\\n                                  rev=\"video|source\" >Asia</a>\\n                    \\n                    \\n                </div>\\n\\n                <a class=\"block-link__overlay-link\"\\n                   href=\"/news/uk-politics-58320221\"\\n                          rev=\"video|overlay\"                    tabindex=\"-1\"\\n                   aria-hidden=\"true\"\\n                   >\\n                    Taliban to US: Don\\'t encourage Afghans to leave                </a>\\n\\n            </div>\\n\\n        \\n     </li>  </ul> </div> </div> </div> </div> </section> <!-- Error: (null) Module not found or invalid -->\\r\\n      <section class=\"module module--world-service\"> <div class=\"module__content\"> <div class=\"wsradio\"> <h2 class=\"wsradio__title\"> <a class=\"wsradio__title__link\" href=\"http://www.bbc.co.uk/worldserviceradio/\"   rev=\"world-service|header\" >BBC World Service </a> </h2> <div class=\"wsradio__content\"> <i class=\"wsradio__icon icon icon--audio\" aria-hidden=\"true\"></i> <a class=\"wsradio__programme\" href=\"http://www.bbc.co.uk/programmes/p028z2z0\"   rev=\"world-service|link\" > <span class=\"wsradio__programme__onair\">On Air:</span> <span class=\"wsradio__programme__title\">The Food Chain</span> </a> </div> </div> </div> </section>     <div class=\"advert advert--parallax\"><!-- BBCDOTCOM slot parallax --><div id=\"bbccom_parallax_1_2_3_4\" class=\"bbccom_slot\" aria-hidden=\"true\"><div class=\"bbccom_advert\"><script type=\"text/javascript\">/*<![CDATA[*/(function() {if (window.bbcdotcom && bbcdotcom.slotAsync) {bbcdotcom.slotAsync(\"parallax\", [1,2,3,4]);}})();/*]]>*/</script></div></div></div>  <section class=\"module module--collapse-images module--highlight module--more-bbc\">             <h2 class=\"module__title\">\\n                            <span class=\"module__title__link tag tag--feature\">More around the BBC</span>\\n                    </h2>\\n     <div class=\"module__content\"> <div class=\"container\"> <div class=\"more-bbc \"> <ul class=\"media-list media-list--fixed-height layout--featured\">         \\n        <li class=\"media-list__item media-list__item--1\">\\n            <div\\n               class=\"media media--padded media--primary block-link\"\\n               data-bbc-container=\"more-bbc\"\\n               data-bbc-title=\"Can Frozen stage musical recreate the film\\'s magic?\"\\n               data-bbc-source=\"Entertainment &amp; Arts\"\\n               data-bbc-metadata=\\'{\"CHD\": \"card::1\" }\\'\\n                              >\\n                <div class=\"media__image\">\\n                    <div class=\"responsive-image\"><div class=\"delayed-image-load\" data-src=\"https://ichef.bbc.co.uk/wwhp/{width}/cpsprodpb/77B5/production/_120254603_copyofl-rsamanthabarks-elsaandstephaniemckeon-anna02-photographybytrevorleightondisney.jpg\" data-alt=\"Samantha Barks (Elsa) and Stephanie McKeon (Anna)\"><img src=\"data:image/gif;base64,R0lGODlhEAAJAIAAAP///wAAACH5BAEAAAAALAAAAAAQAAkAAAIKhI+py+0Po5yUFQA7\" alt=\"Samantha Barks (Elsa) and Stephanie McKeon (Anna)\" /></div></div>                </div>\\n\\n                \\n                <div class=\"media__content\">\\n\\n                                            <h3 class=\"media__title\">\\n                            <a class=\"media__link\" href=\"/news/entertainment-arts-57968594\"\\n                                      rev=\"more-bbc|headline\" >\\n                                                                    Can Frozen stage musical recreate the film\\'s magic?                                                            </a>\\n                        </h3>\\n                    \\n                                            <p class=\"media__summary\">\\n                                                            Some critics are sceptical, but London\\'s Anna and Elsa say the stage adaptation will please fans.                                                    </p>\\n                    \\n                                            <a class=\"media__tag tag tag--entertainment\" href=\"/news/entertainment_and_arts\"\\n                                  rev=\"more-bbc|source\" >Entertainment &amp; Arts</a>\\n                    \\n                    \\n                </div>\\n\\n                <a class=\"block-link__overlay-link\"\\n                   href=\"/news/entertainment-arts-57968594\"\\n                          rev=\"more-bbc|overlay\"                    tabindex=\"-1\"\\n                   aria-hidden=\"true\"\\n                   >\\n                    Can Frozen stage musical recreate the film\\'s magic?                </a>\\n\\n            </div>\\n\\n        </li>\\n        \\n        <li class=\"media-list__item media-list__item--2\">\\n            <div\\n               class=\"media media--padded block-link\"\\n               data-bbc-container=\"more-bbc\"\\n               data-bbc-title=\"Pubs and restaurants hoping for Christmas cheer\"\\n               data-bbc-source=\"Business\"\\n               data-bbc-metadata=\\'{\"CHD\": \"card::2\" }\\'\\n                              >\\n                <div class=\"media__image\">\\n                    <div class=\"responsive-image\"><div class=\"delayed-image-load\" data-src=\"https://ichef.bbc.co.uk/wwhp/{width}/cpsprodpb/2840/production/_120240301_gettyimages-590461939.jpg\" data-alt=\"Champagne flutes\"><img src=\"data:image/gif;base64,R0lGODlhEAAJAIAAAP///wAAACH5BAEAAAAALAAAAAAQAAkAAAIKhI+py+0Po5yUFQA7\" alt=\"Champagne flutes\" /></div></div>                </div>\\n\\n                \\n                <div class=\"media__content\">\\n\\n                                            <h3 class=\"media__title\">\\n                            <a class=\"media__link\" href=\"https://www.bbc.co.uk/news/business-58305616\"\\n                                      rev=\"more-bbc|headline\" >\\n                                                                    Pubs and restaurants hoping for Christmas cheer                                                            </a>\\n                        </h3>\\n                    \\n                    \\n                                            <a class=\"media__tag tag tag--business\" href=\"http://www.bbc.com/news/business/\"\\n                                  rev=\"more-bbc|source\" >Business</a>\\n                    \\n                    \\n                </div>\\n\\n                <a class=\"block-link__overlay-link\"\\n                   href=\"https://www.bbc.co.uk/news/business-58305616\"\\n                          rev=\"more-bbc|overlay\"                    tabindex=\"-1\"\\n                   aria-hidden=\"true\"\\n                   >\\n                    Pubs and restaurants hoping for Christmas cheer                </a>\\n\\n            </div>\\n\\n        </li>\\n        \\n        <li class=\"media-list__item media-list__item--3\">\\n            <div\\n               class=\"media media--padded block-link\"\\n               data-bbc-container=\"more-bbc\"\\n               data-bbc-title=\"Search for Covid\\'s origins stalled, scientists say\"\\n               data-bbc-source=\"Science &amp; Environment\"\\n               data-bbc-metadata=\\'{\"CHD\": \"card::3\" }\\'\\n                              >\\n                <div class=\"media__image\">\\n                    <div class=\"responsive-image\"><div class=\"delayed-image-load\" data-src=\"https://ichef.bbc.co.uk/wwhp/{width}/cpsprodpb/09A8/production/_111827420_hi059295836.jpg\" data-alt=\"Wuhan Seafood Market\"><img src=\"data:image/gif;base64,R0lGODlhEAAJAIAAAP///wAAACH5BAEAAAAALAAAAAAQAAkAAAIKhI+py+0Po5yUFQA7\" alt=\"Wuhan Seafood Market\" /></div></div>                </div>\\n\\n                \\n                <div class=\"media__content\">\\n\\n                                            <h3 class=\"media__title\">\\n                            <a class=\"media__link\" href=\"/news/science-environment-58331657\"\\n                                      rev=\"more-bbc|headline\" >\\n                                                                    Search for Covid\\'s origins stalled, scientists say                                                            </a>\\n                        </h3>\\n                    \\n                    \\n                                            <a class=\"media__tag tag tag--science\" href=\"/news/science_and_environment\"\\n                                  rev=\"more-bbc|source\" >Science &amp; Environment</a>\\n                    \\n                    \\n                </div>\\n\\n                <a class=\"block-link__overlay-link\"\\n                   href=\"/news/science-environment-58331657\"\\n                          rev=\"more-bbc|overlay\"                    tabindex=\"-1\"\\n                   aria-hidden=\"true\"\\n                   >\\n                    Search for Covid\\'s origins stalled, scientists say                </a>\\n\\n            </div>\\n\\n        </li>\\n        \\n        <li class=\"media-list__item media-list__item--4\">\\n            <div\\n               class=\"media media--padded block-link\"\\n               data-bbc-container=\"more-bbc\"\\n               data-bbc-title=\"The real victims of mass crypto-hacks\"\\n               data-bbc-source=\"Technology\"\\n               data-bbc-metadata=\\'{\"CHD\": \"card::4\" }\\'\\n                              >\\n                <div class=\"media__image\">\\n                    <div class=\"responsive-image\"><div class=\"delayed-image-load\" data-src=\"https://ichef.bbc.co.uk/wwhp/{width}/cpsprodpb/5F04/production/_120242342_tidypicture.jpg\" data-alt=\"Man looking at stocks\"><img src=\"data:image/gif;base64,R0lGODlhEAAJAIAAAP///wAAACH5BAEAAAAALAAAAAAQAAkAAAIKhI+py+0Po5yUFQA7\" alt=\"Man looking at stocks\" /></div></div>                </div>\\n\\n                \\n                <div class=\"media__content\">\\n\\n                                            <h3 class=\"media__title\">\\n                            <a class=\"media__link\" href=\"/news/technology-58331959\"\\n                                      rev=\"more-bbc|headline\" >\\n                                                                    The real victims of mass crypto-hacks                                                            </a>\\n                        </h3>\\n                    \\n                    \\n                                            <a class=\"media__tag tag tag--technology\" href=\"/news/technology\"\\n                                  rev=\"more-bbc|source\" >Technology</a>\\n                    \\n                    \\n                </div>\\n\\n                <a class=\"block-link__overlay-link\"\\n                   href=\"/news/technology-58331959\"\\n                          rev=\"more-bbc|overlay\"                    tabindex=\"-1\"\\n                   aria-hidden=\"true\"\\n                   >\\n                    The real victims of mass crypto-hacks                </a>\\n\\n            </div>\\n\\n        </li>\\n        \\n        <li class=\"media-list__item media-list__item--5\">\\n            <div\\n               class=\"media media--padded block-link\"\\n               data-bbc-container=\"more-bbc\"\\n               data-bbc-title=\"Covid protection in double-jabbed waning in UK\"\\n               data-bbc-source=\"Health\"\\n               data-bbc-metadata=\\'{\"CHD\": \"card::5\" }\\'\\n                              >\\n                <div class=\"media__image\">\\n                    <div class=\"responsive-image\"><div class=\"delayed-image-load\" data-src=\"https://ichef.bbc.co.uk/wwhp/{width}/cpsprodpb/7C8B/production/_120238813_gettyimages-1324507291.jpg\" data-alt=\"Woman receiving Covid vaccination\"><img src=\"data:image/gif;base64,R0lGODlhEAAJAIAAAP///wAAACH5BAEAAAAALAAAAAAQAAkAAAIKhI+py+0Po5yUFQA7\" alt=\"Woman receiving Covid vaccination\" /></div></div>                </div>\\n\\n                \\n                <div class=\"media__content\">\\n\\n                                            <h3 class=\"media__title\">\\n                            <a class=\"media__link\" href=\"/news/health-58322882\"\\n                                      rev=\"more-bbc|headline\" >\\n                                                                    Covid protection in double-jabbed waning in UK                                                            </a>\\n                        </h3>\\n                    \\n                    \\n                                            <a class=\"media__tag tag tag--health\" href=\"/news/health\"\\n                                  rev=\"more-bbc|source\" >Health</a>\\n                    \\n                    \\n                </div>\\n\\n                <a class=\"block-link__overlay-link\"\\n                   href=\"/news/health-58322882\"\\n                          rev=\"more-bbc|overlay\"                    tabindex=\"-1\"\\n                   aria-hidden=\"true\"\\n                   >\\n                    Covid protection in double-jabbed waning in UK                </a>\\n\\n            </div>\\n\\n        </li>\\n        \\n        <li class=\"media-list__item media-list__item--6\">\\n            <div\\n               class=\"media media--padded block-link\"\\n               data-bbc-container=\"more-bbc\"\\n               data-bbc-title=\"Consumer \\'confusion\\' threatens net zero homes plan\"\\n               data-bbc-source=\"Science &amp; Environment\"\\n               data-bbc-metadata=\\'{\"CHD\": \"card::6\" }\\'\\n                              >\\n                <div class=\"media__image\">\\n                    <div class=\"responsive-image\"><div class=\"delayed-image-load\" data-src=\"https://ichef.bbc.co.uk/wwhp/{width}/cpsprodpb/14504/production/_120240238_solar_panels_getty.jpg\" data-alt=\"Stock image of a workman fixing solar panels to a house\"><img src=\"data:image/gif;base64,R0lGODlhEAAJAIAAAP///wAAACH5BAEAAAAALAAAAAAQAAkAAAIKhI+py+0Po5yUFQA7\" alt=\"Stock image of a workman fixing solar panels to a house\" /></div></div>                </div>\\n\\n                \\n                <div class=\"media__content\">\\n\\n                                            <h3 class=\"media__title\">\\n                            <a class=\"media__link\" href=\"/news/science-environment-58320578\"\\n                                      rev=\"more-bbc|headline\" >\\n                                                                    Consumer \\'confusion\\' threatens net zero homes plan                                                            </a>\\n                        </h3>\\n                    \\n                    \\n                                            <a class=\"media__tag tag tag--science\" href=\"/news/science_and_environment\"\\n                                  rev=\"more-bbc|source\" >Science &amp; Environment</a>\\n                    \\n                    \\n                </div>\\n\\n                <a class=\"block-link__overlay-link\"\\n                   href=\"/news/science-environment-58320578\"\\n                          rev=\"more-bbc|overlay\"                    tabindex=\"-1\"\\n                   aria-hidden=\"true\"\\n                   >\\n                    Consumer \\'confusion\\' threatens net zero homes plan                </a>\\n\\n            </div>\\n\\n        </li>\\n        \\n        <li class=\"media-list__item media-list__item--7\">\\n            <div\\n               class=\"media media--padded block-link\"\\n               data-bbc-container=\"more-bbc\"\\n               data-bbc-title=\"Body positivity image makes photo prize shortlist\"\\n               data-bbc-source=\"Entertainment &amp; Arts\"\\n               data-bbc-metadata=\\'{\"CHD\": \"card::7\" }\\'\\n                              >\\n                <div class=\"media__image\">\\n                    <div class=\"responsive-image\"><div class=\"delayed-image-load\" data-src=\"https://ichef.bbc.co.uk/wwhp/{width}/cpsprodpb/15B0D/production/_120254888_aa2021_taylor_wessing_ppp_01620e-ilina_david_print_350dpi_pr_kit_final.jpg\" data-alt=\"Photographer Katya Ilina is nominated for the portrait David\"><img src=\"data:image/gif;base64,R0lGODlhEAAJAIAAAP///wAAACH5BAEAAAAALAAAAAAQAAkAAAIKhI+py+0Po5yUFQA7\" alt=\"Photographer Katya Ilina is nominated for the portrait David\" /></div></div>                </div>\\n\\n                \\n                <div class=\"media__content\">\\n\\n                                            <h3 class=\"media__title\">\\n                            <a class=\"media__link\" href=\"/news/entertainment-arts-58341080\"\\n                                      rev=\"more-bbc|headline\" >\\n                                                                    Body positivity image makes photo prize shortlist                                                            </a>\\n                        </h3>\\n                    \\n                    \\n                                            <a class=\"media__tag tag tag--entertainment\" href=\"/news/entertainment_and_arts\"\\n                                  rev=\"more-bbc|source\" >Entertainment &amp; Arts</a>\\n                    \\n                    \\n                </div>\\n\\n                <a class=\"block-link__overlay-link\"\\n                   href=\"/news/entertainment-arts-58341080\"\\n                          rev=\"more-bbc|overlay\"                    tabindex=\"-1\"\\n                   aria-hidden=\"true\"\\n                   >\\n                    Body positivity image makes photo prize shortlist                </a>\\n\\n            </div>\\n\\n        </li>\\n     </ul> </div>   <div class=\"correspondent-headlines\"> <div class=\"top-list\"> <h2 class=\"top-list__heading\"><span class=\"top-list__heading__intro\">From Our </span>Correspondents</h2> <ul class=\"top-list__list\">  <li class=\"top-list-item top-list-item__1 top-list-item--avatar top-list-item--odd\"> <a class=\"top-list-item__link\" href=\"https://www.bbc.com/news/business-58321735\"   rev=\"correspondents|link\"  data-bbc-container=\"correspondent-headlines\" data-bbc-title=\"UK companies \\'perform better\\' with overseas owners\" data-bbc-source=\"Simon Jack\" data-bbc-metadata=\\'{\"CHD\": \"card::1\" }\\' >  <div class=\"top-list-item__bullet\"> <div class=\"responsive-image\"><div class=\"delayed-image-load\" data-src=\"https://ichef.bbc.co.uk/wwhp/{width}/ibroadcast/images/live/p0/50/zt/p050ztrx.jpg\" data-alt=\"\"><img src=\"data:image/gif;base64,R0lGODlhEAAJAIAAAP///wAAACH5BAEAAAAALAAAAAAQAAkAAAIKhI+py+0Po5yUFQA7\" alt=\"\" /></div></div> </div>  <h3 class=\"top-list-item__headline\"> UK companies \\'perform better\\' with overseas owners  <span class=\"top-list-item__byline\">By Simon Jack</span>  </h3> </a> </li>  <li class=\"top-list-item top-list-item__2 top-list-item--avatar top-list-item--even\"> <a class=\"top-list-item__link\" href=\"https://www.bbc.com/news/explainers-53734793\"   rev=\"correspondents|link\"  data-bbc-container=\"correspondent-headlines\" data-bbc-title=\"What happens to migrants who reach the UK?\" data-bbc-source=\"Dominic Casciani\" data-bbc-metadata=\\'{\"CHD\": \"card::2\" }\\' >  <div class=\"top-list-item__bullet\"> <div class=\"responsive-image\"><div class=\"delayed-image-load\" data-src=\"https://ichef.bbc.co.uk/wwhp/{width}/ibroadcast/images/live/p0/3q/bb/p03qbbkl.jpg\" data-alt=\"\"><img src=\"data:image/gif;base64,R0lGODlhEAAJAIAAAP///wAAACH5BAEAAAAALAAAAAAQAAkAAAIKhI+py+0Po5yUFQA7\" alt=\"\" /></div></div> </div>  <h3 class=\"top-list-item__headline\"> What happens to migrants who reach the UK?  <span class=\"top-list-item__byline\">By Dominic Casciani</span>  </h3> </a> </li>  <li class=\"top-list-item top-list-item__3 top-list-item--avatar top-list-item--odd\"> <a class=\"top-list-item__link\" href=\"https://www.bbc.com/news/science-environment-58306288\"   rev=\"correspondents|link\"  data-bbc-container=\"correspondent-headlines\" data-bbc-title=\"Talks resume on global plan to protect nature\" data-bbc-source=\"Matt McGrath\" data-bbc-metadata=\\'{\"CHD\": \"card::3\" }\\' >  <div class=\"top-list-item__bullet\"> <div class=\"responsive-image\"><div class=\"delayed-image-load\" data-src=\"https://ichef.bbc.co.uk/wwhp/{width}/ibroadcast/images/live/p0/3r/tz/p03rtz5h.jpg\" data-alt=\"\"><img src=\"data:image/gif;base64,R0lGODlhEAAJAIAAAP///wAAACH5BAEAAAAALAAAAAAQAAkAAAIKhI+py+0Po5yUFQA7\" alt=\"\" /></div></div> </div>  <h3 class=\"top-list-item__headline\"> Talks resume on global plan to protect nature  <span class=\"top-list-item__byline\">By Matt McGrath</span>  </h3> </a> </li>  <li class=\"top-list-item top-list-item__4 top-list-item--avatar top-list-item--even\"> <a class=\"top-list-item__link\" href=\"https://www.bbc.com/news/world-asia-58300386\"   rev=\"correspondents|link\"  data-bbc-container=\"correspondent-headlines\" data-bbc-title=\"With just a suitcase, Afghans leave their homeland\" data-bbc-source=\"Lyse Doucet\" data-bbc-metadata=\\'{\"CHD\": \"card::4\" }\\' >  <div class=\"top-list-item__bullet\"> <div class=\"responsive-image\"><div class=\"delayed-image-load\" data-src=\"https://ichef.bbc.co.uk/wwhp/{width}/ibroadcast/images/live/p0/2x/05/p02x05nn.jpg\" data-alt=\"\"><img src=\"data:image/gif;base64,R0lGODlhEAAJAIAAAP///wAAACH5BAEAAAAALAAAAAAQAAkAAAIKhI+py+0Po5yUFQA7\" alt=\"\" /></div></div> </div>  <h3 class=\"top-list-item__headline\"> With just a suitcase, Afghans leave their homeland  <span class=\"top-list-item__byline\">By Lyse Doucet</span>  </h3> </a> </li>  <li class=\"top-list-item top-list-item__5 top-list-item--avatar top-list-item--odd\"> <a class=\"top-list-item__link\" href=\"https://www.bbc.com/news/world-asia-58277226\"   rev=\"correspondents|link\"  data-bbc-container=\"correspondent-headlines\" data-bbc-title=\"Kamala Harris on charm offensive in South East Asia\" data-bbc-source=\"Johnathan Head\" data-bbc-metadata=\\'{\"CHD\": \"card::5\" }\\' >  <div class=\"top-list-item__bullet\"> <div class=\"responsive-image\"><div class=\"delayed-image-load\" data-src=\"https://ichef.bbc.co.uk/wwhp/{width}/ibroadcast/images/live/p0/86/2g/p0862gjj.jpg\" data-alt=\"\"><img src=\"data:image/gif;base64,R0lGODlhEAAJAIAAAP///wAAACH5BAEAAAAALAAAAAAQAAkAAAIKhI+py+0Po5yUFQA7\" alt=\"\" /></div></div> </div>  <h3 class=\"top-list-item__headline\"> Kamala Harris on charm offensive in South East Asia  <span class=\"top-list-item__byline\">By Johnathan Head</span>  </h3> </a> </li>  <li class=\"top-list-item top-list-item__6 top-list-item--avatar top-list-item--even\"> <a class=\"top-list-item__link\" href=\"https://www.bbc.com/news/world-us-canada-58300984\"   rev=\"correspondents|link\"  data-bbc-container=\"correspondent-headlines\" data-bbc-title=\"Afghanistan lays bare a not so special relationship\" data-bbc-source=\"Jon Sopel\" data-bbc-metadata=\\'{\"CHD\": \"card::6\" }\\' >  <div class=\"top-list-item__bullet\"> <div class=\"responsive-image\"><div class=\"delayed-image-load\" data-src=\"https://ichef.bbc.co.uk/wwhp/{width}/ibroadcast/images/live/p0/2x/05/p02x05s9.jpg\" data-alt=\"\"><img src=\"data:image/gif;base64,R0lGODlhEAAJAIAAAP///wAAACH5BAEAAAAALAAAAAAQAAkAAAIKhI+py+0Po5yUFQA7\" alt=\"\" /></div></div> </div>  <h3 class=\"top-list-item__headline\"> Afghanistan lays bare a not so special relationship  <span class=\"top-list-item__byline\">By Jon Sopel</span>  </h3> </a> </li>  <li class=\"top-list-item top-list-item__7 top-list-item--avatar top-list-item--odd\"> <a class=\"top-list-item__link\" href=\"https://www.bbc.com/news/science-environment-58271913\"   rev=\"correspondents|link\"  data-bbc-container=\"correspondent-headlines\" data-bbc-title=\"Baby bats babble like humans\" data-bbc-source=\"Victoria Gill\" data-bbc-metadata=\\'{\"CHD\": \"card::7\" }\\' >  <div class=\"top-list-item__bullet\"> <div class=\"responsive-image\"><div class=\"delayed-image-load\" data-src=\"https://ichef.bbc.co.uk/wwhp/{width}/ibroadcast/images/live/p0/6h/27/p06h27z1.jpg\" data-alt=\"\"><img src=\"data:image/gif;base64,R0lGODlhEAAJAIAAAP///wAAACH5BAEAAAAALAAAAAAQAAkAAAIKhI+py+0Po5yUFQA7\" alt=\"\" /></div></div> </div>  <h3 class=\"top-list-item__headline\"> Baby bats babble like humans  <span class=\"top-list-item__byline\">By Victoria Gill</span>  </h3> </a> </li>  <li class=\"top-list-item top-list-item__8 top-list-item--avatar top-list-item--even\"> <a class=\"top-list-item__link\" href=\"https://www.bbc.com/news/world-us-canada-58248864\"   rev=\"correspondents|link\"  data-bbc-container=\"correspondent-headlines\" data-bbc-title=\"The Afghan debacle\\'s impact on US allies and rivals\" data-bbc-source=\"Jonathan Marcus\" data-bbc-metadata=\\'{\"CHD\": \"card::8\" }\\' >  <div class=\"top-list-item__bullet\"> <div class=\"responsive-image\"><div class=\"delayed-image-load\" data-src=\"https://ichef.bbc.co.uk/wwhp/{width}/ibroadcast/images/live/p0/3z/3j/p03z3jp4.jpg\" data-alt=\"\"><img src=\"data:image/gif;base64,R0lGODlhEAAJAIAAAP///wAAACH5BAEAAAAALAAAAAAQAAkAAAIKhI+py+0Po5yUFQA7\" alt=\"\" /></div></div> </div>  <h3 class=\"top-list-item__headline\"> The Afghan debacle\\'s impact on US allies and rivals  <span class=\"top-list-item__byline\">By Jonathan Marcus</span>  </h3> </a> </li>  </ul> </div> </div>  </div> </div> </section>      <section class=\"module module--collapse-images module--special-features module--secondary-special-features\"> <div class=\"module__content\"> <ul class=\"features\">   <li class=\"feature feature--1\"> <div class=\"feature__wrapper\"> <h2 class=\"feature__title\"> <a class=\"feature__link\" href=\"https://www.bbc.com/news/business-11428889\"   rev=\"secondary-special-features|header\" > Technology of Business </a> </h2> <div class=\"feature__content\">     \\n        \\n            <div\\n               class=\"media media--overlay media--primary block-link\"\\n               data-bbc-container=\"secondary-special-features\"\\n               data-bbc-title=\"How to keep your cool when the office heats up\"\\n               data-bbc-source=\"Business\"\\n               data-bbc-metadata=\\'{\"CHD\": \"card::1\" }\\'\\n                              >\\n                <div class=\"media__image\">\\n                    <div class=\"responsive-image\"><div class=\"delayed-image-load\" data-src=\"https://ichef.bbc.co.uk/wwhp/{width}/cpsprodpb/1525D/production/_119712668_gettyimages-748347989.jpg\" data-alt=\"Businesswoman in office enjoying breeze from a fan - stock photo\"><img src=\"data:image/gif;base64,R0lGODlhEAAJAIAAAP///wAAACH5BAEAAAAALAAAAAAQAAkAAAIKhI+py+0Po5yUFQA7\" alt=\"Businesswoman in office enjoying breeze from a fan - stock photo\" /></div></div>                </div>\\n\\n                \\n                <div class=\"media__content\">\\n\\n                                            <h3 class=\"media__title\">\\n                            <a class=\"media__link\" href=\"https://www.bbc.com/news/business-58055140\"\\n                                      rev=\"secondary-special-features|headline\" >\\n                                                                    How to keep your cool when the office heats up                                                            </a>\\n                        </h3>\\n                    \\n                    \\n                                            <a class=\"media__tag tag tag--business\" href=\"/news/business\"\\n                                  rev=\"secondary-special-features|source\" >Business</a>\\n                    \\n                    \\n                </div>\\n\\n                <a class=\"block-link__overlay-link\"\\n                   href=\"https://www.bbc.com/news/business-58055140\"\\n                          rev=\"secondary-special-features|overlay\"                    tabindex=\"-1\"\\n                   aria-hidden=\"true\"\\n                   >\\n                    How to keep your cool when the office heats up                </a>\\n\\n            </div>\\n\\n        \\n     </div>  </div> </li>  <li class=\"feature-ad\">  <div class=\"advert advert--mpu_bottom\"><!-- BBCDOTCOM slot mpu_bottom --><div id=\"bbccom_mpu_bottom_1_2_3_4\" class=\"bbccom_slot\" aria-hidden=\"true\"><div class=\"bbccom_advert\"><script type=\"text/javascript\">/*<![CDATA[*/(function() {if (window.bbcdotcom && bbcdotcom.slotAsync) {bbcdotcom.slotAsync(\"mpu_bottom\", [1,2,3,4]);}})();/*]]>*/</script></div></div></div>  </li>   <li class=\"feature feature--2\"> <div class=\"feature__wrapper\"> <h2 class=\"feature__title\"> <a class=\"feature__link\" href=\"https://www.bbc.com/news/business-15521824\"   rev=\"secondary-special-features|header\" > New Tech Economy </a> </h2> <div class=\"feature__content\">     \\n        \\n            <div\\n               class=\"media media--overlay media--primary block-link\"\\n               data-bbc-container=\"secondary-special-features\"\\n               data-bbc-title=\"Why phone scams are so difficult to tackle\"\\n               data-bbc-source=\"Business\"\\n               data-bbc-metadata=\\'{\"CHD\": \"card::2\" }\\'\\n                              >\\n                <div class=\"media__image\">\\n                    <div class=\"responsive-image\"><div class=\"delayed-image-load\" data-src=\"https://ichef.bbc.co.uk/wwhp/{width}/cpsprodpb/1574A/production/_120028878_gettyimages-1208856090.jpg\" data-alt=\"A woman looking anxiously at her phone\"><img src=\"data:image/gif;base64,R0lGODlhEAAJAIAAAP///wAAACH5BAEAAAAALAAAAAAQAAkAAAIKhI+py+0Po5yUFQA7\" alt=\"A woman looking anxiously at her phone\" /></div></div>                </div>\\n\\n                \\n                <div class=\"media__content\">\\n\\n                                            <h3 class=\"media__title\">\\n                            <a class=\"media__link\" href=\"https://www.bbc.com/news/business-58254354\"\\n                                      rev=\"secondary-special-features|headline\" >\\n                                                                    Why phone scams are so difficult to tackle                                                            </a>\\n                        </h3>\\n                    \\n                    \\n                                            <a class=\"media__tag tag tag--business\" href=\"/news/business\"\\n                                  rev=\"secondary-special-features|source\" >Business</a>\\n                    \\n                    \\n                </div>\\n\\n                <a class=\"block-link__overlay-link\"\\n                   href=\"https://www.bbc.com/news/business-58254354\"\\n                          rev=\"secondary-special-features|overlay\"                    tabindex=\"-1\"\\n                   aria-hidden=\"true\"\\n                   >\\n                    Why phone scams are so difficult to tackle                </a>\\n\\n            </div>\\n\\n        \\n     </div>  </div> </li>  </ul> </div> </section>  <section class=\"module module--world-in-pictures module--highlight\"> <div class=\"module__title__container\"> <div class=\"module__ad\">  </div>             <h2 class=\"module__title\">\\n                            <a class=\"module__title__link tag tag--feature\" href=\"/news/in_pictures\"\\n                      rev=\"world-in-pictures|header\"                     >World in pictures</a>\\n                    </h2>\\n     </div> <div class=\"module__content\"> <ul class=\"media-list media-list--fixed-height\">         \\n        <li class=\"media-list__item media-list__item--1\">\\n            <div\\n               class=\"media media--padded media--primary media--icon block-link\"\\n               data-bbc-container=\"world-in-pictures\"\\n               data-bbc-title=\"The English Riviera during the 2021 UK staycation\"\\n               data-bbc-source=\"In Pictures\"\\n               data-bbc-metadata=\\'{\"CHD\": \"card::1\" }\\'\\n                              >\\n                <div class=\"media__image\">\\n                    <div class=\"responsive-image\"><div class=\"delayed-image-load\" data-src=\"https://ichef.bbc.co.uk/wwhp/{width}/cpsprodpb/5FB7/production/_120230542_theenglishriviera_00412.jpg\" data-alt=\"A couple eating lunch on Paignton Sands\"><img src=\"https://ichef.bbc.co.uk/wwhp/144/cpsprodpb/5FB7/production/_120230542_theenglishriviera_00412.jpg\" alt=\"A couple eating lunch on Paignton Sands\" /></div></div>                </div>\\n\\n                                    <span class=\"media__icon icon icon--gallery\" aria-hidden=\"true\"></span>\\n                \\n                <div class=\"media__content\">\\n\\n                                            <h3 class=\"media__title\">\\n                            <a class=\"media__link\" href=\"/news/in-pictures-58319665\"\\n                                      rev=\"world-in-pictures1|headline\" >\\n                                                                    The English Riviera during the 2021 UK staycation                                                            </a>\\n                        </h3>\\n                    \\n                    \\n                                            <a class=\"media__tag tag tag--in-pictures\" href=\"/news/in_pictures\"\\n                                  rev=\"world-in-pictures1|source\" >In Pictures</a>\\n                    \\n                    \\n                </div>\\n\\n                <a class=\"block-link__overlay-link\"\\n                   href=\"/news/in-pictures-58319665\"\\n                          rev=\"world-in-pictures1|overlay\"                    tabindex=\"-1\"\\n                   aria-hidden=\"true\"\\n                   >\\n                    The English Riviera during the 2021 UK staycation                </a>\\n\\n            </div>\\n\\n        </li>\\n        \\n        <li class=\"media-list__item media-list__item--2\">\\n            <div\\n               class=\"media media--padded media--icon block-link\"\\n               data-bbc-container=\"world-in-pictures\"\\n               data-bbc-title=\"In pictures: Rolling Stones drummer Charlie Watts\"\\n               data-bbc-source=\"Entertainment &amp; Arts\"\\n               data-bbc-metadata=\\'{\"CHD\": \"card::2\" }\\'\\n                              >\\n                <div class=\"media__image\">\\n                    <div class=\"responsive-image\"><div class=\"delayed-image-load\" data-src=\"https://ichef.bbc.co.uk/wwhp/{width}/cpsprodpb/CBC3/production/_120236125_gettyimages-172602641-1.jpg\" data-alt=\"The Rolling Stones at Glastonbury\"><img src=\"https://ichef.bbc.co.uk/wwhp/144/cpsprodpb/CBC3/production/_120236125_gettyimages-172602641-1.jpg\" alt=\"The Rolling Stones at Glastonbury\" /></div></div>                </div>\\n\\n                                    <span class=\"media__icon icon icon--gallery\" aria-hidden=\"true\"></span>\\n                \\n                <div class=\"media__content\">\\n\\n                                            <h3 class=\"media__title\">\\n                            <a class=\"media__link\" href=\"/news/entertainment-arts-58323305\"\\n                                      rev=\"world-in-pictures2|headline\" >\\n                                                                    In pictures: Rolling Stones drummer Charlie Watts                                                            </a>\\n                        </h3>\\n                    \\n                    \\n                                            <a class=\"media__tag tag tag--in-pictures\" href=\"/news/entertainment_and_arts\"\\n                                  rev=\"world-in-pictures2|source\" >Entertainment &amp; Arts</a>\\n                    \\n                    \\n                </div>\\n\\n                <a class=\"block-link__overlay-link\"\\n                   href=\"/news/entertainment-arts-58323305\"\\n                          rev=\"world-in-pictures2|overlay\"                    tabindex=\"-1\"\\n                   aria-hidden=\"true\"\\n                   >\\n                    In pictures: Rolling Stones drummer Charlie Watts                </a>\\n\\n            </div>\\n\\n        </li>\\n        \\n        <li class=\"media-list__item media-list__item--3\">\\n            <div\\n               class=\"media media--padded media--icon block-link\"\\n               data-bbc-container=\"world-in-pictures\"\\n               data-bbc-title=\"Final photos for crime author\\'s prize revealed\"\\n               data-bbc-source=\"Tyne &amp; Wear\"\\n               data-bbc-metadata=\\'{\"CHD\": \"card::3\" }\\'\\n                              >\\n                <div class=\"media__image\">\\n                    <div class=\"responsive-image\"><div class=\"delayed-image-load\" data-src=\"https://ichef.bbc.co.uk/wwhp/{width}/cpsprodpb/A9CD/production/_120196434_davidcoserdisciple.jpg\" data-alt=\"Black and white image of bearded man with fur lined hood up\"><img src=\"https://ichef.bbc.co.uk/wwhp/144/cpsprodpb/A9CD/production/_120196434_davidcoserdisciple.jpg\" alt=\"Black and white image of bearded man with fur lined hood up\" /></div></div>                </div>\\n\\n                                    <span class=\"media__icon icon icon--gallery\" aria-hidden=\"true\"></span>\\n                \\n                <div class=\"media__content\">\\n\\n                                            <h3 class=\"media__title\">\\n                            <a class=\"media__link\" href=\"/news/uk-england-tyne-58291532\"\\n                                      rev=\"world-in-pictures3|headline\" >\\n                                                                    Final photos for crime author\\'s prize revealed                                                            </a>\\n                        </h3>\\n                    \\n                    \\n                                            <a class=\"media__tag tag tag--in-pictures\" href=\"/news/england/tyne_and_wear\"\\n                                  rev=\"world-in-pictures3|source\" >Tyne &amp; Wear</a>\\n                    \\n                    \\n                </div>\\n\\n                <a class=\"block-link__overlay-link\"\\n                   href=\"/news/uk-england-tyne-58291532\"\\n                          rev=\"world-in-pictures3|overlay\"                    tabindex=\"-1\"\\n                   aria-hidden=\"true\"\\n                   >\\n                    Final photos for crime author\\'s prize revealed                </a>\\n\\n            </div>\\n\\n        </li>\\n        \\n        <li class=\"media-list__item media-list__item--4\">\\n            <div\\n               class=\"media media--padded media--icon block-link\"\\n               data-bbc-container=\"world-in-pictures\"\\n               data-bbc-title=\"Search on to find people and places in old photos\"\\n               data-bbc-source=\"Leeds &amp; West Yorkshire\"\\n               data-bbc-metadata=\\'{\"CHD\": \"card::4\" }\\'\\n                              >\\n                <div class=\"media__image\">\\n                    <div class=\"responsive-image\"><div class=\"delayed-image-load\" data-src=\"https://ichef.bbc.co.uk/wwhp/{width}/cpsprodpb/16C91/production/_120092339_hepworthsltdstaffwiththe1974footballleaguetrophy.jpg\" data-alt=\"Hepworths staff with Football League Trophy 1974\"><img src=\"https://ichef.bbc.co.uk/wwhp/144/cpsprodpb/16C91/production/_120092339_hepworthsltdstaffwiththe1974footballleaguetrophy.jpg\" alt=\"Hepworths staff with Football League Trophy 1974\" /></div></div>                </div>\\n\\n                                    <span class=\"media__icon icon icon--gallery\" aria-hidden=\"true\"></span>\\n                \\n                <div class=\"media__content\">\\n\\n                                            <h3 class=\"media__title\">\\n                            <a class=\"media__link\" href=\"/news/uk-england-leeds-58280481\"\\n                                      rev=\"world-in-pictures4|headline\" >\\n                                                                    Search on to find people and places in old photos                                                            </a>\\n                        </h3>\\n                    \\n                    \\n                                            <a class=\"media__tag tag tag--in-pictures\" href=\"/news/england/leeds_and_west_yorkshire\"\\n                                  rev=\"world-in-pictures4|source\" >Leeds &amp; West Yorkshire</a>\\n                    \\n                    \\n                </div>\\n\\n                <a class=\"block-link__overlay-link\"\\n                   href=\"/news/uk-england-leeds-58280481\"\\n                          rev=\"world-in-pictures4|overlay\"                    tabindex=\"-1\"\\n                   aria-hidden=\"true\"\\n                   >\\n                    Search on to find people and places in old photos                </a>\\n\\n            </div>\\n\\n        </li>\\n        \\n        <li class=\"media-list__item media-list__item--5\">\\n            <div\\n               class=\"media media--padded media--icon block-link\"\\n               data-bbc-container=\"world-in-pictures\"\\n               data-bbc-title=\"Africa\\'s top shots: Ninjas, wildfires and drums\"\\n               data-bbc-source=\"Africa\"\\n               data-bbc-metadata=\\'{\"CHD\": \"card::5\" }\\'\\n                              >\\n                <div class=\"media__image\">\\n                    <div class=\"responsive-image\"><div class=\"delayed-image-load\" data-src=\"https://ichef.bbc.co.uk/wwhp/{width}/cpsprodpb/14304/production/_120029628_hi069448619-1.jpg\" data-alt=\"Abdel Qader Ahmed, a self-taught ninja enthusiast known as Abouda Ninja, holds a sword he made himself, at a field in the Sharqia Governorate, north of Cairo, Egypt August 13, 2021.\"><img src=\"https://ichef.bbc.co.uk/wwhp/144/cpsprodpb/14304/production/_120029628_hi069448619-1.jpg\" alt=\"Abdel Qader Ahmed, a self-taught ninja enthusiast known as Abouda Ninja, holds a sword he made himself, at a field in the Sharqia Governorate, north of Cairo, Egypt August 13, 2021.\" /></div></div>                </div>\\n\\n                                    <span class=\"media__icon icon icon--gallery\" aria-hidden=\"true\"></span>\\n                \\n                <div class=\"media__content\">\\n\\n                                            <h3 class=\"media__title\">\\n                            <a class=\"media__link\" href=\"/news/world-africa-58267380\"\\n                                      rev=\"world-in-pictures5|headline\" >\\n                                                                    Africa\\'s top shots: Ninjas, wildfires and drums                                                            </a>\\n                        </h3>\\n                    \\n                    \\n                                            <a class=\"media__tag tag tag--in-pictures\" href=\"/news/world/africa\"\\n                                  rev=\"world-in-pictures5|source\" >Africa</a>\\n                    \\n                    \\n                </div>\\n\\n                <a class=\"block-link__overlay-link\"\\n                   href=\"/news/world-africa-58267380\"\\n                          rev=\"world-in-pictures5|overlay\"                    tabindex=\"-1\"\\n                   aria-hidden=\"true\"\\n                   >\\n                    Africa\\'s top shots: Ninjas, wildfires and drums                </a>\\n\\n            </div>\\n\\n        </li>\\n     </ul> </div> </section>       <section class=\"module module--highlight module--languages\">             <h2 class=\"module__title\">\\n                            <a class=\"module__title__link\" href=\"/worldserviceradio\"\\n                      rev=\"languages|header\"                     >BBC in other languages</a>\\n                    </h2>\\n     <div class=\"module__content\"> <div class=\"ws\">  <div class=\"ws-headlines\"> <ul class=\"ws-headlines__list\">  <li class=\"ws-headline ws-headline--urdu\"> <h3 class=\"ws-headline__language\"> <a class=\"ws-headline__language-link\" title=\"Urdu\" href=\"/urdu/\"   rev=\"languages|link\" > Urdu </a> </h3> <p class=\"ws-headline__title\" dir=\"rtl\"> <a class=\"ws-headline__title-link\" title=\"خطرے کے باوجود کابل ایئرپورٹ پر ہجوم، براستہ چمن پاکستان میں افغان شہریوں کی آمد میں تیزی\" href=\"/urdu/live/regional-58301643\"   rev=\"languages|headline\" > خطرے کے باوجود کابل ایئرپورٹ پر ہجوم، براستہ چمن پاکستان میں افغان شہریوں کی آمد میں تیزی </a> </p> </li>  <li class=\"ws-headline ws-headline--vietnamese\"> <h3 class=\"ws-headline__language\"> <a class=\"ws-headline__language-link\" title=\"Vietnamese\" href=\"/vietnamese/\"   rev=\"languages|link\" > Vietnamese </a> </h3> <p class=\"ws-headline__title\" dir=\"ltr\"> <a class=\"ws-headline__title-link\" title=\"Việt Nam qua ba chuyến thăm của các phó tổng thống Mỹ\" href=\"/vietnamese/forum-58341442\"   rev=\"languages|headline\" > Việt Nam qua ba chuyến thăm của các phó tổng thống Mỹ </a> </p> </li>  <li class=\"ws-headline ws-headline--indonesian\"> <h3 class=\"ws-headline__language\"> <a class=\"ws-headline__language-link\" title=\"Indonesian\" href=\"/indonesia/\"   rev=\"languages|link\" > Indonesian </a> </h3> <p class=\"ws-headline__title\" dir=\"ltr\"> <a class=\"ws-headline__title-link\" title=\"Afghanistan, \\'Kuburan Para Penguasa\\', berhasil lepas dari invasi kekuatan terbesar dunia selama 180 tahun\" href=\"/indonesia/dunia-58322074\"   rev=\"languages|headline\" > Afghanistan, \\'Kuburan Para Penguasa\\', berhasil lepas dari invasi kekuatan terbesar dunia selama 180 tahun </a> </p> </li>  <li class=\"ws-headline ws-headline--japanese\"> <h3 class=\"ws-headline__language\"> <a class=\"ws-headline__language-link\" title=\"Japanese\" href=\"/japanese/\"   rev=\"languages|link\" > Japanese </a> </h3> <p class=\"ws-headline__title\" dir=\"ltr\"> <a class=\"ws-headline__title-link\" title=\"日本でモデルナワクチン163万回分の接種を見合わせ\\u3000異物混入の報告\" href=\"/japanese/58338394\"   rev=\"languages|headline\" > 日本でモデルナワクチン163万回分の接種を見合わせ\\u3000異物混入の報告 </a> </p> </li>  </ul> </div>   <div class=\"ws-languages\"> <h2 class=\"ws-languages__title\"> <a href=\"/ws/languages\" class=\"ws-languages__link\"   rev=\"languages|header\" > More Languages </a> </h2> <ul class=\"ws-languages__list\">  <li class=\"ws-language ws-language--ar\"> <a class=\"ws-language__link\" href=\"/arabic/\" title=\"Arabic service\"   rev=\"languages|link\" > <span class=\"ws-language__english\">Arabic</span> <span class=\"ws-language__native\"> عربي </span> </a> </li>  <li class=\"ws-language ws-language--as\"> <a class=\"ws-language__link\" href=\"/azeri/\" title=\"Azeri service\"   rev=\"languages|link\" > <span class=\"ws-language__english\">Azeri</span> <span class=\"ws-language__native\"> AZƏRBAYCAN </span> </a> </li>  <li class=\"ws-language ws-language--bn\"> <a class=\"ws-language__link\" href=\"/bengali/\" title=\"Bangla service\"   rev=\"languages|link\" > <span class=\"ws-language__english\">Bangla</span> <span class=\"ws-language__native\"> বাংলা </span> </a> </li>  <li class=\"ws-language ws-language--my\"> <a class=\"ws-language__link\" href=\"/burmese/\" title=\"Burmese service\"   rev=\"languages|link\" > <span class=\"ws-language__english\">Burmese</span> <span class=\"ws-language__native\"> မြန်မာ </span> </a> </li>  <li class=\"ws-language ws-language--zh\"> <a class=\"ws-language__link\" href=\"/zhongwen/simp/\" title=\"Chinese service\"   rev=\"languages|link\" > <span class=\"ws-language__english\">Chinese</span> <span class=\"ws-language__native\"> 中文网 </span> </a> </li>  <li class=\"ws-language ws-language--fr\"> <a class=\"ws-language__link\" href=\"/afrique/\" title=\"French (for Africa) service\"   rev=\"languages|link\" > <span class=\"ws-language__english\">French</span> <span class=\"ws-language__native\"> AFRIQUE </span> </a> </li>  <li class=\"ws-language ws-language--ha\"> <a class=\"ws-language__link\" href=\"/hausa/\" title=\"Hausa service\"   rev=\"languages|link\" > <span class=\"ws-language__english\">Hausa</span> <span class=\"ws-language__native\"> HAUSA </span> </a> </li>  <li class=\"ws-language ws-language--hi\"> <a class=\"ws-language__link\" href=\"/hindi/\" title=\"Hindi service\"   rev=\"languages|link\" > <span class=\"ws-language__english\">Hindi</span> <span class=\"ws-language__native\"> हिन्दी </span> </a> </li>  <li class=\"ws-language ws-language--id\"> <a class=\"ws-language__link\" href=\"/indonesia/\" title=\"Indonesian service\"   rev=\"languages|link\" > <span class=\"ws-language__english\">Indonesian</span> <span class=\"ws-language__native\"> INDONESIA </span> </a> </li>  <li class=\"ws-language ws-language--jp\"> <a class=\"ws-language__link\" href=\"/japanese/\" title=\"Japanese service\"   rev=\"languages|link\" > <span class=\"ws-language__english\">Japanese</span> <span class=\"ws-language__native\"> 日本語 </span> </a> </li>  <li class=\"ws-language ws-language--rw\"> <a class=\"ws-language__link\" href=\"/gahuza/\" title=\"Kirundi service\"   rev=\"languages|link\" > <span class=\"ws-language__english\">Kinyarwanda</span> <span class=\"ws-language__native\"> GAHUZA </span> </a> </li>  <li class=\"ws-language ws-language--rn\"> <a class=\"ws-language__link\" href=\"/gahuza/\" title=\"Kirundi service\"   rev=\"languages|link\" > <span class=\"ws-language__english\">Kirundi</span> <span class=\"ws-language__native\"> KIRUNDI </span> </a> </li>  <li class=\"ws-language ws-language--ky\"> <a class=\"ws-language__link\" href=\"/kyrgyz/\" title=\"Kyrgyz service\"   rev=\"languages|link\" > <span class=\"ws-language__english\">Kyrgyz</span> <span class=\"ws-language__native\"> Кыргыз </span> </a> </li>  <li class=\"ws-language ws-language--mr\"> <a class=\"ws-language__link\" href=\"/marathi/\" title=\"Marathi service\"   rev=\"languages|link\" > <span class=\"ws-language__english\">Marathi</span> <span class=\"ws-language__native\"> मराठी </span> </a> </li>  <li class=\"ws-language ws-language--ne\"> <a class=\"ws-language__link\" href=\"/nepali/\" title=\"Nepali service\"   rev=\"languages|link\" > <span class=\"ws-language__english\">Nepali</span> <span class=\"ws-language__native\"> नेपाली </span> </a> </li>  <li class=\"ws-language ws-language--ps\"> <a class=\"ws-language__link\" href=\"/pashto/\" title=\"Pashto service\"   rev=\"languages|link\" > <span class=\"ws-language__english\">Pashto</span> <span class=\"ws-language__native\"> پښتو </span> </a> </li>  <li class=\"ws-language ws-language--fa\"> <a class=\"ws-language__link\" href=\"/persian/\" title=\"Persian service\"   rev=\"languages|link\" > <span class=\"ws-language__english\">Persian</span> <span class=\"ws-language__native\"> فارسی </span> </a> </li>  <li class=\"ws-language ws-language--pt-BR\"> <a class=\"ws-language__link\" href=\"/portuguese/\" title=\"Portuguese (for Brazil) service\"   rev=\"languages|link\" > <span class=\"ws-language__english\">Portuguese</span> <span class=\"ws-language__native\"> BRASIL </span> </a> </li>  <li class=\"ws-language ws-language--ru\"> <a class=\"ws-language__link\" href=\"/russian/\" title=\"Russian service\"   rev=\"languages|link\" > <span class=\"ws-language__english\">Russian</span> <span class=\"ws-language__native\"> НА РУССКОМ </span> </a> </li>  <li class=\"ws-language ws-language--si\"> <a class=\"ws-language__link\" href=\"/sinhala/\" title=\"Sinhala service\"   rev=\"languages|link\" > <span class=\"ws-language__english\">Sinhala</span> <span class=\"ws-language__native\"> සිංහල </span> </a> </li>  <li class=\"ws-language ws-language--so\"> <a class=\"ws-language__link\" href=\"/somali/\" title=\"Somali service\"   rev=\"languages|link\" > <span class=\"ws-language__english\">Somali</span> <span class=\"ws-language__native\"> SOMALI </span> </a> </li>  <li class=\"ws-language ws-language--es\"> <a class=\"ws-language__link\" href=\"/mundo/\" title=\"Spanish service\"   rev=\"languages|link\" > <span class=\"ws-language__english\">Spanish</span> <span class=\"ws-language__native\"> MUNDO </span> </a> </li>  <li class=\"ws-language ws-language--sw\"> <a class=\"ws-language__link\" href=\"/swahili/\" title=\"Swahili service\"   rev=\"languages|link\" > <span class=\"ws-language__english\">Swahili</span> <span class=\"ws-language__native\"> SWAHILI </span> </a> </li>  <li class=\"ws-language ws-language--ta\"> <a class=\"ws-language__link\" href=\"/tamil/\" title=\"Tamil service\"   rev=\"languages|link\" > <span class=\"ws-language__english\">Tamil</span> <span class=\"ws-language__native\"> தமிழ் </span> </a> </li>  <li class=\"ws-language ws-language--tr\"> <a class=\"ws-language__link\" href=\"/turkce/\" title=\"Turkish service\"   rev=\"languages|link\" > <span class=\"ws-language__english\">Turkish</span> <span class=\"ws-language__native\"> TÜRKÇE </span> </a> </li>  <li class=\"ws-language ws-language--uk\"> <a class=\"ws-language__link\" href=\"/ukrainian/\" title=\"Ukrainian service\"   rev=\"languages|link\" > <span class=\"ws-language__english\">Ukrainian</span> <span class=\"ws-language__native\"> УКРАЇНСЬКA </span> </a> </li>  <li class=\"ws-language ws-language--ur\"> <a class=\"ws-language__link\" href=\"/urdu/\" title=\"Urdu service\"   rev=\"languages|link\" > <span class=\"ws-language__english\">Urdu</span> <span class=\"ws-language__native\"> اردو </span> </a> </li>  <li class=\"ws-language ws-language--uz\"> <a class=\"ws-language__link\" href=\"/uzbek/\" title=\"Uzbek service\"   rev=\"languages|link\" > <span class=\"ws-language__english\">Uzbek</span> <span class=\"ws-language__native\"> O\\'ZBEK </span> </a> </li>  <li class=\"ws-language ws-language--vi\"> <a class=\"ws-language__link\" href=\"/vietnamese/\" title=\"Vietnamese service\"   rev=\"languages|link\" > <span class=\"ws-language__english\">Vietnamese</span> <span class=\"ws-language__native\"> TIẾNG VIỆT </span> </a> </li>  </ul> </div>  </div> </div> </section>         </div>\\n\\n        <!-- BBCCOM-9606: add bbc select to nav in US/CA -->\\n                    <script type=\"text/javascript\">\\n                (function(){\\n                    function updateNavBar(){\\n                        var navEl = document.createElement(\"li\"),\\n                            aEl = document.createElement(\"a\"),\\n                            orbNav = document.querySelectorAll(\".orb-panel-content ul\")[0],\\n                            orbNavWeather = document.querySelectorAll(\".orb-panel-content .orb-nav-weather\")[0];\\n                        navEl.setAttribute(\"class\", \"orb-nav-bbcselect orb-nav-hide\");\\n                        aEl.setAttribute(\"href\", \"https://www.bbcselect.com\");\\n                        aEl.innerHTML = \"BBC Select\";\\n                        navEl.appendChild(aEl);\\n                        try {\\n                            if(typeof orbNav !== \"undefined\" && typeof orbNavWeather !== \"undefined\") {\\n                                orbNav.insertBefore(navEl, orbNavWeather);\\n                                if (window.bbcuser && window.bbcuser.getCountry && typeof (window.bbcuser.getCountry) === \\'function\\') {\\n                                    window.bbcuser.getCountry().then(function (countryCode) {\\n                                        var isValid = countryCode && [\\'US\\', \\'CA\\'].indexOf(countryCode.toUpperCase()) !== -1;\\n                                        /*if no countryCode return, we default to the edition css to show-hide */\\n                                        if (countryCode && !isValid) {\\n                                            document.getElementsByClassName(\\'orb-nav-bbcselect\\')[0].remove();\\n                                        }\\n                                        if (countryCode && countryCode.toUpperCase() === \\'CA\\') {\\n                                            aEl.setAttribute(\"href\", \"https://www.bbcselect.com/ca/\")\\n                                        }\\n                                    });\\n                                }\\n                                clearInterval(window.isNavBarReadyInterval);\\n                            }\\n                        } catch(e) {}\\n                    }\\n\\n                    window.isNavBarReadyInterval = setInterval(updateNavBar, 500);\\n                    setTimeout(function (){\\n                        clearInterval(window.isNavBarReadyInterval);\\n                    }, 5000);\\n                })();\\n            </script>\\n        \\n                    <script type=\"text/javascript\">\\n                (function(){\\n                    function loadChartbeat() {\\n                        window._sf_endpt=(new Date()).getTime();\\n                        var e = document.createElement(\"script\");\\n                        e.setAttribute(\"language\", \"javascript\");\\n                        e.setAttribute(\"type\", \"text/javascript\");\\n                        e.setAttribute(\\'src\\', \\'//static.chartbeat.com/js/chartbeat.js\\');\\n                        document.body.appendChild(e);\\n                    }\\n                    var oldonload = window.onload;\\n                    window.onload = (typeof window.onload != \"function\") ? loadChartbeat : function() { oldonload(); loadChartbeat(); };\\n                }());\\n            </script>\\n        \\n        </div>\\n<script id=\"orb-js-script\" data-assetpath=\"https://static.files.bbci.co.uk/orbit/ebd948b6090504d3f9a74b26eaba3e9e//\" src=\"https://static.files.bbci.co.uk/orbit/ebd948b6090504d3f9a74b26eaba3e9e//js/orb.min.js\"></script><div id=\"orb-footer\" class=\"orb-footer\" dir=\"ltr\"> <div id=\"navp-orb-footer-promo\"></div><script type=\"text/javascript\">/*<![CDATA[*/\\n       require([\\'orb/nav\\'], function(nav) {\\n         window.bbcuser.isUKCombined().then(function(isUK) {\\n           if (isUK) {\\n             nav.loadJs(\\'https://static.files.bbci.co.uk/orbit/ebd948b6090504d3f9a74b26eaba3e9e//js/edr.min.js\\');\\n           }\\n         });\\n       });\\n       /*]]>*/</script> <aside role=\"complementary\"><div id=\"orb-aside\" class=\"orb-nav-sec b-r b-g-p\"><div class=\"orb-footer-inner\" role=\"navigation\" aria-label=\"BBC\"><h2 class=\"orb-footer-lead\">Explore the BBC</h2><div class=\"orb-footer-primary-links\"><ul><li class=\"orb-nav-home\"><a href=\"https://www.bbc.co.uk\">Home</a></li><li class=\"orb-nav-news\"><a href=\"https://www.bbc.co.uk/news\">News</a></li><li class=\"orb-nav-sport\"><a href=\"https://www.bbc.co.uk/sport\">Sport</a></li><li class=\"orb-nav-weather\"><a href=\"https://www.bbc.co.uk/weather\">Weather</a></li><li class=\"orb-nav-iplayer\"><a href=\"https://www.bbc.co.uk/iplayer\">iPlayer</a></li><li class=\"orb-nav-sounds\"><a href=\"https://www.bbc.co.uk/sounds\">Sounds</a></li><li class=\"orb-nav-cbbc\"><a href=\"https://www.bbc.co.uk/cbbc\">CBBC</a></li><li class=\"orb-nav-cbeebies\"><a href=\"https://www.bbc.co.uk/cbeebies\">CBeebies</a></li><li class=\"orb-nav-food\"><a href=\"https://www.bbc.co.uk/food\">Food</a></li><li class=\"orb-nav-bitesize\"><a href=\"https://www.bbc.co.uk/bitesize\">Bitesize</a></li><li class=\"orb-nav-arts\"><a href=\"https://www.bbc.co.uk/arts\">Arts</a></li><li class=\"orb-nav-taster\"><a href=\"https://www.bbc.co.uk/taster\">Taster</a></li><li class=\"orb-nav-local\"><a href=\"https://www.bbc.co.uk/news/localnews\">Local</a></li><li class=\"orb-nav-three\"><a href=\"https://www.bbc.co.uk/bbcthree\">Three</a></li></ul></div></div></div></aside><footer role=\"contentinfo\"><div id=\"orb-contentinfo\" class=\"orb-nav-sec b-r b-g-p\"><script>window.orb.worldwideFooterlinks = \\'<li class=\"orb-footer-ads\"><a href=\"https://www.bbcglobalnews.com/\">Advertise with us<\\' + \\'/a><\\' + \\'/li><li class=\"orb-footer-adchoices\"><a href=\"https://www.bbc.com/usingthebbc/cookies/how-does-the-bbc-use-cookies-for-advertising/\">AdChoices / Do Not Sell My Info<\\' + \\'/a><\\' + \\'/li>\\';</script><div class=\"orb-footer-inner\"><div><ul><li class=\"orb-footer-terms\"><a href=\"https://www.bbc.co.uk/usingthebbc/terms/\">Terms of Use</a></li><li class=\"orb-footer-about\"><a href=\"https://www.bbc.co.uk/aboutthebbc\">About the BBC</a></li><li class=\"orb-footer-privacy\"><a href=\"https://www.bbc.co.uk/usingthebbc/privacy/\">Privacy Policy</a></li><li class=\"orb-footer-cookies\"><a href=\"https://www.bbc.co.uk/usingthebbc/cookies/\">Cookies</a></li><li class=\"orb-footer-accessibility\"><a href=\"https://www.bbc.co.uk/accessibility/\">Accessibility Help</a></li><li class=\"orb-footer-parental\"><a href=\"https://www.bbc.co.uk/guidance\">Parental Guidance</a></li><li class=\"orb-footer-contact\"><a href=\"https://www.bbc.co.uk/contact\">Contact the BBC</a></li><li class=\"orb-footer-newsletter\"><a href=\"https://www.bbc.co.uk/bbcnewsletter\">Get Personalised Newsletters</a></li></ul><small><em class=\"orb-hilight\">Copyright &copy; 2021 BBC.</em> The BBC is not responsible for the content of external sites. <span class=\"orb-footer-links\"><a href=\"https://www.bbc.co.uk/editorialguidelines/guidance/feeds-and-links\" class=\"orb-hilight\">Read about our approach to external linking.</a></span></small></div></div></div></footer></div><script src=\"https://static.files.bbci.co.uk/orbit/ebd948b6090504d3f9a74b26eaba3e9e//js/font.bundle.js\"></script><script type=\"text/javascript\" src=\"https://static.files.bbci.co.uk/orbit/ebd948b6090504d3f9a74b26eaba3e9e//js/redirect.bundle.js\"></script>  <script type=\"text/javascript\">require.config({\\n            paths: {\\n                \"mybbc/templates\": \\'//mybbc.files.bbci.co.uk/notification-ui/4.3.7/templates\\',\\n                \"mybbc/notifications\": \\'//mybbc.files.bbci.co.uk/notification-ui/4.3.7/js\\'\\n            }\\n        });\\n\\n        require([\\'mybbc/notifications/NotificationsMain\\', \\'idcta/idcta-1\\'], function (NotificationsMain, idcta) {\\n\\n            var loadNotifications = function (isUK) {\\n                if (isUK) {\\n                    window.bbcpage.loadCSS(\\'//mybbc.files.bbci.co.uk/notification-ui/4.3.7/css/main.min.css\\').then(function() {\\n                        NotificationsMain.run(idcta, \\'//mybbc.files.bbci.co.uk/notification-ui/4.3.7/\\');\\n                    });\\n                }\\n            };\\n            \\n            window.bbcuser.isUKCombined().then(function(isUK) {\\n                loadNotifications(isUK);\\n            });\\n        });</script>     <script type=\"module\">if (window.bbcuser && window.bbcuser.isUKCombined) {\\n        bbcuser.isUKCombined().then(function (isUK) {\\n            if (isUK) {\\n                const isOrbUx = !!document.querySelector(\\'.orb-nav-pri-container\\');\\n                if (isOrbUx) {\\n                    const script = document.createElement(\\'script\\');\\n                    script.src = \\'https://nav.files.bbci.co.uk/searchbox/ef054f5549cdb02f4468fd830264e4c7//js/old-search-suggest.js\\';\\n                    script.async = true;\\n                    script.setAttribute(\\'data-static-prefix\\', \\'https://nav.files.bbci.co.uk/searchbox/ef054f5549cdb02f4468fd830264e4c7/\\');\\n                    script.setAttribute(\\'data-variant\\', \\'default\\');\\n                    document.head.appendChild(script);\\n                } else {\\n                    import(\\'https://nav.files.bbci.co.uk/searchbox/ef054f5549cdb02f4468fd830264e4c7//js/search-suggest.js\\').then(drawer => {\\n                        drawer.default().run({\\n                            searchboxAppStaticPrefix: \\'https://nav.files.bbci.co.uk/searchbox/ef054f5549cdb02f4468fd830264e4c7/\\',\\n                            variant: \\'default\\',\\n                        });\\n                    });\\n                }\\n            }\\n        });\\n    }</script>     <script type=\"text/javascript\" src=\"https://nav.files.bbci.co.uk/navpromo/3c09a7995f4fbdcbb6ae65394d122b0c/js/footerpromo.js\" data-base=\"https://navpromo.api.bbci.co.uk\" data-variant=\"\" async=\"\"></script>    <script type=\"text/javascript\">window.COOKIES_STATIC_HOST=\"https://static.files.bbci.co.uk/cookies/5fd5880410e68d69e119dc73567d206e/cookie-banner/cookie-prompt/\"</script><script src=\"https://static.files.bbci.co.uk/cookies/5fd5880410e68d69e119dc73567d206e/cookie-banner/cookie-banners.bundle.js\" async=\"\"></script>  <script src=\"https://nav.files.bbci.co.uk//user-activity-helper/7f7e3cfe8ed2cbcec7e57473d0ed5809/js/detectview.bundle.js\" async=\"\"></script><script type=\"text/javascript\">\"use strict\";window.__reverb.__reverbLoadedPromise.then(function(e){return e.initialise().then(function(){return e.viewEvent()})},function(){console.log(\"Failed to load reverb. No event sent\")});</script><noscript><img src=\"https://sb.scorecardresearch.com/p?c1=2&c2=17986528&cs_ucfr=0&cv=2.0&cj=1\"></noscript><script type=\"text/javascript\" src=\"https://static.files.bbci.co.uk/orbit/ebd948b6090504d3f9a74b26eaba3e9e//js/performance.bundle.js\" data-release=\"3.0.0-1561.bbeb788c\" async=\"\"></script>     </body>\\n</html>\\n\\n\\n\\n\\n\\n\\n\\n\\n\\n\\n\\n\\n\\n\\n\\n\\n\\n\\n\\n\\n\\n\\n '"
      ]
     },
     "execution_count": 83,
     "metadata": {},
     "output_type": "execute_result"
    }
   ],
   "source": [
    "result.text"
   ]
  },
  {
   "cell_type": "code",
   "execution_count": 84,
   "id": "bce92388",
   "metadata": {},
   "outputs": [],
   "source": [
    "import bs4"
   ]
  },
  {
   "cell_type": "code",
   "execution_count": 85,
   "id": "dd0ffd9b",
   "metadata": {},
   "outputs": [],
   "source": [
    "soup = bs4.BeautifulSoup(result.text,\"lxml\")"
   ]
  },
  {
   "cell_type": "code",
   "execution_count": 86,
   "id": "0431f23e",
   "metadata": {},
   "outputs": [
    {
     "data": {
      "text/plain": [
       "<!DOCTYPE html>\n",
       "<html class=\"b-header--black--white b-pw-1280 b-reith-sans-font\">\n",
       "<head>\n",
       "<meta content=\"text/html; charset=utf-8\" http-equiv=\"Content-Type\"/>\n",
       "<meta content=\"Breaking news, sport, TV, radio and a whole lot more.\n",
       "        The BBC informs, educates and entertains - wherever you are, whatever your age.\" name=\"description\"/>\n",
       "<meta content=\"BBC, bbc.co.uk, bbc.com, Search, British Broadcasting Corporation, BBC iPlayer, BBCi\" name=\"keywords\"/>\n",
       "<title>BBC - Homepage</title>\n",
       "<script>\n",
       "            window.orb_fig_blocking = true;\n",
       "            window.bbcredirection = {geo: true};\n",
       "        </script>\n",
       "<!-- WWHPv: 20210621-1346-9144af9173f4d0c427a321d53978bb7d2ed2652e -->\n",
       "<!-- Webapp: WWHP international homepage -->\n",
       "<meta content=\"228735667216\" property=\"fb:page_id\"/>\n",
       "<meta content=\"297814326937641\" property=\"fb:admins\"/>\n",
       "<meta content=\"187214818032936\" property=\"fb:app_id\"/>\n",
       "<meta content=\"BBC - Homepage\" property=\"og:title\"/>\n",
       "<meta content=\"website\" property=\"og:type\"/>\n",
       "<meta content=\"https://www.bbc.com/\" property=\"og:url\"/>\n",
       "<meta content=\"A09EF0BF1FC5CDBB37D921CBC3776943\" name=\"msvalidate.01\"/>\n",
       "<meta content=\"asia\" property=\"wwhp-edition\"/>\n",
       "<meta content=\"width=device-width, initial-scale=1.0\" name=\"viewport\"/>\n",
       "<!-- Start Facebook Instant Articles Ownership Verification -->\n",
       "<meta content=\"228735667216\" property=\"fb:pages\"/>\n",
       "<!-- End Facebook Instant Articles Ownership Verification -->\n",
       "<link href=\"https://gn-web-assets.api.bbc.com/wwhp/20210621-1346-9144af9173f4d0c427a321d53978bb7d2ed2652e/responsive/img/apple-touch/apple-touch-180.jpg\" rel=\"apple-touch-icon\"/>\n",
       "<script src=\"https://static.files.bbci.co.uk/orbit/ebd948b6090504d3f9a74b26eaba3e9e//js/require.min.js\"></script>\n",
       "<link href=\"https://static.files.bbci.co.uk/orbit/ebd948b6090504d3f9a74b26eaba3e9e//css/orb-ltr.min.css\" rel=\"stylesheet\"/>\n",
       "<!-- Orbit: 3.0.0-1561.bbeb788c -->\n",
       "<!-- Environment: live -->\n",
       "<meta content=\"width=device-width, initial-scale=1.0\" name=\"viewport\"/>\n",
       "<script>\n",
       "    // nav-orbit-pollyfills\n",
       "    // Promise polyfill from https://github.com/bramstein/promis\n",
       "    (function(){'use strict';var f,g=[];function l(a){g.push(a);1==g.length&&f()}function m(){for(;g.length;)g[0](),g.shift()}f=function(){setTimeout(m)};function n(a){this.a=p;this.b=void 0;this.f=[];var b=this;try{a(function(a){q(b,a)},function(a){r(b,a)})}catch(c){r(b,c)}}var p=2;function t(a){return new n(function(b,c){c(a)})}function u(a){return new n(function(b){b(a)})}function q(a,b){if(a.a==p){if(b==a)throw new TypeError;var c=!1;try{var d=b&&b.then;if(null!=b&&\"object\"==typeof b&&\"function\"==typeof d){d.call(b,function(b){c||q(a,b);c=!0},function(b){c||r(a,b);c=!0});return}}catch(e){c||r(a,e);return}a.a=0;a.b=b;v(a)}} function r(a,b){if(a.a==p){if(b==a)throw new TypeError;a.a=1;a.b=b;v(a)}}function v(a){l(function(){if(a.a!=p)for(;a.f.length;){var b=a.f.shift(),c=b[0],d=b[1],e=b[2],b=b[3];try{0==a.a?\"function\"==typeof c?e(c.call(void 0,a.b)):e(a.b):1==a.a&&(\"function\"==typeof d?e(d.call(void 0,a.b)):b(a.b))}catch(h){b(h)}}})}n.prototype.g=function(a){return this.c(void 0,a)};n.prototype.c=function(a,b){var c=this;return new n(function(d,e){c.f.push([a,b,d,e]);v(c)})}; function w(a){return new n(function(b,c){function d(c){return function(d){h[c]=d;e+=1;e==a.length&&b(h)}}var e=0,h=[];0==a.length&&b(h);for(var k=0;k<a.length;k+=1)u(a[k]).c(d(k),c)})}function x(a){return new n(function(b,c){for(var d=0;d<a.length;d+=1)u(a[d]).c(b,c)})};window.Promise||(window.Promise=n,window.Promise.resolve=u,window.Promise.reject=t,window.Promise.race=x,window.Promise.all=w,window.Promise.prototype.then=n.prototype.c,window.Promise.prototype[\"catch\"]=n.prototype.g);}());\n",
       "\n",
       "\n",
       "    // Polyfill Event constructor for IE ref: ORBITEN-919\n",
       "    // see: https://stackoverflow.com/questions/26596123\n",
       "    (function () {\n",
       "      if (typeof window.CustomEvent === \"function\") {\n",
       "        return false;\n",
       "      }\n",
       "      function CustomEvent(event, params) {\n",
       "        params = params || { bubbles: false, cancelable: false, detail: undefined };\n",
       "        var evt = document.createEvent('CustomEvent');\n",
       "        evt.initCustomEvent(event, params.bubbles, params.cancelable, params.detail);\n",
       "        return evt;\n",
       "      }\n",
       "      CustomEvent.prototype = window.Event.prototype;\n",
       "      window.Event = CustomEvent;\n",
       "    })();\n",
       "\n",
       "\n",
       "    //Element.prototype.matches polyfill\n",
       "    //from https://developer.mozilla.org/en-US/docs/Web/API/Element/matches#Polyfill\n",
       "    if (!Element.prototype.matches) {\n",
       "      Element.prototype.matches = Element.prototype.msMatchesSelector ||\n",
       "                                  Element.prototype.webkitMatchesSelector;\n",
       "    }\n",
       "    //NodeList.forEach Polyfill\n",
       "    //from https://developer.mozilla.org/en-US/docs/Web/API/NodeList/forEach#Polyfill\n",
       "    if (window.NodeList && !NodeList.prototype.forEach) {\n",
       "      NodeList.prototype.forEach = Array.prototype.forEach;\n",
       "    }\n",
       "\n",
       "    // Object.assign polyfill from https://developer.mozilla.org/en-US/docs/Web/JavaScript/Reference/Global_Objects/Object/assign#Polyfill\n",
       "    if (typeof Object.assign != 'function') {\n",
       "      // Must be writable: true, enumerable: false, configurable: true\n",
       "      Object.defineProperty(Object, \"assign\", {\n",
       "        value: function assign(target, varArgs) { // .length of function is 2\n",
       "          'use strict';\n",
       "          if (target == null) { // TypeError if undefined or null\n",
       "            throw new TypeError('Cannot convert undefined or null to object');\n",
       "          }\n",
       "\n",
       "          var to = Object(target);\n",
       "\n",
       "          for (var index = 1; index < arguments.length; index++) {\n",
       "            var nextSource = arguments[index];\n",
       "\n",
       "            if (nextSource != null) { // Skip over if undefined or null\n",
       "              for (var nextKey in nextSource) {\n",
       "                // Avoid bugs when hasOwnProperty is shadowed\n",
       "                if (Object.prototype.hasOwnProperty.call(nextSource, nextKey)) {\n",
       "                  to[nextKey] = nextSource[nextKey];\n",
       "                }\n",
       "              }\n",
       "            }\n",
       "          }\n",
       "          return to;\n",
       "        },\n",
       "        writable: true,\n",
       "        configurable: true\n",
       "      });\n",
       "    }\n",
       "\n",
       "    // window.fetch polyfill https://github.com/github/fetch/blob/v0.11.0/fetch.js - chosen for IE9 compatibility\n",
       "    if(typeof window.fetch !== 'function') {\n",
       "      (function(self){\"use strict\";if(self.fetch){return}function normalizeName(name){if(typeof name!==\"string\"){name=String(name)}if(/[^a-z0-9\\-#$%&'*+.\\^_`|~]/i.test(name)){throw new TypeError(\"Invalid character in header field name\")}return name.toLowerCase()}function normalizeValue(value){if(typeof value!==\"string\"){value=String(value)}return value}function Headers(headers){this.map={};if(headers instanceof Headers){headers.forEach(function(value,name){this.append(name,value)},this)}else if(headers){Object.getOwnPropertyNames(headers).forEach(function(name){this.append(name,headers[name])},this)}}Headers.prototype.append=function(name,value){name=normalizeName(name);value=normalizeValue(value);var list=this.map[name];if(!list){list=[];this.map[name]=list}list.push(value)};Headers.prototype[\"delete\"]=function(name){delete this.map[normalizeName(name)]};Headers.prototype.get=function(name){var values=this.map[normalizeName(name)];return values?values[0]:null};Headers.prototype.getAll=function(name){return this.map[normalizeName(name)]||[]};Headers.prototype.has=function(name){return this.map.hasOwnProperty(normalizeName(name))};Headers.prototype.set=function(name,value){this.map[normalizeName(name)]=[normalizeValue(value)]};Headers.prototype.forEach=function(callback,thisArg){Object.getOwnPropertyNames(this.map).forEach(function(name){this.map[name].forEach(function(value){callback.call(thisArg,value,name,this)},this)},this)};function consumed(body){if(body.bodyUsed){return Promise.reject(new TypeError(\"Already read\"))}body.bodyUsed=true}function fileReaderReady(reader){return new Promise(function(resolve,reject){reader.onload=function(){resolve(reader.result)};reader.onerror=function(){reject(reader.error)}})}function readBlobAsArrayBuffer(blob){var reader=new FileReader;reader.readAsArrayBuffer(blob);return fileReaderReady(reader)}function readBlobAsText(blob){var reader=new FileReader;reader.readAsText(blob);return fileReaderReady(reader)}var support={blob:\"FileReader\"in self&&\"Blob\"in self&&function(){try{new Blob;return true}catch(e){return false}}(),formData:\"FormData\"in self,arrayBuffer:\"ArrayBuffer\"in self};function Body(){this.bodyUsed=false;this._initBody=function(body){this._bodyInit=body;if(typeof body===\"string\"){this._bodyText=body}else if(support.blob&&Blob.prototype.isPrototypeOf(body)){this._bodyBlob=body}else if(support.formData&&FormData.prototype.isPrototypeOf(body)){this._bodyFormData=body}else if(!body){this._bodyText=\"\"}else if(support.arrayBuffer&&ArrayBuffer.prototype.isPrototypeOf(body)){}else{throw new Error(\"unsupported BodyInit type\")}if(!this.headers.get(\"content-type\")){if(typeof body===\"string\"){this.headers.set(\"content-type\",\"text/plain;charset=UTF-8\")}else if(this._bodyBlob&&this._bodyBlob.type){this.headers.set(\"content-type\",this._bodyBlob.type)}}};if(support.blob){this.blob=function(){var rejected=consumed(this);if(rejected){return rejected}if(this._bodyBlob){return Promise.resolve(this._bodyBlob)}else if(this._bodyFormData){throw new Error(\"could not read FormData body as blob\")}else{return Promise.resolve(new Blob([this._bodyText]))}};this.arrayBuffer=function(){return this.blob().then(readBlobAsArrayBuffer)};this.text=function(){var rejected=consumed(this);if(rejected){return rejected}if(this._bodyBlob){return readBlobAsText(this._bodyBlob)}else if(this._bodyFormData){throw new Error(\"could not read FormData body as text\")}else{return Promise.resolve(this._bodyText)}}}else{this.text=function(){var rejected=consumed(this);return rejected?rejected:Promise.resolve(this._bodyText)}}if(support.formData){this.formData=function(){return this.text().then(decode)}}this.json=function(){return this.text().then(JSON.parse)};return this}var methods=[\"DELETE\",\"GET\",\"HEAD\",\"OPTIONS\",\"POST\",\"PUT\"];function normalizeMethod(method){var upcased=method.toUpperCase();return methods.indexOf(upcased)>-1?upcased:method}function Request(input,options){options=options||{};var body=options.body;if(Request.prototype.isPrototypeOf(input)){if(input.bodyUsed){throw new TypeError(\"Already read\")}this.url=input.url;this.credentials=input.credentials;if(!options.headers){this.headers=new Headers(input.headers)}this.method=input.method;this.mode=input.mode;if(!body){body=input._bodyInit;input.bodyUsed=true}}else{this.url=input}this.credentials=options.credentials||this.credentials||\"omit\";if(options.headers||!this.headers){this.headers=new Headers(options.headers)}this.method=normalizeMethod(options.method||this.method||\"GET\");this.mode=options.mode||this.mode||null;this.referrer=null;if((this.method===\"GET\"||this.method===\"HEAD\")&&body){throw new TypeError(\"Body not allowed for GET or HEAD requests\")}this._initBody(body)}Request.prototype.clone=function(){return new Request(this)};function decode(body){var form=new FormData;body.trim().split(\"&\").forEach(function(bytes){if(bytes){var split=bytes.split(\"=\");var name=split.shift().replace(/\\+/g,\" \");var value=split.join(\"=\").replace(/\\+/g,\" \");form.append(decodeURIComponent(name),decodeURIComponent(value))}});return form}function headers(xhr){var head=new Headers;var pairs=xhr.getAllResponseHeaders().trim().split(\"\\n\");pairs.forEach(function(header){var split=header.trim().split(\":\");var key=split.shift().trim();var value=split.join(\":\").trim();head.append(key,value)});return head}Body.call(Request.prototype);function Response(bodyInit,options){if(!options){options={}}this.type=\"default\";this.status=options.status;this.ok=this.status>=200&&this.status<300;this.statusText=options.statusText;this.headers=options.headers instanceof Headers?options.headers:new Headers(options.headers);this.url=options.url||\"\";this._initBody(bodyInit)}Body.call(Response.prototype);Response.prototype.clone=function(){return new Response(this._bodyInit,{status:this.status,statusText:this.statusText,headers:new Headers(this.headers),url:this.url})};Response.error=function(){var response=new Response(null,{status:0,statusText:\"\"});response.type=\"error\";return response};var redirectStatuses=[301,302,303,307,308];Response.redirect=function(url,status){if(redirectStatuses.indexOf(status)===-1){throw new RangeError(\"Invalid status code\")}return new Response(null,{status:status,headers:{location:url}})};self.Headers=Headers;self.Request=Request;self.Response=Response;self.fetch=function(input,init){return new Promise(function(resolve,reject){var request;if(Request.prototype.isPrototypeOf(input)&&!init){request=input}else{request=new Request(input,init)}var xhr=new XMLHttpRequest;function responseURL(){if(\"responseURL\"in xhr){return xhr.responseURL}if(/^X-Request-URL:/m.test(xhr.getAllResponseHeaders())){return xhr.getResponseHeader(\"X-Request-URL\")}return}xhr.onload=function(){var status=xhr.status===1223?204:xhr.status;if(status<100||status>599){reject(new TypeError(\"Network request failed\"));return}var options={status:status,statusText:xhr.statusText,headers:headers(xhr),url:responseURL()};var body=\"response\"in xhr?xhr.response:xhr.responseText;resolve(new Response(body,options))};xhr.onerror=function(){reject(new TypeError(\"Network request failed\"))};xhr.open(request.method,request.url,true);if(request.credentials===\"include\"){xhr.withCredentials=true}if(\"responseType\"in xhr&&support.blob){xhr.responseType=\"blob\"}request.headers.forEach(function(value,name){xhr.setRequestHeader(name,value)});xhr.send(typeof request._bodyInit===\"undefined\"?null:request._bodyInit)})};self.fetch.polyfill=true})(typeof self!==\"undefined\"?self:this);\n",
       "    }\n",
       "\n",
       "    if (typeof window.CustomEvent !== 'function') {\n",
       "\n",
       "      function CustomEvent(event, params) {\n",
       "        params = params || { bubbles: false, cancelable: false, detail: null };\n",
       "        var evt = document.createEvent('CustomEvent');\n",
       "        evt.initCustomEvent(event, params.bubbles, params.cancelable, params.detail);\n",
       "        return evt;\n",
       "      }\n",
       "\n",
       "      CustomEvent.prototype = window.Event.prototype;\n",
       "\n",
       "      window.CustomEvent = CustomEvent;\n",
       "\n",
       "    }\n",
       "</script>\n",
       "<script>\n",
       "    window.orbitData = {};\n",
       "\n",
       "    var additionalPageProperties = {};\n",
       "        additionalPageProperties['custom_var_1'] = 'asia' || null;\n",
       "        additionalPageProperties['custom_var_9'] = '1' || null;\n",
       "\n",
       "    window.orbitData.partialCookieOvenUrl = 'https://cookie-oven.api.bbc';\n",
       "\n",
       "    window.orbitData.userProfileUrl = \"https://www.bbc.co.uk/userprofile\";\n",
       "\n",
       "    window.page = {\n",
       "        name: 'home.page' || null,\n",
       "        destination: 'HOMEPAGE_GNL' || null,\n",
       "        producer: 'GNL_HOMEPAGE' || null,\n",
       "        section: '' || null,\n",
       "        site: '' || null,\n",
       "        contentId: '' || null,\n",
       "        contentType: 'Index-home' || null,\n",
       "        edition: '' || null,\n",
       "        additionalProperties: additionalPageProperties\n",
       "    };\n",
       "    window.page.language = 'en';\n",
       "    window.page.language = 'en';\n",
       "\n",
       "    window.page.modal = false;\n",
       "\n",
       "\n",
       "       window.orb = {\n",
       "         worldwideNavlinks: '<li class=\"orb-nav-homedotcom\"><a href=\"https://www.bbc.com/\">Home</a></li><li class=\"orb-nav-newsdotcom\"><a href=\"https://www.bbc.com/news\">News</a></li><li class=\"orb-nav-sport\"><a href=\"https://www.bbc.com/sport\">Sport</a></li><li class=\"orb-nav-reeldotcom\"><a href=\"https://www.bbc.com/reel\">Reel</a></li><li class=\"orb-nav-worklife\"><a href=\"https://www.bbc.com/worklife\">Worklife</a></li><li class=\"orb-nav-traveldotcom\"><a href=\"https://www.bbc.com/travel\">Travel</a></li><li class=\"orb-nav-future\"><a href=\"https://www.bbc.com/future\">Future</a></li><li class=\"orb-nav-culture\"><a href=\"https://www.bbc.com/culture\">Culture</a></li><li class=\"orb-nav-music\"><a href=\"https://www.bbc.com/culture/music\">Music</a></li><li class=\"orb-nav-tv\"><a href=\"https://www.bbc.co.uk/schedules/p00fzl9m\">TV</a></li><li class=\"orb-nav-weather\"><a href=\"https://www.bbc.com/weather\">Weather</a></li><li class=\"orb-nav-sounds\"><a href=\"https://www.bbc.co.uk/sounds\">Sounds</a></li>',\n",
       "       }\n",
       "\n",
       "\n",
       "!function(){var t={1391:function(t){function e(t,e){var r=Object.keys(t);if(Object.getOwnPropertySymbols){var n=Object.getOwnPropertySymbols(t);e&&(n=n.filter((function(e){return Object.getOwnPropertyDescriptor(t,e).enumerable}))),r.push.apply(r,n)}return r}function r(t){for(var r=1;r<arguments.length;r++){var o=null!=arguments[r]?arguments[r]:{};r%2?e(Object(o),!0).forEach((function(e){n(t,e,o[e])})):Object.getOwnPropertyDescriptors?Object.defineProperties(t,Object.getOwnPropertyDescriptors(o)):e(Object(o)).forEach((function(e){Object.defineProperty(t,e,Object.getOwnPropertyDescriptor(o,e))}))}return t}function n(t,e,r){return e in t?Object.defineProperty(t,e,{value:r,enumerable:!0,configurable:!0,writable:!0}):t[e]=r,t}var o=r({},window.page);document.addEventListener(\"bbc-page-reset\",(function(t){var e;t.detail&&t.detail.page&&(e=t.detail.page,o=Object.assign(o,e)),document.dispatchEvent(new Event(\"bbc-page-updated\"))}));var i={getName:function(){return Promise.resolve(o.name||function(){if(\"file:\"===window.location.protocol)return\"local.file\";var t=window.location.pathname.replace(/\\/$/,\"\").replace(/^\\//,\"\").replace(/\\//g,\".\");return\"\".concat(t,\".page\")}())},getLanguage:function(){return Promise.resolve(o.language)},getDestination:function(){return Promise.resolve(o.destination)},getProducer:function(){return Promise.resolve(o.producer)},getSection:function(){return Promise.resolve(o.section)},getContentType:function(){return Promise.resolve(o.contentType)},getContentId:function(){return Promise.resolve(o.contentId)},getReferrer:function(){return Promise.resolve(window.orb&&null!==window.orb.referrer&&void 0!==window.orb.referrer?window.orb.referrer:document.referrer)},getAdditionalProperties:function(){return Promise.resolve(r({},o.additionalProperties))},loadCSS:function(t){return new Promise((function(e,r){var n=document.createElement(\"link\");n.type=\"text/css\",n.rel=\"stylesheet\",n.onload=function(){e()},n.href=t,document.getElementsByTagName(\"head\")[0].appendChild(n)}))},isModal:function(){return Promise.resolve(o.modal)}};window.bbcpage=i,t.exports={bbcpage:i}},9135:function(t){function e(t){return(e=\"function\"==typeof Symbol&&\"symbol\"==typeof Symbol.iterator?function(t){return typeof t}:function(t){return t&&\"function\"==typeof Symbol&&t.constructor===Symbol&&t!==Symbol.prototype?\"symbol\":typeof t})(t)}function r(t,e){if(!(t instanceof e))throw new TypeError(\"Cannot call a class as a function\")}function n(t,r){return!r||\"object\"!==e(r)&&\"function\"!=typeof r?function(t){if(void 0===t)throw new ReferenceError(\"this hasn't been initialised - super() hasn't been called\");return t}(t):r}function o(t){var e=\"function\"==typeof Map?new Map:void 0;return(o=function(t){if(null===t||(r=t,-1===Function.toString.call(r).indexOf(\"[native code]\")))return t;var r;if(\"function\"!=typeof t)throw new TypeError(\"Super expression must either be null or a function\");if(void 0!==e){if(e.has(t))return e.get(t);e.set(t,n)}function n(){return i(t,arguments,c(this).constructor)}return n.prototype=Object.create(t.prototype,{constructor:{value:n,enumerable:!1,writable:!0,configurable:!0}}),u(n,t)})(t)}function i(t,e,r){return(i=a()?Reflect.construct:function(t,e,r){var n=[null];n.push.apply(n,e);var o=new(Function.bind.apply(t,n));return r&&u(o,r.prototype),o}).apply(null,arguments)}function a(){if(\"undefined\"==typeof Reflect||!Reflect.construct)return!1;if(Reflect.construct.sham)return!1;if(\"function\"==typeof Proxy)return!0;try{return Boolean.prototype.valueOf.call(Reflect.construct(Boolean,[],(function(){}))),!0}catch(t){return!1}}function u(t,e){return(u=Object.setPrototypeOf||function(t,e){return t.__proto__=e,t})(t,e)}function c(t){return(c=Object.setPrototypeOf?Object.getPrototypeOf:function(t){return t.__proto__||Object.getPrototypeOf(t)})(t)}var s=function(t){!function(t,e){if(\"function\"!=typeof e&&null!==e)throw new TypeError(\"Super expression must either be null or a function\");t.prototype=Object.create(e&&e.prototype,{constructor:{value:t,writable:!0,configurable:!0}}),e&&u(t,e)}(s,t);var e,o,i=(e=s,o=a(),function(){var t,r=c(e);if(o){var i=c(this).constructor;t=Reflect.construct(r,arguments,i)}else t=r.apply(this,arguments);return n(this,t)});function s(){return r(this,s),i.apply(this,arguments)}return s}(o(Error));function f(t){return new Promise((function(e,r){window.require(t,(function(){e.apply(this,arguments)}),(function(t){r(t)}))}))}var l,p=null;function h(){if(window.orbitData&&window.orbitData.user&&[\"X-Country\",\"X-Ip_is_advertise_combined\",\"X-Ip_is_uk_combined\"].every((function(t){return!!window.orbitData.user[t]})))return Promise.resolve(window.orbitData.user);if(!p){var t=window.location.hostname.endsWith(\".com\")?\"com\":\"co.uk\";p=fetch(\"https://www.bbc.\".concat(t,\"/userinfo\")).then((function(t){return t.json()}))}return p}function d(t){if(t.status>=200&&t.status<300)return t;var e=new Error(t.statusText);throw e.response=t,e}function v(t){return t.json()}function y(){if(window.orbitData.user&&window.orbitData.user.ageBand)return Promise.resolve(window.orbitData.user);if(!l){if(\"undefined\"==typeof XMLHttpRequest||!(\"withCredentials\"in new XMLHttpRequest))return Promise.resolve(window.orbitData.user);l=f([\"idcta-v2/idcta-1\"]).then((function(t){return t.initiateTokenRefresh().then((function(){return window.fetch(window.orbitData.userProfileUrl,{credentials:\"include\"}).then(d).then(v).then((function(t){return void 0===window.orbitData.user?window.orbitData.user=t:Object.assign(window.orbitData.user,t),window.orbitData.user}))}))}))}return l}var g={getHashedId:function(){return f([\"idcta-v2/idcta-1\"]).then((function(t){return t.getCookieInstance().getHidFromCookie()}))},isSignedIn:function(){return f([\"idcta-v2/idcta-1\"]).then((function(t){return t&&t.getCookieInstance().hasCookie()}))},getCountry:function(){return h().then((function(t){return t[\"X-Country\"]||\"gb\"}))},isUKCombined:function(){return h().then((function(t){if(!t[\"X-Ip_is_uk_combined\"])throw new s(\"missing isUKCombined from userinfo response\");return\"yes\"===t[\"X-Ip_is_uk_combined\"].toLowerCase()}))},canSeeAdverts:function(){return h().then((function(t){if(!t[\"X-Ip_is_advertise_combined\"])throw new s(\"missing canSeeAdverts from userinfo response\");return\"yes\"===t[\"X-Ip_is_advertise_combined\"].toLowerCase()}))},getAgeBand:function(){return h().then((function(t){return t[\"X-Age-Band\"]?Promise.resolve(t[\"X-Age-Band\"]):g.isSignedIn().then((function(e){if(e)return y().then((function(e){return t[\"X-Age-Band\"]=e[\"X-Age-Band\"],t[\"X-Age-Band\"]||void 0})).catch((function(){return t[\"X-Age-Band\"]||void 0}))}))}))},allowsPerformanceCookies:function(){return f([\"orb/cookies\"]).then((function(t){return!!t.cookiesEnabled()&&!!t.readPolicy(\"performance\")}))},allowsFunctionalCookies:function(){return f([\"orb/cookies\"]).then((function(t){return!!t.cookiesEnabled()&&!!t.readPolicy(\"personalisation\")}))},getCookieValue:function(t){return f([\"orb/cookies\"]).then((function(e){return e.get(t)}))}};window.bbcuser=g,t.exports={bbcuser:g,BBCUserError:s}},7633:function(t,e,r){r(9170),r(6992),r(1539),r(8674),r(7922),r(4668),r(7727),r(8783);var n=r(857);t.exports=n.Promise},1111:function(t,e,r){r(1539),r(4916),r(4953),r(8992),r(9841),r(7852),r(2023),r(4723),r(6373),r(6528),r(3112),r(2481),r(5306),r(8757),r(4765),r(3123),r(3157),r(3650),r(3210),r(5674),r(8702),r(8783),r(5218),r(4475),r(7929),r(915),r(9253),r(2125),r(8830),r(8734),r(9254),r(7268),r(7397),r(86),r(623);var n=r(857);t.exports=n.String},3099:function(t){t.exports=function(t){if(\"function\"!=typeof t)throw TypeError(String(t)+\" is not a function\");return t}},6077:function(t,e,r){var n=r(111);t.exports=function(t){if(!n(t)&&null!==t)throw TypeError(\"Can't set \"+String(t)+\" as a prototype\");return t}},1223:function(t,e,r){var n=r(5112),o=r(30),i=r(3070),a=n(\"unscopables\"),u=Array.prototype;null==u[a]&&i.f(u,a,{configurable:!0,value:o(null)}),t.exports=function(t){u[a][t]=!0}},1530:function(t,e,r){\"use strict\";var n=r(8710).charAt;t.exports=function(t,e,r){return e+(r?n(t,e).length:1)}},5787:function(t){t.exports=function(t,e,r){if(!(t instanceof e))throw TypeError(\"Incorrect \"+(r?r+\" \":\"\")+\"invocation\");return t}},9670:function(t,e,r){var n=r(111);t.exports=function(t){if(!n(t))throw TypeError(String(t)+\" is not an object\");return t}},1318:function(t,e,r){var n=r(5656),o=r(7466),i=r(1400),a=function(t){return function(e,r,a){var u,c=n(e),s=o(c.length),f=i(a,s);if(t&&r!=r){for(;s>f;)if((u=c[f++])!=u)return!0}else for(;s>f;f++)if((t||f in c)&&c[f]===r)return t||f||0;return!t&&-1}};t.exports={includes:a(!0),indexOf:a(!1)}},7072:function(t,e,r){var n=r(5112)(\"iterator\"),o=!1;try{var i=0,a={next:function(){return{done:!!i++}},return:function(){o=!0}};a[n]=function(){return this},Array.from(a,(function(){throw 2}))}catch(t){}t.exports=function(t,e){if(!e&&!o)return!1;var r=!1;try{var i={};i[n]=function(){return{next:function(){return{done:r=!0}}}},t(i)}catch(t){}return r}},4326:function(t){var e={}.toString;t.exports=function(t){return e.call(t).slice(8,-1)}},648:function(t,e,r){var n=r(1694),o=r(4326),i=r(5112)(\"toStringTag\"),a=\"Arguments\"==o(function(){return arguments}());t.exports=n?o:function(t){var e,r,n;return void 0===t?\"Undefined\":null===t?\"Null\":\"string\"==typeof(r=function(t,e){try{return t[e]}catch(t){}}(e=Object(t),i))?r:a?o(e):\"Object\"==(n=o(e))&&\"function\"==typeof e.callee?\"Arguments\":n}},9920:function(t,e,r){var n=r(6656),o=r(3887),i=r(1236),a=r(3070);t.exports=function(t,e){for(var r=o(e),u=a.f,c=i.f,s=0;s<r.length;s++){var f=r[s];n(t,f)||u(t,f,c(e,f))}}},4964:function(t,e,r){var n=r(5112)(\"match\");t.exports=function(t){var e=/./;try{\"/./\"[t](e)}catch(r){try{return e[n]=!1,\"/./\"[t](e)}catch(t){}}return!1}},8544:function(t,e,r){var n=r(7293);t.exports=!n((function(){function t(){}return t.prototype.constructor=null,Object.getPrototypeOf(new t)!==t.prototype}))},4230:function(t,e,r){var n=r(4488),o=r(1340),i=/\"/g;t.exports=function(t,e,r,a){var u=o(n(t)),c=\"<\"+e;return\"\"!==r&&(c+=\" \"+r+'=\"'+o(a).replace(i,\"&quot;\")+'\"'),c+\">\"+u+\"</\"+e+\">\"}},4994:function(t,e,r){\"use strict\";var n=r(3383).IteratorPrototype,o=r(30),i=r(9114),a=r(8003),u=r(7497),c=function(){return this};t.exports=function(t,e,r){var s=e+\" Iterator\";return t.prototype=o(n,{next:i(1,r)}),a(t,s,!1,!0),u[s]=c,t}},8880:function(t,e,r){var n=r(9781),o=r(3070),i=r(9114);t.exports=n?function(t,e,r){return o.f(t,e,i(1,r))}:function(t,e,r){return t[e]=r,t}},9114:function(t){t.exports=function(t,e){return{enumerable:!(1&t),configurable:!(2&t),writable:!(4&t),value:e}}},654:function(t,e,r){\"use strict\";var n=r(2109),o=r(4994),i=r(9518),a=r(7674),u=r(8003),c=r(8880),s=r(1320),f=r(5112),l=r(1913),p=r(7497),h=r(3383),d=h.IteratorPrototype,v=h.BUGGY_SAFARI_ITERATORS,y=f(\"iterator\"),g=\"keys\",b=\"values\",m=\"entries\",x=function(){return this};t.exports=function(t,e,r,f,h,w,E){o(r,e,f);var S,O,j,P=function(t){if(t===h&&R)return R;if(!v&&t in A)return A[t];switch(t){case g:case b:case m:return function(){return new r(this,t)}}return function(){return new r(this)}},T=e+\" Iterator\",_=!1,A=t.prototype,I=A[y]||A[\"@@iterator\"]||h&&A[h],R=!v&&I||P(h),L=\"Array\"==e&&A.entries||I;if(L&&(S=i(L.call(new t)),d!==Object.prototype&&S.next&&(l||i(S)===d||(a?a(S,d):\"function\"!=typeof S[y]&&c(S,y,x)),u(S,T,!0,!0),l&&(p[T]=x))),h==b&&I&&I.name!==b&&(_=!0,R=function(){return I.call(this)}),l&&!E||A[y]===R||c(A,y,R),p[e]=R,h)if(O={values:P(b),keys:w?R:P(g),entries:P(m)},E)for(j in O)(v||_||!(j in A))&&s(A,j,O[j]);else n({target:e,proto:!0,forced:v||_},O);return O}},9781:function(t,e,r){var n=r(7293);t.exports=!n((function(){return 7!=Object.defineProperty({},1,{get:function(){return 7}})[1]}))},317:function(t,e,r){var n=r(7854),o=r(111),i=n.document,a=o(i)&&o(i.createElement);t.exports=function(t){return a?i.createElement(t):{}}},8324:function(t){t.exports={CSSRuleList:0,CSSStyleDeclaration:0,CSSValueList:0,ClientRectList:0,DOMRectList:0,DOMStringList:0,DOMTokenList:1,DataTransferItemList:0,FileList:0,HTMLAllCollection:0,HTMLCollection:0,HTMLFormElement:0,HTMLSelectElement:0,MediaList:0,MimeTypeArray:0,NamedNodeMap:0,NodeList:1,PaintRequestList:0,Plugin:0,PluginArray:0,SVGLengthList:0,SVGNumberList:0,SVGPathSegList:0,SVGPointList:0,SVGStringList:0,SVGTransformList:0,SourceBufferList:0,StyleSheetList:0,TextTrackCueList:0,TextTrackList:0,TouchList:0}},7871:function(t){t.exports=\"object\"==typeof window},1528:function(t,e,r){var n=r(8113),o=r(7854);t.exports=/iphone|ipod|ipad/i.test(n)&&void 0!==o.Pebble},6833:function(t,e,r){var n=r(8113);t.exports=/(?:iphone|ipod|ipad).*applewebkit/i.test(n)},5268:function(t,e,r){var n=r(4326),o=r(7854);t.exports=\"process\"==n(o.process)},1036:function(t,e,r){var n=r(8113);t.exports=/web0s(?!.*chrome)/i.test(n)},8113:function(t,e,r){var n=r(5005);t.exports=n(\"navigator\",\"userAgent\")||\"\"},7392:function(t,e,r){var n,o,i=r(7854),a=r(8113),u=i.process,c=i.Deno,s=u&&u.versions||c&&c.version,f=s&&s.v8;f?o=(n=f.split(\".\"))[0]<4?1:n[0]+n[1]:a&&(!(n=a.match(/Edge\\/(\\d+)/))||n[1]>=74)&&(n=a.match(/Chrome\\/(\\d+)/))&&(o=n[1]),t.exports=o&&+o},748:function(t){t.exports=[\"constructor\",\"hasOwnProperty\",\"isPrototypeOf\",\"propertyIsEnumerable\",\"toLocaleString\",\"toString\",\"valueOf\"]},2109:function(t,e,r){var n=r(7854),o=r(1236).f,i=r(8880),a=r(1320),u=r(3505),c=r(9920),s=r(4705);t.exports=function(t,e){var r,f,l,p,h,d=t.target,v=t.global,y=t.stat;if(r=v?n:y?n[d]||u(d,{}):(n[d]||{}).prototype)for(f in e){if(p=e[f],l=t.noTargetGet?(h=o(r,f))&&h.value:r[f],!s(v?f:d+(y?\".\":\"#\")+f,t.forced)&&void 0!==l){if(typeof p==typeof l)continue;c(p,l)}(t.sham||l&&l.sham)&&i(p,\"sham\",!0),a(r,f,p,t)}}},7293:function(t){t.exports=function(t){try{return!!t()}catch(t){return!0}}},7007:function(t,e,r){\"use strict\";r(4916);var n=r(1320),o=r(2261),i=r(7293),a=r(5112),u=r(8880),c=a(\"species\"),s=RegExp.prototype;t.exports=function(t,e,r,f){var l=a(t),p=!i((function(){var e={};return e[l]=function(){return 7},7!=\"\"[t](e)})),h=p&&!i((function(){var e=!1,r=/a/;return\"split\"===t&&((r={}).constructor={},r.constructor[c]=function(){return r},r.flags=\"\",r[l]=/./[l]),r.exec=function(){return e=!0,null},r[l](\"\"),!e}));if(!p||!h||r){var d=/./[l],v=e(l,\"\"[t],(function(t,e,r,n,i){var a=e.exec;return a===o||a===s.exec?p&&!i?{done:!0,value:d.call(e,r,n)}:{done:!0,value:t.call(r,e,n)}:{done:!1}}));n(String.prototype,t,v[0]),n(s,l,v[1])}f&&u(s[l],\"sham\",!0)}},9974:function(t,e,r){var n=r(3099);t.exports=function(t,e,r){if(n(t),void 0===e)return t;switch(r){case 0:return function(){return t.call(e)};case 1:return function(r){return t.call(e,r)};case 2:return function(r,n){return t.call(e,r,n)};case 3:return function(r,n,o){return t.call(e,r,n,o)}}return function(){return t.apply(e,arguments)}}},5005:function(t,e,r){var n=r(7854),o=function(t){return\"function\"==typeof t?t:void 0};t.exports=function(t,e){return arguments.length<2?o(n[t]):n[t]&&n[t][e]}},1246:function(t,e,r){var n=r(648),o=r(7497),i=r(5112)(\"iterator\");t.exports=function(t){if(null!=t)return t[i]||t[\"@@iterator\"]||o[n(t)]}},647:function(t,e,r){var n=r(7908),o=Math.floor,i=\"\".replace,a=/\\$([$&'`]|\\d{1,2}|<[^>]*>)/g,u=/\\$([$&'`]|\\d{1,2})/g;t.exports=function(t,e,r,c,s,f){var l=r+t.length,p=c.length,h=u;return void 0!==s&&(s=n(s),h=a),i.call(f,h,(function(n,i){var a;switch(i.charAt(0)){case\"$\":return\"$\";case\"&\":return t;case\"`\":return e.slice(0,r);case\"'\":return e.slice(l);case\"<\":a=s[i.slice(1,-1)];break;default:var u=+i;if(0===u)return n;if(u>p){var f=o(u/10);return 0===f?n:f<=p?void 0===c[f-1]?i.charAt(1):c[f-1]+i.charAt(1):n}a=c[u-1]}return void 0===a?\"\":a}))}},7854:function(t,e,r){var n=function(t){return t&&t.Math==Math&&t};t.exports=n(\"object\"==typeof globalThis&&globalThis)||n(\"object\"==typeof window&&window)||n(\"object\"==typeof self&&self)||n(\"object\"==typeof r.g&&r.g)||function(){return this}()||Function(\"return this\")()},6656:function(t,e,r){var n=r(7908),o={}.hasOwnProperty;t.exports=Object.hasOwn||function(t,e){return o.call(n(t),e)}},3501:function(t){t.exports={}},842:function(t,e,r){var n=r(7854);t.exports=function(t,e){var r=n.console;r&&r.error&&(1===arguments.length?r.error(t):r.error(t,e))}},490:function(t,e,r){var n=r(5005);t.exports=n(\"document\",\"documentElement\")},4664:function(t,e,r){var n=r(9781),o=r(7293),i=r(317);t.exports=!n&&!o((function(){return 7!=Object.defineProperty(i(\"div\"),\"a\",{get:function(){return 7}}).a}))},8361:function(t,e,r){var n=r(7293),o=r(4326),i=\"\".split;t.exports=n((function(){return!Object(\"z\").propertyIsEnumerable(0)}))?function(t){return\"String\"==o(t)?i.call(t,\"\"):Object(t)}:Object},2788:function(t,e,r){var n=r(5465),o=Function.toString;\"function\"!=typeof n.inspectSource&&(n.inspectSource=function(t){return o.call(t)}),t.exports=n.inspectSource},9909:function(t,e,r){var n,o,i,a=r(8536),u=r(7854),c=r(111),s=r(8880),f=r(6656),l=r(5465),p=r(6200),h=r(3501),d=\"Object already initialized\",v=u.WeakMap;if(a||l.state){var y=l.state||(l.state=new v),g=y.get,b=y.has,m=y.set;n=function(t,e){if(b.call(y,t))throw new TypeError(d);return e.facade=t,m.call(y,t,e),e},o=function(t){return g.call(y,t)||{}},i=function(t){return b.call(y,t)}}else{var x=p(\"state\");h[x]=!0,n=function(t,e){if(f(t,x))throw new TypeError(d);return e.facade=t,s(t,x,e),e},o=function(t){return f(t,x)?t[x]:{}},i=function(t){return f(t,x)}}t.exports={set:n,get:o,has:i,enforce:function(t){return i(t)?o(t):n(t,{})},getterFor:function(t){return function(e){var r;if(!c(e)||(r=o(e)).type!==t)throw TypeError(\"Incompatible receiver, \"+t+\" required\");return r}}}},7659:function(t,e,r){var n=r(5112),o=r(7497),i=n(\"iterator\"),a=Array.prototype;t.exports=function(t){return void 0!==t&&(o.Array===t||a[i]===t)}},4705:function(t,e,r){var n=r(7293),o=/#|\\.prototype\\./,i=function(t,e){var r=u[a(t)];return r==s||r!=c&&(\"function\"==typeof e?n(e):!!e)},a=i.normalize=function(t){return String(t).replace(o,\".\").toLowerCase()},u=i.data={},c=i.NATIVE=\"N\",s=i.POLYFILL=\"P\";t.exports=i},111:function(t){t.exports=function(t){return\"object\"==typeof t?null!==t:\"function\"==typeof t}},1913:function(t){t.exports=!1},7850:function(t,e,r){var n=r(111),o=r(4326),i=r(5112)(\"match\");t.exports=function(t){var e;return n(t)&&(void 0!==(e=t[i])?!!e:\"RegExp\"==o(t))}},2190:function(t,e,r){var n=r(5005),o=r(3307);t.exports=o?function(t){return\"symbol\"==typeof t}:function(t){var e=n(\"Symbol\");return\"function\"==typeof e&&Object(t)instanceof e}},408:function(t,e,r){var n=r(9670),o=r(7659),i=r(7466),a=r(9974),u=r(1246),c=r(9212),s=function(t,e){this.stopped=t,this.result=e};t.exports=function(t,e,r){var f,l,p,h,d,v,y,g=r&&r.that,b=!(!r||!r.AS_ENTRIES),m=!(!r||!r.IS_ITERATOR),x=!(!r||!r.INTERRUPTED),w=a(e,g,1+b+x),E=function(t){return f&&c(f),new s(!0,t)},S=function(t){return b?(n(t),x?w(t[0],t[1],E):w(t[0],t[1])):x?w(t,E):w(t)};if(m)f=t;else{if(\"function\"!=typeof(l=u(t)))throw TypeError(\"Target is not iterable\");if(o(l)){for(p=0,h=i(t.length);h>p;p++)if((d=S(t[p]))&&d instanceof s)return d;return new s(!1)}f=l.call(t)}for(v=f.next;!(y=v.call(f)).done;){try{d=S(y.value)}catch(t){throw c(f),t}if(\"object\"==typeof d&&d&&d instanceof s)return d}return new s(!1)}},9212:function(t,e,r){var n=r(9670);t.exports=function(t){var e=t.return;if(void 0!==e)return n(e.call(t)).value}},3383:function(t,e,r){\"use strict\";var n,o,i,a=r(7293),u=r(9518),c=r(8880),s=r(6656),f=r(5112),l=r(1913),p=f(\"iterator\"),h=!1;[].keys&&(\"next\"in(i=[].keys())?(o=u(u(i)))!==Object.prototype&&(n=o):h=!0);var d=null==n||a((function(){var t={};return n[p].call(t)!==t}));d&&(n={}),l&&!d||s(n,p)||c(n,p,(function(){return this})),t.exports={IteratorPrototype:n,BUGGY_SAFARI_ITERATORS:h}},7497:function(t){t.exports={}},5948:function(t,e,r){var n,o,i,a,u,c,s,f,l=r(7854),p=r(1236).f,h=r(261).set,d=r(6833),v=r(1528),y=r(1036),g=r(5268),b=l.MutationObserver||l.WebKitMutationObserver,m=l.document,x=l.process,w=l.Promise,E=p(l,\"queueMicrotask\"),S=E&&E.value;S||(n=function(){var t,e;for(g&&(t=x.domain)&&t.exit();o;){e=o.fn,o=o.next;try{e()}catch(t){throw o?a():i=void 0,t}}i=void 0,t&&t.enter()},d||g||y||!b||!m?!v&&w&&w.resolve?((s=w.resolve(void 0)).constructor=w,f=s.then,a=function(){f.call(s,n)}):a=g?function(){x.nextTick(n)}:function(){h.call(l,n)}:(u=!0,c=m.createTextNode(\"\"),new b(n).observe(c,{characterData:!0}),a=function(){c.data=u=!u})),t.exports=S||function(t){var e={fn:t,next:void 0};i&&(i.next=e),o||(o=e,a()),i=e}},3366:function(t,e,r){var n=r(7854);t.exports=n.Promise},133:function(t,e,r){var n=r(7392),o=r(7293);t.exports=!!Object.getOwnPropertySymbols&&!o((function(){var t=Symbol();return!String(t)||!(Object(t)instanceof Symbol)||!Symbol.sham&&n&&n<41}))},8536:function(t,e,r){var n=r(7854),o=r(2788),i=n.WeakMap;t.exports=\"function\"==typeof i&&/native code/.test(o(i))},8523:function(t,e,r){\"use strict\";var n=r(3099),o=function(t){var e,r;this.promise=new t((function(t,n){if(void 0!==e||void 0!==r)throw TypeError(\"Bad Promise constructor\");e=t,r=n})),this.resolve=n(e),this.reject=n(r)};t.exports.f=function(t){return new o(t)}},3929:function(t,e,r){var n=r(7850);t.exports=function(t){if(n(t))throw TypeError(\"The method doesn't accept regular expressions\");return t}},30:function(t,e,r){var n,o=r(9670),i=r(6048),a=r(748),u=r(3501),c=r(490),s=r(317),f=r(6200),l=f(\"IE_PROTO\"),p=function(){},h=function(t){return\"<script>\"+t+\"</\"+\"script>\"},d=function(t){t.write(h(\"\")),t.close();var e=t.parentWindow.Object;return t=null,e},v=function(){try{n=new ActiveXObject(\"htmlfile\")}catch(t){}v=document.domain&&n?d(n):function(){var t,e=s(\"iframe\");if(e.style)return e.style.display=\"none\",c.appendChild(e),e.src=String(\"javascript:\"),(t=e.contentWindow.document).open(),t.write(h(\"document.F=Object\")),t.close(),t.F}()||d(n);for(var t=a.length;t--;)delete v.prototype[a[t]];return v()};u[l]=!0,t.exports=Object.create||function(t,e){var r;return null!==t?(p.prototype=o(t),r=new p,p.prototype=null,r[l]=t):r=v(),void 0===e?r:i(r,e)}},6048:function(t,e,r){var n=r(9781),o=r(3070),i=r(9670),a=r(1956);t.exports=n?Object.defineProperties:function(t,e){i(t);for(var r,n=a(e),u=n.length,c=0;u>c;)o.f(t,r=n[c++],e[r]);return t}},3070:function(t,e,r){var n=r(9781),o=r(4664),i=r(9670),a=r(4948),u=Object.defineProperty;e.f=n?u:function(t,e,r){if(i(t),e=a(e),i(r),o)try{return u(t,e,r)}catch(t){}if(\"get\"in r||\"set\"in r)throw TypeError(\"Accessors not supported\");return\"value\"in r&&(t[e]=r.value),t}},1236:function(t,e,r){var n=r(9781),o=r(5296),i=r(9114),a=r(5656),u=r(4948),c=r(6656),s=r(4664),f=Object.getOwnPropertyDescriptor;e.f=n?f:function(t,e){if(t=a(t),e=u(e),s)try{return f(t,e)}catch(t){}if(c(t,e))return i(!o.f.call(t,e),t[e])}},8006:function(t,e,r){var n=r(6324),o=r(748).concat(\"length\",\"prototype\");e.f=Object.getOwnPropertyNames||function(t){return n(t,o)}},5181:function(t,e){e.f=Object.getOwnPropertySymbols},9518:function(t,e,r){var n=r(6656),o=r(7908),i=r(6200),a=r(8544),u=i(\"IE_PROTO\"),c=Object.prototype;t.exports=a?Object.getPrototypeOf:function(t){return t=o(t),n(t,u)?t[u]:\"function\"==typeof t.constructor&&t instanceof t.constructor?t.constructor.prototype:t instanceof Object?c:null}},6324:function(t,e,r){var n=r(6656),o=r(5656),i=r(1318).indexOf,a=r(3501);t.exports=function(t,e){var r,u=o(t),c=0,s=[];for(r in u)!n(a,r)&&n(u,r)&&s.push(r);for(;e.length>c;)n(u,r=e[c++])&&(~i(s,r)||s.push(r));return s}},1956:function(t,e,r){var n=r(6324),o=r(748);t.exports=Object.keys||function(t){return n(t,o)}},5296:function(t,e){\"use strict\";var r={}.propertyIsEnumerable,n=Object.getOwnPropertyDescriptor,o=n&&!r.call({1:2},1);e.f=o?function(t){var e=n(this,t);return!!e&&e.enumerable}:r},7674:function(t,e,r){var n=r(9670),o=r(6077);t.exports=Object.setPrototypeOf||(\"__proto__\"in{}?function(){var t,e=!1,r={};try{(t=Object.getOwnPropertyDescriptor(Object.prototype,\"__proto__\").set).call(r,[]),e=r instanceof Array}catch(t){}return function(r,i){return n(r),o(i),e?t.call(r,i):r.__proto__=i,r}}():void 0)},288:function(t,e,r){\"use strict\";var n=r(1694),o=r(648);t.exports=n?{}.toString:function(){return\"[object \"+o(this)+\"]\"}},2140:function(t,e,r){var n=r(111);t.exports=function(t,e){var r,o;if(\"string\"===e&&\"function\"==typeof(r=t.toString)&&!n(o=r.call(t)))return o;if(\"function\"==typeof(r=t.valueOf)&&!n(o=r.call(t)))return o;if(\"string\"!==e&&\"function\"==typeof(r=t.toString)&&!n(o=r.call(t)))return o;throw TypeError(\"Can't convert object to primitive value\")}},3887:function(t,e,r){var n=r(5005),o=r(8006),i=r(5181),a=r(9670);t.exports=n(\"Reflect\",\"ownKeys\")||function(t){var e=o.f(a(t)),r=i.f;return r?e.concat(r(t)):e}},857:function(t,e,r){var n=r(7854);t.exports=n},2534:function(t){t.exports=function(t){try{return{error:!1,value:t()}}catch(t){return{error:!0,value:t}}}},9478:function(t,e,r){var n=r(9670),o=r(111),i=r(8523);t.exports=function(t,e){if(n(t),o(e)&&e.constructor===t)return e;var r=i.f(t);return(0,r.resolve)(e),r.promise}},2248:function(t,e,r){var n=r(1320);t.exports=function(t,e,r){for(var o in e)n(t,o,e[o],r);return t}},1320:function(t,e,r){var n=r(7854),o=r(8880),i=r(6656),a=r(3505),u=r(2788),c=r(9909),s=c.get,f=c.enforce,l=String(String).split(\"String\");(t.exports=function(t,e,r,u){var c,s=!!u&&!!u.unsafe,p=!!u&&!!u.enumerable,h=!!u&&!!u.noTargetGet;\"function\"==typeof r&&(\"string\"!=typeof e||i(r,\"name\")||o(r,\"name\",e),(c=f(r)).source||(c.source=l.join(\"string\"==typeof e?e:\"\"))),t!==n?(s?!h&&t[e]&&(p=!0):delete t[e],p?t[e]=r:o(t,e,r)):p?t[e]=r:a(e,r)})(Function.prototype,\"toString\",(function(){return\"function\"==typeof this&&s(this).source||u(this)}))},7651:function(t,e,r){var n=r(4326),o=r(2261);t.exports=function(t,e){var r=t.exec;if(\"function\"==typeof r){var i=r.call(t,e);if(\"object\"!=typeof i)throw TypeError(\"RegExp exec method returned something other than an Object or null\");return i}if(\"RegExp\"!==n(t))throw TypeError(\"RegExp#exec called on incompatible receiver\");return o.call(t,e)}},2261:function(t,e,r){\"use strict\";var n,o,i=r(1340),a=r(7066),u=r(2999),c=r(2309),s=r(30),f=r(9909).get,l=r(9441),p=r(8173),h=RegExp.prototype.exec,d=c(\"native-string-replace\",String.prototype.replace),v=h,y=(n=/a/,o=/b*/g,h.call(n,\"a\"),h.call(o,\"a\"),0!==n.lastIndex||0!==o.lastIndex),g=u.UNSUPPORTED_Y||u.BROKEN_CARET,b=void 0!==/()??/.exec(\"\")[1];(y||b||g||l||p)&&(v=function(t){var e,r,n,o,u,c,l,p=this,m=f(p),x=i(t),w=m.raw;if(w)return w.lastIndex=p.lastIndex,e=v.call(w,x),p.lastIndex=w.lastIndex,e;var E=m.groups,S=g&&p.sticky,O=a.call(p),j=p.source,P=0,T=x;if(S&&(-1===(O=O.replace(\"y\",\"\")).indexOf(\"g\")&&(O+=\"g\"),T=x.slice(p.lastIndex),p.lastIndex>0&&(!p.multiline||p.multiline&&\"\\n\"!==x.charAt(p.lastIndex-1))&&(j=\"(?: \"+j+\")\",T=\" \"+T,P++),r=new RegExp(\"^(?:\"+j+\")\",O)),b&&(r=new RegExp(\"^\"+j+\"$(?!\\\\s)\",O)),y&&(n=p.lastIndex),o=h.call(S?r:p,T),S?o?(o.input=o.input.slice(P),o[0]=o[0].slice(P),o.index=p.lastIndex,p.lastIndex+=o[0].length):p.lastIndex=0:y&&o&&(p.lastIndex=p.global?o.index+o[0].length:n),b&&o&&o.length>1&&d.call(o[0],r,(function(){for(u=1;u<arguments.length-2;u++)void 0===arguments[u]&&(o[u]=void 0)})),o&&E)for(o.groups=c=s(null),u=0;u<E.length;u++)c[(l=E[u])[0]]=o[l[1]];return o}),t.exports=v},7066:function(t,e,r){\"use strict\";var n=r(9670);t.exports=function(){var t=n(this),e=\"\";return t.global&&(e+=\"g\"),t.ignoreCase&&(e+=\"i\"),t.multiline&&(e+=\"m\"),t.dotAll&&(e+=\"s\"),t.unicode&&(e+=\"u\"),t.sticky&&(e+=\"y\"),e}},2999:function(t,e,r){var n=r(7293),o=function(t,e){return RegExp(t,e)};e.UNSUPPORTED_Y=n((function(){var t=o(\"a\",\"y\");return t.lastIndex=2,null!=t.exec(\"abcd\")})),e.BROKEN_CARET=n((function(){var t=o(\"^r\",\"gy\");return t.lastIndex=2,null!=t.exec(\"str\")}))},9441:function(t,e,r){var n=r(7293);t.exports=n((function(){var t=RegExp(\".\",\"string\".charAt(0));return!(t.dotAll&&t.exec(\"\\n\")&&\"s\"===t.flags)}))},8173:function(t,e,r){var n=r(7293);t.exports=n((function(){var t=RegExp(\"(?<a>b)\",\"string\".charAt(5));return\"b\"!==t.exec(\"b\").groups.a||\"bc\"!==\"b\".replace(t,\"$<a>c\")}))},4488:function(t){t.exports=function(t){if(null==t)throw TypeError(\"Can't call method on \"+t);return t}},6029:function(t){t.exports=Object.is||function(t,e){return t===e?0!==t||1/t==1/e:t!=t&&e!=e}},3505:function(t,e,r){var n=r(7854);t.exports=function(t,e){try{Object.defineProperty(n,t,{value:e,configurable:!0,writable:!0})}catch(r){n[t]=e}return e}},6340:function(t,e,r){\"use strict\";var n=r(5005),o=r(3070),i=r(5112),a=r(9781),u=i(\"species\");t.exports=function(t){var e=n(t),r=o.f;a&&e&&!e[u]&&r(e,u,{configurable:!0,get:function(){return this}})}},8003:function(t,e,r){var n=r(3070).f,o=r(6656),i=r(5112)(\"toStringTag\");t.exports=function(t,e,r){t&&!o(t=r?t:t.prototype,i)&&n(t,i,{configurable:!0,value:e})}},6200:function(t,e,r){var n=r(2309),o=r(9711),i=n(\"keys\");t.exports=function(t){return i[t]||(i[t]=o(t))}},5465:function(t,e,r){var n=r(7854),o=r(3505),i=\"__core-js_shared__\",a=n[i]||o(i,{});t.exports=a},2309:function(t,e,r){var n=r(1913),o=r(5465);(t.exports=function(t,e){return o[t]||(o[t]=void 0!==e?e:{})})(\"versions\",[]).push({version:\"3.16.1\",mode:n?\"pure\":\"global\",copyright:\"© 2021 Denis Pushkarev (zloirock.ru)\"})},6707:function(t,e,r){var n=r(9670),o=r(3099),i=r(5112)(\"species\");t.exports=function(t,e){var r,a=n(t).constructor;return void 0===a||null==(r=n(a)[i])?e:o(r)}},3429:function(t,e,r){var n=r(7293);t.exports=function(t){return n((function(){var e=\"\"[t]('\"');return e!==e.toLowerCase()||e.split('\"').length>3}))}},8710:function(t,e,r){var n=r(9958),o=r(1340),i=r(4488),a=function(t){return function(e,r){var a,u,c=o(i(e)),s=n(r),f=c.length;return s<0||s>=f?t?\"\":void 0:(a=c.charCodeAt(s))<55296||a>56319||s+1===f||(u=c.charCodeAt(s+1))<56320||u>57343?t?c.charAt(s):a:t?c.slice(s,s+2):u-56320+(a-55296<<10)+65536}};t.exports={codeAt:a(!1),charAt:a(!0)}},4986:function(t,e,r){var n=r(8113);t.exports=/Version\\/10(?:\\.\\d+){1,2}(?: [\\w./]+)?(?: Mobile\\/\\w+)? Safari\\//.test(n)},6650:function(t,e,r){var n=r(7466),o=r(1340),i=r(8415),a=r(4488),u=Math.ceil,c=function(t){return function(e,r,c){var s,f,l=o(a(e)),p=l.length,h=void 0===c?\" \":o(c),d=n(r);return d<=p||\"\"==h?l:(s=d-p,(f=i.call(h,u(s/h.length))).length>s&&(f=f.slice(0,s)),t?l+f:f+l)}};t.exports={start:c(!1),end:c(!0)}},8415:function(t,e,r){\"use strict\";var n=r(9958),o=r(1340),i=r(4488);t.exports=function(t){var e=o(i(this)),r=\"\",a=n(t);if(a<0||a==1/0)throw RangeError(\"Wrong number of repetitions\");for(;a>0;(a>>>=1)&&(e+=e))1&a&&(r+=e);return r}},6091:function(t,e,r){var n=r(7293),o=r(1361);t.exports=function(t){return n((function(){return!!o[t]()||\"​\n",
       "᠎\"!=\"​\n",
       "᠎\"[t]()||o[t].name!==t}))}},3111:function(t,e,r){var n=r(4488),o=r(1340),i=\"[\"+r(1361)+\"]\",a=RegExp(\"^\"+i+i+\"*\"),u=RegExp(i+i+\"*$\"),c=function(t){return function(e){var r=o(n(e));return 1&t&&(r=r.replace(a,\"\")),2&t&&(r=r.replace(u,\"\")),r}};t.exports={start:c(1),end:c(2),trim:c(3)}},261:function(t,e,r){var n,o,i,a,u=r(7854),c=r(7293),s=r(9974),f=r(490),l=r(317),p=r(6833),h=r(5268),d=u.setImmediate,v=u.clearImmediate,y=u.process,g=u.MessageChannel,b=u.Dispatch,m=0,x={},w=\"onreadystatechange\";try{n=u.location}catch(t){}var E=function(t){if(x.hasOwnProperty(t)){var e=x[t];delete x[t],e()}},S=function(t){return function(){E(t)}},O=function(t){E(t.data)},j=function(t){u.postMessage(String(t),n.protocol+\"//\"+n.host)};d&&v||(d=function(t){for(var e=[],r=arguments.length,n=1;r>n;)e.push(arguments[n++]);return x[++m]=function(){(\"function\"==typeof t?t:Function(t)).apply(void 0,e)},o(m),m},v=function(t){delete x[t]},h?o=function(t){y.nextTick(S(t))}:b&&b.now?o=function(t){b.now(S(t))}:g&&!p?(a=(i=new g).port2,i.port1.onmessage=O,o=s(a.postMessage,a,1)):u.addEventListener&&\"function\"==typeof postMessage&&!u.importScripts&&n&&\"file:\"!==n.protocol&&!c(j)?(o=j,u.addEventListener(\"message\",O,!1)):o=w in l(\"script\")?function(t){f.appendChild(l(\"script\")).onreadystatechange=function(){f.removeChild(this),E(t)}}:function(t){setTimeout(S(t),0)}),t.exports={set:d,clear:v}},1400:function(t,e,r){var n=r(9958),o=Math.max,i=Math.min;t.exports=function(t,e){var r=n(t);return r<0?o(r+e,0):i(r,e)}},5656:function(t,e,r){var n=r(8361),o=r(4488);t.exports=function(t){return n(o(t))}},9958:function(t){var e=Math.ceil,r=Math.floor;t.exports=function(t){return isNaN(t=+t)?0:(t>0?r:e)(t)}},7466:function(t,e,r){var n=r(9958),o=Math.min;t.exports=function(t){return t>0?o(n(t),9007199254740991):0}},7908:function(t,e,r){var n=r(4488);t.exports=function(t){return Object(n(t))}},7593:function(t,e,r){var n=r(111),o=r(2190),i=r(2140),a=r(5112)(\"toPrimitive\");t.exports=function(t,e){if(!n(t)||o(t))return t;var r,u=t[a];if(void 0!==u){if(void 0===e&&(e=\"default\"),r=u.call(t,e),!n(r)||o(r))return r;throw TypeError(\"Can't convert object to primitive value\")}return void 0===e&&(e=\"number\"),i(t,e)}},4948:function(t,e,r){var n=r(7593),o=r(2190);t.exports=function(t){var e=n(t,\"string\");return o(e)?e:String(e)}},1694:function(t,e,r){var n={};n[r(5112)(\"toStringTag\")]=\"z\",t.exports=\"[object z]\"===String(n)},1340:function(t,e,r){var n=r(2190);t.exports=function(t){if(n(t))throw TypeError(\"Cannot convert a Symbol value to a string\");return String(t)}},9711:function(t){var e=0,r=Math.random();t.exports=function(t){return\"Symbol(\"+String(void 0===t?\"\":t)+\")_\"+(++e+r).toString(36)}},3307:function(t,e,r){var n=r(133);t.exports=n&&!Symbol.sham&&\"symbol\"==typeof Symbol.iterator},5112:function(t,e,r){var n=r(7854),o=r(2309),i=r(6656),a=r(9711),u=r(133),c=r(3307),s=o(\"wks\"),f=n.Symbol,l=c?f:f&&f.withoutSetter||a;t.exports=function(t){return i(s,t)&&(u||\"string\"==typeof s[t])||(u&&i(f,t)?s[t]=f[t]:s[t]=l(\"Symbol.\"+t)),s[t]}},1361:function(t){t.exports=\"\\t\\n\\v\\f\\r                　\\u2028\\u2029\\ufeff\"},9170:function(t,e,r){\"use strict\";var n=r(2109),o=r(9518),i=r(7674),a=r(30),u=r(8880),c=r(9114),s=r(408),f=r(1340),l=function(t,e){var r=this;if(!(r instanceof l))return new l(t,e);i&&(r=i(new Error(void 0),o(r))),void 0!==e&&u(r,\"message\",f(e));var n=[];return s(t,n.push,{that:n}),u(r,\"errors\",n),r};l.prototype=a(Error.prototype,{constructor:c(5,l),message:c(5,\"\"),name:c(5,\"AggregateError\")}),n({global:!0},{AggregateError:l})},6992:function(t,e,r){\"use strict\";var n=r(5656),o=r(1223),i=r(7497),a=r(9909),u=r(654),c=\"Array Iterator\",s=a.set,f=a.getterFor(c);t.exports=u(Array,\"Array\",(function(t,e){s(this,{type:c,target:n(t),index:0,kind:e})}),(function(){var t=f(this),e=t.target,r=t.kind,n=t.index++;return!e||n>=e.length?(t.target=void 0,{value:void 0,done:!0}):\"keys\"==r?{value:n,done:!1}:\"values\"==r?{value:e[n],done:!1}:{value:[n,e[n]],done:!1}}),\"values\"),i.Arguments=i.Array,o(\"keys\"),o(\"values\"),o(\"entries\")},1539:function(t,e,r){var n=r(1694),o=r(1320),i=r(288);n||o(Object.prototype,\"toString\",i,{unsafe:!0})},7922:function(t,e,r){\"use strict\";var n=r(2109),o=r(3099),i=r(8523),a=r(2534),u=r(408);n({target:\"Promise\",stat:!0},{allSettled:function(t){var e=this,r=i.f(e),n=r.resolve,c=r.reject,s=a((function(){var r=o(e.resolve),i=[],a=0,c=1;u(t,(function(t){var o=a++,u=!1;i.push(void 0),c++,r.call(e,t).then((function(t){u||(u=!0,i[o]={status:\"fulfilled\",value:t},--c||n(i))}),(function(t){u||(u=!0,i[o]={status:\"rejected\",reason:t},--c||n(i))}))})),--c||n(i)}));return s.error&&c(s.value),r.promise}})},4668:function(t,e,r){\"use strict\";var n=r(2109),o=r(3099),i=r(5005),a=r(8523),u=r(2534),c=r(408),s=\"No one promise resolved\";n({target:\"Promise\",stat:!0},{any:function(t){var e=this,r=a.f(e),n=r.resolve,f=r.reject,l=u((function(){var r=o(e.resolve),a=[],u=0,l=1,p=!1;c(t,(function(t){var o=u++,c=!1;a.push(void 0),l++,r.call(e,t).then((function(t){c||p||(p=!0,n(t))}),(function(t){c||p||(c=!0,a[o]=t,--l||f(new(i(\"AggregateError\"))(a,s)))}))})),--l||f(new(i(\"AggregateError\"))(a,s))}));return l.error&&f(l.value),r.promise}})},7727:function(t,e,r){\"use strict\";var n=r(2109),o=r(1913),i=r(3366),a=r(7293),u=r(5005),c=r(6707),s=r(9478),f=r(1320);if(n({target:\"Promise\",proto:!0,real:!0,forced:!!i&&a((function(){i.prototype.finally.call({then:function(){}},(function(){}))}))},{finally:function(t){var e=c(this,u(\"Promise\")),r=\"function\"==typeof t;return this.then(r?function(r){return s(e,t()).then((function(){return r}))}:t,r?function(r){return s(e,t()).then((function(){throw r}))}:t)}}),!o&&\"function\"==typeof i){var l=u(\"Promise\").prototype.finally;i.prototype.finally!==l&&f(i.prototype,\"finally\",l,{unsafe:!0})}},8674:function(t,e,r){\"use strict\";var n,o,i,a,u=r(2109),c=r(1913),s=r(7854),f=r(5005),l=r(3366),p=r(1320),h=r(2248),d=r(7674),v=r(8003),y=r(6340),g=r(111),b=r(3099),m=r(5787),x=r(2788),w=r(408),E=r(7072),S=r(6707),O=r(261).set,j=r(5948),P=r(9478),T=r(842),_=r(8523),A=r(2534),I=r(9909),R=r(4705),L=r(5112),k=r(7871),C=r(5268),B=r(7392),D=L(\"species\"),M=\"Promise\",F=I.get,U=I.set,N=I.getterFor(M),G=l&&l.prototype,X=l,$=G,H=s.TypeError,q=s.document,W=s.process,V=_.f,z=V,Y=!!(q&&q.createEvent&&s.dispatchEvent),K=\"function\"==typeof PromiseRejectionEvent,J=\"unhandledrejection\",Q=!1,Z=R(M,(function(){var t=x(X),e=t!==String(X);if(!e&&66===B)return!0;if(c&&!$.finally)return!0;if(B>=51&&/native code/.test(t))return!1;var r=new X((function(t){t(1)})),n=function(t){t((function(){}),(function(){}))};return(r.constructor={})[D]=n,!(Q=r.then((function(){}))instanceof n)||!e&&k&&!K})),tt=Z||!E((function(t){X.all(t).catch((function(){}))})),et=function(t){var e;return!(!g(t)||\"function\"!=typeof(e=t.then))&&e},rt=function(t,e){if(!t.notified){t.notified=!0;var r=t.reactions;j((function(){for(var n=t.value,o=1==t.state,i=0;r.length>i;){var a,u,c,s=r[i++],f=o?s.ok:s.fail,l=s.resolve,p=s.reject,h=s.domain;try{f?(o||(2===t.rejection&&at(t),t.rejection=1),!0===f?a=n:(h&&h.enter(),a=f(n),h&&(h.exit(),c=!0)),a===s.promise?p(H(\"Promise-chain cycle\")):(u=et(a))?u.call(a,l,p):l(a)):p(n)}catch(t){h&&!c&&h.exit(),p(t)}}t.reactions=[],t.notified=!1,e&&!t.rejection&&ot(t)}))}},nt=function(t,e,r){var n,o;Y?((n=q.createEvent(\"Event\")).promise=e,n.reason=r,n.initEvent(t,!1,!0),s.dispatchEvent(n)):n={promise:e,reason:r},!K&&(o=s[\"on\"+t])?o(n):t===J&&T(\"Unhandled promise rejection\",r)},ot=function(t){O.call(s,(function(){var e,r=t.facade,n=t.value;if(it(t)&&(e=A((function(){C?W.emit(\"unhandledRejection\",n,r):nt(J,r,n)})),t.rejection=C||it(t)?2:1,e.error))throw e.value}))},it=function(t){return 1!==t.rejection&&!t.parent},at=function(t){O.call(s,(function(){var e=t.facade;C?W.emit(\"rejectionHandled\",e):nt(\"rejectionhandled\",e,t.value)}))},ut=function(t,e,r){return function(n){t(e,n,r)}},ct=function(t,e,r){t.done||(t.done=!0,r&&(t=r),t.value=e,t.state=2,rt(t,!0))},st=function(t,e,r){if(!t.done){t.done=!0,r&&(t=r);try{if(t.facade===e)throw H(\"Promise can't be resolved itself\");var n=et(e);n?j((function(){var r={done:!1};try{n.call(e,ut(st,r,t),ut(ct,r,t))}catch(e){ct(r,e,t)}})):(t.value=e,t.state=1,rt(t,!1))}catch(e){ct({done:!1},e,t)}}};if(Z&&($=(X=function(t){m(this,X,M),b(t),n.call(this);var e=F(this);try{t(ut(st,e),ut(ct,e))}catch(t){ct(e,t)}}).prototype,(n=function(t){U(this,{type:M,done:!1,notified:!1,parent:!1,reactions:[],rejection:!1,state:0,value:void 0})}).prototype=h($,{then:function(t,e){var r=N(this),n=V(S(this,X));return n.ok=\"function\"!=typeof t||t,n.fail=\"function\"==typeof e&&e,n.domain=C?W.domain:void 0,r.parent=!0,r.reactions.push(n),0!=r.state&&rt(r,!1),n.promise},catch:function(t){return this.then(void 0,t)}}),o=function(){var t=new n,e=F(t);this.promise=t,this.resolve=ut(st,e),this.reject=ut(ct,e)},_.f=V=function(t){return t===X||t===i?new o(t):z(t)},!c&&\"function\"==typeof l&&G!==Object.prototype)){a=G.then,Q||(p(G,\"then\",(function(t,e){var r=this;return new X((function(t,e){a.call(r,t,e)})).then(t,e)}),{unsafe:!0}),p(G,\"catch\",$.catch,{unsafe:!0}));try{delete G.constructor}catch(t){}d&&d(G,$)}u({global:!0,wrap:!0,forced:Z},{Promise:X}),v(X,M,!1,!0),y(M),i=f(M),u({target:M,stat:!0,forced:Z},{reject:function(t){var e=V(this);return e.reject.call(void 0,t),e.promise}}),u({target:M,stat:!0,forced:c||Z},{resolve:function(t){return P(c&&this===i?X:this,t)}}),u({target:M,stat:!0,forced:tt},{all:function(t){var e=this,r=V(e),n=r.resolve,o=r.reject,i=A((function(){var r=b(e.resolve),i=[],a=0,u=1;w(t,(function(t){var c=a++,s=!1;i.push(void 0),u++,r.call(e,t).then((function(t){s||(s=!0,i[c]=t,--u||n(i))}),o)})),--u||n(i)}));return i.error&&o(i.value),r.promise},race:function(t){var e=this,r=V(e),n=r.reject,o=A((function(){var o=b(e.resolve);w(t,(function(t){o.call(e,t).then(r.resolve,n)}))}));return o.error&&n(o.value),r.promise}})},4916:function(t,e,r){\"use strict\";var n=r(2109),o=r(2261);n({target:\"RegExp\",proto:!0,forced:/./.exec!==o},{exec:o})},5218:function(t,e,r){\"use strict\";var n=r(2109),o=r(4230);n({target:\"String\",proto:!0,forced:r(3429)(\"anchor\")},{anchor:function(t){return o(this,\"a\",\"name\",t)}})},4475:function(t,e,r){\"use strict\";var n=r(2109),o=r(4230);n({target:\"String\",proto:!0,forced:r(3429)(\"big\")},{big:function(){return o(this,\"big\",\"\",\"\")}})},7929:function(t,e,r){\"use strict\";var n=r(2109),o=r(4230);n({target:\"String\",proto:!0,forced:r(3429)(\"blink\")},{blink:function(){return o(this,\"blink\",\"\",\"\")}})},915:function(t,e,r){\"use strict\";var n=r(2109),o=r(4230);n({target:\"String\",proto:!0,forced:r(3429)(\"bold\")},{bold:function(){return o(this,\"b\",\"\",\"\")}})},9841:function(t,e,r){\"use strict\";var n=r(2109),o=r(8710).codeAt;n({target:\"String\",proto:!0},{codePointAt:function(t){return o(this,t)}})},7852:function(t,e,r){\"use strict\";var n,o=r(2109),i=r(1236).f,a=r(7466),u=r(1340),c=r(3929),s=r(4488),f=r(4964),l=r(1913),p=\"\".endsWith,h=Math.min,d=f(\"endsWith\");o({target:\"String\",proto:!0,forced:!!(l||d||(n=i(String.prototype,\"endsWith\"),!n||n.writable))&&!d},{endsWith:function(t){var e=u(s(this));c(t);var r=arguments.length>1?arguments[1]:void 0,n=a(e.length),o=void 0===r?n:h(a(r),n),i=u(t);return p?p.call(e,i,o):e.slice(o-i.length,o)===i}})},9253:function(t,e,r){\"use strict\";var n=r(2109),o=r(4230);n({target:\"String\",proto:!0,forced:r(3429)(\"fixed\")},{fixed:function(){return o(this,\"tt\",\"\",\"\")}})},2125:function(t,e,r){\"use strict\";var n=r(2109),o=r(4230);n({target:\"String\",proto:!0,forced:r(3429)(\"fontcolor\")},{fontcolor:function(t){return o(this,\"font\",\"color\",t)}})},8830:function(t,e,r){\"use strict\";var n=r(2109),o=r(4230);n({target:\"String\",proto:!0,forced:r(3429)(\"fontsize\")},{fontsize:function(t){return o(this,\"font\",\"size\",t)}})},4953:function(t,e,r){var n=r(2109),o=r(1400),i=String.fromCharCode,a=String.fromCodePoint;n({target:\"String\",stat:!0,forced:!!a&&1!=a.length},{fromCodePoint:function(t){for(var e,r=[],n=arguments.length,a=0;n>a;){if(e=+arguments[a++],o(e,1114111)!==e)throw RangeError(e+\" is not a valid code point\");r.push(e<65536?i(e):i(55296+((e-=65536)>>10),e%1024+56320))}return r.join(\"\")}})},2023:function(t,e,r){\"use strict\";var n=r(2109),o=r(3929),i=r(4488),a=r(1340);n({target:\"String\",proto:!0,forced:!r(4964)(\"includes\")},{includes:function(t){return!!~a(i(this)).indexOf(a(o(t)),arguments.length>1?arguments[1]:void 0)}})},8734:function(t,e,r){\"use strict\";var n=r(2109),o=r(4230);n({target:\"String\",proto:!0,forced:r(3429)(\"italics\")},{italics:function(){return o(this,\"i\",\"\",\"\")}})},8783:function(t,e,r){\"use strict\";var n=r(8710).charAt,o=r(1340),i=r(9909),a=r(654),u=\"String Iterator\",c=i.set,s=i.getterFor(u);a(String,\"String\",(function(t){c(this,{type:u,string:o(t),index:0})}),(function(){var t,e=s(this),r=e.string,o=e.index;return o>=r.length?{value:void 0,done:!0}:(t=n(r,o),e.index+=t.length,{value:t,done:!1})}))},9254:function(t,e,r){\"use strict\";var n=r(2109),o=r(4230);n({target:\"String\",proto:!0,forced:r(3429)(\"link\")},{link:function(t){return o(this,\"a\",\"href\",t)}})},6373:function(t,e,r){\"use strict\";var n=r(2109),o=r(4994),i=r(4488),a=r(7466),u=r(1340),c=r(3099),s=r(9670),f=r(4326),l=r(7850),p=r(7066),h=r(8880),d=r(7293),v=r(5112),y=r(6707),g=r(1530),b=r(9909),m=r(1913),x=v(\"matchAll\"),w=\"RegExp String\",E=\"RegExp String Iterator\",S=b.set,O=b.getterFor(E),j=RegExp.prototype,P=j.exec,T=\"\".matchAll,_=!!T&&!d((function(){\"a\".matchAll(/./)})),A=o((function(t,e,r,n){S(this,{type:E,regexp:t,string:e,global:r,unicode:n,done:!1})}),w,(function(){var t=O(this);if(t.done)return{value:void 0,done:!0};var e=t.regexp,r=t.string,n=function(t,e){var r,n=t.exec;if(\"function\"==typeof n){if(\"object\"!=typeof(r=n.call(t,e)))throw TypeError(\"Incorrect exec result\");return r}return P.call(t,e)}(e,r);return null===n?{value:void 0,done:t.done=!0}:t.global?(\"\"===u(n[0])&&(e.lastIndex=g(r,a(e.lastIndex),t.unicode)),{value:n,done:!1}):(t.done=!0,{value:n,done:!1})})),I=function(t){var e,r,n,o,i,c,f=s(this),l=u(t);return e=y(f,RegExp),void 0===(r=f.flags)&&f instanceof RegExp&&!(\"flags\"in j)&&(r=p.call(f)),n=void 0===r?\"\":u(r),o=new e(e===RegExp?f.source:f,n),i=!!~n.indexOf(\"g\"),c=!!~n.indexOf(\"u\"),o.lastIndex=a(f.lastIndex),new A(o,l,i,c)};n({target:\"String\",proto:!0,forced:_},{matchAll:function(t){var e,r,n,o=i(this);if(null!=t){if(l(t)&&!~u(i(\"flags\"in j?t.flags:p.call(t))).indexOf(\"g\"))throw TypeError(\"`.matchAll` does not allow non-global regexes\");if(_)return T.apply(o,arguments);if(void 0===(r=t[x])&&m&&\"RegExp\"==f(t)&&(r=I),null!=r)return c(r).call(t,o)}else if(_)return T.apply(o,arguments);return e=u(o),n=new RegExp(t,\"g\"),m?I.call(n,e):n[x](e)}}),m||x in j||h(j,x,I)},4723:function(t,e,r){\"use strict\";var n=r(7007),o=r(9670),i=r(7466),a=r(1340),u=r(4488),c=r(1530),s=r(7651);n(\"match\",(function(t,e,r){return[function(e){var r=u(this),n=null==e?void 0:e[t];return void 0!==n?n.call(e,r):new RegExp(e)[t](a(r))},function(t){var n=o(this),u=a(t),f=r(e,n,u);if(f.done)return f.value;if(!n.global)return s(n,u);var l=n.unicode;n.lastIndex=0;for(var p,h=[],d=0;null!==(p=s(n,u));){var v=a(p[0]);h[d]=v,\"\"===v&&(n.lastIndex=c(u,i(n.lastIndex),l)),d++}return 0===d?null:h}]}))},6528:function(t,e,r){\"use strict\";var n=r(2109),o=r(6650).end;n({target:\"String\",proto:!0,forced:r(4986)},{padEnd:function(t){return o(this,t,arguments.length>1?arguments[1]:void 0)}})},3112:function(t,e,r){\"use strict\";var n=r(2109),o=r(6650).start;n({target:\"String\",proto:!0,forced:r(4986)},{padStart:function(t){return o(this,t,arguments.length>1?arguments[1]:void 0)}})},8992:function(t,e,r){var n=r(2109),o=r(5656),i=r(7466),a=r(1340);n({target:\"String\",stat:!0},{raw:function(t){for(var e=o(t.raw),r=i(e.length),n=arguments.length,u=[],c=0;r>c;)u.push(a(e[c++])),c<n&&u.push(a(arguments[c]));return u.join(\"\")}})},2481:function(t,e,r){r(2109)({target:\"String\",proto:!0},{repeat:r(8415)})},8757:function(t,e,r){\"use strict\";var n=r(2109),o=r(4488),i=r(7850),a=r(1340),u=r(7066),c=r(647),s=r(5112),f=r(1913),l=s(\"replace\"),p=RegExp.prototype,h=Math.max,d=function(t,e,r){return r>t.length?-1:\"\"===e?r:t.indexOf(e,r)};n({target:\"String\",proto:!0},{replaceAll:function(t,e){var r,n,s,v,y,g,b,m,x=o(this),w=0,E=0,S=\"\";if(null!=t){if((r=i(t))&&!~a(o(\"flags\"in p?t.flags:u.call(t))).indexOf(\"g\"))throw TypeError(\"`.replaceAll` does not allow non-global regexes\");if(void 0!==(n=t[l]))return n.call(t,x,e);if(f&&r)return a(x).replace(t,e)}for(s=a(x),v=a(t),(y=\"function\"==typeof e)||(e=a(e)),g=v.length,b=h(1,g),w=d(s,v,0);-1!==w;)m=y?a(e(v,w,s)):c(v,s,w,[],void 0,e),S+=s.slice(E,w)+m,E=w+g,w=d(s,v,w+b);return E<s.length&&(S+=s.slice(E)),S}})},5306:function(t,e,r){\"use strict\";var n=r(7007),o=r(7293),i=r(9670),a=r(9958),u=r(7466),c=r(1340),s=r(4488),f=r(1530),l=r(647),p=r(7651),h=r(5112)(\"replace\"),d=Math.max,v=Math.min,y=\"$0\"===\"a\".replace(/./,\"$0\"),g=!!/./[h]&&\"\"===/./[h](\"a\",\"$0\");n(\"replace\",(function(t,e,r){var n=g?\"$\":\"$0\";return[function(t,r){var n=s(this),o=null==t?void 0:t[h];return void 0!==o?o.call(t,n,r):e.call(c(n),t,r)},function(t,o){var s=i(this),h=c(t);if(\"string\"==typeof o&&-1===o.indexOf(n)&&-1===o.indexOf(\"$<\")){var y=r(e,s,h,o);if(y.done)return y.value}var g=\"function\"==typeof o;g||(o=c(o));var b=s.global;if(b){var m=s.unicode;s.lastIndex=0}for(var x=[];;){var w=p(s,h);if(null===w)break;if(x.push(w),!b)break;\"\"===c(w[0])&&(s.lastIndex=f(h,u(s.lastIndex),m))}for(var E,S=\"\",O=0,j=0;j<x.length;j++){w=x[j];for(var P=c(w[0]),T=d(v(a(w.index),h.length),0),_=[],A=1;A<w.length;A++)_.push(void 0===(E=w[A])?E:String(E));var I=w.groups;if(g){var R=[P].concat(_,T,h);void 0!==I&&R.push(I);var L=c(o.apply(void 0,R))}else L=l(P,h,T,_,I,o);T>=O&&(S+=h.slice(O,T)+L,O=T+P.length)}return S+h.slice(O)}]}),!!o((function(){var t=/./;return t.exec=function(){var t=[];return t.groups={a:\"7\"},t},\"7\"!==\"\".replace(t,\"$<a>\")}))||!y||g)},4765:function(t,e,r){\"use strict\";var n=r(7007),o=r(9670),i=r(4488),a=r(6029),u=r(1340),c=r(7651);n(\"search\",(function(t,e,r){return[function(e){var r=i(this),n=null==e?void 0:e[t];return void 0!==n?n.call(e,r):new RegExp(e)[t](u(r))},function(t){var n=o(this),i=u(t),s=r(e,n,i);if(s.done)return s.value;var f=n.lastIndex;a(f,0)||(n.lastIndex=0);var l=c(n,i);return a(n.lastIndex,f)||(n.lastIndex=f),null===l?-1:l.index}]}))},7268:function(t,e,r){\"use strict\";var n=r(2109),o=r(4230);n({target:\"String\",proto:!0,forced:r(3429)(\"small\")},{small:function(){return o(this,\"small\",\"\",\"\")}})},3123:function(t,e,r){\"use strict\";var n=r(7007),o=r(7850),i=r(9670),a=r(4488),u=r(6707),c=r(1530),s=r(7466),f=r(1340),l=r(7651),p=r(2261),h=r(2999),d=r(7293),v=h.UNSUPPORTED_Y,y=[].push,g=Math.min,b=4294967295;n(\"split\",(function(t,e,r){var n;return n=\"c\"==\"abbc\".split(/(b)*/)[1]||4!=\"test\".split(/(?:)/,-1).length||2!=\"ab\".split(/(?:ab)*/).length||4!=\".\".split(/(.?)(.?)/).length||\".\".split(/()()/).length>1||\"\".split(/.?/).length?function(t,r){var n=f(a(this)),i=void 0===r?b:r>>>0;if(0===i)return[];if(void 0===t)return[n];if(!o(t))return e.call(n,t,i);for(var u,c,s,l=[],h=(t.ignoreCase?\"i\":\"\")+(t.multiline?\"m\":\"\")+(t.unicode?\"u\":\"\")+(t.sticky?\"y\":\"\"),d=0,v=new RegExp(t.source,h+\"g\");(u=p.call(v,n))&&!((c=v.lastIndex)>d&&(l.push(n.slice(d,u.index)),u.length>1&&u.index<n.length&&y.apply(l,u.slice(1)),s=u[0].length,d=c,l.length>=i));)v.lastIndex===u.index&&v.lastIndex++;return d===n.length?!s&&v.test(\"\")||l.push(\"\"):l.push(n.slice(d)),l.length>i?l.slice(0,i):l}:\"0\".split(void 0,0).length?function(t,r){return void 0===t&&0===r?[]:e.call(this,t,r)}:e,[function(e,r){var o=a(this),i=null==e?void 0:e[t];return void 0!==i?i.call(e,o,r):n.call(f(o),e,r)},function(t,o){var a=i(this),p=f(t),h=r(n,a,p,o,n!==e);if(h.done)return h.value;var d=u(a,RegExp),y=a.unicode,m=(a.ignoreCase?\"i\":\"\")+(a.multiline?\"m\":\"\")+(a.unicode?\"u\":\"\")+(v?\"g\":\"y\"),x=new d(v?\"^(?:\"+a.source+\")\":a,m),w=void 0===o?b:o>>>0;if(0===w)return[];if(0===p.length)return null===l(x,p)?[p]:[];for(var E=0,S=0,O=[];S<p.length;){x.lastIndex=v?0:S;var j,P=l(x,v?p.slice(S):p);if(null===P||(j=g(s(x.lastIndex+(v?S:0)),p.length))===E)S=c(p,S,y);else{if(O.push(p.slice(E,S)),O.length===w)return O;for(var T=1;T<=P.length-1;T++)if(O.push(P[T]),O.length===w)return O;S=E=j}}return O.push(p.slice(E)),O}]}),!!d((function(){var t=/(?:)/,e=t.exec;t.exec=function(){return e.apply(this,arguments)};var r=\"ab\".split(t);return 2!==r.length||\"a\"!==r[0]||\"b\"!==r[1]})),v)},3157:function(t,e,r){\"use strict\";var n,o=r(2109),i=r(1236).f,a=r(7466),u=r(1340),c=r(3929),s=r(4488),f=r(4964),l=r(1913),p=\"\".startsWith,h=Math.min,d=f(\"startsWith\");o({target:\"String\",proto:!0,forced:!!(l||d||(n=i(String.prototype,\"startsWith\"),!n||n.writable))&&!d},{startsWith:function(t){var e=u(s(this));c(t);var r=a(h(arguments.length>1?arguments[1]:void 0,e.length)),n=u(t);return p?p.call(e,n,r):e.slice(r,r+n.length)===n}})},7397:function(t,e,r){\"use strict\";var n=r(2109),o=r(4230);n({target:\"String\",proto:!0,forced:r(3429)(\"strike\")},{strike:function(){return o(this,\"strike\",\"\",\"\")}})},86:function(t,e,r){\"use strict\";var n=r(2109),o=r(4230);n({target:\"String\",proto:!0,forced:r(3429)(\"sub\")},{sub:function(){return o(this,\"sub\",\"\",\"\")}})},3650:function(t,e,r){\"use strict\";var n=r(2109),o=r(4488),i=r(9958),a=r(1340),u=\"\".slice,c=Math.max,s=Math.min;n({target:\"String\",proto:!0},{substr:function(t,e){var r,n,f=a(o(this)),l=f.length,p=i(t);return p===1/0&&(p=0),p<0&&(p=c(l+p,0)),(r=void 0===e?l:i(e))<=0||r===1/0||p>=(n=s(p+r,l))?\"\":u.call(f,p,n)}})},623:function(t,e,r){\"use strict\";var n=r(2109),o=r(4230);n({target:\"String\",proto:!0,forced:r(3429)(\"sup\")},{sup:function(){return o(this,\"sup\",\"\",\"\")}})},8702:function(t,e,r){\"use strict\";var n=r(2109),o=r(3111).end,i=r(6091)(\"trimEnd\"),a=i?function(){return o(this)}:\"\".trimEnd;n({target:\"String\",proto:!0,forced:i},{trimEnd:a,trimRight:a})},5674:function(t,e,r){\"use strict\";var n=r(2109),o=r(3111).start,i=r(6091)(\"trimStart\"),a=i?function(){return o(this)}:\"\".trimStart;n({target:\"String\",proto:!0,forced:i},{trimStart:a,trimLeft:a})},3210:function(t,e,r){\"use strict\";var n=r(2109),o=r(3111).trim;n({target:\"String\",proto:!0,forced:r(6091)(\"trim\")},{trim:function(){return o(this)}})},3948:function(t,e,r){var n=r(7854),o=r(8324),i=r(6992),a=r(8880),u=r(5112),c=u(\"iterator\"),s=u(\"toStringTag\"),f=i.values;for(var l in o){var p=n[l],h=p&&p.prototype;if(h){if(h[c]!==f)try{a(h,c,f)}catch(t){h[c]=f}if(h[s]||a(h,s,l),o[l])for(var d in i)if(h[d]!==i[d])try{a(h,d,i[d])}catch(t){h[d]=i[d]}}}},1150:function(t,e,r){var n=r(7633);r(3948),t.exports=n},9712:function(t,e,r){var n=r(1111);t.exports=n},5666:function(t){var e=function(t){\"use strict\";var e,r=Object.prototype,n=r.hasOwnProperty,o=\"function\"==typeof Symbol?Symbol:{},i=o.iterator||\"@@iterator\",a=o.asyncIterator||\"@@asyncIterator\",u=o.toStringTag||\"@@toStringTag\";function c(t,e,r){return Object.defineProperty(t,e,{value:r,enumerable:!0,configurable:!0,writable:!0}),t[e]}try{c({},\"\")}catch(t){c=function(t,e,r){return t[e]=r}}function s(t,e,r,n){var o=e&&e.prototype instanceof y?e:y,i=Object.create(o.prototype),a=new _(n||[]);return i._invoke=function(t,e,r){var n=l;return function(o,i){if(n===h)throw new Error(\"Generator is already running\");if(n===d){if(\"throw\"===o)throw i;return I()}for(r.method=o,r.arg=i;;){var a=r.delegate;if(a){var u=j(a,r);if(u){if(u===v)continue;return u}}if(\"next\"===r.method)r.sent=r._sent=r.arg;else if(\"throw\"===r.method){if(n===l)throw n=d,r.arg;r.dispatchException(r.arg)}else\"return\"===r.method&&r.abrupt(\"return\",r.arg);n=h;var c=f(t,e,r);if(\"normal\"===c.type){if(n=r.done?d:p,c.arg===v)continue;return{value:c.arg,done:r.done}}\"throw\"===c.type&&(n=d,r.method=\"throw\",r.arg=c.arg)}}}(t,r,a),i}function f(t,e,r){try{return{type:\"normal\",arg:t.call(e,r)}}catch(t){return{type:\"throw\",arg:t}}}t.wrap=s;var l=\"suspendedStart\",p=\"suspendedYield\",h=\"executing\",d=\"completed\",v={};function y(){}function g(){}function b(){}var m={};m[i]=function(){return this};var x=Object.getPrototypeOf,w=x&&x(x(A([])));w&&w!==r&&n.call(w,i)&&(m=w);var E=b.prototype=y.prototype=Object.create(m);function S(t){[\"next\",\"throw\",\"return\"].forEach((function(e){c(t,e,(function(t){return this._invoke(e,t)}))}))}function O(t,e){function r(o,i,a,u){var c=f(t[o],t,i);if(\"throw\"!==c.type){var s=c.arg,l=s.value;return l&&\"object\"==typeof l&&n.call(l,\"__await\")?e.resolve(l.__await).then((function(t){r(\"next\",t,a,u)}),(function(t){r(\"throw\",t,a,u)})):e.resolve(l).then((function(t){s.value=t,a(s)}),(function(t){return r(\"throw\",t,a,u)}))}u(c.arg)}var o;this._invoke=function(t,n){function i(){return new e((function(e,o){r(t,n,e,o)}))}return o=o?o.then(i,i):i()}}function j(t,r){var n=t.iterator[r.method];if(n===e){if(r.delegate=null,\"throw\"===r.method){if(t.iterator.return&&(r.method=\"return\",r.arg=e,j(t,r),\"throw\"===r.method))return v;r.method=\"throw\",r.arg=new TypeError(\"The iterator does not provide a 'throw' method\")}return v}var o=f(n,t.iterator,r.arg);if(\"throw\"===o.type)return r.method=\"throw\",r.arg=o.arg,r.delegate=null,v;var i=o.arg;return i?i.done?(r[t.resultName]=i.value,r.next=t.nextLoc,\"return\"!==r.method&&(r.method=\"next\",r.arg=e),r.delegate=null,v):i:(r.method=\"throw\",r.arg=new TypeError(\"iterator result is not an object\"),r.delegate=null,v)}function P(t){var e={tryLoc:t[0]};1 in t&&(e.catchLoc=t[1]),2 in t&&(e.finallyLoc=t[2],e.afterLoc=t[3]),this.tryEntries.push(e)}function T(t){var e=t.completion||{};e.type=\"normal\",delete e.arg,t.completion=e}function _(t){this.tryEntries=[{tryLoc:\"root\"}],t.forEach(P,this),this.reset(!0)}function A(t){if(t){var r=t[i];if(r)return r.call(t);if(\"function\"==typeof t.next)return t;if(!isNaN(t.length)){var o=-1,a=function r(){for(;++o<t.length;)if(n.call(t,o))return r.value=t[o],r.done=!1,r;return r.value=e,r.done=!0,r};return a.next=a}}return{next:I}}function I(){return{value:e,done:!0}}return g.prototype=E.constructor=b,b.constructor=g,g.displayName=c(b,u,\"GeneratorFunction\"),t.isGeneratorFunction=function(t){var e=\"function\"==typeof t&&t.constructor;return!!e&&(e===g||\"GeneratorFunction\"===(e.displayName||e.name))},t.mark=function(t){return Object.setPrototypeOf?Object.setPrototypeOf(t,b):(t.__proto__=b,c(t,u,\"GeneratorFunction\")),t.prototype=Object.create(E),t},t.awrap=function(t){return{__await:t}},S(O.prototype),O.prototype[a]=function(){return this},t.AsyncIterator=O,t.async=function(e,r,n,o,i){void 0===i&&(i=Promise);var a=new O(s(e,r,n,o),i);return t.isGeneratorFunction(r)?a:a.next().then((function(t){return t.done?t.value:a.next()}))},S(E),c(E,u,\"Generator\"),E[i]=function(){return this},E.toString=function(){return\"[object Generator]\"},t.keys=function(t){var e=[];for(var r in t)e.push(r);return e.reverse(),function r(){for(;e.length;){var n=e.pop();if(n in t)return r.value=n,r.done=!1,r}return r.done=!0,r}},t.values=A,_.prototype={constructor:_,reset:function(t){if(this.prev=0,this.next=0,this.sent=this._sent=e,this.done=!1,this.delegate=null,this.method=\"next\",this.arg=e,this.tryEntries.forEach(T),!t)for(var r in this)\"t\"===r.charAt(0)&&n.call(this,r)&&!isNaN(+r.slice(1))&&(this[r]=e)},stop:function(){this.done=!0;var t=this.tryEntries[0].completion;if(\"throw\"===t.type)throw t.arg;return this.rval},dispatchException:function(t){if(this.done)throw t;var r=this;function o(n,o){return u.type=\"throw\",u.arg=t,r.next=n,o&&(r.method=\"next\",r.arg=e),!!o}for(var i=this.tryEntries.length-1;i>=0;--i){var a=this.tryEntries[i],u=a.completion;if(\"root\"===a.tryLoc)return o(\"end\");if(a.tryLoc<=this.prev){var c=n.call(a,\"catchLoc\"),s=n.call(a,\"finallyLoc\");if(c&&s){if(this.prev<a.catchLoc)return o(a.catchLoc,!0);if(this.prev<a.finallyLoc)return o(a.finallyLoc)}else if(c){if(this.prev<a.catchLoc)return o(a.catchLoc,!0)}else{if(!s)throw new Error(\"try statement without catch or finally\");if(this.prev<a.finallyLoc)return o(a.finallyLoc)}}}},abrupt:function(t,e){for(var r=this.tryEntries.length-1;r>=0;--r){var o=this.tryEntries[r];if(o.tryLoc<=this.prev&&n.call(o,\"finallyLoc\")&&this.prev<o.finallyLoc){var i=o;break}}i&&(\"break\"===t||\"continue\"===t)&&i.tryLoc<=e&&e<=i.finallyLoc&&(i=null);var a=i?i.completion:{};return a.type=t,a.arg=e,i?(this.method=\"next\",this.next=i.finallyLoc,v):this.complete(a)},complete:function(t,e){if(\"throw\"===t.type)throw t.arg;return\"break\"===t.type||\"continue\"===t.type?this.next=t.arg:\"return\"===t.type?(this.rval=this.arg=t.arg,this.method=\"return\",this.next=\"end\"):\"normal\"===t.type&&e&&(this.next=e),v},finish:function(t){for(var e=this.tryEntries.length-1;e>=0;--e){var r=this.tryEntries[e];if(r.finallyLoc===t)return this.complete(r.completion,r.afterLoc),T(r),v}},catch:function(t){for(var e=this.tryEntries.length-1;e>=0;--e){var r=this.tryEntries[e];if(r.tryLoc===t){var n=r.completion;if(\"throw\"===n.type){var o=n.arg;T(r)}return o}}throw new Error(\"illegal catch attempt\")},delegateYield:function(t,r,n){return this.delegate={iterator:A(t),resultName:r,nextLoc:n},\"next\"===this.method&&(this.arg=e),v}},t}(t.exports);try{regeneratorRuntime=e}catch(t){Function(\"r\",\"regeneratorRuntime = r\")(e)}},7147:function(t,e,r){\"use strict\";var n=\"undefined\"!=typeof globalThis&&globalThis||\"undefined\"!=typeof self&&self||void 0!==n&&n,o=\"URLSearchParams\"in n,i=\"Symbol\"in n&&\"iterator\"in Symbol,a=\"FileReader\"in n&&\"Blob\"in n&&function(){try{return new Blob,!0}catch(t){return!1}}(),u=\"FormData\"in n,c=\"ArrayBuffer\"in n;if(c)var s=[\"[object Int8Array]\",\"[object Uint8Array]\",\"[object Uint8ClampedArray]\",\"[object Int16Array]\",\"[object Uint16Array]\",\"[object Int32Array]\",\"[object Uint32Array]\",\"[object Float32Array]\",\"[object Float64Array]\"],f=ArrayBuffer.isView||function(t){return t&&s.indexOf(Object.prototype.toString.call(t))>-1};function l(t){if(\"string\"!=typeof t&&(t=String(t)),/[^a-z0-9\\-#$%&'*+.^_`|~!]/i.test(t)||\"\"===t)throw new TypeError('Invalid character in header field name: \"'+t+'\"');return t.toLowerCase()}function p(t){return\"string\"!=typeof t&&(t=String(t)),t}function h(t){var e={next:function(){var e=t.shift();return{done:void 0===e,value:e}}};return i&&(e[Symbol.iterator]=function(){return e}),e}function d(t){this.map={},t instanceof d?t.forEach((function(t,e){this.append(e,t)}),this):Array.isArray(t)?t.forEach((function(t){this.append(t[0],t[1])}),this):t&&Object.getOwnPropertyNames(t).forEach((function(e){this.append(e,t[e])}),this)}function v(t){if(t.bodyUsed)return Promise.reject(new TypeError(\"Already read\"));t.bodyUsed=!0}function y(t){return new Promise((function(e,r){t.onload=function(){e(t.result)},t.onerror=function(){r(t.error)}}))}function g(t){var e=new FileReader,r=y(e);return e.readAsArrayBuffer(t),r}function b(t){if(t.slice)return t.slice(0);var e=new Uint8Array(t.byteLength);return e.set(new Uint8Array(t)),e.buffer}function m(){return this.bodyUsed=!1,this._initBody=function(t){var e;this.bodyUsed=this.bodyUsed,this._bodyInit=t,t?\"string\"==typeof t?this._bodyText=t:a&&Blob.prototype.isPrototypeOf(t)?this._bodyBlob=t:u&&FormData.prototype.isPrototypeOf(t)?this._bodyFormData=t:o&&URLSearchParams.prototype.isPrototypeOf(t)?this._bodyText=t.toString():c&&a&&((e=t)&&DataView.prototype.isPrototypeOf(e))?(this._bodyArrayBuffer=b(t.buffer),this._bodyInit=new Blob([this._bodyArrayBuffer])):c&&(ArrayBuffer.prototype.isPrototypeOf(t)||f(t))?this._bodyArrayBuffer=b(t):this._bodyText=t=Object.prototype.toString.call(t):this._bodyText=\"\",this.headers.get(\"content-type\")||(\"string\"==typeof t?this.headers.set(\"content-type\",\"text/plain;charset=UTF-8\"):this._bodyBlob&&this._bodyBlob.type?this.headers.set(\"content-type\",this._bodyBlob.type):o&&URLSearchParams.prototype.isPrototypeOf(t)&&this.headers.set(\"content-type\",\"application/x-www-form-urlencoded;charset=UTF-8\"))},a&&(this.blob=function(){var t=v(this);if(t)return t;if(this._bodyBlob)return Promise.resolve(this._bodyBlob);if(this._bodyArrayBuffer)return Promise.resolve(new Blob([this._bodyArrayBuffer]));if(this._bodyFormData)throw new Error(\"could not read FormData body as blob\");return Promise.resolve(new Blob([this._bodyText]))},this.arrayBuffer=function(){if(this._bodyArrayBuffer){var t=v(this);return t||(ArrayBuffer.isView(this._bodyArrayBuffer)?Promise.resolve(this._bodyArrayBuffer.buffer.slice(this._bodyArrayBuffer.byteOffset,this._bodyArrayBuffer.byteOffset+this._bodyArrayBuffer.byteLength)):Promise.resolve(this._bodyArrayBuffer))}return this.blob().then(g)}),this.text=function(){var t,e,r,n=v(this);if(n)return n;if(this._bodyBlob)return t=this._bodyBlob,e=new FileReader,r=y(e),e.readAsText(t),r;if(this._bodyArrayBuffer)return Promise.resolve(function(t){for(var e=new Uint8Array(t),r=new Array(e.length),n=0;n<e.length;n++)r[n]=String.fromCharCode(e[n]);return r.join(\"\")}(this._bodyArrayBuffer));if(this._bodyFormData)throw new Error(\"could not read FormData body as text\");return Promise.resolve(this._bodyText)},u&&(this.formData=function(){return this.text().then(E)}),this.json=function(){return this.text().then(JSON.parse)},this}d.prototype.append=function(t,e){t=l(t),e=p(e);var r=this.map[t];this.map[t]=r?r+\", \"+e:e},d.prototype.delete=function(t){delete this.map[l(t)]},d.prototype.get=function(t){return t=l(t),this.has(t)?this.map[t]:null},d.prototype.has=function(t){return this.map.hasOwnProperty(l(t))},d.prototype.set=function(t,e){this.map[l(t)]=p(e)},d.prototype.forEach=function(t,e){for(var r in this.map)this.map.hasOwnProperty(r)&&t.call(e,this.map[r],r,this)},d.prototype.keys=function(){var t=[];return this.forEach((function(e,r){t.push(r)})),h(t)},d.prototype.values=function(){var t=[];return this.forEach((function(e){t.push(e)})),h(t)},d.prototype.entries=function(){var t=[];return this.forEach((function(e,r){t.push([r,e])})),h(t)},i&&(d.prototype[Symbol.iterator]=d.prototype.entries);var x=[\"DELETE\",\"GET\",\"HEAD\",\"OPTIONS\",\"POST\",\"PUT\"];function w(t,e){if(!(this instanceof w))throw new TypeError('Please use the \"new\" operator, this DOM object constructor cannot be called as a function.');var r,n,o=(e=e||{}).body;if(t instanceof w){if(t.bodyUsed)throw new TypeError(\"Already read\");this.url=t.url,this.credentials=t.credentials,e.headers||(this.headers=new d(t.headers)),this.method=t.method,this.mode=t.mode,this.signal=t.signal,o||null==t._bodyInit||(o=t._bodyInit,t.bodyUsed=!0)}else this.url=String(t);if(this.credentials=e.credentials||this.credentials||\"same-origin\",!e.headers&&this.headers||(this.headers=new d(e.headers)),this.method=(r=e.method||this.method||\"GET\",n=r.toUpperCase(),x.indexOf(n)>-1?n:r),this.mode=e.mode||this.mode||null,this.signal=e.signal||this.signal,this.referrer=null,(\"GET\"===this.method||\"HEAD\"===this.method)&&o)throw new TypeError(\"Body not allowed for GET or HEAD requests\");if(this._initBody(o),!(\"GET\"!==this.method&&\"HEAD\"!==this.method||\"no-store\"!==e.cache&&\"no-cache\"!==e.cache)){var i=/([?&])_=[^&]*/;if(i.test(this.url))this.url=this.url.replace(i,\"$1_=\"+(new Date).getTime());else{this.url+=(/\\?/.test(this.url)?\"&\":\"?\")+\"_=\"+(new Date).getTime()}}}function E(t){var e=new FormData;return t.trim().split(\"&\").forEach((function(t){if(t){var r=t.split(\"=\"),n=r.shift().replace(/\\+/g,\" \"),o=r.join(\"=\").replace(/\\+/g,\" \");e.append(decodeURIComponent(n),decodeURIComponent(o))}})),e}function S(t,e){if(!(this instanceof S))throw new TypeError('Please use the \"new\" operator, this DOM object constructor cannot be called as a function.');e||(e={}),this.type=\"default\",this.status=void 0===e.status?200:e.status,this.ok=this.status>=200&&this.status<300,this.statusText=void 0===e.statusText?\"\":\"\"+e.statusText,this.headers=new d(e.headers),this.url=e.url||\"\",this._initBody(t)}w.prototype.clone=function(){return new w(this,{body:this._bodyInit})},m.call(w.prototype),m.call(S.prototype),S.prototype.clone=function(){return new S(this._bodyInit,{status:this.status,statusText:this.statusText,headers:new d(this.headers),url:this.url})},S.error=function(){var t=new S(null,{status:0,statusText:\"\"});return t.type=\"error\",t};var O=[301,302,303,307,308];S.redirect=function(t,e){if(-1===O.indexOf(e))throw new RangeError(\"Invalid status code\");return new S(null,{status:e,headers:{location:t}})};var j=n.DOMException;try{new j}catch(t){(j=function(t,e){this.message=t,this.name=e;var r=Error(t);this.stack=r.stack}).prototype=Object.create(Error.prototype),j.prototype.constructor=j}function P(t,e){return new Promise((function(r,o){var i=new w(t,e);if(i.signal&&i.signal.aborted)return o(new j(\"Aborted\",\"AbortError\"));var u=new XMLHttpRequest;function s(){u.abort()}u.onload=function(){var t,e,n={status:u.status,statusText:u.statusText,headers:(t=u.getAllResponseHeaders()||\"\",e=new d,t.replace(/\\r?\\n[\\t ]+/g,\" \").split(\"\\r\").map((function(t){return 0===t.indexOf(\"\\n\")?t.substr(1,t.length):t})).forEach((function(t){var r=t.split(\":\"),n=r.shift().trim();if(n){var o=r.join(\":\").trim();e.append(n,o)}})),e)};n.url=\"responseURL\"in u?u.responseURL:n.headers.get(\"X-Request-URL\");var o=\"response\"in u?u.response:u.responseText;setTimeout((function(){r(new S(o,n))}),0)},u.onerror=function(){setTimeout((function(){o(new TypeError(\"Network request failed\"))}),0)},u.ontimeout=function(){setTimeout((function(){o(new TypeError(\"Network request failed\"))}),0)},u.onabort=function(){setTimeout((function(){o(new j(\"Aborted\",\"AbortError\"))}),0)},u.open(i.method,function(t){try{return\"\"===t&&n.location.href?n.location.href:t}catch(e){return t}}(i.url),!0),\"include\"===i.credentials?u.withCredentials=!0:\"omit\"===i.credentials&&(u.withCredentials=!1),\"responseType\"in u&&(a?u.responseType=\"blob\":c&&i.headers.get(\"Content-Type\")&&-1!==i.headers.get(\"Content-Type\").indexOf(\"application/octet-stream\")&&(u.responseType=\"arraybuffer\")),!e||\"object\"!=typeof e.headers||e.headers instanceof d?i.headers.forEach((function(t,e){u.setRequestHeader(e,t)})):Object.getOwnPropertyNames(e.headers).forEach((function(t){u.setRequestHeader(t,p(e.headers[t]))})),i.signal&&(i.signal.addEventListener(\"abort\",s),u.onreadystatechange=function(){4===u.readyState&&i.signal.removeEventListener(\"abort\",s)}),u.send(void 0===i._bodyInit?null:i._bodyInit)}))}P.polyfill=!0,n.fetch||(n.fetch=P,n.Headers=d,n.Request=w,n.Response=S)}},e={};function r(n){var o=e[n];if(void 0!==o)return o.exports;var i=e[n]={exports:{}};return t[n](i,i.exports,r),i.exports}r.d=function(t,e){for(var n in e)r.o(e,n)&&!r.o(t,n)&&Object.defineProperty(t,n,{enumerable:!0,get:e[n]})},r.g=function(){if(\"object\"==typeof globalThis)return globalThis;try{return this||new Function(\"return this\")()}catch(t){if(\"object\"==typeof window)return window}}(),r.o=function(t,e){return Object.prototype.hasOwnProperty.call(t,e)},r(5666),r(1150),r(9712),r(7147),r(1391);r(9135)}();\n",
       "    window.page = undefined;\n",
       "\n",
       "</script>\n",
       "<link as=\"font\" crossorigin=\"\" href=\"https://static.files.bbci.co.uk/fonts/reith/2.512/BBCReithSans_W_Rg.woff2\" rel=\"preload\" type=\"font/woff2\"/>\n",
       "<script src=\"https://static.files.bbci.co.uk/orbit/ebd948b6090504d3f9a74b26eaba3e9e//js/api-forge-free.min.js\"></script>\n",
       "<!-- navid Web Module: 0.2.0-77.51ea108 -->\n",
       "<!-- searchbox Web Module: 3.0.0-323.7ad0027 -->\n",
       "<!-- navpromo Web Module: 3.0.0-256.4dc0bec -->\n",
       "<!-- cookies Web Module: 0.0.3-653.d0748f0 -->\n",
       "<!-- useractivityhelper Web Module: 1.0.0-188.16ba3fd -->\n",
       "<!-- reverb Web Module: 3.2.0 -->\n",
       "<!-- ads Web Module: 20210817-165412-f6d80c1fa-4.52.3 -->\n",
       "<link href=\"https://static.files.bbci.co.uk/account/id-cta/1.54.4/style/id-cta.css\" rel=\"stylesheet\"/><!--[if IE 8]><link href=\"https://static.files.bbci.co.uk/account/id-cta/1.54.4/style/ie8.css\" rel=\"stylesheet\"/> <![endif]--><script type=\"text/javascript\">(function () {if (!window.require) {throw new Error('idcta: could not find require module');}if (typeof (map) == 'undefined') {var map = {};}if (!!document.createElementNS && !!document.createElementNS('http://www.w3.org/2000/svg', 'svg').createSVGRect) {document.documentElement.className += ' id-svg';}var ptrt = new RegExp(\"[\\\\?&]ptrt=([^&]*)\").exec(document.location.href);var ENDPOINT_URL = 'https://idcta.api.bbc.co.uk';var ENDPOINT_CONFIG = ('/idcta/config?callback=&ptrt=' + (ptrt ? ptrt[1] : encodeURIComponent(document.location.href))).replace(/\\&amp;/g, '&');var ENDPOINT_TRANSLATIONS = '/idcta/translations?callback=';function hasPromise() {var P = window.Promise;var promiseToString = null;if (P) {try {promiseToString = Object.prototype.toString.call(P.resolve());} catch (e) {/*silently ignored*/}}return (promiseToString === '[object Promise]' && !P.cast);}if (hasPromise()) {define('idcta/es6-promise', function () {return window.Promise;});define('idcta-v2/es6-promise', function () {return window.Promise;});}map['idcta-v2'] = 'https://static.files.bbci.co.uk/account/id-cta/1.54.4/modules/idcta-v2';map['idcta-v2/config'] = ENDPOINT_URL + ENDPOINT_CONFIG;map['idcta-v2/translations'] = ENDPOINT_URL + ENDPOINT_TRANSLATIONS;map['idcta'] = 'https://static.files.bbci.co.uk/account/id-cta/1.8.2/modules/idcta';map['idcta-v2/idcta-1'] = 'https://static.files.bbci.co.uk/account/id-cta/1.54.4/modules/idcta-v2/dist/idcta-1.min';map['idcta-v2/experiment-snippet'] = 'https://cdn.optimizely.com/public/4621041136/s/idcta_live';const idctaShim = {deps: ['idcta-v2/idcta-1'],};require({shim: {'idcta-v2/statusbar': idctaShim,'idcta-v2/id-config': idctaShim},map: {'*': {'idcta/idcta-1': 'idcta-v2/idcta-1','idcta': 'idcta-v2',}},paths: map});window.idctaBaseUrl = ENDPOINT_URL;define('idcta/config', ['idcta-v2/config'], function (data) { return data; });define('idcta/translations', ['idcta-v2/translations'], function (data) { return data; });})();</script>\n",
       "<link href=\"https://nav.files.bbci.co.uk/searchbox/ef054f5549cdb02f4468fd830264e4c7/css/box.css\" rel=\"stylesheet\"/>\n",
       "<script src=\"https://static.files.bbci.co.uk/cookies/5fd5880410e68d69e119dc73567d206e/cookie-banner/cookie-library.bundle.js\"></script><script type=\"text/javascript\">void 0!==window.define&&define(\"orb/cookies\",function(){return window.bbccookies})</script>\n",
       "<script type=\"text/javascript\">window.__detectview={clickManagementEnabled:false};</script>\n",
       "<script type=\"text/javascript\">\"use strict\";!function(){window.__reverbStaticLocation=\"https://mybbc-analytics.files.bbci.co.uk/reverb-client-js/\",window.__smarttagVersion=\"5.29.1\",window.__reverb={},window.__reverb.__reverbLoadedPromise=new Promise(function(e,i){window.__reverb.__resolveReverbLoaded=e,window.__reverb.__rejectReverbLoaded=i}),window.__reverb.__reverbTimeout=setTimeout(function(){window.__reverb.__rejectReverbLoaded()},5e3);var i=function(d,a){window.__reverb.__reverbLoadedPromise.then(function(e){if(d&&d.detail){var i=!!d.detail.item,n=d.detail.label,t=i?\"viewability\":d.detail.type,o=d.detail.elem,r=d.detail.originalEvent;d.detail.isClick&&(a=d.detail.isClick),e.userActionEvent(t,n,d.detail,o,r,a)}},function(){console.log(\"Reverb failed to load. Event not sent\")})},n=function(){window.__reverb.__reverbLoadedPromise.then(function(e){e.initialise().then(function(){return e.viewEvent()})},function(){console.log(\"Reverb failed to load. Event not sent\")})};document.addEventListener(\"bbc-user-event\",function(e){i(e,!1)}),document.addEventListener(\"bbc-user-click\",function(e){i(e,!0)}),document.addEventListener(\"bbc-page-updated\",n),window.addEventListener(\"pageshow\",function(e){e.persisted&&n()})}();</script><script async=\"\" src=\"https://mybbc-analytics.files.bbci.co.uk/reverb-client-js/reverb-3.2.0.js\" type=\"text/javascript\"></script>\n",
       "<script type=\"text/javascript\">const adsDebug=/[?|&]ads-debug/.test(window.location.href);var bbcdotcomConfig={},bbcdotcomForgeAsync=!0,googletag=window.googletag||{};googletag.cmd=window.googletag.cmd||[],bbcdotcomScripts=[],tp=window.tp||[],_comscore=window._comscore||[];var bbcdotcom={test:/test/.test(window.location.hostname),adverts:{keyValues:{},breakpoints:{}},advert:{write:function(){},show:function(){},isActive:function(){return!1},layout:function(){return{reset:function(){}}}},config:{init:function(){},isAvailable:function(){return new Promise(function(o){bbcdotcom.resolves?bbcdotcom.resolves.isAvailable.push(o):o(!1)})},isAdsEnabledAsync:function(){return new Promise(function(o){bbcdotcom.resolves?bbcdotcom.resolves.adsEnabled.push(o):o(!1)})},isAnalyticsEnabledAsync:function(){return new Promise(function(o){bbcdotcom.resolves?bbcdotcom.resolves.analyticsEnabled.push(o):o(!1)})},setSections:function(){},setAdsEnabled:function(){},setAnalyticsEnabled:function(){},setAssetPrefix:function(){},setFlagpoles:function(){},setVersion:function(){},setJsPrefix:function(){},setSwfPrefix:function(){},setCssPrefix:function(){},setConfig:function(){},getAssetPrefix:function(){},getJsPrefix:function(){},getSwfPrefix:function(){},getCssPrefix:function(){},isOptimizelyEnabled:function(){},isThirdPartyDisabled:function(){},isThirdPartyDisabledEU:function(){},setEU:function(){}},survey:{init:function(){return!1}},data:{},init:function(){},objects:function(o){return!1},locale:{set:function(){},get:function(){}},setAdKeyValue:function(){},utils:{addEvent:function(){},addHtmlTagClass:function(){},log:function(){}},addLoadEvent:function(){},resolves:{isAvailable:[],adsEnabled:[],analyticsEnabled:[]},resolvePromises:function(){if(bbcdotcom.resolves){for(var o=0;o<bbcdotcom.resolves.isAvailable.length;o++)bbcdotcom.resolves.isAvailable[o](!1);delete bbcdotcom.resolves}},flag:{a:!1,s:!1},asyncCmd:[],isSportApp:function(){var o=window.location.pathname;return void 0!==o&&-1!==o.indexOf(\".app\")&&0===o.indexOf(\"/sport\")},init:function(o){bbcdotcom.asyncCmd.push(function(){bbcdotcom.init(o)})},slotAsync:function(o,n,t,c){bbcdotcom.asyncCmd.push(function(){bbcdotcom.slotAsync(o,n,t,c)})}};bbcdotcom.adverts.slotAsync=function(o,n,t){bbcdotcom.asyncCmd.push(function(){bbcdotcom.adverts.slotAsync(o,n,t)})},bbcdotcom.config.isAdsEnabled=function(){var o=window.location.pathname;return void 0===o||0!==o.indexOf(\"/sport\")||-1===o.indexOf(\".app\")},bbcdotcom.config.isActive=function(){var o=window.location.pathname;return void 0===o||0!==o.indexOf(\"/sport\")||-1===o.indexOf(\".app\")},bbcdotcom.config.isAnalyticsEnabled=function(){return!0},bbcdotcom.registerAd=function(o,n,t){bbcdotcom.asyncCmd.push(function(){bbcdotcom.registerAd(o,n,t)})},bbcdotcom.setAdUnit=function(o){bbcdotcom.asyncCmd.push(function(){bbcdotcom.setAdUnit(o)})},bbcdotcom.adverts.adUnit={},bbcdotcom.adverts.adUnit.setUid=function(o){bbcdotcom.asyncCmd.push(function(){bbcdotcom.adverts.adUnit.setUid(o)})},bbcdotcom.setConfig=function(o){bbcdotcom.asyncCmd.push(function(){bbcdotcom.setConfig(o)})},bbcdotcom.setAdKeyValue=function(o,n){bbcdotcom.asyncCmd.push(function(){bbcdotcom.setAdKeyValue(o,n)})},bbcdotcom.getFeature=function(){return{isEnabled:function(){return!0}}},bbcdotcom.disableAndCloseOpenAds=function(){bbcdotcom.asyncDisableAndCloseOpenAds=!0},bbcdotcom.setAdKeyValue=function(o,n){bbcdotcom.asyncCmd.push(function(){bbcdotcom.adverts.keyValues.set(o,n)})},bbcdotcom.adverts.keyValues.set=function(o,n){bbcdotcom.asyncCmd.push(function(){bbcdotcom.adverts.keyValues.set(o,n)})},bbcdotcom.adverts.keyValues.unset=function(o){bbcdotcom.asyncCmd.push(function(){bbcdotcom.adverts.keyValues.unset(o)})},bbcdotcom.pubsub={},bbcdotcom.pubsub.on=function(o,n){bbcdotcom.asyncCmd.push(function(){bbcdotcom.pubsub.on(o,n)})},bbcdotcom.pubsub.off=function(o,n){bbcdotcom.asyncCmd.push(function(){bbcdotcom.pubsub.off(o,n)})},bbcdotcom.analytics={},bbcdotcom.analytics.page=function(o){bbcdotcom.asyncCmd.push(function(){bbcdotcom.analytics.page(o)})},bbcdotcom.av={emp:{adverts:\"\"}},bbcdotcom.config.isContinuousPlayPage=function(){return!1},bbcdotcom.config.isSportApp=function(){var o=window.location.pathname;return void 0!==o&&-1!==o.indexOf(\".app\")&&0===o.indexOf(\"/sport\")},bbcdotcom.adverts.breakpoints.setGroupStart=function(o,n){bbcdotcom.asyncCmd.push(function(){bbcdotcom.adverts.breakpoints.setGroupStart(o,n)})},\"undefined\"!=typeof require&&require({paths:{bbcdotcom:\"https://gn-web-assets.api.bbc.com/bbcdotcom/assets/20210817-165412-f6d80c1fa-4.52.3/script\"}}),window.bbcdotcom&&bbcdotcom.isSportApp&&!bbcdotcom.isSportApp()&&window.bbcuser.isUKCombined().then(function(o){return o&&!adsDebug?(adsDebug&&console.log(\"UK location, not ads debug mode, don't load flags, don't load ads.\"),(o=window.bbcdotcom||{}).config.isAdsEnabled=function(){return!1},o.config.isActive=function(){return!1},o.config.isAnalyticsEnabled=function(){return!1},o.getFeature=function(){return{isEnabled:function(){return!1}}},void o.resolvePromises()):void window.bbcuser.canSeeAdverts().then(function(o){if(!o&&!adsDebug)return adsDebug&&console.log(\"canSeeAdverts false, not ads debug mode, don't load ads.\"),(n=window.bbcdotcom||{}).config.isAdsEnabled=function(){return!1},n.config.isActive=function(){return!1},n.config.isAnalyticsEnabled=function(){return!1},n.getFeature=function(){return{isEnabled:function(){return!1}}},void n.resolvePromises();var n=/test/.test(window.location.hostname)?\"https://gn-flagpoles.test.api.bbci.co.uk/gnlops\":\"https://gn-flagpoles.api.bbci.co.uk/gnlops\",e=new XMLHttpRequest;e.open(\"GET\",n),e.onload=function(){var n,o,t=JSON.parse(e.responseText),c=window.bbcdotcom||{};c.flag.a=\"true\"===t.adverts?1:0,c.flag.s=\"true\"===t.analytics?1:0,c.flag.a||c.flag.s?(o=/test/.test(window.location.hostname)?\"https://gn-flagpoles.test.api.bbci.co.uk/bbcdotcom\":\"https://gn-flagpoles.api.bbci.co.uk/bbcdotcom\",(n=new XMLHttpRequest).open(\"GET\",o),n.onload=function(){var c=JSON.parse(n.responseText),e=window.bbcdotcom||{};[{tp:\"thirdPartyEEA\"},{d:\"adsense\"},{asa:\"adsportapp\"},{l:\"lotame\"},{p:\"platinum\"},{g:\"grapeshot\"},{sh:\"sherlock\"},{pe:\"permutive\"},{si:\"signin\"},{sis:\"signinSport\"},{sin:\"signinNews\"},{siw:\"signinWWHP\"},{piano:\"piano\"},{fundingchoices_cmp:\"fundingchoices_cmp\"},{storyworks_cmp:\"storyworks_cmp\"},{content_rec:\"content_rec\"},{ias_publisher:\"ias_publisher\"}].forEach(function(o,n){for(var t in o)e.flag[t]=\"true\"===c[o[t]]?1:0}),e.data={ads:e.flag.a,stats:e.flag.s,statsProvider:\"\",country:\"\"},function(){const o=document.createElement(\"link\");o.href=\"https://gn-web-assets.api.bbc.com/bbcdotcom/assets/20210817-165412-f6d80c1fa-4.52.3/style/bbcdotcom-async.css\",o.rel=\"stylesheet\",o.type=\"text/css\",document.head.appendChild(o)}();var o=document.createElement(\"script\"),t=document.head||document.getElementsByTagName(\"head\")[0];o.type=\"text/javascript\",o.async=!0,o.src=\"https://gn-web-assets.api.bbc.com/bbcdotcom/assets/20210817-165412-f6d80c1fa-4.52.3/script/bbcdotcom.js\",o.onload=function(){window.bbcuser.getCountry().then(function(o){e.data.country=o,e.assetPrefix=\"https://gn-web-assets.api.bbc.com/bbcdotcom/assets/20210817-165412-f6d80c1fa-4.52.3/\",bbcdotcomConfig={assetPrefix:\"https://gn-web-assets.api.bbc.com/bbcdotcom/assets/20210817-165412-f6d80c1fa-4.52.3/\",staticVersion:\"20210817-165412-f6d80c1fa-4.52.3\",staticPrefix:\"https://gn-web-assets.api.bbc.com/bbcdotcom/assets/20210817-165412-f6d80c1fa-4.52.3/\"},e.config.init(bbcdotcomConfig,e.data,window.location,window.document),e.config.setAssetPrefix(bbcdotcomConfig.assetPrefix),e.config.setVersion(bbcdotcomConfig.staticVersion),e.config.setFlagpoles(e.flag);o=!!o&&-1!==[\"AT\",\"BE\",\"BG\",\"HR\",\"CY\",\"CZ\",\"DK\",\"EE\",\"FI\",\"FR\",\"DE\",\"GR\",\"HU\",\"IE\",\"IT\",\"LV\",\"LT\",\"LU\",\"MT\",\"NL\",\"PL\",\"PT\",\"RO\",\"SK\",\"SI\",\"ES\",\"SE\",\"IS\",\"LI\",\"NO\",\"CH\"].indexOf(o.toUpperCase());e.config.setEU(o);var n,o=function(o){var n=document.createElement(\"link\"),t=document.head||document.getElementsByTagName(\"head\")[0];n.href=o,n.rel=\"dns-prefetch\",t.appendChild(n)};e.flag.s&&(o(\"//secure-us.imrworldwide.com/\"),o(\"//me-cdn.effectivemeasure.net/\")),e.flag.a&&(o(\"//www.googletagservices.com/\"),o(\"//bbc.gscontxt.net/\"),(n=document.createElement(\"meta\")).setAttribute(\"name\",\"google-site-verification\"),n.setAttribute(\"content\",\"auTeTTwSt_KBY_4iDoR00Lwb7-qzx1IgzJy6ztaWgEI\"),t.appendChild(n)),e.flag.a&&(e.config.isGrapeshotEnabled()&&!e.config.isWorldService()&&(n=window.location.href.split(\"?\")[0],bbcdotcomScripts.push({src:\"https://bbc.gscontxt.net/?url=\"+encodeURIComponent(n)})),bbcdotcomScripts.push({src:\"https://securepubads.g.doubleclick.net/tag/js/gpt.js\"}),e.config.isIASEnabled()&&(window.__iasPET=window.__iasPET||{},window.__iasPET.queue=window.__iasPET.queue||[],window.__iasPET.pubId=\"9708\",bbcdotcomScripts.push({src:\"https://cdn.adsafeprotected.com/iasPET.1.js\"}))),(e.flag.s||e.flag.a)&&(e.config.isPermutiveEnabled()&&!e.config.isWorldService()&&(function(t){if(!t){t=t||{},(window.permutive=t).q=[],t.config={consentRequired:!0},t.config.projectId=\"e488cdb0-e7cb-4d91-9648-60d437d8e491\",t.config.apiKey=\"1bb84885-9325-4fef-adda-a208032b2715\",t.config.environment=t.config.environment||\"production\";for(var o=[\"addon\",\"identify\",\"track\",\"trigger\",\"query\",\"segment\",\"segments\",\"ready\",\"on\",\"once\",\"user\",\"consent\"],n=0;n<o.length;n++){var c=o[n];t[c]=function(n){return function(){var o=Array.prototype.slice.call(arguments,0);t.q.push({functionName:n,arguments:o})}}(c)}}}((document,window.permutive)),bbcdotcomScripts.push({src:\"https://cdn.permutive.com/e488cdb0-e7cb-4d91-9648-60d437d8e491-web.js\"})),bbcdotcomScripts.forEach(function(o){var n=document.createElement(\"script\");n.async=!1,o.id&&(n.id=o.id),n.src=o.src,t.appendChild(n)}),window.bbcdotcom.config.isCmpEnabled()?(window.googlefc=window.googlefc||{},window.googlefc.callbackQueue=window.googlefc.callbackQueue||[],new Promise(function(t){window.googlefc.callbackQueue.push({CONSENT_DATA_READY:function(){window.__tcfapi(\"getTCData\",2,function(o,n){n&&o.gdprApplies&&(window.bbcdotcom.consent={},window.bbcdotcom.gdprApplies=!0,window.bbcdotcom.consent.comscore=o.vendor.consents[77],window.bbcdotcom.consent.permutive=o.vendor.consents[360]&&o.vendor.consents[361],window.bbcdotcom.consent.googleads=o.vendor.consents[755],window.bbcdotcom.consent.nielsen=o.vendor.consents[373]&&o.vendor.consents[812],t(!0)),t(!0)},[77,164,360,361,373,755,812])}})}).then(function(){for(window.bbcdotcom.consentChecked=!0,window.bbcdotcom.asyncDisableAndCloseOpenAds&&window.bbcdotcom.asyncCmd.unshift(function(){window.bbcdotcom.disableAndCloseOpenAds()});window.bbcdotcom.asyncCmd&&0<window.bbcdotcom.asyncCmd.length;)window.bbcdotcom.asyncCmd.shift()()}),function(){const o=document.createElement(\"script\");o.type=\"text/javascript\",o.async=!0,o.src=\"https://gn-web-assets.api.bbc.com/ngas/vendor/fundingchoices/cmp.js\",document.head.appendChild(o)}()):function(){for(;window.bbcdotcom.asyncCmd&&0<window.bbcdotcom.asyncCmd.length;)window.bbcdotcom.asyncCmd.shift()()}()),window.adsDebug&&adsDebug&&console.log(\"bbcdotcom up and running...\")})},t.appendChild(o)},n.onerror=function(){var o;(o=window.bbcdotcom||{}).config.isAdsEnabled=function(){return!1},o.config.isActive=function(){return!1},o.config.isAnalyticsEnabled=function(){return!1},o.getFeature=function(){return{isEnabled:function(){return!1}}},o.resolvePromises()},n.send()):((o=window.bbcdotcom||{}).config.isAdsEnabled=function(){return!1},o.config.isActive=function(){return!1},o.config.isAnalyticsEnabled=function(){return!1},o.getFeature=function(){return{isEnabled:function(){return!1}}},o.resolvePromises())},e.onerror=function(){var o;(o=window.bbcdotcom||{}).config.isAdsEnabled=function(){return!1},o.config.isActive=function(){return!1},o.config.isAnalyticsEnabled=function(){return!1},o.getFeature=function(){return{isEnabled:function(){return!1}}},o.resolvePromises()},e.send()})});</script>\n",
       "<!--[if (gt IE 8) | (IEMobile)]><!-->\n",
       "<link href=\"https://gn-web-assets.api.bbc.com/wwhp/20210621-1346-9144af9173f4d0c427a321d53978bb7d2ed2652e/responsive/css/wwhp.min.css\" rel=\"stylesheet\"/>\n",
       "<!--<![endif]-->\n",
       "<!--[if (lt IE 9) & (!IEMobile)]>\n",
       "<link href=\"https://gn-web-assets.api.bbc.com/wwhp/20210621-1346-9144af9173f4d0c427a321d53978bb7d2ed2652e/responsive/css/old-ie.min.css\" rel=\"stylesheet\" />\n",
       "<![endif]--> <script src=\"https://gn-web-assets.api.bbc.com/wwhp/20210621-1346-9144af9173f4d0c427a321d53978bb7d2ed2652e/modules/vendor/bower/modernizr/modernizr.js\"></script>\n",
       "<script>\n",
       "            (function () {\n",
       "              require.config({\n",
       "                    baseUrl: 'https://gn-web-assets.api.bbc.com/wwhp/20210621-1346-9144af9173f4d0c427a321d53978bb7d2ed2652e/modules',\n",
       "                    paths: {\n",
       "                        'bump-3': 'https://emp.bbci.co.uk/emp/bump-3/bump-3',\n",
       "                        'domReady': 'vendor/require/domReady',\n",
       "                        'jquery-1.9': 'vendor/jquery/jquery'\n",
       "                    },\n",
       "                    map: {\n",
       "                        '*': {\n",
       "                            jquery: 'jquery-1.9'\n",
       "                        }\n",
       "                    },\n",
       "                    shim: {\n",
       "                        'vendor/bower/underscore/underscore': {\n",
       "                            exports: '_'\n",
       "                        },\n",
       "                        'vendor/bower/js-breakpoints/breakpoints': {\n",
       "                            exports: 'Breakpoints'\n",
       "                        },\n",
       "                        'vendor/bower/cookie-monster/cookie-monster': {\n",
       "                            exports: 'monster'\n",
       "                        }\n",
       "                    }\n",
       "                });\n",
       "\n",
       "                // FIXME: Should be in ads.js, however some devices return ads before ads is able to register to event.\n",
       "                if (window.bbcdotcom && bbcdotcom.pubsub) {\n",
       "                      var stickyOptions = {\n",
       "                      \"leaderboard\": {\n",
       "                          \"offset\": {\n",
       "                              \"from\": ['.module--leaderboard'],\n",
       "                              \"to\": ['.module--promo', 'bottom']\n",
       "                          },\n",
       "                          \"applyTo\": \"parent\",\n",
       "                          \"heightLimit\": 150,  //don't add sticky if ad is taller than this number\n",
       "                          \"offsetType\": \"include\",\n",
       "                          \"parallax\": false\n",
       "                        },\n",
       "                      \"mpu\": {\n",
       "                          \"offset\": {\n",
       "                              \"from\": ['.content--block--modules section:first-child .module__content'],\n",
       "                              \"to\": ['.content--block--modules section:last-child', 'bottom']\n",
       "                          },\n",
       "                          \"offsetType\": \"include\",\n",
       "                      },\n",
       "                      /*\n",
       "                      \"mpu_bottom\": {\n",
       "                        \"offset\": {\n",
       "                            \"from\": ['.module--editors-picks .runway--wrapper'],\n",
       "                            \"to\": ['.module--editors-picks .runway--wrapper', 'bottom']\n",
       "                        },\n",
       "                        \"offsetType\": \"include\"\n",
       "                      }\n",
       "                      */\n",
       "                    };\n",
       "\n",
       "                    bbcdotcom.pubsub.on('ad:done', function(id) {\n",
       "                        if(stickyOptions[id]) {\n",
       "                            bbcdotcom.stickyAdvert().add(id, document.getElementById('bbccom_'+id), stickyOptions[id]);\n",
       "                        }\n",
       "                    });\n",
       "                }\n",
       "\n",
       "                if (window.bbcdotcom) {\n",
       "                    bbcdotcom.init({ adsToDisplay: [\"parallax\",\"leaderboard\",\"native\",\"mpu\",\"platinum\",\"infeed\",\"module_feature-1\",\"module_feature-2\",\"mpu_bottom\"] });\n",
       "\n",
       "                    require([\"domReady\",\"compiled\"], function (domReady) {\n",
       "                        domReady(function () {\n",
       "                            require(['app'], function (app) {\n",
       "                                app.init(window, {\n",
       "                                  staticPrefix: 'https://gn-web-assets.api.bbc.com/wwhp/20210621-1346-9144af9173f4d0c427a321d53978bb7d2ed2652e/',\n",
       "                                  continuousPlayEnabled: true,\n",
       "                                  counterName: 'home.page',\n",
       "                                  producer: 'GNL_HOMEPAGE',\n",
       "                                  destination: 'HOMEPAGE_GNL'\n",
       "                                });\n",
       "                            });\n",
       "                        });\n",
       "                    });\n",
       "                }\n",
       "\n",
       "            }());\n",
       "        </script>\n",
       "<script type=\"text/javascript\">\n",
       "                var _sf_startpt = (new Date()).getTime();\n",
       "                var wwhpEdition = 'asia';\n",
       "                var _sf_async_config = _sf_async_config || {};\n",
       "                _sf_async_config.uid = 50924;\n",
       "                _sf_async_config.domain = \"bbc.co.uk\";\n",
       "                _sf_async_config.title = \"Homepage\"+(wwhpEdition !== '' ? ' - '+wwhpEdition : '');\n",
       "                _sf_async_config.sections = \"Homepage\"+(wwhpEdition !== '' ? ', Homepage - '+wwhpEdition : '');\n",
       "                _sf_async_config.region = wwhpEdition;\n",
       "                _sf_async_config.path = \"/\"+(wwhpEdition !== '' ? '?'+wwhpEdition : '');\n",
       "            </script>\n",
       "<script type=\"text/javascript\">\n",
       "                (function(){\n",
       "                    /* set correct OptimizelyURL for prod or sandbox */\n",
       "                    var optimizelyURL = \"https://cdn.optimizely.com/public/4621041136/s/bbccom_sandbox.js\";\n",
       "                    if(window.location.hostname === 'www.bbc.com') {\n",
       "                        optimizelyURL = \"https://cdn.optimizely.com/public/4621041136/s/bbccom_prod.js\";\n",
       "                    }\n",
       "\n",
       "                    /* Set cookie to 1 year */\n",
       "                    window['optimizely'] = window['optimizely'] || [];\n",
       "                    window['optimizely'].push({\n",
       "                        \"type\": \"cookieExpiration\",\n",
       "                        \"cookieExpirationDays\": 365\n",
       "                    });\n",
       "\n",
       "                    var script = document.createElement('script');\n",
       "                    script.async = false;\n",
       "                    script.src = optimizelyURL;\n",
       "                    document.head.appendChild(script);\n",
       "                })();\n",
       "            </script>\n",
       "<!-- WWVERTICAL-8597 bbc select only visible in US, use edition by default if bbcuser data not available -->\n",
       "<style>\n",
       "            body.wwhp-edition-us .orb-nav-bbcselect {\n",
       "                display: block;\n",
       "            }\n",
       "        </style>\n",
       "</head>\n",
       "<body class=\"wwhp-edition-asia\">\n",
       "<div id=\"cookiePrompt\"></div> <noscript><p style=\"position: absolute; top: -999em\"><img alt=\"\" height=\"1\" src=\"https://a1.api.bbc.co.uk/hit.xiti?&amp;col=1&amp;from=p&amp;ptag=js&amp;s=598253&amp;p=home.page&amp;x2=[responsive]&amp;x3=[bbc_website]&amp;x4=[en]&amp;x7=[Index-home]&amp;x8=[reverb-3.2.0-nojs]&amp;x11=[HOMEPAGE_GNL]&amp;x12=[GNL_HOMEPAGE]\" width=\"1\"/></p></noscript><div class=\"bbccom_display_none\" id=\"bbccom_interstitial_ad\"></div><div class=\"bbccom_display_none\" id=\"bbccom_interstitial\"></div><div class=\"bbccom_display_none\" id=\"bbccom_wallpaper_ad\"></div><div class=\"bbccom_display_none\" id=\"bbccom_wallpaper\"></div> <header aria-label=\"BBC\" id=\"orb-banner\" role=\"banner\"><div class=\"orb-nav-pri orb-nav-pri-white orb-nav-empty\" dir=\"ltr\" id=\"orb-header\"><div class=\"orb-nav-pri-container b-r b-g-p\"><div class=\"orb-nav-section orb-nav-blocks\"><a href=\"https://www.bbc.co.uk\">Homepage</a></div><section><div class=\"orb-skip-links\"><h2>Accessibility links</h2><ul><li><a href=\"#orb-modules\">Skip to content</a></li><li><a href=\"https://www.bbc.co.uk/accessibility/\" id=\"orb-accessibility-help\">Accessibility Help</a></li></ul></div></section><div class=\"orb-nav-section orb-nav-id orb-nav-focus orb-nav-id-default\" id=\"mybbc-wrapper\"> <div class=\"orb-nav-section orb-nav-focus\" data-bbc-container=\"id-cta\" data-bbc-event-type=\"click\" data-bbc-ignore-views=\"1\" data-bbc-metadata='{\"id-cta-type\": \"statusbar-orb\"}' data-bbc-source=\"responsive_web\" data-bbc-title=\"id-cta-sign-in\" id=\"idcta-statusbar\"><a href=\"https://account.bbc.com/account\" id=\"idcta-link\"><span id=\"idcta-username\">BBC Account</span></a></div><script type=\"text/javascript\">require(['idcta/statusbar'], function (statusbar) {new statusbar.Statusbar({id: 'idcta-statusbar', publiclyCacheable: true});});</script><!-- Because we are now loading the notification bell CSS asynchronously, we need this inline style hack to ensure that the notification div \n",
       "\t\t is hidden by default, and shown only if and when the bell code is loaded from notification-ui --><a class=\"js-notification-link animated three\" href=\"#\" id=\"notification-link\" style=\"display: none\"><span class=\"hidden-span\">Notifications</span><div class=\"notification-link--triangle\"></div><div class=\"notification-link--triangle\"></div><span id=\"not-num\"></span></a> </div><nav aria-label=\"BBC\" class=\"orb-nav\" role=\"navigation\"><div class=\"orb-nav-section orb-nav-links orb-nav-focus\" id=\"orb-nav-links\"><ul><li class=\"orb-nav-home\"><a href=\"https://www.bbc.co.uk\">Home</a></li><li class=\"orb-nav-news\"><a href=\"https://www.bbc.co.uk/news\">News</a></li><li class=\"orb-nav-sport\"><a href=\"https://www.bbc.co.uk/sport\">Sport</a></li><li class=\"orb-nav-weather\"><a href=\"https://www.bbc.co.uk/weather\">Weather</a></li><li class=\"orb-nav-iplayer\"><a href=\"https://www.bbc.co.uk/iplayer\">iPlayer</a></li><li class=\"orb-nav-sounds\"><a href=\"https://www.bbc.co.uk/sounds\">Sounds</a></li><li class=\"orb-nav-cbbc\"><a href=\"https://www.bbc.co.uk/cbbc\">CBBC</a></li><li class=\"orb-nav-cbeebies\"><a href=\"https://www.bbc.co.uk/cbeebies\">CBeebies</a></li><li class=\"orb-nav-food\"><a href=\"https://www.bbc.co.uk/food\">Food</a></li><li class=\"orb-nav-bitesize\"><a href=\"https://www.bbc.co.uk/bitesize\">Bitesize</a></li><li class=\"orb-nav-arts\"><a href=\"https://www.bbc.co.uk/arts\">Arts</a></li><li class=\"orb-nav-taster\"><a href=\"https://www.bbc.co.uk/taster\">Taster</a></li><li class=\"orb-nav-local\"><a href=\"https://www.bbc.co.uk/news/localnews\">Local</a></li><li class=\"orb-nav-three\"><a href=\"https://www.bbc.co.uk/bbcthree\">Three</a></li><li aria-controls=\"orb-panel-more\" id=\"orb-nav-more\" style=\"width: 88px\"><a class=\"istats-notrack\" data-alt=\"More\" href=\"#orb-footer\">Menu<span class=\"orb-icon orb-icon-arrow\"></span></a></li></ul></div></nav><div class=\"orb-nav-section orb-nav-search\"> <a class=\"orb-search__button\" href=\"https://search.bbc.co.uk/search\" title=\"Search the BBC\">Search</a><form accept-charset=\"utf-8\" action=\"https://search.bbc.co.uk/search\" class=\"b-f\" id=\"orb-search-form\" method=\"get\" role=\"search\"><div><label for=\"orb-search-q\">Search the BBC</label><input autocapitalize=\"off\" autocomplete=\"off\" autocorrect=\"off\" id=\"orb-search-q\" maxlength=\"100\" name=\"q\" placeholder=\"Search\" spellcheck=\"false\" type=\"text\"/><button class=\"orb-search__button\" id=\"orb-search-button\">Search the BBC</button><input id=\"orb-search-suggid\" name=\"suggid\" type=\"hidden\"/></div></form> </div></div><div id=\"orb-panels\"></div></div></header> <!-- Styling hook for shared modules only -->\n",
       "<div id=\"orb-modules\">\n",
       "<!--[if lt IE 9]>\n",
       "        <div class=\"browser-notify\">\n",
       "            <p class=\"browser-notify__message\">This site is optimised for modern web browsers, and does not fully support your version of Internet Explorer.</p>\n",
       "        </div>\n",
       "        <![endif]-->\n",
       "<h1 id=\"page-title\">BBC Homepage</h1>\n",
       "<div class=\"content\" data-wwhp-module=\"images, media\" id=\"page\" role=\"main\">\n",
       "<section class=\"module module--leaderboard module--highlight\">\n",
       "<div class=\"advert advert--leaderboard\"><!-- BBCDOTCOM slot leaderboard --><div aria-hidden=\"true\" class=\"bbccom_slot\" id=\"bbccom_leaderboard_1_2_3_4\"><div class=\"bbccom_advert\"><script type=\"text/javascript\">/*<![CDATA[*/(function() {if (window.bbcdotcom && bbcdotcom.slotAsync) {bbcdotcom.slotAsync(\"leaderboard\", [1,2,3,4]);}})();/*]]>*/</script></div></div></div> </section>\n",
       "<section class=\"module module--header\" data-wwhp-module=\"header\">\n",
       "<h2 class=\"module__title\"> </h2>\n",
       "</section> <section class=\"module module--promo\"> <div class=\"module__content\"> <ul class=\"media-list\">\n",
       "<li class=\"media-list__item media-list__item--1\">\n",
       "<div class=\"media media--hero media--primary media--overlay block-link\" data-bbc-container=\"hero\" data-bbc-metadata='{\"CHD\": \"card::1\" }' data-bbc-source=\"World\" data-bbc-title=\"Kabul evacuations hit by 'severe' threat of attack\">\n",
       "<div class=\"media__image\">\n",
       "<div class=\"responsive-image\"><div class=\"delayed-image-load\" data-alt=\"A mother and her children board a US air force C-17 plane at Kabul Airport\" data-src=\"https://ichef.bbc.co.uk/wwhp/{width}/cpsprodpb/1D65/production/_120252570_hi069823535.jpg\"><img alt=\"A mother and her children board a US air force C-17 plane at Kabul Airport\" src=\"https://ichef.bbc.co.uk/wwhp/144/cpsprodpb/1D65/production/_120252570_hi069823535.jpg\"/></div></div> </div>\n",
       "<div class=\"media__content\">\n",
       "<h3 class=\"media__title\">\n",
       "<a class=\"media__link\" href=\"/news/live/world-58279900\" rev=\"hero1|headline\">\n",
       "                                                                    Kabul evacuations hit by 'severe' threat of attack                                                            </a>\n",
       "</h3>\n",
       "<p class=\"media__summary\">\n",
       "                                                            Thousands outside Kabul airport asked to leave the area, with the UK describing the threat as \"severe\",                                                    </p>\n",
       "<a class=\"media__tag tag tag--news\" href=\"/news/world\" rev=\"hero1|source\">World</a>\n",
       "</div>\n",
       "<a aria-hidden=\"true\" class=\"block-link__overlay-link\" href=\"/news/live/world-58279900\" rev=\"hero1|overlay\" tabindex=\"-1\">\n",
       "                    Kabul evacuations hit by 'severe' threat of attack                </a>\n",
       "</div>\n",
       "</li>\n",
       "<li class=\"media-list__item media-list__item--2\">\n",
       "<div class=\"media media--overlay block-link\" data-bbc-container=\"hero\" data-bbc-metadata='{\"CHD\": \"card::2\" }' data-bbc-source=\"Science &amp; Environment\" data-bbc-title=\"Europe's 2020 heat reached 'troubling' level\">\n",
       "<div class=\"media__image\">\n",
       "<div class=\"responsive-image\"><div class=\"delayed-image-load\" data-alt=\"Fire\" data-src=\"https://ichef.bbc.co.uk/wwhp/{width}/cpsprodpb/AF9A/production/_120245944_gettyimages-1227745414.jpg\"><img alt=\"Fire\" src=\"https://ichef.bbc.co.uk/wwhp/144/cpsprodpb/AF9A/production/_120245944_gettyimages-1227745414.jpg\"/></div></div> </div>\n",
       "<div class=\"media__content\">\n",
       "<h3 class=\"media__title\">\n",
       "<a class=\"media__link\" href=\"/news/science-environment-58333124\" rev=\"hero2|headline\">\n",
       "                                                                    Europe's 2020 heat reached 'troubling' level                                                            </a>\n",
       "</h3>\n",
       "<a class=\"media__tag tag tag--europe-news\" href=\"/news/science_and_environment\" rev=\"hero2|source\">Science &amp; Environment</a>\n",
       "</div>\n",
       "<a aria-hidden=\"true\" class=\"block-link__overlay-link\" href=\"/news/science-environment-58333124\" rev=\"hero2|overlay\" tabindex=\"-1\">\n",
       "                    Europe's 2020 heat reached 'troubling' level                </a>\n",
       "</div>\n",
       "</li>\n",
       "<li class=\"media-list__item media-list__item--3\">\n",
       "<div class=\"media media--overlay block-link\" data-bbc-container=\"hero\" data-bbc-metadata='{\"CHD\": \"card::3\" }' data-bbc-source=\"Health\" data-bbc-title=\"Waning immunity and rising cases - time to worry?\">\n",
       "<div class=\"media__image\">\n",
       "<div class=\"responsive-image\"><div class=\"delayed-image-load\" data-alt=\"Barman serves beer while colleague stands next to him\" data-src=\"https://ichef.bbc.co.uk/wwhp/{width}/cpsprodpb/7D05/production/_120250023_pint_pulling_getty_976.jpg\"><img alt=\"Barman serves beer while colleague stands next to him\" src=\"https://ichef.bbc.co.uk/wwhp/144/cpsprodpb/7D05/production/_120250023_pint_pulling_getty_976.jpg\"/></div></div> </div>\n",
       "<div class=\"media__content\">\n",
       "<h3 class=\"media__title\">\n",
       "<a class=\"media__link\" href=\"https://www.bbc.com/news/health-58334835\" rev=\"hero3|headline\">\n",
       "                                                                    Waning immunity and rising cases - time to worry?                                                            </a>\n",
       "</h3>\n",
       "<a class=\"media__tag tag tag--health\" href=\"/news/health\" rev=\"hero3|source\">Health</a>\n",
       "</div>\n",
       "<a aria-hidden=\"true\" class=\"block-link__overlay-link\" href=\"https://www.bbc.com/news/health-58334835\" rev=\"hero3|overlay\" tabindex=\"-1\">\n",
       "                    Waning immunity and rising cases - time to worry?                </a>\n",
       "</div>\n",
       "</li>\n",
       "<li class=\"media-list__item media-list__item--4\">\n",
       "<div class=\"media media--overlay block-link\" data-bbc-container=\"hero\" data-bbc-metadata='{\"CHD\": \"card::4\" }' data-bbc-source=\"Future\" data-bbc-title=\"How to fight microplastics with magnets\">\n",
       "<div class=\"media__image\">\n",
       "<div class=\"responsive-image\"><div class=\"delayed-image-load\" data-alt=\"Undergraduate Fionn Ferreira holds up plastic bottles that washed up on a beach in south west Ireland\" data-src=\"https://ichef.bbc.co.uk/wwhp/{width}/ibroadcast/images/live/p0/9t/5l/p09t5lb1.jpg\"><img alt=\"Undergraduate Fionn Ferreira holds up plastic bottles that washed up on a beach in south west Ireland\" src=\"https://ichef.bbc.co.uk/wwhp/144/ibroadcast/images/live/p0/9t/5l/p09t5lb1.jpg\"/></div></div> </div>\n",
       "<div class=\"media__content\">\n",
       "<h3 class=\"media__title\">\n",
       "<a class=\"media__link\" href=\"https://www.bbc.com/future/article/20210825-how-to-fight-microplastic-pollution-with-magnets\" rev=\"hero4|headline\">\n",
       "                                                                    How to fight microplastics with magnets                                                            </a>\n",
       "</h3>\n",
       "<a class=\"media__tag tag tag--future\" href=\"http://www.bbc.com/future\" rev=\"hero4|source\">Future</a>\n",
       "</div>\n",
       "<a aria-hidden=\"true\" class=\"block-link__overlay-link\" href=\"https://www.bbc.com/future/article/20210825-how-to-fight-microplastic-pollution-with-magnets\" rev=\"hero4|overlay\" tabindex=\"-1\">\n",
       "                    How to fight microplastics with magnets                </a>\n",
       "</div>\n",
       "</li>\n",
       "<li class=\"media-list__item media-list__item--5\">\n",
       "<div class=\"media media--overlay block-link\" data-bbc-container=\"hero\" data-bbc-metadata='{\"CHD\": \"card::5\" }' data-bbc-source=\"Culture\" data-bbc-title=\"The best music for falling asleep\">\n",
       "<div class=\"media__image\">\n",
       "<div class=\"responsive-image\"><div class=\"delayed-image-load\" data-alt=\"People lying down in cots outdoors as they listen to a nighttime concert\" data-src=\"https://ichef.bbc.co.uk/wwhp/{width}/ibroadcast/images/live/p0/9t/59/p09t591q.jpg\"><img alt=\"People lying down in cots outdoors as they listen to a nighttime concert\" src=\"https://ichef.bbc.co.uk/wwhp/144/ibroadcast/images/live/p0/9t/59/p09t591q.jpg\"/></div></div> </div>\n",
       "<div class=\"media__content\">\n",
       "<h3 class=\"media__title\">\n",
       "<a class=\"media__link\" href=\"https://www.bbc.com/culture/article/20210825-nocturnes-and-max-richter-the-best-music-for-falling-asleep\" rev=\"hero5|headline\">\n",
       "                                                                    The best music for falling asleep                                                            </a>\n",
       "</h3>\n",
       "<a class=\"media__tag tag tag--culture\" href=\"http://www.bbc.com/culture\" rev=\"hero5|source\">Culture</a>\n",
       "</div>\n",
       "<a aria-hidden=\"true\" class=\"block-link__overlay-link\" href=\"https://www.bbc.com/culture/article/20210825-nocturnes-and-max-richter-the-best-music-for-falling-asleep\" rev=\"hero5|overlay\" tabindex=\"-1\">\n",
       "                    The best music for falling asleep                </a>\n",
       "</div>\n",
       "</li>\n",
       "</ul> </div> </section> <section class=\"module module--content-block\"> <div class=\"module__content\"> <div class=\"container module--compound\"> <div class=\"module--column module--mpu\"> <div class=\"runway--wrapper\"> <div class=\"runway--mpu\"> <div class=\"advert advert--mpu\"><!-- BBCDOTCOM slot mpu --><div aria-hidden=\"true\" class=\"bbccom_slot\" id=\"bbccom_mpu_1_2_3_4\"><div class=\"bbccom_advert\"><script type=\"text/javascript\">/*<![CDATA[*/(function() {if (window.bbcdotcom && bbcdotcom.slotAsync) {bbcdotcom.slotAsync(\"mpu\", [1,2,3,4]);}})();/*]]>*/</script></div></div></div> </div> </div> </div> <div class=\"module--column\"> <div class=\"content--block--modules\"> <section class=\"module module--news module--collapse-images\"> <h2 class=\"module__title\">\n",
       "<a class=\"module__title__link tag tag--news\" href=\"/news\" rev=\"news|header\">News</a>\n",
       "</h2>\n",
       "<div class=\"module__content\"> <ul class=\"media-list media-list--fixed-height\">\n",
       "<li class=\"media-list__item media-list__item--1\">\n",
       "<div class=\"media media--icon block-link\" data-bbc-container=\"news\" data-bbc-metadata='{\"CHD\": \"card::1\" }' data-bbc-source=\"India\" data-bbc-title=\"'I'm watching Afghanistan burn from afar'\">\n",
       "<div class=\"media__image\">\n",
       "<div class=\"responsive-image\"><div class=\"delayed-image-load\" data-alt=\"There are fears that the Taliban will curb women's rights\" data-src=\"https://ichef.bbc.co.uk/wwhp/{width}/cpsprodpb/4672/production/_120243081_p09t4l28.jpg\"><img alt=\"There are fears that the Taliban will curb women's rights\" src=\"data:image/gif;base64,R0lGODlhEAAJAIAAAP///wAAACH5BAEAAAAALAAAAAAQAAkAAAIKhI+py+0Po5yUFQA7\"/></div></div> </div>\n",
       "<span aria-hidden=\"true\" class=\"media__icon icon icon--video\"></span>\n",
       "<div class=\"media__content\">\n",
       "<h3 class=\"media__title\">\n",
       "<a class=\"media__link\" href=\"/news/world-asia-india-58326408\" rev=\"news|headline\">\n",
       "                                                                    'I'm watching Afghanistan burn from afar'                                                            </a>\n",
       "</h3>\n",
       "<p class=\"media__summary\">\n",
       "                                                            Hundreds of Afghan have taken refuge in India but they are worried about their families back home.                                                    </p>\n",
       "<a class=\"media__tag tag tag--news\" href=\"/news/world/asia/india\" rev=\"news|source\">India</a>\n",
       "</div>\n",
       "<a aria-hidden=\"true\" class=\"block-link__overlay-link\" href=\"/news/world-asia-india-58326408\" rev=\"news|overlay\" tabindex=\"-1\">\n",
       "                    'I'm watching Afghanistan burn from afar'                </a>\n",
       "</div>\n",
       "</li>\n",
       "<li class=\"media-list__item media-list__item--2\">\n",
       "<div class=\"media block-link\" data-bbc-container=\"news\" data-bbc-metadata='{\"CHD\": \"card::2\" }' data-bbc-source=\"UK\" data-bbc-title=\"Attack could strike Kabul within hours - minister\">\n",
       "<div class=\"media__image\">\n",
       "<div class=\"responsive-image\"><div class=\"delayed-image-load\" data-alt=\"People being evacuated from Afghanistan\" data-src=\"https://ichef.bbc.co.uk/wwhp/{width}/cpsprodpb/16C28/production/_120242239_mediaitem120242234.jpg\"><img alt=\"People being evacuated from Afghanistan\" src=\"data:image/gif;base64,R0lGODlhEAAJAIAAAP///wAAACH5BAEAAAAALAAAAAAQAAkAAAIKhI+py+0Po5yUFQA7\"/></div></div> </div>\n",
       "<div class=\"media__content\">\n",
       "<h3 class=\"media__title\">\n",
       "<a class=\"media__link\" href=\"/news/uk-58337632\" rev=\"news|headline\">\n",
       "                                                                    Attack could strike Kabul within hours - minister                                                            </a>\n",
       "</h3>\n",
       "<p class=\"media__summary\">\n",
       "                                                            There are \"very credible\" reports of an imminent threat in the Afghan capital, James Heappey says.                                                    </p>\n",
       "<a class=\"media__tag tag tag--news\" href=\"/news/uk\" rev=\"news|source\">UK</a>\n",
       "</div>\n",
       "<a aria-hidden=\"true\" class=\"block-link__overlay-link\" href=\"/news/uk-58337632\" rev=\"news|overlay\" tabindex=\"-1\">\n",
       "                    Attack could strike Kabul within hours - minister                </a>\n",
       "</div>\n",
       "</li>\n",
       "<li class=\"media-list__item media-list__item--3\">\n",
       "<div class=\"media block-link\" data-bbc-container=\"news\" data-bbc-metadata='{\"CHD\": \"card::3\" }' data-bbc-source=\"Disability Sport\" data-bbc-title=\"Tokyo Paralympics: Pearson takes his 12th Paralympic title as GB win five golds on day two\">\n",
       "<div class=\"media__image\">\n",
       "<div class=\"responsive-image\"><div class=\"delayed-image-load\" data-alt=\"Split-image of Tully Kearney smiling after setting a new world record to win the S5 100m freestyle gold medal at the Tokyo Paralympics, plus Lee Pearson competing in the Para-dressage Grade II individual test\" data-src=\"https://ichef.bbc.co.uk/wwhp/{width}/cpsprodpb/16143/production/_120253409_kearney_reuters_pearson_ois.png\"><img alt=\"Split-image of Tully Kearney smiling after setting a new world record to win the S5 100m freestyle gold medal at the Tokyo Paralympics, plus Lee Pearson competing in the Para-dressage Grade II individual test\" src=\"data:image/gif;base64,R0lGODlhEAAJAIAAAP///wAAACH5BAEAAAAALAAAAAAQAAkAAAIKhI+py+0Po5yUFQA7\"/></div></div> </div>\n",
       "<div class=\"media__content\">\n",
       "<h3 class=\"media__title\">\n",
       "<a class=\"media__link\" href=\"/sport/live/disability-sport/55509431\" rev=\"news|headline\">\n",
       "                                                                    Tokyo Paralympics: Pearson takes his 12th Paralympic title as GB win five golds on day two                                                            </a>\n",
       "</h3>\n",
       "<p class=\"media__summary\">\n",
       "                                                            Live text commentary from the Paralympic Games, as Great Britain win five gold medals on day two in Tokyo.                                                    </p>\n",
       "<a class=\"media__tag tag tag--news\" href=\"/sport/disability-sport\" rev=\"news|source\">Disability Sport</a>\n",
       "</div>\n",
       "<a aria-hidden=\"true\" class=\"block-link__overlay-link\" href=\"/sport/live/disability-sport/55509431\" rev=\"news|overlay\" tabindex=\"-1\">\n",
       "                    Tokyo Paralympics: Pearson takes his 12th Paralympic title as GB win five golds on day two                </a>\n",
       "</div>\n",
       "</li>\n",
       "</ul> </div> </section> <section class=\"module module--sport module--collapse-images\"> <h2 class=\"module__title\">\n",
       "<a class=\"module__title__link tag tag--sport\" href=\"/sport\" rev=\"sport|header\">Sport</a>\n",
       "</h2>\n",
       "<div class=\"module__content\"> <ul class=\"media-list media-list--fixed-height\">\n",
       "<li class=\"media-list__item media-list__item--1\">\n",
       "<div class=\"media block-link\" data-bbc-container=\"sport\" data-bbc-metadata='{\"CHD\": \"card::1\" }' data-bbc-source=\"Cricket\" data-bbc-title=\"Hameed &amp; Burns extend England lead over India - clips, radio &amp; text\">\n",
       "<div class=\"media__image\">\n",
       "<div class=\"responsive-image\"><div class=\"delayed-image-load\" data-alt=\"Haseeb Hameed\" data-src=\"https://ichef.bbc.co.uk/wwhp/{width}/cpsprodpb/13DCB/production/_120255318_haseeb_hameed_getty3.jpg\"><img alt=\"Haseeb Hameed\" src=\"data:image/gif;base64,R0lGODlhEAAJAIAAAP///wAAACH5BAEAAAAALAAAAAAQAAkAAAIKhI+py+0Po5yUFQA7\"/></div></div> </div>\n",
       "<div class=\"media__content\">\n",
       "<h3 class=\"media__title\">\n",
       "<a class=\"media__link\" href=\"/sport/live/cricket/55023802\" rev=\"sport|headline\">\n",
       "                                                                    Hameed &amp; Burns extend England lead over India - clips, radio &amp; text                                                            </a>\n",
       "</h3>\n",
       "<p class=\"media__summary\">\n",
       "                                                            England attempt to build a sizeable first-innings lead over India on day two of the third Test at Emerald Headingley.                                                    </p>\n",
       "<a class=\"media__tag tag tag--sport\" href=\"/sport/cricket\" rev=\"sport|source\">Cricket</a>\n",
       "</div>\n",
       "<a aria-hidden=\"true\" class=\"block-link__overlay-link\" href=\"/sport/live/cricket/55023802\" rev=\"sport|overlay\" tabindex=\"-1\">\n",
       "                    Hameed &amp; Burns extend England lead over India - clips, radio &amp; text                </a>\n",
       "</div>\n",
       "</li>\n",
       "<li class=\"media-list__item media-list__item--2\">\n",
       "<div class=\"media block-link\" data-bbc-container=\"sport\" data-bbc-metadata='{\"CHD\": \"card::2\" }' data-bbc-source=\"Football\" data-bbc-title=\"Transfer latest, Carabao Cup reaction and Premier League news conferences\">\n",
       "<div class=\"media__image\">\n",
       "<div class=\"responsive-image\"><div class=\"delayed-image-load\" data-alt=\"Arsenal celebrating against West Brom\" data-src=\"https://ichef.bbc.co.uk/wwhp/{width}/cpsprodpb/11639/production/_120252217_gettyimages-1336394467.jpg\"><img alt=\"Arsenal celebrating against West Brom\" src=\"data:image/gif;base64,R0lGODlhEAAJAIAAAP///wAAACH5BAEAAAAALAAAAAAQAAkAAAIKhI+py+0Po5yUFQA7\"/></div></div> </div>\n",
       "<div class=\"media__content\">\n",
       "<h3 class=\"media__title\">\n",
       "<a class=\"media__link\" href=\"/sport/live/football/58330502\" rev=\"sport|headline\">\n",
       "                                                                    Transfer latest, Carabao Cup reaction and Premier League news conferences                                                            </a>\n",
       "</h3>\n",
       "<p class=\"media__summary\">\n",
       "                                                            All the latest transfer news, reaction to Wednesday's Carabao Cup action, Premier League news conferences and England squad announcement.                                                    </p>\n",
       "<a class=\"media__tag tag tag--sport\" href=\"/sport/football\" rev=\"sport|source\">Football</a>\n",
       "</div>\n",
       "<a aria-hidden=\"true\" class=\"block-link__overlay-link\" href=\"/sport/live/football/58330502\" rev=\"sport|overlay\" tabindex=\"-1\">\n",
       "                    Transfer latest, Carabao Cup reaction and Premier League news conferences                </a>\n",
       "</div>\n",
       "</li>\n",
       "<li class=\"media-list__item media-list__item--3\">\n",
       "<div class=\"media block-link\" data-bbc-container=\"sport\" data-bbc-metadata='{\"CHD\": \"card::3\" }' data-bbc-source=\"Cricket\" data-bbc-title=\"'Ageless Anderson turns water into wine'\">\n",
       "<div class=\"media__image\">\n",
       "<div class=\"responsive-image\"><div class=\"delayed-image-load\" data-alt=\"James Anderson and Virat Kohli\" data-src=\"https://ichef.bbc.co.uk/wwhp/{width}/cpsprodpb/69F4/production/_120242172_james_anderson_virat_kohli_pa.jpg\"><img alt=\"James Anderson and Virat Kohli\" src=\"data:image/gif;base64,R0lGODlhEAAJAIAAAP///wAAACH5BAEAAAAALAAAAAAQAAkAAAIKhI+py+0Po5yUFQA7\"/></div></div> </div>\n",
       "<div class=\"media__content\">\n",
       "<h3 class=\"media__title\">\n",
       "<a class=\"media__link\" href=\"/sport/cricket/58334559\" rev=\"sport|headline\">\n",
       "                                                                    'Ageless Anderson turns water into wine'                                                            </a>\n",
       "</h3>\n",
       "<p class=\"media__summary\">\n",
       "                                                            Aged 39 years, England seamer James Anderson stands alongside the modern megastars drinking the elixir of eternal class, writes Stephan Shemilt.                                                    </p>\n",
       "<a class=\"media__tag tag tag--sport\" href=\"/sport/cricket\" rev=\"sport|source\">Cricket</a>\n",
       "</div>\n",
       "<a aria-hidden=\"true\" class=\"block-link__overlay-link\" href=\"/sport/cricket/58334559\" rev=\"sport|overlay\" tabindex=\"-1\">\n",
       "                    'Ageless Anderson turns water into wine'                </a>\n",
       "</div>\n",
       "</li>\n",
       "</ul> </div> </section> <!-- Error: (FeaturesAndEvents) Module does not have enough items (1/3) -->\n",
       "<section class=\"module module--weather\" data-wwhp-module=\"weather\"> <div class=\"weather--content\"> <div class=\"weather\"> <div class=\"weather--head\"> <div class=\"weather--location\"> <h2>Singapore Weather</h2> <a class=\"weather--edit\" href=\"#\" role=\"link\">Edit</a> </div> <form action=\"/wwhp\" class=\"weather--form\"> <div class=\"weather--form--search\"> <input autocomplete=\"off\" class=\"weather--form--input\" name=\"location_term\" placeholder=\"Enter city, town or region\"/> <button class=\"weather--form--submit\" type=\"submit\" value=\"\"> <span class=\"icon icon--search\"></span> </button> </div> </form> <p class=\"weather--error\"></p> <ul class=\"weather--results\"></ul> </div> <div class=\"weather--forecasts\"> <ul class=\"weather--forecast--list\"> <li class=\"forecast--1 forecast\"> <a class=\"forecast--link\" href=\"/weather/1880251?day=0\" rev=\"weather|link\"> <img alt=\"Clear Sky\" class=\"forecast--image\" src=\"https://static.bbci.co.uk/weather/0.5.284/images/icons/individual_56_icons/en_on_light_bg/0.gif\"/> <h3 class=\"forecast--day\">Thu</h3> <p class=\"forecast--low\">23°C</p> </a> </li> <li class=\"forecast--2 forecast\"> <a class=\"forecast--link\" href=\"/weather/1880251?day=1\" rev=\"weather|link\"> <img alt=\"Thundery Showers\" class=\"forecast--image\" src=\"https://static.bbci.co.uk/weather/0.5.284/images/icons/individual_56_icons/en_on_light_bg/29.gif\"/> <h3 class=\"forecast--day\">Fri</h3> <p class=\"forecast--high\">30°C</p> <p class=\"forecast--low\">23°C</p> </a> </li> <li class=\"forecast--3 forecast\"> <a class=\"forecast--link\" href=\"/weather/1880251?day=2\" rev=\"weather|link\"> <img alt=\"Thundery Showers\" class=\"forecast--image\" src=\"https://static.bbci.co.uk/weather/0.5.284/images/icons/individual_56_icons/en_on_light_bg/29.gif\"/> <h3 class=\"forecast--day\">Sat</h3> <p class=\"forecast--high\">31°C</p> <p class=\"forecast--low\">23°C</p> </a> </li> <li class=\"forecast--4 forecast\"> <a class=\"forecast--link\" href=\"/weather/1880251?day=3\" rev=\"weather|link\"> <img alt=\"Thundery Showers\" class=\"forecast--image\" src=\"https://static.bbci.co.uk/weather/0.5.284/images/icons/individual_56_icons/en_on_light_bg/29.gif\"/> <h3 class=\"forecast--day\">Sun</h3> <p class=\"forecast--high\">30°C</p> <p class=\"forecast--low\">22°C</p> </a> </li> </ul> </div> </div> </div> </section> </div> </div> </div> </div> </section> <section class=\"module module--reel\"> <div class=\"module__content\"> <div> <a class=\"reel--link\" href=\"/reel\"> <div> <div class=\"reel--logos-container\"> <div class=\"reel--reellogo-container\"> <svg class=\"reel--reellogo\" viewbox=\"0 0 52.7 15.8\"> <path d=\"M2.8,9.7v6H0V0h5.4c2,0,3.6,0.4,4.7,1.3c1.1,0.8,1.6,2,1.6,3.6c0,1-0.3,1.9-0.8,2.7c-0.5,0.7-1.3,1.3-2.3,1.7 c0.7,1.1,1.4,2.1,2.1,3.2c0.7,1.1,1.3,2.2,2,3.3H9.5c-0.6-1-1.2-2-1.8-3c-0.6-1-1.2-2-1.8-3c-0.2,0-0.4,0-0.6,0H2.8z M2.8,2.2v5.3 h2.5c1.2,0,2.1-0.2,2.8-0.6c0.6-0.4,0.9-1.1,0.9-2c0-0.9-0.3-1.6-0.9-2C7.4,2.4,6.5,2.2,5.3,2.2H2.8z\"></path> <path d=\"M14.9,0h10.6v2.4h-7.7v4.1h6.9v2.4h-6.9v4.6h8.2v2.4h-11V0z\"></path> <path d=\"M28.5,0H39v2.4h-7.7v4.1h6.9v2.4h-6.9v4.6h8.2v2.4h-11V0z\"></path> <path d=\"M42.1,0h2.8v13.4h7.8v2.4H42.1V0z\"></path> </svg> </div> </div> <div class=\"reel--button-container\"> <div class=\"reel--button\"> <div class=\"reel--button-title\">Visit Reel</div> <div class=\"reel--button-icon\"> <svg fill=\"none\" height=\"24\" stroke=\"#BBB\" stroke-linecap=\"round\" stroke-linejoin=\"round\" stroke-width=\"2\" viewbox=\"0 0 24 24\" width=\"24\"> <line x1=\"4\" x2=\"20\" y1=\"12\" y2=\"12\"></line> <polyline points=\"14 6 20 12 14 18\"></polyline> </svg> </div> </div> </div> </div> </a> </div> <p>The most amazing videos from the BBC</p> <ul class=\"media-list media-list--fixed-height\"> <li class=\"media-list__item media-list__item--1\"> <div class=\"media block-link\" data-bbc-container=\"reel\" data-bbc-metadata='{\"CHD\": \"card::1\" }' data-bbc-source=\"reel\" data-bbc-title=\"Drugs, dogs and uncensored teen talk in a city park\"> <a class=\"reel__link\" href=\"/reel/video/p09qppbm/a-provocative-look-at-youth-seen-through-the-eyes-of-dogs\"> <div class=\"media__image\"> <div class=\"responsive-image\"> <div class=\"delayed-image-load-reel\" data-alt=\"Drugs, dogs and uncensored teen talk in a city park\" data-src=\"https://ychef.files.bbci.co.uk/{width}/p09t3d29.jpg\"> <img alt=\"Drugs, dogs and uncensored teen talk in a city park\" src=\"data:image/gif;base64,R0lGODlhEAAJAIAAAP///wAAACH5BAEAAAAALAAAAAAQAAkAAAIKhI+py+0Po5yUFQA7\"/> </div> </div> </div> <div class=\"media__content\"> <h3>Drugs, dogs and uncensored teen talk in a city park</h3> </div> </a> </div> </li> <li class=\"media-list__item media-list__item--2\"> <div class=\"media block-link\" data-bbc-container=\"reel\" data-bbc-metadata='{\"CHD\": \"card::2\" }' data-bbc-source=\"reel\" data-bbc-title=\"The Caribbean island that embraces a deadly sin\"> <a class=\"reel__link\" href=\"/reel/video/p09ftqzh/the-paradise-island-with-a-lesson-about-pride\"> <div class=\"media__image\"> <div class=\"responsive-image\"> <div class=\"delayed-image-load-reel\" data-alt=\"The Caribbean island that embraces a deadly sin\" data-src=\"https://ychef.files.bbci.co.uk/{width}/p09g1f5t.jpg\"> <img alt=\"The Caribbean island that embraces a deadly sin\" src=\"data:image/gif;base64,R0lGODlhEAAJAIAAAP///wAAACH5BAEAAAAALAAAAAAQAAkAAAIKhI+py+0Po5yUFQA7\"/> </div> </div> </div> <div class=\"media__content\"> <h3>The Caribbean island that embraces a deadly sin</h3> </div> </a> </div> </li> <li class=\"media-list__item media-list__item--3\"> <div class=\"media block-link\" data-bbc-container=\"reel\" data-bbc-metadata='{\"CHD\": \"card::3\" }' data-bbc-source=\"reel\" data-bbc-title=\"The remote Indian village where giant vegetables grow\"> <a class=\"reel__link\" href=\"/reel/video/p09qlqxj/the-disappearing-village-where-huge-radishes-grow\"> <div class=\"media__image\"> <div class=\"responsive-image\"> <div class=\"delayed-image-load-reel\" data-alt=\"The remote Indian village where giant vegetables grow\" data-src=\"https://ychef.files.bbci.co.uk/{width}/p09t21rr.jpg\"> <img alt=\"The remote Indian village where giant vegetables grow\" src=\"data:image/gif;base64,R0lGODlhEAAJAIAAAP///wAAACH5BAEAAAAALAAAAAAQAAkAAAIKhI+py+0Po5yUFQA7\"/> </div> </div> </div> <div class=\"media__content\"> <h3>The remote Indian village where giant vegetables grow</h3> </div> </a> </div> </li> </ul> </div> <div class=\"reel--background\"> <div class=\"delayed-image-load-reel\" data-src=\"https://ychef.files.bbci.co.uk/{width}/p08h02kk.jpg\"></div> </div> </section> <div class=\"advert advert--platinum\"><!-- BBCDOTCOM slot platinum --><div aria-hidden=\"true\" class=\"bbccom_slot\" id=\"bbccom_platinum_1_2_3_4\"><div class=\"bbccom_advert\"><script type=\"text/javascript\">/*<![CDATA[*/(function() {if (window.bbcdotcom && bbcdotcom.slotAsync) {bbcdotcom.slotAsync(\"platinum\", [1,2,3,4]);}})();/*]]>*/</script></div></div></div> <section class=\"module module--regional-news module--collapse-images\"> <h2 class=\"module__title\">\n",
       "<a class=\"module__title__link tag tag--news\" href=\"/news/world/asia\" rev=\"regional-news|header\">Asia News</a>\n",
       "</h2>\n",
       "<div class=\"module__content\"> <ul class=\"media-list media-list--fixed-height\">\n",
       "<li class=\"media-list__item media-list__item--1\">\n",
       "<div class=\"media block-link\" data-bbc-container=\"regional-news\" data-bbc-metadata='{\"CHD\": \"card::1\" }' data-bbc-source=\"Asia\" data-bbc-title=\"Terror attack warning issued for Kabul airport\">\n",
       "<div class=\"media__image\">\n",
       "<div class=\"responsive-image\"><div class=\"delayed-image-load\" data-alt=\"Passengers board a C-17 Globemaster at Kabul airport\" data-src=\"https://ichef.bbc.co.uk/wwhp/{width}/cpsprodpb/12BA1/production/_120250767_8e2c7f02-4347-45e0-bf66-2ae58828e972.jpg\"><img alt=\"Passengers board a C-17 Globemaster at Kabul airport\" src=\"data:image/gif;base64,R0lGODlhEAAJAIAAAP///wAAACH5BAEAAAAALAAAAAAQAAkAAAIKhI+py+0Po5yUFQA7\"/></div></div> </div>\n",
       "<div class=\"media__content\">\n",
       "<h3 class=\"media__title\">\n",
       "<a class=\"media__link\" href=\"/news/world-asia-58337380\" rev=\"regional-news|headline\">\n",
       "                                                                    Terror attack warning issued for Kabul airport                                                            </a>\n",
       "</h3>\n",
       "<p class=\"media__summary\">\n",
       "                                                            The US, Australia and the UK have all told citizens and visa holders not to travel to the airport.                                                    </p>\n",
       "<a class=\"media__tag tag tag--asian-news\" href=\"/news/world/asia\" rev=\"regional-news|source\">Asia</a>\n",
       "</div>\n",
       "<a aria-hidden=\"true\" class=\"block-link__overlay-link\" href=\"/news/world-asia-58337380\" rev=\"regional-news|overlay\" tabindex=\"-1\">\n",
       "                    Terror attack warning issued for Kabul airport                </a>\n",
       "</div>\n",
       "</li>\n",
       "<li class=\"media-list__item media-list__item--2\">\n",
       "<div class=\"media block-link\" data-bbc-container=\"regional-news\" data-bbc-metadata='{\"CHD\": \"card::2\" }' data-bbc-source=\"Asia\" data-bbc-title=\"Japan halts Moderna jabs over contamination fears\">\n",
       "<div class=\"media__image\">\n",
       "<div class=\"responsive-image\"><div class=\"delayed-image-load\" data-alt='A staff of Japan\"s supermarket group Aeon receives a dose of the Moderna vaccine' data-src=\"https://ichef.bbc.co.uk/wwhp/{width}/cpsprodpb/145E1/production/_120252438_tv068141240.jpg\"><img alt='A staff of Japan\"s supermarket group Aeon receives a dose of the Moderna vaccine' src=\"data:image/gif;base64,R0lGODlhEAAJAIAAAP///wAAACH5BAEAAAAALAAAAAAQAAkAAAIKhI+py+0Po5yUFQA7\"/></div></div> </div>\n",
       "<div class=\"media__content\">\n",
       "<h3 class=\"media__title\">\n",
       "<a class=\"media__link\" href=\"/news/world-asia-58338281\" rev=\"regional-news|headline\">\n",
       "                                                                    Japan halts Moderna jabs over contamination fears                                                            </a>\n",
       "</h3>\n",
       "<p class=\"media__summary\">\n",
       "                                                            About 1.63 million vials are withheld after 'foreign objects' were detected in some doses.                                                    </p>\n",
       "<a class=\"media__tag tag tag--asian-news\" href=\"/news/world/asia\" rev=\"regional-news|source\">Asia</a>\n",
       "</div>\n",
       "<a aria-hidden=\"true\" class=\"block-link__overlay-link\" href=\"/news/world-asia-58338281\" rev=\"regional-news|overlay\" tabindex=\"-1\">\n",
       "                    Japan halts Moderna jabs over contamination fears                </a>\n",
       "</div>\n",
       "</li>\n",
       "<li class=\"media-list__item media-list__item--3\">\n",
       "<div class=\"media block-link\" data-bbc-container=\"regional-news\" data-bbc-metadata='{\"CHD\": \"card::3\" }' data-bbc-source=\"Australia\" data-bbc-title=\"Farmer draws heart with sheep in tribute to aunt\">\n",
       "<div class=\"media__image\">\n",
       "<div class=\"responsive-image\"><div class=\"delayed-image-load\" data-alt=\"A heart made up of live sheep as seen from above\" data-src=\"https://ichef.bbc.co.uk/wwhp/{width}/cpsprodpb/11B9D/production/_120250627_7fba72e2-56f1-496f-9ed2-dd0362f29424.jpg\"><img alt=\"A heart made up of live sheep as seen from above\" src=\"data:image/gif;base64,R0lGODlhEAAJAIAAAP///wAAACH5BAEAAAAALAAAAAAQAAkAAAIKhI+py+0Po5yUFQA7\"/></div></div> </div>\n",
       "<div class=\"media__content\">\n",
       "<h3 class=\"media__title\">\n",
       "<a class=\"media__link\" href=\"/news/world-australia-58338661\" rev=\"regional-news|headline\">\n",
       "                                                                    Farmer draws heart with sheep in tribute to aunt                                                            </a>\n",
       "</h3>\n",
       "<p class=\"media__summary\">\n",
       "                                                            The Australian man was unable to attend his aunt's funeral because of Covid travel restrictions.                                                    </p>\n",
       "<a class=\"media__tag tag tag--asian-news\" href=\"/news/world/australia\" rev=\"regional-news|source\">Australia</a>\n",
       "</div>\n",
       "<a aria-hidden=\"true\" class=\"block-link__overlay-link\" href=\"/news/world-australia-58338661\" rev=\"regional-news|overlay\" tabindex=\"-1\">\n",
       "                    Farmer draws heart with sheep in tribute to aunt                </a>\n",
       "</div>\n",
       "</li>\n",
       "<li class=\"media-list__item media-list__item--4\">\n",
       "<div class=\"media block-link\" data-bbc-container=\"regional-news\" data-bbc-metadata='{\"CHD\": \"card::4\" }' data-bbc-source=\"Asia\" data-bbc-title=\"'The plane hit the tower and all our lives changed'\">\n",
       "<div class=\"media__image\">\n",
       "<div class=\"responsive-image\"><div class=\"delayed-image-load\" data-alt=\"Bilal Sarwary\" data-src=\"https://ichef.bbc.co.uk/wwhp/{width}/cpsprodpb/C6C3/production/_120238805_sarwary_976.jpg\"><img alt=\"Bilal Sarwary\" src=\"data:image/gif;base64,R0lGODlhEAAJAIAAAP///wAAACH5BAEAAAAALAAAAAAQAAkAAAIKhI+py+0Po5yUFQA7\"/></div></div> </div>\n",
       "<div class=\"media__content\">\n",
       "<h3 class=\"media__title\">\n",
       "<a class=\"media__link\" href=\"/news/world-south-asia-58071592\" rev=\"regional-news|headline\">\n",
       "                                                                    'The plane hit the tower and all our lives changed'                                                            </a>\n",
       "</h3>\n",
       "<p class=\"media__summary\">\n",
       "                                                            Afghan journalist Bilal Sarwary was selling carpets when 9/11 happened. From that day on, everything changed.                                                    </p>\n",
       "<a class=\"media__tag tag tag--asian-news\" href=\"/news/world/asia\" rev=\"regional-news|source\">Asia</a>\n",
       "</div>\n",
       "<a aria-hidden=\"true\" class=\"block-link__overlay-link\" href=\"/news/world-south-asia-58071592\" rev=\"regional-news|overlay\" tabindex=\"-1\">\n",
       "                    'The plane hit the tower and all our lives changed'                </a>\n",
       "</div>\n",
       "</li>\n",
       "</ul> </div> </section> <section class=\"module module--collapse-images module--collapse-images module--highlight module--editors-picks\"> <h2 class=\"module__title\">\n",
       "<span class=\"module__title__link tag tag--feature\">Editor’s Picks</span>\n",
       "</h2>\n",
       "<div class=\"module__content\"> <div class=\"container\"> <div class=\"editors-picks\"> <ul class=\"media-list media-list--fixed-height layout--featured\">\n",
       "<li class=\"media-list__item media-list__item--1\">\n",
       "<div class=\"media media--padded media--primary block-link\" data-bbc-container=\"editors-picks\" data-bbc-metadata='{\"CHD\": \"card::1\" }' data-bbc-source=\"Worklife\" data-bbc-title=\"The upside of office gossip\">\n",
       "<div class=\"media__image\">\n",
       "<div class=\"responsive-image\"><div class=\"delayed-image-load\" data-alt=\"Gossip gets a bad rap – but there are reasons to embrace it\" data-src=\"https://ychef.files.bbci.co.uk/width/790/p09sl7qw.jpg\"><img alt=\"Gossip gets a bad rap – but there are reasons to embrace it\" src=\"data:image/gif;base64,R0lGODlhEAAJAIAAAP///wAAACH5BAEAAAAALAAAAAAQAAkAAAIKhI+py+0Po5yUFQA7\"/></div></div> </div>\n",
       "<div class=\"media__content\">\n",
       "<h3 class=\"media__title\">\n",
       "<a class=\"media__link\" href=\"https://www.bbc.com/worklife/article/20210818-why-gossiping-at-work-is-good-for-you\" rev=\"editors-picks|headline\">\n",
       "                                                                    The upside of office gossip                                                            </a>\n",
       "</h3>\n",
       "<p class=\"media__summary\">\n",
       "                                                            Gossip gets a bad rap – but there are reasons to embrace it                                                    </p>\n",
       "<a class=\"media__tag tag tag--worklife\" href=\"http://www.bbc.com/worklife\" rev=\"editors-picks|source\">Worklife</a>\n",
       "</div>\n",
       "<a aria-hidden=\"true\" class=\"block-link__overlay-link\" href=\"https://www.bbc.com/worklife/article/20210818-why-gossiping-at-work-is-good-for-you\" rev=\"editors-picks|overlay\" tabindex=\"-1\">\n",
       "                    The upside of office gossip                </a>\n",
       "</div>\n",
       "</li>\n",
       "<li class=\"media-list__item media-list__item--2\">\n",
       "<div class=\"media media--padded block-link\" data-bbc-container=\"editors-picks\" data-bbc-metadata='{\"CHD\": \"card::2\" }' data-bbc-source=\"Travel\" data-bbc-title=\"The women who discovered the world\">\n",
       "<div class=\"media__image\">\n",
       "<div class=\"responsive-image\"><div class=\"delayed-image-load\" data-alt=\"Their triumphs are in the spotlight thanks to the woman retracing their steps\" data-src=\"https://ychef.files.bbci.co.uk/width/790/p09rwf3d.jpg\"><img alt=\"Their triumphs are in the spotlight thanks to the woman retracing their steps\" src=\"data:image/gif;base64,R0lGODlhEAAJAIAAAP///wAAACH5BAEAAAAALAAAAAAQAAkAAAIKhI+py+0Po5yUFQA7\"/></div></div> </div>\n",
       "<div class=\"media__content\">\n",
       "<h3 class=\"media__title\">\n",
       "<a class=\"media__link\" href=\"https://www.bbc.com/travel/article/20210825-in-the-steps-of-historys-forgotten-female-explorers\" rev=\"editors-picks|headline\">\n",
       "                                                                    The women who discovered the world                                                            </a>\n",
       "</h3>\n",
       "<p class=\"media__summary\">\n",
       "                                                            Their triumphs are in the spotlight thanks to the woman retracing their steps                                                    </p>\n",
       "<a class=\"media__tag tag tag--travel\" href=\"https://www.bbc.com/travel\" rev=\"editors-picks|source\">Travel</a>\n",
       "</div>\n",
       "<a aria-hidden=\"true\" class=\"block-link__overlay-link\" href=\"https://www.bbc.com/travel/article/20210825-in-the-steps-of-historys-forgotten-female-explorers\" rev=\"editors-picks|overlay\" tabindex=\"-1\">\n",
       "                    The women who discovered the world                </a>\n",
       "</div>\n",
       "</li>\n",
       "<li class=\"media-list__item media-list__item--3\">\n",
       "<div class=\"media media--padded block-link\" data-bbc-container=\"editors-picks\" data-bbc-metadata='{\"CHD\": \"card::3\" }' data-bbc-source=\"Future Planet\" data-bbc-title=\"Can investors save the Amazon?\">\n",
       "<div class=\"media__image\">\n",
       "<div class=\"responsive-image\"><div class=\"delayed-image-load\" data-alt=\"Land cleared of forest in the Amazon\" data-src=\"https://ichef.bbc.co.uk/wwhp/{width}/ibroadcast/images/live/p0/9t/4s/p09t4slp.jpg\"><img alt=\"Land cleared of forest in the Amazon\" src=\"data:image/gif;base64,R0lGODlhEAAJAIAAAP///wAAACH5BAEAAAAALAAAAAAQAAkAAAIKhI+py+0Po5yUFQA7\"/></div></div> </div>\n",
       "<div class=\"media__content\">\n",
       "<h3 class=\"media__title\">\n",
       "<a class=\"media__link\" href=\"https://www.bbc.com/future/article/20210825-can-investors-save-the-amazon\" rev=\"editors-picks|headline\">\n",
       "                                                                    Can investors save the Amazon?                                                            </a>\n",
       "</h3>\n",
       "<p class=\"media__summary\">\n",
       "                                                            Deforestation risk is rising up the agenda for many big players in finance                                                    </p>\n",
       "<a class=\"media__tag tag tag--future-planet\" href=\"https://www.bbc.com/future/future-planet\" rev=\"editors-picks|source\">Future Planet</a>\n",
       "</div>\n",
       "<a aria-hidden=\"true\" class=\"block-link__overlay-link\" href=\"https://www.bbc.com/future/article/20210825-can-investors-save-the-amazon\" rev=\"editors-picks|overlay\" tabindex=\"-1\">\n",
       "                    Can investors save the Amazon?                </a>\n",
       "</div>\n",
       "</li>\n",
       "<li class=\"media-list__item media-list__item--4\">\n",
       "<div class=\"media media--padded block-link\" data-bbc-container=\"editors-picks\" data-bbc-metadata='{\"CHD\": \"card::4\" }' data-bbc-source=\"Culture\" data-bbc-title=\"How Indian TV embraced sex and violence\">\n",
       "<div class=\"media__image\">\n",
       "<div class=\"responsive-image\"><div class=\"delayed-image-load\" data-alt=\"The provocative shows challenging the country's conservative values\" data-src=\"https://ychef.files.bbci.co.uk/width/790/p09t2n4j.jpg\"><img alt=\"The provocative shows challenging the country's conservative values\" src=\"data:image/gif;base64,R0lGODlhEAAJAIAAAP///wAAACH5BAEAAAAALAAAAAAQAAkAAAIKhI+py+0Po5yUFQA7\"/></div></div> </div>\n",
       "<div class=\"media__content\">\n",
       "<h3 class=\"media__title\">\n",
       "<a class=\"media__link\" href=\"https://www.bbc.com/culture/article/20210824-the-new-wave-of-provocative-indian-tv\" rev=\"editors-picks|headline\">\n",
       "                                                                    How Indian TV embraced sex and violence                                                            </a>\n",
       "</h3>\n",
       "<p class=\"media__summary\">\n",
       "                                                            The provocative shows challenging the country's conservative values                                                    </p>\n",
       "<a class=\"media__tag tag tag--culture\" href=\"http://www.bbc.com/culture\" rev=\"editors-picks|source\">Culture</a>\n",
       "</div>\n",
       "<a aria-hidden=\"true\" class=\"block-link__overlay-link\" href=\"https://www.bbc.com/culture/article/20210824-the-new-wave-of-provocative-indian-tv\" rev=\"editors-picks|overlay\" tabindex=\"-1\">\n",
       "                    How Indian TV embraced sex and violence                </a>\n",
       "</div>\n",
       "</li>\n",
       "<li class=\"media-list__item media-list__item--5\">\n",
       "<div class=\"media media--padded block-link\" data-bbc-container=\"editors-picks\" data-bbc-metadata='{\"CHD\": \"card::5\" }' data-bbc-source=\"Future\" data-bbc-title=\"The search for India's forgotten hedge\">\n",
       "<div class=\"media__image\">\n",
       "<div class=\"responsive-image\"><div class=\"delayed-image-load\" data-alt=\"The natural living barrier was described as 'utterly impassable to man or beast'\" data-src=\"https://ychef.files.bbci.co.uk/width/790/p09t3c6d.jpg\"><img alt=\"The natural living barrier was described as 'utterly impassable to man or beast'\" src=\"data:image/gif;base64,R0lGODlhEAAJAIAAAP///wAAACH5BAEAAAAALAAAAAAQAAkAAAIKhI+py+0Po5yUFQA7\"/></div></div> </div>\n",
       "<div class=\"media__content\">\n",
       "<h3 class=\"media__title\">\n",
       "<a class=\"media__link\" href=\"https://www.bbc.com/future/article/20210824-how-the-worlds-longest-shrubbery-vanished-without-trace\" rev=\"editors-picks|headline\">\n",
       "                                                                    The search for India's forgotten hedge                                                            </a>\n",
       "</h3>\n",
       "<p class=\"media__summary\">\n",
       "                                                            The natural living barrier was described as 'utterly impassable to man or beast'                                                    </p>\n",
       "<a class=\"media__tag tag tag--future\" href=\"http://www.bbc.com/future\" rev=\"editors-picks|source\">Future</a>\n",
       "</div>\n",
       "<a aria-hidden=\"true\" class=\"block-link__overlay-link\" href=\"https://www.bbc.com/future/article/20210824-how-the-worlds-longest-shrubbery-vanished-without-trace\" rev=\"editors-picks|overlay\" tabindex=\"-1\">\n",
       "                    The search for India's forgotten hedge                </a>\n",
       "</div>\n",
       "</li>\n",
       "<li class=\"media-list__item media-list__item--6\">\n",
       "<div class=\"media media--padded block-link\" data-bbc-container=\"editors-picks\" data-bbc-metadata='{\"CHD\": \"card::6\" }' data-bbc-source=\"LongShots\" data-bbc-title=\"Which filmmaker is the next LongShots star?\">\n",
       "<div class=\"media__image\">\n",
       "<div class=\"responsive-image\"><div class=\"delayed-image-load\" data-alt=\"LongShots graphic\" data-src=\"https://ichef.bbc.co.uk/wwhp/{width}/ibroadcast/images/live/p0/9s/b7/p09sb7hj.jpg\"><img alt=\"LongShots graphic\" src=\"data:image/gif;base64,R0lGODlhEAAJAIAAAP///wAAACH5BAEAAAAALAAAAAAQAAkAAAIKhI+py+0Po5yUFQA7\"/></div></div> </div>\n",
       "<div class=\"media__content\">\n",
       "<h3 class=\"media__title\">\n",
       "<a class=\"media__link\" href=\"https://www.bbc.com/culture/article/20210816-longshots-2021-the-directors-behind-the-shortlisted-films\" rev=\"editors-picks|headline\">\n",
       "                                                                    Which filmmaker is the next LongShots star?                                                            </a>\n",
       "</h3>\n",
       "<p class=\"media__summary\">\n",
       "                                                            Meet the 16 documentary filmmakers behind the shortlisted films                                                    </p>\n",
       "<a class=\"media__tag tag tag--longshots\" href=\"https://www.bbc.com/reel/longshots\" rev=\"editors-picks|source\">LongShots</a>\n",
       "</div>\n",
       "<a aria-hidden=\"true\" class=\"block-link__overlay-link\" href=\"https://www.bbc.com/culture/article/20210816-longshots-2021-the-directors-behind-the-shortlisted-films\" rev=\"editors-picks|overlay\" tabindex=\"-1\">\n",
       "                    Which filmmaker is the next LongShots star?                </a>\n",
       "</div>\n",
       "</li>\n",
       "<li class=\"media-list__item media-list__item--7\">\n",
       "<div class=\"media media--padded block-link\" data-bbc-container=\"editors-picks\" data-bbc-metadata='{\"CHD\": \"card::7\" }' data-bbc-source=\"UK\" data-bbc-title=\"'My husband refused a divorce for nine years'\">\n",
       "<div class=\"media__image\">\n",
       "<div class=\"responsive-image\"><div class=\"delayed-image-load\" data-alt=\"Rifka Meyer\" data-src=\"https://ichef.bbc.co.uk/wwhp/{width}/cpsprodpb/13866/production/_120247997_rifka.jpg\"><img alt=\"Rifka Meyer\" src=\"data:image/gif;base64,R0lGODlhEAAJAIAAAP///wAAACH5BAEAAAAALAAAAAAQAAkAAAIKhI+py+0Po5yUFQA7\"/></div></div> </div>\n",
       "<div class=\"media__content\">\n",
       "<h3 class=\"media__title\">\n",
       "<a class=\"media__link\" href=\"https://www.bbc.com/news/uk-58334745\" rev=\"editors-picks|headline\">\n",
       "                                                                    'My husband refused a divorce for nine years'                                                            </a>\n",
       "</h3>\n",
       "<p class=\"media__summary\">\n",
       "                                                            Under orthodox Jewish law, a husband must give his wife a document to allow the marriage to end                                                    </p>\n",
       "<a class=\"media__tag tag tag--uk\" href=\"/news/uk\" rev=\"editors-picks|source\">UK</a>\n",
       "</div>\n",
       "<a aria-hidden=\"true\" class=\"block-link__overlay-link\" href=\"https://www.bbc.com/news/uk-58334745\" rev=\"editors-picks|overlay\" tabindex=\"-1\">\n",
       "                    'My husband refused a divorce for nine years'                </a>\n",
       "</div>\n",
       "</li>\n",
       "</ul> </div> <div class=\"most-popular\"> <div class=\"top-list\"> <h2 class=\"top-list__heading\">Latest Business News</h2> <ul class=\"top-list__list\"> <li class=\"top-list-item top-list-item__1 top-list-item--ranked top-list-item--odd\" data-bbc-container=\"most-popular\" data-bbc-metadata='{\"CHD\": \"card::1\" }' data-bbc-source=\"Latest Business News\" data-bbc-title=\"South Korea raises rates in pandemic era first\"> <a class=\"top-list-item__link\" href=\"/news/business-58338261\" rev=\"most-popular|link\"> <span class=\"top-list-item__bullet\">1</span> <h3 class=\"top-list-item__headline\">South Korea raises rates in pandemic era first</h3> </a> </li> <li class=\"top-list-item top-list-item__2 top-list-item--ranked top-list-item--even\" data-bbc-container=\"most-popular\" data-bbc-metadata='{\"CHD\": \"card::2\" }' data-bbc-source=\"Latest Business News\" data-bbc-title=\"Qantas says Covid to cost billions in lost revenue\"> <a class=\"top-list-item__link\" href=\"/news/business-58338262\" rev=\"most-popular|link\"> <span class=\"top-list-item__bullet\">2</span> <h3 class=\"top-list-item__headline\">Qantas says Covid to cost billions in lost revenue</h3> </a> </li> <li class=\"top-list-item top-list-item__3 top-list-item--ranked top-list-item--odd\" data-bbc-container=\"most-popular\" data-bbc-metadata='{\"CHD\": \"card::3\" }' data-bbc-source=\"Latest Business News\" data-bbc-title=\"NHS stops some blood tests due to vial shortages\"> <a class=\"top-list-item__link\" href=\"/news/business-58324108\" rev=\"most-popular|link\"> <span class=\"top-list-item__bullet\">3</span> <h3 class=\"top-list-item__headline\">NHS stops some blood tests due to vial shortages</h3> </a> </li> <li class=\"top-list-item top-list-item__4 top-list-item--ranked top-list-item--even\" data-bbc-container=\"most-popular\" data-bbc-metadata='{\"CHD\": \"card::4\" }' data-bbc-source=\"Latest Business News\" data-bbc-title=\"OnlyFans suspends policy change after backlash\"> <a class=\"top-list-item__link\" href=\"/news/technology-58331722\" rev=\"most-popular|link\"> <span class=\"top-list-item__bullet\">4</span> <h3 class=\"top-list-item__headline\">OnlyFans suspends policy change after backlash</h3> </a> </li> </ul> </div> </div> <div class=\"advert advert--native\"><!-- BBCDOTCOM slot native --><div aria-hidden=\"true\" class=\"bbccom_slot\" id=\"bbccom_native_1_2_3_4\"><div class=\"bbccom_advert\"><script type=\"text/javascript\">/*<![CDATA[*/(function() {if (window.bbcdotcom && bbcdotcom.slotAsync) {bbcdotcom.slotAsync(\"native\", [1,2,3,4]);}})();/*]]>*/</script></div></div></div> </div> </div> </section> <section class=\"module module--reel module--planet\"> <div class=\"module__content\"> <div> <a class=\"reel--link\" href=\"/future/future-planet\"> <div> <div class=\"reel--logos-container\"> <span class=\"planet--title\">Future Planet</span> </div> <div class=\"reel--button-container planet--button-container\"> <div class=\"reel--button planet--button\"> <div class=\"reel--button-title planet--button-title\"></div> <div class=\"reel--button-icon planet--button-icon\"> <svg fill=\"none\" height=\"24\" stroke=\"#BBB\" stroke-linecap=\"round\" stroke-linejoin=\"round\" stroke-width=\"2\" viewbox=\"0 0 24 24\" width=\"24\"> <line x1=\"4\" x2=\"20\" y1=\"12\" y2=\"12\"></line> <polyline points=\"14 6 20 12 14 18\"></polyline> </svg> </div> </div> </div> </div> </a> </div> <p>Solutions for a sustainable world</p> <ul class=\"media-list media-list--fixed-height\"> <li class=\"media-list__item media-list__item--1\"> <div class=\"media block-link\" data-bbc-container=\"future-planet\" data-bbc-metadata='{\"CHD\": \"card::1\" }' data-bbc-source=\"future\" data-bbc-title=\"The controversial plan to rewild death\"> <a class=\"reel__link\" href=\"/future/article/20210817-rewilding-death-germanys-plan-to-restore-the-necrobiome\"> <div class=\"media__image\"> <div class=\"responsive-image\"> <div class=\"delayed-image-load-planet\" data-alt=\"The controversial plan to rewild death\" data-src=\"https://ychef.files.bbci.co.uk/{width}/p09sghx7.jpg\"> <img alt=\"The controversial plan to rewild death\" src=\"data:image/gif;base64,R0lGODlhEAAJAIAAAP///wAAACH5BAEAAAAALAAAAAAQAAkAAAIKhI+py+0Po5yUFQA7\"/> </div> </div> </div> <div class=\"media__content\"> <h3>The controversial plan to rewild death</h3> </div> </a> </div> </li> <li class=\"media-list__item media-list__item--2\"> <div class=\"media block-link\" data-bbc-container=\"future-planet\" data-bbc-metadata='{\"CHD\": \"card::2\" }' data-bbc-source=\"future\" data-bbc-title=\"The ancient Persian way to keep cool\"> <a class=\"reel__link\" href=\"/future/article/20210810-the-ancient-persian-way-to-keep-cool\"> <div class=\"media__image\"> <div class=\"responsive-image\"> <div class=\"delayed-image-load-planet\" data-alt=\"The ancient Persian way to keep cool\" data-src=\"https://ychef.files.bbci.co.uk/{width}/p09rtttz.jpg\"> <img alt=\"The ancient Persian way to keep cool\" src=\"data:image/gif;base64,R0lGODlhEAAJAIAAAP///wAAACH5BAEAAAAALAAAAAAQAAkAAAIKhI+py+0Po5yUFQA7\"/> </div> </div> </div> <div class=\"media__content\"> <h3>The ancient Persian way to keep cool</h3> </div> </a> </div> </li> <li class=\"media-list__item media-list__item--3\"> <div class=\"media block-link\" data-bbc-container=\"future-planet\" data-bbc-metadata='{\"CHD\": \"card::3\" }' data-bbc-source=\"future\" data-bbc-title=\"The vast methane leaks seen from space\"> <a class=\"reel__link\" href=\"/future/article/20210805-the-search-for-the-worlds-largest-methane-sources\"> <div class=\"media__image\"> <div class=\"responsive-image\"> <div class=\"delayed-image-load-planet\" data-alt=\"The vast methane leaks seen from space\" data-src=\"https://ychef.files.bbci.co.uk/{width}/p09rfnv9.jpg\"> <img alt=\"The vast methane leaks seen from space\" src=\"data:image/gif;base64,R0lGODlhEAAJAIAAAP///wAAACH5BAEAAAAALAAAAAAQAAkAAAIKhI+py+0Po5yUFQA7\"/> </div> </div> </div> <div class=\"media__content\"> <h3>The vast methane leaks seen from space</h3> </div> </a> </div> </li> </ul> </div> <div class=\"reel--background\"> <div class=\"delayed-image-load-planet\" data-src=\"https://ychef.files.bbci.co.uk/976x549/p0836dcl.jpg\"></div> </div> </section> <section class=\"module module--collapse-images module--special-features module--primary-special-features\"> <div class=\"module__content\"> <ul class=\"features\"> <li class=\"feature feature--1\"> <div class=\"feature__wrapper\"> <h2 class=\"feature__title\"> <a class=\"feature__link\" href=\"https://www.bbc.com/travel/50-reasons-to-love-the-world\" rev=\"primary-special-features|header\"> 50 Reasons to Love the World </a> </h2> <div class=\"feature__content\">\n",
       "<div class=\"media media--primary block-link\" data-bbc-container=\"primary-special-features\" data-bbc-metadata='{\"CHD\": \"card::1\" }' data-bbc-source=\"Travel\" data-bbc-title=\"The endangered colours of Mexico\">\n",
       "<div class=\"media__image\">\n",
       "<div class=\"responsive-image\"><div class=\"delayed-image-load\" data-alt=\"Bales of wool dyed in a plethora of dyes from natural sources\" data-src=\"https://ichef.bbc.co.uk/wwhp/{width}/ibroadcast/images/live/p0/9s/lf/p09slfqk.jpg\"><img alt=\"Bales of wool dyed in a plethora of dyes from natural sources\" src=\"data:image/gif;base64,R0lGODlhEAAJAIAAAP///wAAACH5BAEAAAAALAAAAAAQAAkAAAIKhI+py+0Po5yUFQA7\"/></div></div> </div>\n",
       "<div class=\"media__content\">\n",
       "<a class=\"media__tag tag tag--travel\" href=\"https://www.bbc.com/travel\" rev=\"primary-special-features|source\">Travel</a>\n",
       "<h3 class=\"media__title\">\n",
       "<a class=\"media__link\" href=\"https://www.bbc.com/travel/article/20210823-the-man-preserving-endangered-colours\" rev=\"primary-special-features|headline\">\n",
       "                                                                    The endangered colours of Mexico                                                            </a>\n",
       "</h3>\n",
       "</div>\n",
       "<a aria-hidden=\"true\" class=\"block-link__overlay-link\" href=\"https://www.bbc.com/travel/article/20210823-the-man-preserving-endangered-colours\" rev=\"primary-special-features|overlay\" tabindex=\"-1\">\n",
       "                    The endangered colours of Mexico                </a>\n",
       "</div>\n",
       "</div> <div class=\"feature__ad\"> <div class=\"advert advert--module_feature-1 advert--sponsor\"><!-- BBCDOTCOM slot module_feature-1 --><div aria-hidden=\"true\" class=\"bbccom_slot\" id=\"bbccom_module_feature-1_1_2_3_4\"><div class=\"bbccom_advert\"><script type=\"text/javascript\">/*<![CDATA[*/(function() {if (window.bbcdotcom && bbcdotcom.slotAsync) {bbcdotcom.slotAsync(\"module_feature-1\", [1,2,3,4]);}})();/*]]>*/</script></div></div></div> </div> </div> </li> <li class=\"feature-ad\"> <div class=\"feature__wrapper\"> <h2 class=\"feature__title\">  ADVERTISEMENT  </h2> <div class=\"advert advert--infeed\"><!-- BBCDOTCOM slot infeed --><div aria-hidden=\"true\" class=\"bbccom_slot\" id=\"bbccom_infeed_1_2_3_4\"><div class=\"bbccom_advert\"><script type=\"text/javascript\">/*<![CDATA[*/(function() {if (window.bbcdotcom && bbcdotcom.slotAsync) {bbcdotcom.slotAsync(\"infeed\", [1,2,3,4]);}})();/*]]>*/</script></div></div></div> </div> </li> <li class=\"feature feature--2\"> <div class=\"feature__wrapper\"> <h2 class=\"feature__title\"> <a class=\"feature__link\" href=\"https://www.bbc.com/news/business-33712313\" rev=\"primary-special-features|header\"> CEO Secrets </a> </h2> <div class=\"feature__content\">\n",
       "<div class=\"media media--primary media--icon block-link\" data-bbc-container=\"primary-special-features\" data-bbc-metadata='{\"CHD\": \"card::2\" }' data-bbc-source=\"Business\" data-bbc-title=\"Beer boss: 'Tear up the business plan'\">\n",
       "<div class=\"media__image\">\n",
       "<div class=\"responsive-image\"><div class=\"delayed-image-load\" data-alt=\"Eric Ottaway\" data-src=\"https://ichef.bbc.co.uk/wwhp/{width}/cpsprodpb/5584/production/_120229812_p09t1f14.jpg\"><img alt=\"Eric Ottaway\" src=\"data:image/gif;base64,R0lGODlhEAAJAIAAAP///wAAACH5BAEAAAAALAAAAAAQAAkAAAIKhI+py+0Po5yUFQA7\"/></div></div> </div>\n",
       "<span aria-hidden=\"true\" class=\"media__icon icon icon--video\"></span>\n",
       "<div class=\"media__content\">\n",
       "<a class=\"media__tag tag tag--business\" href=\"/news/business\" rev=\"primary-special-features|source\">Business</a>\n",
       "<h3 class=\"media__title\">\n",
       "<a class=\"media__link\" href=\"https://www.bbc.com/news/av/business-58316843\" rev=\"primary-special-features|headline\">\n",
       "                                                                    Beer boss: 'Tear up the business plan'                                                            </a>\n",
       "</h3>\n",
       "</div>\n",
       "<a aria-hidden=\"true\" class=\"block-link__overlay-link\" href=\"https://www.bbc.com/news/av/business-58316843\" rev=\"primary-special-features|overlay\" tabindex=\"-1\">\n",
       "                    Beer boss: 'Tear up the business plan'                </a>\n",
       "</div>\n",
       "</div> <div class=\"feature__ad\"> <div class=\"advert advert--module_feature-2 advert--sponsor\"><!-- BBCDOTCOM slot module_feature-2 --><div aria-hidden=\"true\" class=\"bbccom_slot\" id=\"bbccom_module_feature-2_1_2_3_4\"><div class=\"bbccom_advert\"><script type=\"text/javascript\">/*<![CDATA[*/(function() {if (window.bbcdotcom && bbcdotcom.slotAsync) {bbcdotcom.slotAsync(\"module_feature-2\", [1,2,3,4]);}})();/*]]>*/</script></div></div></div> </div> </div> </li> </ul> </div> </section> <section class=\"module module--collapse-images module--video module--highlight\"> <h2 class=\"module__title\">\n",
       "<span class=\"module__title__link tag tag--default\">Featured video</span>\n",
       "</h2>\n",
       "<div class=\"module__content\"> <div class=\"video video--noslick\" data-wwhp-module=\"video\" id=\"video\"> <div class=\"video__player\"> <div class=\"video__smp\" id=\"player\"></div>\n",
       "<div class=\"media media--primary media--overlay block-link--no-filter media--icon block-link\" data-bbc-client-routed=\"\" data-bbc-container=\"video\" data-bbc-metadata='{\"CHD\": \"card::1\" }' data-bbc-source=\"Science &amp; Environment\" data-bbc-title=\"Moment giant tortoise kills bird caught on camera\">\n",
       "<div class=\"media__image\">\n",
       "<div class=\"responsive-image\"><div class=\"delayed-image-load\" data-alt=\"Tortoise and bird\" data-src=\"https://ichef.bbc.co.uk/wwhp/{width}/cpsprodpb/F6E5/production/_120250236_p09t74r0.jpg\"><img alt=\"Tortoise and bird\" src=\"data:image/gif;base64,R0lGODlhEAAJAIAAAP///wAAACH5BAEAAAAALAAAAAAQAAkAAAIKhI+py+0Po5yUFQA7\"/></div></div> </div>\n",
       "<span aria-hidden=\"true\" class=\"media__icon icon icon--video\"></span>\n",
       "<div class=\"media__content\">\n",
       "<h3 class=\"media__title\">\n",
       "<a class=\"media__link\" href=\"/news/science-environment-58337369\" rev=\"video|headline\">\n",
       "                                                                    Moment giant tortoise kills bird caught on camera                                                            </a>\n",
       "</h3>\n",
       "<p class=\"media__summary\">\n",
       "                                                            It is believed to be the first time this behaviour of giant tortoises has been documented.                                                    </p>\n",
       "<a class=\"media__tag tag tag--videos\" href=\"/news/science_and_environment\" rev=\"video|source\">Science &amp; Environment</a>\n",
       "</div>\n",
       "<a aria-hidden=\"true\" class=\"block-link__overlay-link\" href=\"/news/science-environment-58337369\" rev=\"video|overlay\" tabindex=\"-1\">\n",
       "                    Moment giant tortoise kills bird caught on camera                </a>\n",
       "</div>\n",
       "</div> <div class=\"video__content\"> <ul class=\"video__tabs\"> <li class=\"video__tab\"> <a class=\"video__tab__link\" data-category=\"recommended\" href=\"#\" role=\"link\"> Recommended </a> </li> <li class=\"video__tab\"> <a class=\"video__tab__link\" data-category=\"most-watched\" href=\"#\" role=\"link\"> Most Watched </a> </li> <li class=\"video__tab\"> <a class=\"video__tab__link\" data-category=\"latest\" href=\"#\" role=\"link\"> Latest </a> </li> </ul> <div class=\"video__viewport\"> <ul class=\"video__items\"> <li class=\"video__item video__item video__item--0 video__item--recommended\" data-category=\"recommended\" data-category-index=\"0\" data-index=\"0\" data-video='{\"contenttype\":\"video\",\"num\":\"10\",\"type\":\"MAP\",\"title\":\"Moment giant tortoise kills bird caught on camera\",\"url\":\"\\/news\\/science-environment-58337369\",\"summary\":\"It is believed to be the first time this behaviour of giant tortoises has been documented.\",\"img\":\"https:\\/\\/ichef.bbc.co.uk\\/wwhp\\/800\\/cpsprodpb\\/F6E5\\/production\\/_120250236_p09t74r0.jpg\",\"imgalttext\":\"Tortoise and bird\",\"pid\":\"p09t73l2\",\"pidtype\":\"Version\",\"sourcename\":\"Science &amp;amp; Environment\",\"sourceurl\":\"\\/news\\/science_and_environment\",\"created\":\"2021-08-25T23:01:52+00:00\",\"updated\":\"2021-08-25T23:01:52+00:00\",\"origincode\":\"cpsprodpb\",\"gelicon\":\"video\",\"sourceid\":\"videos\",\"itemtype\":\"feed\",\"allowadvertising\":true,\"clippid\":\"p09t73l0\",\"duration\":\"PT1M33S\"}'>\n",
       "<div class=\"media media--video media--horizontal media--primary media--icon block-link\" data-bbc-client-routed=\"\" data-bbc-container=\"video\" data-bbc-metadata='{\"CHD\": \"card::1\" }' data-bbc-source=\"Science &amp; Environment\" data-bbc-title=\"Moment giant tortoise kills bird caught on camera\">\n",
       "<div class=\"media__image\">\n",
       "<div class=\"responsive-image\"><div class=\"delayed-image-load\" data-alt=\"Tortoise and bird\" data-src=\"https://ichef.bbc.co.uk/wwhp/{width}/cpsprodpb/F6E5/production/_120250236_p09t74r0.jpg\"><img alt=\"Tortoise and bird\" src=\"data:image/gif;base64,R0lGODlhEAAJAIAAAP///wAAACH5BAEAAAAALAAAAAAQAAkAAAIKhI+py+0Po5yUFQA7\"/></div></div> </div>\n",
       "<span aria-hidden=\"true\" class=\"media__icon icon icon--video\"></span>\n",
       "<div class=\"media__content\">\n",
       "<h3 class=\"media__title\">\n",
       "<a class=\"media__link\" href=\"/news/science-environment-58337369\" rev=\"video|headline\">\n",
       "                                                                    Moment giant tortoise kills bird caught on...                                                            </a>\n",
       "</h3>\n",
       "<a class=\"media__tag tag tag--videos\" href=\"/news/science_and_environment\" rev=\"video|source\">Science &amp; Environment</a>\n",
       "</div>\n",
       "<a aria-hidden=\"true\" class=\"block-link__overlay-link\" href=\"/news/science-environment-58337369\" rev=\"video|overlay\" tabindex=\"-1\">\n",
       "                    Moment giant tortoise kills bird caught on camera                </a>\n",
       "</div>\n",
       "</li> <li class=\"video__item video__item video__item--1 video__item--recommended\" data-category=\"recommended\" data-category-index=\"1\" data-index=\"1\" data-video='{\"contenttype\":\"video\",\"num\":\"10\",\"type\":\"MAP\",\"title\":\"From broken hip to my first Paralympics\",\"url\":\"\\/news\\/uk-england-leicestershire-58273615\",\"summary\":\"Paralympic wheelchair basketball player Lucy Robinson wants to inspire others.\",\"img\":\"https:\\/\\/ichef.bbc.co.uk\\/wwhp\\/800\\/cpsprodpb\\/DC67\\/production\\/_120032465_p09sp5d1.jpg\",\"imgalttext\":\"Lucy Robinson\",\"pid\":\"p09sp6g9\",\"pidtype\":\"Version\",\"sourcename\":\"Leicester\",\"sourceurl\":\"\\/news\\/england\\/leicester\",\"created\":\"2021-08-22T23:03:14+00:00\",\"updated\":\"2021-08-22T23:03:14+00:00\",\"origincode\":\"cpsprodpb\",\"gelicon\":\"video\",\"sourceid\":\"videos-must-see\",\"itemtype\":\"feed\",\"allowadvertising\":true,\"clippid\":\"p09snzvr\",\"duration\":\"PT2M12S\"}'>\n",
       "<div class=\"media media--video media--horizontal media--icon block-link\" data-bbc-client-routed=\"\" data-bbc-container=\"video\" data-bbc-metadata='{\"CHD\": \"card::2\" }' data-bbc-source=\"Leicester\" data-bbc-title=\"From broken hip to my first Paralympics\">\n",
       "<div class=\"media__image\">\n",
       "<div class=\"responsive-image\"><div class=\"delayed-image-load\" data-alt=\"Lucy Robinson\" data-src=\"https://ichef.bbc.co.uk/wwhp/{width}/cpsprodpb/DC67/production/_120032465_p09sp5d1.jpg\"><img alt=\"Lucy Robinson\" src=\"data:image/gif;base64,R0lGODlhEAAJAIAAAP///wAAACH5BAEAAAAALAAAAAAQAAkAAAIKhI+py+0Po5yUFQA7\"/></div></div> </div>\n",
       "<span aria-hidden=\"true\" class=\"media__icon icon icon--video\"></span>\n",
       "<div class=\"media__content\">\n",
       "<h3 class=\"media__title\">\n",
       "<a class=\"media__link\" href=\"/news/uk-england-leicestershire-58273615\" rev=\"video|headline\">\n",
       "                                                                    From broken hip to my first Paralympics                                                            </a>\n",
       "</h3>\n",
       "<a class=\"media__tag tag tag--videos-must-see\" href=\"/news/england/leicester\" rev=\"video|source\">Leicester</a>\n",
       "</div>\n",
       "<a aria-hidden=\"true\" class=\"block-link__overlay-link\" href=\"/news/uk-england-leicestershire-58273615\" rev=\"video|overlay\" tabindex=\"-1\">\n",
       "                    From broken hip to my first Paralympics                </a>\n",
       "</div>\n",
       "</li> <li class=\"video__item video__item video__item--2 video__item--recommended\" data-category=\"recommended\" data-category-index=\"2\" data-index=\"2\" data-video=\"{&quot;contenttype&quot;:&quot;video&quot;,&quot;num&quot;:&quot;10&quot;,&quot;type&quot;:&quot;MAP&quot;,&quot;title&quot;:&quot;'This is the worst Snowdon queuing I can remember'&quot;,&quot;url&quot;:&quot;\\/news\\/uk-wales-58284171&quot;,&quot;summary&quot;:&quot;A group maintaining the mountain warns of the pressures large numbers of visitors bring.&quot;,&quot;img&quot;:&quot;https:\\/\\/ichef.bbc.co.uk\\/wwhp\\/800\\/cpsprodpb\\/1674C\\/production\\/_120208919_snowdon.jpg&quot;,&quot;imgalttext&quot;:&quot;The summit and queue&quot;,&quot;pid&quot;:&quot;p09t3z50&quot;,&quot;pidtype&quot;:&quot;Version&quot;,&quot;sourcename&quot;:&quot;Wales&quot;,&quot;sourceurl&quot;:&quot;\\/news\\/wales&quot;,&quot;created&quot;:&quot;2021-08-22T20:59:38+00:00&quot;,&quot;updated&quot;:&quot;2021-08-23T05:07:04+00:00&quot;,&quot;origincode&quot;:&quot;cpsprodpb&quot;,&quot;gelicon&quot;:&quot;video&quot;,&quot;sourceid&quot;:&quot;videos-must-see&quot;,&quot;itemtype&quot;:&quot;feed&quot;,&quot;allowadvertising&quot;:true,&quot;clippid&quot;:&quot;p09sswty&quot;,&quot;duration&quot;:&quot;PT2M26S&quot;}\">\n",
       "<div class=\"media media--video media--horizontal media--icon block-link\" data-bbc-client-routed=\"\" data-bbc-container=\"video\" data-bbc-metadata='{\"CHD\": \"card::3\" }' data-bbc-source=\"Wales\" data-bbc-title=\"'This is the worst Snowdon queuing I can remember'\">\n",
       "<div class=\"media__image\">\n",
       "<div class=\"responsive-image\"><div class=\"delayed-image-load\" data-alt=\"The summit and queue\" data-src=\"https://ichef.bbc.co.uk/wwhp/{width}/cpsprodpb/1674C/production/_120208919_snowdon.jpg\"><img alt=\"The summit and queue\" src=\"data:image/gif;base64,R0lGODlhEAAJAIAAAP///wAAACH5BAEAAAAALAAAAAAQAAkAAAIKhI+py+0Po5yUFQA7\"/></div></div> </div>\n",
       "<span aria-hidden=\"true\" class=\"media__icon icon icon--video\"></span>\n",
       "<div class=\"media__content\">\n",
       "<h3 class=\"media__title\">\n",
       "<a class=\"media__link\" href=\"/news/uk-wales-58284171\" rev=\"video|headline\">\n",
       "                                                                    'This is the worst Snowdon queuing I can...                                                            </a>\n",
       "</h3>\n",
       "<a class=\"media__tag tag tag--videos-must-see\" href=\"/news/wales\" rev=\"video|source\">Wales</a>\n",
       "</div>\n",
       "<a aria-hidden=\"true\" class=\"block-link__overlay-link\" href=\"/news/uk-wales-58284171\" rev=\"video|overlay\" tabindex=\"-1\">\n",
       "                    'This is the worst Snowdon queuing I can remember'                </a>\n",
       "</div>\n",
       "</li> <li class=\"video__item video__item video__item--3 video__item--recommended\" data-category=\"recommended\" data-category-index=\"3\" data-index=\"3\" data-video=\"{&quot;contenttype&quot;:&quot;video&quot;,&quot;num&quot;:&quot;10&quot;,&quot;type&quot;:&quot;MAP&quot;,&quot;title&quot;:&quot;South Africa's Paralympic pioneer&quot;,&quot;url&quot;:&quot;\\/sport\\/av\\/africa\\/58333522&quot;,&quot;summary&quot;:&quot;South Africa's wheelchair tennis star Kgothatso Montjane is aiming for a medal at the Tokyo Paralympics.&quot;,&quot;img&quot;:&quot;https:\\/\\/ichef.bbc.co.uk\\/wwhp\\/800\\/cpsprodpb\\/128C6\\/production\\/_120247957_p09t5qxv.jpg&quot;,&quot;imgalttext&quot;:&quot;Kgothatso Montjane&quot;,&quot;pid&quot;:&quot;p09t5md0&quot;,&quot;pidtype&quot;:&quot;Version&quot;,&quot;sourcename&quot;:&quot;Sport Africa&quot;,&quot;sourceurl&quot;:&quot;\\/sport\\/africa&quot;,&quot;created&quot;:&quot;2021-08-25T23:01:47+00:00&quot;,&quot;updated&quot;:&quot;2021-08-25T23:01:47+00:00&quot;,&quot;origincode&quot;:&quot;cpsprodpb&quot;,&quot;gelicon&quot;:&quot;video&quot;,&quot;sourceid&quot;:&quot;videos&quot;,&quot;itemtype&quot;:&quot;feed&quot;,&quot;allowadvertising&quot;:true,&quot;clippid&quot;:&quot;p09t5mct&quot;,&quot;duration&quot;:&quot;PT1M50S&quot;}\">\n",
       "<div class=\"media media--video media--horizontal media--icon block-link\" data-bbc-client-routed=\"\" data-bbc-container=\"video\" data-bbc-metadata='{\"CHD\": \"card::4\" }' data-bbc-source=\"Sport Africa\" data-bbc-title=\"South Africa's Paralympic pioneer\">\n",
       "<div class=\"media__image\">\n",
       "<div class=\"responsive-image\"><div class=\"delayed-image-load\" data-alt=\"Kgothatso Montjane\" data-src=\"https://ichef.bbc.co.uk/wwhp/{width}/cpsprodpb/128C6/production/_120247957_p09t5qxv.jpg\"><img alt=\"Kgothatso Montjane\" src=\"data:image/gif;base64,R0lGODlhEAAJAIAAAP///wAAACH5BAEAAAAALAAAAAAQAAkAAAIKhI+py+0Po5yUFQA7\"/></div></div> </div>\n",
       "<span aria-hidden=\"true\" class=\"media__icon icon icon--video\"></span>\n",
       "<div class=\"media__content\">\n",
       "<h3 class=\"media__title\">\n",
       "<a class=\"media__link\" href=\"/sport/av/africa/58333522\" rev=\"video|headline\">\n",
       "                                                                    South Africa's Paralympic pioneer                                                            </a>\n",
       "</h3>\n",
       "<a class=\"media__tag tag tag--videos\" href=\"/sport/africa\" rev=\"video|source\">Sport Africa</a>\n",
       "</div>\n",
       "<a aria-hidden=\"true\" class=\"block-link__overlay-link\" href=\"/sport/av/africa/58333522\" rev=\"video|overlay\" tabindex=\"-1\">\n",
       "                    South Africa's Paralympic pioneer                </a>\n",
       "</div>\n",
       "</li> <li class=\"video__item video__item video__item--4 video__item--recommended\" data-category=\"recommended\" data-category-index=\"4\" data-index=\"4\" data-video='{\"contenttype\":\"video\",\"num\":\"10\",\"type\":\"MAP\",\"title\":\"Third brawl in two days in Armenian parliament\",\"url\":\"\\/news\\/world-europe-58340042\",\"summary\":\"Security personnel were called in to remove several members after violence erupted on the parliament floor.\",\"img\":\"https:\\/\\/ichef.bbc.co.uk\\/wwhp\\/800\\/cpsprodpb\\/FF37\\/production\\/_120253356_p09t87st.jpg\",\"imgalttext\":\"Armenia parliament brawl\",\"pid\":\"p09t84hc\",\"pidtype\":\"Version\",\"sourcename\":\"Europe\",\"sourceurl\":\"\\/news\\/world\\/europe\",\"created\":\"2021-08-26T10:31:52+00:00\",\"updated\":\"2021-08-26T10:31:52+00:00\",\"origincode\":\"cpsprodpb\",\"gelicon\":\"video\",\"sourceid\":\"videos\",\"itemtype\":\"feed\",\"allowadvertising\":true,\"clippid\":\"p09t84h9\",\"duration\":\"PT35S\"}'>\n",
       "<div class=\"media media--video media--horizontal media--icon block-link\" data-bbc-client-routed=\"\" data-bbc-container=\"video\" data-bbc-metadata='{\"CHD\": \"card::5\" }' data-bbc-source=\"Europe\" data-bbc-title=\"Third brawl in two days in Armenian parliament\">\n",
       "<div class=\"media__image\">\n",
       "<div class=\"responsive-image\"><div class=\"delayed-image-load\" data-alt=\"Armenia parliament brawl\" data-src=\"https://ichef.bbc.co.uk/wwhp/{width}/cpsprodpb/FF37/production/_120253356_p09t87st.jpg\"><img alt=\"Armenia parliament brawl\" src=\"data:image/gif;base64,R0lGODlhEAAJAIAAAP///wAAACH5BAEAAAAALAAAAAAQAAkAAAIKhI+py+0Po5yUFQA7\"/></div></div> </div>\n",
       "<span aria-hidden=\"true\" class=\"media__icon icon icon--video\"></span>\n",
       "<div class=\"media__content\">\n",
       "<h3 class=\"media__title\">\n",
       "<a class=\"media__link\" href=\"/news/world-europe-58340042\" rev=\"video|headline\">\n",
       "                                                                    Third brawl in two days in Armenian...                                                            </a>\n",
       "</h3>\n",
       "<a class=\"media__tag tag tag--videos\" href=\"/news/world/europe\" rev=\"video|source\">Europe</a>\n",
       "</div>\n",
       "<a aria-hidden=\"true\" class=\"block-link__overlay-link\" href=\"/news/world-europe-58340042\" rev=\"video|overlay\" tabindex=\"-1\">\n",
       "                    Third brawl in two days in Armenian parliament                </a>\n",
       "</div>\n",
       "</li> <li class=\"video__item video__item video__item--5 video__item--most-watched\" data-category=\"most-watched\" data-category-index=\"0\" data-index=\"5\" data-video='{\"contenttype\":\"video\",\"num\":\"10\",\"title\":\"Boris Johnson struggles in interview\",\"url\":\"\\/news\\/uk-40358825\",\"img\":\"https:\\/\\/ichef.bbc.co.uk\\/wwhp\\/800\\/cpsprodpb\\/13914\\/production\\/_96584108_p056l3xn.jpg\",\"pid\":\"p05q0xdr\",\"pidtype\":\"Version\",\"sourcename\":\"UK\",\"sourceurl\":\"\\/news\\/uk\",\"summary\":\"The foreign secretary struggled to explain how the PM would tackle \\\"burning injustices\\\".\",\"imgalttext\":\"The foreign secretary struggled to explain the PM would tackle \\\"burning injustices\\\" in the criminal justice system and in education.\",\"origincode\":\"cpsprodpb\",\"allowadvertising\":true,\"clippid\":\"p056l396\",\"duration\":\"PT9M38S\"}'>\n",
       "<div class=\"media media--video media--horizontal media--icon block-link\" data-bbc-client-routed=\"\" data-bbc-container=\"video\" data-bbc-metadata='{\"CHD\": \"card::6\" }' data-bbc-source=\"UK\" data-bbc-title=\"Boris Johnson struggles in interview\">\n",
       "<div class=\"media__image\">\n",
       "<div class=\"responsive-image\"><div class=\"delayed-image-load\" data-alt='The foreign secretary struggled to explain the PM would tackle \"burning injustices\" in the criminal justice system and in education.' data-src=\"https://ichef.bbc.co.uk/wwhp/{width}/cpsprodpb/13914/production/_96584108_p056l3xn.jpg\"><img alt='The foreign secretary struggled to explain the PM would tackle \"burning injustices\" in the criminal justice system and in education.' src=\"data:image/gif;base64,R0lGODlhEAAJAIAAAP///wAAACH5BAEAAAAALAAAAAAQAAkAAAIKhI+py+0Po5yUFQA7\"/></div></div> </div>\n",
       "<span aria-hidden=\"true\" class=\"media__icon icon icon--video\"></span>\n",
       "<div class=\"media__content\">\n",
       "<h3 class=\"media__title\">\n",
       "<a class=\"media__link\" href=\"/news/uk-40358825\" rev=\"video|headline\">\n",
       "                                                                    Boris Johnson struggles in interview                                                            </a>\n",
       "</h3>\n",
       "<a class=\"media__tag tag tag--\" href=\"/news/uk\" rev=\"video|source\">UK</a>\n",
       "</div>\n",
       "<a aria-hidden=\"true\" class=\"block-link__overlay-link\" href=\"/news/uk-40358825\" rev=\"video|overlay\" tabindex=\"-1\">\n",
       "                    Boris Johnson struggles in interview                </a>\n",
       "</div>\n",
       "</li> <li class=\"video__item video__item video__item--6 video__item--most-watched\" data-category=\"most-watched\" data-category-index=\"1\" data-index=\"6\" data-video='{\"contenttype\":\"video\",\"num\":\"10\",\"title\":\"Ready for the total solar eclipse?\",\"url\":\"\\/news\\/world-us-canada-40362067\",\"img\":\"https:\\/\\/ichef.bbc.co.uk\\/wwhp\\/800\\/cpsprodpb\\/5EBA\\/production\\/_96505242_p056l5st.jpg\",\"pid\":\"p056l52f\",\"pidtype\":\"Version\",\"sourcename\":\"US &amp;amp; Canada\",\"sourceurl\":\"\\/news\\/world\\/us_and_canada\",\"summary\":\"Nasa scientists are very excited about the eclipse happening in the United States later this summer.\",\"imgalttext\":\"Solar eclipse to cross North America\",\"origincode\":\"cpsprodpb\",\"allowadvertising\":true,\"clippid\":\"p056l52c\",\"duration\":\"PT1M5S\"}'>\n",
       "<div class=\"media media--video media--horizontal media--icon block-link\" data-bbc-client-routed=\"\" data-bbc-container=\"video\" data-bbc-metadata='{\"CHD\": \"card::7\" }' data-bbc-source=\"US &amp; Canada\" data-bbc-title=\"Ready for the total solar eclipse?\">\n",
       "<div class=\"media__image\">\n",
       "<div class=\"responsive-image\"><div class=\"delayed-image-load\" data-alt=\"Solar eclipse to cross North America\" data-src=\"https://ichef.bbc.co.uk/wwhp/{width}/cpsprodpb/5EBA/production/_96505242_p056l5st.jpg\"><img alt=\"Solar eclipse to cross North America\" src=\"data:image/gif;base64,R0lGODlhEAAJAIAAAP///wAAACH5BAEAAAAALAAAAAAQAAkAAAIKhI+py+0Po5yUFQA7\"/></div></div> </div>\n",
       "<span aria-hidden=\"true\" class=\"media__icon icon icon--video\"></span>\n",
       "<div class=\"media__content\">\n",
       "<h3 class=\"media__title\">\n",
       "<a class=\"media__link\" href=\"/news/world-us-canada-40362067\" rev=\"video|headline\">\n",
       "                                                                    Ready for the total solar eclipse?                                                            </a>\n",
       "</h3>\n",
       "<a class=\"media__tag tag tag--\" href=\"/news/world/us_and_canada\" rev=\"video|source\">US &amp; Canada</a>\n",
       "</div>\n",
       "<a aria-hidden=\"true\" class=\"block-link__overlay-link\" href=\"/news/world-us-canada-40362067\" rev=\"video|overlay\" tabindex=\"-1\">\n",
       "                    Ready for the total solar eclipse?                </a>\n",
       "</div>\n",
       "</li> <li class=\"video__item video__item video__item--7 video__item--most-watched\" data-category=\"most-watched\" data-category-index=\"2\" data-index=\"7\" data-video=\"{&quot;contenttype&quot;:&quot;video&quot;,&quot;num&quot;:&quot;10&quot;,&quot;title&quot;:&quot;Koalas 'face extinction' in parts of Australia&quot;,&quot;url&quot;:&quot;\\/news\\/world-australia-40365981&quot;,&quot;img&quot;:&quot;https:\\/\\/ichef.bbc.co.uk\\/wwhp\\/800\\/cpsprodpb\\/11A11\\/production\\/_96590227_p056m0y4.jpg&quot;,&quot;pid&quot;:&quot;p056lx4x&quot;,&quot;pidtype&quot;:&quot;Version&quot;,&quot;sourcename&quot;:&quot;Australia&quot;,&quot;sourceurl&quot;:&quot;\\/news\\/world\\/australia&quot;,&quot;summary&quot;:&quot;The conservation group WWF is warning that koalas could be wiped out in some Australian states amid deforestation and increasing attacks by livestock.&quot;,&quot;imgalttext&quot;:&quot;Koala&quot;,&quot;origincode&quot;:&quot;cpsprodpb&quot;,&quot;allowadvertising&quot;:true,&quot;clippid&quot;:&quot;p056lx4s&quot;,&quot;duration&quot;:&quot;PT1M29S&quot;}\">\n",
       "<div class=\"media media--video media--horizontal media--icon block-link\" data-bbc-client-routed=\"\" data-bbc-container=\"video\" data-bbc-metadata='{\"CHD\": \"card::8\" }' data-bbc-source=\"Australia\" data-bbc-title=\"Koalas 'face extinction' in parts of Australia\">\n",
       "<div class=\"media__image\">\n",
       "<div class=\"responsive-image\"><div class=\"delayed-image-load\" data-alt=\"Koala\" data-src=\"https://ichef.bbc.co.uk/wwhp/{width}/cpsprodpb/11A11/production/_96590227_p056m0y4.jpg\"><img alt=\"Koala\" src=\"data:image/gif;base64,R0lGODlhEAAJAIAAAP///wAAACH5BAEAAAAALAAAAAAQAAkAAAIKhI+py+0Po5yUFQA7\"/></div></div> </div>\n",
       "<span aria-hidden=\"true\" class=\"media__icon icon icon--video\"></span>\n",
       "<div class=\"media__content\">\n",
       "<h3 class=\"media__title\">\n",
       "<a class=\"media__link\" href=\"/news/world-australia-40365981\" rev=\"video|headline\">\n",
       "                                                                    Koalas 'face extinction' in parts of...                                                            </a>\n",
       "</h3>\n",
       "<a class=\"media__tag tag tag--\" href=\"/news/world/australia\" rev=\"video|source\">Australia</a>\n",
       "</div>\n",
       "<a aria-hidden=\"true\" class=\"block-link__overlay-link\" href=\"/news/world-australia-40365981\" rev=\"video|overlay\" tabindex=\"-1\">\n",
       "                    Koalas 'face extinction' in parts of Australia                </a>\n",
       "</div>\n",
       "</li> <li class=\"video__item video__item video__item--8 video__item--most-watched\" data-category=\"most-watched\" data-category-index=\"3\" data-index=\"8\" data-video=\"{&quot;contenttype&quot;:&quot;video&quot;,&quot;num&quot;:&quot;10&quot;,&quot;title&quot;:&quot;Video 'shows Mosul mosque's destruction'&quot;,&quot;url&quot;:&quot;\\/news\\/world-middle-east-40366136&quot;,&quot;img&quot;:&quot;https:\\/\\/ichef.bbc.co.uk\\/wwhp\\/800\\/cpsprodpb\\/4C2A\\/production\\/_96589491_p056m4gs.jpg&quot;,&quot;pid&quot;:&quot;p056lwqx&quot;,&quot;pidtype&quot;:&quot;Version&quot;,&quot;sourcename&quot;:&quot;Middle East&quot;,&quot;sourceurl&quot;:&quot;\\/news\\/world\\/middle_east&quot;,&quot;summary&quot;:&quot;A video purportedly shows the destruction of Mosul's Great Mosque of al-Nuri and its minaret.&quot;,&quot;imgalttext&quot;:&quot;File image of Mosul's Great Mosque of al-Nuri and video purportedly showing it being blown up on 21 June 2017&quot;,&quot;origincode&quot;:&quot;cpsprodpb&quot;,&quot;allowadvertising&quot;:true,&quot;clippid&quot;:&quot;p056lwqv&quot;,&quot;duration&quot;:&quot;PT7S&quot;}\">\n",
       "<div class=\"media media--video media--horizontal media--icon block-link\" data-bbc-client-routed=\"\" data-bbc-container=\"video\" data-bbc-metadata='{\"CHD\": \"card::9\" }' data-bbc-source=\"Middle East\" data-bbc-title=\"Video 'shows Mosul mosque's destruction'\">\n",
       "<div class=\"media__image\">\n",
       "<div class=\"responsive-image\"><div class=\"delayed-image-load\" data-alt=\"File image of Mosul's Great Mosque of al-Nuri and video purportedly showing it being blown up on 21 June 2017\" data-src=\"https://ichef.bbc.co.uk/wwhp/{width}/cpsprodpb/4C2A/production/_96589491_p056m4gs.jpg\"><img alt=\"File image of Mosul's Great Mosque of al-Nuri and video purportedly showing it being blown up on 21 June 2017\" src=\"data:image/gif;base64,R0lGODlhEAAJAIAAAP///wAAACH5BAEAAAAALAAAAAAQAAkAAAIKhI+py+0Po5yUFQA7\"/></div></div> </div>\n",
       "<span aria-hidden=\"true\" class=\"media__icon icon icon--video\"></span>\n",
       "<div class=\"media__content\">\n",
       "<h3 class=\"media__title\">\n",
       "<a class=\"media__link\" href=\"/news/world-middle-east-40366136\" rev=\"video|headline\">\n",
       "                                                                    Video 'shows Mosul mosque's destruction'                                                            </a>\n",
       "</h3>\n",
       "<a class=\"media__tag tag tag--\" href=\"/news/world/middle_east\" rev=\"video|source\">Middle East</a>\n",
       "</div>\n",
       "<a aria-hidden=\"true\" class=\"block-link__overlay-link\" href=\"/news/world-middle-east-40366136\" rev=\"video|overlay\" tabindex=\"-1\">\n",
       "                    Video 'shows Mosul mosque's destruction'                </a>\n",
       "</div>\n",
       "</li> <li class=\"video__item video__item video__item--9 video__item--most-watched\" data-category=\"most-watched\" data-category-index=\"4\" data-index=\"9\" data-video=\"{&quot;contenttype&quot;:&quot;video&quot;,&quot;num&quot;:&quot;10&quot;,&quot;title&quot;:&quot;Indonesia's female 'devil wheel' riders&quot;,&quot;url&quot;:&quot;\\/news\\/world-asia-40360168&quot;,&quot;img&quot;:&quot;https:\\/\\/ichef.bbc.co.uk\\/wwhp\\/800\\/cpsprodpb\\/A5C6\\/production\\/_96583424_p056kgt9.jpg&quot;,&quot;pid&quot;:&quot;p056k1w7&quot;,&quot;pidtype&quot;:&quot;Version&quot;,&quot;sourcename&quot;:&quot;Asia&quot;,&quot;sourceurl&quot;:&quot;\\/news\\/world\\/asia&quot;,&quot;summary&quot;:&quot;How a girl from Sumatra came to be riding motorbikes around a vertical wall in a travelling show.&quot;,&quot;imgalttext&quot;:&quot;Karmila Purba&quot;,&quot;origincode&quot;:&quot;cpsprodpb&quot;,&quot;allowadvertising&quot;:true,&quot;clippid&quot;:&quot;p056k1vv&quot;,&quot;duration&quot;:&quot;PT3M9S&quot;}\">\n",
       "<div class=\"media media--video media--horizontal media--icon block-link\" data-bbc-client-routed=\"\" data-bbc-container=\"video\" data-bbc-metadata='{\"CHD\": \"card::10\" }' data-bbc-source=\"Asia\" data-bbc-title=\"Indonesia's female 'devil wheel' riders\">\n",
       "<div class=\"media__image\">\n",
       "<div class=\"responsive-image\"><div class=\"delayed-image-load\" data-alt=\"Karmila Purba\" data-src=\"https://ichef.bbc.co.uk/wwhp/{width}/cpsprodpb/A5C6/production/_96583424_p056kgt9.jpg\"><img alt=\"Karmila Purba\" src=\"data:image/gif;base64,R0lGODlhEAAJAIAAAP///wAAACH5BAEAAAAALAAAAAAQAAkAAAIKhI+py+0Po5yUFQA7\"/></div></div> </div>\n",
       "<span aria-hidden=\"true\" class=\"media__icon icon icon--video\"></span>\n",
       "<div class=\"media__content\">\n",
       "<h3 class=\"media__title\">\n",
       "<a class=\"media__link\" href=\"/news/world-asia-40360168\" rev=\"video|headline\">\n",
       "                                                                    Indonesia's female 'devil wheel' riders                                                            </a>\n",
       "</h3>\n",
       "<a class=\"media__tag tag tag--\" href=\"/news/world/asia\" rev=\"video|source\">Asia</a>\n",
       "</div>\n",
       "<a aria-hidden=\"true\" class=\"block-link__overlay-link\" href=\"/news/world-asia-40360168\" rev=\"video|overlay\" tabindex=\"-1\">\n",
       "                    Indonesia's female 'devil wheel' riders                </a>\n",
       "</div>\n",
       "</li> <li class=\"video__item video__item video__item--10 video__item--latest\" data-category=\"latest\" data-category-index=\"0\" data-index=\"10\" data-video='{\"contenttype\":\"video\",\"num\":\"10\",\"type\":\"MAP\",\"title\":\"Nile Rodgers offers career tips to young musicians\",\"url\":\"\\/news\\/uk-england-london-58320495\",\"summary\":\"After months of staying at home, the music legend taught young Londoners the benefit of collaboration.\",\"img\":\"https:\\/\\/ichef.bbc.co.uk\\/wwhp\\/800\\/cpsprodpb\\/10241\\/production\\/_120231166_p09t2bzx.jpg\",\"imgalttext\":\"Nile Rodgers jamming with young musicians\",\"pid\":\"p09t57k1\",\"pidtype\":\"Version\",\"sourcename\":\"London\",\"sourceurl\":\"\\/news\\/england\\/london\",\"created\":\"2021-08-25T23:01:42+00:00\",\"updated\":\"2021-08-25T23:01:42+00:00\",\"origincode\":\"cpsprodpb\",\"gelicon\":\"video\",\"allowadvertising\":true,\"clippid\":\"p09t2507\",\"duration\":\"PT2M34S\"}'>\n",
       "<div class=\"media media--video media--horizontal media--icon block-link\" data-bbc-client-routed=\"\" data-bbc-container=\"video\" data-bbc-metadata='{\"CHD\": \"card::11\" }' data-bbc-source=\"London\" data-bbc-title=\"Nile Rodgers offers career tips to young musicians\">\n",
       "<div class=\"media__image\">\n",
       "<div class=\"responsive-image\"><div class=\"delayed-image-load\" data-alt=\"Nile Rodgers jamming with young musicians\" data-src=\"https://ichef.bbc.co.uk/wwhp/{width}/cpsprodpb/10241/production/_120231166_p09t2bzx.jpg\"><img alt=\"Nile Rodgers jamming with young musicians\" src=\"data:image/gif;base64,R0lGODlhEAAJAIAAAP///wAAACH5BAEAAAAALAAAAAAQAAkAAAIKhI+py+0Po5yUFQA7\"/></div></div> </div>\n",
       "<span aria-hidden=\"true\" class=\"media__icon icon icon--video\"></span>\n",
       "<div class=\"media__content\">\n",
       "<h3 class=\"media__title\">\n",
       "<a class=\"media__link\" href=\"/news/uk-england-london-58320495\" rev=\"video|headline\">\n",
       "                                                                    Nile Rodgers offers career tips to young...                                                            </a>\n",
       "</h3>\n",
       "<a class=\"media__tag tag tag--\" href=\"/news/england/london\" rev=\"video|source\">London</a>\n",
       "</div>\n",
       "<a aria-hidden=\"true\" class=\"block-link__overlay-link\" href=\"/news/uk-england-london-58320495\" rev=\"video|overlay\" tabindex=\"-1\">\n",
       "                    Nile Rodgers offers career tips to young musicians                </a>\n",
       "</div>\n",
       "</li> <li class=\"video__item video__item video__item--11 video__item--latest\" data-category=\"latest\" data-category-index=\"1\" data-index=\"11\" data-video='{\"contenttype\":\"video\",\"num\":\"10\",\"type\":\"MAP\",\"title\":\"One-minute World News\",\"url\":\"\\/news\\/10462520\",\"summary\":\"Watch the latest news summary from BBC World News. International news updated 24 hours a day.\",\"img\":\"https:\\/\\/ichef.bbc.co.uk\\/wwhp\\/800\\/cpsprodpb\\/15C7E\\/production\\/_90041298_p01tlf61.jpg\",\"imgalttext\":\"BBC News\",\"pid\":\"p09t7zbr\",\"duration\":\"PT58S\",\"pidtype\":\"Version\",\"sourcename\":\"Video\",\"sourceurl\":\"\\/news\\/video_and_audio\",\"created\":\"2010-07-09T07:56:06+00:00\",\"updated\":\"2021-08-26T08:51:56+00:00\",\"origincode\":\"cpsprodpb\",\"gelicon\":\"video\",\"allowadvertising\":true}'>\n",
       "<div class=\"media media--video media--horizontal media--icon block-link\" data-bbc-client-routed=\"\" data-bbc-container=\"video\" data-bbc-metadata='{\"CHD\": \"card::12\" }' data-bbc-source=\"Video\" data-bbc-title=\"One-minute World News\">\n",
       "<div class=\"media__image\">\n",
       "<div class=\"responsive-image\"><div class=\"delayed-image-load\" data-alt=\"BBC News\" data-src=\"https://ichef.bbc.co.uk/wwhp/{width}/cpsprodpb/15C7E/production/_90041298_p01tlf61.jpg\"><img alt=\"BBC News\" src=\"data:image/gif;base64,R0lGODlhEAAJAIAAAP///wAAACH5BAEAAAAALAAAAAAQAAkAAAIKhI+py+0Po5yUFQA7\"/></div></div> </div>\n",
       "<span aria-hidden=\"true\" class=\"media__icon icon icon--video\"></span>\n",
       "<div class=\"media__content\">\n",
       "<h3 class=\"media__title\">\n",
       "<a class=\"media__link\" href=\"/news/10462520\" rev=\"video|headline\">\n",
       "                                                                    One-minute World News                                                            </a>\n",
       "</h3>\n",
       "<a class=\"media__tag tag tag--\" href=\"/news/video_and_audio\" rev=\"video|source\">Video</a>\n",
       "</div>\n",
       "<a aria-hidden=\"true\" class=\"block-link__overlay-link\" href=\"/news/10462520\" rev=\"video|overlay\" tabindex=\"-1\">\n",
       "                    One-minute World News                </a>\n",
       "</div>\n",
       "</li> <li class=\"video__item video__item video__item--12 video__item--latest\" data-category=\"latest\" data-category-index=\"2\" data-index=\"12\" data-video=\"{&quot;contenttype&quot;:&quot;video&quot;,&quot;num&quot;:&quot;10&quot;,&quot;type&quot;:&quot;MAP&quot;,&quot;title&quot;:&quot;Fearing for my family: 'They will all be killed'&quot;,&quot;url&quot;:&quot;\\/news\\/uk-58327953&quot;,&quot;summary&quot;:&quot;The stories of Britons stuck in Kabul, families in limbo and Afghans starting new lives in the UK.&quot;,&quot;img&quot;:&quot;https:\\/\\/ichef.bbc.co.uk\\/wwhp\\/800\\/cpsprodpb\\/377C\\/production\\/_120240241_p09t412h.jpg&quot;,&quot;imgalttext&quot;:&quot;Nahida Abasi&quot;,&quot;pid&quot;:&quot;p09t43w2&quot;,&quot;pidtype&quot;:&quot;Version&quot;,&quot;sourcename&quot;:&quot;UK&quot;,&quot;sourceurl&quot;:&quot;\\/news\\/uk&quot;,&quot;created&quot;:&quot;2021-08-25T07:57:02+00:00&quot;,&quot;updated&quot;:&quot;2021-08-25T07:57:02+00:00&quot;,&quot;origincode&quot;:&quot;cpsprodpb&quot;,&quot;gelicon&quot;:&quot;video&quot;,&quot;allowadvertising&quot;:true,&quot;clippid&quot;:&quot;p09t40kz&quot;,&quot;duration&quot;:&quot;PT3M5S&quot;}\">\n",
       "<div class=\"media media--video media--horizontal media--icon block-link\" data-bbc-client-routed=\"\" data-bbc-container=\"video\" data-bbc-metadata='{\"CHD\": \"card::13\" }' data-bbc-source=\"UK\" data-bbc-title=\"Fearing for my family: 'They will all be killed'\">\n",
       "<div class=\"media__image\">\n",
       "<div class=\"responsive-image\"><div class=\"delayed-image-load\" data-alt=\"Nahida Abasi\" data-src=\"https://ichef.bbc.co.uk/wwhp/{width}/cpsprodpb/377C/production/_120240241_p09t412h.jpg\"><img alt=\"Nahida Abasi\" src=\"data:image/gif;base64,R0lGODlhEAAJAIAAAP///wAAACH5BAEAAAAALAAAAAAQAAkAAAIKhI+py+0Po5yUFQA7\"/></div></div> </div>\n",
       "<span aria-hidden=\"true\" class=\"media__icon icon icon--video\"></span>\n",
       "<div class=\"media__content\">\n",
       "<h3 class=\"media__title\">\n",
       "<a class=\"media__link\" href=\"/news/uk-58327953\" rev=\"video|headline\">\n",
       "                                                                    Fearing for my family: 'They will all be...                                                            </a>\n",
       "</h3>\n",
       "<a class=\"media__tag tag tag--\" href=\"/news/uk\" rev=\"video|source\">UK</a>\n",
       "</div>\n",
       "<a aria-hidden=\"true\" class=\"block-link__overlay-link\" href=\"/news/uk-58327953\" rev=\"video|overlay\" tabindex=\"-1\">\n",
       "                    Fearing for my family: 'They will all be killed'                </a>\n",
       "</div>\n",
       "</li> <li class=\"video__item video__item video__item--13 video__item--latest\" data-category=\"latest\" data-category-index=\"3\" data-index=\"13\" data-video='{\"contenttype\":\"video\",\"num\":\"10\",\"type\":\"MAP\",\"title\":\"Haiti earthquake: My baby died during her christening\",\"url\":\"\\/news\\/world-us-canada-58320708\",\"summary\":\"Locals say 22 people died when a church collapsed during a mass christening.\",\"img\":\"https:\\/\\/ichef.bbc.co.uk\\/wwhp\\/800\\/cpsprodpb\\/A64D\\/production\\/_120237524_p09t3nmc.jpg\",\"imgalttext\":\"Woman lying on bed\",\"pid\":\"p09t57zg\",\"pidtype\":\"Version\",\"sourcename\":\"US &amp;amp; Canada\",\"sourceurl\":\"\\/news\\/world\\/us_and_canada\",\"created\":\"2021-08-25T01:07:48+00:00\",\"updated\":\"2021-08-25T01:07:48+00:00\",\"origincode\":\"cpsprodpb\",\"gelicon\":\"video\",\"allowadvertising\":true,\"clippid\":\"p09t3n2n\",\"duration\":\"PT2M19S\"}'>\n",
       "<div class=\"media media--video media--horizontal media--icon block-link\" data-bbc-client-routed=\"\" data-bbc-container=\"video\" data-bbc-metadata='{\"CHD\": \"card::14\" }' data-bbc-source=\"US &amp; Canada\" data-bbc-title=\"Haiti earthquake: My baby died during her christening\">\n",
       "<div class=\"media__image\">\n",
       "<div class=\"responsive-image\"><div class=\"delayed-image-load\" data-alt=\"Woman lying on bed\" data-src=\"https://ichef.bbc.co.uk/wwhp/{width}/cpsprodpb/A64D/production/_120237524_p09t3nmc.jpg\"><img alt=\"Woman lying on bed\" src=\"data:image/gif;base64,R0lGODlhEAAJAIAAAP///wAAACH5BAEAAAAALAAAAAAQAAkAAAIKhI+py+0Po5yUFQA7\"/></div></div> </div>\n",
       "<span aria-hidden=\"true\" class=\"media__icon icon icon--video\"></span>\n",
       "<div class=\"media__content\">\n",
       "<h3 class=\"media__title\">\n",
       "<a class=\"media__link\" href=\"/news/world-us-canada-58320708\" rev=\"video|headline\">\n",
       "                                                                    Haiti earthquake: My baby died during her...                                                            </a>\n",
       "</h3>\n",
       "<a class=\"media__tag tag tag--\" href=\"/news/world/us_and_canada\" rev=\"video|source\">US &amp; Canada</a>\n",
       "</div>\n",
       "<a aria-hidden=\"true\" class=\"block-link__overlay-link\" href=\"/news/world-us-canada-58320708\" rev=\"video|overlay\" tabindex=\"-1\">\n",
       "                    Haiti earthquake: My baby died during her christening                </a>\n",
       "</div>\n",
       "</li> <li class=\"video__item video__item video__item--14 video__item--latest\" data-category=\"latest\" data-category-index=\"4\" data-index=\"14\" data-video=\"{&quot;contenttype&quot;:&quot;video&quot;,&quot;num&quot;:&quot;10&quot;,&quot;type&quot;:&quot;MAP&quot;,&quot;title&quot;:&quot;Taliban to US: Don't encourage Afghans to leave&quot;,&quot;url&quot;:&quot;\\/news\\/uk-politics-58320221&quot;,&quot;summary&quot;:&quot;Foreign countries should stop encouraging Afghans to leave their country, a Taliban spokesman says.&quot;,&quot;img&quot;:&quot;https:\\/\\/ichef.bbc.co.uk\\/wwhp\\/800\\/cpsprodpb\\/1510A\\/production\\/_120228268_p09t2dhk.jpg&quot;,&quot;imgalttext&quot;:&quot;Zabihullah Mujahid, Taliban spokesman&quot;,&quot;pid&quot;:&quot;p09t2ckq&quot;,&quot;pidtype&quot;:&quot;Version&quot;,&quot;sourcename&quot;:&quot;Asia&quot;,&quot;sourceurl&quot;:&quot;\\/news\\/world\\/asia&quot;,&quot;created&quot;:&quot;2021-08-24T13:50:40+00:00&quot;,&quot;updated&quot;:&quot;2021-08-24T13:50:40+00:00&quot;,&quot;origincode&quot;:&quot;cpsprodpb&quot;,&quot;gelicon&quot;:&quot;video&quot;,&quot;allowadvertising&quot;:true,&quot;clippid&quot;:&quot;p09t2ckj&quot;,&quot;duration&quot;:&quot;PT2M49S&quot;}\">\n",
       "<div class=\"media media--video media--horizontal media--icon block-link\" data-bbc-client-routed=\"\" data-bbc-container=\"video\" data-bbc-metadata='{\"CHD\": \"card::15\" }' data-bbc-source=\"Asia\" data-bbc-title=\"Taliban to US: Don't encourage Afghans to leave\">\n",
       "<div class=\"media__image\">\n",
       "<div class=\"responsive-image\"><div class=\"delayed-image-load\" data-alt=\"Zabihullah Mujahid, Taliban spokesman\" data-src=\"https://ichef.bbc.co.uk/wwhp/{width}/cpsprodpb/1510A/production/_120228268_p09t2dhk.jpg\"><img alt=\"Zabihullah Mujahid, Taliban spokesman\" src=\"data:image/gif;base64,R0lGODlhEAAJAIAAAP///wAAACH5BAEAAAAALAAAAAAQAAkAAAIKhI+py+0Po5yUFQA7\"/></div></div> </div>\n",
       "<span aria-hidden=\"true\" class=\"media__icon icon icon--video\"></span>\n",
       "<div class=\"media__content\">\n",
       "<h3 class=\"media__title\">\n",
       "<a class=\"media__link\" href=\"/news/uk-politics-58320221\" rev=\"video|headline\">\n",
       "                                                                    Taliban to US: Don't encourage Afghans to...                                                            </a>\n",
       "</h3>\n",
       "<a class=\"media__tag tag tag--\" href=\"/news/world/asia\" rev=\"video|source\">Asia</a>\n",
       "</div>\n",
       "<a aria-hidden=\"true\" class=\"block-link__overlay-link\" href=\"/news/uk-politics-58320221\" rev=\"video|overlay\" tabindex=\"-1\">\n",
       "                    Taliban to US: Don't encourage Afghans to leave                </a>\n",
       "</div>\n",
       "</li> </ul> </div> </div> </div> </div> </section> <!-- Error: (null) Module not found or invalid -->\n",
       "<section class=\"module module--world-service\"> <div class=\"module__content\"> <div class=\"wsradio\"> <h2 class=\"wsradio__title\"> <a class=\"wsradio__title__link\" href=\"http://www.bbc.co.uk/worldserviceradio/\" rev=\"world-service|header\">BBC World Service </a> </h2> <div class=\"wsradio__content\"> <i aria-hidden=\"true\" class=\"wsradio__icon icon icon--audio\"></i> <a class=\"wsradio__programme\" href=\"http://www.bbc.co.uk/programmes/p028z2z0\" rev=\"world-service|link\"> <span class=\"wsradio__programme__onair\">On Air:</span> <span class=\"wsradio__programme__title\">The Food Chain</span> </a> </div> </div> </div> </section> <div class=\"advert advert--parallax\"><!-- BBCDOTCOM slot parallax --><div aria-hidden=\"true\" class=\"bbccom_slot\" id=\"bbccom_parallax_1_2_3_4\"><div class=\"bbccom_advert\"><script type=\"text/javascript\">/*<![CDATA[*/(function() {if (window.bbcdotcom && bbcdotcom.slotAsync) {bbcdotcom.slotAsync(\"parallax\", [1,2,3,4]);}})();/*]]>*/</script></div></div></div> <section class=\"module module--collapse-images module--highlight module--more-bbc\"> <h2 class=\"module__title\">\n",
       "<span class=\"module__title__link tag tag--feature\">More around the BBC</span>\n",
       "</h2>\n",
       "<div class=\"module__content\"> <div class=\"container\"> <div class=\"more-bbc\"> <ul class=\"media-list media-list--fixed-height layout--featured\">\n",
       "<li class=\"media-list__item media-list__item--1\">\n",
       "<div class=\"media media--padded media--primary block-link\" data-bbc-container=\"more-bbc\" data-bbc-metadata='{\"CHD\": \"card::1\" }' data-bbc-source=\"Entertainment &amp; Arts\" data-bbc-title=\"Can Frozen stage musical recreate the film's magic?\">\n",
       "<div class=\"media__image\">\n",
       "<div class=\"responsive-image\"><div class=\"delayed-image-load\" data-alt=\"Samantha Barks (Elsa) and Stephanie McKeon (Anna)\" data-src=\"https://ichef.bbc.co.uk/wwhp/{width}/cpsprodpb/77B5/production/_120254603_copyofl-rsamanthabarks-elsaandstephaniemckeon-anna02-photographybytrevorleightondisney.jpg\"><img alt=\"Samantha Barks (Elsa) and Stephanie McKeon (Anna)\" src=\"data:image/gif;base64,R0lGODlhEAAJAIAAAP///wAAACH5BAEAAAAALAAAAAAQAAkAAAIKhI+py+0Po5yUFQA7\"/></div></div> </div>\n",
       "<div class=\"media__content\">\n",
       "<h3 class=\"media__title\">\n",
       "<a class=\"media__link\" href=\"/news/entertainment-arts-57968594\" rev=\"more-bbc|headline\">\n",
       "                                                                    Can Frozen stage musical recreate the film's magic?                                                            </a>\n",
       "</h3>\n",
       "<p class=\"media__summary\">\n",
       "                                                            Some critics are sceptical, but London's Anna and Elsa say the stage adaptation will please fans.                                                    </p>\n",
       "<a class=\"media__tag tag tag--entertainment\" href=\"/news/entertainment_and_arts\" rev=\"more-bbc|source\">Entertainment &amp; Arts</a>\n",
       "</div>\n",
       "<a aria-hidden=\"true\" class=\"block-link__overlay-link\" href=\"/news/entertainment-arts-57968594\" rev=\"more-bbc|overlay\" tabindex=\"-1\">\n",
       "                    Can Frozen stage musical recreate the film's magic?                </a>\n",
       "</div>\n",
       "</li>\n",
       "<li class=\"media-list__item media-list__item--2\">\n",
       "<div class=\"media media--padded block-link\" data-bbc-container=\"more-bbc\" data-bbc-metadata='{\"CHD\": \"card::2\" }' data-bbc-source=\"Business\" data-bbc-title=\"Pubs and restaurants hoping for Christmas cheer\">\n",
       "<div class=\"media__image\">\n",
       "<div class=\"responsive-image\"><div class=\"delayed-image-load\" data-alt=\"Champagne flutes\" data-src=\"https://ichef.bbc.co.uk/wwhp/{width}/cpsprodpb/2840/production/_120240301_gettyimages-590461939.jpg\"><img alt=\"Champagne flutes\" src=\"data:image/gif;base64,R0lGODlhEAAJAIAAAP///wAAACH5BAEAAAAALAAAAAAQAAkAAAIKhI+py+0Po5yUFQA7\"/></div></div> </div>\n",
       "<div class=\"media__content\">\n",
       "<h3 class=\"media__title\">\n",
       "<a class=\"media__link\" href=\"https://www.bbc.co.uk/news/business-58305616\" rev=\"more-bbc|headline\">\n",
       "                                                                    Pubs and restaurants hoping for Christmas cheer                                                            </a>\n",
       "</h3>\n",
       "<a class=\"media__tag tag tag--business\" href=\"http://www.bbc.com/news/business/\" rev=\"more-bbc|source\">Business</a>\n",
       "</div>\n",
       "<a aria-hidden=\"true\" class=\"block-link__overlay-link\" href=\"https://www.bbc.co.uk/news/business-58305616\" rev=\"more-bbc|overlay\" tabindex=\"-1\">\n",
       "                    Pubs and restaurants hoping for Christmas cheer                </a>\n",
       "</div>\n",
       "</li>\n",
       "<li class=\"media-list__item media-list__item--3\">\n",
       "<div class=\"media media--padded block-link\" data-bbc-container=\"more-bbc\" data-bbc-metadata='{\"CHD\": \"card::3\" }' data-bbc-source=\"Science &amp; Environment\" data-bbc-title=\"Search for Covid's origins stalled, scientists say\">\n",
       "<div class=\"media__image\">\n",
       "<div class=\"responsive-image\"><div class=\"delayed-image-load\" data-alt=\"Wuhan Seafood Market\" data-src=\"https://ichef.bbc.co.uk/wwhp/{width}/cpsprodpb/09A8/production/_111827420_hi059295836.jpg\"><img alt=\"Wuhan Seafood Market\" src=\"data:image/gif;base64,R0lGODlhEAAJAIAAAP///wAAACH5BAEAAAAALAAAAAAQAAkAAAIKhI+py+0Po5yUFQA7\"/></div></div> </div>\n",
       "<div class=\"media__content\">\n",
       "<h3 class=\"media__title\">\n",
       "<a class=\"media__link\" href=\"/news/science-environment-58331657\" rev=\"more-bbc|headline\">\n",
       "                                                                    Search for Covid's origins stalled, scientists say                                                            </a>\n",
       "</h3>\n",
       "<a class=\"media__tag tag tag--science\" href=\"/news/science_and_environment\" rev=\"more-bbc|source\">Science &amp; Environment</a>\n",
       "</div>\n",
       "<a aria-hidden=\"true\" class=\"block-link__overlay-link\" href=\"/news/science-environment-58331657\" rev=\"more-bbc|overlay\" tabindex=\"-1\">\n",
       "                    Search for Covid's origins stalled, scientists say                </a>\n",
       "</div>\n",
       "</li>\n",
       "<li class=\"media-list__item media-list__item--4\">\n",
       "<div class=\"media media--padded block-link\" data-bbc-container=\"more-bbc\" data-bbc-metadata='{\"CHD\": \"card::4\" }' data-bbc-source=\"Technology\" data-bbc-title=\"The real victims of mass crypto-hacks\">\n",
       "<div class=\"media__image\">\n",
       "<div class=\"responsive-image\"><div class=\"delayed-image-load\" data-alt=\"Man looking at stocks\" data-src=\"https://ichef.bbc.co.uk/wwhp/{width}/cpsprodpb/5F04/production/_120242342_tidypicture.jpg\"><img alt=\"Man looking at stocks\" src=\"data:image/gif;base64,R0lGODlhEAAJAIAAAP///wAAACH5BAEAAAAALAAAAAAQAAkAAAIKhI+py+0Po5yUFQA7\"/></div></div> </div>\n",
       "<div class=\"media__content\">\n",
       "<h3 class=\"media__title\">\n",
       "<a class=\"media__link\" href=\"/news/technology-58331959\" rev=\"more-bbc|headline\">\n",
       "                                                                    The real victims of mass crypto-hacks                                                            </a>\n",
       "</h3>\n",
       "<a class=\"media__tag tag tag--technology\" href=\"/news/technology\" rev=\"more-bbc|source\">Technology</a>\n",
       "</div>\n",
       "<a aria-hidden=\"true\" class=\"block-link__overlay-link\" href=\"/news/technology-58331959\" rev=\"more-bbc|overlay\" tabindex=\"-1\">\n",
       "                    The real victims of mass crypto-hacks                </a>\n",
       "</div>\n",
       "</li>\n",
       "<li class=\"media-list__item media-list__item--5\">\n",
       "<div class=\"media media--padded block-link\" data-bbc-container=\"more-bbc\" data-bbc-metadata='{\"CHD\": \"card::5\" }' data-bbc-source=\"Health\" data-bbc-title=\"Covid protection in double-jabbed waning in UK\">\n",
       "<div class=\"media__image\">\n",
       "<div class=\"responsive-image\"><div class=\"delayed-image-load\" data-alt=\"Woman receiving Covid vaccination\" data-src=\"https://ichef.bbc.co.uk/wwhp/{width}/cpsprodpb/7C8B/production/_120238813_gettyimages-1324507291.jpg\"><img alt=\"Woman receiving Covid vaccination\" src=\"data:image/gif;base64,R0lGODlhEAAJAIAAAP///wAAACH5BAEAAAAALAAAAAAQAAkAAAIKhI+py+0Po5yUFQA7\"/></div></div> </div>\n",
       "<div class=\"media__content\">\n",
       "<h3 class=\"media__title\">\n",
       "<a class=\"media__link\" href=\"/news/health-58322882\" rev=\"more-bbc|headline\">\n",
       "                                                                    Covid protection in double-jabbed waning in UK                                                            </a>\n",
       "</h3>\n",
       "<a class=\"media__tag tag tag--health\" href=\"/news/health\" rev=\"more-bbc|source\">Health</a>\n",
       "</div>\n",
       "<a aria-hidden=\"true\" class=\"block-link__overlay-link\" href=\"/news/health-58322882\" rev=\"more-bbc|overlay\" tabindex=\"-1\">\n",
       "                    Covid protection in double-jabbed waning in UK                </a>\n",
       "</div>\n",
       "</li>\n",
       "<li class=\"media-list__item media-list__item--6\">\n",
       "<div class=\"media media--padded block-link\" data-bbc-container=\"more-bbc\" data-bbc-metadata='{\"CHD\": \"card::6\" }' data-bbc-source=\"Science &amp; Environment\" data-bbc-title=\"Consumer 'confusion' threatens net zero homes plan\">\n",
       "<div class=\"media__image\">\n",
       "<div class=\"responsive-image\"><div class=\"delayed-image-load\" data-alt=\"Stock image of a workman fixing solar panels to a house\" data-src=\"https://ichef.bbc.co.uk/wwhp/{width}/cpsprodpb/14504/production/_120240238_solar_panels_getty.jpg\"><img alt=\"Stock image of a workman fixing solar panels to a house\" src=\"data:image/gif;base64,R0lGODlhEAAJAIAAAP///wAAACH5BAEAAAAALAAAAAAQAAkAAAIKhI+py+0Po5yUFQA7\"/></div></div> </div>\n",
       "<div class=\"media__content\">\n",
       "<h3 class=\"media__title\">\n",
       "<a class=\"media__link\" href=\"/news/science-environment-58320578\" rev=\"more-bbc|headline\">\n",
       "                                                                    Consumer 'confusion' threatens net zero homes plan                                                            </a>\n",
       "</h3>\n",
       "<a class=\"media__tag tag tag--science\" href=\"/news/science_and_environment\" rev=\"more-bbc|source\">Science &amp; Environment</a>\n",
       "</div>\n",
       "<a aria-hidden=\"true\" class=\"block-link__overlay-link\" href=\"/news/science-environment-58320578\" rev=\"more-bbc|overlay\" tabindex=\"-1\">\n",
       "                    Consumer 'confusion' threatens net zero homes plan                </a>\n",
       "</div>\n",
       "</li>\n",
       "<li class=\"media-list__item media-list__item--7\">\n",
       "<div class=\"media media--padded block-link\" data-bbc-container=\"more-bbc\" data-bbc-metadata='{\"CHD\": \"card::7\" }' data-bbc-source=\"Entertainment &amp; Arts\" data-bbc-title=\"Body positivity image makes photo prize shortlist\">\n",
       "<div class=\"media__image\">\n",
       "<div class=\"responsive-image\"><div class=\"delayed-image-load\" data-alt=\"Photographer Katya Ilina is nominated for the portrait David\" data-src=\"https://ichef.bbc.co.uk/wwhp/{width}/cpsprodpb/15B0D/production/_120254888_aa2021_taylor_wessing_ppp_01620e-ilina_david_print_350dpi_pr_kit_final.jpg\"><img alt=\"Photographer Katya Ilina is nominated for the portrait David\" src=\"data:image/gif;base64,R0lGODlhEAAJAIAAAP///wAAACH5BAEAAAAALAAAAAAQAAkAAAIKhI+py+0Po5yUFQA7\"/></div></div> </div>\n",
       "<div class=\"media__content\">\n",
       "<h3 class=\"media__title\">\n",
       "<a class=\"media__link\" href=\"/news/entertainment-arts-58341080\" rev=\"more-bbc|headline\">\n",
       "                                                                    Body positivity image makes photo prize shortlist                                                            </a>\n",
       "</h3>\n",
       "<a class=\"media__tag tag tag--entertainment\" href=\"/news/entertainment_and_arts\" rev=\"more-bbc|source\">Entertainment &amp; Arts</a>\n",
       "</div>\n",
       "<a aria-hidden=\"true\" class=\"block-link__overlay-link\" href=\"/news/entertainment-arts-58341080\" rev=\"more-bbc|overlay\" tabindex=\"-1\">\n",
       "                    Body positivity image makes photo prize shortlist                </a>\n",
       "</div>\n",
       "</li>\n",
       "</ul> </div> <div class=\"correspondent-headlines\"> <div class=\"top-list\"> <h2 class=\"top-list__heading\"><span class=\"top-list__heading__intro\">From Our </span>Correspondents</h2> <ul class=\"top-list__list\"> <li class=\"top-list-item top-list-item__1 top-list-item--avatar top-list-item--odd\"> <a class=\"top-list-item__link\" data-bbc-container=\"correspondent-headlines\" data-bbc-metadata='{\"CHD\": \"card::1\" }' data-bbc-source=\"Simon Jack\" data-bbc-title=\"UK companies 'perform better' with overseas owners\" href=\"https://www.bbc.com/news/business-58321735\" rev=\"correspondents|link\"> <div class=\"top-list-item__bullet\"> <div class=\"responsive-image\"><div class=\"delayed-image-load\" data-alt=\"\" data-src=\"https://ichef.bbc.co.uk/wwhp/{width}/ibroadcast/images/live/p0/50/zt/p050ztrx.jpg\"><img alt=\"\" src=\"data:image/gif;base64,R0lGODlhEAAJAIAAAP///wAAACH5BAEAAAAALAAAAAAQAAkAAAIKhI+py+0Po5yUFQA7\"/></div></div> </div> <h3 class=\"top-list-item__headline\"> UK companies 'perform better' with overseas owners  <span class=\"top-list-item__byline\">By Simon Jack</span> </h3> </a> </li> <li class=\"top-list-item top-list-item__2 top-list-item--avatar top-list-item--even\"> <a class=\"top-list-item__link\" data-bbc-container=\"correspondent-headlines\" data-bbc-metadata='{\"CHD\": \"card::2\" }' data-bbc-source=\"Dominic Casciani\" data-bbc-title=\"What happens to migrants who reach the UK?\" href=\"https://www.bbc.com/news/explainers-53734793\" rev=\"correspondents|link\"> <div class=\"top-list-item__bullet\"> <div class=\"responsive-image\"><div class=\"delayed-image-load\" data-alt=\"\" data-src=\"https://ichef.bbc.co.uk/wwhp/{width}/ibroadcast/images/live/p0/3q/bb/p03qbbkl.jpg\"><img alt=\"\" src=\"data:image/gif;base64,R0lGODlhEAAJAIAAAP///wAAACH5BAEAAAAALAAAAAAQAAkAAAIKhI+py+0Po5yUFQA7\"/></div></div> </div> <h3 class=\"top-list-item__headline\"> What happens to migrants who reach the UK?  <span class=\"top-list-item__byline\">By Dominic Casciani</span> </h3> </a> </li> <li class=\"top-list-item top-list-item__3 top-list-item--avatar top-list-item--odd\"> <a class=\"top-list-item__link\" data-bbc-container=\"correspondent-headlines\" data-bbc-metadata='{\"CHD\": \"card::3\" }' data-bbc-source=\"Matt McGrath\" data-bbc-title=\"Talks resume on global plan to protect nature\" href=\"https://www.bbc.com/news/science-environment-58306288\" rev=\"correspondents|link\"> <div class=\"top-list-item__bullet\"> <div class=\"responsive-image\"><div class=\"delayed-image-load\" data-alt=\"\" data-src=\"https://ichef.bbc.co.uk/wwhp/{width}/ibroadcast/images/live/p0/3r/tz/p03rtz5h.jpg\"><img alt=\"\" src=\"data:image/gif;base64,R0lGODlhEAAJAIAAAP///wAAACH5BAEAAAAALAAAAAAQAAkAAAIKhI+py+0Po5yUFQA7\"/></div></div> </div> <h3 class=\"top-list-item__headline\"> Talks resume on global plan to protect nature  <span class=\"top-list-item__byline\">By Matt McGrath</span> </h3> </a> </li> <li class=\"top-list-item top-list-item__4 top-list-item--avatar top-list-item--even\"> <a class=\"top-list-item__link\" data-bbc-container=\"correspondent-headlines\" data-bbc-metadata='{\"CHD\": \"card::4\" }' data-bbc-source=\"Lyse Doucet\" data-bbc-title=\"With just a suitcase, Afghans leave their homeland\" href=\"https://www.bbc.com/news/world-asia-58300386\" rev=\"correspondents|link\"> <div class=\"top-list-item__bullet\"> <div class=\"responsive-image\"><div class=\"delayed-image-load\" data-alt=\"\" data-src=\"https://ichef.bbc.co.uk/wwhp/{width}/ibroadcast/images/live/p0/2x/05/p02x05nn.jpg\"><img alt=\"\" src=\"data:image/gif;base64,R0lGODlhEAAJAIAAAP///wAAACH5BAEAAAAALAAAAAAQAAkAAAIKhI+py+0Po5yUFQA7\"/></div></div> </div> <h3 class=\"top-list-item__headline\"> With just a suitcase, Afghans leave their homeland  <span class=\"top-list-item__byline\">By Lyse Doucet</span> </h3> </a> </li> <li class=\"top-list-item top-list-item__5 top-list-item--avatar top-list-item--odd\"> <a class=\"top-list-item__link\" data-bbc-container=\"correspondent-headlines\" data-bbc-metadata='{\"CHD\": \"card::5\" }' data-bbc-source=\"Johnathan Head\" data-bbc-title=\"Kamala Harris on charm offensive in South East Asia\" href=\"https://www.bbc.com/news/world-asia-58277226\" rev=\"correspondents|link\"> <div class=\"top-list-item__bullet\"> <div class=\"responsive-image\"><div class=\"delayed-image-load\" data-alt=\"\" data-src=\"https://ichef.bbc.co.uk/wwhp/{width}/ibroadcast/images/live/p0/86/2g/p0862gjj.jpg\"><img alt=\"\" src=\"data:image/gif;base64,R0lGODlhEAAJAIAAAP///wAAACH5BAEAAAAALAAAAAAQAAkAAAIKhI+py+0Po5yUFQA7\"/></div></div> </div> <h3 class=\"top-list-item__headline\"> Kamala Harris on charm offensive in South East Asia  <span class=\"top-list-item__byline\">By Johnathan Head</span> </h3> </a> </li> <li class=\"top-list-item top-list-item__6 top-list-item--avatar top-list-item--even\"> <a class=\"top-list-item__link\" data-bbc-container=\"correspondent-headlines\" data-bbc-metadata='{\"CHD\": \"card::6\" }' data-bbc-source=\"Jon Sopel\" data-bbc-title=\"Afghanistan lays bare a not so special relationship\" href=\"https://www.bbc.com/news/world-us-canada-58300984\" rev=\"correspondents|link\"> <div class=\"top-list-item__bullet\"> <div class=\"responsive-image\"><div class=\"delayed-image-load\" data-alt=\"\" data-src=\"https://ichef.bbc.co.uk/wwhp/{width}/ibroadcast/images/live/p0/2x/05/p02x05s9.jpg\"><img alt=\"\" src=\"data:image/gif;base64,R0lGODlhEAAJAIAAAP///wAAACH5BAEAAAAALAAAAAAQAAkAAAIKhI+py+0Po5yUFQA7\"/></div></div> </div> <h3 class=\"top-list-item__headline\"> Afghanistan lays bare a not so special relationship  <span class=\"top-list-item__byline\">By Jon Sopel</span> </h3> </a> </li> <li class=\"top-list-item top-list-item__7 top-list-item--avatar top-list-item--odd\"> <a class=\"top-list-item__link\" data-bbc-container=\"correspondent-headlines\" data-bbc-metadata='{\"CHD\": \"card::7\" }' data-bbc-source=\"Victoria Gill\" data-bbc-title=\"Baby bats babble like humans\" href=\"https://www.bbc.com/news/science-environment-58271913\" rev=\"correspondents|link\"> <div class=\"top-list-item__bullet\"> <div class=\"responsive-image\"><div class=\"delayed-image-load\" data-alt=\"\" data-src=\"https://ichef.bbc.co.uk/wwhp/{width}/ibroadcast/images/live/p0/6h/27/p06h27z1.jpg\"><img alt=\"\" src=\"data:image/gif;base64,R0lGODlhEAAJAIAAAP///wAAACH5BAEAAAAALAAAAAAQAAkAAAIKhI+py+0Po5yUFQA7\"/></div></div> </div> <h3 class=\"top-list-item__headline\"> Baby bats babble like humans  <span class=\"top-list-item__byline\">By Victoria Gill</span> </h3> </a> </li> <li class=\"top-list-item top-list-item__8 top-list-item--avatar top-list-item--even\"> <a class=\"top-list-item__link\" data-bbc-container=\"correspondent-headlines\" data-bbc-metadata='{\"CHD\": \"card::8\" }' data-bbc-source=\"Jonathan Marcus\" data-bbc-title=\"The Afghan debacle's impact on US allies and rivals\" href=\"https://www.bbc.com/news/world-us-canada-58248864\" rev=\"correspondents|link\"> <div class=\"top-list-item__bullet\"> <div class=\"responsive-image\"><div class=\"delayed-image-load\" data-alt=\"\" data-src=\"https://ichef.bbc.co.uk/wwhp/{width}/ibroadcast/images/live/p0/3z/3j/p03z3jp4.jpg\"><img alt=\"\" src=\"data:image/gif;base64,R0lGODlhEAAJAIAAAP///wAAACH5BAEAAAAALAAAAAAQAAkAAAIKhI+py+0Po5yUFQA7\"/></div></div> </div> <h3 class=\"top-list-item__headline\"> The Afghan debacle's impact on US allies and rivals  <span class=\"top-list-item__byline\">By Jonathan Marcus</span> </h3> </a> </li> </ul> </div> </div> </div> </div> </section> <section class=\"module module--collapse-images module--special-features module--secondary-special-features\"> <div class=\"module__content\"> <ul class=\"features\"> <li class=\"feature feature--1\"> <div class=\"feature__wrapper\"> <h2 class=\"feature__title\"> <a class=\"feature__link\" href=\"https://www.bbc.com/news/business-11428889\" rev=\"secondary-special-features|header\"> Technology of Business </a> </h2> <div class=\"feature__content\">\n",
       "<div class=\"media media--overlay media--primary block-link\" data-bbc-container=\"secondary-special-features\" data-bbc-metadata='{\"CHD\": \"card::1\" }' data-bbc-source=\"Business\" data-bbc-title=\"How to keep your cool when the office heats up\">\n",
       "<div class=\"media__image\">\n",
       "<div class=\"responsive-image\"><div class=\"delayed-image-load\" data-alt=\"Businesswoman in office enjoying breeze from a fan - stock photo\" data-src=\"https://ichef.bbc.co.uk/wwhp/{width}/cpsprodpb/1525D/production/_119712668_gettyimages-748347989.jpg\"><img alt=\"Businesswoman in office enjoying breeze from a fan - stock photo\" src=\"data:image/gif;base64,R0lGODlhEAAJAIAAAP///wAAACH5BAEAAAAALAAAAAAQAAkAAAIKhI+py+0Po5yUFQA7\"/></div></div> </div>\n",
       "<div class=\"media__content\">\n",
       "<h3 class=\"media__title\">\n",
       "<a class=\"media__link\" href=\"https://www.bbc.com/news/business-58055140\" rev=\"secondary-special-features|headline\">\n",
       "                                                                    How to keep your cool when the office heats up                                                            </a>\n",
       "</h3>\n",
       "<a class=\"media__tag tag tag--business\" href=\"/news/business\" rev=\"secondary-special-features|source\">Business</a>\n",
       "</div>\n",
       "<a aria-hidden=\"true\" class=\"block-link__overlay-link\" href=\"https://www.bbc.com/news/business-58055140\" rev=\"secondary-special-features|overlay\" tabindex=\"-1\">\n",
       "                    How to keep your cool when the office heats up                </a>\n",
       "</div>\n",
       "</div> </div> </li> <li class=\"feature-ad\"> <div class=\"advert advert--mpu_bottom\"><!-- BBCDOTCOM slot mpu_bottom --><div aria-hidden=\"true\" class=\"bbccom_slot\" id=\"bbccom_mpu_bottom_1_2_3_4\"><div class=\"bbccom_advert\"><script type=\"text/javascript\">/*<![CDATA[*/(function() {if (window.bbcdotcom && bbcdotcom.slotAsync) {bbcdotcom.slotAsync(\"mpu_bottom\", [1,2,3,4]);}})();/*]]>*/</script></div></div></div> </li> <li class=\"feature feature--2\"> <div class=\"feature__wrapper\"> <h2 class=\"feature__title\"> <a class=\"feature__link\" href=\"https://www.bbc.com/news/business-15521824\" rev=\"secondary-special-features|header\"> New Tech Economy </a> </h2> <div class=\"feature__content\">\n",
       "<div class=\"media media--overlay media--primary block-link\" data-bbc-container=\"secondary-special-features\" data-bbc-metadata='{\"CHD\": \"card::2\" }' data-bbc-source=\"Business\" data-bbc-title=\"Why phone scams are so difficult to tackle\">\n",
       "<div class=\"media__image\">\n",
       "<div class=\"responsive-image\"><div class=\"delayed-image-load\" data-alt=\"A woman looking anxiously at her phone\" data-src=\"https://ichef.bbc.co.uk/wwhp/{width}/cpsprodpb/1574A/production/_120028878_gettyimages-1208856090.jpg\"><img alt=\"A woman looking anxiously at her phone\" src=\"data:image/gif;base64,R0lGODlhEAAJAIAAAP///wAAACH5BAEAAAAALAAAAAAQAAkAAAIKhI+py+0Po5yUFQA7\"/></div></div> </div>\n",
       "<div class=\"media__content\">\n",
       "<h3 class=\"media__title\">\n",
       "<a class=\"media__link\" href=\"https://www.bbc.com/news/business-58254354\" rev=\"secondary-special-features|headline\">\n",
       "                                                                    Why phone scams are so difficult to tackle                                                            </a>\n",
       "</h3>\n",
       "<a class=\"media__tag tag tag--business\" href=\"/news/business\" rev=\"secondary-special-features|source\">Business</a>\n",
       "</div>\n",
       "<a aria-hidden=\"true\" class=\"block-link__overlay-link\" href=\"https://www.bbc.com/news/business-58254354\" rev=\"secondary-special-features|overlay\" tabindex=\"-1\">\n",
       "                    Why phone scams are so difficult to tackle                </a>\n",
       "</div>\n",
       "</div> </div> </li> </ul> </div> </section> <section class=\"module module--world-in-pictures module--highlight\"> <div class=\"module__title__container\"> <div class=\"module__ad\"> </div> <h2 class=\"module__title\">\n",
       "<a class=\"module__title__link tag tag--feature\" href=\"/news/in_pictures\" rev=\"world-in-pictures|header\">World in pictures</a>\n",
       "</h2>\n",
       "</div> <div class=\"module__content\"> <ul class=\"media-list media-list--fixed-height\">\n",
       "<li class=\"media-list__item media-list__item--1\">\n",
       "<div class=\"media media--padded media--primary media--icon block-link\" data-bbc-container=\"world-in-pictures\" data-bbc-metadata='{\"CHD\": \"card::1\" }' data-bbc-source=\"In Pictures\" data-bbc-title=\"The English Riviera during the 2021 UK staycation\">\n",
       "<div class=\"media__image\">\n",
       "<div class=\"responsive-image\"><div class=\"delayed-image-load\" data-alt=\"A couple eating lunch on Paignton Sands\" data-src=\"https://ichef.bbc.co.uk/wwhp/{width}/cpsprodpb/5FB7/production/_120230542_theenglishriviera_00412.jpg\"><img alt=\"A couple eating lunch on Paignton Sands\" src=\"https://ichef.bbc.co.uk/wwhp/144/cpsprodpb/5FB7/production/_120230542_theenglishriviera_00412.jpg\"/></div></div> </div>\n",
       "<span aria-hidden=\"true\" class=\"media__icon icon icon--gallery\"></span>\n",
       "<div class=\"media__content\">\n",
       "<h3 class=\"media__title\">\n",
       "<a class=\"media__link\" href=\"/news/in-pictures-58319665\" rev=\"world-in-pictures1|headline\">\n",
       "                                                                    The English Riviera during the 2021 UK staycation                                                            </a>\n",
       "</h3>\n",
       "<a class=\"media__tag tag tag--in-pictures\" href=\"/news/in_pictures\" rev=\"world-in-pictures1|source\">In Pictures</a>\n",
       "</div>\n",
       "<a aria-hidden=\"true\" class=\"block-link__overlay-link\" href=\"/news/in-pictures-58319665\" rev=\"world-in-pictures1|overlay\" tabindex=\"-1\">\n",
       "                    The English Riviera during the 2021 UK staycation                </a>\n",
       "</div>\n",
       "</li>\n",
       "<li class=\"media-list__item media-list__item--2\">\n",
       "<div class=\"media media--padded media--icon block-link\" data-bbc-container=\"world-in-pictures\" data-bbc-metadata='{\"CHD\": \"card::2\" }' data-bbc-source=\"Entertainment &amp; Arts\" data-bbc-title=\"In pictures: Rolling Stones drummer Charlie Watts\">\n",
       "<div class=\"media__image\">\n",
       "<div class=\"responsive-image\"><div class=\"delayed-image-load\" data-alt=\"The Rolling Stones at Glastonbury\" data-src=\"https://ichef.bbc.co.uk/wwhp/{width}/cpsprodpb/CBC3/production/_120236125_gettyimages-172602641-1.jpg\"><img alt=\"The Rolling Stones at Glastonbury\" src=\"https://ichef.bbc.co.uk/wwhp/144/cpsprodpb/CBC3/production/_120236125_gettyimages-172602641-1.jpg\"/></div></div> </div>\n",
       "<span aria-hidden=\"true\" class=\"media__icon icon icon--gallery\"></span>\n",
       "<div class=\"media__content\">\n",
       "<h3 class=\"media__title\">\n",
       "<a class=\"media__link\" href=\"/news/entertainment-arts-58323305\" rev=\"world-in-pictures2|headline\">\n",
       "                                                                    In pictures: Rolling Stones drummer Charlie Watts                                                            </a>\n",
       "</h3>\n",
       "<a class=\"media__tag tag tag--in-pictures\" href=\"/news/entertainment_and_arts\" rev=\"world-in-pictures2|source\">Entertainment &amp; Arts</a>\n",
       "</div>\n",
       "<a aria-hidden=\"true\" class=\"block-link__overlay-link\" href=\"/news/entertainment-arts-58323305\" rev=\"world-in-pictures2|overlay\" tabindex=\"-1\">\n",
       "                    In pictures: Rolling Stones drummer Charlie Watts                </a>\n",
       "</div>\n",
       "</li>\n",
       "<li class=\"media-list__item media-list__item--3\">\n",
       "<div class=\"media media--padded media--icon block-link\" data-bbc-container=\"world-in-pictures\" data-bbc-metadata='{\"CHD\": \"card::3\" }' data-bbc-source=\"Tyne &amp; Wear\" data-bbc-title=\"Final photos for crime author's prize revealed\">\n",
       "<div class=\"media__image\">\n",
       "<div class=\"responsive-image\"><div class=\"delayed-image-load\" data-alt=\"Black and white image of bearded man with fur lined hood up\" data-src=\"https://ichef.bbc.co.uk/wwhp/{width}/cpsprodpb/A9CD/production/_120196434_davidcoserdisciple.jpg\"><img alt=\"Black and white image of bearded man with fur lined hood up\" src=\"https://ichef.bbc.co.uk/wwhp/144/cpsprodpb/A9CD/production/_120196434_davidcoserdisciple.jpg\"/></div></div> </div>\n",
       "<span aria-hidden=\"true\" class=\"media__icon icon icon--gallery\"></span>\n",
       "<div class=\"media__content\">\n",
       "<h3 class=\"media__title\">\n",
       "<a class=\"media__link\" href=\"/news/uk-england-tyne-58291532\" rev=\"world-in-pictures3|headline\">\n",
       "                                                                    Final photos for crime author's prize revealed                                                            </a>\n",
       "</h3>\n",
       "<a class=\"media__tag tag tag--in-pictures\" href=\"/news/england/tyne_and_wear\" rev=\"world-in-pictures3|source\">Tyne &amp; Wear</a>\n",
       "</div>\n",
       "<a aria-hidden=\"true\" class=\"block-link__overlay-link\" href=\"/news/uk-england-tyne-58291532\" rev=\"world-in-pictures3|overlay\" tabindex=\"-1\">\n",
       "                    Final photos for crime author's prize revealed                </a>\n",
       "</div>\n",
       "</li>\n",
       "<li class=\"media-list__item media-list__item--4\">\n",
       "<div class=\"media media--padded media--icon block-link\" data-bbc-container=\"world-in-pictures\" data-bbc-metadata='{\"CHD\": \"card::4\" }' data-bbc-source=\"Leeds &amp; West Yorkshire\" data-bbc-title=\"Search on to find people and places in old photos\">\n",
       "<div class=\"media__image\">\n",
       "<div class=\"responsive-image\"><div class=\"delayed-image-load\" data-alt=\"Hepworths staff with Football League Trophy 1974\" data-src=\"https://ichef.bbc.co.uk/wwhp/{width}/cpsprodpb/16C91/production/_120092339_hepworthsltdstaffwiththe1974footballleaguetrophy.jpg\"><img alt=\"Hepworths staff with Football League Trophy 1974\" src=\"https://ichef.bbc.co.uk/wwhp/144/cpsprodpb/16C91/production/_120092339_hepworthsltdstaffwiththe1974footballleaguetrophy.jpg\"/></div></div> </div>\n",
       "<span aria-hidden=\"true\" class=\"media__icon icon icon--gallery\"></span>\n",
       "<div class=\"media__content\">\n",
       "<h3 class=\"media__title\">\n",
       "<a class=\"media__link\" href=\"/news/uk-england-leeds-58280481\" rev=\"world-in-pictures4|headline\">\n",
       "                                                                    Search on to find people and places in old photos                                                            </a>\n",
       "</h3>\n",
       "<a class=\"media__tag tag tag--in-pictures\" href=\"/news/england/leeds_and_west_yorkshire\" rev=\"world-in-pictures4|source\">Leeds &amp; West Yorkshire</a>\n",
       "</div>\n",
       "<a aria-hidden=\"true\" class=\"block-link__overlay-link\" href=\"/news/uk-england-leeds-58280481\" rev=\"world-in-pictures4|overlay\" tabindex=\"-1\">\n",
       "                    Search on to find people and places in old photos                </a>\n",
       "</div>\n",
       "</li>\n",
       "<li class=\"media-list__item media-list__item--5\">\n",
       "<div class=\"media media--padded media--icon block-link\" data-bbc-container=\"world-in-pictures\" data-bbc-metadata='{\"CHD\": \"card::5\" }' data-bbc-source=\"Africa\" data-bbc-title=\"Africa's top shots: Ninjas, wildfires and drums\">\n",
       "<div class=\"media__image\">\n",
       "<div class=\"responsive-image\"><div class=\"delayed-image-load\" data-alt=\"Abdel Qader Ahmed, a self-taught ninja enthusiast known as Abouda Ninja, holds a sword he made himself, at a field in the Sharqia Governorate, north of Cairo, Egypt August 13, 2021.\" data-src=\"https://ichef.bbc.co.uk/wwhp/{width}/cpsprodpb/14304/production/_120029628_hi069448619-1.jpg\"><img alt=\"Abdel Qader Ahmed, a self-taught ninja enthusiast known as Abouda Ninja, holds a sword he made himself, at a field in the Sharqia Governorate, north of Cairo, Egypt August 13, 2021.\" src=\"https://ichef.bbc.co.uk/wwhp/144/cpsprodpb/14304/production/_120029628_hi069448619-1.jpg\"/></div></div> </div>\n",
       "<span aria-hidden=\"true\" class=\"media__icon icon icon--gallery\"></span>\n",
       "<div class=\"media__content\">\n",
       "<h3 class=\"media__title\">\n",
       "<a class=\"media__link\" href=\"/news/world-africa-58267380\" rev=\"world-in-pictures5|headline\">\n",
       "                                                                    Africa's top shots: Ninjas, wildfires and drums                                                            </a>\n",
       "</h3>\n",
       "<a class=\"media__tag tag tag--in-pictures\" href=\"/news/world/africa\" rev=\"world-in-pictures5|source\">Africa</a>\n",
       "</div>\n",
       "<a aria-hidden=\"true\" class=\"block-link__overlay-link\" href=\"/news/world-africa-58267380\" rev=\"world-in-pictures5|overlay\" tabindex=\"-1\">\n",
       "                    Africa's top shots: Ninjas, wildfires and drums                </a>\n",
       "</div>\n",
       "</li>\n",
       "</ul> </div> </section> <section class=\"module module--highlight module--languages\"> <h2 class=\"module__title\">\n",
       "<a class=\"module__title__link\" href=\"/worldserviceradio\" rev=\"languages|header\">BBC in other languages</a>\n",
       "</h2>\n",
       "<div class=\"module__content\"> <div class=\"ws\"> <div class=\"ws-headlines\"> <ul class=\"ws-headlines__list\"> <li class=\"ws-headline ws-headline--urdu\"> <h3 class=\"ws-headline__language\"> <a class=\"ws-headline__language-link\" href=\"/urdu/\" rev=\"languages|link\" title=\"Urdu\"> Urdu </a> </h3> <p class=\"ws-headline__title\" dir=\"rtl\"> <a class=\"ws-headline__title-link\" href=\"/urdu/live/regional-58301643\" rev=\"languages|headline\" title=\"خطرے کے باوجود کابل ایئرپورٹ پر ہجوم، براستہ چمن پاکستان میں افغان شہریوں کی آمد میں تیزی\"> خطرے کے باوجود کابل ایئرپورٹ پر ہجوم، براستہ چمن پاکستان میں افغان شہریوں کی آمد میں تیزی </a> </p> </li> <li class=\"ws-headline ws-headline--vietnamese\"> <h3 class=\"ws-headline__language\"> <a class=\"ws-headline__language-link\" href=\"/vietnamese/\" rev=\"languages|link\" title=\"Vietnamese\"> Vietnamese </a> </h3> <p class=\"ws-headline__title\" dir=\"ltr\"> <a class=\"ws-headline__title-link\" href=\"/vietnamese/forum-58341442\" rev=\"languages|headline\" title=\"Việt Nam qua ba chuyến thăm của các phó tổng thống Mỹ\"> Việt Nam qua ba chuyến thăm của các phó tổng thống Mỹ </a> </p> </li> <li class=\"ws-headline ws-headline--indonesian\"> <h3 class=\"ws-headline__language\"> <a class=\"ws-headline__language-link\" href=\"/indonesia/\" rev=\"languages|link\" title=\"Indonesian\"> Indonesian </a> </h3> <p class=\"ws-headline__title\" dir=\"ltr\"> <a class=\"ws-headline__title-link\" href=\"/indonesia/dunia-58322074\" rev=\"languages|headline\" title=\"Afghanistan, 'Kuburan Para Penguasa', berhasil lepas dari invasi kekuatan terbesar dunia selama 180 tahun\"> Afghanistan, 'Kuburan Para Penguasa', berhasil lepas dari invasi kekuatan terbesar dunia selama 180 tahun </a> </p> </li> <li class=\"ws-headline ws-headline--japanese\"> <h3 class=\"ws-headline__language\"> <a class=\"ws-headline__language-link\" href=\"/japanese/\" rev=\"languages|link\" title=\"Japanese\"> Japanese </a> </h3> <p class=\"ws-headline__title\" dir=\"ltr\"> <a class=\"ws-headline__title-link\" href=\"/japanese/58338394\" rev=\"languages|headline\" title=\"日本でモデルナワクチン163万回分の接種を見合わせ　異物混入の報告\"> 日本でモデルナワクチン163万回分の接種を見合わせ　異物混入の報告 </a> </p> </li> </ul> </div> <div class=\"ws-languages\"> <h2 class=\"ws-languages__title\"> <a class=\"ws-languages__link\" href=\"/ws/languages\" rev=\"languages|header\"> More Languages </a> </h2> <ul class=\"ws-languages__list\"> <li class=\"ws-language ws-language--ar\"> <a class=\"ws-language__link\" href=\"/arabic/\" rev=\"languages|link\" title=\"Arabic service\"> <span class=\"ws-language__english\">Arabic</span> <span class=\"ws-language__native\"> عربي </span> </a> </li> <li class=\"ws-language ws-language--as\"> <a class=\"ws-language__link\" href=\"/azeri/\" rev=\"languages|link\" title=\"Azeri service\"> <span class=\"ws-language__english\">Azeri</span> <span class=\"ws-language__native\"> AZƏRBAYCAN </span> </a> </li> <li class=\"ws-language ws-language--bn\"> <a class=\"ws-language__link\" href=\"/bengali/\" rev=\"languages|link\" title=\"Bangla service\"> <span class=\"ws-language__english\">Bangla</span> <span class=\"ws-language__native\"> বাংলা </span> </a> </li> <li class=\"ws-language ws-language--my\"> <a class=\"ws-language__link\" href=\"/burmese/\" rev=\"languages|link\" title=\"Burmese service\"> <span class=\"ws-language__english\">Burmese</span> <span class=\"ws-language__native\"> မြန်မာ </span> </a> </li> <li class=\"ws-language ws-language--zh\"> <a class=\"ws-language__link\" href=\"/zhongwen/simp/\" rev=\"languages|link\" title=\"Chinese service\"> <span class=\"ws-language__english\">Chinese</span> <span class=\"ws-language__native\"> 中文网 </span> </a> </li> <li class=\"ws-language ws-language--fr\"> <a class=\"ws-language__link\" href=\"/afrique/\" rev=\"languages|link\" title=\"French (for Africa) service\"> <span class=\"ws-language__english\">French</span> <span class=\"ws-language__native\"> AFRIQUE </span> </a> </li> <li class=\"ws-language ws-language--ha\"> <a class=\"ws-language__link\" href=\"/hausa/\" rev=\"languages|link\" title=\"Hausa service\"> <span class=\"ws-language__english\">Hausa</span> <span class=\"ws-language__native\"> HAUSA </span> </a> </li> <li class=\"ws-language ws-language--hi\"> <a class=\"ws-language__link\" href=\"/hindi/\" rev=\"languages|link\" title=\"Hindi service\"> <span class=\"ws-language__english\">Hindi</span> <span class=\"ws-language__native\"> हिन्दी </span> </a> </li> <li class=\"ws-language ws-language--id\"> <a class=\"ws-language__link\" href=\"/indonesia/\" rev=\"languages|link\" title=\"Indonesian service\"> <span class=\"ws-language__english\">Indonesian</span> <span class=\"ws-language__native\"> INDONESIA </span> </a> </li> <li class=\"ws-language ws-language--jp\"> <a class=\"ws-language__link\" href=\"/japanese/\" rev=\"languages|link\" title=\"Japanese service\"> <span class=\"ws-language__english\">Japanese</span> <span class=\"ws-language__native\"> 日本語 </span> </a> </li> <li class=\"ws-language ws-language--rw\"> <a class=\"ws-language__link\" href=\"/gahuza/\" rev=\"languages|link\" title=\"Kirundi service\"> <span class=\"ws-language__english\">Kinyarwanda</span> <span class=\"ws-language__native\"> GAHUZA </span> </a> </li> <li class=\"ws-language ws-language--rn\"> <a class=\"ws-language__link\" href=\"/gahuza/\" rev=\"languages|link\" title=\"Kirundi service\"> <span class=\"ws-language__english\">Kirundi</span> <span class=\"ws-language__native\"> KIRUNDI </span> </a> </li> <li class=\"ws-language ws-language--ky\"> <a class=\"ws-language__link\" href=\"/kyrgyz/\" rev=\"languages|link\" title=\"Kyrgyz service\"> <span class=\"ws-language__english\">Kyrgyz</span> <span class=\"ws-language__native\"> Кыргыз </span> </a> </li> <li class=\"ws-language ws-language--mr\"> <a class=\"ws-language__link\" href=\"/marathi/\" rev=\"languages|link\" title=\"Marathi service\"> <span class=\"ws-language__english\">Marathi</span> <span class=\"ws-language__native\"> मराठी </span> </a> </li> <li class=\"ws-language ws-language--ne\"> <a class=\"ws-language__link\" href=\"/nepali/\" rev=\"languages|link\" title=\"Nepali service\"> <span class=\"ws-language__english\">Nepali</span> <span class=\"ws-language__native\"> नेपाली </span> </a> </li> <li class=\"ws-language ws-language--ps\"> <a class=\"ws-language__link\" href=\"/pashto/\" rev=\"languages|link\" title=\"Pashto service\"> <span class=\"ws-language__english\">Pashto</span> <span class=\"ws-language__native\"> پښتو </span> </a> </li> <li class=\"ws-language ws-language--fa\"> <a class=\"ws-language__link\" href=\"/persian/\" rev=\"languages|link\" title=\"Persian service\"> <span class=\"ws-language__english\">Persian</span> <span class=\"ws-language__native\"> فارسی </span> </a> </li> <li class=\"ws-language ws-language--pt-BR\"> <a class=\"ws-language__link\" href=\"/portuguese/\" rev=\"languages|link\" title=\"Portuguese (for Brazil) service\"> <span class=\"ws-language__english\">Portuguese</span> <span class=\"ws-language__native\"> BRASIL </span> </a> </li> <li class=\"ws-language ws-language--ru\"> <a class=\"ws-language__link\" href=\"/russian/\" rev=\"languages|link\" title=\"Russian service\"> <span class=\"ws-language__english\">Russian</span> <span class=\"ws-language__native\"> НА РУССКОМ </span> </a> </li> <li class=\"ws-language ws-language--si\"> <a class=\"ws-language__link\" href=\"/sinhala/\" rev=\"languages|link\" title=\"Sinhala service\"> <span class=\"ws-language__english\">Sinhala</span> <span class=\"ws-language__native\"> සිංහල </span> </a> </li> <li class=\"ws-language ws-language--so\"> <a class=\"ws-language__link\" href=\"/somali/\" rev=\"languages|link\" title=\"Somali service\"> <span class=\"ws-language__english\">Somali</span> <span class=\"ws-language__native\"> SOMALI </span> </a> </li> <li class=\"ws-language ws-language--es\"> <a class=\"ws-language__link\" href=\"/mundo/\" rev=\"languages|link\" title=\"Spanish service\"> <span class=\"ws-language__english\">Spanish</span> <span class=\"ws-language__native\"> MUNDO </span> </a> </li> <li class=\"ws-language ws-language--sw\"> <a class=\"ws-language__link\" href=\"/swahili/\" rev=\"languages|link\" title=\"Swahili service\"> <span class=\"ws-language__english\">Swahili</span> <span class=\"ws-language__native\"> SWAHILI </span> </a> </li> <li class=\"ws-language ws-language--ta\"> <a class=\"ws-language__link\" href=\"/tamil/\" rev=\"languages|link\" title=\"Tamil service\"> <span class=\"ws-language__english\">Tamil</span> <span class=\"ws-language__native\"> தமிழ் </span> </a> </li> <li class=\"ws-language ws-language--tr\"> <a class=\"ws-language__link\" href=\"/turkce/\" rev=\"languages|link\" title=\"Turkish service\"> <span class=\"ws-language__english\">Turkish</span> <span class=\"ws-language__native\"> TÜRKÇE </span> </a> </li> <li class=\"ws-language ws-language--uk\"> <a class=\"ws-language__link\" href=\"/ukrainian/\" rev=\"languages|link\" title=\"Ukrainian service\"> <span class=\"ws-language__english\">Ukrainian</span> <span class=\"ws-language__native\"> УКРАЇНСЬКA </span> </a> </li> <li class=\"ws-language ws-language--ur\"> <a class=\"ws-language__link\" href=\"/urdu/\" rev=\"languages|link\" title=\"Urdu service\"> <span class=\"ws-language__english\">Urdu</span> <span class=\"ws-language__native\"> اردو </span> </a> </li> <li class=\"ws-language ws-language--uz\"> <a class=\"ws-language__link\" href=\"/uzbek/\" rev=\"languages|link\" title=\"Uzbek service\"> <span class=\"ws-language__english\">Uzbek</span> <span class=\"ws-language__native\"> O'ZBEK </span> </a> </li> <li class=\"ws-language ws-language--vi\"> <a class=\"ws-language__link\" href=\"/vietnamese/\" rev=\"languages|link\" title=\"Vietnamese service\"> <span class=\"ws-language__english\">Vietnamese</span> <span class=\"ws-language__native\"> TIẾNG VIỆT </span> </a> </li> </ul> </div> </div> </div> </section> </div>\n",
       "<!-- BBCCOM-9606: add bbc select to nav in US/CA -->\n",
       "<script type=\"text/javascript\">\n",
       "                (function(){\n",
       "                    function updateNavBar(){\n",
       "                        var navEl = document.createElement(\"li\"),\n",
       "                            aEl = document.createElement(\"a\"),\n",
       "                            orbNav = document.querySelectorAll(\".orb-panel-content ul\")[0],\n",
       "                            orbNavWeather = document.querySelectorAll(\".orb-panel-content .orb-nav-weather\")[0];\n",
       "                        navEl.setAttribute(\"class\", \"orb-nav-bbcselect orb-nav-hide\");\n",
       "                        aEl.setAttribute(\"href\", \"https://www.bbcselect.com\");\n",
       "                        aEl.innerHTML = \"BBC Select\";\n",
       "                        navEl.appendChild(aEl);\n",
       "                        try {\n",
       "                            if(typeof orbNav !== \"undefined\" && typeof orbNavWeather !== \"undefined\") {\n",
       "                                orbNav.insertBefore(navEl, orbNavWeather);\n",
       "                                if (window.bbcuser && window.bbcuser.getCountry && typeof (window.bbcuser.getCountry) === 'function') {\n",
       "                                    window.bbcuser.getCountry().then(function (countryCode) {\n",
       "                                        var isValid = countryCode && ['US', 'CA'].indexOf(countryCode.toUpperCase()) !== -1;\n",
       "                                        /*if no countryCode return, we default to the edition css to show-hide */\n",
       "                                        if (countryCode && !isValid) {\n",
       "                                            document.getElementsByClassName('orb-nav-bbcselect')[0].remove();\n",
       "                                        }\n",
       "                                        if (countryCode && countryCode.toUpperCase() === 'CA') {\n",
       "                                            aEl.setAttribute(\"href\", \"https://www.bbcselect.com/ca/\")\n",
       "                                        }\n",
       "                                    });\n",
       "                                }\n",
       "                                clearInterval(window.isNavBarReadyInterval);\n",
       "                            }\n",
       "                        } catch(e) {}\n",
       "                    }\n",
       "\n",
       "                    window.isNavBarReadyInterval = setInterval(updateNavBar, 500);\n",
       "                    setTimeout(function (){\n",
       "                        clearInterval(window.isNavBarReadyInterval);\n",
       "                    }, 5000);\n",
       "                })();\n",
       "            </script>\n",
       "<script type=\"text/javascript\">\n",
       "                (function(){\n",
       "                    function loadChartbeat() {\n",
       "                        window._sf_endpt=(new Date()).getTime();\n",
       "                        var e = document.createElement(\"script\");\n",
       "                        e.setAttribute(\"language\", \"javascript\");\n",
       "                        e.setAttribute(\"type\", \"text/javascript\");\n",
       "                        e.setAttribute('src', '//static.chartbeat.com/js/chartbeat.js');\n",
       "                        document.body.appendChild(e);\n",
       "                    }\n",
       "                    var oldonload = window.onload;\n",
       "                    window.onload = (typeof window.onload != \"function\") ? loadChartbeat : function() { oldonload(); loadChartbeat(); };\n",
       "                }());\n",
       "            </script>\n",
       "</div>\n",
       "<script data-assetpath=\"https://static.files.bbci.co.uk/orbit/ebd948b6090504d3f9a74b26eaba3e9e//\" id=\"orb-js-script\" src=\"https://static.files.bbci.co.uk/orbit/ebd948b6090504d3f9a74b26eaba3e9e//js/orb.min.js\"></script><div class=\"orb-footer\" dir=\"ltr\" id=\"orb-footer\"> <div id=\"navp-orb-footer-promo\"></div><script type=\"text/javascript\">/*<![CDATA[*/\n",
       "       require(['orb/nav'], function(nav) {\n",
       "         window.bbcuser.isUKCombined().then(function(isUK) {\n",
       "           if (isUK) {\n",
       "             nav.loadJs('https://static.files.bbci.co.uk/orbit/ebd948b6090504d3f9a74b26eaba3e9e//js/edr.min.js');\n",
       "           }\n",
       "         });\n",
       "       });\n",
       "       /*]]>*/</script> <aside role=\"complementary\"><div class=\"orb-nav-sec b-r b-g-p\" id=\"orb-aside\"><div aria-label=\"BBC\" class=\"orb-footer-inner\" role=\"navigation\"><h2 class=\"orb-footer-lead\">Explore the BBC</h2><div class=\"orb-footer-primary-links\"><ul><li class=\"orb-nav-home\"><a href=\"https://www.bbc.co.uk\">Home</a></li><li class=\"orb-nav-news\"><a href=\"https://www.bbc.co.uk/news\">News</a></li><li class=\"orb-nav-sport\"><a href=\"https://www.bbc.co.uk/sport\">Sport</a></li><li class=\"orb-nav-weather\"><a href=\"https://www.bbc.co.uk/weather\">Weather</a></li><li class=\"orb-nav-iplayer\"><a href=\"https://www.bbc.co.uk/iplayer\">iPlayer</a></li><li class=\"orb-nav-sounds\"><a href=\"https://www.bbc.co.uk/sounds\">Sounds</a></li><li class=\"orb-nav-cbbc\"><a href=\"https://www.bbc.co.uk/cbbc\">CBBC</a></li><li class=\"orb-nav-cbeebies\"><a href=\"https://www.bbc.co.uk/cbeebies\">CBeebies</a></li><li class=\"orb-nav-food\"><a href=\"https://www.bbc.co.uk/food\">Food</a></li><li class=\"orb-nav-bitesize\"><a href=\"https://www.bbc.co.uk/bitesize\">Bitesize</a></li><li class=\"orb-nav-arts\"><a href=\"https://www.bbc.co.uk/arts\">Arts</a></li><li class=\"orb-nav-taster\"><a href=\"https://www.bbc.co.uk/taster\">Taster</a></li><li class=\"orb-nav-local\"><a href=\"https://www.bbc.co.uk/news/localnews\">Local</a></li><li class=\"orb-nav-three\"><a href=\"https://www.bbc.co.uk/bbcthree\">Three</a></li></ul></div></div></div></aside><footer role=\"contentinfo\"><div class=\"orb-nav-sec b-r b-g-p\" id=\"orb-contentinfo\"><script>window.orb.worldwideFooterlinks = '<li class=\"orb-footer-ads\"><a href=\"https://www.bbcglobalnews.com/\">Advertise with us<' + '/a><' + '/li><li class=\"orb-footer-adchoices\"><a href=\"https://www.bbc.com/usingthebbc/cookies/how-does-the-bbc-use-cookies-for-advertising/\">AdChoices / Do Not Sell My Info<' + '/a><' + '/li>';</script><div class=\"orb-footer-inner\"><div><ul><li class=\"orb-footer-terms\"><a href=\"https://www.bbc.co.uk/usingthebbc/terms/\">Terms of Use</a></li><li class=\"orb-footer-about\"><a href=\"https://www.bbc.co.uk/aboutthebbc\">About the BBC</a></li><li class=\"orb-footer-privacy\"><a href=\"https://www.bbc.co.uk/usingthebbc/privacy/\">Privacy Policy</a></li><li class=\"orb-footer-cookies\"><a href=\"https://www.bbc.co.uk/usingthebbc/cookies/\">Cookies</a></li><li class=\"orb-footer-accessibility\"><a href=\"https://www.bbc.co.uk/accessibility/\">Accessibility Help</a></li><li class=\"orb-footer-parental\"><a href=\"https://www.bbc.co.uk/guidance\">Parental Guidance</a></li><li class=\"orb-footer-contact\"><a href=\"https://www.bbc.co.uk/contact\">Contact the BBC</a></li><li class=\"orb-footer-newsletter\"><a href=\"https://www.bbc.co.uk/bbcnewsletter\">Get Personalised Newsletters</a></li></ul><small><em class=\"orb-hilight\">Copyright © 2021 BBC.</em> The BBC is not responsible for the content of external sites. <span class=\"orb-footer-links\"><a class=\"orb-hilight\" href=\"https://www.bbc.co.uk/editorialguidelines/guidance/feeds-and-links\">Read about our approach to external linking.</a></span></small></div></div></div></footer></div><script src=\"https://static.files.bbci.co.uk/orbit/ebd948b6090504d3f9a74b26eaba3e9e//js/font.bundle.js\"></script><script src=\"https://static.files.bbci.co.uk/orbit/ebd948b6090504d3f9a74b26eaba3e9e//js/redirect.bundle.js\" type=\"text/javascript\"></script> <script type=\"text/javascript\">require.config({\n",
       "            paths: {\n",
       "                \"mybbc/templates\": '//mybbc.files.bbci.co.uk/notification-ui/4.3.7/templates',\n",
       "                \"mybbc/notifications\": '//mybbc.files.bbci.co.uk/notification-ui/4.3.7/js'\n",
       "            }\n",
       "        });\n",
       "\n",
       "        require(['mybbc/notifications/NotificationsMain', 'idcta/idcta-1'], function (NotificationsMain, idcta) {\n",
       "\n",
       "            var loadNotifications = function (isUK) {\n",
       "                if (isUK) {\n",
       "                    window.bbcpage.loadCSS('//mybbc.files.bbci.co.uk/notification-ui/4.3.7/css/main.min.css').then(function() {\n",
       "                        NotificationsMain.run(idcta, '//mybbc.files.bbci.co.uk/notification-ui/4.3.7/');\n",
       "                    });\n",
       "                }\n",
       "            };\n",
       "            \n",
       "            window.bbcuser.isUKCombined().then(function(isUK) {\n",
       "                loadNotifications(isUK);\n",
       "            });\n",
       "        });</script> <script type=\"module\">if (window.bbcuser && window.bbcuser.isUKCombined) {\n",
       "        bbcuser.isUKCombined().then(function (isUK) {\n",
       "            if (isUK) {\n",
       "                const isOrbUx = !!document.querySelector('.orb-nav-pri-container');\n",
       "                if (isOrbUx) {\n",
       "                    const script = document.createElement('script');\n",
       "                    script.src = 'https://nav.files.bbci.co.uk/searchbox/ef054f5549cdb02f4468fd830264e4c7//js/old-search-suggest.js';\n",
       "                    script.async = true;\n",
       "                    script.setAttribute('data-static-prefix', 'https://nav.files.bbci.co.uk/searchbox/ef054f5549cdb02f4468fd830264e4c7/');\n",
       "                    script.setAttribute('data-variant', 'default');\n",
       "                    document.head.appendChild(script);\n",
       "                } else {\n",
       "                    import('https://nav.files.bbci.co.uk/searchbox/ef054f5549cdb02f4468fd830264e4c7//js/search-suggest.js').then(drawer => {\n",
       "                        drawer.default().run({\n",
       "                            searchboxAppStaticPrefix: 'https://nav.files.bbci.co.uk/searchbox/ef054f5549cdb02f4468fd830264e4c7/',\n",
       "                            variant: 'default',\n",
       "                        });\n",
       "                    });\n",
       "                }\n",
       "            }\n",
       "        });\n",
       "    }</script> <script async=\"\" data-base=\"https://navpromo.api.bbci.co.uk\" data-variant=\"\" src=\"https://nav.files.bbci.co.uk/navpromo/3c09a7995f4fbdcbb6ae65394d122b0c/js/footerpromo.js\" type=\"text/javascript\"></script> <script type=\"text/javascript\">window.COOKIES_STATIC_HOST=\"https://static.files.bbci.co.uk/cookies/5fd5880410e68d69e119dc73567d206e/cookie-banner/cookie-prompt/\"</script><script async=\"\" src=\"https://static.files.bbci.co.uk/cookies/5fd5880410e68d69e119dc73567d206e/cookie-banner/cookie-banners.bundle.js\"></script> <script async=\"\" src=\"https://nav.files.bbci.co.uk//user-activity-helper/7f7e3cfe8ed2cbcec7e57473d0ed5809/js/detectview.bundle.js\"></script><script type=\"text/javascript\">\"use strict\";window.__reverb.__reverbLoadedPromise.then(function(e){return e.initialise().then(function(){return e.viewEvent()})},function(){console.log(\"Failed to load reverb. No event sent\")});</script><noscript><img src=\"https://sb.scorecardresearch.com/p?c1=2&amp;c2=17986528&amp;cs_ucfr=0&amp;cv=2.0&amp;cj=1\"/></noscript><script async=\"\" data-release=\"3.0.0-1561.bbeb788c\" src=\"https://static.files.bbci.co.uk/orbit/ebd948b6090504d3f9a74b26eaba3e9e//js/performance.bundle.js\" type=\"text/javascript\"></script> </body>\n",
       "</html>"
      ]
     },
     "execution_count": 86,
     "metadata": {},
     "output_type": "execute_result"
    }
   ],
   "source": [
    "soup"
   ]
  },
  {
   "cell_type": "code",
   "execution_count": 87,
   "id": "236aaa39",
   "metadata": {},
   "outputs": [
    {
     "data": {
      "text/plain": [
       "'BBC - Homepage'"
      ]
     },
     "execution_count": 87,
     "metadata": {},
     "output_type": "execute_result"
    }
   ],
   "source": [
    "soup.select('title')[0].getText()"
   ]
  },
  {
   "cell_type": "code",
   "execution_count": null,
   "id": "586a42cf",
   "metadata": {},
   "outputs": [],
   "source": []
  },
  {
   "cell_type": "code",
   "execution_count": null,
   "id": "2ba5d745",
   "metadata": {},
   "outputs": [],
   "source": []
  },
  {
   "cell_type": "code",
   "execution_count": null,
   "id": "b7c15336",
   "metadata": {},
   "outputs": [],
   "source": []
  },
  {
   "cell_type": "code",
   "execution_count": null,
   "id": "1de4967b",
   "metadata": {},
   "outputs": [],
   "source": []
  },
  {
   "cell_type": "code",
   "execution_count": 93,
   "id": "c4d654a8",
   "metadata": {},
   "outputs": [],
   "source": [
    "def create_cube(n):\n",
    "    for x in range(n):\n",
    "        yield x**3\n",
    "    "
   ]
  },
  {
   "cell_type": "code",
   "execution_count": 96,
   "id": "86a60675",
   "metadata": {},
   "outputs": [
    {
     "name": "stdout",
     "output_type": "stream",
     "text": [
      "0\n",
      "1\n",
      "8\n",
      "27\n",
      "64\n",
      "125\n",
      "216\n",
      "343\n",
      "512\n",
      "729\n"
     ]
    }
   ],
   "source": [
    "for x in create_cube(10):\n",
    "    print(x)"
   ]
  },
  {
   "cell_type": "code",
   "execution_count": 97,
   "id": "d4223644",
   "metadata": {},
   "outputs": [
    {
     "data": {
      "text/plain": [
       "<generator object create_cube at 0x0000007067B9B900>"
      ]
     },
     "execution_count": 97,
     "metadata": {},
     "output_type": "execute_result"
    }
   ],
   "source": [
    "create_cube(10)"
   ]
  },
  {
   "cell_type": "code",
   "execution_count": 98,
   "id": "46bd1020",
   "metadata": {},
   "outputs": [
    {
     "data": {
      "text/plain": [
       "[0, 1, 8, 27, 64, 125, 216, 343, 512, 729]"
      ]
     },
     "execution_count": 98,
     "metadata": {},
     "output_type": "execute_result"
    }
   ],
   "source": [
    "list(create_cube(10))"
   ]
  },
  {
   "cell_type": "code",
   "execution_count": 99,
   "id": "e9b01bee",
   "metadata": {},
   "outputs": [],
   "source": [
    "def gen_fib(n):\n",
    "    a = 1 \n",
    "    b = 1 \n",
    "    for i in range(n):\n",
    "        yield a \n",
    "        a,b = b,a+b"
   ]
  },
  {
   "cell_type": "code",
   "execution_count": 100,
   "id": "badb37d9",
   "metadata": {},
   "outputs": [
    {
     "name": "stdout",
     "output_type": "stream",
     "text": [
      "1\n",
      "1\n",
      "2\n",
      "3\n",
      "5\n",
      "8\n",
      "13\n",
      "21\n",
      "34\n",
      "55\n"
     ]
    }
   ],
   "source": [
    "for number in gen_fib(10):\n",
    "    print(number)"
   ]
  },
  {
   "cell_type": "markdown",
   "id": "8dc944f8",
   "metadata": {},
   "source": [
    "to understand the generate we need to understand the next function "
   ]
  },
  {
   "cell_type": "code",
   "execution_count": null,
   "id": "4da51275",
   "metadata": {},
   "outputs": [],
   "source": []
  },
  {
   "cell_type": "code",
   "execution_count": null,
   "id": "df2fccea",
   "metadata": {},
   "outputs": [],
   "source": []
  },
  {
   "cell_type": "code",
   "execution_count": null,
   "id": "7a6932e1",
   "metadata": {},
   "outputs": [],
   "source": []
  },
  {
   "cell_type": "code",
   "execution_count": 109,
   "id": "7180d0e4",
   "metadata": {},
   "outputs": [],
   "source": [
    "def simple_gen():\n",
    "    for x in range(4):\n",
    "        yield x "
   ]
  },
  {
   "cell_type": "code",
   "execution_count": 110,
   "id": "fed02164",
   "metadata": {},
   "outputs": [
    {
     "name": "stdout",
     "output_type": "stream",
     "text": [
      "0\n",
      "1\n",
      "2\n",
      "3\n"
     ]
    }
   ],
   "source": [
    "for number in simple_gen():\n",
    "    print(number)"
   ]
  },
  {
   "cell_type": "code",
   "execution_count": 111,
   "id": "734c7b13",
   "metadata": {},
   "outputs": [],
   "source": [
    "g = simple_gen()"
   ]
  },
  {
   "cell_type": "code",
   "execution_count": 112,
   "id": "0fd813c3",
   "metadata": {},
   "outputs": [
    {
     "data": {
      "text/plain": [
       "<generator object simple_gen at 0x0000007067BAFF20>"
      ]
     },
     "execution_count": 112,
     "metadata": {},
     "output_type": "execute_result"
    }
   ],
   "source": [
    "g"
   ]
  },
  {
   "cell_type": "code",
   "execution_count": 113,
   "id": "a8d74a90",
   "metadata": {},
   "outputs": [
    {
     "name": "stdout",
     "output_type": "stream",
     "text": [
      "0\n"
     ]
    }
   ],
   "source": [
    "print(next(g))"
   ]
  },
  {
   "cell_type": "code",
   "execution_count": 114,
   "id": "5a4f2ba4",
   "metadata": {},
   "outputs": [
    {
     "name": "stdout",
     "output_type": "stream",
     "text": [
      "1\n"
     ]
    }
   ],
   "source": [
    "print(next(g))"
   ]
  },
  {
   "cell_type": "code",
   "execution_count": 115,
   "id": "c141685c",
   "metadata": {},
   "outputs": [
    {
     "name": "stdout",
     "output_type": "stream",
     "text": [
      "2\n"
     ]
    }
   ],
   "source": [
    "print(next(g))"
   ]
  },
  {
   "cell_type": "markdown",
   "id": "b092b349",
   "metadata": {},
   "source": [
    "it not holding the any thing in the memmory while it will generate the number at the run time "
   ]
  },
  {
   "cell_type": "code",
   "execution_count": 116,
   "id": "b0304ee8",
   "metadata": {},
   "outputs": [
    {
     "name": "stdout",
     "output_type": "stream",
     "text": [
      "3\n"
     ]
    }
   ],
   "source": [
    "print(next(g))"
   ]
  },
  {
   "cell_type": "code",
   "execution_count": 1,
   "id": "994f2b85",
   "metadata": {},
   "outputs": [
    {
     "ename": "ImportError",
     "evalue": "cannot import name 'counter' from 'collections' (D:\\New folder\\lib\\collections\\__init__.py)",
     "output_type": "error",
     "traceback": [
      "\u001b[1;31m---------------------------------------------------------------------------\u001b[0m",
      "\u001b[1;31mImportError\u001b[0m                               Traceback (most recent call last)",
      "\u001b[1;32m<ipython-input-1-b165e3e1ba30>\u001b[0m in \u001b[0;36m<module>\u001b[1;34m\u001b[0m\n\u001b[1;32m----> 1\u001b[1;33m \u001b[1;32mfrom\u001b[0m \u001b[0mcollections\u001b[0m \u001b[1;32mimport\u001b[0m \u001b[0mcounter\u001b[0m\u001b[1;33m\u001b[0m\u001b[1;33m\u001b[0m\u001b[0m\n\u001b[0m",
      "\u001b[1;31mImportError\u001b[0m: cannot import name 'counter' from 'collections' (D:\\New folder\\lib\\collections\\__init__.py)"
     ]
    }
   ],
   "source": [
    "from collections import counter"
   ]
  },
  {
   "cell_type": "code",
   "execution_count": 2,
   "id": "bc4067e8",
   "metadata": {},
   "outputs": [
    {
     "ename": "ImportError",
     "evalue": "cannot import name 'counter' from 'collections' (D:\\New folder\\lib\\collections\\__init__.py)",
     "output_type": "error",
     "traceback": [
      "\u001b[1;31m---------------------------------------------------------------------------\u001b[0m",
      "\u001b[1;31mImportError\u001b[0m                               Traceback (most recent call last)",
      "\u001b[1;32m<ipython-input-2-b165e3e1ba30>\u001b[0m in \u001b[0;36m<module>\u001b[1;34m\u001b[0m\n\u001b[1;32m----> 1\u001b[1;33m \u001b[1;32mfrom\u001b[0m \u001b[0mcollections\u001b[0m \u001b[1;32mimport\u001b[0m \u001b[0mcounter\u001b[0m\u001b[1;33m\u001b[0m\u001b[1;33m\u001b[0m\u001b[0m\n\u001b[0m",
      "\u001b[1;31mImportError\u001b[0m: cannot import name 'counter' from 'collections' (D:\\New folder\\lib\\collections\\__init__.py)"
     ]
    }
   ],
   "source": [
    "from collections import counter"
   ]
  },
  {
   "cell_type": "code",
   "execution_count": 3,
   "id": "7db7dd08",
   "metadata": {},
   "outputs": [
    {
     "ename": "ImportError",
     "evalue": "cannot import name 'counter' from 'collections' (D:\\New folder\\lib\\collections\\__init__.py)",
     "output_type": "error",
     "traceback": [
      "\u001b[1;31m---------------------------------------------------------------------------\u001b[0m",
      "\u001b[1;31mImportError\u001b[0m                               Traceback (most recent call last)",
      "\u001b[1;32m<ipython-input-3-b165e3e1ba30>\u001b[0m in \u001b[0;36m<module>\u001b[1;34m\u001b[0m\n\u001b[1;32m----> 1\u001b[1;33m \u001b[1;32mfrom\u001b[0m \u001b[0mcollections\u001b[0m \u001b[1;32mimport\u001b[0m \u001b[0mcounter\u001b[0m\u001b[1;33m\u001b[0m\u001b[1;33m\u001b[0m\u001b[0m\n\u001b[0m",
      "\u001b[1;31mImportError\u001b[0m: cannot import name 'counter' from 'collections' (D:\\New folder\\lib\\collections\\__init__.py)"
     ]
    }
   ],
   "source": [
    "from collections import counter"
   ]
  },
  {
   "cell_type": "code",
   "execution_count": 4,
   "id": "53f085c2",
   "metadata": {},
   "outputs": [],
   "source": [
    "lsit = [1,1,1,2,2,2,3,3,3,3,3]"
   ]
  },
  {
   "cell_type": "code",
   "execution_count": 5,
   "id": "5d21c574",
   "metadata": {},
   "outputs": [
    {
     "ename": "NameError",
     "evalue": "name 'counter' is not defined",
     "output_type": "error",
     "traceback": [
      "\u001b[1;31m---------------------------------------------------------------------------\u001b[0m",
      "\u001b[1;31mNameError\u001b[0m                                 Traceback (most recent call last)",
      "\u001b[1;32m<ipython-input-5-c49b836f1184>\u001b[0m in \u001b[0;36m<module>\u001b[1;34m\u001b[0m\n\u001b[1;32m----> 1\u001b[1;33m \u001b[0mcounter\u001b[0m\u001b[1;33m(\u001b[0m\u001b[0mlist\u001b[0m\u001b[1;33m)\u001b[0m\u001b[1;33m\u001b[0m\u001b[1;33m\u001b[0m\u001b[0m\n\u001b[0m",
      "\u001b[1;31mNameError\u001b[0m: name 'counter' is not defined"
     ]
    }
   ],
   "source": [
    "counter(list)"
   ]
  },
  {
   "cell_type": "code",
   "execution_count": 2,
   "id": "7dc42c83",
   "metadata": {},
   "outputs": [
    {
     "ename": "ImportError",
     "evalue": "cannot import name 'counter' from 'collections' (D:\\New folder\\lib\\collections\\__init__.py)",
     "output_type": "error",
     "traceback": [
      "\u001b[1;31m---------------------------------------------------------------------------\u001b[0m",
      "\u001b[1;31mImportError\u001b[0m                               Traceback (most recent call last)",
      "\u001b[1;32m<ipython-input-2-b165e3e1ba30>\u001b[0m in \u001b[0;36m<module>\u001b[1;34m\u001b[0m\n\u001b[1;32m----> 1\u001b[1;33m \u001b[1;32mfrom\u001b[0m \u001b[0mcollections\u001b[0m \u001b[1;32mimport\u001b[0m \u001b[0mcounter\u001b[0m\u001b[1;33m\u001b[0m\u001b[1;33m\u001b[0m\u001b[0m\n\u001b[0m",
      "\u001b[1;31mImportError\u001b[0m: cannot import name 'counter' from 'collections' (D:\\New folder\\lib\\collections\\__init__.py)"
     ]
    }
   ],
   "source": [
    "from collections import counter"
   ]
  },
  {
   "cell_type": "code",
   "execution_count": 7,
   "id": "eca227d7",
   "metadata": {},
   "outputs": [],
   "source": [
    "import requests"
   ]
  },
  {
   "cell_type": "code",
   "execution_count": 8,
   "id": "30cc73f4",
   "metadata": {},
   "outputs": [],
   "source": [
    "result = requests.get(\"http://www.example.com\")"
   ]
  },
  {
   "cell_type": "code",
   "execution_count": 9,
   "id": "690b4f3e",
   "metadata": {},
   "outputs": [
    {
     "data": {
      "text/plain": [
       "requests.models.Response"
      ]
     },
     "execution_count": 9,
     "metadata": {},
     "output_type": "execute_result"
    }
   ],
   "source": [
    "type(result)"
   ]
  },
  {
   "cell_type": "code",
   "execution_count": 10,
   "id": "c0a82e63",
   "metadata": {},
   "outputs": [
    {
     "data": {
      "text/plain": [
       "'<!doctype html>\\n<html>\\n<head>\\n    <title>Example Domain</title>\\n\\n    <meta charset=\"utf-8\" />\\n    <meta http-equiv=\"Content-type\" content=\"text/html; charset=utf-8\" />\\n    <meta name=\"viewport\" content=\"width=device-width, initial-scale=1\" />\\n    <style type=\"text/css\">\\n    body {\\n        background-color: #f0f0f2;\\n        margin: 0;\\n        padding: 0;\\n        font-family: -apple-system, system-ui, BlinkMacSystemFont, \"Segoe UI\", \"Open Sans\", \"Helvetica Neue\", Helvetica, Arial, sans-serif;\\n        \\n    }\\n    div {\\n        width: 600px;\\n        margin: 5em auto;\\n        padding: 2em;\\n        background-color: #fdfdff;\\n        border-radius: 0.5em;\\n        box-shadow: 2px 3px 7px 2px rgba(0,0,0,0.02);\\n    }\\n    a:link, a:visited {\\n        color: #38488f;\\n        text-decoration: none;\\n    }\\n    @media (max-width: 700px) {\\n        div {\\n            margin: 0 auto;\\n            width: auto;\\n        }\\n    }\\n    </style>    \\n</head>\\n\\n<body>\\n<div>\\n    <h1>Example Domain</h1>\\n    <p>This domain is for use in illustrative examples in documents. You may use this\\n    domain in literature without prior coordination or asking for permission.</p>\\n    <p><a href=\"https://www.iana.org/domains/example\">More information...</a></p>\\n</div>\\n</body>\\n</html>\\n'"
      ]
     },
     "execution_count": 10,
     "metadata": {},
     "output_type": "execute_result"
    }
   ],
   "source": [
    "result.text"
   ]
  },
  {
   "cell_type": "code",
   "execution_count": 11,
   "id": "20f06896",
   "metadata": {},
   "outputs": [],
   "source": [
    "import bs4"
   ]
  },
  {
   "cell_type": "code",
   "execution_count": 12,
   "id": "4171562c",
   "metadata": {},
   "outputs": [],
   "source": [
    "soup = bs4.BeautifulSoup(result.text,\"lxml\")"
   ]
  },
  {
   "cell_type": "code",
   "execution_count": 13,
   "id": "8b8dde28",
   "metadata": {},
   "outputs": [
    {
     "data": {
      "text/plain": [
       "<!DOCTYPE html>\n",
       "<html>\n",
       "<head>\n",
       "<title>Example Domain</title>\n",
       "<meta charset=\"utf-8\"/>\n",
       "<meta content=\"text/html; charset=utf-8\" http-equiv=\"Content-type\"/>\n",
       "<meta content=\"width=device-width, initial-scale=1\" name=\"viewport\"/>\n",
       "<style type=\"text/css\">\n",
       "    body {\n",
       "        background-color: #f0f0f2;\n",
       "        margin: 0;\n",
       "        padding: 0;\n",
       "        font-family: -apple-system, system-ui, BlinkMacSystemFont, \"Segoe UI\", \"Open Sans\", \"Helvetica Neue\", Helvetica, Arial, sans-serif;\n",
       "        \n",
       "    }\n",
       "    div {\n",
       "        width: 600px;\n",
       "        margin: 5em auto;\n",
       "        padding: 2em;\n",
       "        background-color: #fdfdff;\n",
       "        border-radius: 0.5em;\n",
       "        box-shadow: 2px 3px 7px 2px rgba(0,0,0,0.02);\n",
       "    }\n",
       "    a:link, a:visited {\n",
       "        color: #38488f;\n",
       "        text-decoration: none;\n",
       "    }\n",
       "    @media (max-width: 700px) {\n",
       "        div {\n",
       "            margin: 0 auto;\n",
       "            width: auto;\n",
       "        }\n",
       "    }\n",
       "    </style>\n",
       "</head>\n",
       "<body>\n",
       "<div>\n",
       "<h1>Example Domain</h1>\n",
       "<p>This domain is for use in illustrative examples in documents. You may use this\n",
       "    domain in literature without prior coordination or asking for permission.</p>\n",
       "<p><a href=\"https://www.iana.org/domains/example\">More information...</a></p>\n",
       "</div>\n",
       "</body>\n",
       "</html>"
      ]
     },
     "execution_count": 13,
     "metadata": {},
     "output_type": "execute_result"
    }
   ],
   "source": [
    "soup "
   ]
  },
  {
   "cell_type": "code",
   "execution_count": 14,
   "id": "4dc0d307",
   "metadata": {},
   "outputs": [
    {
     "data": {
      "text/plain": [
       "'Example Domain'"
      ]
     },
     "execution_count": 14,
     "metadata": {},
     "output_type": "execute_result"
    }
   ],
   "source": [
    "soup.select('title')[0].getText()"
   ]
  },
  {
   "cell_type": "code",
   "execution_count": 15,
   "id": "57b344ef",
   "metadata": {},
   "outputs": [],
   "source": [
    "site_para = soup.select('p')"
   ]
  },
  {
   "cell_type": "code",
   "execution_count": 16,
   "id": "8249ffd8",
   "metadata": {},
   "outputs": [
    {
     "data": {
      "text/plain": [
       "'This domain is for use in illustrative examples in documents. You may use this\\n    domain in literature without prior coordination or asking for permission.'"
      ]
     },
     "execution_count": 16,
     "metadata": {},
     "output_type": "execute_result"
    }
   ],
   "source": [
    "site_para[0].getText()"
   ]
  },
  {
   "cell_type": "code",
   "execution_count": 17,
   "id": "0b0edeba",
   "metadata": {},
   "outputs": [],
   "source": [
    "res = requests.get(\"https://en.wikipedia.org/wiki/Grace_Hopper\")"
   ]
  },
  {
   "cell_type": "code",
   "execution_count": 31,
   "id": "737994cb",
   "metadata": {},
   "outputs": [],
   "source": [
    "soup = bs4.BeautifulSoup(res.text,\"lxml\")"
   ]
  },
  {
   "cell_type": "code",
   "execution_count": 40,
   "id": "42345b8d",
   "metadata": {},
   "outputs": [],
   "source": [
    "First_item = soup.select('.toctext')"
   ]
  },
  {
   "cell_type": "code",
   "execution_count": 43,
   "id": "4ac2aa9a",
   "metadata": {},
   "outputs": [
    {
     "name": "stdout",
     "output_type": "stream",
     "text": [
      "Early life and education\n",
      "Career\n",
      "World War II\n",
      "UNIVAC\n",
      "COBOL\n",
      "Standards\n",
      "Retirement\n",
      "Post-retirement\n",
      "Anecdotes\n",
      "Death\n",
      "Dates of rank\n",
      "Awards and honors\n",
      "Military awards\n",
      "Other awards\n",
      "Legacy\n",
      "Places\n",
      "Programs\n",
      "In popular culture\n",
      "Grace Hopper Celebration of Women in Computing\n",
      "See also\n",
      "Notes\n",
      "Obituary notices\n",
      "References\n",
      "Further reading\n",
      "External links\n"
     ]
    }
   ],
   "source": [
    "for item in soup.select('.toctext'):\n",
    "    print(item.text)"
   ]
  },
  {
   "cell_type": "markdown",
   "id": "c2d67d22",
   "metadata": {},
   "source": [
    "PIL python imaging lib."
   ]
  },
  {
   "cell_type": "code",
   "execution_count": 44,
   "id": "450b70cf",
   "metadata": {},
   "outputs": [],
   "source": [
    "from PIL import Image "
   ]
  },
  {
   "cell_type": "code",
   "execution_count": 48,
   "id": "038ca7ee",
   "metadata": {},
   "outputs": [],
   "source": [
    "mac =  Image.open('hec.png')"
   ]
  },
  {
   "cell_type": "code",
   "execution_count": 49,
   "id": "d866581d",
   "metadata": {},
   "outputs": [
    {
     "data": {
      "text/plain": [
       "PIL.PngImagePlugin.PngImageFile"
      ]
     },
     "execution_count": 49,
     "metadata": {},
     "output_type": "execute_result"
    }
   ],
   "source": [
    "type(mac)"
   ]
  },
  {
   "cell_type": "code",
   "execution_count": 52,
   "id": "734aa6ca",
   "metadata": {},
   "outputs": [
    {
     "data": {
      "text/plain": [
       "'hec.png'"
      ]
     },
     "execution_count": 52,
     "metadata": {},
     "output_type": "execute_result"
    }
   ],
   "source": [
    "mac.filename"
   ]
  },
  {
   "cell_type": "markdown",
   "id": "5c555c87",
   "metadata": {},
   "source": [
    "Cropping Image"
   ]
  },
  {
   "cell_type": "code",
   "execution_count": 56,
   "id": "ffa19df5",
   "metadata": {},
   "outputs": [
    {
     "data": {
      "image/png": "[encoded data removed]",
      "text/plain": [
       "<PIL.Image.Image image mode=RGB size=100x100 at 0xACA3B19370>"
      ]
     },
     "execution_count": 56,
     "metadata": {},
     "output_type": "execute_result"
    }
   ],
   "source": [
    "mac.crop((0,0,100,100))"
   ]
  },
  {
   "cell_type": "markdown",
   "id": "4205fd0b",
   "metadata": {},
   "source": [
    "pdf and spread sheets  "
   ]
  },
  {
   "cell_type": "markdown",
   "id": "e529e1d9",
   "metadata": {},
   "source": [
    "pandas for data analysis lib. for CSV file "
   ]
  },
  {
   "cell_type": "markdown",
   "id": "dafe4cc7",
   "metadata": {},
   "source": [
    "open pyxl for same work as vsc files "
   ]
  },
  {
   "cell_type": "markdown",
   "id": "34a21176",
   "metadata": {},
   "source": [
    "google sheet python API"
   ]
  },
  {
   "cell_type": "code",
   "execution_count": 57,
   "id": "36fbef17",
   "metadata": {},
   "outputs": [
    {
     "data": {
      "text/plain": [
       "'C:\\\\Users\\\\Hisham Khalil'"
      ]
     },
     "execution_count": 57,
     "metadata": {},
     "output_type": "execute_result"
    }
   ],
   "source": [
    "pwd"
   ]
  },
  {
   "cell_type": "code",
   "execution_count": 27,
   "id": "e0327f4b",
   "metadata": {},
   "outputs": [],
   "source": [
    "import csv"
   ]
  },
  {
   "cell_type": "code",
   "execution_count": 43,
   "id": "e8251ba3",
   "metadata": {},
   "outputs": [],
   "source": [
    "#open file \n",
    "\n",
    "data = open('myfile.xlsx',encoding='UTF-8')\n",
    "# csv.reader \n",
    "csv_data = csv.reader(data)\n",
    "# reformat "
   ]
  },
  {
   "cell_type": "code",
   "execution_count": 44,
   "id": "d4223a8a",
   "metadata": {},
   "outputs": [
    {
     "ename": "UnicodeDecodeError",
     "evalue": "'utf-8' codec can't decode bytes in position 15-16: invalid continuation byte",
     "output_type": "error",
     "traceback": [
      "\u001b[1;31m---------------------------------------------------------------------------\u001b[0m",
      "\u001b[1;31mUnicodeDecodeError\u001b[0m                        Traceback (most recent call last)",
      "\u001b[1;32m<ipython-input-44-1f501450909b>\u001b[0m in \u001b[0;36m<module>\u001b[1;34m\u001b[0m\n\u001b[1;32m----> 1\u001b[1;33m \u001b[0mdata_lines\u001b[0m \u001b[1;33m=\u001b[0m \u001b[0mlist\u001b[0m\u001b[1;33m(\u001b[0m\u001b[0mcsv_data\u001b[0m\u001b[1;33m)\u001b[0m\u001b[1;33m\u001b[0m\u001b[1;33m\u001b[0m\u001b[0m\n\u001b[0m",
      "\u001b[1;32mD:\\New folder\\lib\\codecs.py\u001b[0m in \u001b[0;36mdecode\u001b[1;34m(self, input, final)\u001b[0m\n\u001b[0;32m    320\u001b[0m         \u001b[1;31m# decode input (taking the buffer into account)\u001b[0m\u001b[1;33m\u001b[0m\u001b[1;33m\u001b[0m\u001b[1;33m\u001b[0m\u001b[0m\n\u001b[0;32m    321\u001b[0m         \u001b[0mdata\u001b[0m \u001b[1;33m=\u001b[0m \u001b[0mself\u001b[0m\u001b[1;33m.\u001b[0m\u001b[0mbuffer\u001b[0m \u001b[1;33m+\u001b[0m \u001b[0minput\u001b[0m\u001b[1;33m\u001b[0m\u001b[1;33m\u001b[0m\u001b[0m\n\u001b[1;32m--> 322\u001b[1;33m         \u001b[1;33m(\u001b[0m\u001b[0mresult\u001b[0m\u001b[1;33m,\u001b[0m \u001b[0mconsumed\u001b[0m\u001b[1;33m)\u001b[0m \u001b[1;33m=\u001b[0m \u001b[0mself\u001b[0m\u001b[1;33m.\u001b[0m\u001b[0m_buffer_decode\u001b[0m\u001b[1;33m(\u001b[0m\u001b[0mdata\u001b[0m\u001b[1;33m,\u001b[0m \u001b[0mself\u001b[0m\u001b[1;33m.\u001b[0m\u001b[0merrors\u001b[0m\u001b[1;33m,\u001b[0m \u001b[0mfinal\u001b[0m\u001b[1;33m)\u001b[0m\u001b[1;33m\u001b[0m\u001b[1;33m\u001b[0m\u001b[0m\n\u001b[0m\u001b[0;32m    323\u001b[0m         \u001b[1;31m# keep undecoded input until the next call\u001b[0m\u001b[1;33m\u001b[0m\u001b[1;33m\u001b[0m\u001b[1;33m\u001b[0m\u001b[0m\n\u001b[0;32m    324\u001b[0m         \u001b[0mself\u001b[0m\u001b[1;33m.\u001b[0m\u001b[0mbuffer\u001b[0m \u001b[1;33m=\u001b[0m \u001b[0mdata\u001b[0m\u001b[1;33m[\u001b[0m\u001b[0mconsumed\u001b[0m\u001b[1;33m:\u001b[0m\u001b[1;33m]\u001b[0m\u001b[1;33m\u001b[0m\u001b[1;33m\u001b[0m\u001b[0m\n",
      "\u001b[1;31mUnicodeDecodeError\u001b[0m: 'utf-8' codec can't decode bytes in position 15-16: invalid continuation byte"
     ]
    }
   ],
   "source": [
    "data_lines = list(csv_data)"
   ]
  },
  {
   "cell_type": "code",
   "execution_count": 19,
   "id": "820adc48",
   "metadata": {},
   "outputs": [
    {
     "ename": "NameError",
     "evalue": "name 'data_lines' is not defined",
     "output_type": "error",
     "traceback": [
      "\u001b[1;31m---------------------------------------------------------------------------\u001b[0m",
      "\u001b[1;31mNameError\u001b[0m                                 Traceback (most recent call last)",
      "\u001b[1;32m<ipython-input-19-1317c9a86c7d>\u001b[0m in \u001b[0;36m<module>\u001b[1;34m\u001b[0m\n\u001b[1;32m----> 1\u001b[1;33m \u001b[0mdata_lines\u001b[0m\u001b[1;33m\u001b[0m\u001b[1;33m\u001b[0m\u001b[0m\n\u001b[0m",
      "\u001b[1;31mNameError\u001b[0m: name 'data_lines' is not defined"
     ]
    }
   ],
   "source": [
    "data_lines "
   ]
  },
  {
   "cell_type": "code",
   "execution_count": null,
   "id": "7e7dc0aa",
   "metadata": {},
   "outputs": [],
   "source": []
  }
 ],
 "metadata": {
  "kernelspec": {
   "display_name": "Python 3",
   "language": "python",
   "name": "python3"
  },
  "language_info": {
   "codemirror_mode": {
    "name": "ipython",
    "version": 3
   },
   "file_extension": ".py",
   "mimetype": "text/x-python",
   "name": "python",
   "nbconvert_exporter": "python",
   "pygments_lexer": "ipython3",
   "version": "3.8.8"
  }
 },
 "nbformat": 4,
 "nbformat_minor": 5
}
