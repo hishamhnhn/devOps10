{
 "cells": [
  {
   "cell_type": "code",
   "execution_count": 7,
   "id": "afd26fa0",
   "metadata": {},
   "outputs": [],
   "source": [
    "import numpy as np"
   ]
  },
  {
   "cell_type": "code",
   "execution_count": 25,
   "id": "ea6ccb8f",
   "metadata": {},
   "outputs": [],
   "source": [
    "a = np.arange(3).reshape(3, 1)"
   ]
  },
  {
   "cell_type": "code",
   "execution_count": 14,
   "id": "ff372e7a",
   "metadata": {},
   "outputs": [
    {
     "data": {
      "text/plain": [
       "array([[ 0,  1,  2,  3,  4],\n",
       "       [ 5,  6,  7,  8,  9],\n",
       "       [10, 11, 12, 13, 14]])"
      ]
     },
     "execution_count": 14,
     "metadata": {},
     "output_type": "execute_result"
    }
   ],
   "source": [
    "a"
   ]
  },
  {
   "cell_type": "code",
   "execution_count": null,
   "id": "6e82c66a",
   "metadata": {},
   "outputs": [],
   "source": []
  },
  {
   "cell_type": "code",
   "execution_count": 13,
   "id": "1cf9a523",
   "metadata": {},
   "outputs": [
    {
     "data": {
      "text/plain": [
       "'int32'"
      ]
     },
     "execution_count": 13,
     "metadata": {},
     "output_type": "execute_result"
    }
   ],
   "source": [
    "a.dtype.name"
   ]
  },
  {
   "cell_type": "code",
   "execution_count": 26,
   "id": "cf941a3c",
   "metadata": {},
   "outputs": [
    {
     "data": {
      "text/plain": [
       "[[1.0, 0.0, 0.0], [0.0, 1.0, 2.0]]"
      ]
     },
     "execution_count": 26,
     "metadata": {},
     "output_type": "execute_result"
    }
   ],
   "source": [
    "[[1., 0., 0.],\n",
    "[0., 1., 2.]]"
   ]
  },
  {
   "cell_type": "code",
   "execution_count": 27,
   "id": "8db401ac",
   "metadata": {},
   "outputs": [
    {
     "data": {
      "text/plain": [
       "1.0"
      ]
     },
     "execution_count": 27,
     "metadata": {},
     "output_type": "execute_result"
    }
   ],
   "source": [
    "1."
   ]
  },
  {
   "cell_type": "code",
   "execution_count": 28,
   "id": "ef91064a",
   "metadata": {},
   "outputs": [
    {
     "data": {
      "text/plain": [
       "1"
      ]
     },
     "execution_count": 28,
     "metadata": {},
     "output_type": "execute_result"
    }
   ],
   "source": [
    "1"
   ]
  },
  {
   "cell_type": "code",
   "execution_count": 29,
   "id": "39429045",
   "metadata": {},
   "outputs": [],
   "source": [
    "a = np.arange(10)**3"
   ]
  },
  {
   "cell_type": "code",
   "execution_count": 35,
   "id": "dc92512a",
   "metadata": {},
   "outputs": [],
   "source": [
    "a[:6:2]=100"
   ]
  },
  {
   "cell_type": "code",
   "execution_count": 36,
   "id": "5ae6b550",
   "metadata": {},
   "outputs": [
    {
     "data": {
      "text/plain": [
       "array([100,   1, 100,  27, 100, 125, 216, 343, 512, 729], dtype=int32)"
      ]
     },
     "execution_count": 36,
     "metadata": {},
     "output_type": "execute_result"
    }
   ],
   "source": [
    "a"
   ]
  },
  {
   "cell_type": "code",
   "execution_count": 47,
   "id": "1acc599a",
   "metadata": {},
   "outputs": [
    {
     "name": "stdout",
     "output_type": "stream",
     "text": [
      "8\n",
      "16\n",
      "44\n",
      "22\n",
      "40\n",
      "16\n"
     ]
    }
   ],
   "source": [
    "import numpy as np\n",
    "arr1 = np.array([[8, 16, 44],[22, 40, 16]])\n",
    "for x in arr1:\n",
    "    for y in x:\n",
    "        print(y)"
   ]
  },
  {
   "cell_type": "code",
   "execution_count": 53,
   "id": "8e6c8aa2",
   "metadata": {},
   "outputs": [
    {
     "data": {
      "text/plain": [
       "array([1, 1, 2, 2, 2, 5, 6])"
      ]
     },
     "execution_count": 53,
     "metadata": {},
     "output_type": "execute_result"
    }
   ],
   "source": [
    "np.sort([5, 2,2,6, 2, 1,1])"
   ]
  },
  {
   "cell_type": "code",
   "execution_count": 54,
   "id": "a9f6d401",
   "metadata": {},
   "outputs": [
    {
     "ename": "NameError",
     "evalue": "name 'rng' is not defined",
     "output_type": "error",
     "traceback": [
      "\u001b[1;31m---------------------------------------------------------------------------\u001b[0m",
      "\u001b[1;31mNameError\u001b[0m                                 Traceback (most recent call last)",
      "\u001b[1;32m<ipython-input-54-5a3482f617a8>\u001b[0m in \u001b[0;36m<module>\u001b[1;34m\u001b[0m\n\u001b[1;32m----> 1\u001b[1;33m \u001b[0mrng\u001b[0m\u001b[1;33m.\u001b[0m\u001b[0mintegers\u001b[0m\u001b[1;33m(\u001b[0m\u001b[1;36m5\u001b[0m\u001b[1;33m,\u001b[0m \u001b[0msize\u001b[0m\u001b[1;33m=\u001b[0m\u001b[1;33m(\u001b[0m\u001b[1;36m2\u001b[0m\u001b[1;33m,\u001b[0m \u001b[1;36m4\u001b[0m\u001b[1;33m)\u001b[0m\u001b[1;33m)\u001b[0m\u001b[1;33m\u001b[0m\u001b[1;33m\u001b[0m\u001b[0m\n\u001b[0m",
      "\u001b[1;31mNameError\u001b[0m: name 'rng' is not defined"
     ]
    }
   ],
   "source": [
    "rng.integers(5, size=(2, 4))"
   ]
  },
  {
   "cell_type": "code",
   "execution_count": 91,
   "id": "e822b5b2",
   "metadata": {},
   "outputs": [
    {
     "name": "stdout",
     "output_type": "stream",
     "text": [
      "[[[  1  76 128]\n",
      "  [  1  76 128]\n",
      "  [  1  76 128]\n",
      "  ...\n",
      "  [206  18 105]\n",
      "  [206  18 105]\n",
      "  [206  18 105]]\n",
      "\n",
      " [[  1  76 128]\n",
      "  [  1  76 128]\n",
      "  [  1  76 128]\n",
      "  ...\n",
      "  [206  18 105]\n",
      "  [206  18 105]\n",
      "  [206  18 105]]\n",
      "\n",
      " [[  1  76 128]\n",
      "  [  1  76 128]\n",
      "  [  1  76 128]\n",
      "  ...\n",
      "  [206  18 105]\n",
      "  [206  18 105]\n",
      "  [206  18 105]]\n",
      "\n",
      " ...\n",
      "\n",
      " [[ 22  46 176]\n",
      "  [ 22  46 175]\n",
      "  [ 22  46 175]\n",
      "  ...\n",
      "  [ 21  45 175]\n",
      "  [ 21  45 175]\n",
      "  [ 21  45 175]]\n",
      "\n",
      " [[ 22  46 176]\n",
      "  [ 22  46 175]\n",
      "  [ 22  46 175]\n",
      "  ...\n",
      "  [ 21  45 175]\n",
      "  [ 21  45 175]\n",
      "  [ 21  45 175]]\n",
      "\n",
      " [[ 22  45 177]\n",
      "  [ 22  45 176]\n",
      "  [ 22  45 176]\n",
      "  ...\n",
      "  [ 21  44 176]\n",
      "  [ 21  44 176]\n",
      "  [ 21  44 176]]]\n"
     ]
    }
   ],
   "source": [
    "# Import the necessary libraries\n",
    "from PIL import Image\n",
    "from numpy import asarray\n",
    "\n",
    "\n",
    "# load the image and convert into\n",
    "# numpy array\n",
    "img = Image.open('mob.png')\n",
    "numpydata = asarray(img)\n",
    "\n",
    "# data\n",
    "print(numpydata)\n"
   ]
  },
  {
   "cell_type": "code",
   "execution_count": 116,
   "id": "b7d9f69b",
   "metadata": {},
   "outputs": [
    {
     "data": {
      "text/plain": [
       "(805, 863)"
      ]
     },
     "execution_count": 116,
     "metadata": {},
     "output_type": "execute_result"
    }
   ],
   "source": [
    "img.size"
   ]
  },
  {
   "cell_type": "code",
   "execution_count": 108,
   "id": "0db68fa8",
   "metadata": {},
   "outputs": [
    {
     "data": {
      "text/plain": [
       "array([[[  1,  76, 128],\n",
       "        [  1,  76, 128],\n",
       "        [  1,  76, 128],\n",
       "        ...,\n",
       "        [206,  18, 105],\n",
       "        [206,  18, 105],\n",
       "        [206,  18, 105]],\n",
       "\n",
       "       [[  1,  76, 128],\n",
       "        [  1,  76, 128],\n",
       "        [  1,  76, 128],\n",
       "        ...,\n",
       "        [206,  18, 105],\n",
       "        [206,  18, 105],\n",
       "        [206,  18, 105]],\n",
       "\n",
       "       [[  1,  76, 128],\n",
       "        [  1,  76, 128],\n",
       "        [  1,  76, 128],\n",
       "        ...,\n",
       "        [206,  18, 105],\n",
       "        [206,  18, 105],\n",
       "        [206,  18, 105]],\n",
       "\n",
       "       ...,\n",
       "\n",
       "       [[ 22,  46, 176],\n",
       "        [ 22,  46, 175],\n",
       "        [ 22,  46, 175],\n",
       "        ...,\n",
       "        [ 21,  45, 175],\n",
       "        [ 21,  45, 175],\n",
       "        [ 21,  45, 175]],\n",
       "\n",
       "       [[ 22,  46, 176],\n",
       "        [ 22,  46, 175],\n",
       "        [ 22,  46, 175],\n",
       "        ...,\n",
       "        [ 21,  45, 175],\n",
       "        [ 21,  45, 175],\n",
       "        [ 21,  45, 175]],\n",
       "\n",
       "       [[ 22,  45, 177],\n",
       "        [ 22,  45, 176],\n",
       "        [ 22,  45, 176],\n",
       "        ...,\n",
       "        [ 21,  44, 176],\n",
       "        [ 21,  44, 176],\n",
       "        [ 21,  44, 176]]], dtype=uint8)"
      ]
     },
     "execution_count": 108,
     "metadata": {},
     "output_type": "execute_result"
    }
   ],
   "source": [
    "numpydata"
   ]
  },
  {
   "cell_type": "code",
   "execution_count": 123,
   "id": "a293e3aa",
   "metadata": {},
   "outputs": [
    {
     "data": {
      "text/plain": [
       "array([[[  1,  76, 128],\n",
       "        [  1,  76, 128],\n",
       "        [  1,  76, 128],\n",
       "        ...,\n",
       "        [ 18, 105, 206],\n",
       "        [ 18, 105, 206],\n",
       "        [ 18, 105, 206]],\n",
       "\n",
       "       [[  1,  76, 128],\n",
       "        [  1,  76, 128],\n",
       "        [  1,  76, 128],\n",
       "        ...,\n",
       "        [ 18, 105, 206],\n",
       "        [ 18, 105, 206],\n",
       "        [ 18, 105, 206]],\n",
       "\n",
       "       [[  1,  76, 128],\n",
       "        [  1,  76, 128],\n",
       "        [  1,  76, 128],\n",
       "        ...,\n",
       "        [ 18, 105, 206],\n",
       "        [ 18, 105, 206],\n",
       "        [ 18, 105, 206]],\n",
       "\n",
       "       ...,\n",
       "\n",
       "       [[ 22,  46, 176],\n",
       "        [ 22,  46, 175],\n",
       "        [ 22,  46, 175],\n",
       "        ...,\n",
       "        [ 21,  45, 175],\n",
       "        [ 21,  45, 175],\n",
       "        [ 21,  45, 175]],\n",
       "\n",
       "       [[ 22,  46, 176],\n",
       "        [ 22,  46, 175],\n",
       "        [ 22,  46, 175],\n",
       "        ...,\n",
       "        [ 21,  45, 175],\n",
       "        [ 21,  45, 175],\n",
       "        [ 21,  45, 175]],\n",
       "\n",
       "       [[ 22,  45, 177],\n",
       "        [ 22,  45, 176],\n",
       "        [ 22,  45, 176],\n",
       "        ...,\n",
       "        [ 21,  44, 176],\n",
       "        [ 21,  44, 176],\n",
       "        [ 21,  44, 176]]], dtype=uint8)"
      ]
     },
     "execution_count": 123,
     "metadata": {},
     "output_type": "execute_result"
    }
   ],
   "source": [
    "a=np.sort(numpydata)\n",
    "a"
   ]
  },
  {
   "cell_type": "code",
   "execution_count": 124,
   "id": "252ca6fa",
   "metadata": {},
   "outputs": [],
   "source": [
    "a=a[:400,:400]"
   ]
  },
  {
   "cell_type": "code",
   "execution_count": 163,
   "id": "6d78a587",
   "metadata": {},
   "outputs": [],
   "source": [
    "from PIL import Image\n",
    "newimage = Image.new('RGB', (len(a[0]), len(a)))  # type, size\n",
    "newimage.putdata([tuple(p) for row in a for p in row])\n",
    "newimage.save(\"filename1.png\")  # takes type from filename extension"
   ]
  },
  {
   "cell_type": "code",
   "execution_count": 167,
   "id": "2cde6745",
   "metadata": {},
   "outputs": [
    {
     "data": {
      "text/plain": [
       "(400, 400, 3)"
      ]
     },
     "execution_count": 167,
     "metadata": {},
     "output_type": "execute_result"
    }
   ],
   "source": [
    "a.shape"
   ]
  },
  {
   "cell_type": "code",
   "execution_count": 181,
   "id": "f3657e06",
   "metadata": {},
   "outputs": [
    {
     "data": {
      "text/plain": [
       "array([0. , 1.5, 3. , 4.5, 6. ])"
      ]
     },
     "execution_count": 181,
     "metadata": {},
     "output_type": "execute_result"
    }
   ],
   "source": [
    "np.linspace(0,6,5 )"
   ]
  },
  {
   "cell_type": "code",
   "execution_count": 184,
   "id": "a5e20f63",
   "metadata": {},
   "outputs": [
    {
     "data": {
      "text/plain": [
       "6.0"
      ]
     },
     "execution_count": 184,
     "metadata": {},
     "output_type": "execute_result"
    }
   ],
   "source": [
    "6/4*4"
   ]
  },
  {
   "cell_type": "code",
   "execution_count": 172,
   "id": "e475aa8e",
   "metadata": {},
   "outputs": [],
   "source": [
    "a = 2\n",
    "b=3\n",
    "c = a+b"
   ]
  },
  {
   "cell_type": "code",
   "execution_count": 173,
   "id": "87881f73",
   "metadata": {},
   "outputs": [
    {
     "data": {
      "text/plain": [
       "5"
      ]
     },
     "execution_count": 173,
     "metadata": {},
     "output_type": "execute_result"
    }
   ],
   "source": [
    "c"
   ]
  },
  {
   "cell_type": "code",
   "execution_count": 174,
   "id": "e8b43935",
   "metadata": {},
   "outputs": [
    {
     "name": "stdout",
     "output_type": "stream",
     "text": [
      "welcome\n"
     ]
    }
   ],
   "source": [
    "print('welcome')"
   ]
  },
  {
   "cell_type": "code",
   "execution_count": 176,
   "id": "80d30480",
   "metadata": {},
   "outputs": [
    {
     "data": {
      "text/plain": [
       "array([[ 0,  1,  2,  3,  4,  5,  6,  7,  8,  9],\n",
       "       [10, 11, 12, 13, 14, 15, 16, 17, 18, 19],\n",
       "       [20, 21, 22, 23, 24, 25, 26, 27, 28, 29],\n",
       "       [30, 31, 32, 33, 34, 35, 36, 37, 38, 39],\n",
       "       [40, 41, 42, 43, 44, 45, 46, 47, 48, 49],\n",
       "       [50, 51, 52, 53, 54, 55, 56, 57, 58, 59],\n",
       "       [60, 61, 62, 63, 64, 65, 66, 67, 68, 69],\n",
       "       [70, 71, 72, 73, 74, 75, 76, 77, 78, 79],\n",
       "       [80, 81, 82, 83, 84, 85, 86, 87, 88, 89],\n",
       "       [90, 91, 92, 93, 94, 95, 96, 97, 98, 99]])"
      ]
     },
     "execution_count": 176,
     "metadata": {},
     "output_type": "execute_result"
    }
   ],
   "source": [
    "e = np.arange(100).reshape(10,10)\n",
    "e"
   ]
  },
  {
   "cell_type": "code",
   "execution_count": 177,
   "id": "1fccad79",
   "metadata": {},
   "outputs": [
    {
     "data": {
      "text/plain": [
       "array([[22, 23, 24, 25, 26, 27],\n",
       "       [32, 33, 34, 35, 36, 37],\n",
       "       [42, 43, 44, 45, 46, 47],\n",
       "       [52, 53, 54, 55, 56, 57],\n",
       "       [62, 63, 64, 65, 66, 67],\n",
       "       [72, 73, 74, 75, 76, 77]])"
      ]
     },
     "execution_count": 177,
     "metadata": {},
     "output_type": "execute_result"
    }
   ],
   "source": [
    "e[2:8,2:8]"
   ]
  },
  {
   "cell_type": "code",
   "execution_count": null,
   "id": "83f0fac4",
   "metadata": {},
   "outputs": [],
   "source": []
  }
 ],
 "metadata": {
  "kernelspec": {
   "display_name": "Python 3",
   "language": "python",
   "name": "python3"
  },
  "language_info": {
   "codemirror_mode": {
    "name": "ipython",
    "version": 3
   },
   "file_extension": ".py",
   "mimetype": "text/x-python",
   "name": "python",
   "nbconvert_exporter": "python",
   "pygments_lexer": "ipython3",
   "version": "3.8.8"
  }
 },
 "nbformat": 4,
 "nbformat_minor": 5
}
