{
 "cells": [
  {
   "cell_type": "code",
   "execution_count": 3,
   "id": "45e95f8e",
   "metadata": {},
   "outputs": [],
   "source": [
    "\n",
    "# import the turtle modules\n",
    "import turtle\n",
    " \n",
    "# Start a work Screen\n",
    "ws = turtle.Screen()\n",
    " \n",
    "# Define a Turtle Instance\n",
    "geekyTurtle = turtle.Turtle()\n",
    " \n",
    "# executing loop 6 times for 6 sides\n",
    "for i in range(6):\n",
    " \n",
    "    # Move forward by 90 units\n",
    "    geekyTurtle.forward(90)\n",
    " \n",
    "    # Turn left the turtle by 300 degrees\n",
    "    geekyTurtle.left(300)"
   ]
  },
  {
   "cell_type": "code",
   "execution_count": null,
   "id": "3087ef4b",
   "metadata": {},
   "outputs": [],
   "source": []
  }
 ],
 "metadata": {
  "kernelspec": {
   "display_name": "Python 3",
   "language": "python",
   "name": "python3"
  },
  "language_info": {
   "codemirror_mode": {
    "name": "ipython",
    "version": 3
   },
   "file_extension": ".py",
   "mimetype": "text/x-python",
   "name": "python",
   "nbconvert_exporter": "python",
   "pygments_lexer": "ipython3",
   "version": "3.8.8"
  }
 },
 "nbformat": 4,
 "nbformat_minor": 5
}
